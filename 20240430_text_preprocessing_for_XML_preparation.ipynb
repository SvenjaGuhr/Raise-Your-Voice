{
 "cells": [
  {
   "cell_type": "markdown",
   "source": [
    "## Chose the extension of the training data: automatically preannotate, manually control and correct the false positives"
   ],
   "metadata": {
    "collapsed": false
   },
   "id": "596a959a8cbd699b"
  },
  {
   "cell_type": "code",
   "outputs": [
    {
     "name": "stdout",
     "output_type": "stream",
     "text": [
      "[276, 207, 1018, 347, 703, 1171, 489, 513, 532, 828, 1006, 396, 1023, 121, 232, 1143, 439, 1136, 115, 977, 257, 478, 443, 417, 1026, 407, 946, 616, 997, 418, 95, 807, 210, 203, 1064, 504, 1314, 835, 1250, 1177, 111, 283, 1058, 1416, 505, 1125, 37, 173, 180, 992]\n"
     ]
    }
   ],
   "source": [
    "# random number generator to choose files for a random set of texts.\n",
    "import random\n",
    "\n",
    "# Generate a list of 50 random numbers between 1 and 1417\n",
    "random_numbers = [random.randint(1, 1417) for _ in range(50)]\n",
    "\n",
    "print(random_numbers)\n",
    "\n",
    "# old list from 04.04.2024: [1043, 1164, 869, 374, 53, 714, 510, 354, 1005, 690, 389, 612, 258, 1320, 131, 594, 1030, 995, 1309, 1085, 1218, 709, 276, 1008, 212, 220, 254, 1048, 720, 1339, 414, 1394, 1155, 91, 181, 458, 584, 1039, 204, 333, 569, 604, 753, 772, 467, 57, 659, 106, 273, 190]"
   ],
   "metadata": {
    "collapsed": false,
    "ExecuteTime": {
     "end_time": "2024-05-01T08:17:38.235581Z",
     "start_time": "2024-05-01T08:17:38.233054Z"
    }
   },
   "id": "60bd06feff1f851e",
   "execution_count": 59
  },
  {
   "cell_type": "code",
   "outputs": [
    {
     "name": "stdout",
     "output_type": "stream",
     "text": [
      "Copied 'Essig_Hermann_Novellen_Der_Hundsbiss.txt' to '/Users/sguhr/Desktop/Diss_notebooks/Diss_data_notebooks_man_anno/Subcorpora/20240501_Subcorpus_1916-1920'\n",
      "Copied 'Pappenheim_Bertha_Erzaehlungen_Der_Wunderrabbi.txt' to '/Users/sguhr/Desktop/Diss_notebooks/Diss_data_notebooks_man_anno/Subcorpora/20240501_Subcorpus_1916-1920'\n",
      "Copied 'Klabund_Die_Krankheit.txt' to '/Users/sguhr/Desktop/Diss_notebooks/Diss_data_notebooks_man_anno/Subcorpora/20240501_Subcorpus_1916-1920'\n",
      "Copied 'Pappenheim_Bertha_Erzaehlungen_Der_Erloeser.txt' to '/Users/sguhr/Desktop/Diss_notebooks/Diss_data_notebooks_man_anno/Subcorpora/20240501_Subcorpus_1916-1920'\n",
      "Copied 'Wohlbrueck_Olga_Des_Ratsherrn_Leinius_Tochter.txt' to '/Users/sguhr/Desktop/Diss_notebooks/Diss_data_notebooks_man_anno/Subcorpora/20240501_Subcorpus_1916-1920'\n",
      "Copied 'Flex_Walter_Der_Wanderer.txt' to '/Users/sguhr/Desktop/Diss_notebooks/Diss_data_notebooks_man_anno/Subcorpora/20240501_Subcorpus_1916-1920'\n",
      "Copied 'von_Keyserling_Eduard_Am_Suedhang.txt' to '/Users/sguhr/Desktop/Diss_notebooks/Diss_data_notebooks_man_anno/Subcorpora/20240501_Subcorpus_1916-1920'\n",
      "Copied 'Reuter_Gabriele_Ins_neue_Land.txt' to '/Users/sguhr/Desktop/Diss_notebooks/Diss_data_notebooks_man_anno/Subcorpora/20240501_Subcorpus_1916-1920'\n",
      "Copied 'von_Wolzogen_Ernst_Das_Maedchen.txt' to '/Users/sguhr/Desktop/Diss_notebooks/Diss_data_notebooks_man_anno/Subcorpora/20240501_Subcorpus_1916-1920'\n",
      "Copied 'Weiss_Ernst_Franziska.txt' to '/Users/sguhr/Desktop/Diss_notebooks/Diss_data_notebooks_man_anno/Subcorpora/20240501_Subcorpus_1916-1920'\n",
      "Copied 'Keller_Paul_Hubertus.txt' to '/Users/sguhr/Desktop/Diss_notebooks/Diss_data_notebooks_man_anno/Subcorpora/20240501_Subcorpus_1916-1920'\n",
      "Copied 'Berend_Alice_Spreemann.txt' to '/Users/sguhr/Desktop/Diss_notebooks/Diss_data_notebooks_man_anno/Subcorpora/20240501_Subcorpus_1916-1920'\n",
      "Copied 'delle_Grazie_Marie_Eugenie_Das_Buch_der_Liebe.txt' to '/Users/sguhr/Desktop/Diss_notebooks/Diss_data_notebooks_man_anno/Subcorpora/20240501_Subcorpus_1916-1920'\n",
      "Copied 'Ruederer_Josef_Das_Erwachen.txt' to '/Users/sguhr/Desktop/Diss_notebooks/Diss_data_notebooks_man_anno/Subcorpora/20240501_Subcorpus_1916-1920'\n",
      "Copied 'Bahr_Hermann_Himmelfahrt.txt' to '/Users/sguhr/Desktop/Diss_notebooks/Diss_data_notebooks_man_anno/Subcorpora/20240501_Subcorpus_1916-1920'\n",
      "Copied 'Boy-Ed_Ida_Die_Opferschale.txt' to '/Users/sguhr/Desktop/Diss_notebooks/Diss_data_notebooks_man_anno/Subcorpora/20240501_Subcorpus_1916-1920'\n",
      "Copied 'Hawel_Rudolf_Dr_Thorns_Lebensabend.txt' to '/Users/sguhr/Desktop/Diss_notebooks/Diss_data_notebooks_man_anno/Subcorpora/20240501_Subcorpus_1916-1920'\n",
      "Copied 'Ernst_Otto_Semper_der_Mann.txt' to '/Users/sguhr/Desktop/Diss_notebooks/Diss_data_notebooks_man_anno/Subcorpora/20240501_Subcorpus_1916-1920'\n",
      "Copied 'zu_Reventlow_Franziska_Spiritismus.txt' to '/Users/sguhr/Desktop/Diss_notebooks/Diss_data_notebooks_man_anno/Subcorpora/20240501_Subcorpus_1916-1920'\n",
      "Copied 'Queri_Georg_Der_bayrische_Watschenbaum_Der_dumme_Teufel.txt' to '/Users/sguhr/Desktop/Diss_notebooks/Diss_data_notebooks_man_anno/Subcorpora/20240501_Subcorpus_1916-1920'\n",
      "Copied 'Queri_Georg_Der_bayrische_Watschenbaum_Hiasl_lueag.txt' to '/Users/sguhr/Desktop/Diss_notebooks/Diss_data_notebooks_man_anno/Subcorpora/20240501_Subcorpus_1916-1920'\n",
      "Copied 'Queri_Georg_Der_bayrische_Watschenbaum_Der_Zunterer.txt' to '/Users/sguhr/Desktop/Diss_notebooks/Diss_data_notebooks_man_anno/Subcorpora/20240501_Subcorpus_1916-1920'\n",
      "Copied 'Sudermann_Hermann_Die_Reise_nach_Tilsit.txt' to '/Users/sguhr/Desktop/Diss_notebooks/Diss_data_notebooks_man_anno/Subcorpora/20240501_Subcorpus_1916-1920'\n",
      "Copied 'Flex_Walter_Wolf_Eschenlohr.txt' to '/Users/sguhr/Desktop/Diss_notebooks/Diss_data_notebooks_man_anno/Subcorpora/20240501_Subcorpus_1916-1920'\n",
      "Copied 'Niese_Charlotte_Als_der_Mond.txt' to '/Users/sguhr/Desktop/Diss_notebooks/Diss_data_notebooks_man_anno/Subcorpora/20240501_Subcorpus_1916-1920'\n",
      "Copied 'Schnitzler_Arthur_Doktor_Graesler.txt' to '/Users/sguhr/Desktop/Diss_notebooks/Diss_data_notebooks_man_anno/Subcorpora/20240501_Subcorpus_1916-1920'\n",
      "Copied 'Loens_Hermann_Die_Haeuser_von_Ohlenhof.txt' to '/Users/sguhr/Desktop/Diss_notebooks/Diss_data_notebooks_man_anno/Subcorpora/20240501_Subcorpus_1916-1920'\n",
      "Copied 'Sudermann_Hermann_Jons_und_Erdme.txt' to '/Users/sguhr/Desktop/Diss_notebooks/Diss_data_notebooks_man_anno/Subcorpora/20240501_Subcorpus_1916-1920'\n",
      "Copied 'Sack_Gustav_Ein_verbummelter_Student.txt' to '/Users/sguhr/Desktop/Diss_notebooks/Diss_data_notebooks_man_anno/Subcorpora/20240501_Subcorpus_1916-1920'\n",
      "Copied 'von_Keyserling_Eduard_Fuerstinnen.txt' to '/Users/sguhr/Desktop/Diss_notebooks/Diss_data_notebooks_man_anno/Subcorpora/20240501_Subcorpus_1916-1920'\n",
      "Copied 'Mann_Heinrich_Die_Armen.txt' to '/Users/sguhr/Desktop/Diss_notebooks/Diss_data_notebooks_man_anno/Subcorpora/20240501_Subcorpus_1916-1920'\n",
      "Copied 'Mueller-Guttenbrunn_Adam_Meister_Jakob.txt' to '/Users/sguhr/Desktop/Diss_notebooks/Diss_data_notebooks_man_anno/Subcorpora/20240501_Subcorpus_1916-1920'\n",
      "Copied 'Rheiner_Walter_Kokain.txt' to '/Users/sguhr/Desktop/Diss_notebooks/Diss_data_notebooks_man_anno/Subcorpora/20240501_Subcorpus_1916-1920'\n",
      "Copied 'von_Heyking_Elisabeth_Die_Orgelpfeifen.txt' to '/Users/sguhr/Desktop/Diss_notebooks/Diss_data_notebooks_man_anno/Subcorpora/20240501_Subcorpus_1916-1920'\n",
      "Copied 'von_Wolzogen_Ernst_Der_Topf_der_Danaiden.txt' to '/Users/sguhr/Desktop/Diss_notebooks/Diss_data_notebooks_man_anno/Subcorpora/20240501_Subcorpus_1916-1920'\n",
      "Copied 'Hollaender_Felix_Die_Briefe_des_Fraeulein.txt' to '/Users/sguhr/Desktop/Diss_notebooks/Diss_data_notebooks_man_anno/Subcorpora/20240501_Subcorpus_1916-1920'\n",
      "Copied 'Ball_Hugo_Flammetti.txt' to '/Users/sguhr/Desktop/Diss_notebooks/Diss_data_notebooks_man_anno/Subcorpora/20240501_Subcorpus_1916-1920'\n",
      "Copied 'Weiss_Ernst_Tiere_in_Ketten.txt' to '/Users/sguhr/Desktop/Diss_notebooks/Diss_data_notebooks_man_anno/Subcorpora/20240501_Subcorpus_1916-1920'\n",
      "Copied 'Greinz_Rudolf_Kraehwinkel.txt' to '/Users/sguhr/Desktop/Diss_notebooks/Diss_data_notebooks_man_anno/Subcorpora/20240501_Subcorpus_1916-1920'\n",
      "Copied 'Thoma_Ludwig_Altaich.txt' to '/Users/sguhr/Desktop/Diss_notebooks/Diss_data_notebooks_man_anno/Subcorpora/20240501_Subcorpus_1916-1920'\n",
      "Copied 'von_Adlersfeld-Ballestrem_Eufemia_Amoenenhof.txt' to '/Users/sguhr/Desktop/Diss_notebooks/Diss_data_notebooks_man_anno/Subcorpora/20240501_Subcorpus_1916-1920'\n",
      "Copied 'Lichtenstein_Alfred_Cafe_Kloesschen.txt' to '/Users/sguhr/Desktop/Diss_notebooks/Diss_data_notebooks_man_anno/Subcorpora/20240501_Subcorpus_1916-1920'\n",
      "Copied 'Blank_Matthias_Ein_seltsamer_Zeuge.txt' to '/Users/sguhr/Desktop/Diss_notebooks/Diss_data_notebooks_man_anno/Subcorpora/20240501_Subcorpus_1916-1920'\n",
      "Copied 'Christ_Lena_Madam_Baeurin.txt' to '/Users/sguhr/Desktop/Diss_notebooks/Diss_data_notebooks_man_anno/Subcorpora/20240501_Subcorpus_1916-1920'\n",
      "Copied 'Weiss_Ernst_Mensch_gegen_Mensch.txt' to '/Users/sguhr/Desktop/Diss_notebooks/Diss_data_notebooks_man_anno/Subcorpora/20240501_Subcorpus_1916-1920'\n",
      "Copied 'Sack_Gustav_Ein_Namenloser.txt' to '/Users/sguhr/Desktop/Diss_notebooks/Diss_data_notebooks_man_anno/Subcorpora/20240501_Subcorpus_1916-1920'\n",
      "Copied 'Thoma_Ludwig_Muenchnerinnen.txt' to '/Users/sguhr/Desktop/Diss_notebooks/Diss_data_notebooks_man_anno/Subcorpora/20240501_Subcorpus_1916-1920'\n",
      "Copied 'Siebe_Josephine_Die_Schlosskinder_auf_Rabenburg.txt' to '/Users/sguhr/Desktop/Diss_notebooks/Diss_data_notebooks_man_anno/Subcorpora/20240501_Subcorpus_1916-1920'\n",
      "Copied 'Kahane_Arthur_Willkommen_und_Abschied.txt' to '/Users/sguhr/Desktop/Diss_notebooks/Diss_data_notebooks_man_anno/Subcorpora/20240501_Subcorpus_1916-1920'\n",
      "Copied 'Bindschedler_Ida_Die_Leuenhofer.txt' to '/Users/sguhr/Desktop/Diss_notebooks/Diss_data_notebooks_man_anno/Subcorpora/20240501_Subcorpus_1916-1920'\n",
      "Copied 'Koch_Henny_Klein-Grosschen.txt' to '/Users/sguhr/Desktop/Diss_notebooks/Diss_data_notebooks_man_anno/Subcorpora/20240501_Subcorpus_1916-1920'\n",
      "Copied 'Hart_Hans_Das_Haus_der_Titanen.txt' to '/Users/sguhr/Desktop/Diss_notebooks/Diss_data_notebooks_man_anno/Subcorpora/20240501_Subcorpus_1916-1920'\n",
      "Copied 'Mueller-Guttenbrunn_Adam_Die_schoene_Lotti_Nach_dem_Konzert.txt' to '/Users/sguhr/Desktop/Diss_notebooks/Diss_data_notebooks_man_anno/Subcorpora/20240501_Subcorpus_1916-1920'\n",
      "Copied 'Mueller-Guttenbrunn_Adam_Die_schoene_Lotti_Das_Maschinfraeulein.txt' to '/Users/sguhr/Desktop/Diss_notebooks/Diss_data_notebooks_man_anno/Subcorpora/20240501_Subcorpus_1916-1920'\n",
      "Copied 'Mueller-Guttenbrunn_Adam_Die_schoene_Lotti_Allerlei_Weihnachten.txt' to '/Users/sguhr/Desktop/Diss_notebooks/Diss_data_notebooks_man_anno/Subcorpora/20240501_Subcorpus_1916-1920'\n",
      "Copied 'Mueller-Guttenbrunn_Adam_Die_schoene_Lotti_Morgennebel.txt' to '/Users/sguhr/Desktop/Diss_notebooks/Diss_data_notebooks_man_anno/Subcorpora/20240501_Subcorpus_1916-1920'\n",
      "Copied 'Mueller-Guttenbrunn_Adam_Die_schoene_Lotti_Die_historische_Tuer.txt' to '/Users/sguhr/Desktop/Diss_notebooks/Diss_data_notebooks_man_anno/Subcorpora/20240501_Subcorpus_1916-1920'\n",
      "Copied 'Mueller-Guttenbrunn_Adam_Die_schoene_Lotti_Die_erste_Amme.txt' to '/Users/sguhr/Desktop/Diss_notebooks/Diss_data_notebooks_man_anno/Subcorpora/20240501_Subcorpus_1916-1920'\n",
      "Copied 'Ringelnatz_Joachim_Fahrensleute.txt' to '/Users/sguhr/Desktop/Diss_notebooks/Diss_data_notebooks_man_anno/Subcorpora/20240501_Subcorpus_1916-1920'\n",
      "Copied 'Hauptmann_Carl_Drei_Frauen.txt' to '/Users/sguhr/Desktop/Diss_notebooks/Diss_data_notebooks_man_anno/Subcorpora/20240501_Subcorpus_1916-1920'\n",
      "Copied 'Mueller-Guttenbrunn_Adam_Die_schoene_Lotti_Wenns_die_Muetter_eilig_haben.txt' to '/Users/sguhr/Desktop/Diss_notebooks/Diss_data_notebooks_man_anno/Subcorpora/20240501_Subcorpus_1916-1920'\n",
      "Copied 'Mueller-Guttenbrunn_Adam_Die_schoene_Lotti_Eine_Romanheldin.txt' to '/Users/sguhr/Desktop/Diss_notebooks/Diss_data_notebooks_man_anno/Subcorpora/20240501_Subcorpus_1916-1920'\n",
      "Copied 'Mueller-Guttenbrunn_Adam_Die_schoene_Lotti_Sidonie.txt' to '/Users/sguhr/Desktop/Diss_notebooks/Diss_data_notebooks_man_anno/Subcorpora/20240501_Subcorpus_1916-1920'\n",
      "Copied 'Mueller-Guttenbrunn_Adam_Die_schoene_Lotti_Die_schoene_Lotti.txt' to '/Users/sguhr/Desktop/Diss_notebooks/Diss_data_notebooks_man_anno/Subcorpora/20240501_Subcorpus_1916-1920'\n",
      "Copied 'Niese_Charlotte_Die_falschen_Weihnachtsbaeume.txt' to '/Users/sguhr/Desktop/Diss_notebooks/Diss_data_notebooks_man_anno/Subcorpora/20240501_Subcorpus_1916-1920'\n",
      "Copied 'Koenig_Alma_Johanna_Schibes.txt' to '/Users/sguhr/Desktop/Diss_notebooks/Diss_data_notebooks_man_anno/Subcorpora/20240501_Subcorpus_1916-1920'\n",
      "Copied 'Grottewitz_Curt_Sonntage_eines_Grossstaedters.txt' to '/Users/sguhr/Desktop/Diss_notebooks/Diss_data_notebooks_man_anno/Subcorpora/20240501_Subcorpus_1916-1920'\n",
      "Copied 'Schlaf_Johannes_Miele.txt' to '/Users/sguhr/Desktop/Diss_notebooks/Diss_data_notebooks_man_anno/Subcorpora/20240501_Subcorpus_1916-1920'\n",
      "Copied 'Edel_Edmund_Frau_Mimis_Vergangenheit.txt' to '/Users/sguhr/Desktop/Diss_notebooks/Diss_data_notebooks_man_anno/Subcorpora/20240501_Subcorpus_1916-1920'\n",
      "Copied 'Bettauer_Hugo_Hemmungslos.txt' to '/Users/sguhr/Desktop/Diss_notebooks/Diss_data_notebooks_man_anno/Subcorpora/20240501_Subcorpus_1916-1920'\n",
      "Copied 'Zapp_Arthur_Falsches_Geld.txt' to '/Users/sguhr/Desktop/Diss_notebooks/Diss_data_notebooks_man_anno/Subcorpora/20240501_Subcorpus_1916-1920'\n",
      "Copied 'Barlach_Ernst_Seespeck.txt' to '/Users/sguhr/Desktop/Diss_notebooks/Diss_data_notebooks_man_anno/Subcorpora/20240501_Subcorpus_1916-1920'\n",
      "Copied 'Hollaender_Felix_Salomons_Schwiegertochter.txt' to '/Users/sguhr/Desktop/Diss_notebooks/Diss_data_notebooks_man_anno/Subcorpora/20240501_Subcorpus_1916-1920'\n",
      "Copied 'Zapp_Arthur_Das_Liebesleben.txt' to '/Users/sguhr/Desktop/Diss_notebooks/Diss_data_notebooks_man_anno/Subcorpora/20240501_Subcorpus_1916-1920'\n",
      "Copied 'Schurig_Arthur_Seltsame_Liebesleute.txt' to '/Users/sguhr/Desktop/Diss_notebooks/Diss_data_notebooks_man_anno/Subcorpora/20240501_Subcorpus_1916-1920'\n",
      "Copied 'Mackay_John_Henry_Der_Freiheitssucher.txt' to '/Users/sguhr/Desktop/Diss_notebooks/Diss_data_notebooks_man_anno/Subcorpora/20240501_Subcorpus_1916-1920'\n",
      "Copied 'Mueller-Partenkirchen_Fritz_Kramer_Friemann.txt' to '/Users/sguhr/Desktop/Diss_notebooks/Diss_data_notebooks_man_anno/Subcorpora/20240501_Subcorpus_1916-1920'\n",
      "Copied 'von_Muehlau_Helene_Frau_Doktor_Breuer.txt' to '/Users/sguhr/Desktop/Diss_notebooks/Diss_data_notebooks_man_anno/Subcorpora/20240501_Subcorpus_1916-1920'\n"
     ]
    }
   ],
   "source": [
    "# this function iterates over a folder with txt files and copies and pastes all the files whose names are written in a list with file names to store them in a new folder\n",
    "# used for subcorpora creation\n",
    "\n",
    "import os\n",
    "import shutil\n",
    "\n",
    "def copy_files(source_dir, destination_dir, file_list):\n",
    "    # Create the destination directory if it doesn't exist\n",
    "    if not os.path.exists(destination_dir):\n",
    "        os.makedirs(destination_dir)\n",
    "\n",
    "    # Iterate through the list of filenames\n",
    "    for filename in file_list:\n",
    "        source_file_path = os.path.join(source_dir, filename)\n",
    "        destination_file_path = os.path.join(destination_dir, filename)\n",
    "        \n",
    "        # Check if the file exists in the source directory\n",
    "        if os.path.exists(source_file_path):\n",
    "            # Copy the file to the destination directory\n",
    "            shutil.copy2(source_file_path, destination_file_path)\n",
    "            print(f\"Copied '{filename}' to '{destination_dir}'\")\n",
    "        else:\n",
    "            print(f\"File '{filename}' not found in '{source_dir}'\")\n",
    "\n",
    "# Example usage\n",
    "source_directory = \"/Users/sguhr/Desktop/Diss_notebooks/Diss_data_notebooks_man_anno/20240425_Diss_Korpus\"\n",
    "destination_directory = \"/Users/sguhr/Desktop/Diss_notebooks/Diss_data_notebooks_man_anno/Subcorpora/20240501_Subcorpus_1916-1920\"\n",
    "file_names_list = [\"Essig_Hermann_Novellen_Der_Hundsbiss.txt\", \"Pappenheim_Bertha_Erzaehlungen_Der_Wunderrabbi.txt\", \"Klabund_Die_Krankheit.txt\", \"Pappenheim_Bertha_Erzaehlungen_Der_Erloeser.txt\", \"Wohlbrueck_Olga_Des_Ratsherrn_Leinius_Tochter.txt\", \"Flex_Walter_Der_Wanderer.txt\", \"von_Keyserling_Eduard_Am_Suedhang.txt\", \"Reuter_Gabriele_Ins_neue_Land.txt\", \"von_Wolzogen_Ernst_Das_Maedchen.txt\", \"Weiss_Ernst_Franziska.txt\", \"Keller_Paul_Hubertus.txt\", \"Berend_Alice_Spreemann.txt\", \"delle_Grazie_Marie_Eugenie_Das_Buch_der_Liebe.txt\", \"Ruederer_Josef_Das_Erwachen.txt\", \"Bahr_Hermann_Himmelfahrt.txt\", \"Boy-Ed_Ida_Die_Opferschale.txt\", \"Hawel_Rudolf_Dr_Thorns_Lebensabend.txt\", \"Ernst_Otto_Semper_der_Mann.txt\", \"zu_Reventlow_Franziska_Spiritismus.txt\", \"Queri_Georg_Der_bayrische_Watschenbaum_Der_dumme_Teufel.txt\", \"Queri_Georg_Der_bayrische_Watschenbaum_Hiasl_lueag.txt\", \"Queri_Georg_Der_bayrische_Watschenbaum_Der_Zunterer.txt\", \"Sudermann_Hermann_Die_Reise_nach_Tilsit.txt\", \"Flex_Walter_Wolf_Eschenlohr.txt\", \"Niese_Charlotte_Als_der_Mond.txt\", \"Schnitzler_Arthur_Doktor_Graesler.txt\", \"Loens_Hermann_Die_Haeuser_von_Ohlenhof.txt\", \"Sudermann_Hermann_Jons_und_Erdme.txt\", \"Sack_Gustav_Ein_verbummelter_Student.txt\", \"von_Keyserling_Eduard_Fuerstinnen.txt\", \"Mann_Heinrich_Die_Armen.txt\", \"Mueller-Guttenbrunn_Adam_Meister_Jakob.txt\", \"Rheiner_Walter_Kokain.txt\", \"von_Heyking_Elisabeth_Die_Orgelpfeifen.txt\", \"von_Wolzogen_Ernst_Der_Topf_der_Danaiden.txt\", \"Hollaender_Felix_Die_Briefe_des_Fraeulein.txt\", \"Ball_Hugo_Flammetti.txt\", \"Weiss_Ernst_Tiere_in_Ketten.txt\", \"Greinz_Rudolf_Kraehwinkel.txt\", \"Thoma_Ludwig_Altaich.txt\", \"von_Adlersfeld-Ballestrem_Eufemia_Amoenenhof.txt\", \"Lichtenstein_Alfred_Cafe_Kloesschen.txt\", \"Blank_Matthias_Ein_seltsamer_Zeuge.txt\", \"Christ_Lena_Madam_Baeurin.txt\", \"Weiss_Ernst_Mensch_gegen_Mensch.txt\", \"Sack_Gustav_Ein_Namenloser.txt\", \"Thoma_Ludwig_Muenchnerinnen.txt\", \"Siebe_Josephine_Die_Schlosskinder_auf_Rabenburg.txt\", \"Kahane_Arthur_Willkommen_und_Abschied.txt\", \"Bindschedler_Ida_Die_Leuenhofer.txt\", \"Koch_Henny_Klein-Grosschen.txt\", \"Hart_Hans_Das_Haus_der_Titanen.txt\", \"Mueller-Guttenbrunn_Adam_Die_schoene_Lotti_Nach_dem_Konzert.txt\", \"Mueller-Guttenbrunn_Adam_Die_schoene_Lotti_Das_Maschinfraeulein.txt\", \"Mueller-Guttenbrunn_Adam_Die_schoene_Lotti_Allerlei_Weihnachten.txt\", \"Mueller-Guttenbrunn_Adam_Die_schoene_Lotti_Morgennebel.txt\", \"Mueller-Guttenbrunn_Adam_Die_schoene_Lotti_Die_historische_Tuer.txt\", \"Mueller-Guttenbrunn_Adam_Die_schoene_Lotti_Die_erste_Amme.txt\", \"Ringelnatz_Joachim_Fahrensleute.txt\", \"Hauptmann_Carl_Drei_Frauen.txt\", \"Mueller-Guttenbrunn_Adam_Die_schoene_Lotti_Wenns_die_Muetter_eilig_haben.txt\", \"Mueller-Guttenbrunn_Adam_Die_schoene_Lotti_Eine_Romanheldin.txt\", \"Mueller-Guttenbrunn_Adam_Die_schoene_Lotti_Sidonie.txt\", \"Mueller-Guttenbrunn_Adam_Die_schoene_Lotti_Die_schoene_Lotti.txt\", \"Niese_Charlotte_Die_falschen_Weihnachtsbaeume.txt\", \"Koenig_Alma_Johanna_Schibes.txt\", \"Grottewitz_Curt_Sonntage_eines_Grossstaedters.txt\", \"Schlaf_Johannes_Miele.txt\", \"Edel_Edmund_Frau_Mimis_Vergangenheit.txt\", \"Bettauer_Hugo_Hemmungslos.txt\", \"Zapp_Arthur_Falsches_Geld.txt\", \"Barlach_Ernst_Seespeck.txt\", \"Hollaender_Felix_Salomons_Schwiegertochter.txt\", \"Zapp_Arthur_Das_Liebesleben.txt\", \"Schurig_Arthur_Seltsame_Liebesleute.txt\", \"Mackay_John_Henry_Der_Freiheitssucher.txt\", \"Mueller-Partenkirchen_Fritz_Kramer_Friemann.txt\", \"von_Muehlau_Helene_Frau_Doktor_Breuer.txt\"] # List of file names to copy\n",
    "\n",
    "copy_files(source_directory, destination_directory, file_names_list)\n"
   ],
   "metadata": {
    "collapsed": false,
    "ExecuteTime": {
     "end_time": "2024-05-01T11:27:25.559167Z",
     "start_time": "2024-05-01T11:27:25.476382Z"
    }
   },
   "id": "32ce3920308b2787",
   "execution_count": 383
  },
  {
   "cell_type": "markdown",
   "source": [
    "# Take the corpus texts and prepare them for becoming XML files\n",
    "1) No \"&\", \"$\", \"<\", \">\"\n",
    "2) Normalize all \"\" to \"\" and ''\n",
    "2) change ´s to 's\n",
    "3) no \\n in the texts if not as double \\n\\n for real paragraphs"
   ],
   "metadata": {
    "collapsed": false
   },
   "id": "125ffad5afa31a20"
  },
  {
   "cell_type": "code",
   "outputs": [],
   "source": [
    "corpus_directory = destination_directory"
   ],
   "metadata": {
    "collapsed": false,
    "ExecuteTime": {
     "end_time": "2024-05-01T11:27:25.833145Z",
     "start_time": "2024-05-01T11:27:25.830868Z"
    }
   },
   "id": "dde596ef3adeb866",
   "execution_count": 384
  },
  {
   "cell_type": "code",
   "outputs": [
    {
     "data": {
      "text/plain": "['Hollaender_Felix_Die_Briefe_des_Fraeulein.txt',\n 'Koch_Henny_Klein-Grosschen.txt',\n 'Weiss_Ernst_Mensch_gegen_Mensch.txt',\n 'Schnitzler_Arthur_Doktor_Graesler.txt',\n 'zu_Reventlow_Franziska_Spiritismus.txt',\n 'von_Keyserling_Eduard_Am_Suedhang.txt',\n 'Schurig_Arthur_Seltsame_Liebesleute.txt',\n 'von_Wolzogen_Ernst_Das_Maedchen.txt',\n 'von_Adlersfeld-Ballestrem_Eufemia_Amoenenhof.txt',\n 'Zapp_Arthur_Das_Liebesleben.txt']"
     },
     "execution_count": 385,
     "metadata": {},
     "output_type": "execute_result"
    }
   ],
   "source": [
    "# Generate a corpus by loading all the txt files from the chosen directory \n",
    "# and list the names of the first 10 txt files \n",
    "corpus = os.listdir(corpus_directory)\n",
    "corpus[:10]"
   ],
   "metadata": {
    "collapsed": false,
    "ExecuteTime": {
     "end_time": "2024-05-01T11:27:25.970443Z",
     "start_time": "2024-05-01T11:27:25.967032Z"
    }
   },
   "id": "52f3bc72ffa4d8c6",
   "execution_count": 385
  },
  {
   "cell_type": "code",
   "outputs": [
    {
     "name": "stdout",
     "output_type": "stream",
     "text": [
      ".DS_Store does not exist in the specified directory.\n"
     ]
    }
   ],
   "source": [
    "#to delete the .DS_Store file that always pops up with Mac\n",
    "\n",
    "import os\n",
    "\n",
    "#corpus_directory = \"/path/to/your/corpus/directory\"\n",
    "file_to_delete = \".DS_Store\"\n",
    "file_path = os.path.join(corpus_directory, file_to_delete)\n",
    "\n",
    "if os.path.exists(file_path):\n",
    "    os.remove(file_path)\n",
    "    print(f\"{file_to_delete} has been deleted.\")\n",
    "else:\n",
    "    print(f\"{file_to_delete} does not exist in the specified directory.\")"
   ],
   "metadata": {
    "collapsed": false,
    "ExecuteTime": {
     "end_time": "2024-05-01T11:27:26.112558Z",
     "start_time": "2024-05-01T11:27:26.109791Z"
    }
   },
   "id": "812a684307e5f74f",
   "execution_count": 386
  },
  {
   "cell_type": "code",
   "outputs": [
    {
     "name": "stdout",
     "output_type": "stream",
     "text": [
      "78\n"
     ]
    }
   ],
   "source": [
    "# Print how many txt files are in the corpus; if .DS_Store file was deleted, you have to read the corpus in again as the revised version without the .DS_Store file\n",
    "corpus_length = len(corpus)\n",
    "print(corpus_length)"
   ],
   "metadata": {
    "collapsed": false,
    "ExecuteTime": {
     "end_time": "2024-05-01T11:27:26.273580Z",
     "start_time": "2024-05-01T11:27:26.270900Z"
    }
   },
   "id": "321a6636943aa07e",
   "execution_count": 387
  },
  {
   "cell_type": "code",
   "outputs": [],
   "source": [
    "txt_folder = corpus_directory\n"
   ],
   "metadata": {
    "collapsed": false,
    "ExecuteTime": {
     "end_time": "2024-05-01T11:27:26.467591Z",
     "start_time": "2024-05-01T11:27:26.465509Z"
    }
   },
   "id": "5c967729ad7066bc",
   "execution_count": 388
  },
  {
   "cell_type": "markdown",
   "source": [
    "Now, I want to iterate over the txt files and change some strings with the help of regular expressions to have cleaned input files."
   ],
   "metadata": {
    "collapsed": false
   },
   "id": "fa1172cb708f82a9"
  },
  {
   "cell_type": "code",
   "outputs": [],
   "source": [
    "import os\n",
    "import re\n",
    "\n",
    "def process_txt_files(txt_folder, replacements):\n",
    "    # Iterate over each txt file in the folder\n",
    "    for filename in os.listdir(txt_folder):\n",
    "        if filename.endswith('.txt'):\n",
    "            txt_file_path = os.path.join(txt_folder, filename)\n",
    "            # Read the text file\n",
    "            with open(txt_file_path, 'r', encoding='utf-8') as file:\n",
    "                text = file.read()\n",
    "\n",
    "            # Iterate over replacements to find and replace regex matches\n",
    "            for regex_pattern, replacement in replacements.items():\n",
    "                text = re.sub(regex_pattern, replacement, text)\n",
    "      \n",
    "\n",
    "            # Write the modified text back to the file\n",
    "            with open(txt_file_path, 'w', encoding='utf-8') as file:\n",
    "                file.write(text)\n"
   ],
   "metadata": {
    "collapsed": false,
    "ExecuteTime": {
     "end_time": "2024-05-01T11:27:26.791989Z",
     "start_time": "2024-05-01T11:27:26.788555Z"
    }
   },
   "id": "a8126b8daabc2ecc",
   "execution_count": 389
  },
  {
   "cell_type": "code",
   "outputs": [],
   "source": [
    "replacements = {\n",
    "    r'&': 'and',\n",
    "    r'\\n\\n': r'\\n',\n",
    "    r'\\s+': ' ',\n",
    "    r'<<': '',\n",
    "    r'>>': '',\n",
    "    r'‹': '«',\n",
    "    r'›': '»',\n",
    "    r'<poem>': '',\n",
    "    r'»': '» ',\n",
    "    r'»  ': '» ',\n",
    "    r'«': ' «',\n",
    "    r'  «': ' «',\n",
    "    r\"´s\": \"'s\",\n",
    "    r'„': '» ',\n",
    "    r'“':' «',\n",
    "    r'–':' – ',\n",
    "    r'  –  ':' – ',\n",
    "    r'…':' … ',\n",
    "    r'  …  ':' … ',\n",
    "    r'</title> ': r'</title>\\n\\n',\n",
    "    r'</scene> ': r'</scene>\\n\\n',\n",
    "    r'</non-scene> ': r'</non-scene>\\n\\n',\n",
    "    r'</section> ': r'</section>\\n\\n',\n",
    "    r'</chapter> ': r'</chapter>\\n\\n',\n",
    "    r'<scene>': r'\\n\\n<scene>',\n",
    "    r'<non-scene>': r'\\n\\n<non-scene>',\n",
    "    r'<section>': r'\\n\\n<section>',\n",
    "    r'<chapter>': r'\\n\\n<chapter>',\n",
    "}\n",
    "\n",
    "#control if there are </chapter>Chapter</chapter> errors or other!\n"
   ],
   "metadata": {
    "collapsed": false,
    "ExecuteTime": {
     "end_time": "2024-05-01T11:27:26.963161Z",
     "start_time": "2024-05-01T11:27:26.959497Z"
    }
   },
   "id": "9ec374905dd2d870",
   "execution_count": 390
  },
  {
   "cell_type": "code",
   "outputs": [],
   "source": [
    "process_txt_files(txt_folder, replacements)"
   ],
   "metadata": {
    "collapsed": false,
    "ExecuteTime": {
     "end_time": "2024-05-01T11:27:28.602403Z",
     "start_time": "2024-05-01T11:27:27.787959Z"
    }
   },
   "id": "41a18a72de203857",
   "execution_count": 391
  },
  {
   "cell_type": "markdown",
   "source": [
    "\n",
    "Take the chosen files and automatically transform them into xml files."
   ],
   "metadata": {
    "collapsed": false
   },
   "id": "8872e7d594a52eb9"
  },
  {
   "cell_type": "code",
   "outputs": [
    {
     "name": "stdout",
     "output_type": "stream",
     "text": [
      "File 'Hollaender_Felix_Die_Briefe_des_Fraeulein.txt' transformed to XML and saved as '/Users/sguhr/Desktop/Diss_notebooks/Diss_data_notebooks_man_anno/Subcorpora_XML/20240501_Subcorpus_1916-1920_XML/Hollaender_Felix_Die_Briefe_des_Fraeulein.xml'\n",
      "File 'Koch_Henny_Klein-Grosschen.txt' transformed to XML and saved as '/Users/sguhr/Desktop/Diss_notebooks/Diss_data_notebooks_man_anno/Subcorpora_XML/20240501_Subcorpus_1916-1920_XML/Koch_Henny_Klein-Grosschen.xml'\n",
      "File 'Weiss_Ernst_Mensch_gegen_Mensch.txt' transformed to XML and saved as '/Users/sguhr/Desktop/Diss_notebooks/Diss_data_notebooks_man_anno/Subcorpora_XML/20240501_Subcorpus_1916-1920_XML/Weiss_Ernst_Mensch_gegen_Mensch.xml'\n",
      "File 'Schnitzler_Arthur_Doktor_Graesler.txt' transformed to XML and saved as '/Users/sguhr/Desktop/Diss_notebooks/Diss_data_notebooks_man_anno/Subcorpora_XML/20240501_Subcorpus_1916-1920_XML/Schnitzler_Arthur_Doktor_Graesler.xml'\n",
      "File 'zu_Reventlow_Franziska_Spiritismus.txt' transformed to XML and saved as '/Users/sguhr/Desktop/Diss_notebooks/Diss_data_notebooks_man_anno/Subcorpora_XML/20240501_Subcorpus_1916-1920_XML/zu_Reventlow_Franziska_Spiritismus.xml'\n",
      "File 'von_Keyserling_Eduard_Am_Suedhang.txt' transformed to XML and saved as '/Users/sguhr/Desktop/Diss_notebooks/Diss_data_notebooks_man_anno/Subcorpora_XML/20240501_Subcorpus_1916-1920_XML/von_Keyserling_Eduard_Am_Suedhang.xml'\n",
      "File 'Schurig_Arthur_Seltsame_Liebesleute.txt' transformed to XML and saved as '/Users/sguhr/Desktop/Diss_notebooks/Diss_data_notebooks_man_anno/Subcorpora_XML/20240501_Subcorpus_1916-1920_XML/Schurig_Arthur_Seltsame_Liebesleute.xml'\n",
      "File 'von_Wolzogen_Ernst_Das_Maedchen.txt' transformed to XML and saved as '/Users/sguhr/Desktop/Diss_notebooks/Diss_data_notebooks_man_anno/Subcorpora_XML/20240501_Subcorpus_1916-1920_XML/von_Wolzogen_Ernst_Das_Maedchen.xml'\n",
      "File 'von_Adlersfeld-Ballestrem_Eufemia_Amoenenhof.txt' transformed to XML and saved as '/Users/sguhr/Desktop/Diss_notebooks/Diss_data_notebooks_man_anno/Subcorpora_XML/20240501_Subcorpus_1916-1920_XML/von_Adlersfeld-Ballestrem_Eufemia_Amoenenhof.xml'\n",
      "File 'Zapp_Arthur_Das_Liebesleben.txt' transformed to XML and saved as '/Users/sguhr/Desktop/Diss_notebooks/Diss_data_notebooks_man_anno/Subcorpora_XML/20240501_Subcorpus_1916-1920_XML/Zapp_Arthur_Das_Liebesleben.xml'\n",
      "File 'von_Muehlau_Helene_Frau_Doktor_Breuer.txt' transformed to XML and saved as '/Users/sguhr/Desktop/Diss_notebooks/Diss_data_notebooks_man_anno/Subcorpora_XML/20240501_Subcorpus_1916-1920_XML/von_Muehlau_Helene_Frau_Doktor_Breuer.xml'\n",
      "File 'Mueller-Guttenbrunn_Adam_Die_schoene_Lotti_Wenns_die_Muetter_eilig_haben.txt' transformed to XML and saved as '/Users/sguhr/Desktop/Diss_notebooks/Diss_data_notebooks_man_anno/Subcorpora_XML/20240501_Subcorpus_1916-1920_XML/Mueller-Guttenbrunn_Adam_Die_schoene_Lotti_Wenns_die_Muetter_eilig_haben.xml'\n",
      "File 'Schlaf_Johannes_Miele.txt' transformed to XML and saved as '/Users/sguhr/Desktop/Diss_notebooks/Diss_data_notebooks_man_anno/Subcorpora_XML/20240501_Subcorpus_1916-1920_XML/Schlaf_Johannes_Miele.xml'\n",
      "File 'Zapp_Arthur_Falsches_Geld.txt' transformed to XML and saved as '/Users/sguhr/Desktop/Diss_notebooks/Diss_data_notebooks_man_anno/Subcorpora_XML/20240501_Subcorpus_1916-1920_XML/Zapp_Arthur_Falsches_Geld.xml'\n",
      "File 'Siebe_Josephine_Die_Schlosskinder_auf_Rabenburg.txt' transformed to XML and saved as '/Users/sguhr/Desktop/Diss_notebooks/Diss_data_notebooks_man_anno/Subcorpora_XML/20240501_Subcorpus_1916-1920_XML/Siebe_Josephine_Die_Schlosskinder_auf_Rabenburg.xml'\n",
      "File 'von_Heyking_Elisabeth_Die_Orgelpfeifen.txt' transformed to XML and saved as '/Users/sguhr/Desktop/Diss_notebooks/Diss_data_notebooks_man_anno/Subcorpora_XML/20240501_Subcorpus_1916-1920_XML/von_Heyking_Elisabeth_Die_Orgelpfeifen.xml'\n",
      "File 'Queri_Georg_Der_bayrische_Watschenbaum_Der_dumme_Teufel.txt' transformed to XML and saved as '/Users/sguhr/Desktop/Diss_notebooks/Diss_data_notebooks_man_anno/Subcorpora_XML/20240501_Subcorpus_1916-1920_XML/Queri_Georg_Der_bayrische_Watschenbaum_Der_dumme_Teufel.xml'\n",
      "File 'Klabund_Die_Krankheit.txt' transformed to XML and saved as '/Users/sguhr/Desktop/Diss_notebooks/Diss_data_notebooks_man_anno/Subcorpora_XML/20240501_Subcorpus_1916-1920_XML/Klabund_Die_Krankheit.xml'\n",
      "File 'Ruederer_Josef_Das_Erwachen.txt' transformed to XML and saved as '/Users/sguhr/Desktop/Diss_notebooks/Diss_data_notebooks_man_anno/Subcorpora_XML/20240501_Subcorpus_1916-1920_XML/Ruederer_Josef_Das_Erwachen.xml'\n",
      "File 'Mueller-Guttenbrunn_Adam_Die_schoene_Lotti_Die_schoene_Lotti.txt' transformed to XML and saved as '/Users/sguhr/Desktop/Diss_notebooks/Diss_data_notebooks_man_anno/Subcorpora_XML/20240501_Subcorpus_1916-1920_XML/Mueller-Guttenbrunn_Adam_Die_schoene_Lotti_Die_schoene_Lotti.xml'\n",
      "File 'Rheiner_Walter_Kokain.txt' transformed to XML and saved as '/Users/sguhr/Desktop/Diss_notebooks/Diss_data_notebooks_man_anno/Subcorpora_XML/20240501_Subcorpus_1916-1920_XML/Rheiner_Walter_Kokain.xml'\n",
      "File 'Flex_Walter_Der_Wanderer.txt' transformed to XML and saved as '/Users/sguhr/Desktop/Diss_notebooks/Diss_data_notebooks_man_anno/Subcorpora_XML/20240501_Subcorpus_1916-1920_XML/Flex_Walter_Der_Wanderer.xml'\n",
      "File 'Ball_Hugo_Flammetti.txt' transformed to XML and saved as '/Users/sguhr/Desktop/Diss_notebooks/Diss_data_notebooks_man_anno/Subcorpora_XML/20240501_Subcorpus_1916-1920_XML/Ball_Hugo_Flammetti.xml'\n",
      "File 'Mueller-Guttenbrunn_Adam_Die_schoene_Lotti_Das_Maschinfraeulein.txt' transformed to XML and saved as '/Users/sguhr/Desktop/Diss_notebooks/Diss_data_notebooks_man_anno/Subcorpora_XML/20240501_Subcorpus_1916-1920_XML/Mueller-Guttenbrunn_Adam_Die_schoene_Lotti_Das_Maschinfraeulein.xml'\n",
      "File 'Bindschedler_Ida_Die_Leuenhofer.txt' transformed to XML and saved as '/Users/sguhr/Desktop/Diss_notebooks/Diss_data_notebooks_man_anno/Subcorpora_XML/20240501_Subcorpus_1916-1920_XML/Bindschedler_Ida_Die_Leuenhofer.xml'\n",
      "File 'Greinz_Rudolf_Kraehwinkel.txt' transformed to XML and saved as '/Users/sguhr/Desktop/Diss_notebooks/Diss_data_notebooks_man_anno/Subcorpora_XML/20240501_Subcorpus_1916-1920_XML/Greinz_Rudolf_Kraehwinkel.xml'\n",
      "File 'Grottewitz_Curt_Sonntage_eines_Grossstaedters.txt' transformed to XML and saved as '/Users/sguhr/Desktop/Diss_notebooks/Diss_data_notebooks_man_anno/Subcorpora_XML/20240501_Subcorpus_1916-1920_XML/Grottewitz_Curt_Sonntage_eines_Grossstaedters.xml'\n",
      "File 'Christ_Lena_Madam_Baeurin.txt' transformed to XML and saved as '/Users/sguhr/Desktop/Diss_notebooks/Diss_data_notebooks_man_anno/Subcorpora_XML/20240501_Subcorpus_1916-1920_XML/Christ_Lena_Madam_Baeurin.xml'\n",
      "File 'Bahr_Hermann_Himmelfahrt.txt' transformed to XML and saved as '/Users/sguhr/Desktop/Diss_notebooks/Diss_data_notebooks_man_anno/Subcorpora_XML/20240501_Subcorpus_1916-1920_XML/Bahr_Hermann_Himmelfahrt.xml'\n",
      "File 'Barlach_Ernst_Seespeck.txt' transformed to XML and saved as '/Users/sguhr/Desktop/Diss_notebooks/Diss_data_notebooks_man_anno/Subcorpora_XML/20240501_Subcorpus_1916-1920_XML/Barlach_Ernst_Seespeck.xml'\n",
      "File 'Sack_Gustav_Ein_verbummelter_Student.txt' transformed to XML and saved as '/Users/sguhr/Desktop/Diss_notebooks/Diss_data_notebooks_man_anno/Subcorpora_XML/20240501_Subcorpus_1916-1920_XML/Sack_Gustav_Ein_verbummelter_Student.xml'\n",
      "File 'Queri_Georg_Der_bayrische_Watschenbaum_Der_Zunterer.txt' transformed to XML and saved as '/Users/sguhr/Desktop/Diss_notebooks/Diss_data_notebooks_man_anno/Subcorpora_XML/20240501_Subcorpus_1916-1920_XML/Queri_Georg_Der_bayrische_Watschenbaum_Der_Zunterer.xml'\n",
      "File 'Flex_Walter_Wolf_Eschenlohr.txt' transformed to XML and saved as '/Users/sguhr/Desktop/Diss_notebooks/Diss_data_notebooks_man_anno/Subcorpora_XML/20240501_Subcorpus_1916-1920_XML/Flex_Walter_Wolf_Eschenlohr.xml'\n",
      "File 'von_Keyserling_Eduard_Fuerstinnen.txt' transformed to XML and saved as '/Users/sguhr/Desktop/Diss_notebooks/Diss_data_notebooks_man_anno/Subcorpora_XML/20240501_Subcorpus_1916-1920_XML/von_Keyserling_Eduard_Fuerstinnen.xml'\n",
      "File 'delle_Grazie_Marie_Eugenie_Das_Buch_der_Liebe.txt' transformed to XML and saved as '/Users/sguhr/Desktop/Diss_notebooks/Diss_data_notebooks_man_anno/Subcorpora_XML/20240501_Subcorpus_1916-1920_XML/delle_Grazie_Marie_Eugenie_Das_Buch_der_Liebe.xml'\n",
      "File 'Kahane_Arthur_Willkommen_und_Abschied.txt' transformed to XML and saved as '/Users/sguhr/Desktop/Diss_notebooks/Diss_data_notebooks_man_anno/Subcorpora_XML/20240501_Subcorpus_1916-1920_XML/Kahane_Arthur_Willkommen_und_Abschied.xml'\n",
      "File 'Keller_Paul_Hubertus.txt' transformed to XML and saved as '/Users/sguhr/Desktop/Diss_notebooks/Diss_data_notebooks_man_anno/Subcorpora_XML/20240501_Subcorpus_1916-1920_XML/Keller_Paul_Hubertus.xml'\n",
      "File 'Pappenheim_Bertha_Erzaehlungen_Der_Wunderrabbi.txt' transformed to XML and saved as '/Users/sguhr/Desktop/Diss_notebooks/Diss_data_notebooks_man_anno/Subcorpora_XML/20240501_Subcorpus_1916-1920_XML/Pappenheim_Bertha_Erzaehlungen_Der_Wunderrabbi.xml'\n",
      "File 'Blank_Matthias_Ein_seltsamer_Zeuge.txt' transformed to XML and saved as '/Users/sguhr/Desktop/Diss_notebooks/Diss_data_notebooks_man_anno/Subcorpora_XML/20240501_Subcorpus_1916-1920_XML/Blank_Matthias_Ein_seltsamer_Zeuge.xml'\n",
      "File 'Bettauer_Hugo_Hemmungslos.txt' transformed to XML and saved as '/Users/sguhr/Desktop/Diss_notebooks/Diss_data_notebooks_man_anno/Subcorpora_XML/20240501_Subcorpus_1916-1920_XML/Bettauer_Hugo_Hemmungslos.xml'\n",
      "File 'Queri_Georg_Der_bayrische_Watschenbaum_Hiasl_lueag.txt' transformed to XML and saved as '/Users/sguhr/Desktop/Diss_notebooks/Diss_data_notebooks_man_anno/Subcorpora_XML/20240501_Subcorpus_1916-1920_XML/Queri_Georg_Der_bayrische_Watschenbaum_Hiasl_lueag.xml'\n",
      "File 'Mueller-Guttenbrunn_Adam_Meister_Jakob.txt' transformed to XML and saved as '/Users/sguhr/Desktop/Diss_notebooks/Diss_data_notebooks_man_anno/Subcorpora_XML/20240501_Subcorpus_1916-1920_XML/Mueller-Guttenbrunn_Adam_Meister_Jakob.xml'\n",
      "File 'Mueller-Guttenbrunn_Adam_Die_schoene_Lotti_Sidonie.txt' transformed to XML and saved as '/Users/sguhr/Desktop/Diss_notebooks/Diss_data_notebooks_man_anno/Subcorpora_XML/20240501_Subcorpus_1916-1920_XML/Mueller-Guttenbrunn_Adam_Die_schoene_Lotti_Sidonie.xml'\n",
      "File 'Sudermann_Hermann_Die_Reise_nach_Tilsit.txt' transformed to XML and saved as '/Users/sguhr/Desktop/Diss_notebooks/Diss_data_notebooks_man_anno/Subcorpora_XML/20240501_Subcorpus_1916-1920_XML/Sudermann_Hermann_Die_Reise_nach_Tilsit.xml'\n",
      "File 'Mueller-Guttenbrunn_Adam_Die_schoene_Lotti_Die_historische_Tuer.txt' transformed to XML and saved as '/Users/sguhr/Desktop/Diss_notebooks/Diss_data_notebooks_man_anno/Subcorpora_XML/20240501_Subcorpus_1916-1920_XML/Mueller-Guttenbrunn_Adam_Die_schoene_Lotti_Die_historische_Tuer.xml'\n",
      "File 'Mueller-Partenkirchen_Fritz_Kramer_Friemann.txt' transformed to XML and saved as '/Users/sguhr/Desktop/Diss_notebooks/Diss_data_notebooks_man_anno/Subcorpora_XML/20240501_Subcorpus_1916-1920_XML/Mueller-Partenkirchen_Fritz_Kramer_Friemann.xml'\n",
      "File 'Hawel_Rudolf_Dr_Thorns_Lebensabend.txt' transformed to XML and saved as '/Users/sguhr/Desktop/Diss_notebooks/Diss_data_notebooks_man_anno/Subcorpora_XML/20240501_Subcorpus_1916-1920_XML/Hawel_Rudolf_Dr_Thorns_Lebensabend.xml'\n",
      "File 'Mueller-Guttenbrunn_Adam_Die_schoene_Lotti_Eine_Romanheldin.txt' transformed to XML and saved as '/Users/sguhr/Desktop/Diss_notebooks/Diss_data_notebooks_man_anno/Subcorpora_XML/20240501_Subcorpus_1916-1920_XML/Mueller-Guttenbrunn_Adam_Die_schoene_Lotti_Eine_Romanheldin.xml'\n",
      "File 'Berend_Alice_Spreemann.txt' transformed to XML and saved as '/Users/sguhr/Desktop/Diss_notebooks/Diss_data_notebooks_man_anno/Subcorpora_XML/20240501_Subcorpus_1916-1920_XML/Berend_Alice_Spreemann.xml'\n",
      "File 'Niese_Charlotte_Die_falschen_Weihnachtsbaeume.txt' transformed to XML and saved as '/Users/sguhr/Desktop/Diss_notebooks/Diss_data_notebooks_man_anno/Subcorpora_XML/20240501_Subcorpus_1916-1920_XML/Niese_Charlotte_Die_falschen_Weihnachtsbaeume.xml'\n",
      "File 'Loens_Hermann_Die_Haeuser_von_Ohlenhof.txt' transformed to XML and saved as '/Users/sguhr/Desktop/Diss_notebooks/Diss_data_notebooks_man_anno/Subcorpora_XML/20240501_Subcorpus_1916-1920_XML/Loens_Hermann_Die_Haeuser_von_Ohlenhof.xml'\n",
      "File 'Pappenheim_Bertha_Erzaehlungen_Der_Erloeser.txt' transformed to XML and saved as '/Users/sguhr/Desktop/Diss_notebooks/Diss_data_notebooks_man_anno/Subcorpora_XML/20240501_Subcorpus_1916-1920_XML/Pappenheim_Bertha_Erzaehlungen_Der_Erloeser.xml'\n",
      "File 'Thoma_Ludwig_Altaich.txt' transformed to XML and saved as '/Users/sguhr/Desktop/Diss_notebooks/Diss_data_notebooks_man_anno/Subcorpora_XML/20240501_Subcorpus_1916-1920_XML/Thoma_Ludwig_Altaich.xml'\n",
      "File 'Mann_Heinrich_Die_Armen.txt' transformed to XML and saved as '/Users/sguhr/Desktop/Diss_notebooks/Diss_data_notebooks_man_anno/Subcorpora_XML/20240501_Subcorpus_1916-1920_XML/Mann_Heinrich_Die_Armen.xml'\n",
      "File 'Hauptmann_Carl_Drei_Frauen.txt' transformed to XML and saved as '/Users/sguhr/Desktop/Diss_notebooks/Diss_data_notebooks_man_anno/Subcorpora_XML/20240501_Subcorpus_1916-1920_XML/Hauptmann_Carl_Drei_Frauen.xml'\n",
      "File 'Sack_Gustav_Ein_Namenloser.txt' transformed to XML and saved as '/Users/sguhr/Desktop/Diss_notebooks/Diss_data_notebooks_man_anno/Subcorpora_XML/20240501_Subcorpus_1916-1920_XML/Sack_Gustav_Ein_Namenloser.xml'\n",
      "File 'Mackay_John_Henry_Der_Freiheitssucher.txt' transformed to XML and saved as '/Users/sguhr/Desktop/Diss_notebooks/Diss_data_notebooks_man_anno/Subcorpora_XML/20240501_Subcorpus_1916-1920_XML/Mackay_John_Henry_Der_Freiheitssucher.xml'\n",
      "File 'Ernst_Otto_Semper_der_Mann.txt' transformed to XML and saved as '/Users/sguhr/Desktop/Diss_notebooks/Diss_data_notebooks_man_anno/Subcorpora_XML/20240501_Subcorpus_1916-1920_XML/Ernst_Otto_Semper_der_Mann.xml'\n",
      "File 'Thoma_Ludwig_Muenchnerinnen.txt' transformed to XML and saved as '/Users/sguhr/Desktop/Diss_notebooks/Diss_data_notebooks_man_anno/Subcorpora_XML/20240501_Subcorpus_1916-1920_XML/Thoma_Ludwig_Muenchnerinnen.xml'\n",
      "File 'Boy-Ed_Ida_Die_Opferschale.txt' transformed to XML and saved as '/Users/sguhr/Desktop/Diss_notebooks/Diss_data_notebooks_man_anno/Subcorpora_XML/20240501_Subcorpus_1916-1920_XML/Boy-Ed_Ida_Die_Opferschale.xml'\n",
      "File 'Mueller-Guttenbrunn_Adam_Die_schoene_Lotti_Morgennebel.txt' transformed to XML and saved as '/Users/sguhr/Desktop/Diss_notebooks/Diss_data_notebooks_man_anno/Subcorpora_XML/20240501_Subcorpus_1916-1920_XML/Mueller-Guttenbrunn_Adam_Die_schoene_Lotti_Morgennebel.xml'\n",
      "File 'Koenig_Alma_Johanna_Schibes.txt' transformed to XML and saved as '/Users/sguhr/Desktop/Diss_notebooks/Diss_data_notebooks_man_anno/Subcorpora_XML/20240501_Subcorpus_1916-1920_XML/Koenig_Alma_Johanna_Schibes.xml'\n",
      "File 'Mueller-Guttenbrunn_Adam_Die_schoene_Lotti_Die_erste_Amme.txt' transformed to XML and saved as '/Users/sguhr/Desktop/Diss_notebooks/Diss_data_notebooks_man_anno/Subcorpora_XML/20240501_Subcorpus_1916-1920_XML/Mueller-Guttenbrunn_Adam_Die_schoene_Lotti_Die_erste_Amme.xml'\n",
      "File 'Weiss_Ernst_Tiere_in_Ketten.txt' transformed to XML and saved as '/Users/sguhr/Desktop/Diss_notebooks/Diss_data_notebooks_man_anno/Subcorpora_XML/20240501_Subcorpus_1916-1920_XML/Weiss_Ernst_Tiere_in_Ketten.xml'\n",
      "File 'Ringelnatz_Joachim_Fahrensleute.txt' transformed to XML and saved as '/Users/sguhr/Desktop/Diss_notebooks/Diss_data_notebooks_man_anno/Subcorpora_XML/20240501_Subcorpus_1916-1920_XML/Ringelnatz_Joachim_Fahrensleute.xml'\n",
      "File 'Hart_Hans_Das_Haus_der_Titanen.txt' transformed to XML and saved as '/Users/sguhr/Desktop/Diss_notebooks/Diss_data_notebooks_man_anno/Subcorpora_XML/20240501_Subcorpus_1916-1920_XML/Hart_Hans_Das_Haus_der_Titanen.xml'\n",
      "File 'Weiss_Ernst_Franziska.txt' transformed to XML and saved as '/Users/sguhr/Desktop/Diss_notebooks/Diss_data_notebooks_man_anno/Subcorpora_XML/20240501_Subcorpus_1916-1920_XML/Weiss_Ernst_Franziska.xml'\n",
      "File 'Edel_Edmund_Frau_Mimis_Vergangenheit.txt' transformed to XML and saved as '/Users/sguhr/Desktop/Diss_notebooks/Diss_data_notebooks_man_anno/Subcorpora_XML/20240501_Subcorpus_1916-1920_XML/Edel_Edmund_Frau_Mimis_Vergangenheit.xml'\n",
      "File 'von_Wolzogen_Ernst_Der_Topf_der_Danaiden.txt' transformed to XML and saved as '/Users/sguhr/Desktop/Diss_notebooks/Diss_data_notebooks_man_anno/Subcorpora_XML/20240501_Subcorpus_1916-1920_XML/von_Wolzogen_Ernst_Der_Topf_der_Danaiden.xml'\n",
      "File 'Lichtenstein_Alfred_Cafe_Kloesschen.txt' transformed to XML and saved as '/Users/sguhr/Desktop/Diss_notebooks/Diss_data_notebooks_man_anno/Subcorpora_XML/20240501_Subcorpus_1916-1920_XML/Lichtenstein_Alfred_Cafe_Kloesschen.xml'\n",
      "File 'Mueller-Guttenbrunn_Adam_Die_schoene_Lotti_Nach_dem_Konzert.txt' transformed to XML and saved as '/Users/sguhr/Desktop/Diss_notebooks/Diss_data_notebooks_man_anno/Subcorpora_XML/20240501_Subcorpus_1916-1920_XML/Mueller-Guttenbrunn_Adam_Die_schoene_Lotti_Nach_dem_Konzert.xml'\n",
      "File 'Reuter_Gabriele_Ins_neue_Land.txt' transformed to XML and saved as '/Users/sguhr/Desktop/Diss_notebooks/Diss_data_notebooks_man_anno/Subcorpora_XML/20240501_Subcorpus_1916-1920_XML/Reuter_Gabriele_Ins_neue_Land.xml'\n",
      "File 'Hollaender_Felix_Salomons_Schwiegertochter.txt' transformed to XML and saved as '/Users/sguhr/Desktop/Diss_notebooks/Diss_data_notebooks_man_anno/Subcorpora_XML/20240501_Subcorpus_1916-1920_XML/Hollaender_Felix_Salomons_Schwiegertochter.xml'\n",
      "File 'Sudermann_Hermann_Jons_und_Erdme.txt' transformed to XML and saved as '/Users/sguhr/Desktop/Diss_notebooks/Diss_data_notebooks_man_anno/Subcorpora_XML/20240501_Subcorpus_1916-1920_XML/Sudermann_Hermann_Jons_und_Erdme.xml'\n",
      "File 'Mueller-Guttenbrunn_Adam_Die_schoene_Lotti_Allerlei_Weihnachten.txt' transformed to XML and saved as '/Users/sguhr/Desktop/Diss_notebooks/Diss_data_notebooks_man_anno/Subcorpora_XML/20240501_Subcorpus_1916-1920_XML/Mueller-Guttenbrunn_Adam_Die_schoene_Lotti_Allerlei_Weihnachten.xml'\n",
      "File 'Niese_Charlotte_Als_der_Mond.txt' transformed to XML and saved as '/Users/sguhr/Desktop/Diss_notebooks/Diss_data_notebooks_man_anno/Subcorpora_XML/20240501_Subcorpus_1916-1920_XML/Niese_Charlotte_Als_der_Mond.xml'\n",
      "File 'Essig_Hermann_Novellen_Der_Hundsbiss.txt' transformed to XML and saved as '/Users/sguhr/Desktop/Diss_notebooks/Diss_data_notebooks_man_anno/Subcorpora_XML/20240501_Subcorpus_1916-1920_XML/Essig_Hermann_Novellen_Der_Hundsbiss.xml'\n",
      "File 'Wohlbrueck_Olga_Des_Ratsherrn_Leinius_Tochter.txt' transformed to XML and saved as '/Users/sguhr/Desktop/Diss_notebooks/Diss_data_notebooks_man_anno/Subcorpora_XML/20240501_Subcorpus_1916-1920_XML/Wohlbrueck_Olga_Des_Ratsherrn_Leinius_Tochter.xml'\n"
     ]
    }
   ],
   "source": [
    "import os\n",
    "\n",
    "def remove_ds_store_file(source_dir):\n",
    "    # Remove the .DS_Store file if it exists\n",
    "    ds_store_path = os.path.join(source_dir, \".DS_Store\")\n",
    "    if os.path.exists(ds_store_path):\n",
    "        os.remove(ds_store_path)\n",
    "        print(\".DS_Store file removed\")\n",
    "\n",
    "\n",
    "def transform_to_xml(source_dir, destination_dir):\n",
    "    # Extract the folder name from the source directory\n",
    "    source_folder_name = os.path.basename(os.path.normpath(source_dir))\n",
    "    \n",
    "    # Construct the destination directory name by adding '_XML' to the source folder name\n",
    "    destination_folder_name = source_folder_name + \"_XML\"\n",
    "    destination_dir = os.path.join(destination_dir, destination_folder_name)\n",
    "    \n",
    "    # Create the destination directory if it doesn't exist\n",
    "    if not os.path.exists(destination_dir):\n",
    "        os.makedirs(destination_dir)\n",
    "           \n",
    "    # Iterate through each file in the source directory\n",
    "    for filename in os.listdir(source_dir):\n",
    "        source_file_path = os.path.join(source_dir, filename)\n",
    "        \n",
    "        # Check if the file is a regular file\n",
    "        if os.path.isfile(source_file_path):\n",
    "            # Read the content of the file\n",
    "            with open(source_file_path, 'r') as file:\n",
    "                content = file.read()\n",
    "            \n",
    "            # Construct the XML content\n",
    "            xml_content = f\"\"\"<?xml version=\"1.0\" encoding=\"UTF-8\"?>\n",
    "<TEI xmlns=\"http://www.tei-c.org/ns/1.0\" xmlns:xs=\"http://www.w3.org/2001/XMLSchema\">\n",
    "    <teiHeader>\n",
    "        <fileDesc>\n",
    "            <titleStmt>\n",
    "                <title>{filename}</title>\n",
    "            </titleStmt>\n",
    "        </fileDesc>\n",
    "    </teiHeader>\n",
    "    <text>\n",
    "        <body>\n",
    "{content}\n",
    "        </body>\n",
    "    </text>\n",
    "</TEI>\n",
    "\"\"\"\n",
    "\n",
    "            # Write the XML content to a new file in the destination directory\n",
    "            xml_file_path = os.path.join(destination_dir, filename.replace('.txt', '.xml'))\n",
    "            with open(xml_file_path, 'w') as xml_file:\n",
    "                xml_file.write(xml_content)\n",
    "            \n",
    "            print(f\"File '{filename}' transformed to XML and saved as '{xml_file_path}'\")\n",
    "\n",
    "# Example usage\n",
    "source_directory = corpus_directory\n",
    "destination_directory = \"/Users/sguhr/Desktop/Diss_notebooks/Diss_data_notebooks_man_anno/Subcorpora_XML\"\n",
    "\n",
    "# Optionally remove the .DS_Store file\n",
    "remove_ds_store_file(source_directory)\n",
    "\n",
    "# Transform files to XML\n",
    "transform_to_xml(source_directory, destination_directory)\n"
   ],
   "metadata": {
    "collapsed": false,
    "ExecuteTime": {
     "end_time": "2024-05-01T11:27:29.163062Z",
     "start_time": "2024-05-01T11:27:29.109268Z"
    }
   },
   "id": "af4dac572e143f57",
   "execution_count": 392
  },
  {
   "cell_type": "code",
   "outputs": [
    {
     "name": "stdout",
     "output_type": "stream",
     "text": [
      "Ready.\n"
     ]
    }
   ],
   "source": [
    "print(\"Ready.\")"
   ],
   "metadata": {
    "collapsed": false,
    "ExecuteTime": {
     "end_time": "2024-05-01T11:27:30.180009Z",
     "start_time": "2024-05-01T11:27:30.177799Z"
    }
   },
   "id": "f2b100ceb397bd74",
   "execution_count": 393
  },
  {
   "cell_type": "code",
   "outputs": [
    {
     "ename": "NameError",
     "evalue": "name 'stop' is not defined",
     "output_type": "error",
     "traceback": [
      "\u001B[0;31m---------------------------------------------------------------------------\u001B[0m",
      "\u001B[0;31mNameError\u001B[0m                                 Traceback (most recent call last)",
      "Cell \u001B[0;32mIn[31], line 1\u001B[0m\n\u001B[0;32m----> 1\u001B[0m stop\n",
      "\u001B[0;31mNameError\u001B[0m: name 'stop' is not defined"
     ]
    }
   ],
   "source": [
    "stop"
   ],
   "metadata": {
    "collapsed": false,
    "ExecuteTime": {
     "end_time": "2024-05-01T08:09:46.374220Z",
     "start_time": "2024-05-01T08:09:46.193832Z"
    }
   },
   "id": "bc2bed4571582489",
   "execution_count": 31
  },
  {
   "cell_type": "code",
   "outputs": [
    {
     "name": "stdout",
     "output_type": "stream",
     "text": [
      "File 'Peters_August_Blind_und_doch_sehend.txt' transformed to XML and saved as '/Users/sguhr/Desktop/Diss_notebooks/Diss_data_notebooks_man_anno/Subcorpora_XML/20240430_Subcorpus_1848-70_XML/Peters_August_Blind_und_doch_sehend.xml'\n",
      "File 'Rein_Ludwig_Fabrikantenbrod.txt' transformed to XML and saved as '/Users/sguhr/Desktop/Diss_notebooks/Diss_data_notebooks_man_anno/Subcorpora_XML/20240430_Subcorpus_1848-70_XML/Rein_Ludwig_Fabrikantenbrod.xml'\n",
      "File 'Kinkel_Gottfried_Erzaehlungen_Margret.txt' transformed to XML and saved as '/Users/sguhr/Desktop/Diss_notebooks/Diss_data_notebooks_man_anno/Subcorpora_XML/20240430_Subcorpus_1848-70_XML/Kinkel_Gottfried_Erzaehlungen_Margret.xml'\n",
      "File 'Auerbach_Berthold_Hopfen_und_Gerste.txt' transformed to XML and saved as '/Users/sguhr/Desktop/Diss_notebooks/Diss_data_notebooks_man_anno/Subcorpora_XML/20240430_Subcorpus_1848-70_XML/Auerbach_Berthold_Hopfen_und_Gerste.xml'\n",
      "File 'Hofmann_Friedrich_Das_Heimweh.txt' transformed to XML and saved as '/Users/sguhr/Desktop/Diss_notebooks/Diss_data_notebooks_man_anno/Subcorpora_XML/20240430_Subcorpus_1848-70_XML/Hofmann_Friedrich_Das_Heimweh.xml'\n",
      "File 'von_Eschstruth_Nataly_Die_Erlkoenigin.txt' transformed to XML and saved as '/Users/sguhr/Desktop/Diss_notebooks/Diss_data_notebooks_man_anno/Subcorpora_XML/20240430_Subcorpus_1848-70_XML/von_Eschstruth_Nataly_Die_Erlkoenigin.xml'\n",
      "File 'Friedrich_Friedrich_Ein_Secondelieutenant.txt' transformed to XML and saved as '/Users/sguhr/Desktop/Diss_notebooks/Diss_data_notebooks_man_anno/Subcorpora_XML/20240430_Subcorpus_1848-70_XML/Friedrich_Friedrich_Ein_Secondelieutenant.xml'\n",
      "File 'Stifter_Adalbert_Der_Kuss_von_Sentze.txt' transformed to XML and saved as '/Users/sguhr/Desktop/Diss_notebooks/Diss_data_notebooks_man_anno/Subcorpora_XML/20240430_Subcorpus_1848-70_XML/Stifter_Adalbert_Der_Kuss_von_Sentze.xml'\n",
      "File 'von_Schmid_Hermann_Der_Habermeister.txt' transformed to XML and saved as '/Users/sguhr/Desktop/Diss_notebooks/Diss_data_notebooks_man_anno/Subcorpora_XML/20240430_Subcorpus_1848-70_XML/von_Schmid_Hermann_Der_Habermeister.xml'\n",
      "File 'Schrader_August_Spekulation_und_Freundschaft.txt' transformed to XML and saved as '/Users/sguhr/Desktop/Diss_notebooks/Diss_data_notebooks_man_anno/Subcorpora_XML/20240430_Subcorpus_1848-70_XML/Schrader_August_Spekulation_und_Freundschaft.xml'\n",
      "File 'von_Sternberg_Alexander_Iffland.txt' transformed to XML and saved as '/Users/sguhr/Desktop/Diss_notebooks/Diss_data_notebooks_man_anno/Subcorpora_XML/20240430_Subcorpus_1848-70_XML/von_Sternberg_Alexander_Iffland.xml'\n",
      "File 'Kossak_Ernst_Seine_Badesaison.txt' transformed to XML and saved as '/Users/sguhr/Desktop/Diss_notebooks/Diss_data_notebooks_man_anno/Subcorpora_XML/20240430_Subcorpus_1848-70_XML/Kossak_Ernst_Seine_Badesaison.xml'\n",
      "File 'Gerstaecker_Friedrich_Eine_alltaegliche_Geschichte.txt' transformed to XML and saved as '/Users/sguhr/Desktop/Diss_notebooks/Diss_data_notebooks_man_anno/Subcorpora_XML/20240430_Subcorpus_1848-70_XML/Gerstaecker_Friedrich_Eine_alltaegliche_Geschichte.xml'\n",
      "File 'Heyse_Paul_Die_kleine_Mama.txt' transformed to XML and saved as '/Users/sguhr/Desktop/Diss_notebooks/Diss_data_notebooks_man_anno/Subcorpora_XML/20240430_Subcorpus_1848-70_XML/Heyse_Paul_Die_kleine_Mama.xml'\n",
      "File 'von_Schmid_Hermann_Der_Kranz_am_Marterl.txt' transformed to XML and saved as '/Users/sguhr/Desktop/Diss_notebooks/Diss_data_notebooks_man_anno/Subcorpora_XML/20240430_Subcorpus_1848-70_XML/von_Schmid_Hermann_Der_Kranz_am_Marterl.xml'\n",
      "File 'Kossak_Ernst_Die_Schule_des_Abgeordneten.txt' transformed to XML and saved as '/Users/sguhr/Desktop/Diss_notebooks/Diss_data_notebooks_man_anno/Subcorpora_XML/20240430_Subcorpus_1848-70_XML/Kossak_Ernst_Die_Schule_des_Abgeordneten.xml'\n",
      "File 'Rasch_Gustav_Eine_Bergfahrt_durch_die_Luft.txt' transformed to XML and saved as '/Users/sguhr/Desktop/Diss_notebooks/Diss_data_notebooks_man_anno/Subcorpora_XML/20240430_Subcorpus_1848-70_XML/Rasch_Gustav_Eine_Bergfahrt_durch_die_Luft.xml'\n",
      "File 'Heyse_Paul_Die_Pfadfinderin.txt' transformed to XML and saved as '/Users/sguhr/Desktop/Diss_notebooks/Diss_data_notebooks_man_anno/Subcorpora_XML/20240430_Subcorpus_1848-70_XML/Heyse_Paul_Die_Pfadfinderin.xml'\n",
      "File 'Meyr_Melchior_Unverhofft.txt' transformed to XML and saved as '/Users/sguhr/Desktop/Diss_notebooks/Diss_data_notebooks_man_anno/Subcorpora_XML/20240430_Subcorpus_1848-70_XML/Meyr_Melchior_Unverhofft.xml'\n",
      "File 'Wildermuth_Ottilie_Geschichten_aus_Schwaben_Der_Witwe_Toechterlein.txt' transformed to XML and saved as '/Users/sguhr/Desktop/Diss_notebooks/Diss_data_notebooks_man_anno/Subcorpora_XML/20240430_Subcorpus_1848-70_XML/Wildermuth_Ottilie_Geschichten_aus_Schwaben_Der_Witwe_Toechterlein.xml'\n",
      "File 'von_Baudissin_Adelbert_Der_Lurbass.txt' transformed to XML and saved as '/Users/sguhr/Desktop/Diss_notebooks/Diss_data_notebooks_man_anno/Subcorpora_XML/20240430_Subcorpus_1848-70_XML/von_Baudissin_Adelbert_Der_Lurbass.xml'\n",
      "File 'Willkomm_Ernst_Vorgesichte.txt' transformed to XML and saved as '/Users/sguhr/Desktop/Diss_notebooks/Diss_data_notebooks_man_anno/Subcorpora_XML/20240430_Subcorpus_1848-70_XML/Willkomm_Ernst_Vorgesichte.xml'\n",
      "File 'Tenger_Mariam_Meister_Hans.txt' transformed to XML and saved as '/Users/sguhr/Desktop/Diss_notebooks/Diss_data_notebooks_man_anno/Subcorpora_XML/20240430_Subcorpus_1848-70_XML/Tenger_Mariam_Meister_Hans.xml'\n",
      "File 'Scheube_Hugo_Im_Grabe_der_Verschuetteten.txt' transformed to XML and saved as '/Users/sguhr/Desktop/Diss_notebooks/Diss_data_notebooks_man_anno/Subcorpora_XML/20240430_Subcorpus_1848-70_XML/Scheube_Hugo_Im_Grabe_der_Verschuetteten.xml'\n",
      "File 'Temme_Jodocus_Eine_schweizer_Landesgemeinde.txt' transformed to XML and saved as '/Users/sguhr/Desktop/Diss_notebooks/Diss_data_notebooks_man_anno/Subcorpora_XML/20240430_Subcorpus_1848-70_XML/Temme_Jodocus_Eine_schweizer_Landesgemeinde.xml'\n",
      "File 'Stolle_Ferdinand_Drei_Heimgegangene.txt' transformed to XML and saved as '/Users/sguhr/Desktop/Diss_notebooks/Diss_data_notebooks_man_anno/Subcorpora_XML/20240430_Subcorpus_1848-70_XML/Stolle_Ferdinand_Drei_Heimgegangene.xml'\n",
      "File 'von_Duering-Oetken_Helene_Drei_Blumen_am_Wege_eines_Hagestolzen.txt' transformed to XML and saved as '/Users/sguhr/Desktop/Diss_notebooks/Diss_data_notebooks_man_anno/Subcorpora_XML/20240430_Subcorpus_1848-70_XML/von_Duering-Oetken_Helene_Drei_Blumen_am_Wege_eines_Hagestolzen.xml'\n",
      "File 'Ring_Max_Die_Frau_des_Dichters.txt' transformed to XML and saved as '/Users/sguhr/Desktop/Diss_notebooks/Diss_data_notebooks_man_anno/Subcorpora_XML/20240430_Subcorpus_1848-70_XML/Ring_Max_Die_Frau_des_Dichters.xml'\n",
      "File 'Kinkel_Johanna_Musikalische_Orthodoxie.txt' transformed to XML and saved as '/Users/sguhr/Desktop/Diss_notebooks/Diss_data_notebooks_man_anno/Subcorpora_XML/20240430_Subcorpus_1848-70_XML/Kinkel_Johanna_Musikalische_Orthodoxie.xml'\n",
      "File 'Auerbach_Berthold_Barfuessele.txt' transformed to XML and saved as '/Users/sguhr/Desktop/Diss_notebooks/Diss_data_notebooks_man_anno/Subcorpora_XML/20240430_Subcorpus_1848-70_XML/Auerbach_Berthold_Barfuessele.xml'\n",
      "File 'Stolle_Ferdinand_Ein_Sommersonntag_im_Alpenstaedtchen_Reichenhall.txt' transformed to XML and saved as '/Users/sguhr/Desktop/Diss_notebooks/Diss_data_notebooks_man_anno/Subcorpora_XML/20240430_Subcorpus_1848-70_XML/Stolle_Ferdinand_Ein_Sommersonntag_im_Alpenstaedtchen_Reichenhall.xml'\n",
      "File 'Heigel_Carl_August_Er_kommt_nicht.txt' transformed to XML and saved as '/Users/sguhr/Desktop/Diss_notebooks/Diss_data_notebooks_man_anno/Subcorpora_XML/20240430_Subcorpus_1848-70_XML/Heigel_Carl_August_Er_kommt_nicht.xml'\n",
      "File 'Schuecking_Levin_Der_boese_Nachbar.txt' transformed to XML and saved as '/Users/sguhr/Desktop/Diss_notebooks/Diss_data_notebooks_man_anno/Subcorpora_XML/20240430_Subcorpus_1848-70_XML/Schuecking_Levin_Der_boese_Nachbar.xml'\n",
      "File 'Pichler_Adolph_Aus_den_Tyroler_Bergen.txt' transformed to XML and saved as '/Users/sguhr/Desktop/Diss_notebooks/Diss_data_notebooks_man_anno/Subcorpora_XML/20240430_Subcorpus_1848-70_XML/Pichler_Adolph_Aus_den_Tyroler_Bergen.xml'\n",
      "File 'Schrader_August_Klementine.txt' transformed to XML and saved as '/Users/sguhr/Desktop/Diss_notebooks/Diss_data_notebooks_man_anno/Subcorpora_XML/20240430_Subcorpus_1848-70_XML/Schrader_August_Klementine.xml'\n",
      "File 'Rasch_Gustav_Vom_verlassenen_Bruderstamme.txt' transformed to XML and saved as '/Users/sguhr/Desktop/Diss_notebooks/Diss_data_notebooks_man_anno/Subcorpora_XML/20240430_Subcorpus_1848-70_XML/Rasch_Gustav_Vom_verlassenen_Bruderstamme.xml'\n",
      "File 'Gerstaecker_Friedrich_Ruine_Wildenfels.txt' transformed to XML and saved as '/Users/sguhr/Desktop/Diss_notebooks/Diss_data_notebooks_man_anno/Subcorpora_XML/20240430_Subcorpus_1848-70_XML/Gerstaecker_Friedrich_Ruine_Wildenfels.xml'\n",
      "File 'Schrader_August_Die_schoene_Kathi.txt' transformed to XML and saved as '/Users/sguhr/Desktop/Diss_notebooks/Diss_data_notebooks_man_anno/Subcorpora_XML/20240430_Subcorpus_1848-70_XML/Schrader_August_Die_schoene_Kathi.xml'\n",
      "File 'Wildermuth_Ottilie_Geschichten_aus_Schwaben_Der_Prinz_aus_Mohrenland.txt' transformed to XML and saved as '/Users/sguhr/Desktop/Diss_notebooks/Diss_data_notebooks_man_anno/Subcorpora_XML/20240430_Subcorpus_1848-70_XML/Wildermuth_Ottilie_Geschichten_aus_Schwaben_Der_Prinz_aus_Mohrenland.xml'\n",
      "File 'Heigel_Carl_August_Das_ewige_Licht.txt' transformed to XML and saved as '/Users/sguhr/Desktop/Diss_notebooks/Diss_data_notebooks_man_anno/Subcorpora_XML/20240430_Subcorpus_1848-70_XML/Heigel_Carl_August_Das_ewige_Licht.xml'\n",
      "File 'Hiltl_Georg_Erinnerungen_aus_dem_deutschen_Kriege.txt' transformed to XML and saved as '/Users/sguhr/Desktop/Diss_notebooks/Diss_data_notebooks_man_anno/Subcorpora_XML/20240430_Subcorpus_1848-70_XML/Hiltl_Georg_Erinnerungen_aus_dem_deutschen_Kriege.xml'\n",
      "File 'Temme_Jodocus_Volkesstimme.txt' transformed to XML and saved as '/Users/sguhr/Desktop/Diss_notebooks/Diss_data_notebooks_man_anno/Subcorpora_XML/20240430_Subcorpus_1848-70_XML/Temme_Jodocus_Volkesstimme.xml'\n",
      "File 'Muegge_Theodor_Der_Vogt_von_Sylt.txt' transformed to XML and saved as '/Users/sguhr/Desktop/Diss_notebooks/Diss_data_notebooks_man_anno/Subcorpora_XML/20240430_Subcorpus_1848-70_XML/Muegge_Theodor_Der_Vogt_von_Sylt.xml'\n",
      "File 'Temme_Jodocus_Ein_Vertheidiger.txt' transformed to XML and saved as '/Users/sguhr/Desktop/Diss_notebooks/Diss_data_notebooks_man_anno/Subcorpora_XML/20240430_Subcorpus_1848-70_XML/Temme_Jodocus_Ein_Vertheidiger.xml'\n",
      "File 'Temme_Jodocus_Ein_Kirchhofsgeheimniss.txt' transformed to XML and saved as '/Users/sguhr/Desktop/Diss_notebooks/Diss_data_notebooks_man_anno/Subcorpora_XML/20240430_Subcorpus_1848-70_XML/Temme_Jodocus_Ein_Kirchhofsgeheimniss.xml'\n",
      "File 'Gerstaecker_Friedrich_Ein_Pirschgang_auf_Gemsen.txt' transformed to XML and saved as '/Users/sguhr/Desktop/Diss_notebooks/Diss_data_notebooks_man_anno/Subcorpora_XML/20240430_Subcorpus_1848-70_XML/Gerstaecker_Friedrich_Ein_Pirschgang_auf_Gemsen.xml'\n",
      "File 'Ring_Max_Auf_Regen_folgt_Sonnenschein.txt' transformed to XML and saved as '/Users/sguhr/Desktop/Diss_notebooks/Diss_data_notebooks_man_anno/Subcorpora_XML/20240430_Subcorpus_1848-70_XML/Ring_Max_Auf_Regen_folgt_Sonnenschein.xml'\n",
      "File 'Winckler_Willibald_Ein_Wort.txt' transformed to XML and saved as '/Users/sguhr/Desktop/Diss_notebooks/Diss_data_notebooks_man_anno/Subcorpora_XML/20240430_Subcorpus_1848-70_XML/Winckler_Willibald_Ein_Wort.xml'\n",
      "File 'von_Schmid_Hermann_Das_Bombardement_von_Schaerding.txt' transformed to XML and saved as '/Users/sguhr/Desktop/Diss_notebooks/Diss_data_notebooks_man_anno/Subcorpora_XML/20240430_Subcorpus_1848-70_XML/von_Schmid_Hermann_Das_Bombardement_von_Schaerding.xml'\n",
      "File 'Storch_Ludwig_Der_alte_wandernde_Spielmann.txt' transformed to XML and saved as '/Users/sguhr/Desktop/Diss_notebooks/Diss_data_notebooks_man_anno/Subcorpora_XML/20240430_Subcorpus_1848-70_XML/Storch_Ludwig_Der_alte_wandernde_Spielmann.xml'\n",
      "File 'Gerstaecker_Friedrich_Der_Heimathschein.txt' transformed to XML and saved as '/Users/sguhr/Desktop/Diss_notebooks/Diss_data_notebooks_man_anno/Subcorpora_XML/20240430_Subcorpus_1848-70_XML/Gerstaecker_Friedrich_Der_Heimathschein.xml'\n",
      "File 'von_Schmid_Hermann_Sueden_und_Norden.txt' transformed to XML and saved as '/Users/sguhr/Desktop/Diss_notebooks/Diss_data_notebooks_man_anno/Subcorpora_XML/20240430_Subcorpus_1848-70_XML/von_Schmid_Hermann_Sueden_und_Norden.xml'\n",
      "File 'Wildermuth_Ottilie_Geschichten_aus_Schwaben_Das_genuegsame_Pfarrhaus.txt' transformed to XML and saved as '/Users/sguhr/Desktop/Diss_notebooks/Diss_data_notebooks_man_anno/Subcorpora_XML/20240430_Subcorpus_1848-70_XML/Wildermuth_Ottilie_Geschichten_aus_Schwaben_Das_genuegsame_Pfarrhaus.xml'\n",
      "File 'von_Schmid_Hermann_Der_Holzgraf.txt' transformed to XML and saved as '/Users/sguhr/Desktop/Diss_notebooks/Diss_data_notebooks_man_anno/Subcorpora_XML/20240430_Subcorpus_1848-70_XML/von_Schmid_Hermann_Der_Holzgraf.xml'\n",
      "File 'Topf_August_Der_Vogeltobies.txt' transformed to XML and saved as '/Users/sguhr/Desktop/Diss_notebooks/Diss_data_notebooks_man_anno/Subcorpora_XML/20240430_Subcorpus_1848-70_XML/Topf_August_Der_Vogeltobies.xml'\n",
      "File 'Muehlbach_Luise_Mesmer_in_Wien.txt' transformed to XML and saved as '/Users/sguhr/Desktop/Diss_notebooks/Diss_data_notebooks_man_anno/Subcorpora_XML/20240430_Subcorpus_1848-70_XML/Muehlbach_Luise_Mesmer_in_Wien.xml'\n",
      "File 'Wiggers_Moritz_Gottfried_Kinkels_Befreiung.txt' transformed to XML and saved as '/Users/sguhr/Desktop/Diss_notebooks/Diss_data_notebooks_man_anno/Subcorpora_XML/20240430_Subcorpus_1848-70_XML/Wiggers_Moritz_Gottfried_Kinkels_Befreiung.xml'\n",
      "File 'Meyer_August_Ferdinand_Ein_einsames_Herz.txt' transformed to XML and saved as '/Users/sguhr/Desktop/Diss_notebooks/Diss_data_notebooks_man_anno/Subcorpora_XML/20240430_Subcorpus_1848-70_XML/Meyer_August_Ferdinand_Ein_einsames_Herz.xml'\n",
      "File 'Fritze_Ernst_Der_Taubenthurm.txt' transformed to XML and saved as '/Users/sguhr/Desktop/Diss_notebooks/Diss_data_notebooks_man_anno/Subcorpora_XML/20240430_Subcorpus_1848-70_XML/Fritze_Ernst_Der_Taubenthurm.xml'\n",
      "File 'von_Weber_Max_Maria_Der_Bergsturz_bei_Schandau.txt' transformed to XML and saved as '/Users/sguhr/Desktop/Diss_notebooks/Diss_data_notebooks_man_anno/Subcorpora_XML/20240430_Subcorpus_1848-70_XML/von_Weber_Max_Maria_Der_Bergsturz_bei_Schandau.xml'\n",
      "File 'Gotthelf_Jeremias_Barthli_der_Korber.txt' transformed to XML and saved as '/Users/sguhr/Desktop/Diss_notebooks/Diss_data_notebooks_man_anno/Subcorpora_XML/20240430_Subcorpus_1848-70_XML/Gotthelf_Jeremias_Barthli_der_Korber.xml'\n",
      "File 'Auerbach_Berthold_Der_Viereckig_oder.txt' transformed to XML and saved as '/Users/sguhr/Desktop/Diss_notebooks/Diss_data_notebooks_man_anno/Subcorpora_XML/20240430_Subcorpus_1848-70_XML/Auerbach_Berthold_Der_Viereckig_oder.xml'\n",
      "File 'Doehn_Rudolf_Mein_Bruder.txt' transformed to XML and saved as '/Users/sguhr/Desktop/Diss_notebooks/Diss_data_notebooks_man_anno/Subcorpora_XML/20240430_Subcorpus_1848-70_XML/Doehn_Rudolf_Mein_Bruder.xml'\n",
      "File 'Fritze_Ernst_Lord_Felix.txt' transformed to XML and saved as '/Users/sguhr/Desktop/Diss_notebooks/Diss_data_notebooks_man_anno/Subcorpora_XML/20240430_Subcorpus_1848-70_XML/Fritze_Ernst_Lord_Felix.xml'\n",
      "File 'Smidt_Heinrich_Das_Brautschiff.txt' transformed to XML and saved as '/Users/sguhr/Desktop/Diss_notebooks/Diss_data_notebooks_man_anno/Subcorpora_XML/20240430_Subcorpus_1848-70_XML/Smidt_Heinrich_Das_Brautschiff.xml'\n",
      "File 'Wildermuth_Ottilie_Todte_Treue.txt' transformed to XML and saved as '/Users/sguhr/Desktop/Diss_notebooks/Diss_data_notebooks_man_anno/Subcorpora_XML/20240430_Subcorpus_1848-70_XML/Wildermuth_Ottilie_Todte_Treue.xml'\n",
      "File 'Stifter_Adalbert_Der_fromme_Spruch.txt' transformed to XML and saved as '/Users/sguhr/Desktop/Diss_notebooks/Diss_data_notebooks_man_anno/Subcorpora_XML/20240430_Subcorpus_1848-70_XML/Stifter_Adalbert_Der_fromme_Spruch.xml'\n",
      "File 'Bernstein_Aaron_Aus_vollem_Menschenherzen.txt' transformed to XML and saved as '/Users/sguhr/Desktop/Diss_notebooks/Diss_data_notebooks_man_anno/Subcorpora_XML/20240430_Subcorpus_1848-70_XML/Bernstein_Aaron_Aus_vollem_Menschenherzen.xml'\n",
      "File 'Wildermuth_Ottilie_Geschichten_aus_Schwaben_Auch_ein_altes_Paerchen.txt' transformed to XML and saved as '/Users/sguhr/Desktop/Diss_notebooks/Diss_data_notebooks_man_anno/Subcorpora_XML/20240430_Subcorpus_1848-70_XML/Wildermuth_Ottilie_Geschichten_aus_Schwaben_Auch_ein_altes_Paerchen.xml'\n",
      "File 'Auerbach_Berthold_Die_Geschichte_des_Diethelm.txt' transformed to XML and saved as '/Users/sguhr/Desktop/Diss_notebooks/Diss_data_notebooks_man_anno/Subcorpora_XML/20240430_Subcorpus_1848-70_XML/Auerbach_Berthold_Die_Geschichte_des_Diethelm.xml'\n",
      "File 'Storch_Ludwig_Das_Loechle.txt' transformed to XML and saved as '/Users/sguhr/Desktop/Diss_notebooks/Diss_data_notebooks_man_anno/Subcorpora_XML/20240430_Subcorpus_1848-70_XML/Storch_Ludwig_Das_Loechle.xml'\n",
      "File 'Lewald_Fanny_Der_Letzte_seines_Stammes.txt' transformed to XML and saved as '/Users/sguhr/Desktop/Diss_notebooks/Diss_data_notebooks_man_anno/Subcorpora_XML/20240430_Subcorpus_1848-70_XML/Lewald_Fanny_Der_Letzte_seines_Stammes.xml'\n",
      "File 'Brunold_Friedrich_Sancta_Libertas.txt' transformed to XML and saved as '/Users/sguhr/Desktop/Diss_notebooks/Diss_data_notebooks_man_anno/Subcorpora_XML/20240430_Subcorpus_1848-70_XML/Brunold_Friedrich_Sancta_Libertas.xml'\n",
      "File 'Wildermuth_Ottilie_Geschichten_aus_Schwaben_Der_alte_Frey.txt' transformed to XML and saved as '/Users/sguhr/Desktop/Diss_notebooks/Diss_data_notebooks_man_anno/Subcorpora_XML/20240430_Subcorpus_1848-70_XML/Wildermuth_Ottilie_Geschichten_aus_Schwaben_Der_alte_Frey.xml'\n",
      "File 'Raabe_Wilhelm_Nach_dem_Großen_Kriege.txt' transformed to XML and saved as '/Users/sguhr/Desktop/Diss_notebooks/Diss_data_notebooks_man_anno/Subcorpora_XML/20240430_Subcorpus_1848-70_XML/Raabe_Wilhelm_Nach_dem_Großen_Kriege.xml'\n",
      "File 'Temme_Jodocus_Der_gestohlene_Brautschatz.txt' transformed to XML and saved as '/Users/sguhr/Desktop/Diss_notebooks/Diss_data_notebooks_man_anno/Subcorpora_XML/20240430_Subcorpus_1848-70_XML/Temme_Jodocus_Der_gestohlene_Brautschatz.xml'\n",
      "File 'Rasch_Gustav_Ein_Schneesturm_auf_den_Hohen_Heiligenbluther_Tauern.txt' transformed to XML and saved as '/Users/sguhr/Desktop/Diss_notebooks/Diss_data_notebooks_man_anno/Subcorpora_XML/20240430_Subcorpus_1848-70_XML/Rasch_Gustav_Ein_Schneesturm_auf_den_Hohen_Heiligenbluther_Tauern.xml'\n",
      "File 'Ring_Max_Ein_Ball_im_Irrenhause.txt' transformed to XML and saved as '/Users/sguhr/Desktop/Diss_notebooks/Diss_data_notebooks_man_anno/Subcorpora_XML/20240430_Subcorpus_1848-70_XML/Ring_Max_Ein_Ball_im_Irrenhause.xml'\n",
      "File 'Stolle_Ferdinand_Ein_Mutterherz.txt' transformed to XML and saved as '/Users/sguhr/Desktop/Diss_notebooks/Diss_data_notebooks_man_anno/Subcorpora_XML/20240430_Subcorpus_1848-70_XML/Stolle_Ferdinand_Ein_Mutterherz.xml'\n",
      "File 'Wildermuth_Ottilie_Geschichten_aus_Schwaben_Das_erfolgreiche_Conzert.txt' transformed to XML and saved as '/Users/sguhr/Desktop/Diss_notebooks/Diss_data_notebooks_man_anno/Subcorpora_XML/20240430_Subcorpus_1848-70_XML/Wildermuth_Ottilie_Geschichten_aus_Schwaben_Das_erfolgreiche_Conzert.xml'\n",
      "File 'Stifter_Adalbert_Nachkommenschaften.txt' transformed to XML and saved as '/Users/sguhr/Desktop/Diss_notebooks/Diss_data_notebooks_man_anno/Subcorpora_XML/20240430_Subcorpus_1848-70_XML/Stifter_Adalbert_Nachkommenschaften.xml'\n",
      "File 'Ring_Max_Vom_alten_Heim.txt' transformed to XML and saved as '/Users/sguhr/Desktop/Diss_notebooks/Diss_data_notebooks_man_anno/Subcorpora_XML/20240430_Subcorpus_1848-70_XML/Ring_Max_Vom_alten_Heim.xml'\n",
      "File 'Marlitt_Eugenie_Das_Geheimnis_der_alten_Mamsell.txt' transformed to XML and saved as '/Users/sguhr/Desktop/Diss_notebooks/Diss_data_notebooks_man_anno/Subcorpora_XML/20240430_Subcorpus_1848-70_XML/Marlitt_Eugenie_Das_Geheimnis_der_alten_Mamsell.xml'\n",
      "File 'von_Schmid_Hermann_Der_bairische_Hiesel.txt' transformed to XML and saved as '/Users/sguhr/Desktop/Diss_notebooks/Diss_data_notebooks_man_anno/Subcorpora_XML/20240430_Subcorpus_1848-70_XML/von_Schmid_Hermann_Der_bairische_Hiesel.xml'\n",
      "File 'Storm_Theodor_Am_Kamin.txt' transformed to XML and saved as '/Users/sguhr/Desktop/Diss_notebooks/Diss_data_notebooks_man_anno/Subcorpora_XML/20240430_Subcorpus_1848-70_XML/Storm_Theodor_Am_Kamin.xml'\n",
      "File 'von_Kessel_Karl_Das_Waldbluemchen.txt' transformed to XML and saved as '/Users/sguhr/Desktop/Diss_notebooks/Diss_data_notebooks_man_anno/Subcorpora_XML/20240430_Subcorpus_1848-70_XML/von_Kessel_Karl_Das_Waldbluemchen.xml'\n",
      "File 'Ring_Max_Sand.txt' transformed to XML and saved as '/Users/sguhr/Desktop/Diss_notebooks/Diss_data_notebooks_man_anno/Subcorpora_XML/20240430_Subcorpus_1848-70_XML/Ring_Max_Sand.xml'\n",
      "File 'Schuecking_Levin_Die_Thurmschwalbe.txt' transformed to XML and saved as '/Users/sguhr/Desktop/Diss_notebooks/Diss_data_notebooks_man_anno/Subcorpora_XML/20240430_Subcorpus_1848-70_XML/Schuecking_Levin_Die_Thurmschwalbe.xml'\n",
      "File 'Wildermuth_Ottilie_Onkel_Gottliebs_Jugendliebe.txt' transformed to XML and saved as '/Users/sguhr/Desktop/Diss_notebooks/Diss_data_notebooks_man_anno/Subcorpora_XML/20240430_Subcorpus_1848-70_XML/Wildermuth_Ottilie_Onkel_Gottliebs_Jugendliebe.xml'\n",
      "File 'Diezmann_August_Martha.txt' transformed to XML and saved as '/Users/sguhr/Desktop/Diss_notebooks/Diss_data_notebooks_man_anno/Subcorpora_XML/20240430_Subcorpus_1848-70_XML/Diezmann_August_Martha.xml'\n",
      "File 'Stifter_Adalbert_Bunte_Steine_Bergkristall.txt' transformed to XML and saved as '/Users/sguhr/Desktop/Diss_notebooks/Diss_data_notebooks_man_anno/Subcorpora_XML/20240430_Subcorpus_1848-70_XML/Stifter_Adalbert_Bunte_Steine_Bergkristall.xml'\n",
      "File 'Ernesti_Louise_Friesenliebe.txt' transformed to XML and saved as '/Users/sguhr/Desktop/Diss_notebooks/Diss_data_notebooks_man_anno/Subcorpora_XML/20240430_Subcorpus_1848-70_XML/Ernesti_Louise_Friesenliebe.xml'\n",
      "File 'Wildermuth_Ottilie_Geschichten_aus_Schwaben_Eine_alter_Jungfer.txt' transformed to XML and saved as '/Users/sguhr/Desktop/Diss_notebooks/Diss_data_notebooks_man_anno/Subcorpora_XML/20240430_Subcorpus_1848-70_XML/Wildermuth_Ottilie_Geschichten_aus_Schwaben_Eine_alter_Jungfer.xml'\n",
      "File 'Kuernberger_Ferdinand_Flucht_und_Fund.txt' transformed to XML and saved as '/Users/sguhr/Desktop/Diss_notebooks/Diss_data_notebooks_man_anno/Subcorpora_XML/20240430_Subcorpus_1848-70_XML/Kuernberger_Ferdinand_Flucht_und_Fund.xml'\n",
      "File 'Auerbach_Berthold_Ein_eigen_Haus.txt' transformed to XML and saved as '/Users/sguhr/Desktop/Diss_notebooks/Diss_data_notebooks_man_anno/Subcorpora_XML/20240430_Subcorpus_1848-70_XML/Auerbach_Berthold_Ein_eigen_Haus.xml'\n",
      "File 'Temme_Jodocus_Verfehltes_Leben.txt' transformed to XML and saved as '/Users/sguhr/Desktop/Diss_notebooks/Diss_data_notebooks_man_anno/Subcorpora_XML/20240430_Subcorpus_1848-70_XML/Temme_Jodocus_Verfehltes_Leben.xml'\n",
      "File 'Frenzel_Karl_Isolde.txt' transformed to XML and saved as '/Users/sguhr/Desktop/Diss_notebooks/Diss_data_notebooks_man_anno/Subcorpora_XML/20240430_Subcorpus_1848-70_XML/Frenzel_Karl_Isolde.xml'\n",
      "File 'Rasch_Gustav_Ein_schleswiger_Edelmann.txt' transformed to XML and saved as '/Users/sguhr/Desktop/Diss_notebooks/Diss_data_notebooks_man_anno/Subcorpora_XML/20240430_Subcorpus_1848-70_XML/Rasch_Gustav_Ein_schleswiger_Edelmann.xml'\n",
      "File 'Keil_Ernst_Manoeverbild.txt' transformed to XML and saved as '/Users/sguhr/Desktop/Diss_notebooks/Diss_data_notebooks_man_anno/Subcorpora_XML/20240430_Subcorpus_1848-70_XML/Keil_Ernst_Manoeverbild.xml'\n",
      "File 'von_Biedenfeld_Ferdinand_Eine_Begegnung_mit_General_Radowitz.txt' transformed to XML and saved as '/Users/sguhr/Desktop/Diss_notebooks/Diss_data_notebooks_man_anno/Subcorpora_XML/20240430_Subcorpus_1848-70_XML/von_Biedenfeld_Ferdinand_Eine_Begegnung_mit_General_Radowitz.xml'\n",
      "File 'Wildermuth_Ottilie_Geschichten_aus_Schwaben_Die_Jammerbase.txt' transformed to XML and saved as '/Users/sguhr/Desktop/Diss_notebooks/Diss_data_notebooks_man_anno/Subcorpora_XML/20240430_Subcorpus_1848-70_XML/Wildermuth_Ottilie_Geschichten_aus_Schwaben_Die_Jammerbase.xml'\n",
      "File 'Scherr_Johannes_Erkauft_und_Erkaempft.txt' transformed to XML and saved as '/Users/sguhr/Desktop/Diss_notebooks/Diss_data_notebooks_man_anno/Subcorpora_XML/20240430_Subcorpus_1848-70_XML/Scherr_Johannes_Erkauft_und_Erkaempft.xml'\n",
      "File 'Ring_Max_Der_Kranken-Engel.txt' transformed to XML and saved as '/Users/sguhr/Desktop/Diss_notebooks/Diss_data_notebooks_man_anno/Subcorpora_XML/20240430_Subcorpus_1848-70_XML/Ring_Max_Der_Kranken-Engel.xml'\n",
      "File 'von_Schmid_Hermann_Der_Bergwirth.txt' transformed to XML and saved as '/Users/sguhr/Desktop/Diss_notebooks/Diss_data_notebooks_man_anno/Subcorpora_XML/20240430_Subcorpus_1848-70_XML/von_Schmid_Hermann_Der_Bergwirth.xml'\n",
      "File 'Wildermuth_Ottilie_Der_Peterli_von_Emmental.txt' transformed to XML and saved as '/Users/sguhr/Desktop/Diss_notebooks/Diss_data_notebooks_man_anno/Subcorpora_XML/20240430_Subcorpus_1848-70_XML/Wildermuth_Ottilie_Der_Peterli_von_Emmental.xml'\n",
      "File 'Temme_Jodocus_Deutsche_Herzen_deutscher_Poebel.txt' transformed to XML and saved as '/Users/sguhr/Desktop/Diss_notebooks/Diss_data_notebooks_man_anno/Subcorpora_XML/20240430_Subcorpus_1848-70_XML/Temme_Jodocus_Deutsche_Herzen_deutscher_Poebel.xml'\n",
      "File 'Kinkel_Gottfried_Erzaehlungen_Die_Heimatlosen.txt' transformed to XML and saved as '/Users/sguhr/Desktop/Diss_notebooks/Diss_data_notebooks_man_anno/Subcorpora_XML/20240430_Subcorpus_1848-70_XML/Kinkel_Gottfried_Erzaehlungen_Die_Heimatlosen.xml'\n",
      "File 'Temme_Jodocus_Ein_Beamtenleben.txt' transformed to XML and saved as '/Users/sguhr/Desktop/Diss_notebooks/Diss_data_notebooks_man_anno/Subcorpora_XML/20240430_Subcorpus_1848-70_XML/Temme_Jodocus_Ein_Beamtenleben.xml'\n",
      "File 'Hoefer_Edmund_Der_Junker_von_Hohensee.txt' transformed to XML and saved as '/Users/sguhr/Desktop/Diss_notebooks/Diss_data_notebooks_man_anno/Subcorpora_XML/20240430_Subcorpus_1848-70_XML/Hoefer_Edmund_Der_Junker_von_Hohensee.xml'\n",
      "File 'Hoefer_Edmund_Das_Wyler_Schloesschen.txt' transformed to XML and saved as '/Users/sguhr/Desktop/Diss_notebooks/Diss_data_notebooks_man_anno/Subcorpora_XML/20240430_Subcorpus_1848-70_XML/Hoefer_Edmund_Das_Wyler_Schloesschen.xml'\n",
      "File 'Temme_Jodocus_Des_Kaufmanns_Ehrenschild.txt' transformed to XML and saved as '/Users/sguhr/Desktop/Diss_notebooks/Diss_data_notebooks_man_anno/Subcorpora_XML/20240430_Subcorpus_1848-70_XML/Temme_Jodocus_Des_Kaufmanns_Ehrenschild.xml'\n",
      "File 'Pichler_Adolph_Hofdame_und_Senner.txt' transformed to XML and saved as '/Users/sguhr/Desktop/Diss_notebooks/Diss_data_notebooks_man_anno/Subcorpora_XML/20240430_Subcorpus_1848-70_XML/Pichler_Adolph_Hofdame_und_Senner.xml'\n",
      "File 'Temme_Jodocus_Ein_Gottesgericht.txt' transformed to XML and saved as '/Users/sguhr/Desktop/Diss_notebooks/Diss_data_notebooks_man_anno/Subcorpora_XML/20240430_Subcorpus_1848-70_XML/Temme_Jodocus_Ein_Gottesgericht.xml'\n",
      "File 'Vogt_Carl_Ein_Besuch_im_Kloster.txt' transformed to XML and saved as '/Users/sguhr/Desktop/Diss_notebooks/Diss_data_notebooks_man_anno/Subcorpora_XML/20240430_Subcorpus_1848-70_XML/Vogt_Carl_Ein_Besuch_im_Kloster.xml'\n",
      "File 'Gotthelf_Jeremias_Der_Besuch.txt' transformed to XML and saved as '/Users/sguhr/Desktop/Diss_notebooks/Diss_data_notebooks_man_anno/Subcorpora_XML/20240430_Subcorpus_1848-70_XML/Gotthelf_Jeremias_Der_Besuch.xml'\n",
      "File 'Marlitt_Eugenie_Blaubart.txt' transformed to XML and saved as '/Users/sguhr/Desktop/Diss_notebooks/Diss_data_notebooks_man_anno/Subcorpora_XML/20240430_Subcorpus_1848-70_XML/Marlitt_Eugenie_Blaubart.xml'\n",
      "File 'Temme_Jodocus_Der_Unheimliche.txt' transformed to XML and saved as '/Users/sguhr/Desktop/Diss_notebooks/Diss_data_notebooks_man_anno/Subcorpora_XML/20240430_Subcorpus_1848-70_XML/Temme_Jodocus_Der_Unheimliche.xml'\n",
      "File 'Kurz_Hermann_Der_Weihnachtsfund.txt' transformed to XML and saved as '/Users/sguhr/Desktop/Diss_notebooks/Diss_data_notebooks_man_anno/Subcorpora_XML/20240430_Subcorpus_1848-70_XML/Kurz_Hermann_Der_Weihnachtsfund.xml'\n",
      "File 'Temme_Jodocus_Herr_Klein.txt' transformed to XML and saved as '/Users/sguhr/Desktop/Diss_notebooks/Diss_data_notebooks_man_anno/Subcorpora_XML/20240430_Subcorpus_1848-70_XML/Temme_Jodocus_Herr_Klein.xml'\n",
      "File 'Foerster_Ernst_Aus_der_guten_alten_Zeit.txt' transformed to XML and saved as '/Users/sguhr/Desktop/Diss_notebooks/Diss_data_notebooks_man_anno/Subcorpora_XML/20240430_Subcorpus_1848-70_XML/Foerster_Ernst_Aus_der_guten_alten_Zeit.xml'\n",
      "File 'Hoefer_Edmund_Der_wilde_Heide.txt' transformed to XML and saved as '/Users/sguhr/Desktop/Diss_notebooks/Diss_data_notebooks_man_anno/Subcorpora_XML/20240430_Subcorpus_1848-70_XML/Hoefer_Edmund_Der_wilde_Heide.xml'\n",
      "File 'Oertel_Wilhelm_Eine_Nacht_in_der_Holzhauerhuette.txt' transformed to XML and saved as '/Users/sguhr/Desktop/Diss_notebooks/Diss_data_notebooks_man_anno/Subcorpora_XML/20240430_Subcorpus_1848-70_XML/Oertel_Wilhelm_Eine_Nacht_in_der_Holzhauerhuette.xml'\n",
      "File 'Storch_Ludwig_Der_Seewicher.txt' transformed to XML and saved as '/Users/sguhr/Desktop/Diss_notebooks/Diss_data_notebooks_man_anno/Subcorpora_XML/20240430_Subcorpus_1848-70_XML/Storch_Ludwig_Der_Seewicher.xml'\n",
      "File 'Hartmann_Moritz_Warten.txt' transformed to XML and saved as '/Users/sguhr/Desktop/Diss_notebooks/Diss_data_notebooks_man_anno/Subcorpora_XML/20240430_Subcorpus_1848-70_XML/Hartmann_Moritz_Warten.xml'\n",
      "File 'Temme_Jodocus_Nobles_Blut.txt' transformed to XML and saved as '/Users/sguhr/Desktop/Diss_notebooks/Diss_data_notebooks_man_anno/Subcorpora_XML/20240430_Subcorpus_1848-70_XML/Temme_Jodocus_Nobles_Blut.xml'\n",
      "File 'Stifter_Adalbert_Bunte_Steine_Kalkstein.txt' transformed to XML and saved as '/Users/sguhr/Desktop/Diss_notebooks/Diss_data_notebooks_man_anno/Subcorpora_XML/20240430_Subcorpus_1848-70_XML/Stifter_Adalbert_Bunte_Steine_Kalkstein.xml'\n",
      "File 'Schrader_August_Arzt_und_Advokat.txt' transformed to XML and saved as '/Users/sguhr/Desktop/Diss_notebooks/Diss_data_notebooks_man_anno/Subcorpora_XML/20240430_Subcorpus_1848-70_XML/Schrader_August_Arzt_und_Advokat.xml'\n",
      "File 'Clasen_Lorenz_Immermann_und_Grabbe.txt' transformed to XML and saved as '/Users/sguhr/Desktop/Diss_notebooks/Diss_data_notebooks_man_anno/Subcorpora_XML/20240430_Subcorpus_1848-70_XML/Clasen_Lorenz_Immermann_und_Grabbe.xml'\n",
      "File 'Temme_Jodocus_Weihnachts-Heiligerabend.txt' transformed to XML and saved as '/Users/sguhr/Desktop/Diss_notebooks/Diss_data_notebooks_man_anno/Subcorpora_XML/20240430_Subcorpus_1848-70_XML/Temme_Jodocus_Weihnachts-Heiligerabend.xml'\n",
      "File 'von_Schorn_Henriette_Kind_und_Kindeskind.txt' transformed to XML and saved as '/Users/sguhr/Desktop/Diss_notebooks/Diss_data_notebooks_man_anno/Subcorpora_XML/20240430_Subcorpus_1848-70_XML/von_Schorn_Henriette_Kind_und_Kindeskind.xml'\n",
      "File 'Temme_Jodocus_Der_Richter.txt' transformed to XML and saved as '/Users/sguhr/Desktop/Diss_notebooks/Diss_data_notebooks_man_anno/Subcorpora_XML/20240430_Subcorpus_1848-70_XML/Temme_Jodocus_Der_Richter.xml'\n",
      "File 'von_Baudissin_Adelbert_Ein_Soldaten-Diner.txt' transformed to XML and saved as '/Users/sguhr/Desktop/Diss_notebooks/Diss_data_notebooks_man_anno/Subcorpora_XML/20240430_Subcorpus_1848-70_XML/von_Baudissin_Adelbert_Ein_Soldaten-Diner.xml'\n",
      "File 'Heyse_Paul_Vetter_Gabriel.txt' transformed to XML and saved as '/Users/sguhr/Desktop/Diss_notebooks/Diss_data_notebooks_man_anno/Subcorpora_XML/20240430_Subcorpus_1848-70_XML/Heyse_Paul_Vetter_Gabriel.xml'\n",
      "File 'Gerstaecker_Friedrich_Die_Gemsjagd.txt' transformed to XML and saved as '/Users/sguhr/Desktop/Diss_notebooks/Diss_data_notebooks_man_anno/Subcorpora_XML/20240430_Subcorpus_1848-70_XML/Gerstaecker_Friedrich_Die_Gemsjagd.xml'\n",
      "File 'Kossak_Ernst_Ein_Polterabend.txt' transformed to XML and saved as '/Users/sguhr/Desktop/Diss_notebooks/Diss_data_notebooks_man_anno/Subcorpora_XML/20240430_Subcorpus_1848-70_XML/Kossak_Ernst_Ein_Polterabend.xml'\n",
      "File 'Stifter_Adalbert_Der_Waldbrunnen.txt' transformed to XML and saved as '/Users/sguhr/Desktop/Diss_notebooks/Diss_data_notebooks_man_anno/Subcorpora_XML/20240430_Subcorpus_1848-70_XML/Stifter_Adalbert_Der_Waldbrunnen.xml'\n",
      "File 'Blum_Hans_Ein_denkwuerdiger_Besuch.txt' transformed to XML and saved as '/Users/sguhr/Desktop/Diss_notebooks/Diss_data_notebooks_man_anno/Subcorpora_XML/20240430_Subcorpus_1848-70_XML/Blum_Hans_Ein_denkwuerdiger_Besuch.xml'\n",
      "File 'Temme_Jodocus_Der_Process_Leuthold.txt' transformed to XML and saved as '/Users/sguhr/Desktop/Diss_notebooks/Diss_data_notebooks_man_anno/Subcorpora_XML/20240430_Subcorpus_1848-70_XML/Temme_Jodocus_Der_Process_Leuthold.xml'\n",
      "File 'Schrader_August_Spiele_des_Zufalls.txt' transformed to XML and saved as '/Users/sguhr/Desktop/Diss_notebooks/Diss_data_notebooks_man_anno/Subcorpora_XML/20240430_Subcorpus_1848-70_XML/Schrader_August_Spiele_des_Zufalls.xml'\n",
      "File 'Raabe_Wilhelm_Theklas_Erbschaft.txt' transformed to XML and saved as '/Users/sguhr/Desktop/Diss_notebooks/Diss_data_notebooks_man_anno/Subcorpora_XML/20240430_Subcorpus_1848-70_XML/Raabe_Wilhelm_Theklas_Erbschaft.xml'\n",
      "File 'Temme_Jodocus_Ein_Eidgenoessisches_Schuetzenfest.txt' transformed to XML and saved as '/Users/sguhr/Desktop/Diss_notebooks/Diss_data_notebooks_man_anno/Subcorpora_XML/20240430_Subcorpus_1848-70_XML/Temme_Jodocus_Ein_Eidgenoessisches_Schuetzenfest.xml'\n",
      "File 'Marlitt_Eugenie_Die_zwoelf_Apostel.txt' transformed to XML and saved as '/Users/sguhr/Desktop/Diss_notebooks/Diss_data_notebooks_man_anno/Subcorpora_XML/20240430_Subcorpus_1848-70_XML/Marlitt_Eugenie_Die_zwoelf_Apostel.xml'\n",
      "File 'von_Gluemer_Claire_Guntershausen.txt' transformed to XML and saved as '/Users/sguhr/Desktop/Diss_notebooks/Diss_data_notebooks_man_anno/Subcorpora_XML/20240430_Subcorpus_1848-70_XML/von_Gluemer_Claire_Guntershausen.xml'\n",
      "File 'Temme_Jodocus_Eine_Brautfahrt.txt' transformed to XML and saved as '/Users/sguhr/Desktop/Diss_notebooks/Diss_data_notebooks_man_anno/Subcorpora_XML/20240430_Subcorpus_1848-70_XML/Temme_Jodocus_Eine_Brautfahrt.xml'\n",
      "File 'von_Schorn_Henriette_In_guter_und_in_boeser_Zeit.txt' transformed to XML and saved as '/Users/sguhr/Desktop/Diss_notebooks/Diss_data_notebooks_man_anno/Subcorpora_XML/20240430_Subcorpus_1848-70_XML/von_Schorn_Henriette_In_guter_und_in_boeser_Zeit.xml'\n",
      "File 'Meyer-Merian_Theodor_Dienen_und_Verdienen.txt' transformed to XML and saved as '/Users/sguhr/Desktop/Diss_notebooks/Diss_data_notebooks_man_anno/Subcorpora_XML/20240430_Subcorpus_1848-70_XML/Meyer-Merian_Theodor_Dienen_und_Verdienen.xml'\n",
      "File 'Fritze_Ernst_Onkel_Fabian.txt' transformed to XML and saved as '/Users/sguhr/Desktop/Diss_notebooks/Diss_data_notebooks_man_anno/Subcorpora_XML/20240430_Subcorpus_1848-70_XML/Fritze_Ernst_Onkel_Fabian.xml'\n",
      "File 'von_Schmid_Hermann_Die_Huberbaeuerin.txt' transformed to XML and saved as '/Users/sguhr/Desktop/Diss_notebooks/Diss_data_notebooks_man_anno/Subcorpora_XML/20240430_Subcorpus_1848-70_XML/von_Schmid_Hermann_Die_Huberbaeuerin.xml'\n",
      "File 'Meissner_Alfred_Ein_Naturkind.txt' transformed to XML and saved as '/Users/sguhr/Desktop/Diss_notebooks/Diss_data_notebooks_man_anno/Subcorpora_XML/20240430_Subcorpus_1848-70_XML/Meissner_Alfred_Ein_Naturkind.xml'\n",
      "File 'Rasch_Gustav_Von_Rendsburg_nach_Schleswig.txt' transformed to XML and saved as '/Users/sguhr/Desktop/Diss_notebooks/Diss_data_notebooks_man_anno/Subcorpora_XML/20240430_Subcorpus_1848-70_XML/Rasch_Gustav_Von_Rendsburg_nach_Schleswig.xml'\n",
      "File 'Boelte_Amely_Die_Candidaten-Braut.txt' transformed to XML and saved as '/Users/sguhr/Desktop/Diss_notebooks/Diss_data_notebooks_man_anno/Subcorpora_XML/20240430_Subcorpus_1848-70_XML/Boelte_Amely_Die_Candidaten-Braut.xml'\n",
      "File 'von_Schmid_Hermann_Der_Schwaerzer.txt' transformed to XML and saved as '/Users/sguhr/Desktop/Diss_notebooks/Diss_data_notebooks_man_anno/Subcorpora_XML/20240430_Subcorpus_1848-70_XML/von_Schmid_Hermann_Der_Schwaerzer.xml'\n",
      "File 'Ring_Max_Leyer_und_Schwert.txt' transformed to XML and saved as '/Users/sguhr/Desktop/Diss_notebooks/Diss_data_notebooks_man_anno/Subcorpora_XML/20240430_Subcorpus_1848-70_XML/Ring_Max_Leyer_und_Schwert.xml'\n",
      "File 'Aston_Louise_Lydia.txt' transformed to XML and saved as '/Users/sguhr/Desktop/Diss_notebooks/Diss_data_notebooks_man_anno/Subcorpora_XML/20240430_Subcorpus_1848-70_XML/Aston_Louise_Lydia.xml'\n",
      "File 'Ruppius_Otto_Unsichere_Fundamente.txt' transformed to XML and saved as '/Users/sguhr/Desktop/Diss_notebooks/Diss_data_notebooks_man_anno/Subcorpora_XML/20240430_Subcorpus_1848-70_XML/Ruppius_Otto_Unsichere_Fundamente.xml'\n",
      "File 'Linz_Amelie_Das_Erkennungszeichen.txt' transformed to XML and saved as '/Users/sguhr/Desktop/Diss_notebooks/Diss_data_notebooks_man_anno/Subcorpora_XML/20240430_Subcorpus_1848-70_XML/Linz_Amelie_Das_Erkennungszeichen.xml'\n",
      "File 'Hedrich_Franz_Balbina.txt' transformed to XML and saved as '/Users/sguhr/Desktop/Diss_notebooks/Diss_data_notebooks_man_anno/Subcorpora_XML/20240430_Subcorpus_1848-70_XML/Hedrich_Franz_Balbina.xml'\n",
      "File 'Stifter_Adalbert_Bunte_Steine_Turmalin.txt' transformed to XML and saved as '/Users/sguhr/Desktop/Diss_notebooks/Diss_data_notebooks_man_anno/Subcorpora_XML/20240430_Subcorpus_1848-70_XML/Stifter_Adalbert_Bunte_Steine_Turmalin.xml'\n",
      "File 'Hoefer_Edmund_An_der_Grenze.txt' transformed to XML and saved as '/Users/sguhr/Desktop/Diss_notebooks/Diss_data_notebooks_man_anno/Subcorpora_XML/20240430_Subcorpus_1848-70_XML/Hoefer_Edmund_An_der_Grenze.xml'\n",
      "File 'Riehl_Wilhelm_Heinrich_Das_Theaterkind.txt' transformed to XML and saved as '/Users/sguhr/Desktop/Diss_notebooks/Diss_data_notebooks_man_anno/Subcorpora_XML/20240430_Subcorpus_1848-70_XML/Riehl_Wilhelm_Heinrich_Das_Theaterkind.xml'\n",
      "File 'Rosegger_Peter_Genovefa.txt' transformed to XML and saved as '/Users/sguhr/Desktop/Diss_notebooks/Diss_data_notebooks_man_anno/Subcorpora_XML/20240430_Subcorpus_1848-70_XML/Rosegger_Peter_Genovefa.xml'\n",
      "File 'Wildermuth_Ottilie_Die_Lehrjahre_der_zwei_Schwestern.txt' transformed to XML and saved as '/Users/sguhr/Desktop/Diss_notebooks/Diss_data_notebooks_man_anno/Subcorpora_XML/20240430_Subcorpus_1848-70_XML/Wildermuth_Ottilie_Die_Lehrjahre_der_zwei_Schwestern.xml'\n",
      "File 'Juengst_Ludwig_Volrath_Der_alte_Schmuggler.txt' transformed to XML and saved as '/Users/sguhr/Desktop/Diss_notebooks/Diss_data_notebooks_man_anno/Subcorpora_XML/20240430_Subcorpus_1848-70_XML/Juengst_Ludwig_Volrath_Der_alte_Schmuggler.xml'\n",
      "File 'Wehl_Feodor_Der_Diebstahl_aus_Liebe.txt' transformed to XML and saved as '/Users/sguhr/Desktop/Diss_notebooks/Diss_data_notebooks_man_anno/Subcorpora_XML/20240430_Subcorpus_1848-70_XML/Wehl_Feodor_Der_Diebstahl_aus_Liebe.xml'\n",
      "File 'Heigel_Carl_August_Der_Schatten.txt' transformed to XML and saved as '/Users/sguhr/Desktop/Diss_notebooks/Diss_data_notebooks_man_anno/Subcorpora_XML/20240430_Subcorpus_1848-70_XML/Heigel_Carl_August_Der_Schatten.xml'\n",
      "File 'Wildermuth_Ottilie_Geschichten_aus_Schwaben_Drei_Brueder.txt' transformed to XML and saved as '/Users/sguhr/Desktop/Diss_notebooks/Diss_data_notebooks_man_anno/Subcorpora_XML/20240430_Subcorpus_1848-70_XML/Wildermuth_Ottilie_Geschichten_aus_Schwaben_Drei_Brueder.xml'\n",
      "File 'Wildermuth_Ottilie_Geschichten_aus_Schwaben_Der_Englaender.txt' transformed to XML and saved as '/Users/sguhr/Desktop/Diss_notebooks/Diss_data_notebooks_man_anno/Subcorpora_XML/20240430_Subcorpus_1848-70_XML/Wildermuth_Ottilie_Geschichten_aus_Schwaben_Der_Englaender.xml'\n",
      "File 'Noe_Heinrich_Jagdmuehen_im_bairischen_Hochlande.txt' transformed to XML and saved as '/Users/sguhr/Desktop/Diss_notebooks/Diss_data_notebooks_man_anno/Subcorpora_XML/20240430_Subcorpus_1848-70_XML/Noe_Heinrich_Jagdmuehen_im_bairischen_Hochlande.xml'\n",
      "File 'Kossak_Ernst_Der_Zauberer_von_Berlin.txt' transformed to XML and saved as '/Users/sguhr/Desktop/Diss_notebooks/Diss_data_notebooks_man_anno/Subcorpora_XML/20240430_Subcorpus_1848-70_XML/Kossak_Ernst_Der_Zauberer_von_Berlin.xml'\n",
      "File 'Temme_Jodocus_Felicitas.txt' transformed to XML and saved as '/Users/sguhr/Desktop/Diss_notebooks/Diss_data_notebooks_man_anno/Subcorpora_XML/20240430_Subcorpus_1848-70_XML/Temme_Jodocus_Felicitas.xml'\n",
      "File 'Fritze_Ernst_Oberst_Husslar.txt' transformed to XML and saved as '/Users/sguhr/Desktop/Diss_notebooks/Diss_data_notebooks_man_anno/Subcorpora_XML/20240430_Subcorpus_1848-70_XML/Fritze_Ernst_Oberst_Husslar.xml'\n",
      "File 'von_Schmid_Hermann_Die_Geschiedenen.txt' transformed to XML and saved as '/Users/sguhr/Desktop/Diss_notebooks/Diss_data_notebooks_man_anno/Subcorpora_XML/20240430_Subcorpus_1848-70_XML/von_Schmid_Hermann_Die_Geschiedenen.xml'\n",
      "File 'von_Holtei_Carl_Schwarzwaldau.txt' transformed to XML and saved as '/Users/sguhr/Desktop/Diss_notebooks/Diss_data_notebooks_man_anno/Subcorpora_XML/20240430_Subcorpus_1848-70_XML/von_Holtei_Carl_Schwarzwaldau.xml'\n",
      "File 'von_Wickede_Anton_Julius_Eine_Seemannsfamilie.txt' transformed to XML and saved as '/Users/sguhr/Desktop/Diss_notebooks/Diss_data_notebooks_man_anno/Subcorpora_XML/20240430_Subcorpus_1848-70_XML/von_Wickede_Anton_Julius_Eine_Seemannsfamilie.xml'\n",
      "File 'Tiedemann_Oswald_Das_Haus_am_Meeresstrand.txt' transformed to XML and saved as '/Users/sguhr/Desktop/Diss_notebooks/Diss_data_notebooks_man_anno/Subcorpora_XML/20240430_Subcorpus_1848-70_XML/Tiedemann_Oswald_Das_Haus_am_Meeresstrand.xml'\n",
      "File 'Zedelius_Marie_Getrennt.txt' transformed to XML and saved as '/Users/sguhr/Desktop/Diss_notebooks/Diss_data_notebooks_man_anno/Subcorpora_XML/20240430_Subcorpus_1848-70_XML/Zedelius_Marie_Getrennt.xml'\n",
      "File 'Wallner_Franz_Berlin_bei_Nacht.txt' transformed to XML and saved as '/Users/sguhr/Desktop/Diss_notebooks/Diss_data_notebooks_man_anno/Subcorpora_XML/20240430_Subcorpus_1848-70_XML/Wallner_Franz_Berlin_bei_Nacht.xml'\n",
      "File 'Heyse_Paul_Lorenz_und_Lore.txt' transformed to XML and saved as '/Users/sguhr/Desktop/Diss_notebooks/Diss_data_notebooks_man_anno/Subcorpora_XML/20240430_Subcorpus_1848-70_XML/Heyse_Paul_Lorenz_und_Lore.xml'\n",
      "File 'Brunold_Friedrich_Ein_Bild.txt' transformed to XML and saved as '/Users/sguhr/Desktop/Diss_notebooks/Diss_data_notebooks_man_anno/Subcorpora_XML/20240430_Subcorpus_1848-70_XML/Brunold_Friedrich_Ein_Bild.xml'\n",
      "File 'Ring_Max_Leben_und_Sterben_eines_deutschen_Dichters.txt' transformed to XML and saved as '/Users/sguhr/Desktop/Diss_notebooks/Diss_data_notebooks_man_anno/Subcorpora_XML/20240430_Subcorpus_1848-70_XML/Ring_Max_Leben_und_Sterben_eines_deutschen_Dichters.xml'\n",
      "File 'Stifter_Adalbert_Bunte_Steine_Katzensilber.txt' transformed to XML and saved as '/Users/sguhr/Desktop/Diss_notebooks/Diss_data_notebooks_man_anno/Subcorpora_XML/20240430_Subcorpus_1848-70_XML/Stifter_Adalbert_Bunte_Steine_Katzensilber.xml'\n",
      "File 'Gerstaecker_Friedrich_Zu_wirthschaftlich.txt' transformed to XML and saved as '/Users/sguhr/Desktop/Diss_notebooks/Diss_data_notebooks_man_anno/Subcorpora_XML/20240430_Subcorpus_1848-70_XML/Gerstaecker_Friedrich_Zu_wirthschaftlich.xml'\n",
      "File 'Wildermuth_Ottilie_Geschichten_aus_Schwaben_Herr_Wezler_und_seine_Frau.txt' transformed to XML and saved as '/Users/sguhr/Desktop/Diss_notebooks/Diss_data_notebooks_man_anno/Subcorpora_XML/20240430_Subcorpus_1848-70_XML/Wildermuth_Ottilie_Geschichten_aus_Schwaben_Herr_Wezler_und_seine_Frau.xml'\n",
      "File 'Pflug_Ferdinand_Auf_dem_Capellenberg_von_Trautenau.txt' transformed to XML and saved as '/Users/sguhr/Desktop/Diss_notebooks/Diss_data_notebooks_man_anno/Subcorpora_XML/20240430_Subcorpus_1848-70_XML/Pflug_Ferdinand_Auf_dem_Capellenberg_von_Trautenau.xml'\n",
      "File 'Stolle_Ferdinand_Nach_vierzig_Jahren.txt' transformed to XML and saved as '/Users/sguhr/Desktop/Diss_notebooks/Diss_data_notebooks_man_anno/Subcorpora_XML/20240430_Subcorpus_1848-70_XML/Stolle_Ferdinand_Nach_vierzig_Jahren.xml'\n",
      "File 'von_Schmid_Hermann_Der_Dorfcaplan.txt' transformed to XML and saved as '/Users/sguhr/Desktop/Diss_notebooks/Diss_data_notebooks_man_anno/Subcorpora_XML/20240430_Subcorpus_1848-70_XML/von_Schmid_Hermann_Der_Dorfcaplan.xml'\n",
      "File 'Wildermuth_Ottilie_Geschichten_aus_Schwaben_Das_toechterreiche_Pfarrhaus.txt' transformed to XML and saved as '/Users/sguhr/Desktop/Diss_notebooks/Diss_data_notebooks_man_anno/Subcorpora_XML/20240430_Subcorpus_1848-70_XML/Wildermuth_Ottilie_Geschichten_aus_Schwaben_Das_toechterreiche_Pfarrhaus.xml'\n",
      "File 'Vollmar_Agnes_Das_Pfarrhaus_im_Harz.txt' transformed to XML and saved as '/Users/sguhr/Desktop/Diss_notebooks/Diss_data_notebooks_man_anno/Subcorpora_XML/20240430_Subcorpus_1848-70_XML/Vollmar_Agnes_Das_Pfarrhaus_im_Harz.xml'\n",
      "File 'von_Sternberg_Alexander_Ein_literarischer_Abend_des_alten_Dresden.txt' transformed to XML and saved as '/Users/sguhr/Desktop/Diss_notebooks/Diss_data_notebooks_man_anno/Subcorpora_XML/20240430_Subcorpus_1848-70_XML/von_Sternberg_Alexander_Ein_literarischer_Abend_des_alten_Dresden.xml'\n",
      "File 'Wildermuth_Ottilie_Die_Verschmaehte.txt' transformed to XML and saved as '/Users/sguhr/Desktop/Diss_notebooks/Diss_data_notebooks_man_anno/Subcorpora_XML/20240430_Subcorpus_1848-70_XML/Wildermuth_Ottilie_Die_Verschmaehte.xml'\n",
      "File 'Stifter_Adalbert_Leben_und_Haushalt_dreier_Wiener_Studenten.txt' transformed to XML and saved as '/Users/sguhr/Desktop/Diss_notebooks/Diss_data_notebooks_man_anno/Subcorpora_XML/20240430_Subcorpus_1848-70_XML/Stifter_Adalbert_Leben_und_Haushalt_dreier_Wiener_Studenten.xml'\n",
      "File 'Fritze_Ernst_Rath_Braunstein_und_Familie.txt' transformed to XML and saved as '/Users/sguhr/Desktop/Diss_notebooks/Diss_data_notebooks_man_anno/Subcorpora_XML/20240430_Subcorpus_1848-70_XML/Fritze_Ernst_Rath_Braunstein_und_Familie.xml'\n",
      "File 'Willkomm_Ernst_Der_verhaengnissvolle_Schatten.txt' transformed to XML and saved as '/Users/sguhr/Desktop/Diss_notebooks/Diss_data_notebooks_man_anno/Subcorpora_XML/20240430_Subcorpus_1848-70_XML/Willkomm_Ernst_Der_verhaengnissvolle_Schatten.xml'\n",
      "File 'Raabe_Wilhelm_Im_Siegeskranze.txt' transformed to XML and saved as '/Users/sguhr/Desktop/Diss_notebooks/Diss_data_notebooks_man_anno/Subcorpora_XML/20240430_Subcorpus_1848-70_XML/Raabe_Wilhelm_Im_Siegeskranze.xml'\n",
      "File 'Hoefer_Edmund_Im_hohen_Hause.txt' transformed to XML and saved as '/Users/sguhr/Desktop/Diss_notebooks/Diss_data_notebooks_man_anno/Subcorpora_XML/20240430_Subcorpus_1848-70_XML/Hoefer_Edmund_Im_hohen_Hause.xml'\n",
      "File 'Rasch_Gustav_Der_Maertyrer_von_Oland.txt' transformed to XML and saved as '/Users/sguhr/Desktop/Diss_notebooks/Diss_data_notebooks_man_anno/Subcorpora_XML/20240430_Subcorpus_1848-70_XML/Rasch_Gustav_Der_Maertyrer_von_Oland.xml'\n",
      "File 'Temme_Jodocus_Der_erste_Fall_im_neuen_Amte.txt' transformed to XML and saved as '/Users/sguhr/Desktop/Diss_notebooks/Diss_data_notebooks_man_anno/Subcorpora_XML/20240430_Subcorpus_1848-70_XML/Temme_Jodocus_Der_erste_Fall_im_neuen_Amte.xml'\n",
      "File 'Wallner_Franz_Aus_meinem_Bilder-Album.txt' transformed to XML and saved as '/Users/sguhr/Desktop/Diss_notebooks/Diss_data_notebooks_man_anno/Subcorpora_XML/20240430_Subcorpus_1848-70_XML/Wallner_Franz_Aus_meinem_Bilder-Album.xml'\n",
      "File 'von_Heigel_Karl_August_Die_Tochter_des_Faelschers.txt' transformed to XML and saved as '/Users/sguhr/Desktop/Diss_notebooks/Diss_data_notebooks_man_anno/Subcorpora_XML/20240430_Subcorpus_1848-70_XML/von_Heigel_Karl_August_Die_Tochter_des_Faelschers.xml'\n",
      "File 'Stifter_Adalbert_Bunte_Steine_Bergmilch.txt' transformed to XML and saved as '/Users/sguhr/Desktop/Diss_notebooks/Diss_data_notebooks_man_anno/Subcorpora_XML/20240430_Subcorpus_1848-70_XML/Stifter_Adalbert_Bunte_Steine_Bergmilch.xml'\n",
      "File 'Gerstaecker_Friedrich_Die_neue_Geisterwelt.txt' transformed to XML and saved as '/Users/sguhr/Desktop/Diss_notebooks/Diss_data_notebooks_man_anno/Subcorpora_XML/20240430_Subcorpus_1848-70_XML/Gerstaecker_Friedrich_Die_neue_Geisterwelt.xml'\n",
      "File 'Temme_Jodocus_Das_Testament_des_Verrueckten.txt' transformed to XML and saved as '/Users/sguhr/Desktop/Diss_notebooks/Diss_data_notebooks_man_anno/Subcorpora_XML/20240430_Subcorpus_1848-70_XML/Temme_Jodocus_Das_Testament_des_Verrueckten.xml'\n",
      "File 'Wildermuth_Ottilie_Ein_Herbsttag_bei_Weinsberg.txt' transformed to XML and saved as '/Users/sguhr/Desktop/Diss_notebooks/Diss_data_notebooks_man_anno/Subcorpora_XML/20240430_Subcorpus_1848-70_XML/Wildermuth_Ottilie_Ein_Herbsttag_bei_Weinsberg.xml'\n",
      "File 'Temme_Jodocus_Rosa_Heisterberg.txt' transformed to XML and saved as '/Users/sguhr/Desktop/Diss_notebooks/Diss_data_notebooks_man_anno/Subcorpora_XML/20240430_Subcorpus_1848-70_XML/Temme_Jodocus_Rosa_Heisterberg.xml'\n",
      "File 'Temme_Jodocus_Die_Geschwister.txt' transformed to XML and saved as '/Users/sguhr/Desktop/Diss_notebooks/Diss_data_notebooks_man_anno/Subcorpora_XML/20240430_Subcorpus_1848-70_XML/Temme_Jodocus_Die_Geschwister.xml'\n",
      "File 'Auerbach_Berthold_Der_Lehnhold.txt' transformed to XML and saved as '/Users/sguhr/Desktop/Diss_notebooks/Diss_data_notebooks_man_anno/Subcorpora_XML/20240430_Subcorpus_1848-70_XML/Auerbach_Berthold_Der_Lehnhold.xml'\n",
      "File 'Ring_Max_Vater_und_Sohn.txt' transformed to XML and saved as '/Users/sguhr/Desktop/Diss_notebooks/Diss_data_notebooks_man_anno/Subcorpora_XML/20240430_Subcorpus_1848-70_XML/Ring_Max_Vater_und_Sohn.xml'\n",
      "File 'Annecke_Fritz_Der_verehrter_Herr.txt' transformed to XML and saved as '/Users/sguhr/Desktop/Diss_notebooks/Diss_data_notebooks_man_anno/Subcorpora_XML/20240430_Subcorpus_1848-70_XML/Annecke_Fritz_Der_verehrter_Herr.xml'\n",
      "File 'Ring_Max_Die_Auferstehung.txt' transformed to XML and saved as '/Users/sguhr/Desktop/Diss_notebooks/Diss_data_notebooks_man_anno/Subcorpora_XML/20240430_Subcorpus_1848-70_XML/Ring_Max_Die_Auferstehung.xml'\n",
      "File 'von_Guseck_Bernd_Eine_dunkle_Vergangenheit.txt' transformed to XML and saved as '/Users/sguhr/Desktop/Diss_notebooks/Diss_data_notebooks_man_anno/Subcorpora_XML/20240430_Subcorpus_1848-70_XML/von_Guseck_Bernd_Eine_dunkle_Vergangenheit.xml'\n",
      "File 'Temme_Jodocus_Ein_Amnestirter.txt' transformed to XML and saved as '/Users/sguhr/Desktop/Diss_notebooks/Diss_data_notebooks_man_anno/Subcorpora_XML/20240430_Subcorpus_1848-70_XML/Temme_Jodocus_Ein_Amnestirter.xml'\n",
      "File 'Buerstenbinder_Elisabeth_Hermann.txt' transformed to XML and saved as '/Users/sguhr/Desktop/Diss_notebooks/Diss_data_notebooks_man_anno/Subcorpora_XML/20240430_Subcorpus_1848-70_XML/Buerstenbinder_Elisabeth_Hermann.xml'\n",
      "File 'Wildermuth_Ottilie_Unabhaengigkeit.txt' transformed to XML and saved as '/Users/sguhr/Desktop/Diss_notebooks/Diss_data_notebooks_man_anno/Subcorpora_XML/20240430_Subcorpus_1848-70_XML/Wildermuth_Ottilie_Unabhaengigkeit.xml'\n",
      "File 'Stieler_Karl_Ein_Begegnen_in_den_oberbairischen_Bergen.txt' transformed to XML and saved as '/Users/sguhr/Desktop/Diss_notebooks/Diss_data_notebooks_man_anno/Subcorpora_XML/20240430_Subcorpus_1848-70_XML/Stieler_Karl_Ein_Begegnen_in_den_oberbairischen_Bergen.xml'\n",
      "File 'Linz_Amelie_Das_Leben_einer_Frau.txt' transformed to XML and saved as '/Users/sguhr/Desktop/Diss_notebooks/Diss_data_notebooks_man_anno/Subcorpora_XML/20240430_Subcorpus_1848-70_XML/Linz_Amelie_Das_Leben_einer_Frau.xml'\n",
      "File 'Schrader_August_Ein_Familiengeheimniss.txt' transformed to XML and saved as '/Users/sguhr/Desktop/Diss_notebooks/Diss_data_notebooks_man_anno/Subcorpora_XML/20240430_Subcorpus_1848-70_XML/Schrader_August_Ein_Familiengeheimniss.xml'\n",
      "File 'Wildermuth_Ottilie_Geschichten_aus_Schwaben_Aus_dem_Leben_einer_Hausfrau_der_neuen_Zeit.txt' transformed to XML and saved as '/Users/sguhr/Desktop/Diss_notebooks/Diss_data_notebooks_man_anno/Subcorpora_XML/20240430_Subcorpus_1848-70_XML/Wildermuth_Ottilie_Geschichten_aus_Schwaben_Aus_dem_Leben_einer_Hausfrau_der_neuen_Zeit.xml'\n",
      "File 'Walesrode_Ludwig_Die_unsichtbare_Geistermusik.txt' transformed to XML and saved as '/Users/sguhr/Desktop/Diss_notebooks/Diss_data_notebooks_man_anno/Subcorpora_XML/20240430_Subcorpus_1848-70_XML/Walesrode_Ludwig_Die_unsichtbare_Geistermusik.xml'\n",
      "File 'Loeffler_Ludwig_Was_ich_im_Lande.txt' transformed to XML and saved as '/Users/sguhr/Desktop/Diss_notebooks/Diss_data_notebooks_man_anno/Subcorpora_XML/20240430_Subcorpus_1848-70_XML/Loeffler_Ludwig_Was_ich_im_Lande.xml'\n",
      "File 'von_Baudissin_Adelbert_Der_alte_Torfbauer.txt' transformed to XML and saved as '/Users/sguhr/Desktop/Diss_notebooks/Diss_data_notebooks_man_anno/Subcorpora_XML/20240430_Subcorpus_1848-70_XML/von_Baudissin_Adelbert_Der_alte_Torfbauer.xml'\n",
      "File 'Temme_Jodocus_Der_Herr_Referendarius.txt' transformed to XML and saved as '/Users/sguhr/Desktop/Diss_notebooks/Diss_data_notebooks_man_anno/Subcorpora_XML/20240430_Subcorpus_1848-70_XML/Temme_Jodocus_Der_Herr_Referendarius.xml'\n",
      "File 'von_Schmid_Hermann_Die_Gasselbuben.txt' transformed to XML and saved as '/Users/sguhr/Desktop/Diss_notebooks/Diss_data_notebooks_man_anno/Subcorpora_XML/20240430_Subcorpus_1848-70_XML/von_Schmid_Hermann_Die_Gasselbuben.xml'\n",
      "File 'Muehlbach_Luise_Prinz_oder_Schlossergeselle.txt' transformed to XML and saved as '/Users/sguhr/Desktop/Diss_notebooks/Diss_data_notebooks_man_anno/Subcorpora_XML/20240430_Subcorpus_1848-70_XML/Muehlbach_Luise_Prinz_oder_Schlossergeselle.xml'\n",
      "File 'Riehl_Wilhelm_Heinrich_Die_Dichterprobe.txt' transformed to XML and saved as '/Users/sguhr/Desktop/Diss_notebooks/Diss_data_notebooks_man_anno/Subcorpora_XML/20240430_Subcorpus_1848-70_XML/Riehl_Wilhelm_Heinrich_Die_Dichterprobe.xml'\n",
      "File 'Smidt_Heinrich_Regatta.txt' transformed to XML and saved as '/Users/sguhr/Desktop/Diss_notebooks/Diss_data_notebooks_man_anno/Subcorpora_XML/20240430_Subcorpus_1848-70_XML/Smidt_Heinrich_Regatta.xml'\n",
      "File 'Ernesti_Louise_Unter_dem_Bauernkittel.txt' transformed to XML and saved as '/Users/sguhr/Desktop/Diss_notebooks/Diss_data_notebooks_man_anno/Subcorpora_XML/20240430_Subcorpus_1848-70_XML/Ernesti_Louise_Unter_dem_Bauernkittel.xml'\n",
      "File 'Friedrich_Friedrich_Nur_ein_Schafhirt.txt' transformed to XML and saved as '/Users/sguhr/Desktop/Diss_notebooks/Diss_data_notebooks_man_anno/Subcorpora_XML/20240430_Subcorpus_1848-70_XML/Friedrich_Friedrich_Nur_ein_Schafhirt.xml'\n",
      "File 'Schuecking_Levin_Die_Doppelcur.txt' transformed to XML and saved as '/Users/sguhr/Desktop/Diss_notebooks/Diss_data_notebooks_man_anno/Subcorpora_XML/20240430_Subcorpus_1848-70_XML/Schuecking_Levin_Die_Doppelcur.xml'\n",
      "File 'Volckhausen_Karl_Das_Rauhe_Haus.txt' transformed to XML and saved as '/Users/sguhr/Desktop/Diss_notebooks/Diss_data_notebooks_man_anno/Subcorpora_XML/20240430_Subcorpus_1848-70_XML/Volckhausen_Karl_Das_Rauhe_Haus.xml'\n",
      "File 'Lewald_Fanny_Adele.txt' transformed to XML and saved as '/Users/sguhr/Desktop/Diss_notebooks/Diss_data_notebooks_man_anno/Subcorpora_XML/20240430_Subcorpus_1848-70_XML/Lewald_Fanny_Adele.xml'\n",
      "File 'Kompert_Leopold_Die_Jahrzeit.txt' transformed to XML and saved as '/Users/sguhr/Desktop/Diss_notebooks/Diss_data_notebooks_man_anno/Subcorpora_XML/20240430_Subcorpus_1848-70_XML/Kompert_Leopold_Die_Jahrzeit.xml'\n",
      "File 'von_Hillern_Wilhelmine_Aus_eigener_Kraft.txt' transformed to XML and saved as '/Users/sguhr/Desktop/Diss_notebooks/Diss_data_notebooks_man_anno/Subcorpora_XML/20240430_Subcorpus_1848-70_XML/von_Hillern_Wilhelmine_Aus_eigener_Kraft.xml'\n",
      "File 'Stolle_Ferdinand_Alpengluehen_und_Meeresleuchten.txt' transformed to XML and saved as '/Users/sguhr/Desktop/Diss_notebooks/Diss_data_notebooks_man_anno/Subcorpora_XML/20240430_Subcorpus_1848-70_XML/Stolle_Ferdinand_Alpengluehen_und_Meeresleuchten.xml'\n",
      "File 'Willkomm_Ernst_Die_Echte.txt' transformed to XML and saved as '/Users/sguhr/Desktop/Diss_notebooks/Diss_data_notebooks_man_anno/Subcorpora_XML/20240430_Subcorpus_1848-70_XML/Willkomm_Ernst_Die_Echte.xml'\n",
      "File 'Hoefer_Edmund_Die_alte_Erlaucht.txt' transformed to XML and saved as '/Users/sguhr/Desktop/Diss_notebooks/Diss_data_notebooks_man_anno/Subcorpora_XML/20240430_Subcorpus_1848-70_XML/Hoefer_Edmund_Die_alte_Erlaucht.xml'\n",
      "File 'Temme_Jodocus_Die_schwerste_Schuld.txt' transformed to XML and saved as '/Users/sguhr/Desktop/Diss_notebooks/Diss_data_notebooks_man_anno/Subcorpora_XML/20240430_Subcorpus_1848-70_XML/Temme_Jodocus_Die_schwerste_Schuld.xml'\n",
      "File 'Auerbach_Berthold_Erdmuthe.txt' transformed to XML and saved as '/Users/sguhr/Desktop/Diss_notebooks/Diss_data_notebooks_man_anno/Subcorpora_XML/20240430_Subcorpus_1848-70_XML/Auerbach_Berthold_Erdmuthe.xml'\n",
      "File 'Rasch_Gustav_Das_Haus_der_Buesserinnen.txt' transformed to XML and saved as '/Users/sguhr/Desktop/Diss_notebooks/Diss_data_notebooks_man_anno/Subcorpora_XML/20240430_Subcorpus_1848-70_XML/Rasch_Gustav_Das_Haus_der_Buesserinnen.xml'\n",
      "File 'Spielhagen_Friedrich_Die_Dorfcoquette.txt' transformed to XML and saved as '/Users/sguhr/Desktop/Diss_notebooks/Diss_data_notebooks_man_anno/Subcorpora_XML/20240430_Subcorpus_1848-70_XML/Spielhagen_Friedrich_Die_Dorfcoquette.xml'\n",
      "File 'von_Schmid_Hermann_Almenrausch_und_Edelweiss.txt' transformed to XML and saved as '/Users/sguhr/Desktop/Diss_notebooks/Diss_data_notebooks_man_anno/Subcorpora_XML/20240430_Subcorpus_1848-70_XML/von_Schmid_Hermann_Almenrausch_und_Edelweiss.xml'\n",
      "File 'Silberstein_August_Der_Loewe_von_Aspern.txt' transformed to XML and saved as '/Users/sguhr/Desktop/Diss_notebooks/Diss_data_notebooks_man_anno/Subcorpora_XML/20240430_Subcorpus_1848-70_XML/Silberstein_August_Der_Loewe_von_Aspern.xml'\n",
      "File 'Schuecking_Levin_Der_Erbstreit.txt' transformed to XML and saved as '/Users/sguhr/Desktop/Diss_notebooks/Diss_data_notebooks_man_anno/Subcorpora_XML/20240430_Subcorpus_1848-70_XML/Schuecking_Levin_Der_Erbstreit.xml'\n",
      "File 'Riehl_Wilhelm_Heinrich_Musiker-Geschichten_Gradus_ad_Parnassum.txt' transformed to XML and saved as '/Users/sguhr/Desktop/Diss_notebooks/Diss_data_notebooks_man_anno/Subcorpora_XML/20240430_Subcorpus_1848-70_XML/Riehl_Wilhelm_Heinrich_Musiker-Geschichten_Gradus_ad_Parnassum.xml'\n",
      "File 'Auerbach_Berthold_Brosi_und_Moni.txt' transformed to XML and saved as '/Users/sguhr/Desktop/Diss_notebooks/Diss_data_notebooks_man_anno/Subcorpora_XML/20240430_Subcorpus_1848-70_XML/Auerbach_Berthold_Brosi_und_Moni.xml'\n",
      "File 'Zedelius_Marie_In_sengender_Gluth.txt' transformed to XML and saved as '/Users/sguhr/Desktop/Diss_notebooks/Diss_data_notebooks_man_anno/Subcorpora_XML/20240430_Subcorpus_1848-70_XML/Zedelius_Marie_In_sengender_Gluth.xml'\n",
      "File 'Scherr_Johannes_Nemesis.txt' transformed to XML and saved as '/Users/sguhr/Desktop/Diss_notebooks/Diss_data_notebooks_man_anno/Subcorpora_XML/20240430_Subcorpus_1848-70_XML/Scherr_Johannes_Nemesis.xml'\n",
      "File 'Wildermuth_Ottilie_Krieg_und_Frieden.txt' transformed to XML and saved as '/Users/sguhr/Desktop/Diss_notebooks/Diss_data_notebooks_man_anno/Subcorpora_XML/20240430_Subcorpus_1848-70_XML/Wildermuth_Ottilie_Krieg_und_Frieden.xml'\n",
      "File 'Fraenkel_Albert_Im_Frieden_des_Sabbathlichtes.txt' transformed to XML and saved as '/Users/sguhr/Desktop/Diss_notebooks/Diss_data_notebooks_man_anno/Subcorpora_XML/20240430_Subcorpus_1848-70_XML/Fraenkel_Albert_Im_Frieden_des_Sabbathlichtes.xml'\n",
      "File 'Weerth_Georg_Fragment_eines_Romans.txt' transformed to XML and saved as '/Users/sguhr/Desktop/Diss_notebooks/Diss_data_notebooks_man_anno/Subcorpora_XML/20240430_Subcorpus_1848-70_XML/Weerth_Georg_Fragment_eines_Romans.xml'\n",
      "File 'Storch_Ludwig_Die_Plassenburg.txt' transformed to XML and saved as '/Users/sguhr/Desktop/Diss_notebooks/Diss_data_notebooks_man_anno/Subcorpora_XML/20240430_Subcorpus_1848-70_XML/Storch_Ludwig_Die_Plassenburg.xml'\n",
      "File 'Storch_Ludwig_Das_Schachtgespenst.txt' transformed to XML and saved as '/Users/sguhr/Desktop/Diss_notebooks/Diss_data_notebooks_man_anno/Subcorpora_XML/20240430_Subcorpus_1848-70_XML/Storch_Ludwig_Das_Schachtgespenst.xml'\n",
      "File 'Ewald_Adolf_Gefangen.txt' transformed to XML and saved as '/Users/sguhr/Desktop/Diss_notebooks/Diss_data_notebooks_man_anno/Subcorpora_XML/20240430_Subcorpus_1848-70_XML/Ewald_Adolf_Gefangen.xml'\n",
      "File 'Schuecking_Levin_Der_Schatz_des_Kurfuersten.txt' transformed to XML and saved as '/Users/sguhr/Desktop/Diss_notebooks/Diss_data_notebooks_man_anno/Subcorpora_XML/20240430_Subcorpus_1848-70_XML/Schuecking_Levin_Der_Schatz_des_Kurfuersten.xml'\n",
      "File 'Otto-Peters_Luise_Bauernsohn.txt' transformed to XML and saved as '/Users/sguhr/Desktop/Diss_notebooks/Diss_data_notebooks_man_anno/Subcorpora_XML/20240430_Subcorpus_1848-70_XML/Otto-Peters_Luise_Bauernsohn.xml'\n",
      "File 'Polko_Elise_Eine_Leonore.txt' transformed to XML and saved as '/Users/sguhr/Desktop/Diss_notebooks/Diss_data_notebooks_man_anno/Subcorpora_XML/20240430_Subcorpus_1848-70_XML/Polko_Elise_Eine_Leonore.xml'\n",
      "File 'Temme_Jodocus_Der_Teufel.txt' transformed to XML and saved as '/Users/sguhr/Desktop/Diss_notebooks/Diss_data_notebooks_man_anno/Subcorpora_XML/20240430_Subcorpus_1848-70_XML/Temme_Jodocus_Der_Teufel.xml'\n",
      "File 'Oertel_Wilhelm_Drei_Tage_in_Mittenwalde.txt' transformed to XML and saved as '/Users/sguhr/Desktop/Diss_notebooks/Diss_data_notebooks_man_anno/Subcorpora_XML/20240430_Subcorpus_1848-70_XML/Oertel_Wilhelm_Drei_Tage_in_Mittenwalde.xml'\n",
      "File 'Zedelius_Marie_Doctor_Reinhard.txt' transformed to XML and saved as '/Users/sguhr/Desktop/Diss_notebooks/Diss_data_notebooks_man_anno/Subcorpora_XML/20240430_Subcorpus_1848-70_XML/Zedelius_Marie_Doctor_Reinhard.xml'\n",
      "File 'Wildermuth_Ottilie_Geschichten_aus_Schwaben_Keine_Neigungsheirath.txt' transformed to XML and saved as '/Users/sguhr/Desktop/Diss_notebooks/Diss_data_notebooks_man_anno/Subcorpora_XML/20240430_Subcorpus_1848-70_XML/Wildermuth_Ottilie_Geschichten_aus_Schwaben_Keine_Neigungsheirath.xml'\n",
      "File 'Hofmann_Friedrich_Ein_deutscher_Erfinder.txt' transformed to XML and saved as '/Users/sguhr/Desktop/Diss_notebooks/Diss_data_notebooks_man_anno/Subcorpora_XML/20240430_Subcorpus_1848-70_XML/Hofmann_Friedrich_Ein_deutscher_Erfinder.xml'\n",
      "File 'Heyse_Paul_Ein_Ring.txt' transformed to XML and saved as '/Users/sguhr/Desktop/Diss_notebooks/Diss_data_notebooks_man_anno/Subcorpora_XML/20240430_Subcorpus_1848-70_XML/Heyse_Paul_Ein_Ring.xml'\n",
      "File 'von_Cosel_Charlotte_Jedem_das_Seine.txt' transformed to XML and saved as '/Users/sguhr/Desktop/Diss_notebooks/Diss_data_notebooks_man_anno/Subcorpora_XML/20240430_Subcorpus_1848-70_XML/von_Cosel_Charlotte_Jedem_das_Seine.xml'\n",
      "File 'Bodenstedt_Friedrich_Das_Maedchen_von_Liebenstein.txt' transformed to XML and saved as '/Users/sguhr/Desktop/Diss_notebooks/Diss_data_notebooks_man_anno/Subcorpora_XML/20240430_Subcorpus_1848-70_XML/Bodenstedt_Friedrich_Das_Maedchen_von_Liebenstein.xml'\n",
      "File 'Schrader_August_Vorurtheile.txt' transformed to XML and saved as '/Users/sguhr/Desktop/Diss_notebooks/Diss_data_notebooks_man_anno/Subcorpora_XML/20240430_Subcorpus_1848-70_XML/Schrader_August_Vorurtheile.xml'\n",
      "File 'Ruppius_Otto_Eine_dunkele_That.txt' transformed to XML and saved as '/Users/sguhr/Desktop/Diss_notebooks/Diss_data_notebooks_man_anno/Subcorpora_XML/20240430_Subcorpus_1848-70_XML/Ruppius_Otto_Eine_dunkele_That.xml'\n",
      "File 'Temme_Jodocus_Auf_der_Eisenbahn.txt' transformed to XML and saved as '/Users/sguhr/Desktop/Diss_notebooks/Diss_data_notebooks_man_anno/Subcorpora_XML/20240430_Subcorpus_1848-70_XML/Temme_Jodocus_Auf_der_Eisenbahn.xml'\n",
      "File 'Storm_Theodor_Im_Schloss.txt' transformed to XML and saved as '/Users/sguhr/Desktop/Diss_notebooks/Diss_data_notebooks_man_anno/Subcorpora_XML/20240430_Subcorpus_1848-70_XML/Storm_Theodor_Im_Schloss.xml'\n",
      "File 'Smidt_Heinrich_Wie_gefaellt_Ihnen_meine_Braut.txt' transformed to XML and saved as '/Users/sguhr/Desktop/Diss_notebooks/Diss_data_notebooks_man_anno/Subcorpora_XML/20240430_Subcorpus_1848-70_XML/Smidt_Heinrich_Wie_gefaellt_Ihnen_meine_Braut.xml'\n",
      "File 'Schloenbach_Arnold_Sie_will_sich_duelliren.txt' transformed to XML and saved as '/Users/sguhr/Desktop/Diss_notebooks/Diss_data_notebooks_man_anno/Subcorpora_XML/20240430_Subcorpus_1848-70_XML/Schloenbach_Arnold_Sie_will_sich_duelliren.xml'\n",
      "File 'Gotthelf_Jeremias_Das_Erdbeerimareili.txt' transformed to XML and saved as '/Users/sguhr/Desktop/Diss_notebooks/Diss_data_notebooks_man_anno/Subcorpora_XML/20240430_Subcorpus_1848-70_XML/Gotthelf_Jeremias_Das_Erdbeerimareili.xml'\n",
      "File 'Riehl_Wilhelm_Heinrich_Musiker-Geschichten_Demophoon_von_Vogel.txt' transformed to XML and saved as '/Users/sguhr/Desktop/Diss_notebooks/Diss_data_notebooks_man_anno/Subcorpora_XML/20240430_Subcorpus_1848-70_XML/Riehl_Wilhelm_Heinrich_Musiker-Geschichten_Demophoon_von_Vogel.xml'\n",
      "File 'Willkomm_Ernst_Der_verwandelte_Schmuck.txt' transformed to XML and saved as '/Users/sguhr/Desktop/Diss_notebooks/Diss_data_notebooks_man_anno/Subcorpora_XML/20240430_Subcorpus_1848-70_XML/Willkomm_Ernst_Der_verwandelte_Schmuck.xml'\n"
     ]
    }
   ],
   "source": [
    "# This cell is only for use if I want to indicate the name of the destination folder manually.\n",
    "# with this function every txt file in a given folder are copied and converted into xml files stored in a new folder following the indicated xml structure.\n",
    "\n",
    "import os\n",
    "\n",
    "def remove_ds_store_file(source_dir):\n",
    "    # Remove the .DS_Store file if it exists\n",
    "    ds_store_path = os.path.join(source_dir, \".DS_Store\")\n",
    "    if os.path.exists(ds_store_path):\n",
    "        os.remove(ds_store_path)\n",
    "        print(\".DS_Store file removed\")\n",
    "\n",
    "\n",
    "def transform_to_xml(source_dir, destination_dir):\n",
    "       # Create the destination directory if it doesn't exist\n",
    "    if not os.path.exists(destination_dir):\n",
    "        os.makedirs(destination_dir)\n",
    "           \n",
    "    # Iterate through each file in the source directory\n",
    "    for filename in os.listdir(source_dir):\n",
    "        source_file_path = os.path.join(source_dir, filename)\n",
    "        \n",
    "        # Check if the file is a regular file\n",
    "        if os.path.isfile(source_file_path):\n",
    "            # Read the content of the file\n",
    "            with open(source_file_path, 'r') as file:\n",
    "                content = file.read()\n",
    "            \n",
    "            # Construct the XML content\n",
    "            xml_content = f\"\"\"<?xml version=\"1.0\" encoding=\"UTF-8\"?>\n",
    "<TEI xmlns=\"http://www.tei-c.org/ns/1.0\" xmlns:xs=\"http://www.w3.org/2001/XMLSchema\">\n",
    "    <teiHeader>\n",
    "        <fileDesc>\n",
    "            <titleStmt>\n",
    "                <title>{filename}</title>\n",
    "            </titleStmt>\n",
    "        </fileDesc>\n",
    "    </teiHeader>\n",
    "    <text>\n",
    "        <body>\n",
    "{content}\n",
    "        </body>\n",
    "    </text>\n",
    "</TEI>\n",
    "\"\"\"\n",
    "\n",
    "            # Write the XML content to a new file in the destination directory\n",
    "            xml_file_path = os.path.join(destination_dir, filename.replace('.txt', '.xml'))# oder ('.txt', '')\n",
    "            with open(xml_file_path, 'w') as xml_file:\n",
    "                xml_file.write(xml_content)\n",
    "            \n",
    "            print(f\"File '{filename}' transformed to XML and saved as '{xml_file_path}'\")\n",
    "\n",
    "# Example usage\n",
    "source_directory = corpus_directory\n",
    "destination_directory = \"/Users/sguhr/Desktop/Diss_notebooks/Diss_data_notebooks_man_anno/Subcorpora_XML/20240430_Subcorpus_1848-70_XML\"\n",
    "\n",
    "# Optionally remove the .DS_Store file\n",
    "remove_ds_store_file(source_directory)\n",
    "\n",
    "# Transform files to XML\n",
    "transform_to_xml(source_directory, destination_directory)\n"
   ],
   "metadata": {
    "collapsed": false,
    "ExecuteTime": {
     "end_time": "2024-04-30T20:06:42.106668Z",
     "start_time": "2024-04-30T20:06:41.996275Z"
    }
   },
   "id": "1788adc9dc670b2f",
   "execution_count": 87
  },
  {
   "cell_type": "code",
   "outputs": [
    {
     "name": "stdout",
     "output_type": "stream",
     "text": [
      "Fertig.\n"
     ]
    }
   ],
   "source": [
    "print(\"Fertig.\")"
   ],
   "metadata": {
    "collapsed": false,
    "ExecuteTime": {
     "end_time": "2024-04-30T20:06:43.197419Z",
     "start_time": "2024-04-30T20:06:43.194826Z"
    }
   },
   "id": "ff7a1a6e472db94a",
   "execution_count": 88
  },
  {
   "cell_type": "code",
   "outputs": [],
   "source": [],
   "metadata": {
    "collapsed": false
   },
   "id": "2d623cb060869fa8"
  }
 ],
 "metadata": {
  "kernelspec": {
   "display_name": "Python 3",
   "language": "python",
   "name": "python3"
  },
  "language_info": {
   "codemirror_mode": {
    "name": "ipython",
    "version": 2
   },
   "file_extension": ".py",
   "mimetype": "text/x-python",
   "name": "python",
   "nbconvert_exporter": "python",
   "pygments_lexer": "ipython2",
   "version": "2.7.6"
  }
 },
 "nbformat": 4,
 "nbformat_minor": 5
}
