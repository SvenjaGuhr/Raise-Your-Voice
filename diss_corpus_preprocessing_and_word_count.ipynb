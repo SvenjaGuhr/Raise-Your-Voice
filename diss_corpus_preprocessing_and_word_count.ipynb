{
 "cells": [
  {
   "cell_type": "markdown",
   "source": [
    "# Diss Corpus Preprocessing and Word Count"
   ],
   "metadata": {
    "collapsed": false
   },
   "id": "a84d6c578faee2bd"
  },
  {
   "cell_type": "markdown",
   "source": [
    "This notebook provides a regular expression based approach to clean the literary text corpus. It opens the corpus texts as a dataframe column and adds new columns as different versions of the texts with annotations as layers. \n",
    "In the end, it counts the total word token number of each text separately before summing them up to get the total number of words in the corpus."
   ],
   "metadata": {
    "collapsed": false
   },
   "id": "fd7d5070"
  },
  {
   "cell_type": "code",
   "execution_count": 73,
   "outputs": [
    {
     "name": "stderr",
     "output_type": "stream",
     "text": [
      "[nltk_data] Downloading package punkt to /Users/sguhr/nltk_data...\n",
      "[nltk_data]   Package punkt is already up-to-date!\n"
     ]
    }
   ],
   "source": [
    "# Import \n",
    "import os\n",
    "import pandas as pd\n",
    "import regex as re\n",
    "from pathlib import Path\n",
    "from collections import Counter\n",
    "import csv\n",
    "import nltk\n",
    "nltk.download('punkt')\n",
    "from nltk.tokenize import word_tokenize\n",
    "from nltk.corpus import stopwords\n",
    "import string\n",
    "\n"
   ],
   "metadata": {
    "collapsed": false,
    "ExecuteTime": {
     "end_time": "2023-12-11T11:13:54.396622Z",
     "start_time": "2023-12-11T11:13:54.359730Z"
    }
   },
   "id": "f70125b4"
  },
  {
   "cell_type": "markdown",
   "source": [
    "## Read in the corpus"
   ],
   "metadata": {
    "collapsed": false
   },
   "id": "5fb0519d"
  },
  {
   "cell_type": "markdown",
   "id": "75a21832",
   "metadata": {},
   "source": [
    "In the following, we read in the corpus. Here, we only take a subset of the corpus to shorten the process time.  "
   ]
  },
  {
   "cell_type": "code",
   "execution_count": 43,
   "outputs": [],
   "source": [
    "corpus_directory = \"/Users/sguhr/Desktop/Diss_Korpus/Diss_Korpus_202303_bereinigt\"\n"
   ],
   "metadata": {
    "collapsed": false,
    "ExecuteTime": {
     "end_time": "2023-12-11T10:34:33.162588Z",
     "start_time": "2023-12-11T10:34:33.159046Z"
    }
   },
   "id": "7541b67549e36984"
  },
  {
   "cell_type": "code",
   "execution_count": 44,
   "id": "ea2f924c",
   "metadata": {
    "ExecuteTime": {
     "end_time": "2023-12-11T10:34:34.521113Z",
     "start_time": "2023-12-11T10:34:34.444399Z"
    }
   },
   "outputs": [
    {
     "data": {
      "text/plain": "['von_Wolzogen_Ernst_Vom_Peperl_und von andern_Raritaeten_Der_Raritaetenliabhaber.txt',\n 'Anzengruber_Ludwig_Kalendergeschichten_Treff-Ass.txt',\n 'Fontane_Theodor_Cecile.txt',\n 'Hollaender_Felix_Die_Briefe_des_Fraeulein.txt',\n 'Heyse_Paul_Gegen_den_Strom.txt',\n 'Peters_August_Blind_und_doch_sehend.txt',\n 'Groller_Balduin_Detektiv_Dagobert_Eine_teure_Depesche.txt',\n 'von_Zobeltitz_Fedor_Das_Heiratsjahr.txt',\n 'Thoma_Ludwig_Nachbarsleute_Bismarck.txt',\n 'Heyse_Paul_Marienkind.txt']"
     },
     "execution_count": 44,
     "metadata": {},
     "output_type": "execute_result"
    }
   ],
   "source": [
    "# Generate a corpus by loading all the txt files from the chosen directory \n",
    "# and list the names of the first 10 txt files \n",
    "corpus = os.listdir('/Users/sguhr/Desktop/Diss_Korpus/Diss_Korpus_202303_bereinigt')\n",
    "corpus[:10]"
   ]
  },
  {
   "cell_type": "code",
   "execution_count": 45,
   "outputs": [
    {
     "name": "stdout",
     "output_type": "stream",
     "text": [
      ".DS_Store does not exist in the specified directory.\n"
     ]
    }
   ],
   "source": [
    "#to delete the .DS_Store file that always pops up with Mac\n",
    "\n",
    "import os\n",
    "\n",
    "#corpus_directory = \"/path/to/your/corpus/directory\"\n",
    "file_to_delete = \".DS_Store\"\n",
    "file_path = os.path.join(corpus_directory, file_to_delete)\n",
    "\n",
    "if os.path.exists(file_path):\n",
    "    os.remove(file_path)\n",
    "    print(f\"{file_to_delete} has been deleted.\")\n",
    "else:\n",
    "    print(f\"{file_to_delete} does not exist in the specified directory.\")\n"
   ],
   "metadata": {
    "collapsed": false,
    "ExecuteTime": {
     "end_time": "2023-12-11T10:34:35.568994Z",
     "start_time": "2023-12-11T10:34:35.557712Z"
    }
   },
   "id": "88c11c203078c09d"
  },
  {
   "cell_type": "markdown",
   "id": "8cf7fcfc",
   "metadata": {},
   "source": [
    "With the next cell, we ask for the number of corpus texts in the chosen subset. "
   ]
  },
  {
   "cell_type": "code",
   "execution_count": 46,
   "id": "6868e68d",
   "metadata": {
    "ExecuteTime": {
     "end_time": "2023-12-11T10:34:37.929288Z",
     "start_time": "2023-12-11T10:34:37.921101Z"
    }
   },
   "outputs": [
    {
     "name": "stdout",
     "output_type": "stream",
     "text": [
      "1442\n"
     ]
    }
   ],
   "source": [
    "# Print how many txt files are in the corpus\n",
    "corpus_length = len(corpus)\n",
    "print(corpus_length)"
   ]
  },
  {
   "cell_type": "markdown",
   "id": "a8ce10c8",
   "metadata": {},
   "source": [
    "## Convert the corpus to a dataframe "
   ]
  },
  {
   "cell_type": "markdown",
   "id": "a6867efc",
   "metadata": {},
   "source": [
    "We then create an empty dictionary and add the file name and the text of the document as columns to build a dataframe of two columns."
   ]
  },
  {
   "cell_type": "code",
   "execution_count": 47,
   "id": "6b8fcace",
   "metadata": {
    "ExecuteTime": {
     "end_time": "2023-12-11T10:34:41.083876Z",
     "start_time": "2023-12-11T10:34:40.438539Z"
    }
   },
   "outputs": [],
   "source": [
    "# Create an empty dictionary for preparation of the conversion of the txt-file-corpus to a data frame\n",
    "empty_dictionary = {}\n",
    "\n",
    "# Loop through the folder of documents to open and read each one\n",
    "for document in corpus:\n",
    "    with open('/Users/sguhr/Desktop/Diss_Korpus/Diss_Korpus_202303_bereinigt/' + document, 'r', encoding = 'utf-8') as to_open:\n",
    "         empty_dictionary[document] = to_open.read()\n",
    "\n",
    "# Populate the data frame with two columns: file name and document text\n",
    "diss_corpus_texts = (pd.DataFrame.from_dict(empty_dictionary, \n",
    "                                       orient = 'index')\n",
    "                .reset_index().rename(index = str, \n",
    "                                      columns = {'index': 'file_name', 0: 'document_text'}))"
   ]
  },
  {
   "cell_type": "code",
   "execution_count": 49,
   "outputs": [
    {
     "data": {
      "text/plain": "                                           file_name  \\\n0  von_Wolzogen_Ernst_Vom_Peperl_und von andern_R...   \n1  Anzengruber_Ludwig_Kalendergeschichten_Treff-A...   \n2                         Fontane_Theodor_Cecile.txt   \n3      Hollaender_Felix_Die_Briefe_des_Fraeulein.txt   \n4                     Heyse_Paul_Gegen_den_Strom.txt   \n5            Peters_August_Blind_und_doch_sehend.txt   \n6  Groller_Balduin_Detektiv_Dagobert_Eine_teure_D...   \n7            von_Zobeltitz_Fedor_Das_Heiratsjahr.txt   \n8            Thoma_Ludwig_Nachbarsleute_Bismarck.txt   \n9                          Heyse_Paul_Marienkind.txt   \n\n                                       document_text  \\\n0  <title>Der Raritätenliabhaber</title>\\n\\n » Ja...   \n1  <title>Treff-Aß</title>\\n\\n\\nGibt es ein Buch ...   \n2  <title>Cécile</title>\\n\\n\\n<chapter>Erstes Kap...   \n3  <title>Die Briefe des Fräulein Brandt</title>\\...   \n4  <title>Gegen den Strom</title>\\n\\n<chapter>Ers...   \n5  <title>Blind und doch sehend</title>\\n\\n<chapt...   \n6  <title>Eine teure Depesche</title>\\n\\n\\nSie sa...   \n7  <title>Das Heiratsjahr</title>\\n\\n<chapter>Ers...   \n8  <title>Bismarck</title>\\n\\nDie Wahrheit ist, d...   \n9  <title>Marienkind</title>\\n\\nAuf der Landstraß...   \n\n                            title  \n0          Der Raritätenliabhaber  \n1                        Treff-Aß  \n2                          Cécile  \n3  Die Briefe des Fräulein Brandt  \n4                 Gegen den Strom  \n5           Blind und doch sehend  \n6             Eine teure Depesche  \n7                 Das Heiratsjahr  \n8                        Bismarck  \n9                      Marienkind  ",
      "text/html": "<div>\n<style scoped>\n    .dataframe tbody tr th:only-of-type {\n        vertical-align: middle;\n    }\n\n    .dataframe tbody tr th {\n        vertical-align: top;\n    }\n\n    .dataframe thead th {\n        text-align: right;\n    }\n</style>\n<table border=\"1\" class=\"dataframe\">\n  <thead>\n    <tr style=\"text-align: right;\">\n      <th></th>\n      <th>file_name</th>\n      <th>document_text</th>\n      <th>title</th>\n    </tr>\n  </thead>\n  <tbody>\n    <tr>\n      <th>0</th>\n      <td>von_Wolzogen_Ernst_Vom_Peperl_und von andern_R...</td>\n      <td>&lt;title&gt;Der Raritätenliabhaber&lt;/title&gt;\\n\\n » Ja...</td>\n      <td>Der Raritätenliabhaber</td>\n    </tr>\n    <tr>\n      <th>1</th>\n      <td>Anzengruber_Ludwig_Kalendergeschichten_Treff-A...</td>\n      <td>&lt;title&gt;Treff-Aß&lt;/title&gt;\\n\\n\\nGibt es ein Buch ...</td>\n      <td>Treff-Aß</td>\n    </tr>\n    <tr>\n      <th>2</th>\n      <td>Fontane_Theodor_Cecile.txt</td>\n      <td>&lt;title&gt;Cécile&lt;/title&gt;\\n\\n\\n&lt;chapter&gt;Erstes Kap...</td>\n      <td>Cécile</td>\n    </tr>\n    <tr>\n      <th>3</th>\n      <td>Hollaender_Felix_Die_Briefe_des_Fraeulein.txt</td>\n      <td>&lt;title&gt;Die Briefe des Fräulein Brandt&lt;/title&gt;\\...</td>\n      <td>Die Briefe des Fräulein Brandt</td>\n    </tr>\n    <tr>\n      <th>4</th>\n      <td>Heyse_Paul_Gegen_den_Strom.txt</td>\n      <td>&lt;title&gt;Gegen den Strom&lt;/title&gt;\\n\\n&lt;chapter&gt;Ers...</td>\n      <td>Gegen den Strom</td>\n    </tr>\n    <tr>\n      <th>5</th>\n      <td>Peters_August_Blind_und_doch_sehend.txt</td>\n      <td>&lt;title&gt;Blind und doch sehend&lt;/title&gt;\\n\\n&lt;chapt...</td>\n      <td>Blind und doch sehend</td>\n    </tr>\n    <tr>\n      <th>6</th>\n      <td>Groller_Balduin_Detektiv_Dagobert_Eine_teure_D...</td>\n      <td>&lt;title&gt;Eine teure Depesche&lt;/title&gt;\\n\\n\\nSie sa...</td>\n      <td>Eine teure Depesche</td>\n    </tr>\n    <tr>\n      <th>7</th>\n      <td>von_Zobeltitz_Fedor_Das_Heiratsjahr.txt</td>\n      <td>&lt;title&gt;Das Heiratsjahr&lt;/title&gt;\\n\\n&lt;chapter&gt;Ers...</td>\n      <td>Das Heiratsjahr</td>\n    </tr>\n    <tr>\n      <th>8</th>\n      <td>Thoma_Ludwig_Nachbarsleute_Bismarck.txt</td>\n      <td>&lt;title&gt;Bismarck&lt;/title&gt;\\n\\nDie Wahrheit ist, d...</td>\n      <td>Bismarck</td>\n    </tr>\n    <tr>\n      <th>9</th>\n      <td>Heyse_Paul_Marienkind.txt</td>\n      <td>&lt;title&gt;Marienkind&lt;/title&gt;\\n\\nAuf der Landstraß...</td>\n      <td>Marienkind</td>\n    </tr>\n  </tbody>\n</table>\n</div>"
     },
     "execution_count": 49,
     "metadata": {},
     "output_type": "execute_result"
    }
   ],
   "source": [
    "#extract the title of the text as a further column with metadata\n",
    "\n",
    "\n",
    "# Define the regular expression pattern to extract the title followed by double line break \\n\\n\n",
    "pattern = r'^(.*?)\\n\\n'\n",
    "\n",
    "# Extract the first line and create a new 'titles' column\n",
    "diss_corpus_texts['title'] = diss_corpus_texts['document_text'].str.extract(pattern, flags=re.DOTALL)\n",
    "diss_corpus_texts['title'] = diss_corpus_texts['title'].str.replace('<title>', '') # remove xml tags from title column\n",
    "diss_corpus_texts['title'] = diss_corpus_texts['title'].str.replace('</title>', '') # remove xml tags from title column\n",
    "\n",
    "# Print the DataFrame to see the results\n",
    "diss_corpus_texts[:10]"
   ],
   "metadata": {
    "collapsed": false,
    "ExecuteTime": {
     "end_time": "2023-12-11T10:34:54.377551Z",
     "start_time": "2023-12-11T10:34:54.344195Z"
    }
   },
   "id": "8034f199ae4175fb"
  },
  {
   "cell_type": "markdown",
   "id": "b98e527a",
   "metadata": {},
   "source": [
    "In the next cell, we verify the content of the first 10 lines of the dataframe."
   ]
  },
  {
   "cell_type": "code",
   "execution_count": 50,
   "id": "9caaa47a",
   "metadata": {
    "ExecuteTime": {
     "end_time": "2023-12-11T10:35:02.848329Z",
     "start_time": "2023-12-11T10:35:02.832065Z"
    }
   },
   "outputs": [
    {
     "data": {
      "text/plain": "                                           file_name  \\\n0  von_Wolzogen_Ernst_Vom_Peperl_und von andern_R...   \n1  Anzengruber_Ludwig_Kalendergeschichten_Treff-A...   \n2                         Fontane_Theodor_Cecile.txt   \n3      Hollaender_Felix_Die_Briefe_des_Fraeulein.txt   \n4                     Heyse_Paul_Gegen_den_Strom.txt   \n5            Peters_August_Blind_und_doch_sehend.txt   \n6  Groller_Balduin_Detektiv_Dagobert_Eine_teure_D...   \n7            von_Zobeltitz_Fedor_Das_Heiratsjahr.txt   \n8            Thoma_Ludwig_Nachbarsleute_Bismarck.txt   \n9                          Heyse_Paul_Marienkind.txt   \n\n                                       document_text  \\\n0  <title>Der Raritätenliabhaber</title>\\n\\n » Ja...   \n1  <title>Treff-Aß</title>\\n\\n\\nGibt es ein Buch ...   \n2  <title>Cécile</title>\\n\\n\\n<chapter>Erstes Kap...   \n3  <title>Die Briefe des Fräulein Brandt</title>\\...   \n4  <title>Gegen den Strom</title>\\n\\n<chapter>Ers...   \n5  <title>Blind und doch sehend</title>\\n\\n<chapt...   \n6  <title>Eine teure Depesche</title>\\n\\n\\nSie sa...   \n7  <title>Das Heiratsjahr</title>\\n\\n<chapter>Ers...   \n8  <title>Bismarck</title>\\n\\nDie Wahrheit ist, d...   \n9  <title>Marienkind</title>\\n\\nAuf der Landstraß...   \n\n                            title  \n0          Der Raritätenliabhaber  \n1                        Treff-Aß  \n2                          Cécile  \n3  Die Briefe des Fräulein Brandt  \n4                 Gegen den Strom  \n5           Blind und doch sehend  \n6             Eine teure Depesche  \n7                 Das Heiratsjahr  \n8                        Bismarck  \n9                      Marienkind  ",
      "text/html": "<div>\n<style scoped>\n    .dataframe tbody tr th:only-of-type {\n        vertical-align: middle;\n    }\n\n    .dataframe tbody tr th {\n        vertical-align: top;\n    }\n\n    .dataframe thead th {\n        text-align: right;\n    }\n</style>\n<table border=\"1\" class=\"dataframe\">\n  <thead>\n    <tr style=\"text-align: right;\">\n      <th></th>\n      <th>file_name</th>\n      <th>document_text</th>\n      <th>title</th>\n    </tr>\n  </thead>\n  <tbody>\n    <tr>\n      <th>0</th>\n      <td>von_Wolzogen_Ernst_Vom_Peperl_und von andern_R...</td>\n      <td>&lt;title&gt;Der Raritätenliabhaber&lt;/title&gt;\\n\\n » Ja...</td>\n      <td>Der Raritätenliabhaber</td>\n    </tr>\n    <tr>\n      <th>1</th>\n      <td>Anzengruber_Ludwig_Kalendergeschichten_Treff-A...</td>\n      <td>&lt;title&gt;Treff-Aß&lt;/title&gt;\\n\\n\\nGibt es ein Buch ...</td>\n      <td>Treff-Aß</td>\n    </tr>\n    <tr>\n      <th>2</th>\n      <td>Fontane_Theodor_Cecile.txt</td>\n      <td>&lt;title&gt;Cécile&lt;/title&gt;\\n\\n\\n&lt;chapter&gt;Erstes Kap...</td>\n      <td>Cécile</td>\n    </tr>\n    <tr>\n      <th>3</th>\n      <td>Hollaender_Felix_Die_Briefe_des_Fraeulein.txt</td>\n      <td>&lt;title&gt;Die Briefe des Fräulein Brandt&lt;/title&gt;\\...</td>\n      <td>Die Briefe des Fräulein Brandt</td>\n    </tr>\n    <tr>\n      <th>4</th>\n      <td>Heyse_Paul_Gegen_den_Strom.txt</td>\n      <td>&lt;title&gt;Gegen den Strom&lt;/title&gt;\\n\\n&lt;chapter&gt;Ers...</td>\n      <td>Gegen den Strom</td>\n    </tr>\n    <tr>\n      <th>5</th>\n      <td>Peters_August_Blind_und_doch_sehend.txt</td>\n      <td>&lt;title&gt;Blind und doch sehend&lt;/title&gt;\\n\\n&lt;chapt...</td>\n      <td>Blind und doch sehend</td>\n    </tr>\n    <tr>\n      <th>6</th>\n      <td>Groller_Balduin_Detektiv_Dagobert_Eine_teure_D...</td>\n      <td>&lt;title&gt;Eine teure Depesche&lt;/title&gt;\\n\\n\\nSie sa...</td>\n      <td>Eine teure Depesche</td>\n    </tr>\n    <tr>\n      <th>7</th>\n      <td>von_Zobeltitz_Fedor_Das_Heiratsjahr.txt</td>\n      <td>&lt;title&gt;Das Heiratsjahr&lt;/title&gt;\\n\\n&lt;chapter&gt;Ers...</td>\n      <td>Das Heiratsjahr</td>\n    </tr>\n    <tr>\n      <th>8</th>\n      <td>Thoma_Ludwig_Nachbarsleute_Bismarck.txt</td>\n      <td>&lt;title&gt;Bismarck&lt;/title&gt;\\n\\nDie Wahrheit ist, d...</td>\n      <td>Bismarck</td>\n    </tr>\n    <tr>\n      <th>9</th>\n      <td>Heyse_Paul_Marienkind.txt</td>\n      <td>&lt;title&gt;Marienkind&lt;/title&gt;\\n\\nAuf der Landstraß...</td>\n      <td>Marienkind</td>\n    </tr>\n  </tbody>\n</table>\n</div>"
     },
     "execution_count": 50,
     "metadata": {},
     "output_type": "execute_result"
    }
   ],
   "source": [
    "# show the first 10 lines of the data frame\n",
    "diss_corpus_texts[:10]"
   ]
  },
  {
   "cell_type": "markdown",
   "id": "442f6441",
   "metadata": {},
   "source": [
    "You can see still some \\n\\n these are line breaks. You can use regular expressions to extract the first line as title of the text. And the file name contains the name of the author, but that is not as easy to extract. Better to be extracted from the metadata with a comparison of filename and filename indicated in metadata.\n",
    "\n",
    "In the next cell, we do some basic text cleaning steps."
   ]
  },
  {
   "cell_type": "markdown",
   "id": "f3e98aa5",
   "metadata": {},
   "source": [
    "## Preprocessing"
   ]
  },
  {
   "cell_type": "markdown",
   "source": [
    "In the next cell, we extract the title of the text by extracting the first line followed by two line breaks. This is possible because we know about the structure of the text that were manually prepared following that schema."
   ],
   "metadata": {
    "collapsed": false
   },
   "id": "6e173af0"
  },
  {
   "cell_type": "code",
   "execution_count": 66,
   "id": "7d8c1f44",
   "metadata": {
    "ExecuteTime": {
     "end_time": "2023-12-11T10:53:08.455284Z",
     "start_time": "2023-12-11T10:53:06.720398Z"
    }
   },
   "outputs": [],
   "source": [
    "#create a new column\n",
    "#use regular expressions to clean the plain text and store the cleaned text in a new column as a further layer of the text without deleting the original version\n",
    "\n",
    "\n",
    "diss_corpus_texts['clean_text'] = diss_corpus_texts['document_text'].str.replace('&', 'and') # exchange & for 'and'\n",
    "diss_corpus_texts['clean_text'] = diss_corpus_texts['clean_text'].str.replace('<title>', '') # remove xml tags from clean_text column\n",
    "diss_corpus_texts['clean_text'] = diss_corpus_texts['clean_text'].str.replace('</title>', '') # remove xml tags from clean_text column\n",
    "diss_corpus_texts['clean_text'] = diss_corpus_texts['clean_text'].str.replace('<section>', '') # remove xml tags from clean_text column\n",
    "diss_corpus_texts['clean_text'] = diss_corpus_texts['clean_text'].str.replace('</section>', '') # remove xml tags from clean_text column\n",
    "diss_corpus_texts['clean_text'] = diss_corpus_texts['clean_text'].str.replace('<chapter>', '') # remove xml tags from clean_text column\n",
    "diss_corpus_texts['clean_text'] = diss_corpus_texts['clean_text'].str.replace('</chapter>', '') # remove xml tags from clean_text column\n",
    "diss_corpus_texts['clean_text'] = diss_corpus_texts['clean_text'].str.replace('\\n+', ' ') # replace double line break with single\n",
    "diss_corpus_texts['clean_text'] = diss_corpus_texts['clean_text'].str.replace('\\s+', ' ') # replace double white space with single"
   ]
  },
  {
   "cell_type": "code",
   "execution_count": 67,
   "id": "750d936a",
   "metadata": {
    "scrolled": true,
    "ExecuteTime": {
     "end_time": "2023-12-11T10:53:09.428162Z",
     "start_time": "2023-12-11T10:53:09.423499Z"
    }
   },
   "outputs": [
    {
     "data": {
      "text/plain": "                                           file_name  \\\n0  von_Wolzogen_Ernst_Vom_Peperl_und von andern_R...   \n1  Anzengruber_Ludwig_Kalendergeschichten_Treff-A...   \n2                         Fontane_Theodor_Cecile.txt   \n3      Hollaender_Felix_Die_Briefe_des_Fraeulein.txt   \n4                     Heyse_Paul_Gegen_den_Strom.txt   \n5            Peters_August_Blind_und_doch_sehend.txt   \n6  Groller_Balduin_Detektiv_Dagobert_Eine_teure_D...   \n7            von_Zobeltitz_Fedor_Das_Heiratsjahr.txt   \n8            Thoma_Ludwig_Nachbarsleute_Bismarck.txt   \n9                          Heyse_Paul_Marienkind.txt   \n\n                                       document_text  \\\n0  <title>Der Raritätenliabhaber</title>\\n\\n » Ja...   \n1  <title>Treff-Aß</title>\\n\\n\\nGibt es ein Buch ...   \n2  <title>Cécile</title>\\n\\n\\n<chapter>Erstes Kap...   \n3  <title>Die Briefe des Fräulein Brandt</title>\\...   \n4  <title>Gegen den Strom</title>\\n\\n<chapter>Ers...   \n5  <title>Blind und doch sehend</title>\\n\\n<chapt...   \n6  <title>Eine teure Depesche</title>\\n\\n\\nSie sa...   \n7  <title>Das Heiratsjahr</title>\\n\\n<chapter>Ers...   \n8  <title>Bismarck</title>\\n\\nDie Wahrheit ist, d...   \n9  <title>Marienkind</title>\\n\\nAuf der Landstraß...   \n\n                            title  \\\n0          Der Raritätenliabhaber   \n1                        Treff-Aß   \n2                          Cécile   \n3  Die Briefe des Fräulein Brandt   \n4                 Gegen den Strom   \n5           Blind und doch sehend   \n6             Eine teure Depesche   \n7                 Das Heiratsjahr   \n8                        Bismarck   \n9                      Marienkind   \n\n                                          clean_text  \n0  Der Raritätenliabhaber\\n\\n » Ja, grüaß Eahna G...  \n1  Treff-Aß\\n\\n\\nGibt es ein Buch des Schicksals,...  \n2  Cécile\\n\\n\\nErstes Kapitel\\n\\n\\n » Thale. Zwei...  \n3  Die Briefe des Fräulein Brandt\\n\\nIserbaude, 7...  \n4  Gegen den Strom\\n\\nErstes Kapitel.\\n\\nEs war z...  \n5  Blind und doch sehend\\n\\nI. Ein junger Arzt.\\n...  \n6  Eine teure Depesche\\n\\n\\nSie saßen wieder zu d...  \n7  Das Heiratsjahr\\n\\nErstes Kapitel.\\n\\nIn welch...  \n8  Bismarck\\n\\nDie Wahrheit ist, daß es in Bernau...  \n9  Marienkind\\n\\nAuf der Landstraße, die in gerin...  ",
      "text/html": "<div>\n<style scoped>\n    .dataframe tbody tr th:only-of-type {\n        vertical-align: middle;\n    }\n\n    .dataframe tbody tr th {\n        vertical-align: top;\n    }\n\n    .dataframe thead th {\n        text-align: right;\n    }\n</style>\n<table border=\"1\" class=\"dataframe\">\n  <thead>\n    <tr style=\"text-align: right;\">\n      <th></th>\n      <th>file_name</th>\n      <th>document_text</th>\n      <th>title</th>\n      <th>clean_text</th>\n    </tr>\n  </thead>\n  <tbody>\n    <tr>\n      <th>0</th>\n      <td>von_Wolzogen_Ernst_Vom_Peperl_und von andern_R...</td>\n      <td>&lt;title&gt;Der Raritätenliabhaber&lt;/title&gt;\\n\\n » Ja...</td>\n      <td>Der Raritätenliabhaber</td>\n      <td>Der Raritätenliabhaber\\n\\n » Ja, grüaß Eahna G...</td>\n    </tr>\n    <tr>\n      <th>1</th>\n      <td>Anzengruber_Ludwig_Kalendergeschichten_Treff-A...</td>\n      <td>&lt;title&gt;Treff-Aß&lt;/title&gt;\\n\\n\\nGibt es ein Buch ...</td>\n      <td>Treff-Aß</td>\n      <td>Treff-Aß\\n\\n\\nGibt es ein Buch des Schicksals,...</td>\n    </tr>\n    <tr>\n      <th>2</th>\n      <td>Fontane_Theodor_Cecile.txt</td>\n      <td>&lt;title&gt;Cécile&lt;/title&gt;\\n\\n\\n&lt;chapter&gt;Erstes Kap...</td>\n      <td>Cécile</td>\n      <td>Cécile\\n\\n\\nErstes Kapitel\\n\\n\\n » Thale. Zwei...</td>\n    </tr>\n    <tr>\n      <th>3</th>\n      <td>Hollaender_Felix_Die_Briefe_des_Fraeulein.txt</td>\n      <td>&lt;title&gt;Die Briefe des Fräulein Brandt&lt;/title&gt;\\...</td>\n      <td>Die Briefe des Fräulein Brandt</td>\n      <td>Die Briefe des Fräulein Brandt\\n\\nIserbaude, 7...</td>\n    </tr>\n    <tr>\n      <th>4</th>\n      <td>Heyse_Paul_Gegen_den_Strom.txt</td>\n      <td>&lt;title&gt;Gegen den Strom&lt;/title&gt;\\n\\n&lt;chapter&gt;Ers...</td>\n      <td>Gegen den Strom</td>\n      <td>Gegen den Strom\\n\\nErstes Kapitel.\\n\\nEs war z...</td>\n    </tr>\n    <tr>\n      <th>5</th>\n      <td>Peters_August_Blind_und_doch_sehend.txt</td>\n      <td>&lt;title&gt;Blind und doch sehend&lt;/title&gt;\\n\\n&lt;chapt...</td>\n      <td>Blind und doch sehend</td>\n      <td>Blind und doch sehend\\n\\nI. Ein junger Arzt.\\n...</td>\n    </tr>\n    <tr>\n      <th>6</th>\n      <td>Groller_Balduin_Detektiv_Dagobert_Eine_teure_D...</td>\n      <td>&lt;title&gt;Eine teure Depesche&lt;/title&gt;\\n\\n\\nSie sa...</td>\n      <td>Eine teure Depesche</td>\n      <td>Eine teure Depesche\\n\\n\\nSie saßen wieder zu d...</td>\n    </tr>\n    <tr>\n      <th>7</th>\n      <td>von_Zobeltitz_Fedor_Das_Heiratsjahr.txt</td>\n      <td>&lt;title&gt;Das Heiratsjahr&lt;/title&gt;\\n\\n&lt;chapter&gt;Ers...</td>\n      <td>Das Heiratsjahr</td>\n      <td>Das Heiratsjahr\\n\\nErstes Kapitel.\\n\\nIn welch...</td>\n    </tr>\n    <tr>\n      <th>8</th>\n      <td>Thoma_Ludwig_Nachbarsleute_Bismarck.txt</td>\n      <td>&lt;title&gt;Bismarck&lt;/title&gt;\\n\\nDie Wahrheit ist, d...</td>\n      <td>Bismarck</td>\n      <td>Bismarck\\n\\nDie Wahrheit ist, daß es in Bernau...</td>\n    </tr>\n    <tr>\n      <th>9</th>\n      <td>Heyse_Paul_Marienkind.txt</td>\n      <td>&lt;title&gt;Marienkind&lt;/title&gt;\\n\\nAuf der Landstraß...</td>\n      <td>Marienkind</td>\n      <td>Marienkind\\n\\nAuf der Landstraße, die in gerin...</td>\n    </tr>\n  </tbody>\n</table>\n</div>"
     },
     "execution_count": 67,
     "metadata": {},
     "output_type": "execute_result"
    }
   ],
   "source": [
    "# show the first 10 lines of the data frame\n",
    "diss_corpus_texts[:10]"
   ]
  },
  {
   "cell_type": "markdown",
   "source": [
    "Now, we want to find out more about the texts in our corpus. \n"
   ],
   "metadata": {
    "collapsed": false
   },
   "id": "2587301e"
  },
  {
   "cell_type": "markdown",
   "source": [
    "## Word Count"
   ],
   "metadata": {
    "collapsed": false
   },
   "id": "87a349aa194232dd"
  },
  {
   "cell_type": "markdown",
   "source": [
    "In the following, I will tokenize the texts and count the total number of word tokens excluding the punctuation via \"not in string.punctuation\"."
   ],
   "metadata": {
    "collapsed": false
   },
   "id": "29237f2038a78f09"
  },
  {
   "cell_type": "code",
   "execution_count": 74,
   "outputs": [
    {
     "data": {
      "text/plain": "                                           file_name  \\\n0  von_Wolzogen_Ernst_Vom_Peperl_und von andern_R...   \n1  Anzengruber_Ludwig_Kalendergeschichten_Treff-A...   \n2                         Fontane_Theodor_Cecile.txt   \n3      Hollaender_Felix_Die_Briefe_des_Fraeulein.txt   \n4                     Heyse_Paul_Gegen_den_Strom.txt   \n5            Peters_August_Blind_und_doch_sehend.txt   \n6  Groller_Balduin_Detektiv_Dagobert_Eine_teure_D...   \n7            von_Zobeltitz_Fedor_Das_Heiratsjahr.txt   \n8            Thoma_Ludwig_Nachbarsleute_Bismarck.txt   \n9                          Heyse_Paul_Marienkind.txt   \n\n                                       document_text  \\\n0  <title>Der Raritätenliabhaber</title>\\n\\n » Ja...   \n1  <title>Treff-Aß</title>\\n\\n\\nGibt es ein Buch ...   \n2  <title>Cécile</title>\\n\\n\\n<chapter>Erstes Kap...   \n3  <title>Die Briefe des Fräulein Brandt</title>\\...   \n4  <title>Gegen den Strom</title>\\n\\n<chapter>Ers...   \n5  <title>Blind und doch sehend</title>\\n\\n<chapt...   \n6  <title>Eine teure Depesche</title>\\n\\n\\nSie sa...   \n7  <title>Das Heiratsjahr</title>\\n\\n<chapter>Ers...   \n8  <title>Bismarck</title>\\n\\nDie Wahrheit ist, d...   \n9  <title>Marienkind</title>\\n\\nAuf der Landstraß...   \n\n                            title  \\\n0          Der Raritätenliabhaber   \n1                        Treff-Aß   \n2                          Cécile   \n3  Die Briefe des Fräulein Brandt   \n4                 Gegen den Strom   \n5           Blind und doch sehend   \n6             Eine teure Depesche   \n7                 Das Heiratsjahr   \n8                        Bismarck   \n9                      Marienkind   \n\n                                          clean_text  word_count  \\\n0  Der Raritätenliabhaber\\n\\n » Ja, grüaß Eahna G...        4959   \n1  Treff-Aß\\n\\n\\nGibt es ein Buch des Schicksals,...        5722   \n2  Cécile\\n\\n\\nErstes Kapitel\\n\\n\\n » Thale. Zwei...       67705   \n3  Die Briefe des Fräulein Brandt\\n\\nIserbaude, 7...       55281   \n4  Gegen den Strom\\n\\nErstes Kapitel.\\n\\nEs war z...       75434   \n5  Blind und doch sehend\\n\\nI. Ein junger Arzt.\\n...       14672   \n6  Eine teure Depesche\\n\\n\\nSie saßen wieder zu d...        9442   \n7  Das Heiratsjahr\\n\\nErstes Kapitel.\\n\\nIn welch...      101133   \n8  Bismarck\\n\\nDie Wahrheit ist, daß es in Bernau...        2980   \n9  Marienkind\\n\\nAuf der Landstraße, die in gerin...       34429   \n\n   word_count_new  \n0            4109  \n1            4738  \n2           57754  \n3           47298  \n4           65474  \n5           13002  \n6            8176  \n7           85969  \n8            2617  \n9           30288  ",
      "text/html": "<div>\n<style scoped>\n    .dataframe tbody tr th:only-of-type {\n        vertical-align: middle;\n    }\n\n    .dataframe tbody tr th {\n        vertical-align: top;\n    }\n\n    .dataframe thead th {\n        text-align: right;\n    }\n</style>\n<table border=\"1\" class=\"dataframe\">\n  <thead>\n    <tr style=\"text-align: right;\">\n      <th></th>\n      <th>file_name</th>\n      <th>document_text</th>\n      <th>title</th>\n      <th>clean_text</th>\n      <th>word_count</th>\n      <th>word_count_new</th>\n    </tr>\n  </thead>\n  <tbody>\n    <tr>\n      <th>0</th>\n      <td>von_Wolzogen_Ernst_Vom_Peperl_und von andern_R...</td>\n      <td>&lt;title&gt;Der Raritätenliabhaber&lt;/title&gt;\\n\\n » Ja...</td>\n      <td>Der Raritätenliabhaber</td>\n      <td>Der Raritätenliabhaber\\n\\n » Ja, grüaß Eahna G...</td>\n      <td>4959</td>\n      <td>4109</td>\n    </tr>\n    <tr>\n      <th>1</th>\n      <td>Anzengruber_Ludwig_Kalendergeschichten_Treff-A...</td>\n      <td>&lt;title&gt;Treff-Aß&lt;/title&gt;\\n\\n\\nGibt es ein Buch ...</td>\n      <td>Treff-Aß</td>\n      <td>Treff-Aß\\n\\n\\nGibt es ein Buch des Schicksals,...</td>\n      <td>5722</td>\n      <td>4738</td>\n    </tr>\n    <tr>\n      <th>2</th>\n      <td>Fontane_Theodor_Cecile.txt</td>\n      <td>&lt;title&gt;Cécile&lt;/title&gt;\\n\\n\\n&lt;chapter&gt;Erstes Kap...</td>\n      <td>Cécile</td>\n      <td>Cécile\\n\\n\\nErstes Kapitel\\n\\n\\n » Thale. Zwei...</td>\n      <td>67705</td>\n      <td>57754</td>\n    </tr>\n    <tr>\n      <th>3</th>\n      <td>Hollaender_Felix_Die_Briefe_des_Fraeulein.txt</td>\n      <td>&lt;title&gt;Die Briefe des Fräulein Brandt&lt;/title&gt;\\...</td>\n      <td>Die Briefe des Fräulein Brandt</td>\n      <td>Die Briefe des Fräulein Brandt\\n\\nIserbaude, 7...</td>\n      <td>55281</td>\n      <td>47298</td>\n    </tr>\n    <tr>\n      <th>4</th>\n      <td>Heyse_Paul_Gegen_den_Strom.txt</td>\n      <td>&lt;title&gt;Gegen den Strom&lt;/title&gt;\\n\\n&lt;chapter&gt;Ers...</td>\n      <td>Gegen den Strom</td>\n      <td>Gegen den Strom\\n\\nErstes Kapitel.\\n\\nEs war z...</td>\n      <td>75434</td>\n      <td>65474</td>\n    </tr>\n    <tr>\n      <th>5</th>\n      <td>Peters_August_Blind_und_doch_sehend.txt</td>\n      <td>&lt;title&gt;Blind und doch sehend&lt;/title&gt;\\n\\n&lt;chapt...</td>\n      <td>Blind und doch sehend</td>\n      <td>Blind und doch sehend\\n\\nI. Ein junger Arzt.\\n...</td>\n      <td>14672</td>\n      <td>13002</td>\n    </tr>\n    <tr>\n      <th>6</th>\n      <td>Groller_Balduin_Detektiv_Dagobert_Eine_teure_D...</td>\n      <td>&lt;title&gt;Eine teure Depesche&lt;/title&gt;\\n\\n\\nSie sa...</td>\n      <td>Eine teure Depesche</td>\n      <td>Eine teure Depesche\\n\\n\\nSie saßen wieder zu d...</td>\n      <td>9442</td>\n      <td>8176</td>\n    </tr>\n    <tr>\n      <th>7</th>\n      <td>von_Zobeltitz_Fedor_Das_Heiratsjahr.txt</td>\n      <td>&lt;title&gt;Das Heiratsjahr&lt;/title&gt;\\n\\n&lt;chapter&gt;Ers...</td>\n      <td>Das Heiratsjahr</td>\n      <td>Das Heiratsjahr\\n\\nErstes Kapitel.\\n\\nIn welch...</td>\n      <td>101133</td>\n      <td>85969</td>\n    </tr>\n    <tr>\n      <th>8</th>\n      <td>Thoma_Ludwig_Nachbarsleute_Bismarck.txt</td>\n      <td>&lt;title&gt;Bismarck&lt;/title&gt;\\n\\nDie Wahrheit ist, d...</td>\n      <td>Bismarck</td>\n      <td>Bismarck\\n\\nDie Wahrheit ist, daß es in Bernau...</td>\n      <td>2980</td>\n      <td>2617</td>\n    </tr>\n    <tr>\n      <th>9</th>\n      <td>Heyse_Paul_Marienkind.txt</td>\n      <td>&lt;title&gt;Marienkind&lt;/title&gt;\\n\\nAuf der Landstraß...</td>\n      <td>Marienkind</td>\n      <td>Marienkind\\n\\nAuf der Landstraße, die in gerin...</td>\n      <td>34429</td>\n      <td>30288</td>\n    </tr>\n  </tbody>\n</table>\n</div>"
     },
     "execution_count": 74,
     "metadata": {},
     "output_type": "execute_result"
    }
   ],
   "source": [
    "\n",
    "\n",
    "# Function to count words in a text excluding stopwords and punctuation\n",
    "def count_words(text):\n",
    "    # Tokenize the text using the German tokenizer\n",
    "    words = word_tokenize(text, language='german')\n",
    "    \n",
    "    # Exclude stopwords and punctuation\n",
    "    filtered_words = [word for word in words if word not in string.punctuation]\n",
    "    \n",
    "    # Return the count of non-stopwords and non-punctuation words\n",
    "    return len(filtered_words)\n",
    "\n",
    "# Apply the count_words function to each row in the DataFrame\n",
    "diss_corpus_texts['word_count'] = diss_corpus_texts['clean_text'].apply(count_words)\n",
    "\n",
    "# Display the DataFrame with total word counts\n",
    "#diss_corpus_texts[:10]"
   ],
   "metadata": {
    "collapsed": false,
    "ExecuteTime": {
     "end_time": "2023-12-11T11:18:32.802806Z",
     "start_time": "2023-12-11T11:16:20.242412Z"
    }
   },
   "id": "d2abf8339cc2383b"
  },
  {
   "cell_type": "code",
   "execution_count": 69,
   "outputs": [
    {
     "data": {
      "text/plain": "                                           file_name  \\\n0  von_Wolzogen_Ernst_Vom_Peperl_und von andern_R...   \n1  Anzengruber_Ludwig_Kalendergeschichten_Treff-A...   \n2                         Fontane_Theodor_Cecile.txt   \n3      Hollaender_Felix_Die_Briefe_des_Fraeulein.txt   \n4                     Heyse_Paul_Gegen_den_Strom.txt   \n5            Peters_August_Blind_und_doch_sehend.txt   \n6  Groller_Balduin_Detektiv_Dagobert_Eine_teure_D...   \n7            von_Zobeltitz_Fedor_Das_Heiratsjahr.txt   \n8            Thoma_Ludwig_Nachbarsleute_Bismarck.txt   \n9                          Heyse_Paul_Marienkind.txt   \n\n                                       document_text  \\\n0  <title>Der Raritätenliabhaber</title>\\n\\n » Ja...   \n1  <title>Treff-Aß</title>\\n\\n\\nGibt es ein Buch ...   \n2  <title>Cécile</title>\\n\\n\\n<chapter>Erstes Kap...   \n3  <title>Die Briefe des Fräulein Brandt</title>\\...   \n4  <title>Gegen den Strom</title>\\n\\n<chapter>Ers...   \n5  <title>Blind und doch sehend</title>\\n\\n<chapt...   \n6  <title>Eine teure Depesche</title>\\n\\n\\nSie sa...   \n7  <title>Das Heiratsjahr</title>\\n\\n<chapter>Ers...   \n8  <title>Bismarck</title>\\n\\nDie Wahrheit ist, d...   \n9  <title>Marienkind</title>\\n\\nAuf der Landstraß...   \n\n                            title  \\\n0          Der Raritätenliabhaber   \n1                        Treff-Aß   \n2                          Cécile   \n3  Die Briefe des Fräulein Brandt   \n4                 Gegen den Strom   \n5           Blind und doch sehend   \n6             Eine teure Depesche   \n7                 Das Heiratsjahr   \n8                        Bismarck   \n9                      Marienkind   \n\n                                          clean_text  word_count  \n0  Der Raritätenliabhaber\\n\\n » Ja, grüaß Eahna G...        4959  \n1  Treff-Aß\\n\\n\\nGibt es ein Buch des Schicksals,...        5722  \n2  Cécile\\n\\n\\nErstes Kapitel\\n\\n\\n » Thale. Zwei...       67705  \n3  Die Briefe des Fräulein Brandt\\n\\nIserbaude, 7...       55281  \n4  Gegen den Strom\\n\\nErstes Kapitel.\\n\\nEs war z...       75434  \n5  Blind und doch sehend\\n\\nI. Ein junger Arzt.\\n...       14672  \n6  Eine teure Depesche\\n\\n\\nSie saßen wieder zu d...        9442  \n7  Das Heiratsjahr\\n\\nErstes Kapitel.\\n\\nIn welch...      101133  \n8  Bismarck\\n\\nDie Wahrheit ist, daß es in Bernau...        2980  \n9  Marienkind\\n\\nAuf der Landstraße, die in gerin...       34429  ",
      "text/html": "<div>\n<style scoped>\n    .dataframe tbody tr th:only-of-type {\n        vertical-align: middle;\n    }\n\n    .dataframe tbody tr th {\n        vertical-align: top;\n    }\n\n    .dataframe thead th {\n        text-align: right;\n    }\n</style>\n<table border=\"1\" class=\"dataframe\">\n  <thead>\n    <tr style=\"text-align: right;\">\n      <th></th>\n      <th>file_name</th>\n      <th>document_text</th>\n      <th>title</th>\n      <th>clean_text</th>\n      <th>word_count</th>\n    </tr>\n  </thead>\n  <tbody>\n    <tr>\n      <th>0</th>\n      <td>von_Wolzogen_Ernst_Vom_Peperl_und von andern_R...</td>\n      <td>&lt;title&gt;Der Raritätenliabhaber&lt;/title&gt;\\n\\n » Ja...</td>\n      <td>Der Raritätenliabhaber</td>\n      <td>Der Raritätenliabhaber\\n\\n » Ja, grüaß Eahna G...</td>\n      <td>4959</td>\n    </tr>\n    <tr>\n      <th>1</th>\n      <td>Anzengruber_Ludwig_Kalendergeschichten_Treff-A...</td>\n      <td>&lt;title&gt;Treff-Aß&lt;/title&gt;\\n\\n\\nGibt es ein Buch ...</td>\n      <td>Treff-Aß</td>\n      <td>Treff-Aß\\n\\n\\nGibt es ein Buch des Schicksals,...</td>\n      <td>5722</td>\n    </tr>\n    <tr>\n      <th>2</th>\n      <td>Fontane_Theodor_Cecile.txt</td>\n      <td>&lt;title&gt;Cécile&lt;/title&gt;\\n\\n\\n&lt;chapter&gt;Erstes Kap...</td>\n      <td>Cécile</td>\n      <td>Cécile\\n\\n\\nErstes Kapitel\\n\\n\\n » Thale. Zwei...</td>\n      <td>67705</td>\n    </tr>\n    <tr>\n      <th>3</th>\n      <td>Hollaender_Felix_Die_Briefe_des_Fraeulein.txt</td>\n      <td>&lt;title&gt;Die Briefe des Fräulein Brandt&lt;/title&gt;\\...</td>\n      <td>Die Briefe des Fräulein Brandt</td>\n      <td>Die Briefe des Fräulein Brandt\\n\\nIserbaude, 7...</td>\n      <td>55281</td>\n    </tr>\n    <tr>\n      <th>4</th>\n      <td>Heyse_Paul_Gegen_den_Strom.txt</td>\n      <td>&lt;title&gt;Gegen den Strom&lt;/title&gt;\\n\\n&lt;chapter&gt;Ers...</td>\n      <td>Gegen den Strom</td>\n      <td>Gegen den Strom\\n\\nErstes Kapitel.\\n\\nEs war z...</td>\n      <td>75434</td>\n    </tr>\n    <tr>\n      <th>5</th>\n      <td>Peters_August_Blind_und_doch_sehend.txt</td>\n      <td>&lt;title&gt;Blind und doch sehend&lt;/title&gt;\\n\\n&lt;chapt...</td>\n      <td>Blind und doch sehend</td>\n      <td>Blind und doch sehend\\n\\nI. Ein junger Arzt.\\n...</td>\n      <td>14672</td>\n    </tr>\n    <tr>\n      <th>6</th>\n      <td>Groller_Balduin_Detektiv_Dagobert_Eine_teure_D...</td>\n      <td>&lt;title&gt;Eine teure Depesche&lt;/title&gt;\\n\\n\\nSie sa...</td>\n      <td>Eine teure Depesche</td>\n      <td>Eine teure Depesche\\n\\n\\nSie saßen wieder zu d...</td>\n      <td>9442</td>\n    </tr>\n    <tr>\n      <th>7</th>\n      <td>von_Zobeltitz_Fedor_Das_Heiratsjahr.txt</td>\n      <td>&lt;title&gt;Das Heiratsjahr&lt;/title&gt;\\n\\n&lt;chapter&gt;Ers...</td>\n      <td>Das Heiratsjahr</td>\n      <td>Das Heiratsjahr\\n\\nErstes Kapitel.\\n\\nIn welch...</td>\n      <td>101133</td>\n    </tr>\n    <tr>\n      <th>8</th>\n      <td>Thoma_Ludwig_Nachbarsleute_Bismarck.txt</td>\n      <td>&lt;title&gt;Bismarck&lt;/title&gt;\\n\\nDie Wahrheit ist, d...</td>\n      <td>Bismarck</td>\n      <td>Bismarck\\n\\nDie Wahrheit ist, daß es in Bernau...</td>\n      <td>2980</td>\n    </tr>\n    <tr>\n      <th>9</th>\n      <td>Heyse_Paul_Marienkind.txt</td>\n      <td>&lt;title&gt;Marienkind&lt;/title&gt;\\n\\nAuf der Landstraß...</td>\n      <td>Marienkind</td>\n      <td>Marienkind\\n\\nAuf der Landstraße, die in gerin...</td>\n      <td>34429</td>\n    </tr>\n  </tbody>\n</table>\n</div>"
     },
     "execution_count": 69,
     "metadata": {},
     "output_type": "execute_result"
    }
   ],
   "source": [
    "# Example DataFrame with a 'text' column\n",
    "#text = 'Dies ist ein Beispielsatz. Ein weiteres Beispiel für Text mit mehr Wörtern.'\n",
    "#words = word_tokenize(text, language='german')\n",
    "#print(words)\n",
    "\n",
    "\n",
    "# Function to count words in a text\n",
    "def count_tokens(text):\n",
    "    # Tokenize the text\n",
    "    tokens = word_tokenize(text, language='german')\n",
    "    \n",
    "    # Return the total token count including punctuation\n",
    "    return len(tokens)\n",
    "\n",
    "# Apply the count_tokens function to each row in the DataFrame\n",
    "diss_corpus_texts['token_count'] = diss_corpus_texts['clean_text'].apply(count_tokens)\n",
    "\n",
    "# Display the DataFrame with total word counts\n",
    "#diss_corpus_texts[:10]\n",
    "\n",
    "\n"
   ],
   "metadata": {
    "collapsed": false,
    "ExecuteTime": {
     "start_time": "2023-12-11T11:03:56.580184Z"
    }
   },
   "id": "27a164b9ae00f208"
  },
  {
   "cell_type": "code",
   "execution_count": 75,
   "outputs": [],
   "source": [
    "# Rename the columns\n",
    "#diss_corpus_texts.rename(columns={'word_count': 'token_count', 'word_count_new': 'word_count'}, inplace=True)\n"
   ],
   "metadata": {
    "collapsed": false,
    "ExecuteTime": {
     "end_time": "2023-12-11T11:22:30.661204Z",
     "start_time": "2023-12-11T11:22:30.655109Z"
    }
   },
   "id": "a94a00125176fb20"
  },
  {
   "cell_type": "code",
   "execution_count": 76,
   "outputs": [
    {
     "data": {
      "text/plain": "                                           file_name  \\\n0  von_Wolzogen_Ernst_Vom_Peperl_und von andern_R...   \n1  Anzengruber_Ludwig_Kalendergeschichten_Treff-A...   \n2                         Fontane_Theodor_Cecile.txt   \n3      Hollaender_Felix_Die_Briefe_des_Fraeulein.txt   \n4                     Heyse_Paul_Gegen_den_Strom.txt   \n5            Peters_August_Blind_und_doch_sehend.txt   \n6  Groller_Balduin_Detektiv_Dagobert_Eine_teure_D...   \n7            von_Zobeltitz_Fedor_Das_Heiratsjahr.txt   \n8            Thoma_Ludwig_Nachbarsleute_Bismarck.txt   \n9                          Heyse_Paul_Marienkind.txt   \n\n                                       document_text  \\\n0  <title>Der Raritätenliabhaber</title>\\n\\n » Ja...   \n1  <title>Treff-Aß</title>\\n\\n\\nGibt es ein Buch ...   \n2  <title>Cécile</title>\\n\\n\\n<chapter>Erstes Kap...   \n3  <title>Die Briefe des Fräulein Brandt</title>\\...   \n4  <title>Gegen den Strom</title>\\n\\n<chapter>Ers...   \n5  <title>Blind und doch sehend</title>\\n\\n<chapt...   \n6  <title>Eine teure Depesche</title>\\n\\n\\nSie sa...   \n7  <title>Das Heiratsjahr</title>\\n\\n<chapter>Ers...   \n8  <title>Bismarck</title>\\n\\nDie Wahrheit ist, d...   \n9  <title>Marienkind</title>\\n\\nAuf der Landstraß...   \n\n                            title  \\\n0          Der Raritätenliabhaber   \n1                        Treff-Aß   \n2                          Cécile   \n3  Die Briefe des Fräulein Brandt   \n4                 Gegen den Strom   \n5           Blind und doch sehend   \n6             Eine teure Depesche   \n7                 Das Heiratsjahr   \n8                        Bismarck   \n9                      Marienkind   \n\n                                          clean_text  token_count  word_count  \n0  Der Raritätenliabhaber\\n\\n » Ja, grüaß Eahna G...         4959        4109  \n1  Treff-Aß\\n\\n\\nGibt es ein Buch des Schicksals,...         5722        4738  \n2  Cécile\\n\\n\\nErstes Kapitel\\n\\n\\n » Thale. Zwei...        67705       57754  \n3  Die Briefe des Fräulein Brandt\\n\\nIserbaude, 7...        55281       47298  \n4  Gegen den Strom\\n\\nErstes Kapitel.\\n\\nEs war z...        75434       65474  \n5  Blind und doch sehend\\n\\nI. Ein junger Arzt.\\n...        14672       13002  \n6  Eine teure Depesche\\n\\n\\nSie saßen wieder zu d...         9442        8176  \n7  Das Heiratsjahr\\n\\nErstes Kapitel.\\n\\nIn welch...       101133       85969  \n8  Bismarck\\n\\nDie Wahrheit ist, daß es in Bernau...         2980        2617  \n9  Marienkind\\n\\nAuf der Landstraße, die in gerin...        34429       30288  ",
      "text/html": "<div>\n<style scoped>\n    .dataframe tbody tr th:only-of-type {\n        vertical-align: middle;\n    }\n\n    .dataframe tbody tr th {\n        vertical-align: top;\n    }\n\n    .dataframe thead th {\n        text-align: right;\n    }\n</style>\n<table border=\"1\" class=\"dataframe\">\n  <thead>\n    <tr style=\"text-align: right;\">\n      <th></th>\n      <th>file_name</th>\n      <th>document_text</th>\n      <th>title</th>\n      <th>clean_text</th>\n      <th>token_count</th>\n      <th>word_count</th>\n    </tr>\n  </thead>\n  <tbody>\n    <tr>\n      <th>0</th>\n      <td>von_Wolzogen_Ernst_Vom_Peperl_und von andern_R...</td>\n      <td>&lt;title&gt;Der Raritätenliabhaber&lt;/title&gt;\\n\\n » Ja...</td>\n      <td>Der Raritätenliabhaber</td>\n      <td>Der Raritätenliabhaber\\n\\n » Ja, grüaß Eahna G...</td>\n      <td>4959</td>\n      <td>4109</td>\n    </tr>\n    <tr>\n      <th>1</th>\n      <td>Anzengruber_Ludwig_Kalendergeschichten_Treff-A...</td>\n      <td>&lt;title&gt;Treff-Aß&lt;/title&gt;\\n\\n\\nGibt es ein Buch ...</td>\n      <td>Treff-Aß</td>\n      <td>Treff-Aß\\n\\n\\nGibt es ein Buch des Schicksals,...</td>\n      <td>5722</td>\n      <td>4738</td>\n    </tr>\n    <tr>\n      <th>2</th>\n      <td>Fontane_Theodor_Cecile.txt</td>\n      <td>&lt;title&gt;Cécile&lt;/title&gt;\\n\\n\\n&lt;chapter&gt;Erstes Kap...</td>\n      <td>Cécile</td>\n      <td>Cécile\\n\\n\\nErstes Kapitel\\n\\n\\n » Thale. Zwei...</td>\n      <td>67705</td>\n      <td>57754</td>\n    </tr>\n    <tr>\n      <th>3</th>\n      <td>Hollaender_Felix_Die_Briefe_des_Fraeulein.txt</td>\n      <td>&lt;title&gt;Die Briefe des Fräulein Brandt&lt;/title&gt;\\...</td>\n      <td>Die Briefe des Fräulein Brandt</td>\n      <td>Die Briefe des Fräulein Brandt\\n\\nIserbaude, 7...</td>\n      <td>55281</td>\n      <td>47298</td>\n    </tr>\n    <tr>\n      <th>4</th>\n      <td>Heyse_Paul_Gegen_den_Strom.txt</td>\n      <td>&lt;title&gt;Gegen den Strom&lt;/title&gt;\\n\\n&lt;chapter&gt;Ers...</td>\n      <td>Gegen den Strom</td>\n      <td>Gegen den Strom\\n\\nErstes Kapitel.\\n\\nEs war z...</td>\n      <td>75434</td>\n      <td>65474</td>\n    </tr>\n    <tr>\n      <th>5</th>\n      <td>Peters_August_Blind_und_doch_sehend.txt</td>\n      <td>&lt;title&gt;Blind und doch sehend&lt;/title&gt;\\n\\n&lt;chapt...</td>\n      <td>Blind und doch sehend</td>\n      <td>Blind und doch sehend\\n\\nI. Ein junger Arzt.\\n...</td>\n      <td>14672</td>\n      <td>13002</td>\n    </tr>\n    <tr>\n      <th>6</th>\n      <td>Groller_Balduin_Detektiv_Dagobert_Eine_teure_D...</td>\n      <td>&lt;title&gt;Eine teure Depesche&lt;/title&gt;\\n\\n\\nSie sa...</td>\n      <td>Eine teure Depesche</td>\n      <td>Eine teure Depesche\\n\\n\\nSie saßen wieder zu d...</td>\n      <td>9442</td>\n      <td>8176</td>\n    </tr>\n    <tr>\n      <th>7</th>\n      <td>von_Zobeltitz_Fedor_Das_Heiratsjahr.txt</td>\n      <td>&lt;title&gt;Das Heiratsjahr&lt;/title&gt;\\n\\n&lt;chapter&gt;Ers...</td>\n      <td>Das Heiratsjahr</td>\n      <td>Das Heiratsjahr\\n\\nErstes Kapitel.\\n\\nIn welch...</td>\n      <td>101133</td>\n      <td>85969</td>\n    </tr>\n    <tr>\n      <th>8</th>\n      <td>Thoma_Ludwig_Nachbarsleute_Bismarck.txt</td>\n      <td>&lt;title&gt;Bismarck&lt;/title&gt;\\n\\nDie Wahrheit ist, d...</td>\n      <td>Bismarck</td>\n      <td>Bismarck\\n\\nDie Wahrheit ist, daß es in Bernau...</td>\n      <td>2980</td>\n      <td>2617</td>\n    </tr>\n    <tr>\n      <th>9</th>\n      <td>Heyse_Paul_Marienkind.txt</td>\n      <td>&lt;title&gt;Marienkind&lt;/title&gt;\\n\\nAuf der Landstraß...</td>\n      <td>Marienkind</td>\n      <td>Marienkind\\n\\nAuf der Landstraße, die in gerin...</td>\n      <td>34429</td>\n      <td>30288</td>\n    </tr>\n  </tbody>\n</table>\n</div>"
     },
     "execution_count": 76,
     "metadata": {},
     "output_type": "execute_result"
    }
   ],
   "source": [
    "# Display the DataFrame with total word counts\n",
    "diss_corpus_texts[:10]"
   ],
   "metadata": {
    "collapsed": false,
    "ExecuteTime": {
     "end_time": "2023-12-11T11:22:39.469031Z",
     "start_time": "2023-12-11T11:22:39.466856Z"
    }
   },
   "id": "46bcfe142c278742"
  },
  {
   "cell_type": "code",
   "execution_count": 77,
   "id": "157ab720",
   "metadata": {
    "ExecuteTime": {
     "end_time": "2023-12-11T11:25:32.555531Z",
     "start_time": "2023-12-11T11:25:28.014299Z"
    }
   },
   "outputs": [],
   "source": [
    "#save the dataframe to a new csv.file\n",
    "\n",
    "diss_corpus_texts.to_csv('/Users/sguhr/Desktop/Diss_Korpus/diss_corpus_texts_df.csv', index=False)"
   ]
  },
  {
   "cell_type": "markdown",
   "source": [
    "End of the Preprocessing."
   ],
   "metadata": {
    "collapsed": false
   },
   "id": "ecd3cfc3aab235ad"
  },
  {
   "cell_type": "markdown",
   "source": [
    "Read the saved csv as a pandas dataframe."
   ],
   "metadata": {
    "collapsed": false
   },
   "id": "7cc19ecdf8cbade9"
  },
  {
   "cell_type": "code",
   "execution_count": 78,
   "outputs": [
    {
     "name": "stdout",
     "output_type": "stream",
     "text": [
      "                                              file_name  \\\n",
      "0     von_Wolzogen_Ernst_Vom_Peperl_und von andern_R...   \n",
      "1     Anzengruber_Ludwig_Kalendergeschichten_Treff-A...   \n",
      "2                            Fontane_Theodor_Cecile.txt   \n",
      "3         Hollaender_Felix_Die_Briefe_des_Fraeulein.txt   \n",
      "4                        Heyse_Paul_Gegen_den_Strom.txt   \n",
      "...                                                 ...   \n",
      "1437  Riehl_Wilhelm_Heinrich_Musiker-Geschichten_Dem...   \n",
      "1438       Riehl_Wilhelm_Heinrich_Der_Maerzminister.txt   \n",
      "1439         Willkomm_Ernst_Der_verwandelte_Schmuck.txt   \n",
      "1440                   Sudermann_Hermann_Frau_Sorge.txt   \n",
      "1441  Loens_Hermann_Tiergeschichten_Die_Einwanderer.txt   \n",
      "\n",
      "                                          document_text  \\\n",
      "0     <title>Der Raritätenliabhaber</title>\\n\\n » Ja...   \n",
      "1     <title>Treff-Aß</title>\\n\\n\\nGibt es ein Buch ...   \n",
      "2     <title>Cécile</title>\\n\\n\\n<chapter>Erstes Kap...   \n",
      "3     <title>Die Briefe des Fräulein Brandt</title>\\...   \n",
      "4     <title>Gegen den Strom</title>\\n\\n<chapter>Ers...   \n",
      "...                                                 ...   \n",
      "1437  <title>Demophoon von Vogel</title>\\n\\n<chapter...   \n",
      "1438  <title>Der Märzminister</title>\\n\\n<chapter>Er...   \n",
      "1439  <title>Der verwandelte Schmuck</title>\\n\\n<cha...   \n",
      "1440  <title>Frau Sorge</title>\\n\\nFrau Sorge, die g...   \n",
      "1441  <title>Die Einwanderer</title>\\n\\n»Eine dumme ...   \n",
      "\n",
      "                               title  \\\n",
      "0             Der Raritätenliabhaber   \n",
      "1                           Treff-Aß   \n",
      "2                             Cécile   \n",
      "3     Die Briefe des Fräulein Brandt   \n",
      "4                    Gegen den Strom   \n",
      "...                              ...   \n",
      "1437             Demophoon von Vogel   \n",
      "1438                Der Märzminister   \n",
      "1439         Der verwandelte Schmuck   \n",
      "1440                      Frau Sorge   \n",
      "1441                 Die Einwanderer   \n",
      "\n",
      "                                             clean_text  token_count  \\\n",
      "0     Der Raritätenliabhaber\\n\\n » Ja, grüaß Eahna G...         4959   \n",
      "1     Treff-Aß\\n\\n\\nGibt es ein Buch des Schicksals,...         5722   \n",
      "2     Cécile\\n\\n\\nErstes Kapitel\\n\\n\\n » Thale. Zwei...        67705   \n",
      "3     Die Briefe des Fräulein Brandt\\n\\nIserbaude, 7...        55281   \n",
      "4     Gegen den Strom\\n\\nErstes Kapitel.\\n\\nEs war z...        75434   \n",
      "...                                                 ...          ...   \n",
      "1437  Demophoon von Vogel\\n\\nErstes Kapitel  \\n\\nWer...        17921   \n",
      "1438  Der Märzminister\\n\\nErstes Kapitel\\n\\nEs ging ...        11365   \n",
      "1439  Der verwandelte Schmuck\\n\\n1. Ein Hochzeitsges...        20904   \n",
      "1440  Frau Sorge\\n\\nFrau Sorge, die graue, verschlei...        82257   \n",
      "1441  Die Einwanderer\\n\\n»Eine dumme Geschichte das«...         3207   \n",
      "\n",
      "      word_count  \n",
      "0           4109  \n",
      "1           4738  \n",
      "2          57754  \n",
      "3          47298  \n",
      "4          65474  \n",
      "...          ...  \n",
      "1437       15826  \n",
      "1438        9959  \n",
      "1439       18257  \n",
      "1440       71406  \n",
      "1441        2778  \n",
      "\n",
      "[1442 rows x 6 columns]\n"
     ]
    }
   ],
   "source": [
    "csv_file_path = '/Users/sguhr/Desktop/Diss_Korpus/diss_corpus_texts_df.csv'\n",
    "\n",
    "# Read the CSV file into a Pandas DataFrame\n",
    "diss_corpus_texts = pd.read_csv(csv_file_path)\n",
    "\n",
    "# Display the DataFrame\n",
    "print(diss_corpus_texts)\n"
   ],
   "metadata": {
    "collapsed": false,
    "ExecuteTime": {
     "end_time": "2023-12-11T11:26:45.099279Z",
     "start_time": "2023-12-11T11:26:40.686223Z"
    }
   },
   "id": "2938f221ecd15c72"
  },
  {
   "cell_type": "markdown",
   "source": [
    "End of the Notebook."
   ],
   "metadata": {
    "collapsed": false
   },
   "id": "e60595d397aa6438"
  }
 ],
 "metadata": {
  "kernelspec": {
   "display_name": "Python 3 (ipykernel)",
   "language": "python",
   "name": "python3"
  },
  "language_info": {
   "codemirror_mode": {
    "name": "ipython",
    "version": 3
   },
   "file_extension": ".py",
   "mimetype": "text/x-python",
   "name": "python",
   "nbconvert_exporter": "python",
   "pygments_lexer": "ipython3",
   "version": "3.11.5"
  }
 },
 "nbformat": 4,
 "nbformat_minor": 5
}
