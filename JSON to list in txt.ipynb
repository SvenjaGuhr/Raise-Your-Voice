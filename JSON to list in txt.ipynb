{
 "cells": [
  {
   "cell_type": "markdown",
   "id": "d84fe736",
   "metadata": {},
   "source": [
    "## JSON with event segments to list saved in txt file"
   ]
  },
  {
   "cell_type": "markdown",
   "id": "e84775ea",
   "metadata": {},
   "source": [
    "the beginning of the JSON file is the full text starting with \"text\": followed by \"annotations\": that introduces a list that represents the text spans in the aforementioned full text with each span indication with \"start\": and \"end\": each providing the character position of the start and the end of a span corresponding with the full text. Could you please write a python script which helps me to use the indicated start and end positions to extract each span segment of the full text saving the output in a list as a txt file? "
   ]
  },
  {
   "cell_type": "markdown",
   "id": "ff2cc558",
   "metadata": {},
   "source": [
    "Python script that reads a JSON file with the format you described, extracts each span segment of the full text, and saves the output in a list as a text file:"
   ]
  },
  {
   "cell_type": "markdown",
   "id": "8e91cde5",
   "metadata": {},
   "source": [
    "This script first reads the JSON file, extracts the full text and the list of annotations, then iterates over each annotation to extract the corresponding span segment of the full text. Finally, it saves the extracted span segments into a text file."
   ]
  },
  {
   "cell_type": "markdown",
   "id": "82f1cb91",
   "metadata": {},
   "source": [
    "Let's modify the script to handle the case where the JSON file contains a list of items instead of a single dictionary. If each item in the list represents a separate document with its text and annotations, we'll need to loop over each item in the list. Here's the modified script:"
   ]
  },
  {
   "cell_type": "code",
   "execution_count": 1,
   "id": "7b14eb3b",
   "metadata": {},
   "outputs": [],
   "source": [
    "import json"
   ]
  },
  {
   "cell_type": "code",
   "execution_count": 5,
   "id": "20db5691",
   "metadata": {},
   "outputs": [],
   "source": [
    "\n",
    "def extract_spans(json_file):\n",
    "    with open(json_file, 'r') as f:\n",
    "        data = json.load(f)\n",
    "    \n",
    "    span_texts_list = []\n",
    "    for item in data:\n",
    "        full_text = item['text']\n",
    "        spans = item['annotations']\n",
    "        \n",
    "        span_texts = []\n",
    "        for span in spans:\n",
    "            start = span['start']\n",
    "            end = span['end']\n",
    "            span_text = full_text[start:end]\n",
    "            span_texts.append(span_text)\n",
    "        \n",
    "        span_texts_list.append(span_texts)\n",
    "    \n",
    "    return span_texts_list\n"
   ]
  },
  {
   "cell_type": "code",
   "execution_count": 6,
   "id": "ffbe6e85",
   "metadata": {},
   "outputs": [],
   "source": [
    "\n",
    "def save_to_txt(span_texts_list, output_file):\n",
    "    with open(output_file, 'w') as f:\n",
    "        for span_texts in span_texts_list:\n",
    "            for text in span_texts:\n",
    "                f.write(text + '\\n')\n",
    "            f.write('\\n')  # Add a newline between documents\n",
    "\n"
   ]
  },
  {
   "cell_type": "code",
   "execution_count": 8,
   "id": "4ad18982",
   "metadata": {},
   "outputs": [
    {
     "name": "stdout",
     "output_type": "stream",
     "text": [
      "Span segments extracted and saved successfully.\n"
     ]
    }
   ],
   "source": [
    "if __name__ == \"__main__\":\n",
    "    json_file = \"/Users/guhr/Desktop/Diss_jupyter/Storm_Theodor_Der_Schimmelreiter.json\"  # Replace with your JSON file path\n",
    "    output_file = \"Storm_Theodor_Der_Schimmelreiter_span_texts.txt\"  # Replace with desired output file path\n",
    "    \n",
    "    span_texts_list = extract_spans(json_file)\n",
    "    save_to_txt(span_texts_list, output_file)\n",
    "    print(\"Span segments extracted and saved successfully.\")\n"
   ]
  },
  {
   "cell_type": "markdown",
   "id": "6fdb2fb9",
   "metadata": {},
   "source": [
    "Wowowowowow! It works! "
   ]
  }
 ],
 "metadata": {
  "kernelspec": {
   "display_name": "Python 3 (ipykernel)",
   "language": "python",
   "name": "python3"
  },
  "language_info": {
   "codemirror_mode": {
    "name": "ipython",
    "version": 3
   },
   "file_extension": ".py",
   "mimetype": "text/x-python",
   "name": "python",
   "nbconvert_exporter": "python",
   "pygments_lexer": "ipython3",
   "version": "3.9.7"
  }
 },
 "nbformat": 4,
 "nbformat_minor": 5
}
