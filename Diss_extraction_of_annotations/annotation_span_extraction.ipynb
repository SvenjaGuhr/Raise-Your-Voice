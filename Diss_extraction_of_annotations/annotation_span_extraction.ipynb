{
 "cells": [
  {
   "cell_type": "markdown",
   "source": [
    "## Notebook to extract the annotated sound event spans from the xml files."
   ],
   "metadata": {
    "collapsed": false
   },
   "id": "77350b61c0275f35"
  },
  {
   "cell_type": "markdown",
   "source": [
    "The following code can only be executed if there are no errors in the structure of the xml tei files.\n",
    "In case of an error, you can control the xml on the following website: https://jsonformatter.org/xml-validator (JSON Formatter 2020)"
   ],
   "metadata": {
    "collapsed": false
   },
   "id": "47c3581b3ae058f"
  },
  {
   "cell_type": "code",
   "outputs": [],
   "source": [
    "import xml.etree.ElementTree as ET"
   ],
   "metadata": {
    "collapsed": false,
    "ExecuteTime": {
     "end_time": "2024-04-02T06:19:54.813799Z",
     "start_time": "2024-04-02T06:19:54.805492Z"
    }
   },
   "id": "9908957a703875cb",
   "execution_count": 23
  },
  {
   "cell_type": "code",
   "outputs": [],
   "source": [
    "folder_path = '/Users/sguhr/Desktop/Diss_notebooks/Diss_data_notebooks_man_anno/Manually_annotated_data/20240329_Testing'"
   ],
   "metadata": {
    "collapsed": false,
    "ExecuteTime": {
     "end_time": "2024-04-02T07:39:18.129342Z",
     "start_time": "2024-04-02T07:39:18.126223Z"
    }
   },
   "id": "2e4e3b3b6a90212d",
   "execution_count": 8
  },
  {
   "cell_type": "code",
   "outputs": [
    {
     "name": "stdout",
     "output_type": "stream",
     "text": [
      "File: Viebig_Clara_Der_Osterquell.xml\n",
      "Ambient Sound Spans: ['der Wind zaust in ihren Kronen', 'Der Wind weht stark', 'die Schritte raschelten im braunen Laub', 'der Klingelzug mit dem Kreuzchen als Griff gab einen undeutlich heiseren Klang', 'Wie still ist es hier', 'Zweige klopfen an die bleigefaßten Scheiben', 'das heilige Brünnlein rinnt murmelnd', 'wo Baumwipfel Schlummerlieder rauschen', 'Die Kapellenthür hatte sich lautlos geöffnet', 'in die verdunkelte Kirche tritt der Mathes mit knarrenden Stiefeln', 'Leise rauschte ein Regen nieder', 'trommelte auf das Kirchendach', 'tröpfelte von den Zweigen', 'und raschelte in den Guirlanden von weißen Papierrosen', 'Leise begann im Turm das Glöcklein zu bimmeln', 'gedämpft drang sein Schall zu dem Gebeugten nieder', 'Ein Vogel hebt sich trillernd vom Grasrain', 'mit langem, jauchzendem Geschmetter schießt sie auf in den Äther', 'Die Glocke im Turm bimmelt immer noch', 'von weitem hallt Gesang', 'hell tönt ihr geistlicher Gesang', 'sie murmeln den frommen Ostergruß']\n",
      "Character Sound Spans: ['mühselig keuchte das Weib nach', 'und holte zitternden Atem', 'das, an ihrem Rock hängend, hinter ihr drein schlorrte', 'fragte die Mutter', 'sprach das Weib', 'sie wiederholte wieder und wieder', 'ihre Stimme erstickte', 'ihr Mann rief', 'Er stand wartend still', 'klopfte ungeduldig mit dem Stock auf den Boden', 'unter m Keuchen des Atems', 'murmelte sie', 'sprach der Vater', 'und tippte den Jungen mit der schwieligen Bauernhand kräftig auf die Schulter', 'und kratzte sich seufzend den Kopf', 'sagte der Mann', 'Mathias Steffes klopfte am Eingang', 'rief der Bauer', 'und scharrte einen Kratzfuß', 'sprach er eintönig', 'das Gelübde der Gottseligkeit und Keuschheit abgelegt hatte', 'und geschluchzt hatte', 'murmelt der Josef im schwarzen Priesterrock', 'Die murmelnden Lippen schweigen wieder', 'man hört jetzt nichts, als bange, zitternde Atemzüge', 'Sie weint', 'er kann nicht sprechen', 'dies bleiche, wimmernde Weib mit der entstellten Gestalt ist die ganze beladene Menschheit', 'sagt er', 'Pater Josef nickt stumm', 'spricht er', 'Mit demütigem Gruß weicht sie zur Seite', 'stammelt sie scheu', 'Er nickt', 'spricht er sanft', 'Er schlägt sich auf die Brust', 'Und Bruder Josef antwortet laut und fest']\n",
      "\n",
      "File: von_Liliencron_Detlev_Roggen_und_Weizen_Ick_hev_di_lev.xml\n",
      "Ambient Sound Spans: ['Alles schrie durcheinander', 'nimmt ruhig darin Platz', 'Während mein Hund gierig in einem Wassereimer schlappte', 'In der Kneipe war es bei meinem Eintreten stiller geworden', 'Die Leute tuschelten', 'wenn sie nach Getränk gerufen wurde', 'Drinnen wurde sie mehrfach verlangt', 'Ein allgemeines:  » Addis, Herr Leitnant, «  war die Antwort', 'In der Umgegend, im Dorfe, wurde mir erzählt', 'ein sanfter, leiser, ruhiger Frühlingsregen', 'Es regnet noch immer leise fort', 'Ich erhorchte aus den Gesprächen meiner Umgebung', 'und erfuhr']\n",
      "Character Sound Spans: ['und erzählte', 'Erst als ich ein Glas Bier bestellte', 'Das Weib hinter dem Schenktisch ging stumm', 'Ich bestellte mir ein Jägeressen', 'ihrem Wunsche', 'Das stille Wesen', 'das ich gebeten hatte', 'erzählte mir nun auf mein Befragen', 'knappe Antworten gab in leisem Tone ohne Erhebung der Silben', 'und über dem allen lag eine Ruhe, in ihrem Wesen eine geheimnisvolle Stille', 'Sie fragte mich', 'Ich lachte', 'sagte ich den dort Sitzenden Lebewohl', 'Ich bat die junge Frau', 'aber gleichmäßig ruhig', 'Sie nannte mir die Namen der Dörfer und Wälder', 'Die Richtung gab sie mit dem Kopfe an', 'Er saß fast immer allein, still vor sich hinsehend', 'wenn er lachte, so schienen in dem dunklen Gesicht prächtige Zähne', 'Sie sah mich still an', 'Kleine Geschenke von mir nahm sie, fast verdrossen, ohne Dank', 'Ich bat um ein kühles Getränk', 'Wir sprachen kein Wort', 'ich bat sie', 'Wir schauten in die Landschaft, schweigend', 'Und dann, in überhastender Weise, flüsterte ich ihr tausend Liebesworte', 'Sie erwiderte nichts', 'wie sie, von mir gehalten, träumend, schauernd, durch die Scheiben, ohne zu sprechen, ins Land sah, ein kindliches, stilles, oft wie ein ungläubiges Lächeln auf den Lippen', 'sagte sie im pommerschen Platt', 'Ich sprach mit ihm von der heutigen Jagd', 'und fragte mich in bescheidener Weise in betreff seiner Militärverhältnisse', 'Ich gab ihm Auskunft', 'und fragte dann meinerseits verwundert', 'Ich sagte ihm Lebewohl', 'und wünschte ihm eine glückliche Reise', 'sagte ich harmlos zu ihr', 'blieb diesmal stumm', 'Als ich sie fragte', 'fragte ich etwas ungeschickt', 'und sah mich an, ohne zu antworten', 'Still stand sie auf', 'und sagte leise', 'sagte er höflich', 'Ruckweise stöhnte er', 'wiederholte er mit heiserer, ächzender Stimme', 'und das  » ch «  stieß ich in Gutturaltönen aus', 'Erst im nächsten Sommer erkundigte ich mich unter der Hand nach der Witwe', 'Eine helle Knabenstimme sang dabei', 'rief ich', 'stand mein Herz still']\n",
      "\n",
      "File: Raabe_Wilhelm_Ein_Besuch.xml\n",
      "Ambient Sound Spans: ['Sie feierten ein Fest heute drunten im Hause', 'Es war so viel Wagenrollen in der Gasse und vor dem Hause', 'die Leute waren so laut', 'es drang so viel lustiger Lärm zu mir herauf', 'da es nun wieder stiller geworden ist', 'ein Schritt auf der Treppe', 'Ist es die Stimme des Besuchs', 'dessen Schritt man auf der Treppe gehört hatte']\n",
      "Character Sound Spans: ['die nicht plaudert', 'Bei geschlossenen Augen sagt sie', 'und Richard mir über meine Schulter zuflüsterte', 'nickte der Besuch', 'murmelt die Frau Johanne', 'sagt der Besuch', 'Und Richard hatte mir jetzt gesagt', 'denn der Besuch hatte ihr ja vorher leise, beruhigend die Hand auf die furchenvolle Stirn gelegt', 'und unter gleichem Geräte führte ja die beste Freundin ihrer Jugend ihr liebes, stilles Leben', 'Ich brauchte den Leuten vor mir nur zu sagen', 'sagt Franz', 'Nun sagt er', 'Er erzählt furchtbare Dinge von seiner Hartnäckigkeit und neugewonnenen Erfahrung in dergleichen Kriegskunststücken', 'und er behauptet', 'wie Franz meint']\n",
      "\n",
      "File: Seidel_Heinrich_Daniel_Siebenstern.xml\n",
      "Ambient Sound Spans: ['Das Geräusch der lebendigen Straße drang dumpf zu mir her', 'in der hohen Luft jagten sich die Turmschwalben schrillend und schreiend', 'zirpte kleines emsiges Getier seinen Abendgesang', 'Nach einer Weile setzte sich ein rostiger alter Drahtzug kreischend in Bewegung', 'fing es an leise zu tröpfeln', 'tönten aus dem Hause die eindringlichen Klänge des Harmoniums zu mir her', 'und lauschte der Weise des alten Chorals', 'Ich stand eine ganze Weile in dem stillen friedlichen Raume', 'Es war dort nichts als das große ewige Schweigen', 'Von draußen kamen einzelne ferne Töne von spielenden Kindern', 'sang unermüdlich eine kleine Grasmücke']\n",
      "Character Sound Spans: ['In diesem Augenblicke hörte ich eine dünne, fadenscheinige Stimme hinter mir sagen', 'Ich hatte auf die leisen Schritte, die sich mir näherten', 'antwortete ich', 'sagte der Alte fast unwillig', 'Dies sprach ich aber nicht aus', 'sagte er', 'sagte er', 'Dann las er mit einer gewissen Andacht die Inschrift', 'Hinter jedem Absatze des letzten Teiles machte er eine kleine Pause', 'sagte er dann', 'und wir gerieten in ein begeistertes Gespräch', 'Unter solchen Gesprächen wanderten wir in den Steigen des Kirchhofs', 'In unserer Unterredung war eine Pause eingetreten', 'ohne ein Wort zu sagen', 'Ich schwieg eine ganze Weile', 'sagte ich endlich', 'antwortete der Alte hastig', 'sagte er dann', 'fragte ich verwundert', 'antwortete er', 'Lebhaft fuhr er dann fort', 'sagte er', 'meinte er', 'Dann beschrieb er mir den Weg zu seinem am Kreuzberg gelegenen Häuschen', 'und verabschiedete sich', 'Ich zog kurz entschlossen die Glocke', 'und streckte mir die Hand entgegen', 'sagte er', 'Ich meinte', 'erwiderte er', 'und er lud mich ein', 'und klapperte und kramte darin eine Weile', 'und lud mich freundlich dazu ein', 'sagte er', 'Ich machte eine derartige Bemerkung', 'meinte er', 'winkte mir', 'und bat mich einzutreten', 'Während dieses Geschäftes sprach er in Absätzen wie für sich', 'Er schwieg einen Augenblick', 'sagte er dann', 'sprach er wieder wie mit sich selbst', 'und dann lauter', 'Ich vermochte nichts zu antworten', 'sondern verrichtete seine Arbeit schweigend', 'nach einer kleinen Weile verabschiedete ich mich', 'In der Nacht des Todes war nach einem starken Anfalle eine Ruhepause eingetreten']\n",
      "\n",
      "File: Thoma_Ludwig_Der_vornehme_Knabe.xml\n",
      "Ambient Sound Spans: ['und seine Stiefel haben laut geknarrzt', 'warum es nicht knallt', 'Auf einmal hat es einen furchtbaren Krach getan', 'und hat gezischt', 'und ich habe so geknallt']\n",
      "Character Sound Spans: ['und der Stationsdiener hat gesagt', 'Und meine Mutter hat gesagt', 'hat sie huh! geschrien', 'wie er gesagt hat', 'Meine Mutter hat gegrüßt und Ännchen auch', 'und meine Mutter hat es ihm gesagt', 'Da hat er gefragt', 'Meine Mutter sagte zu mir', 'Da hat er zu mir gesagt', 'und ich habe gesagt', 'Und meine Mutter sagte', 'Er hat mich auf den Kopf getätschelt', 'und hat gesagt', 'Dann hat er meine Mutter gefragt', 'und hat gesagt', 'und er hat gesagt', 'und hat gefragt', 'Und der Instruktor hat gesagt', 'weil wir so gelacht haben', 'Beim Essen hat meine Mutter gesagt', 'Ich sagte', 'und meine Mutter sagte', 'sagte der Herr', 'Und dann fragte er mich', 'Ich sagte', 'Der Arthur hat nichts geredet', 'und der Instruktor ist auch ganz still dagesessen', 'Da hat ihn der Herr gefragt', 'und er sagte', 'Da sagte der Herr', 'und gesagt', 'hat der Herr gesagt', 'Aber das dicke Mädchen sagte', 'und er hat gesagt', 'und Arthur hat gesagt', 'und ich habe gesagt', 'Sein Papa hat gerufen', 'Da habe ich ihm gesagt', 'Die Frau sagte', 'Ich sagte', 'und sein Papa hat gelacht', 'und hat gesagt', 'Der Arthur fragte mich', 'Ich sagte', 'und sagte', 'Ich fragte', 'Er sagte nein', 'redet sie darein', 'Ich sagte', 'Er fragte', 'und ich sagte', 'Arthur sagte', 'Ich sagte aber', 'und da hat er mir versprochen', 'Er meinte', 'Ich sagte', 'und er sagte', 'Er fragte', 'und ich sagte', 'Da hat er gesagt', 'Ich fragte', 'Da sagte er', 'und der Arthur hat immer geschrien', 'Er hat furchtbar geschrien', 'und ich habe ihn gefragt', 'Er sagte', 'Dann hat er wieder geschrien', 'Ich sagte', 'Er sagte', 'Ich habe ihn aber ausgelacht', 'Und ich habe gesagt', 'und hat gesagt', 'Arthur fragte', 'und ich sagte', 'Und er hat wieder geschrien', 'und hinter dem Baum immer kommandiert', 'Er fragte', 'Ich sagte', 'und hat geschrien', 'aber Arthur hat schon gräßlich geheult', 'und er hat gefragt', 'Er hat geweint', 'Aber ich habe gesagt', 'Der Arthur sagte', 'Wie wir das geredet haben', 'Er hat geschrien', 'und der Rafenauer hat ihm die Ohrfeigen gegeben', 'Und er hat immer geschrien', 'Er hat ihm jedesmal eine Watschen gegeben, daß es geknallt hat', 'und hat gesagt', 'Der Arthur hat furchtbar geweint', 'und hat immer geschrien', 'weil er so schnauft', 'und sagt', 'weil er so geweint hat', 'und habe gesagt', 'und hat immer geschrien', 'und ich habe gesagt', 'Da hat er gesagt', 'und hat geweint', 'Und er hat gesagt', 'und ich bin beim Scheck ganz still vorbei', 'sie haben von mir geredet', 'Der Herr hat immer den Kopf geschüttelt', 'und hat gesagt', 'Und das dicke Mädchen hat gesagt', 'und ruft']\n",
      "\n",
      "File: von_Baudissin_Adelbert_Der_alte_Torfbauer.xml\n",
      "Ambient Sound Spans: ['das Mantellied absang', 'bald eine Schaar halberfrorener böhmischer Musikanten, die vor Kälte schaudernd den warmen Odem in die alten Trompeten hauchten', 'und er nicht wieherte', 'daß er nicht wiehert', 'und bläst', 'und stöhnt', 'Der alte Mann näherte sich dem stöhnenden Thiere', 'Der alte Braune wieherte', 'als er die Stimme seines Lieblings hörte', 'Mit dem ersten Grauen des Morgens weckten uns die lang gezogenen Töne der dänischen Signalhörner', 'Sie warfen sich mit lautem Hurrah auf die Ziegelei', 'und gaben auf die zwei Compagnien Jäger Bataillonsfeuer', 'denn mit zwei furchtbar decimirten Compagnien stürmten sie zweimal die von drei dänischen Bataillonen vertheidigte Ziegelei', 'die vierte Compagnie ging mit Trommelschlag auf die Ziegelei und das Buchholz vor', 'Mit lautem Hurrah sprangen die Tirailleure über Knicke und Zäune', 'Mit Kolben und Bajonnet schlugen die Deutschen auf die dichten Massen der Dänen ein', 'hinter der dänischen Front spielte ihre Brigademusik den  » tappern Landsoldat «', 'aber zum Takte des tappern Landsoldaten zerschmetterten deutsche Hiebe manch dänisches Hirn', 'und wenn auch mancher brave Camerad flehend die Hände erhob und um einen Trunk, eine Aenderung seiner Lage bat', 'riefen die Leute sich frohlockend zu', 'inmitten des furchtbarsten Gewehrfeuers', 'mit seinem Häuflein gegen den Feind stürmte', 'und sie schlugen mit dem Kolben drein', 'Bauerwagen fuhren, von Dragonern mit dem Säbel vorwärts getrieben, in sausender Carriere über das Schlachtfeld', 'Der Zug mit den ächzenden Cameraden kam dicht bei mir vorbei']\n",
      "Character Sound Spans: ['wurde aber von dem armen Menschen so rührend erzählt', 'sagte der Bauer', 'fragte ich', 'sagte ich', 'erwiderte der Bauer', 'klopfte es auf den Hals', 'Der inzwischen herbeigerufene Curschmied erklärte den Zustand des Braunen für ganz ungefährlich', 'und verordnete einige einfache Mittel', 'rief er', 'erwiderte ich', 'fragte der Bauer mit dem seligsten Lächeln', 'als er den Tritt seines Herrn und Freundes erkannte', 'Ich hatte meinen Cameraden von dem braven, alten Bauer erzählt', 'und war vom Commandeur des dritten Jägercorps, dem Major von Eickstädt, beauftragt worden', 'ich stieß ganz heimlich mit ihm an', 'und wisperte ihm zu', 'und sagte', 'rief der heldenmüthige Jüngling', 'Seine laute, sonore Stimme flößte den erschöpften Streitern neuen Muth ein', 'seinen Leuten zuredete', 'und im Fallen seinen Leuten zurief', 'Da plötzlich redete mich eine bekannte Stimme an', 'rief er', 'Ich drückte dem ehrlichen Manne die Hand', 'und klopfte den alten Braunen auf den Rücken']\n",
      "\n",
      "File: von_Ebner-Eschenbach_Marie_Krambambuli.xml\n",
      "Ambient Sound Spans: ['daß weit und breit kund werde', 'wild wie ein Teufel in der Hölle und wie ein solcher umringt von jammernden und gepeinigten Sündern', 'als höre er etwas im Laube rascheln', 'Gleich darauf herrscht jedoch tiefe Stille, tiefe, anhaltende Stille', 'Die Flinte knackst', 'Zwei Schüsse fallen', 'und bellte den Räuber an']\n",
      "Character Sound Spans: ['und über den Wirt schimpfte', 'und begann sogleich ein Gespräch mit ihm', 'Herr Hopp sagte vorerst kein Wort von dem Wohlgefallen', 'bei dem der Handel geschlossen worden', 'Die Hände zitterten ihm so sehr', 'und bewunderte im stillen den trotz der schlechten Kondition', 'und fragte', 'lautete die Antwort', 'er konnte lange rufen', 'pfeifen', 'heulte', 'als dieser ihm zuschrie', 'sein Herr zum mindesten pflog lange Unterredungen mit ihm', 'wie sie ihn geringschätzig nannte', 'Manchmal machte sie ihrem Manne Vorwürfe', 'Sie hatte den ganzen Tag, in jeder Stunde, in der sie nicht aufräumte, wusch oder kochte, schweigend gestrickt', 'statt mit dem Krambambuli sprach er von dem Krambambuli', 'von den lächerlich hohen Summen, die ihm für den Hund geboten wurden', 'und die er verächtlich von der Hand wies', 'und als die gute, schöne Dame begann', 'setzte er ruhig und schmunzelnd fort', 'und sprach gleich von Dankbarkeit', 'und bat', 'Der alte Fuchs von einem Revierjäger kicherte', 'und rückte auf einmal mit der Erklärung heraus', \"da gab's ein Wiedersehen, unermeßlichen Jubels voll\", 'Krambambuli erhob ein wahnsinniges Geheul', 'begann augenblicklich mit dem Schwanze auf den Boden zu klopfen', 'Und wenn Hopp, sich vergessend, recht wie einen Triumphgesang das Liedchen anstimmte', 'Den  » Gelben «  nannten ihn die Holzknechte', 'kamen gutgemeinte Warnungen in Menge zu', 'Die Raubschützen, hieß es', 'Er, ein rascher, kühner Mann, schlug das Gerede in den Wind', 'wie er seinen Untergebenen die rücksichtsloseste Strenge anbefohlen', 'Am häufigsten rief der Oberförster dem Revierjäger Hopp die scharfe Handhabung seiner Amtspflicht ins Gedächtnis', 'und warf ihm zuweilen Mangel an  » Schneid «  vor', 'wozu freilich der Alte nur lächelte', 'gähnte laut und wegwerfend', 'Der Oberförster raste in unermeßlicher Wut', 'Während sie wimmernd und schreiend um seine Füße krochen', 'und Hopp den Auftrag bekam', 'Der Befehl, den ihm damals der Oberförster zurief', 'und erst nach einer Weile brachte er es zu einer Beobachtung, einer stummen Frage', 'Einmal winselt er', 'einmal stößt er einen schrillen Freudenschrei aus', 'bellt', 'ruft Hopp', 'sagt ihm', 'spricht er', 'Dabei summte er', 'Wie rasend pochte ihm das Herz', 'und der ohnehin kurze Atem wollte ihm völlig versagen', 'und schreit', 'ruft Hopp seinem Hunde heiser zu', 'lockt es drüben mit zärtlicher, liebevoller – ach, mit altbekannter Stimme', 'Da pfeift Hopp', '» der Gelbe «  pfeift', 'Bellend', 'heulend', 'zischt er noch', 'keucht kurz und laut', 'halten sie ein Gespräch', 'Herr Hopp murmelt ein halbes Dutzend Flüche zwischen den Zähnen, einer gotteslästerlicher als der andere', 'und sein mark- und beinerschütterndes Wehgeheul durchdrang den Wald', 'Einer von ihnen sagte zu dem Jäger', 'antwortete Hopp', 'und rief ihm zu', 'wie der Mann meinte', 'Der Jäger schlug den Laden zu', 'befahl seiner Alten', 'In freundliche Gedanken versunken, intonierte er dann sein berühmtes', 'Aber mitten in dem Worte hielt er bestürzt inne', 'schüttelte das Haupt', 'und sprach mit einem tiefen Seufzer']\n",
      "\n",
      "File: Polko_Elise_Eine_Leonore.xml\n",
      "Ambient Sound Spans: ['und erzählte ihm Wunderdinge von dem Debut der jungen Sängerin', 'man prophezeihte ihr einstimmig eine große Zukunft', 'und dies Alles eben theilte man dem Meister mit', 'daß Einer nach dem Anderen still hinausschlich', 'Der Donner rollte näher', 'ängstlich flatterten die Vögel', 'Einzelne Windstöße erhoben sich', 'immer lauter tönte die Stimme des Donners', 'denn er lächelte im Rollen des Donners', 'Für ihn war das Gewitterbrausen nur der mächtig anschwellende Posaunenton einer gewaltigen Natursymphonie', 'Der Sturm hatte aufgehört', 'aber ein erfrischender Regen tropfte nieder', 'Bei dem Terzett', 'und der ausbrechende Jubel der hingerissenen Menge umbrauste ihn wie ein fernes Meer', 'als der Accord einsetzte', 'dieser eine gewaltige beseelte Ton durchbrach alle Schranken', 'seine Leonorenschöpfung sang und klang laut', 'Hundert Sängerinnen haben nach ihr uns auch die Leonore gesungen', 'großartige Stimmen sangen uns die Arie']\n",
      "Character Sound Spans: ['sagte er zu seinen Freunden', 'Da fuhr Beethoven auf', 'fragte er heftig', 'und erkläre Euch ein für allemal', 'seine Stimme klang so grollend', 'Ihre feinen Lippen bebten immer', 'und doch schwieg sie', 'und als der ernste Mann jetzt die Arme emporhob in seltsamer stummer Begeisterung', 'Aber der vermeintliche Engel zitterte', 'streckte ihm die Hände entgegen', 'murmelte hastig einige unverständliche Worte', 'sagte er endlich', 'antwortete fest und weich zugleich eine süße Stimme', 'erst heute wagte ich zu reden', 'Der Meister antwortete nicht', 'athmete tief und erquickt auf', 'und sagte mild', 'ihr Körper zitterte', 'ihr Herz klopfte ungestüm', 'In kindlich überströmender Begeisterung küßte sie zum Abschiede die Hand des Meisters', 'er sagte sich leise', 'Er hatte dem blonden Mädchen kurz den Inhalt der Oper erklärt', 'und intonirte, leise summend, mit der einen Hand streng den Tact marquirend, mit der andern die Accorde der Begleitung greifend, die Leonorenstimme des Quartetts', 'da flog ein Beben tiefster Erschütterung durch den zarten Körper', 'Mit jeder Nummer wuchs die Erregung der halb athemlosen Zuhörerin', 'immer begeisterter spielte und intonirte der Meister', 'sie hörte nicht wie gebrochen und hart die Stimme klang', 'sagte er', 'Und nun intonirte er mit erschütternder Begeisterung jenen berühmten Schrei', 'sie faltete bebend die Hände', '„Tödt’ erst sein Weib!“ dieser eine Ruf tönte ihr in den Ohren', 'und die Partitur zuschlug', 'sagte sie feierlich', 'und schloß ihr Nachtgebet mit den Worten', 'die süßen und doch kraftvollen Töne, wie sie die Brust der jungen Sängerin ausströmen ließ', 'jener mächtige Aufschrei: „Tödt’ erst sein Weib!“', 'sein Athem stockte', 'die Riesengestalt zitterte', 'und schmetterte das in höchster Leidenschaft vibrirende b in die Seelen der erschütterten Hörer']\n",
      "\n",
      "File: Mueller-Guttenbrunn_Adam_Die_schoene_Lotti_Nach_dem_Konzert.xml\n",
      "Ambient Sound Spans: ['und das Gespräch drehte sich während des Abendessens fast ausschließlich um die talentvolle Virtuosin', 'Jeder wußte etwas Merkwürdiges und Extravagantes von ihr zu berichten', 'Es ward lebhaft hin und her gestritten', 'und lachten von Herzen darüber', 'und ich, ein grünes, fünfzehnjähriges Ding, wurde gebeten', 'und wie ergötzte ich mich an ihrem stürmischen Lachen über »Hans im Glück«', 'Die lebhaft angeregten Kinder erzählten das Gehörte in ihrer Weise, variiert und ausgeschmückt mit eigenen Zutaten, natürlich auch zu Hause', 'Ich wurde gerufen', 'Welch geheimnisvolles Wispern herrschte unter den Kleinen', 'sie schrieen alle', 'überschütteten sie das arme Mädchen mit Beleidigungen', 'und eine geraume Weile sprach niemand ein Wort', 'Da gab einer von uns der Frage Ausdruck', 'Sie haben ihr heute Beifall geklatscht', 'Sie haben sie vorhin gerühmt', 'und gelästert', 'Eine lebhafte Erörterung über diese unerwartete Enthüllung setzte ein']\n",
      "Character Sound Spans: ['das zu besuchen die Dame des Hauses uns dringend geraten hatte', 'da hob unsere liebenswürdige Wirtin mit feinem Takt die Tafel auf', 'und der sonst so feste, tiefe Ton ihrer Stimme vibrierte vor innerer Erregung', 'begann sie', 'und der Ton ihrer Rede wurde plötzlich sicherer', 'und sie fuhr fort', 'Und dennoch will ich Ihnen von einem Kinde erzählen', 'und erzählte ihnen Märchen', 'als ich ihnen zum erstenmal das Märchen »Schneewittchen« erzählte', 'während ich erzählte', 'das mir durch sein träumerisch stilles Wesen lieb geworden war', 'und sagte', 'Papa läßt sich dem Fräulein Anna empfehlen', 'und sagen', 'und ich fragte das Kind', 'antwortete Ernestine', 'sagte ich', 'und wurde noch stiller als sonst', 'als ich den Sachverhalt erklärte', 'sagte sie', 'und ich muß Sie bitten', 'ich sprach über das Christkind', 'Ich erzählte den Kleinen von jenem hehren Gotteskinde', 'ich sprach', 'und schluchzte', 'Das kleine Mädchen war nicht gesprächig', 'und bat', 'Das Kind war während des ganzen Tages von einer lärmenden Fröhlichkeit', 'begann sie zu weinen', 'und mich nach ihrer Mama zu befragen', 'Ich weinte mit ihr', 'und erzählte ihr von ihrer Mutter', 'Da verlangte Ernestinchen von den Geschenken ihres Vaters einen kleinen lichtblauen Sonnenschirm', 'phantasierte vom Himmel und ihrer Mama', 'und bat diese', 'und gab keine Antwort auf meine Fragen', 'daß er augenblicklich Auftrag gab', 'mich von den letzten Tagen der Kleinen erzählen zu hören', 'Unsere Freundin hatte mit Tränen in den Augen geschlossen', 'sagte sie', 'und ich mußte mich aussprechen', 'aber die feinfühlige Erzählerin schnitt uns die Rede ab', 'sagte sie']\n",
      "\n",
      "File: Essig_Hermann_Novellen_Der_Hundsbiss.xml\n",
      "Ambient Sound Spans: ['und der Chorus der  » Imwalder Siedelung «  stimmt (Hühnerknochen im Maule) noch freudigeren Willkomm an', 'Man spricht nur', 'Es erhebt sich ein staunendes Lachen', 'wird mit einem gewissen Hohn auf die überwundenen Bequemlichkeiten der hinter dem Kiefernwald liegenden Großstadt gefragt', 'Es entringt sich lobend den Beschauern', 'fegt eine Meute Hunde heraus, daß der Wald zu bellen scheint', 'und scheidet in angenehmster Zuneigung', 'man schüttelt sich die Hand', 'und bedankt sich']\n",
      "Character Sound Spans: ['wieder einen  » Käufer «  begrüßen zu können', 'welcher zu lachen', 'welcher überzeugend zu reden', 'auch mit die Hand gibt', 'spricht die Frau Rätin', 'und fordert zur Besichtung der Waldparzellen auf', 'Herr Maß trampelt unruhig auf der Stelle', 'fragt die Rätin', 'antwortet Herr Mollkopf, vorsichtig hinzusetzend', 'Frau Justizrat bekundet', 'findet die Rätin', 'ruft eines der Kinder', 'Da schreit es plötzlich auf', 'Frau Mollkopf schreit entsetzt auf', 'Im Nebenraum hört man die Rätin ausführlich entwerfen', 'Sie schüttelt ihr Medusenhaupt', 'Vater, Mutter, Kinder lachen vergnügt', 'meint der Kutscher']\n"
     ]
    }
   ],
   "source": [
    "#This code works well to extract the sound event spans and store them in two separate lists according to their ambient or character sound classification. \n",
    "\n",
    "import os\n",
    "import xml.etree.ElementTree as ET\n",
    "\n",
    "#the following function creates empty lists, iterates over the xml elements extracting the content between the elements ambient_sound and character_sound to store them in the empty list, sorted by xml text file using the list.append and extend commands.\n",
    "\n",
    "def extract_sound_spans(xml_content):\n",
    "    ambient_sound_spans = []\n",
    "    character_sound_spans = []\n",
    "    root = ET.fromstring(xml_content)\n",
    "\n",
    "    ambient_sound_text = ''\n",
    "    character_sound_text = ''\n",
    "    \n",
    "    for elem in root.iter():\n",
    "        if elem.tag.endswith('ambient_sound'):\n",
    "            ambient_sound_text = elem.text.strip()\n",
    "            ambient_sound_spans.append(ambient_sound_text)\n",
    "        elif elem.tag.endswith('character_sound'):\n",
    "            character_sound_text = elem.text.strip()\n",
    "            character_sound_spans.append(character_sound_text)\n",
    "    return ambient_sound_spans, character_sound_spans\n",
    "\n",
    "def process_xml_file(filepath):\n",
    "    ambient_sound_spans_list = []\n",
    "    character_sound_spans_list = []\n",
    "    with open(filepath, 'r', encoding='utf-8') as file:\n",
    "        xml_content = file.read()\n",
    "        ambient_sound_spans, character_sound_spans = extract_sound_spans(xml_content)\n",
    "        ambient_sound_spans_list.extend(ambient_sound_spans)\n",
    "        character_sound_spans_list.extend(character_sound_spans)\n",
    "    return ambient_sound_spans_list, character_sound_spans_list\n",
    "\n",
    "def process_folder(folder_path):\n",
    "    sound_spans_per_file = {}\n",
    "    for filename in os.listdir(folder_path):\n",
    "        if filename.endswith('.xml'):\n",
    "            filepath = os.path.join(folder_path, filename)\n",
    "            ambient_sound_spans_list, character_sound_spans_list = process_xml_file(filepath)\n",
    "            sound_spans_per_file[filename] = {'ambient_sound_spans': ambient_sound_spans_list, \n",
    "                                              'character_sound_spans': character_sound_spans_list}\n",
    "    return sound_spans_per_file\n",
    "\n",
    "\n",
    "sound_spans_per_file = process_folder(folder_path)\n",
    "for filename, sound_spans in sound_spans_per_file.items():\n",
    "    print(\"File:\", filename)\n",
    "    print(\"Ambient Sound Spans:\", sound_spans['ambient_sound_spans'])\n",
    "    print(\"Character Sound Spans:\", sound_spans['character_sound_spans'])\n",
    "    print()\n"
   ],
   "metadata": {
    "collapsed": false,
    "ExecuteTime": {
     "end_time": "2024-04-02T07:39:18.487939Z",
     "start_time": "2024-04-02T07:39:18.477563Z"
    }
   },
   "id": "ecb7e5c95e88df0a",
   "execution_count": 9
  },
  {
   "cell_type": "code",
   "outputs": [],
   "source": [
    "# Write the output to a text file\n",
    "output_file = 'sound_spans_output_testing.txt'\n",
    "with open(output_file, 'w') as f:\n",
    "    for filename, sound_spans in sound_spans_per_file.items():\n",
    "        f.write(\"File: {}\\n\".format(filename))\n",
    "        f.write(\"Ambient Sound Spans: {}\\n\".format(sound_spans['ambient_sound_spans']))\n",
    "        f.write(\"Character Sound Spans: {}\\n\".format(sound_spans['character_sound_spans']))\n",
    "        f.write(\"\\n\")"
   ],
   "metadata": {
    "collapsed": false,
    "ExecuteTime": {
     "end_time": "2024-04-02T07:39:19.354624Z",
     "start_time": "2024-04-02T07:39:19.351350Z"
    }
   },
   "id": "2e84ea2717e66bde",
   "execution_count": 10
  },
  {
   "cell_type": "code",
   "outputs": [],
   "source": [
    "# Write the output to a CSV file\n",
    "import csv\n",
    "output_file = 'sound_spans_output_dataframe_testing.csv'\n",
    "with open(output_file, 'w', newline='', encoding='utf-8') as csvfile:\n",
    "    fieldnames = ['File', 'Ambient Sound Spans', 'Character Sound Spans']\n",
    "    writer = csv.DictWriter(csvfile, fieldnames=fieldnames)\n",
    "    writer.writeheader()\n",
    "    for filename, sound_spans in sound_spans_per_file.items():\n",
    "        writer.writerow({'File': filename,\n",
    "                         'Ambient Sound Spans': sound_spans['ambient_sound_spans'],\n",
    "                         'Character Sound Spans': sound_spans['character_sound_spans']})\n"
   ],
   "metadata": {
    "collapsed": false,
    "ExecuteTime": {
     "end_time": "2024-04-02T07:39:20.263768Z",
     "start_time": "2024-04-02T07:39:20.259451Z"
    }
   },
   "id": "7fdf24c1bc0a17b",
   "execution_count": 11
  },
  {
   "cell_type": "code",
   "outputs": [
    {
     "name": "stdout",
     "output_type": "stream",
     "text": [
      "Finished sound event extraction.\n"
     ]
    }
   ],
   "source": [
    "print(\"Finished sound event extraction.\")"
   ],
   "metadata": {
    "collapsed": false,
    "ExecuteTime": {
     "end_time": "2024-04-02T07:39:20.755067Z",
     "start_time": "2024-04-02T07:39:20.753317Z"
    }
   },
   "id": "6807972f8a6ed7a8",
   "execution_count": 12
  },
  {
   "cell_type": "code",
   "outputs": [],
   "source": [],
   "metadata": {
    "collapsed": false
   },
   "id": "7dc5e72f3fbe57cd"
  }
 ],
 "metadata": {
  "kernelspec": {
   "display_name": "Python 3",
   "language": "python",
   "name": "python3"
  },
  "language_info": {
   "codemirror_mode": {
    "name": "ipython",
    "version": 2
   },
   "file_extension": ".py",
   "mimetype": "text/x-python",
   "name": "python",
   "nbconvert_exporter": "python",
   "pygments_lexer": "ipython2",
   "version": "2.7.6"
  }
 },
 "nbformat": 4,
 "nbformat_minor": 5
}
