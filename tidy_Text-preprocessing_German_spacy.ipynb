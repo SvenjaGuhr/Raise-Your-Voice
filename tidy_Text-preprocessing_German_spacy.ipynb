{
 "cells": [
  {
   "cell_type": "code",
   "execution_count": 1,
   "id": "c8aacd28",
   "metadata": {},
   "outputs": [],
   "source": [
    "import spacy\n",
    "import csv\n",
    "import re"
   ]
  },
  {
   "cell_type": "code",
   "execution_count": 2,
   "id": "604283bc",
   "metadata": {},
   "outputs": [],
   "source": [
    "\n",
    "def process_text(input_text):\n",
    "    # Load the German language model in spaCy\n",
    "    nlp = spacy.load('de_core_news_sm')\n",
    "\n",
    "    # Process the input text\n",
    "    doc = nlp(input_text)\n",
    "\n",
    "    # Initialize lists to store token information\n",
    "    token_ids = []\n",
    "    tokens = []\n",
    "    lemmas = []\n",
    "    pos_tags = []\n",
    "\n",
    "    # Extract token information\n",
    "    for token in doc:\n",
    "        if token.pos_ != \"SPACE\":\n",
    "            token_ids.append(token.i)\n",
    "            tokens.append(token.text)\n",
    "            lemmas.append(token.lemma_)\n",
    "            pos_tags.append(token.pos_)\n",
    "\n",
    "    return token_ids, tokens, lemmas, pos_tags\n",
    "\n"
   ]
  },
  {
   "cell_type": "code",
   "execution_count": 3,
   "id": "120686c5",
   "metadata": {},
   "outputs": [],
   "source": [
    "# Read the input text from a file\n",
    "def read_input_file(file_path):\n",
    "    try:\n",
    "        with open(file_path, 'r', encoding='utf-8') as file:\n",
    "            input_text = file.read()\n",
    "        return input_text\n",
    "    except FileNotFoundError:\n",
    "        print(f\"File '{file_path}' not found.\")\n",
    "        return None\n",
    "    except:\n",
    "        print(\"An error occurred while reading the file.\")\n",
    "        return None\n",
    "\n"
   ]
  },
  {
   "cell_type": "code",
   "execution_count": 4,
   "id": "bbe2e8ef",
   "metadata": {},
   "outputs": [],
   "source": [
    "# Save output to a CSV file\n",
    "def save_output_to_csv(file_path, token_ids, tokens, lemmas, pos_tags):\n",
    "    try:\n",
    "        with open(file_path, 'w', encoding='utf-8', newline='') as file:\n",
    "            writer = csv.writer(file, delimiter=';')\n",
    "            writer.writerow(['Token ID', 'Token', 'Lemma', 'POS Tag'])\n",
    "            for i in range(len(token_ids)):\n",
    "                writer.writerow([token_ids[i], tokens[i], lemmas[i], pos_tags[i]])\n",
    "        print(f\"Output saved to '{file_path}' successfully.\")\n",
    "    except:\n",
    "        print(\"An error occurred while saving the output to a CSV file.\")\n",
    "\n"
   ]
  },
  {
   "cell_type": "code",
   "execution_count": 8,
   "id": "ddc9f933",
   "metadata": {},
   "outputs": [],
   "source": [
    "# Example usage\n",
    "input_file_path = '/Users/guhr/Desktop/Diss_Korpus/Diss_Korpus_202303_bereiningt/von_Saar_Ferdinand_Ausser_Dienst.txt'\n",
    "output_file_path = '/Users/guhr/Desktop/Diss_jupyter/for_annotation/von_Saar_Ferdinand_Ausser_Dienst_for_anno.csv'\n",
    "\n",
    "input_text = read_input_file(input_file_path)\n",
    "\n",
    "single_spaces_text = re.sub('\\n+', ' ', input_text)\n",
    "single_spaces_text = re.sub('--+', ' -- ', single_spaces_text)\n",
    "single_spaces_text = re.sub('&', 'und', single_spaces_text)\n",
    "single_spaces_text = re.sub('<|/', ' ', single_spaces_text)\n",
    "single_spaces_text = re.sub('>', ' ', single_spaces_text)\n",
    "single_spaces_text = re.sub(\"'s\", ' s', single_spaces_text)\n",
    "single_spaces_text = re.sub(';', '.', single_spaces_text)\n",
    "single_spaces_text = re.sub('\\d', ' ', single_spaces_text)\n",
    "input_text = re.sub('\\s+', ' ', single_spaces_text)\n",
    "\n"
   ]
  },
  {
   "cell_type": "code",
   "execution_count": 9,
   "id": "4d9b9b8d",
   "metadata": {},
   "outputs": [
    {
     "name": "stdout",
     "output_type": "stream",
     "text": [
      "Output saved to '/Users/guhr/Desktop/Diss_jupyter/for_annotation/von_Saar_Ferdinand_Ausser_Dienst_for_anno.csv' successfully.\n"
     ]
    }
   ],
   "source": [
    "if input_text:\n",
    "    token_ids, tokens, lemmas, pos_tags = process_text(input_text)\n",
    "\n",
    "    save_output_to_csv(output_file_path, token_ids, tokens, lemmas, pos_tags)"
   ]
  },
  {
   "cell_type": "code",
   "execution_count": null,
   "id": "7d444945",
   "metadata": {},
   "outputs": [],
   "source": []
  },
  {
   "cell_type": "code",
   "execution_count": null,
   "id": "89422878",
   "metadata": {},
   "outputs": [],
   "source": []
  }
 ],
 "metadata": {
  "kernelspec": {
   "display_name": "Python 3 (ipykernel)",
   "language": "python",
   "name": "python3"
  },
  "language_info": {
   "codemirror_mode": {
    "name": "ipython",
    "version": 3
   },
   "file_extension": ".py",
   "mimetype": "text/x-python",
   "name": "python",
   "nbconvert_exporter": "python",
   "pygments_lexer": "ipython3",
   "version": "3.9.7"
  }
 },
 "nbformat": 4,
 "nbformat_minor": 5
}
