{
 "cells": [
  {
   "cell_type": "markdown",
   "source": [
    "## Semi-Automatic Revision of the annotated XML files"
   ],
   "metadata": {
    "collapsed": false
   },
   "id": "34d5280257315a51"
  },
  {
   "cell_type": "markdown",
   "source": [
    "Given is a list of strings and a folder with xml files.\n",
    "Please iterate over the strings in the folder files looking for matches of a combination of the regex \"<ambient|character_sound loudness=\"\\d\"> followed by the list entry. Then delete the regex match only with leaving the text of the list in the text of the file.  \n",
    "\n",
    "The list of strings is the revised csv column of the extracted annotations that were controlled and corrected by annotating them with \"yes\" or \"no\". Filter the annotations for getting all the \"no\"s, to get a list of strings that are annotations that should be corrected because they are not any sound events.\n",
    "-- to prepare this, use the notebook 'annotation_span_extraction.ipynb'\n",
    "\n",
    "Replace '/path/to/xml/files' with the actual path to the folder containing your text files, and provide the list of strings you want to search for in the strings variable. This code will iterate over each text file in the folder, search for the specified combination of regex pattern and strings, and delete the regex match while preserving the text of the strings in the file."
   ],
   "metadata": {
    "collapsed": false
   },
   "id": "a293f7363a286cf3"
  },
  {
   "cell_type": "code",
   "outputs": [],
   "source": [
    "# This works!\n",
    "# Example usage with the test set\n",
    "\n",
    "strings = ['Dagobert zuckte in ganz perfider Art die Achsel', 'und erhob mich sodann', 'und nun beliebte er', 'und erwiderte später den fragenden Blick des Wirtes mit Achselzucken', 'Der Priester machte eine krampfhafte Bewegung', 'mein Herzschlag stockt', 'Er entliess sie mit einer leichten Geste', 'aus dessen Mienen die Freude lachte', 'Deiner Frau ein kurzes Wort von Deiner Abhaltung zu telegraphiren', 'und grüßte mich mit beiden Armen', 'Als aber jetzt die beiden Gatten einen Willkommenskuß tauschten', 'Auf einmal gingen mir ganz in dem Tonfall, wie ich sie gehört, die Worte durch den Sinn', 'Er nickte', 'achselzuckend ab', 'Alle zehn Schritt grüßte ihn ein Begegnender', 'Er', 'aber ich nickte ihm zu', 'über die Geistlichkeit der frommen Stadt', 'Mit einem Ruck stieß ich den Biedermann von', 'hatte gerade', 'Jetzt ließ sie mich mit einem Knicks', 'Erst unterwegs ward sie ein wenig ruhiger', 'Du bedarfst der Ruhe', 'jähem Ruck', 'ich grüßte empor', 'Ein leichtes resedenes Kleid umschmiegte sie wie zartes Gewölk', 'Ich nickte schämig lächelnd', 'und lächelte höhnisch', 'und zuckte mit den Achseln', 'einem Ruck', 'Ich hole die Laute', 'Sie nickte', 'sie nahm die Laute', 'Lippen der schönen Frau', 'aber er sagt es ihr morgen', 'Seitdem neckte Doctor Matthias seine Schwester nicht mehr auf verletzende Weise', 'Ein Theil desselben meinte', 'sprach englisch und französisch', 'wie deutsch', 'Natürlich sprach sie darüber nicht', 'so fragte diese auch nicht darnach', 'Der Anfall von Schwäche war soeben überwunden', 'Er stand still', 'Er stand still', 'Zerstreut nickte er', 'stutzte der Doctor plötzlich beim Anblicke', 'Er richtete sie ganz ruhig in die Höhe', 'Der Doctor nickte bestätigend mit dem Kopfe', 'Der Doctor belächelte die kindische Sicherheit', 'Dazu kamen die Vorwürfe seines Gewissens in Bezug auf Frau von Dahlhorst', 'Du stockst', 'Der junge Mann zuckte bedauernd die Achseln', 'Sie stockte', 'Dabei legte sich jedoch bleischwer die Frage auf sein Herz', 'dann aber meinte sie zu bemerken', 'Endlich stand er still', 'der sich deutlich in ihrer ganzen Haltung und in dem groß und fest aufgeschlagenen Auge aussprach', 'Beherrscht von ihrer tiefen, streng versteckten Zärtlichkeit stand sie an der Schwelle still', 'Er stand abermals still', 'und zögerte', 'um irgend ein böses oder gutes Wort zu sprechen', 'Da stutzte Elisabeth', 'Er schloß ihr den Mund mit einem Kusse', 'Ein stiller Musikant', 'Er nickte eifrig', 'und er nickte freundlich', 'Mann', 'Er nickte', 'sogar', '»', 'Gedanken ihre Stimme mit', 'Ich drohte ihr zwar mit dem Finger', 'und', 'als nicke mir der große Meister zu', 'Sie hatten', 'Aber ich beruhigte mich', 'Er nickte', '«', 'Aber', 'aber Freund Valentin hatte sich diesmal eine kleine Änderung gestattet', 'denn der alte Asmus sprach in jenem Gedichte doch nur von seiner eigenen Genesung', 'Augen', 'Er nickte eifrig', 'Noch einmal durch einen gemeinsamen Bekannten erhielt ich einen Gruß von Valentin', 'hinter denen allmählich die des stillen Musikanten ganz verschwunden war', 'der alte Herr', 'meiner Seite nickte immer nachdrücklicher mit dem Kopfe', 'Hübsche Stimme', 'Und mit einer höflichen Bewegung sich zu mir wendend', 'Zwar machte sie damals von sich reden', 'Sie nickte lächelnd', 'und', 'Sagst', 'und kroch schläfrig', 'Aber', 'atmen', 'verluderten', 'Der Schmied nickte', 'Er stand ganz still', 'Schibes wedelte zustimmend und mit Bedauern', 'Der Schmied stand still', 'nickte sie', 'staunte er', 'nickte sie', 'Er sagte es nicht', 'Mit einem jähen Ruck', 'als er grüßte', 'Er zitterte schweißbedeckt', 'Sie bat nicht', 'Sie weinte nicht', 'wedelte wie toll', 'fort –', 'Glück', 'und quälte', 'Jan grüßte schon von weitem mit der Hand, so selbstverständlich', 'tänzelnde Stute', '(Jan sagte nie ›aufs Schloß‹', 'lächerigte', 'bitte', 'und beißt', 'und', 'wedelte er', 'jähen Sätzen durch die Hütte hetzend', 'Der Alte schob ruhig die Pelzmütze', 'habe er', 'nickte er', 'Sie zuckte die Achseln', 'Nun streckte', 'Dame', 'Leberfleckchen', 'Im Vorübergehen hatte nur der Funker vor dem Deckoffizier salutiert', 'Die junge Dame nickte ergriffen', 'und', 'zögerte noch immer', 'trat er seinem Bruder entgegen', 'wenn', 'und liegt dort ganz still', \"lieg' aber auch rein still\", 'nickte Onkel Pökel', 'Das hörte Frau Sellentin', 'Petiskussen überein', 'und', 'aber dies bestärkte Krischan immer mehr in seiner Meinung', 'tat einen kleinen Schluck', 'Helene lauschte gespannt', 'Namen', 'musikalische Helene angenehm durchbebte', 'bang die möglichen Fragen des Herrn Professors fürchtend', 'wenn ich', 'denn sie begann den Sinn seiner Rede zu ahnen', 'Sie mußte antworten', 'und', 'Der Professor verbeugte sich artig', 'Frau', 'athmete Helene innerlich auf', 'diese letzte Frage ließ sich wenigstens im allgemeinen beantworten', 'väterliches Haus', 'und stirnrunzelnd', 'ich telegraphirte', 'So telegraphire einfach an diesen Professor zurück', 'telegraphirte ich nach Leipzig an ihren Mann', 'Und eine innere Stimme antwortete', 'Sich frostig verbeugend', 'Ohne dem Professor zu antworten', 'und', 'um sie zu beruhigen', 'Ohne auf diese Bemerkung einzugehen,', 'daß er ihr schmunzelnd', 'drohte Emma lächelnd mit aufgehobenem Finger', 'begann sie dann mit zwei zierlichen Verbeugungen', 'still', 'Sie', 'Ein', 'auf Emma', 'Und dabei lehnte der arme Sänger', 'Wirklichkeit sein Haupt leise auf die hohe Schulter seines Freundes', 'und lauschte', 'Die geschminkte und gepuderte Excellenz', 'nie entglitt ihr ein lautes Wort, ein Scherz, ein Lachen', 'Fort mit dem steifen » Sie «', 'besonders', 'und', 'und dann', 'sich die', 'unerklärlichen', 'so', 'aber Niemand hörte mich', 'das Orchester müde', 'und setzten ihren Weg fort,', 'zu bewegt,', 'um ein lautes Wort zu sprechen', 'die', 'wiegten', 'Ich habe gerungen', 'Der bejammernswerthe Gatte und Vater war der Verzweiflung nahe', 'Kind auf einem stillen', 'man', 'Die Sterbende hörte sie', 'man hatte keinen Laut gehört', 'Ein Kampf schien in ihr zu toben', 'Die Kinder hatten Glöckchen, kleine Thiere, Häuser, Stuben', 'Später hörten wir nichts weiter von ihr', 'da ich so Dich', 'da pfupften sie sehr', 'Das', 'es schöpfte',  'es sogar einer Magd', 'Als', 'es brenne', 'noch', 'hieß', 'dem Tumulte', 'das zweite Mal', 'Morgen nach deren Abreise', 'Er', 'Der Unheimliche sah ihn ruhig an', 'man unwillkürlich', 'ein Entschluß reifte in ihm, ruhig und kalt', 'Der Baron Benzing saß wieder ruhig', 'wie um', 'war sie wieder', 'daß', 'Es', 'Ich hielt in meinem Gange inne', 'Therese theilt meine Befürchtung', 'und man empfinde das Dröhnen und Ächzen herein', 'Dieses » Nein «', 'Der listig aussehende Knabe', 'Athem', 'Die', 'war aber ohne alle Einrede eine', 'und setzte, ohne mir zu danken,', 'Und eiserne', 'donnernder Tadel', 'Worte', 'rief', 'Fluch,', 'Hilfe an', 'zwischen', 'Da', 'Haus', 'sie', 'Und', 'Die', 'Der', 'Das', 'Ein', 'Eine', 'Diese', 'Dieser', 'Heute hat er', 'die beiden Alten', 'doch so oft', 'In dem Hause des Apothekers ward nur', 'was den Gast', 'des Todes in den Lauten ihres Landes, ihrer Eltern, ihrer Kindheit, ihres Glückes', 'ihm', 'ihr', 'In', 'da',]\n",
    "\n",
    "xml_folder = '/Users/sguhr/Desktop/Diss_notebooks/Diss_data_notebooks_man_anno/se_predicted_subcorpora/Subcorpus_1848-60_predicted'\n",
    "\n",
    "process_xml_files(xml_folder, strings)"
   ],
   "metadata": {
    "collapsed": false,
    "ExecuteTime": {
     "end_time": "2024-05-01T17:46:32.097466Z",
     "start_time": "2024-05-01T17:46:30.250713Z"
    }
   },
   "id": "df21e4755e5ab32c",
   "execution_count": 3
  },
  {
   "cell_type": "code",
   "outputs": [],
   "source": [
    "# Nice! This one works!\n",
    "# <character_sound></character_sound>\n",
    "# If with automatically generated annotations, pay attention to the \"loudness=\"\\d\" because it is not part of the automatically generated annotations from NEISS NTEE.\n",
    "\n",
    "import os\n",
    "import re\n",
    "\n",
    "def process_xml_files(xml_folder, strings):\n",
    "    # Iterate over each txt file in the folder\n",
    "    for filename in os.listdir(xml_folder):\n",
    "        if filename.endswith('.xml'):\n",
    "            xml_file_path = os.path.join(xml_folder, filename)\n",
    "            # Read the text file\n",
    "            with open(xml_file_path, 'r', encoding='utf-8') as file:\n",
    "                text = file.read()\n",
    "\n",
    "            # Iterate over strings to find and delete the regex matches\n",
    "            for string in strings:\n",
    "                # Define the regex pattern to match the combination\n",
    "                regex_pattern = fr'<(?:ambient|character)_sound>\\s*{re.escape(string)}\\s*</(?:ambient|character)_sound>'\n",
    "\n",
    "                # Find and delete the regex match from the text\n",
    "                text = re.sub(regex_pattern, string, text)\n",
    "\n",
    "            # Write the modified text back to the file\n",
    "            with open(xml_file_path, 'w', encoding='utf-8') as file:\n",
    "                file.write(text)\n",
    "\n",
    "\n"
   ],
   "metadata": {
    "collapsed": false,
    "ExecuteTime": {
     "end_time": "2024-05-01T17:46:22.176519Z",
     "start_time": "2024-05-01T17:46:22.172490Z"
    }
   },
   "id": "80bc566e4624fde7",
   "execution_count": 2
  },
  {
   "cell_type": "code",
   "outputs": [],
   "source": [
    "# Nice! This one works!\n",
    "# <character_sound loudness=\"\\d\"></character_sound>\n",
    "# If with automatically generated annotations, pay attention to the \"loudness=\"\\d\" because it is not part of the automatically generated annotations from NEISS NTEE.\n",
    "\n",
    "import os\n",
    "import re\n",
    "\n",
    "def process_xml_files(xml_folder, strings):\n",
    "    # Iterate over each txt file in the folder\n",
    "    for filename in os.listdir(xml_folder):\n",
    "        if filename.endswith('.xml'):\n",
    "            xml_file_path = os.path.join(xml_folder, filename)\n",
    "            # Read the text file\n",
    "            with open(xml_file_path, 'r', encoding='utf-8') as file:\n",
    "                text = file.read()\n",
    "\n",
    "            # Iterate over strings to find and delete the regex matches\n",
    "            for string in strings:\n",
    "                # Define the regex pattern to match the combination\n",
    "                regex_pattern = fr'<(?:ambient|character)_sound loudness=\"\\d+\">\\s*{re.escape(string)}\\s*</(?:ambient|character)_sound>'\n",
    "\n",
    "                # Find and delete the regex match from the text\n",
    "                text = re.sub(regex_pattern, string, text)\n",
    "\n",
    "            # Write the modified text back to the file\n",
    "            with open(xml_file_path, 'w', encoding='utf-8') as file:\n",
    "                file.write(text)\n",
    "\n",
    "\n"
   ],
   "metadata": {
    "collapsed": false,
    "ExecuteTime": {
     "end_time": "2024-04-27T15:05:42.543100Z",
     "start_time": "2024-04-27T15:05:42.538144Z"
    }
   },
   "id": "5c15909c3df5b418",
   "execution_count": 28
  },
  {
   "cell_type": "code",
   "outputs": [],
   "source": [
    "# Nice! This one works!\n",
    "# If with automatically generated annotations, pay attention to the \"loudness=\"\\d\" because it is not part of the automatically generated annotations from NEISS NTEE.\n",
    "\n",
    "import os\n",
    "import re\n",
    "\n",
    "def process_xml_files(xml_folder, strings):\n",
    "    # Iterate over each txt file in the folder\n",
    "    for filename in os.listdir(xml_folder):\n",
    "        if filename.endswith('.xml'):\n",
    "            xml_file_path = os.path.join(xml_folder, filename)\n",
    "            # Read the text file\n",
    "            with open(xml_file_path, 'r', encoding='utf-8') as file:\n",
    "                text = file.read()\n",
    "\n",
    "            # Iterate over strings to find and delete the regex matches\n",
    "            for string in strings:\n",
    "                # Define the regex pattern to match the combination\n",
    "                regex_pattern = fr'<(?:ambient|character)_sound loudness=\"\\d+\">\\s*{re.escape(string)}\\s*</(?:ambient|character)_sound>'\n",
    "\n",
    "                # Find and delete the regex match from the text\n",
    "                text = re.sub(regex_pattern, string, text)\n",
    "\n",
    "            # Write the modified text back to the file\n",
    "            with open(xml_file_path, 'w', encoding='utf-8') as file:\n",
    "                file.write(text)\n",
    "\n",
    "\n"
   ],
   "metadata": {
    "collapsed": false
   },
   "id": "4bbc9f336b274ad"
  },
  {
   "cell_type": "code",
   "outputs": [],
   "source": [
    "# This works!\n",
    "# Example usage with the training set\n",
    "\n",
    "strings = ['die Mädchen grüßten verschämt wieder', 'und wiegte den Kopf hin und her', 'Ungeduldig schüttelte sie seine Hand ab', 'dann warf sie die Lippen mit einem verächtlichen Zucken auf', 'und die blumengeschmückten, blonden und braunen Köpfe zu schüchternem Gruße neigend', 'ein ernstes Händeschütteln', 'die ihn begrüßten', 'Man zuckte mit den Schultern', 'Man grüßte sich diskret', 'ihr die Hand zu reichen', 'die niedliche Kleine zu sich winkte', 'Mit einem unerträglichen Zittern in den Knieen begab das Mädchen sich an ihren Platz zurück', 'die Finger zitterten ihr', 'sie winkte', 'wie das Mädchen am ganzen Leibe bebte', 'Eugenie küßte Agathe leidenschaftlich', 'wurde von ihm gegrüßt', 'winkte Mama sie plötzlich heran', 'Aber das kleine Hausmädchen schüttelte den Kopf', 'während seine dürre lange Hand sie herzlich begrüßte', 'Die Bewegung, mit der er grüßte', 'Ein heftiges, anhaltendes Zittern lief durch ihren Körper', 'und blickte mit geöffneten, bebenden Lippen empor', 'um sie zu begrüßen', 'indem sie ihre Mutter küßte', 'und grüßte nicht', 'seine breiten Schultern zuckten', 'und er mit eiligem Gruß an ihr vorüber wollte', 'gab ihm die Hand', 'Er schüttelte ihr sehr herzlich die Hand', 'Mit zitternden Knieen ging sie nach der Thür', 'Die Hand wurde ihr geschüttelt', 'und nickte mit dem Kopfe', 'Er schüttelte den Kopf', 'und küßte ihn auf die Stirn', 'Küßte ihn auf die Stirn', 'Sie reichte auch der Daniel die Hand – ganz mechanisch', 'ihr Mund begann zu zittern', 'Agathe neigte den Kopf', 'Er küßte sie auf die Stirn', 'und dem Kollegen die Hand schüttelte', 'Agathe erhob sich zitternd', 'Sie zitterte stärker', 'Der alte Sanitätsrat erhielt ein Kopfnicken', 'Raikendorf reichte ihr die Hand mit einem zärtlich zögernden Druck', 'Er drückte ihr die Hand', 'Er küßte Agathe beim Abschied die Hand', 'Er preßte ihre Hand', 'winkte er seiner Frau', 'Agathe überfiel ein Zittern', 'und küßte das Mädchen auf die Stirn', 'Wiesing schüttelte ganz wenig den Kopf', 'und küßte ihn stürmisch', 'Die Schwägerinnen küßten einander', 'in dem der Regierungsrat Heidling seinen Neffen begrüßte', 'Agathe schüttelte den Kopf', 'Zitternd blieb sie stehen', 'Der Regierungsrat küßte Eugenien in warmer Dankbarkeit die Hand', 'Wie eine Sensitive erzitterte sie unter seinen scharfen Augen', 'Und triumphierend hatte sie rings umher gegrüßt und gewinkt', 'Ausbündige Eleganz grüßte', 'zwinkerte Flametti', 'schluckte den Speiserest', 'und Mary hatte gegähnt', 'und erwiderte sehr belustigt die Zeichen des mit dem Kopf andeutenden Schlangenmenschen', 'und schüttelte abweisend die erhobene Hand', 'Und nestelte zitternd an ihrer Bluse', 'Beide nickten, Frau Häsli so hastig', 'winkte Frau Häsli ab', 'und reichte Flametti die Hand', 'Lena schüttelte den Kopf', 'Er deutete mit dem Kopf nach den beiden sacht gehenden Beamten', 'nickte mit dem Kopfe in einer weltmännisch-gewitzigten Weise', 'und wiegte den Kopf', 'der', 'schüttelte den Kopf', 'Aber dann schüttelte er ablehnend den Kopf', 'schüttelte Mechmed versunken den Kopf', 'winkte mit dem Kopfe', 'und streckte Herrn Schnabel die Hand zu über den Tisch', 'lud Flametti mit einer raschen, geschickten Handbewegung ein', 'und Flametti reichte Herrn Rotter indianisch die Hand', 'Raffaëla schüttelte den Kopf ob solcher Unglaublichkeiten', 'Sie lächelte kopfschüttelnd', 'den Herrn Farolyi vom Zirkus Donna Maria Josefa mit vorgestreckter Hand fachmännisch begrüßte', 'und stellte mit einer seitlichen Handbewegung den Pianisten vor', 'Jenny winkte Mutter Dudlinger zu', 'Herr Pips seinerseits versuchte mit plötzlichen, wohlorientierten und freudige Überraschung bekundenden Gesten Jennymama zu bedeuten', 'und winkte ab mit der flachen Hand', 'Traute zuckte die Achseln, mitleidig', 'und schnickte mit dem Kopfe', 'zeigte Jenny auf das verhandelnde Paar', 'Donna Maria Josefa winkte mit Flatterhand', 'dann abwinkend', 'Frau Schnepfe schüttelte den Kopf ob solchen Tumults', 'und winkte Flametti', 'Zitternd und bebend beeilte sie sich', 'grüßte er mit salopp geschwungener Schneidigkeit und blödem Gesichtsausdruck', 'grüßte Flametti souverän', 'nickte Jenny mit ihrem süßesten Lächeln', 'zitterte Lydia mit erfrorener Nase', 'Und jener krausköpfige Herr kam mit dem Knaben durch die Kulisse herein, zitternd und bebend', 'Aber Flametti schüttelte den Kopf', 'und reichte dem Meyer zitternd vor Ergriffenheit die Hand', 'Die Soubrette wandte aufhorchend den Kopf', 'zwinkerte er', 'und parierte mit einem mitleidigen Achselzucken', 'und zitterte', 'und winkte nach rückwärts', 'Frau von Herbeck schüttelte leicht den Kopf', 'Emmy erbebte unter seinem Blicke', 'und sie grüßte mit ebensoviel Anstand als Würde', 'Wie geistreich behandelte er seine von ihm aufgestellten, oft nur zu paradox klingenden Ideen', 'Er entschuldigte sich mit seinem gewöhnlichen satirischen und doch wieder so gutmüthigen Lächeln', 'Er reichte mir die Hand mit seiner alten Herzlichkeit hin', 'Ich drückte dem alten Sommer verstohlen die Hand', 'und winkte', 'Der General winkte noch einmal', 'Er reichte Gustav die Hand', 'drückte sie', 'Daniel reichte dem jungen Manne die Hand', 'und drückte sie herzhaft', 'Sie erwiderte zitternd den Druck', 'wie sie bebte', 'Daniel schüttelte langsam den Kopf', 'Mit herzlichem Händedruck verabschiedeten sich die beiden', 'und nun zitternd, mit halb offenem Munde, die beiden Hände gegen Leonoren ausstreckend', 'Endlich schüttelte er bedächtig den Kopf', 'Das arme Mädchen zitterte und bebte', 'Er drückte die kleinen Hände des hübschen Mädchens', 'Sie winkte uns', 'schüttelte jedoch den Kopf', 'die mir jetzt wohlwollend die Hand zum Abschied reichte', 'bevor er sich mit einem freundlich-gleichmütigen Kopfnicken zurückgezogen', 'denn er gab mir nur noch schnell die Hand', 'winkten wir noch einander zu', 'während Fritz in seiner dünnen rauchgeschwärzten Kleidung wie ein Espenlaub zitterte', 'daß der arme, vor Kälte und überstandener Todesangst zitternde Knabe dort hier in’s warme Nest gehört', 'und sie reichte Irene die Hand', 'Irene schüttelte den Kopf', 'Wilhelmine reichte nochmals ihren Gästen die Hand', 'und dem fremden Herrn ein Händchen gegeben hatten', 'Sie bebte zusammen', 'und reichte ihm die Hand', 'Er küßte lächelnd ihre Stirne', 'die ganze Zeit über zitterte er unter dem Kanapee', 'sagte, allerdings zitternd und unüberlegt', 'viertelstundenlang schüttelte er langsam den Kopf', 'trotz der beschwörend erhobenen Hände der Mutter', 'der mittlere Zimmerherr lächelte erst einmal kopfschüttelnd seinen Freunden zu', 'aber das starke Nicken seines wie haltlosen Kopfes zeigte', 'Die Bedienerin stand lächelnd in der Tür', 'wehrte dies mit ausgestreckter Hand entschieden ab', 'die Erde erbebte', 'man winkt ihm', 'wie er ihm feierlich die Hand schüttelte', 'und mit einem kurzen, zerstreuten Kopfnicken sogleich wieder verschwand', 'Die beiden Männer reichten sich die Hände', 'indem er dazu bedenklich den Kopf hin und her wiegte', 'Hildegard schüttelte den Kopf', 'Frau Wallner schüttelte den Kopf', 'und drückte Hildegards Hand', 'Frau von Werdern nickte gedankenvoll mit dem Kopfe', 'Hildegard drückte ihr die Hand', 'und schüttelte ihr die Hand', 'und legte ihr die Hand auf die Schulter', 'Die schöne Frau machte eine abwehrende Handbewegung', 'die Hildegard freundlich die Hand drückte', 'Elvira winkte der Kellnerin', 'Hildegard schüttelte den Kopf', 'aus der eine Dame Elvira gnädig zunickte', 'Die Lehrerin verneigte sich tief', 'Elvira zuckte die Schultern', 'Hildegard schüttelte den Kopf', 'Dann reichte sie Elviren die Hand hin', 'Elvira wiegte den Kopf', 'Elvira rieb sich vor Vergnügen die Hände', 'Fräulein Schulze machte eine Handbewegung', 'und winkte eine Droschke herbei', 'ergriff ihre Hand', 'Er wiegte nachdenklich den Kopf', 'zitterte', 'und schüttelte mir die Hand', 'Heiter schüttelte er mir die Hand', 'und winkte mir noch', 'Aber mein Besucher schüttelte den Kopf', 'und schüttelte mir die Hand', 'schüttelte er ein wenig den Kopf', 'Professor Müller schüttelte den Kopf', 'und Roland schüttelte den Kopf', 'Ich hob die Schultern', 'Miß Mason schüttelte den Kopf über den Betrieb in der Klinik', 'Sie wandte sich kopfschüttelnd mir zu', 'und Walter winkte Fred', 'und senkte den Kopf auf die Seite', 'Er machte auch eine abwehrende Handbewegung', 'Da faßte er meine Hand', 'küßte sie', 'Die Fabianen nickte heftig mit dem Kopfe', 'Und der Fabianen reichte sie die Hand', 'und sie an der Schulter rüttelte', 'Der Förster wiegte bedenklich den Kopf', 'desto mehr mit den Köpfen schüttelte', 'bebte er, bis in seine innersten Poren', 'scheu und zitternd stand sie noch einen vollen Schritt von dem Tisch entfernt', 'schüttelte seinen kleinen Kopf und die Frackschöße', 'winkte und nickte nach der Chiffonniere hinüber', 'Der frische Morgenwind schnellt den Thau von den bebenden Halmen', 'Dann schüttelte sie heftig den Kopf', 'Eines Mittags aber hatte sie mein Grußlächeln so fröhlich erwiedert', 'und sie lächelte zuversichtlich, stolz', 'Wieder mußte ich lächeln', 'aber sie schüttelte doch den Kopf', 'so grüßten wir uns mit dem erkennenden Lächeln', 'Sie zuckte mit ihrem gewohnten liebenswürdigen Lächeln die Achseln', 'wieder drückte sie meine Hand', 'und lächelte ernsthaft', 'und wir drückten uns noch einmal fest die Hände', 'schüttelte meine Hand und war verschwunden', 'Der Beamte schüttelte den Kopf', 'Ich drückte die hartgearbeitete gute Hand der Frau', 'Frau Laubi nickte ernsthaft', 'Wieder kam das vielsagende Achselzucken', 'Ich drückte dem jungen Manne fest die Hand', 'Und herzhaft erwiederte er den Druck', 'Ich habe mit Begeisterung mein Handgelübde abgelegt', 'und meine Hand zittert', 'Da kopfschüttelte er', 'schüttelte sie den Kopf', 'mein Herz bebte', 'Kohn hörte kopfschüttelnd zu', 'Mit diesen Worten setzte er den Hut auf den Kopf', 'Aber wie sie s mir dann auf den Kopf zusagten', 'um dieser die Hand zu küssen', 'die Mama, die, von der Steintreppe her, mit ihrem Taschentuche winkte', 'und gab ihm einen Kuß auf die linke Backe', 'ja dem Lieblinge zur Besiegelung des Einverständnisses einen Kuß auf die Stirn gegeben', 'Effi winkte mit dem Taschentuch', 'und küßte Effi', 'und küßte ihre beiden Hände', 'grüßte Effi vom Koupee aus', 'und reichte Innstetten die Hand', 'Effi reichte dem verlegen Eintretenden die Hand', 'die dieser mit einem gewissen Ungestüm küßte', 'Effi gab ihm die Hand', 'nach wiederholtem Handkuß', 'Innstetten nahm ihre Hand', 'schüttelte den Kopf', 'Kruse wiegte den Kopf hin und her', 'Ein Zittern überkam sie', 'und überdeckte sie mit heißen Küssen', 'und zitterte', 'und sie reichte ihm die Hand', 'und ihr ganzer zarter Körper zitterte', 'Noch ein Händedruck', 'Sie zitterte vor Erregung', 'Effi schüttelte den Kopf', 'Effi schüttelte den Kopf', 'Zugleich deutete Crampas durch eine Handbewegung an', 'und küßte ihm die Hand', 'und ihr die Hand reichte', 'Roswitha gab dem Kinde einen Kuß', 'und gab ihm einen Kuß auf die Stirn', 'und gab ihr einen Kuß auf die Stirn', 'Wiesike wiegte den Kopf langsam hin und her', 'schüttelte den Kopf langsam hin und her', 'Beglückt und verständnißinnig reichten sich Bernhard und Reinhold die Hand', 'Tief ergriffen reichte Reinhold dem Freunde die Hand', 'ebenfalls innig bewegt die Hand des Freundes drückend', 'Der Schimmel schüttelte den Kopf', 'schüttelte den Kopf', 'Nach langem Hinstarren nickte er wohl langsam mit dem Kopfe', 'Der Alte schüttelte den Kopf', 'Elke schüttelte den Kopf', 'Aber sie schüttelte den Kopf', 'er aber kehrte den Kopf ab', 'aber sie schüttelte nur den Kopf', 'Sie schüttelte den Kopf', 'Aber der Alte schüttelte den Kopf', 'Der Oberdeichgraf aber reichte dem Mädchen seine Hand', 'Sie drückte ihm die Hand', 'Hauke schüttelte den Kopf', 'nachdem der Junge ihm nachdrücklich darauf die Hand geboten hatte', 'Der Junge schüttelte den Kopf', 'aber sie schüttelte den Kopf', 'Hauke schüttelte den Kopf', 'und ging kopfnickend aus dem Zimmer', 'und da das Kind wie nickend das Köpfchen senkte', 'begann sie mit dem Kopfe zu schütteln', 'Aber Hauke schüttelte den Kopf', 'Er schüttelte den Kopf', 'der die Hand schwenkte']\n",
    "\n",
    "xml_folder = '/Users/sguhr/Desktop/Diss_notebooks/Diss_data_notebooks_man_anno/Manually_annotated_data/20240408_Training_revised'\n",
    "\n",
    "process_xml_files(xml_folder, strings)"
   ],
   "metadata": {
    "collapsed": false,
    "ExecuteTime": {
     "end_time": "2024-04-10T13:32:58.846893Z",
     "start_time": "2024-04-10T13:32:57.926496Z"
    }
   },
   "id": "9bc57e30f0d8cea",
   "execution_count": 22
  },
  {
   "cell_type": "code",
   "outputs": [],
   "source": [],
   "metadata": {
    "collapsed": false
   },
   "id": "158ff0e00b8e1b5f"
  }
 ],
 "metadata": {
  "kernelspec": {
   "display_name": "Python 3",
   "language": "python",
   "name": "python3"
  },
  "language_info": {
   "codemirror_mode": {
    "name": "ipython",
    "version": 2
   },
   "file_extension": ".py",
   "mimetype": "text/x-python",
   "name": "python",
   "nbconvert_exporter": "python",
   "pygments_lexer": "ipython2",
   "version": "2.7.6"
  }
 },
 "nbformat": 4,
 "nbformat_minor": 5
}
