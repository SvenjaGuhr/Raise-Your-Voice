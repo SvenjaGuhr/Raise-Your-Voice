{
 "cells": [
  {
   "cell_type": "markdown",
   "metadata": {},
   "source": [
    "# Inter Annotator Agreement (IAA) with gitma\n",
    "This demo uses the demo CATMA project.\n",
    "If you want to use it for your own annotations you first have to clone your CATMA project locally.\n",
    "For further information about cloning your CATMA project see [this notebook](https://github.com/forTEXT/gitma/blob/main/demo/notebooks/load_project_from_gitlab.ipynb).\n",
    "\n",
    "This package provides two methods to compute the agreement of two or more annotators.\n",
    "Both methods compare annotation collections.\n",
    "For that reason, it is recommended to use one annotation collection per annotator and document.\n",
    "Additionally, it is recommended to name every annotation collection by a combination of the <span style=\"color:pink\">document's title</span>, the <span style=\"color:red\">annotation task</span> and the <span style=\"color:green\">annotator</span>.\n",
    "\n",
    "**Example:**  <span style=\"color:pink\">robinson_crusoe</span>-<span style=\"color:red\">narrative_space</span>-<span style=\"color:green\">mareike</span>"
   ]
  },
  {
   "cell_type": "markdown",
   "metadata": {},
   "source": [
    "## Table of contents\n",
    "* [Dependencies](#1-bullet)\n",
    "* [`get_iaa()`](#2-bullet)\n",
    "  * [Basic example](#2.1)\n",
    "  * [Filter by tags](#2.2)\n",
    "  * [Compare annotation properties](#2.3)\n",
    "* [`gamma_agreement()`](#3-bullet)"
   ]
  },
  {
   "cell_type": "markdown",
   "metadata": {},
   "source": [
    "## Dependencies <a class=\"anchor\" id=\"1-bullet\"></a>\n",
    "\n",
    "### nltk\n",
    "\n",
    "If you are only interested in IAA metrics such as *Scott's pi*, *Cohen's kappa* and *Krippendorf's alpha*\n",
    "the [Natural Language Toolkit](https://www.nltk.org/) is sufficient (already installed).\n",
    "\n",
    "### pygamma-agreement\n",
    "\n",
    "The gamma agreement takes unitizing as part of annotation tasks into account\n",
    "(see [Mathet et al. 2015](https://aclanthology.org/J15-3003.pdf)).\n",
    "For many annotation projects done with CATMA, that might be crucial.\n",
    "If you want to compute the gamma agreement using this package, the installation of [pygamma-agreement](https://github.com/bootphon/pygamma-agreement) is required:\n",
    "\n",
    "    pip install pygamma-agreement\n",
    "\n",
    "Please take note of the **further installation instructions** on the [pygamma-agreement GitHub page](https://github.com/bootphon/pygamma-agreement#installation) and the [*'how to cite'*](https://github.com/bootphon/pygamma-agreement#citing-pygamma)!\n",
    "\n",
    "\n"
   ]
  },
  {
   "cell_type": "code",
   "execution_count": 11,
   "metadata": {},
   "outputs": [
    {
     "name": "stdout",
     "output_type": "stream",
     "text": [
      "Loading tagsets ...\n",
      "\tFound 1 tagset(s).\n",
      "Loading documents ...\n",
      "\tFound 2 document(s).\n",
      "Loading annotation collections ...\n",
      "\tFound 5 annotation collection(s).\n",
      "\tAnnotation collection \"Alina_se_anno_Verwandlung_Kap1\" for document \"Kafka Franz Die Verwandlung Kapitel 1 Alina\"\n",
      "\t\tAnnotations: 92\n",
      "\tAnnotation collection \"Intrinsic Markup\" for document \"Kafka Franz Die Verwandlung Kapitel 1 Svenja\"\n",
      "\t\tAnnotations: 105\n",
      "\tAnnotation collection \"Svenja_se_anno_Verwandlung_Kap_1\" for document \"Kafka Franz Die Verwandlung Kapitel 1 Alina\"\n",
      "\t\tAnnotations: 105\n",
      "\tAnnotation collection \"Kafka Franz Die Verwandlung Kapitel 1 Svenja Default Annotations\" for document \"Kafka Franz Die Verwandlung Kapitel 1 Svenja\"\n",
      "\t\tAnnotations: 0\n",
      "\tAnnotation collection \"Gold_anno_Verwandlung_Kap1\" for document \"Kafka Franz Die Verwandlung Kapitel 1 Alina\"\n",
      "\t\tAnnotations: 102\n"
     ]
    }
   ],
   "source": [
    "# import the CatmaProject class\n",
    "from gitma import CatmaProject\n",
    "\n",
    "# load your project\n",
    "my_project = CatmaProject(\n",
    "    projects_directory='../Downloads/',\n",
    "    project_name='CATMA_E55331DD-BC9F-4D67-AC46-B9C03535440B_Evaluation_Sound_Annotation',\n",
    ")\n",
    "\n",
    "#https://git.catma.de/102354118766956405180google_com/CATMA_E55331DD-BC9F-4D67-AC46-B9C03535440B_Evaluation_Sound_Annotation.git'\n"
   ]
  },
  {
   "cell_type": "markdown",
   "metadata": {},
   "source": [
    "## `get_iaa()` <a class=\"anchor\" id=\"2-bullet\"></a>\n",
    "\n",
    "The demo project contains three annotation collections.\n",
    "In this demo we will compute the agreement of the collections 'ac_1' and 'ac_2'.\n",
    "\n",
    "For every annotation in annotation collection 1 (`ac1_name`) the `get_iaa` method searches for the best matching annotation\n",
    "in annotation collection 2 (`ac2_name`) with respect to its annotation text span.\n",
    "The following examples show how matching annotations in two annotation collections are identified:\n",
    "\n",
    "<img src=\"img/best_match_example_iaa.png\">\n",
    "\n",
    "In contrast to the `gamma_agreement` method (see below), the `get_iaa` method only considers the best matching annotations\n",
    "from both annotation collections when computing the IAA value.\n",
    "\n",
    "### Basic example <a class=\"anchor\" id=\"2.1\"></a>\n",
    "\n",
    "First, we will take look at both annotation collections by comparing the annotation spans."
   ]
  },
  {
   "cell_type": "code",
   "execution_count": 12,
   "metadata": {},
   "outputs": [
    {
     "data": {
      "application/vnd.plotly.v1+json": {
       "config": {
        "plotlyServerURL": "https://plot.ly"
       },
       "data": [
        {
         "legendgroup": "ambient_sound",
         "marker": {
          "color": "#093658"
         },
         "mode": "lines+markers",
         "name": "ambient_sound",
         "showlegend": true,
         "text": "<I><br>lag ruhig zwischen den vier wohlbekannten Wänden <br></I>",
         "type": "scatter",
         "x": [
          679,
          728
         ],
         "y": [
          "Alina_se_anno_Verwandlung_Kap1",
          "Alina_se_anno_Verwandlung_Kap1"
         ]
        },
        {
         "legendgroup": "ambient_sound",
         "marker": {
          "color": "#093658"
         },
         "mode": "lines+markers",
         "name": "ambient_sound",
         "showlegend": false,
         "text": "<I><br>gewiß hatte er auch geläutet <br></I>",
         "type": "scatter",
         "x": [
          4302,
          4331
         ],
         "y": [
          "Alina_se_anno_Verwandlung_Kap1",
          "Alina_se_anno_Verwandlung_Kap1"
         ]
        },
        {
         "legendgroup": "ambient_sound",
         "marker": {
          "color": "#093658"
         },
         "mode": "lines+markers",
         "name": "ambient_sound",
         "showlegend": false,
         "text": "<I><br>gerade schlug der Wecker drei Viertel sieben <br></I>",
         "type": "scatter",
         "x": [
          5754,
          5799
         ],
         "y": [
          "Alina_se_anno_Verwandlung_Kap1",
          "Alina_se_anno_Verwandlung_Kap1"
         ]
        },
        {
         "legendgroup": "character_sound",
         "marker": {
          "color": "#A64B21"
         },
         "mode": "lines+markers",
         "name": "character_sound",
         "showlegend": true,
         "text": "<I><br>klopfte es vorsichtig an die Tür am Kopfende seines Bettes<br><br></I>",
         "type": "scatter",
         "x": [
          5803,
          5862
         ],
         "y": [
          "Alina_se_anno_Verwandlung_Kap1",
          "Alina_se_anno_Verwandlung_Kap1"
         ]
        },
        {
         "legendgroup": "character_sound",
         "marker": {
          "color": "#A64B21"
         },
         "mode": "lines+markers",
         "name": "character_sound",
         "showlegend": false,
         "text": "<I><br>rief es <br></I>",
         "type": "scatter",
         "x": [
          5877,
          5886
         ],
         "y": [
          "Alina_se_anno_Verwandlung_Kap1",
          "Alina_se_anno_Verwandlung_Kap1"
         ]
        },
        {
         "legendgroup": "character_sound",
         "marker": {
          "color": "#A64B21"
         },
         "mode": "lines+markers",
         "name": "character_sound",
         "showlegend": false,
         "text": "<I><br>als er seine antwortende Stimme hörte <br></I>",
         "type": "scatter",
         "x": [
          6007,
          6045
         ],
         "y": [
          "Alina_se_anno_Verwandlung_Kap1",
          "Alina_se_anno_Verwandlung_Kap1"
         ]
        },
        {
         "legendgroup": "character_sound",
         "marker": {
          "color": "#A64B21"
         },
         "mode": "lines+markers",
         "name": "character_sound",
         "showlegend": false,
         "text": "<I><br>in die sich aber, wie von unten her, ein nicht<br>zu unterdrückendes, schmerzliches Piepsen mischte <br></I>",
         "type": "scatter",
         "x": [
          6088,
          6185
         ],
         "y": [
          "Alina_se_anno_Verwandlung_Kap1",
          "Alina_se_anno_Verwandlung_Kap1"
         ]
        },
        {
         "legendgroup": "character_sound",
         "marker": {
          "color": "#A64B21"
         },
         "mode": "lines+markers",
         "name": "character_sound",
         "showlegend": false,
         "text": "<I><br>um sie im Nachklang derart zu zerstören, daß man nicht<br>wußte, ob man recht gehört hatte <br></I>",
         "type": "scatter",
         "x": [
          6265,
          6353
         ],
         "y": [
          "Alina_se_anno_Verwandlung_Kap1",
          "Alina_se_anno_Verwandlung_Kap1"
         ]
        },
        {
         "legendgroup": "character_sound",
         "marker": {
          "color": "#A64B21"
         },
         "mode": "lines+markers",
         "name": "character_sound",
         "showlegend": false,
         "text": "<I><br>beschränkte sich aber bei diesen Umständen darauf, zu sagen <br></I>",
         "type": "scatter",
         "x": [
          6417,
          6477
         ],
         "y": [
          "Alina_se_anno_Verwandlung_Kap1",
          "Alina_se_anno_Verwandlung_Kap1"
         ]
        },
        {
         "legendgroup": "character_sound",
         "marker": {
          "color": "#A64B21"
         },
         "mode": "lines+markers",
         "name": "character_sound",
         "showlegend": false,
         "text": "<I><br>und schlürfte davon <br></I>",
         "type": "scatter",
         "x": [
          6668,
          6688
         ],
         "y": [
          "Alina_se_anno_Verwandlung_Kap1",
          "Alina_se_anno_Verwandlung_Kap1"
         ]
        },
        {
         "legendgroup": "character_sound",
         "marker": {
          "color": "#A64B21"
         },
         "mode": "lines+markers",
         "name": "character_sound",
         "showlegend": false,
         "text": "<I><br>Aber durch das kleine Gespräch waren die anderen Familienmitglieder darauf<br>aufmerksam geworden <br></I>",
         "type": "scatter",
         "x": [
          6690,
          6785
         ],
         "y": [
          "Alina_se_anno_Verwandlung_Kap1",
          "Alina_se_anno_Verwandlung_Kap1"
         ]
        },
        {
         "legendgroup": "character_sound",
         "marker": {
          "color": "#A64B21"
         },
         "mode": "lines+markers",
         "name": "character_sound",
         "showlegend": false,
         "text": "<I><br>und schon klopfte an der einen Seitentür der Vater, schwach,<br>aber mit der Faust <br></I>",
         "type": "scatter",
         "x": [
          6832,
          6912
         ],
         "y": [
          "Alina_se_anno_Verwandlung_Kap1",
          "Alina_se_anno_Verwandlung_Kap1"
         ]
        },
        {
         "legendgroup": "character_sound",
         "marker": {
          "color": "#A64B21"
         },
         "mode": "lines+markers",
         "name": "character_sound",
         "showlegend": false,
         "text": "<I><br>rief er <br></I>",
         "type": "scatter",
         "x": [
          6935,
          6943
         ],
         "y": [
          "Alina_se_anno_Verwandlung_Kap1",
          "Alina_se_anno_Verwandlung_Kap1"
         ]
        },
        {
         "legendgroup": "character_sound",
         "marker": {
          "color": "#A64B21"
         },
         "mode": "lines+markers",
         "name": "character_sound",
         "showlegend": false,
         "text": "<I><br>Und nach einer kleinen Weile mahnte er nochmals mit tieferer<br>Stimme <br></I>",
         "type": "scatter",
         "x": [
          6964,
          7032
         ],
         "y": [
          "Alina_se_anno_Verwandlung_Kap1",
          "Alina_se_anno_Verwandlung_Kap1"
         ]
        },
        {
         "legendgroup": "character_sound",
         "marker": {
          "color": "#A64B21"
         },
         "mode": "lines+markers",
         "name": "character_sound",
         "showlegend": false,
         "text": "<I><br>An der anderen Seitentür aber klagte leise die Schwester <br></I>",
         "type": "scatter",
         "x": [
          7055,
          7112
         ],
         "y": [
          "Alina_se_anno_Verwandlung_Kap1",
          "Alina_se_anno_Verwandlung_Kap1"
         ]
        },
        {
         "legendgroup": "character_sound",
         "marker": {
          "color": "#A64B21"
         },
         "mode": "lines+markers",
         "name": "character_sound",
         "showlegend": false,
         "text": "<I><br>Nach beiden Seiten hin antwortete Gregor <br></I>",
         "type": "scatter",
         "x": [
          7166,
          7207
         ],
         "y": [
          "Alina_se_anno_Verwandlung_Kap1",
          "Alina_se_anno_Verwandlung_Kap1"
         ]
        },
        {
         "legendgroup": "character_sound",
         "marker": {
          "color": "#A64B21"
         },
         "mode": "lines+markers",
         "name": "character_sound",
         "showlegend": false,
         "text": "<I><br>bemühte sich, durch die sorgfältigste Aussprache und durch Einschaltung von<br>langen Pausen zwischen den einzelnen Worten seiner Stimme alles Auffallende<br>zu nehmen <br></I>",
         "type": "scatter",
         "x": [
          7232,
          7394
         ],
         "y": [
          "Alina_se_anno_Verwandlung_Kap1",
          "Alina_se_anno_Verwandlung_Kap1"
         ]
        },
        {
         "legendgroup": "character_sound",
         "marker": {
          "color": "#A64B21"
         },
         "mode": "lines+markers",
         "name": "character_sound",
         "showlegend": false,
         "text": "<I><br>die Schwester aber flüsterte <br></I>",
         "type": "scatter",
         "x": [
          7446,
          7475
         ],
         "y": [
          "Alina_se_anno_Verwandlung_Kap1",
          "Alina_se_anno_Verwandlung_Kap1"
         ]
        },
        {
         "legendgroup": "character_sound",
         "marker": {
          "color": "#A64B21"
         },
         "mode": "lines+markers",
         "name": "character_sound",
         "showlegend": false,
         "text": "<I><br>schlug an den unteren Bettpfosten heftig an <br></I>",
         "type": "scatter",
         "x": [
          9485,
          9529
         ],
         "y": [
          "Alina_se_anno_Verwandlung_Kap1",
          "Alina_se_anno_Verwandlung_Kap1"
         ]
        },
        {
         "legendgroup": "character_sound",
         "marker": {
          "color": "#A64B21"
         },
         "mode": "lines+markers",
         "name": "character_sound",
         "showlegend": false,
         "text": "<I><br>Aber als er wieder nach gleicher Mühe aufseufzend so dalag<br>wie früher <br></I>",
         "type": "scatter",
         "x": [
          10283,
          10353
         ],
         "y": [
          "Alina_se_anno_Verwandlung_Kap1",
          "Alina_se_anno_Verwandlung_Kap1"
         ]
        },
        {
         "legendgroup": "ambient_sound",
         "marker": {
          "color": "#093658"
         },
         "mode": "lines+markers",
         "name": "ambient_sound",
         "showlegend": false,
         "text": "<I><br>beim neuerlichen Schlagen des Weckers <br></I>",
         "type": "scatter",
         "x": [
          11113,
          11151
         ],
         "y": [
          "Alina_se_anno_Verwandlung_Kap1",
          "Alina_se_anno_Verwandlung_Kap1"
         ]
        },
        {
         "legendgroup": "character_sound",
         "marker": {
          "color": "#A64B21"
         },
         "mode": "lines+markers",
         "name": "character_sound",
         "showlegend": false,
         "text": "<I><br>Und ein Weilchen lang lag er ruhig mit schwachem Atem<br><br></I>",
         "type": "scatter",
         "x": [
          11209,
          11263
         ],
         "y": [
          "Alina_se_anno_Verwandlung_Kap1",
          "Alina_se_anno_Verwandlung_Kap1"
         ]
        },
        {
         "legendgroup": "ambient_sound",
         "marker": {
          "color": "#093658"
         },
         "mode": "lines+markers",
         "name": "ambient_sound",
         "showlegend": false,
         "text": "<I><br>als erwarte er vielleicht von der völligen Stille die Wiederkehr<br>der wirklichen und selbstverständlichen Verhältnisse <br></I>",
         "type": "scatter",
         "x": [
          11265,
          11383
         ],
         "y": [
          "Alina_se_anno_Verwandlung_Kap1",
          "Alina_se_anno_Verwandlung_Kap1"
         ]
        },
        {
         "legendgroup": "ambient_sound",
         "marker": {
          "color": "#093658"
         },
         "mode": "lines+markers",
         "name": "ambient_sound",
         "showlegend": false,
         "text": "<I><br>als es an der Wohnungstür läutete <br></I>",
         "type": "scatter",
         "x": [
          13166,
          13200
         ],
         "y": [
          "Alina_se_anno_Verwandlung_Kap1",
          "Alina_se_anno_Verwandlung_Kap1"
         ]
        },
        {
         "legendgroup": "ambient_sound",
         "marker": {
          "color": "#093658"
         },
         "mode": "lines+markers",
         "name": "ambient_sound",
         "showlegend": false,
         "text": "<I><br>Einen Augenblick blieb alles still <br></I>",
         "type": "scatter",
         "x": [
          13324,
          13359
         ],
         "y": [
          "Alina_se_anno_Verwandlung_Kap1",
          "Alina_se_anno_Verwandlung_Kap1"
         ]
        },
        {
         "legendgroup": "character_sound",
         "marker": {
          "color": "#A64B21"
         },
         "mode": "lines+markers",
         "name": "character_sound",
         "showlegend": false,
         "text": "<I><br>Gregor brauchte nur das erste Grußwort des Besuchers zu hören<br><br></I>",
         "type": "scatter",
         "x": [
          13539,
          13601
         ],
         "y": [
          "Alina_se_anno_Verwandlung_Kap1",
          "Alina_se_anno_Verwandlung_Kap1"
         ]
        },
        {
         "legendgroup": "character_sound",
         "marker": {
          "color": "#A64B21"
         },
         "mode": "lines+markers",
         "name": "character_sound",
         "showlegend": false,
         "text": "<I><br>Es gab einen lauten Schlag <br></I>",
         "type": "scatter",
         "x": [
          14585,
          14612
         ],
         "y": [
          "Alina_se_anno_Verwandlung_Kap1",
          "Alina_se_anno_Verwandlung_Kap1"
         ]
        },
        {
         "legendgroup": "character_sound",
         "marker": {
          "color": "#A64B21"
         },
         "mode": "lines+markers",
         "name": "character_sound",
         "showlegend": false,
         "text": "<I><br>daher kam der nicht gar so auffallende dumpfe Klang <br></I>",
         "type": "scatter",
         "x": [
          14772,
          14824
         ],
         "y": [
          "Alina_se_anno_Verwandlung_Kap1",
          "Alina_se_anno_Verwandlung_Kap1"
         ]
        },
        {
         "legendgroup": "character_sound",
         "marker": {
          "color": "#A64B21"
         },
         "mode": "lines+markers",
         "name": "character_sound",
         "showlegend": false,
         "text": "<I><br>sagte der Prokurist im Nebenzimmer links <br></I>",
         "type": "scatter",
         "x": [
          15000,
          15041
         ],
         "y": [
          "Alina_se_anno_Verwandlung_Kap1",
          "Alina_se_anno_Verwandlung_Kap1"
         ]
        },
        {
         "legendgroup": "character_sound",
         "marker": {
          "color": "#A64B21"
         },
         "mode": "lines+markers",
         "name": "character_sound",
         "showlegend": false,
         "text": "<I><br>und ließ seine Lackstiefel knarren <br></I>",
         "type": "scatter",
         "x": [
          15333,
          15368
         ],
         "y": [
          "Alina_se_anno_Verwandlung_Kap1",
          "Alina_se_anno_Verwandlung_Kap1"
         ]
        },
        {
         "legendgroup": "character_sound",
         "marker": {
          "color": "#A64B21"
         },
         "mode": "lines+markers",
         "name": "character_sound",
         "showlegend": false,
         "text": "<I><br>Aus dem Nebenzimmer rechts flüsterte die Schwester <br></I>",
         "type": "scatter",
         "x": [
          15370,
          15421
         ],
         "y": [
          "Alina_se_anno_Verwandlung_Kap1",
          "Alina_se_anno_Verwandlung_Kap1"
         ]
        },
        {
         "legendgroup": "character_sound",
         "marker": {
          "color": "#A64B21"
         },
         "mode": "lines+markers",
         "name": "character_sound",
         "showlegend": false,
         "text": "<I><br>sagte nun der Vater aus dem Nebenzimmer links <br></I>",
         "type": "scatter",
         "x": [
          15633,
          15679
         ],
         "y": [
          "Alina_se_anno_Verwandlung_Kap1",
          "Alina_se_anno_Verwandlung_Kap1"
         ]
        },
        {
         "legendgroup": "character_sound",
         "marker": {
          "color": "#A64B21"
         },
         "mode": "lines+markers",
         "name": "character_sound",
         "showlegend": false,
         "text": "<I><br>und erkundigt sich <br></I>",
         "type": "scatter",
         "x": [
          15715,
          15734
         ],
         "y": [
          "Alina_se_anno_Verwandlung_Kap1",
          "Alina_se_anno_Verwandlung_Kap1"
         ]
        },
        {
         "legendgroup": "character_sound",
         "marker": {
          "color": "#A64B21"
         },
         "mode": "lines+markers",
         "name": "character_sound",
         "showlegend": false,
         "text": "<I><br>rief der Prokurist freundlich dazwischen <br></I>",
         "type": "scatter",
         "x": [
          16014,
          16055
         ],
         "y": [
          "Alina_se_anno_Verwandlung_Kap1",
          "Alina_se_anno_Verwandlung_Kap1"
         ]
        },
        {
         "legendgroup": "character_sound",
         "marker": {
          "color": "#A64B21"
         },
         "mode": "lines+markers",
         "name": "character_sound",
         "showlegend": false,
         "text": "<I><br>sagte die Mutter zum Prokuristen <br></I>",
         "type": "scatter",
         "x": [
          16082,
          16115
         ],
         "y": [
          "Alina_se_anno_Verwandlung_Kap1",
          "Alina_se_anno_Verwandlung_Kap1"
         ]
        },
        {
         "legendgroup": "character_sound",
         "marker": {
          "color": "#A64B21"
         },
         "mode": "lines+markers",
         "name": "character_sound",
         "showlegend": false,
         "text": "<I><br>während der Vater noch an der Tür redete <br></I>",
         "type": "scatter",
         "x": [
          16117,
          16158
         ],
         "y": [
          "Alina_se_anno_Verwandlung_Kap1",
          "Alina_se_anno_Verwandlung_Kap1"
         ]
        },
        {
         "legendgroup": "character_sound",
         "marker": {
          "color": "#A64B21"
         },
         "mode": "lines+markers",
         "name": "character_sound",
         "showlegend": false,
         "text": "<I><br>und liest still die Zeitung <br></I>",
         "type": "scatter",
         "x": [
          16478,
          16506
         ],
         "y": [
          "Alina_se_anno_Verwandlung_Kap1",
          "Alina_se_anno_Verwandlung_Kap1"
         ]
        },
        {
         "legendgroup": "character_sound",
         "marker": {
          "color": "#A64B21"
         },
         "mode": "lines+markers",
         "name": "character_sound",
         "showlegend": false,
         "text": "<I><br>sagte Gregor langsam und bedächtig <br></I>",
         "type": "scatter",
         "x": [
          17067,
          17102
         ],
         "y": [
          "Alina_se_anno_Verwandlung_Kap1",
          "Alina_se_anno_Verwandlung_Kap1"
         ]
        },
        {
         "legendgroup": "character_sound",
         "marker": {
          "color": "#A64B21"
         },
         "mode": "lines+markers",
         "name": "character_sound",
         "showlegend": false,
         "text": "<I><br>sagte der Prokurist <br></I>",
         "type": "scatter",
         "x": [
          17231,
          17251
         ],
         "y": [
          "Alina_se_anno_Verwandlung_Kap1",
          "Alina_se_anno_Verwandlung_Kap1"
         ]
        },
        {
         "legendgroup": "character_sound",
         "marker": {
          "color": "#A64B21"
         },
         "mode": "lines+markers",
         "name": "character_sound",
         "showlegend": false,
         "text": "<I><br>fragte der ungeduldige Vater <br></I>",
         "type": "scatter",
         "x": [
          17547,
          17576
         ],
         "y": [
          "Alina_se_anno_Verwandlung_Kap1",
          "Alina_se_anno_Verwandlung_Kap1"
         ]
        },
        {
         "legendgroup": "character_sound",
         "marker": {
          "color": "#A64B21"
         },
         "mode": "lines+markers",
         "name": "character_sound",
         "showlegend": false,
         "text": "<I><br>und klopfte wiederum an die Tür <br></I>",
         "type": "scatter",
         "x": [
          17576,
          17608
         ],
         "y": [
          "Alina_se_anno_Verwandlung_Kap1",
          "Alina_se_anno_Verwandlung_Kap1"
         ]
        },
        {
         "legendgroup": "character_sound",
         "marker": {
          "color": "#A64B21"
         },
         "mode": "lines+markers",
         "name": "character_sound",
         "showlegend": false,
         "text": "<I><br>sagte Gregor <br></I>",
         "type": "scatter",
         "x": [
          17621,
          17634
         ],
         "y": [
          "Alina_se_anno_Verwandlung_Kap1",
          "Alina_se_anno_Verwandlung_Kap1"
         ]
        },
        {
         "legendgroup": "ambient_sound",
         "marker": {
          "color": "#093658"
         },
         "mode": "lines+markers",
         "name": "ambient_sound",
         "showlegend": false,
         "text": "<I><br>Im Nebenzimmer links trat eine peinliche Stille ein <br></I>",
         "type": "scatter",
         "x": [
          17636,
          17688
         ],
         "y": [
          "Alina_se_anno_Verwandlung_Kap1",
          "Alina_se_anno_Verwandlung_Kap1"
         ]
        },
        {
         "legendgroup": "character_sound",
         "marker": {
          "color": "#A64B21"
         },
         "mode": "lines+markers",
         "name": "character_sound",
         "showlegend": false,
         "text": "<I><br>im Nebenzimmer rechts begann die Schwester zu schluchzen <br></I>",
         "type": "scatter",
         "x": [
          17690,
          17747
         ],
         "y": [
          "Alina_se_anno_Verwandlung_Kap1",
          "Alina_se_anno_Verwandlung_Kap1"
         ]
        },
        {
         "legendgroup": "character_sound",
         "marker": {
          "color": "#A64B21"
         },
         "mode": "lines+markers",
         "name": "character_sound",
         "showlegend": false,
         "text": "<I><br>Und warum weinte sie denn <br></I>",
         "type": "scatter",
         "x": [
          17904,
          17930
         ],
         "y": [
          "Alina_se_anno_Verwandlung_Kap1",
          "Alina_se_anno_Verwandlung_Kap1"
         ]
        },
        {
         "legendgroup": "character_sound",
         "marker": {
          "color": "#A64B21"
         },
         "mode": "lines+markers",
         "name": "character_sound",
         "showlegend": false,
         "text": "<I><br>rief nun der Prokurist mit erhobener Stimme <br></I>",
         "type": "scatter",
         "x": [
          18824,
          18868
         ],
         "y": [
          "Alina_se_anno_Verwandlung_Kap1",
          "Alina_se_anno_Verwandlung_Kap1"
         ]
        },
        {
         "legendgroup": "character_sound",
         "marker": {
          "color": "#A64B21"
         },
         "mode": "lines+markers",
         "name": "character_sound",
         "showlegend": false,
         "text": "<I><br>antworten bloß mit Ja und Nein <br></I>",
         "type": "scatter",
         "x": [
          18936,
          18967
         ],
         "y": [
          "Alina_se_anno_Verwandlung_Kap1",
          "Alina_se_anno_Verwandlung_Kap1"
         ]
        },
        {
         "legendgroup": "character_sound",
         "marker": {
          "color": "#A64B21"
         },
         "mode": "lines+markers",
         "name": "character_sound",
         "showlegend": false,
         "text": "<I><br>Ich spreche hier im Namen Ihrer Eltern und Ihres Chefs<br><br></I>",
         "type": "scatter",
         "x": [
          19126,
          19181
         ],
         "y": [
          "Alina_se_anno_Verwandlung_Kap1",
          "Alina_se_anno_Verwandlung_Kap1"
         ]
        },
        {
         "legendgroup": "character_sound",
         "marker": {
          "color": "#A64B21"
         },
         "mode": "lines+markers",
         "name": "character_sound",
         "showlegend": false,
         "text": "<I><br>bitte Sie ganz ernsthaft um eine augenblickliche, deutliche Erklärung <br></I>",
         "type": "scatter",
         "x": [
          19186,
          19256
         ],
         "y": [
          "Alina_se_anno_Verwandlung_Kap1",
          "Alina_se_anno_Verwandlung_Kap1"
         ]
        },
        {
         "legendgroup": "character_sound",
         "marker": {
          "color": "#A64B21"
         },
         "mode": "lines+markers",
         "name": "character_sound",
         "showlegend": false,
         "text": "<I><br>Der Chef deutete mir zwar heute früh eine mögliche Erklärung<br>für Ihre Versäumnis an <br></I>",
         "type": "scatter",
         "x": [
          19439,
          19523
         ],
         "y": [
          "Alina_se_anno_Verwandlung_Kap1",
          "Alina_se_anno_Verwandlung_Kap1"
         ]
        },
        {
         "legendgroup": "character_sound",
         "marker": {
          "color": "#A64B21"
         },
         "mode": "lines+markers",
         "name": "character_sound",
         "showlegend": false,
         "text": "<I><br>aber ich legte wahrhaftig fast mein Ehrenwort dafür ein <br></I>",
         "type": "scatter",
         "x": [
          19582,
          19638
         ],
         "y": [
          "Alina_se_anno_Verwandlung_Kap1",
          "Alina_se_anno_Verwandlung_Kap1"
         ]
        },
        {
         "legendgroup": "character_sound",
         "marker": {
          "color": "#A64B21"
         },
         "mode": "lines+markers",
         "name": "character_sound",
         "showlegend": false,
         "text": "<I><br>rief Gregor außer sich <br></I>",
         "type": "scatter",
         "x": [
          20381,
          20404
         ],
         "y": [
          "Alina_se_anno_Verwandlung_Kap1",
          "Alina_se_anno_Verwandlung_Kap1"
         ]
        },
        {
         "legendgroup": "character_sound",
         "marker": {
          "color": "#A64B21"
         },
         "mode": "lines+markers",
         "name": "character_sound",
         "showlegend": false,
         "text": "<I><br>und kaum wußte, was er sprach <br></I>",
         "type": "scatter",
         "x": [
          21676,
          21706
         ],
         "y": [
          "Alina_se_anno_Verwandlung_Kap1",
          "Alina_se_anno_Verwandlung_Kap1"
         ]
        },
        {
         "legendgroup": "character_sound",
         "marker": {
          "color": "#A64B21"
         },
         "mode": "lines+markers",
         "name": "character_sound",
         "showlegend": false,
         "text": "<I><br>die jetzt so nach ihm verlangten <br></I>",
         "type": "scatter",
         "x": [
          21996,
          22029
         ],
         "y": [
          "Alina_se_anno_Verwandlung_Kap1",
          "Alina_se_anno_Verwandlung_Kap1"
         ]
        },
        {
         "legendgroup": "character_sound",
         "marker": {
          "color": "#A64B21"
         },
         "mode": "lines+markers",
         "name": "character_sound",
         "showlegend": false,
         "text": "<I><br>und verstummte <br></I>",
         "type": "scatter",
         "x": [
          22717,
          22732
         ],
         "y": [
          "Alina_se_anno_Verwandlung_Kap1",
          "Alina_se_anno_Verwandlung_Kap1"
         ]
        },
        {
         "legendgroup": "character_sound",
         "marker": {
          "color": "#A64B21"
         },
         "mode": "lines+markers",
         "name": "character_sound",
         "showlegend": false,
         "text": "<I><br>fragte der Prokurist die Eltern <br></I>",
         "type": "scatter",
         "x": [
          22823,
          22855
         ],
         "y": [
          "Alina_se_anno_Verwandlung_Kap1",
          "Alina_se_anno_Verwandlung_Kap1"
         ]
        },
        {
         "legendgroup": "character_sound",
         "marker": {
          "color": "#A64B21"
         },
         "mode": "lines+markers",
         "name": "character_sound",
         "showlegend": false,
         "text": "<I><br>rief die Mutter schon unter Weinen <br></I>",
         "type": "scatter",
         "x": [
          22937,
          22972
         ],
         "y": [
          "Alina_se_anno_Verwandlung_Kap1",
          "Alina_se_anno_Verwandlung_Kap1"
         ]
        },
        {
         "legendgroup": "character_sound",
         "marker": {
          "color": "#A64B21"
         },
         "mode": "lines+markers",
         "name": "character_sound",
         "showlegend": false,
         "text": "<I><br>schrie sie dann <br></I>",
         "type": "scatter",
         "x": [
          23044,
          23060
         ],
         "y": [
          "Alina_se_anno_Verwandlung_Kap1",
          "Alina_se_anno_Verwandlung_Kap1"
         ]
        },
        {
         "legendgroup": "character_sound",
         "marker": {
          "color": "#A64B21"
         },
         "mode": "lines+markers",
         "name": "character_sound",
         "showlegend": false,
         "text": "<I><br>rief die Schwester von der anderen Seite <br></I>",
         "type": "scatter",
         "x": [
          23075,
          23116
         ],
         "y": [
          "Alina_se_anno_Verwandlung_Kap1",
          "Alina_se_anno_Verwandlung_Kap1"
         ]
        },
        {
         "legendgroup": "character_sound",
         "marker": {
          "color": "#A64B21"
         },
         "mode": "lines+markers",
         "name": "character_sound",
         "showlegend": false,
         "text": "<I><br>Sie verständigten sich durch Gregors Zimmer <br></I>",
         "type": "scatter",
         "x": [
          23118,
          23162
         ],
         "y": [
          "Alina_se_anno_Verwandlung_Kap1",
          "Alina_se_anno_Verwandlung_Kap1"
         ]
        },
        {
         "legendgroup": "character_sound",
         "marker": {
          "color": "#A64B21"
         },
         "mode": "lines+markers",
         "name": "character_sound",
         "showlegend": false,
         "text": "<I><br>sagte der Prokurist, auffallend leise gegenüber dem Schreien der Mutter<br><br></I>",
         "type": "scatter",
         "x": [
          23303,
          23375
         ],
         "y": [
          "Alina_se_anno_Verwandlung_Kap1",
          "Alina_se_anno_Verwandlung_Kap1"
         ]
        },
        {
         "legendgroup": "character_sound",
         "marker": {
          "color": "#A64B21"
         },
         "mode": "lines+markers",
         "name": "character_sound",
         "showlegend": false,
         "text": "<I><br>rief der Vater durch das Vorzimmer in die Küche <br></I>",
         "type": "scatter",
         "x": [
          23394,
          23442
         ],
         "y": [
          "Alina_se_anno_Verwandlung_Kap1",
          "Alina_se_anno_Verwandlung_Kap1"
         ]
        },
        {
         "legendgroup": "character_sound",
         "marker": {
          "color": "#A64B21"
         },
         "mode": "lines+markers",
         "name": "character_sound",
         "showlegend": false,
         "text": "<I><br>und klatschte in die Hände <br></I>",
         "type": "scatter",
         "x": [
          23442,
          23469
         ],
         "y": [
          "Alina_se_anno_Verwandlung_Kap1",
          "Alina_se_anno_Verwandlung_Kap1"
         ]
        },
        {
         "legendgroup": "character_sound",
         "marker": {
          "color": "#A64B21"
         },
         "mode": "lines+markers",
         "name": "character_sound",
         "showlegend": false,
         "text": "<I><br>Gregor war aber viel ruhiger geworden <br></I>",
         "type": "scatter",
         "x": [
          23832,
          23870
         ],
         "y": [
          "Alina_se_anno_Verwandlung_Kap1",
          "Alina_se_anno_Verwandlung_Kap1"
         ]
        },
        {
         "legendgroup": "character_sound",
         "marker": {
          "color": "#A64B21"
         },
         "mode": "lines+markers",
         "name": "character_sound",
         "showlegend": false,
         "text": "<I><br>hustete er ein wenig ab, allerdings bemüht, dies ganz gedämpft<br>zu tun <br></I>",
         "type": "scatter",
         "x": [
          24540,
          24610
         ],
         "y": [
          "Alina_se_anno_Verwandlung_Kap1",
          "Alina_se_anno_Verwandlung_Kap1"
         ]
        },
        {
         "legendgroup": "character_sound",
         "marker": {
          "color": "#A64B21"
         },
         "mode": "lines+markers",
         "name": "character_sound",
         "showlegend": false,
         "text": "<I><br>da möglicherweise auch schon dieses Geräusch anders als menschlicher Husten<br>klang <br></I>",
         "type": "scatter",
         "x": [
          24612,
          24694
         ],
         "y": [
          "Alina_se_anno_Verwandlung_Kap1",
          "Alina_se_anno_Verwandlung_Kap1"
         ]
        },
        {
         "legendgroup": "ambient_sound",
         "marker": {
          "color": "#093658"
         },
         "mode": "lines+markers",
         "name": "ambient_sound",
         "showlegend": false,
         "text": "<I><br>Im Nebenzimmer war es inzwischen ganz still geworden <br></I>",
         "type": "scatter",
         "x": [
          24751,
          24804
         ],
         "y": [
          "Alina_se_anno_Verwandlung_Kap1",
          "Alina_se_anno_Verwandlung_Kap1"
         ]
        },
        {
         "legendgroup": "character_sound",
         "marker": {
          "color": "#A64B21"
         },
         "mode": "lines+markers",
         "name": "character_sound",
         "showlegend": false,
         "text": "<I><br>sagte der Prokurist im Nebenzimmer <br></I>",
         "type": "scatter",
         "x": [
          25683,
          25718
         ],
         "y": [
          "Alina_se_anno_Verwandlung_Kap1",
          "Alina_se_anno_Verwandlung_Kap1"
         ]
        },
        {
         "legendgroup": "ambient_sound",
         "marker": {
          "color": "#093658"
         },
         "mode": "lines+markers",
         "name": "ambient_sound",
         "showlegend": false,
         "text": "<I><br>Der hellere Klang des endlich zurückschnappenden Schlosses erweckte Gregor förmlich<br><br></I>",
         "type": "scatter",
         "x": [
          26372,
          26456
         ],
         "y": [
          "Alina_se_anno_Verwandlung_Kap1",
          "Alina_se_anno_Verwandlung_Kap1"
         ]
        },
        {
         "legendgroup": "character_sound",
         "marker": {
          "color": "#A64B21"
         },
         "mode": "lines+markers",
         "name": "character_sound",
         "showlegend": false,
         "text": "<I><br>da hörte er schon den Prokuristen ein lautes » Oh!<br>« ausstoßen <br></I>",
         "type": "scatter",
         "x": [
          26999,
          27063
         ],
         "y": [
          "Alina_se_anno_Verwandlung_Kap1",
          "Alina_se_anno_Verwandlung_Kap1"
         ]
        },
        {
         "legendgroup": "character_sound",
         "marker": {
          "color": "#A64B21"
         },
         "mode": "lines+markers",
         "name": "character_sound",
         "showlegend": false,
         "text": "<I><br>es klang, wie wenn der Wind saust <br></I>",
         "type": "scatter",
         "x": [
          27066,
          27100
         ],
         "y": [
          "Alina_se_anno_Verwandlung_Kap1",
          "Alina_se_anno_Verwandlung_Kap1"
         ]
        },
        {
         "legendgroup": "character_sound",
         "marker": {
          "color": "#A64B21"
         },
         "mode": "lines+markers",
         "name": "character_sound",
         "showlegend": false,
         "text": "<I><br>und weinte <br></I>",
         "type": "scatter",
         "x": [
          27839,
          27850
         ],
         "y": [
          "Alina_se_anno_Verwandlung_Kap1",
          "Alina_se_anno_Verwandlung_Kap1"
         ]
        },
        {
         "legendgroup": "character_sound",
         "marker": {
          "color": "#A64B21"
         },
         "mode": "lines+markers",
         "name": "character_sound",
         "showlegend": false,
         "text": "<I><br>sagte Gregor <br></I>",
         "type": "scatter",
         "x": [
          29108,
          29121
         ],
         "y": [
          "Alina_se_anno_Verwandlung_Kap1",
          "Alina_se_anno_Verwandlung_Kap1"
         ]
        },
        {
         "legendgroup": "character_sound",
         "marker": {
          "color": "#A64B21"
         },
         "mode": "lines+markers",
         "name": "character_sound",
         "showlegend": false,
         "text": "<I><br>sie hatte schon geweint <br></I>",
         "type": "scatter",
         "x": [
          32687,
          32711
         ],
         "y": [
          "Alina_se_anno_Verwandlung_Kap1",
          "Alina_se_anno_Verwandlung_Kap1"
         ]
        },
        {
         "legendgroup": "character_sound",
         "marker": {
          "color": "#A64B21"
         },
         "mode": "lines+markers",
         "name": "character_sound",
         "showlegend": false,
         "text": "<I><br>als Gregor noch ruhig auf dem Rücken lag <br></I>",
         "type": "scatter",
         "x": [
          32713,
          32754
         ],
         "y": [
          "Alina_se_anno_Verwandlung_Kap1",
          "Alina_se_anno_Verwandlung_Kap1"
         ]
        },
        {
         "legendgroup": "character_sound",
         "marker": {
          "color": "#A64B21"
         },
         "mode": "lines+markers",
         "name": "character_sound",
         "showlegend": false,
         "text": "<I><br>fiel aber sofort, nach einem Halt suchend, mit einem kleinen<br>Schrei seine vielen Beinchen nieder <br></I>",
         "type": "scatter",
         "x": [
          33384,
          33481
         ],
         "y": [
          "Alina_se_anno_Verwandlung_Kap1",
          "Alina_se_anno_Verwandlung_Kap1"
         ]
        },
        {
         "legendgroup": "character_sound",
         "marker": {
          "color": "#A64B21"
         },
         "mode": "lines+markers",
         "name": "character_sound",
         "showlegend": false,
         "text": "<I><br>rief <br></I>",
         "type": "scatter",
         "x": [
          34120,
          34125
         ],
         "y": [
          "Alina_se_anno_Verwandlung_Kap1",
          "Alina_se_anno_Verwandlung_Kap1"
         ]
        },
        {
         "legendgroup": "character_sound",
         "marker": {
          "color": "#A64B21"
         },
         "mode": "lines+markers",
         "name": "character_sound",
         "showlegend": false,
         "text": "<I><br>sagte Gregor leise und sah zu ihr hinauf <br></I>",
         "type": "scatter",
         "x": [
          34569,
          34610
         ],
         "y": [
          "Alina_se_anno_Verwandlung_Kap1",
          "Alina_se_anno_Verwandlung_Kap1"
         ]
        },
        {
         "legendgroup": "character_sound",
         "marker": {
          "color": "#A64B21"
         },
         "mode": "lines+markers",
         "name": "character_sound",
         "showlegend": false,
         "text": "<I><br>Darüber schrie die Mutter neuerdings auf <br></I>",
         "type": "scatter",
         "x": [
          34805,
          34846
         ],
         "y": [
          "Alina_se_anno_Verwandlung_Kap1",
          "Alina_se_anno_Verwandlung_Kap1"
         ]
        },
        {
         "legendgroup": "character_sound",
         "marker": {
          "color": "#A64B21"
         },
         "mode": "lines+markers",
         "name": "character_sound",
         "showlegend": false,
         "text": "<I><br>aber schrie er noch <br></I>",
         "type": "scatter",
         "x": [
          35246,
          35266
         ],
         "y": [
          "Alina_se_anno_Verwandlung_Kap1",
          "Alina_se_anno_Verwandlung_Kap1"
         ]
        },
        {
         "legendgroup": "character_sound",
         "marker": {
          "color": "#A64B21"
         },
         "mode": "lines+markers",
         "name": "character_sound",
         "showlegend": false,
         "text": "<I><br>es klang durchs ganze Treppenhaus <br></I>",
         "type": "scatter",
         "x": [
          35268,
          35302
         ],
         "y": [
          "Alina_se_anno_Verwandlung_Kap1",
          "Alina_se_anno_Verwandlung_Kap1"
         ]
        },
        {
         "legendgroup": "character_sound",
         "marker": {
          "color": "#A64B21"
         },
         "mode": "lines+markers",
         "name": "character_sound",
         "showlegend": false,
         "text": "<I><br>und machte sich unter Füßestampfen daran <br></I>",
         "type": "scatter",
         "x": [
          35717,
          35758
         ],
         "y": [
          "Alina_se_anno_Verwandlung_Kap1",
          "Alina_se_anno_Verwandlung_Kap1"
         ]
        },
        {
         "legendgroup": "character_sound",
         "marker": {
          "color": "#A64B21"
         },
         "mode": "lines+markers",
         "name": "character_sound",
         "showlegend": false,
         "text": "<I><br>Kein Bitten Gregors half <br></I>",
         "type": "scatter",
         "x": [
          35843,
          35868
         ],
         "y": [
          "Alina_se_anno_Verwandlung_Kap1",
          "Alina_se_anno_Verwandlung_Kap1"
         ]
        },
        {
         "legendgroup": "character_sound",
         "marker": {
          "color": "#A64B21"
         },
         "mode": "lines+markers",
         "name": "character_sound",
         "showlegend": false,
         "text": "<I><br>der Vater stampfte nur stärker mit den Füßen <br></I>",
         "type": "scatter",
         "x": [
          35948,
          35993
         ],
         "y": [
          "Alina_se_anno_Verwandlung_Kap1",
          "Alina_se_anno_Verwandlung_Kap1"
         ]
        },
        {
         "legendgroup": "ambient_sound",
         "marker": {
          "color": "#093658"
         },
         "mode": "lines+markers",
         "name": "ambient_sound",
         "showlegend": false,
         "text": "<I><br>die Zeitungen auf dem Tische rauschten <br></I>",
         "type": "scatter",
         "x": [
          36247,
          36286
         ],
         "y": [
          "Alina_se_anno_Verwandlung_Kap1",
          "Alina_se_anno_Verwandlung_Kap1"
         ]
        },
        {
         "legendgroup": "character_sound",
         "marker": {
          "color": "#A64B21"
         },
         "mode": "lines+markers",
         "name": "character_sound",
         "showlegend": false,
         "text": "<I><br>und stieß Zischlaute aus <br></I>",
         "type": "scatter",
         "x": [
          36363,
          36388
         ],
         "y": [
          "Alina_se_anno_Verwandlung_Kap1",
          "Alina_se_anno_Verwandlung_Kap1"
         ]
        },
        {
         "legendgroup": "character_sound",
         "marker": {
          "color": "#A64B21"
         },
         "mode": "lines+markers",
         "name": "character_sound",
         "showlegend": false,
         "text": "<I><br>Wenn nur nicht dieses unerträgliche Zischen des Vaters gewesen wäre<br><br></I>",
         "type": "scatter",
         "x": [
          37300,
          37368
         ],
         "y": [
          "Alina_se_anno_Verwandlung_Kap1",
          "Alina_se_anno_Verwandlung_Kap1"
         ]
        },
        {
         "legendgroup": "character_sound",
         "marker": {
          "color": "#A64B21"
         },
         "mode": "lines+markers",
         "name": "character_sound",
         "showlegend": false,
         "text": "<I><br>immer auf dieses Zischen horchend <br></I>",
         "type": "scatter",
         "x": [
          37454,
          37488
         ],
         "y": [
          "Alina_se_anno_Verwandlung_Kap1",
          "Alina_se_anno_Verwandlung_Kap1"
         ]
        },
        {
         "legendgroup": "character_sound",
         "marker": {
          "color": "#A64B21"
         },
         "mode": "lines+markers",
         "name": "character_sound",
         "showlegend": false,
         "text": "<I><br>Vielmehr trieb er, als gäbe es kein Hindernis, Gregor jetzt<br>unter besonderem Lärm vorwärts <br></I>",
         "type": "scatter",
         "x": [
          38111,
          38202
         ],
         "y": [
          "Alina_se_anno_Verwandlung_Kap1",
          "Alina_se_anno_Verwandlung_Kap1"
         ]
        },
        {
         "legendgroup": "character_sound",
         "marker": {
          "color": "#A64B21"
         },
         "mode": "lines+markers",
         "name": "character_sound",
         "showlegend": false,
         "text": "<I><br>es klang schon hinter Gregor gar nicht mehr wie die<br>Stimme bloß eines einzigen Vaters <br></I>",
         "type": "scatter",
         "x": [
          38204,
          38290
         ],
         "y": [
          "Alina_se_anno_Verwandlung_Kap1",
          "Alina_se_anno_Verwandlung_Kap1"
         ]
        },
        {
         "legendgroup": "character_sound",
         "marker": {
          "color": "#A64B21"
         },
         "mode": "lines+markers",
         "name": "character_sound",
         "showlegend": false,
         "text": "<I><br>Die Tür wurde noch mit dem Stock zugeschlagen <br></I>",
         "type": "scatter",
         "x": [
          38878,
          38924
         ],
         "y": [
          "Alina_se_anno_Verwandlung_Kap1",
          "Alina_se_anno_Verwandlung_Kap1"
         ]
        },
        {
         "legendgroup": "ambient_sound",
         "marker": {
          "color": "#093658"
         },
         "mode": "lines+markers",
         "name": "ambient_sound",
         "showlegend": false,
         "text": "<I><br>dann war es endlich still <br></I>",
         "type": "scatter",
         "x": [
          38926,
          38952
         ],
         "y": [
          "Alina_se_anno_Verwandlung_Kap1",
          "Alina_se_anno_Verwandlung_Kap1"
         ]
        },
        {
         "legendgroup": "ambient_sound",
         "marker": {
          "color": "#093658"
         },
         "mode": "lines+markers",
         "name": "ambient_sound",
         "showlegend": false,
         "text": "<I><br>Sein Zimmer, ein richtiges, nur etwas zu kleines Menschenzimmer, lag<br>ruhig zwischen den vier wohlbekannten Wänden<br></I>",
         "type": "scatter",
         "x": [
          614,
          727
         ],
         "y": [
          "Svenja_se_anno_Verwandlung_Kap_1",
          "Svenja_se_anno_Verwandlung_Kap_1"
         ]
        },
        {
         "legendgroup": "ambient_sound",
         "marker": {
          "color": "#093658"
         },
         "mode": "lines+markers",
         "name": "ambient_sound",
         "showlegend": false,
         "text": "<I><br>die auf dem Kasten tickte<br></I>",
         "type": "scatter",
         "x": [
          4009,
          4034
         ],
         "y": [
          "Svenja_se_anno_Verwandlung_Kap_1",
          "Svenja_se_anno_Verwandlung_Kap_1"
         ]
        },
        {
         "legendgroup": "ambient_sound",
         "marker": {
          "color": "#093658"
         },
         "mode": "lines+markers",
         "name": "ambient_sound",
         "showlegend": false,
         "text": "<I><br>und die Zeiger gingen ruhig vorwärts<br></I>",
         "type": "scatter",
         "x": [
          4094,
          4130
         ],
         "y": [
          "Svenja_se_anno_Verwandlung_Kap_1",
          "Svenja_se_anno_Verwandlung_Kap_1"
         ]
        },
        {
         "legendgroup": "ambient_sound",
         "marker": {
          "color": "#093658"
         },
         "mode": "lines+markers",
         "name": "ambient_sound",
         "showlegend": false,
         "text": "<I><br>gewiß hatte er auch geläutet<br></I>",
         "type": "scatter",
         "x": [
          4302,
          4330
         ],
         "y": [
          "Svenja_se_anno_Verwandlung_Kap_1",
          "Svenja_se_anno_Verwandlung_Kap_1"
         ]
        },
        {
         "legendgroup": "ambient_sound",
         "marker": {
          "color": "#093658"
         },
         "mode": "lines+markers",
         "name": "ambient_sound",
         "showlegend": false,
         "text": "<I><br>gerade schlug der Wecker drei Viertel sieben<br></I>",
         "type": "scatter",
         "x": [
          5754,
          5798
         ],
         "y": [
          "Svenja_se_anno_Verwandlung_Kap_1",
          "Svenja_se_anno_Verwandlung_Kap_1"
         ]
        },
        {
         "legendgroup": "ambient_sound",
         "marker": {
          "color": "#093658"
         },
         "mode": "lines+markers",
         "name": "ambient_sound",
         "showlegend": false,
         "text": "<I><br>klopfte es vorsichtig an die Tür am Kopfende seines Bettes<br></I>",
         "type": "scatter",
         "x": [
          5803,
          5861
         ],
         "y": [
          "Svenja_se_anno_Verwandlung_Kap_1",
          "Svenja_se_anno_Verwandlung_Kap_1"
         ]
        },
        {
         "legendgroup": "character_sound",
         "marker": {
          "color": "#A64B21"
         },
         "mode": "lines+markers",
         "name": "character_sound",
         "showlegend": false,
         "text": "<I><br>rief es<br></I>",
         "type": "scatter",
         "x": [
          5877,
          5884
         ],
         "y": [
          "Svenja_se_anno_Verwandlung_Kap_1",
          "Svenja_se_anno_Verwandlung_Kap_1"
         ]
        },
        {
         "legendgroup": "character_sound",
         "marker": {
          "color": "#A64B21"
         },
         "mode": "lines+markers",
         "name": "character_sound",
         "showlegend": false,
         "text": "<I><br>Die sanfte Stimme<br></I>",
         "type": "scatter",
         "x": [
          5971,
          5988
         ],
         "y": [
          "Svenja_se_anno_Verwandlung_Kap_1",
          "Svenja_se_anno_Verwandlung_Kap_1"
         ]
        },
        {
         "legendgroup": "character_sound",
         "marker": {
          "color": "#A64B21"
         },
         "mode": "lines+markers",
         "name": "character_sound",
         "showlegend": false,
         "text": "<I><br>als er seine antwortende Stimme hörte<br></I>",
         "type": "scatter",
         "x": [
          6007,
          6044
         ],
         "y": [
          "Svenja_se_anno_Verwandlung_Kap_1",
          "Svenja_se_anno_Verwandlung_Kap_1"
         ]
        },
        {
         "legendgroup": "character_sound",
         "marker": {
          "color": "#A64B21"
         },
         "mode": "lines+markers",
         "name": "character_sound",
         "showlegend": false,
         "text": "<I><br>in die sich aber, wie von unten her, ein nicht<br>zu unterdrückendes, schmerzliches Piepsen mischte<br></I>",
         "type": "scatter",
         "x": [
          6088,
          6184
         ],
         "y": [
          "Svenja_se_anno_Verwandlung_Kap_1",
          "Svenja_se_anno_Verwandlung_Kap_1"
         ]
        },
        {
         "legendgroup": "character_sound",
         "marker": {
          "color": "#A64B21"
         },
         "mode": "lines+markers",
         "name": "character_sound",
         "showlegend": false,
         "text": "<I><br>beschränkte sich aber bei diesen Umständen darauf, zu sagen<br></I>",
         "type": "scatter",
         "x": [
          6417,
          6476
         ],
         "y": [
          "Svenja_se_anno_Verwandlung_Kap_1",
          "Svenja_se_anno_Verwandlung_Kap_1"
         ]
        },
        {
         "legendgroup": "character_sound",
         "marker": {
          "color": "#A64B21"
         },
         "mode": "lines+markers",
         "name": "character_sound",
         "showlegend": false,
         "text": "<I><br>und schlürfte davon<br></I>",
         "type": "scatter",
         "x": [
          6668,
          6687
         ],
         "y": [
          "Svenja_se_anno_Verwandlung_Kap_1",
          "Svenja_se_anno_Verwandlung_Kap_1"
         ]
        },
        {
         "legendgroup": "character_sound",
         "marker": {
          "color": "#A64B21"
         },
         "mode": "lines+markers",
         "name": "character_sound",
         "showlegend": false,
         "text": "<I><br>und schon klopfte an der einen Seitentür der Vater, schwach,<br>aber mit der Faust<br></I>",
         "type": "scatter",
         "x": [
          6832,
          6911
         ],
         "y": [
          "Svenja_se_anno_Verwandlung_Kap_1",
          "Svenja_se_anno_Verwandlung_Kap_1"
         ]
        },
        {
         "legendgroup": "character_sound",
         "marker": {
          "color": "#A64B21"
         },
         "mode": "lines+markers",
         "name": "character_sound",
         "showlegend": false,
         "text": "<I><br> rief er<br></I>",
         "type": "scatter",
         "x": [
          6934,
          6942
         ],
         "y": [
          "Svenja_se_anno_Verwandlung_Kap_1",
          "Svenja_se_anno_Verwandlung_Kap_1"
         ]
        },
        {
         "legendgroup": "character_sound",
         "marker": {
          "color": "#A64B21"
         },
         "mode": "lines+markers",
         "name": "character_sound",
         "showlegend": false,
         "text": "<I><br>Und nach einer kleinen Weile mahnte er nochmals mit tieferer<br>Stimme<br></I>",
         "type": "scatter",
         "x": [
          6964,
          7031
         ],
         "y": [
          "Svenja_se_anno_Verwandlung_Kap_1",
          "Svenja_se_anno_Verwandlung_Kap_1"
         ]
        },
        {
         "legendgroup": "character_sound",
         "marker": {
          "color": "#A64B21"
         },
         "mode": "lines+markers",
         "name": "character_sound",
         "showlegend": false,
         "text": "<I><br>An der anderen Seitentür aber klagte leise die Schwester <br></I>",
         "type": "scatter",
         "x": [
          7055,
          7112
         ],
         "y": [
          "Svenja_se_anno_Verwandlung_Kap_1",
          "Svenja_se_anno_Verwandlung_Kap_1"
         ]
        },
        {
         "legendgroup": "character_sound",
         "marker": {
          "color": "#A64B21"
         },
         "mode": "lines+markers",
         "name": "character_sound",
         "showlegend": false,
         "text": "<I><br>Nach beiden Seiten hin antwortete Gregor<br></I>",
         "type": "scatter",
         "x": [
          7166,
          7206
         ],
         "y": [
          "Svenja_se_anno_Verwandlung_Kap_1",
          "Svenja_se_anno_Verwandlung_Kap_1"
         ]
        },
        {
         "legendgroup": "character_sound",
         "marker": {
          "color": "#A64B21"
         },
         "mode": "lines+markers",
         "name": "character_sound",
         "showlegend": false,
         "text": "<I><br>die Schwester aber flüsterte<br></I>",
         "type": "scatter",
         "x": [
          7446,
          7474
         ],
         "y": [
          "Svenja_se_anno_Verwandlung_Kap_1",
          "Svenja_se_anno_Verwandlung_Kap_1"
         ]
        },
        {
         "legendgroup": "character_sound",
         "marker": {
          "color": "#A64B21"
         },
         "mode": "lines+markers",
         "name": "character_sound",
         "showlegend": false,
         "text": "<I><br>schlug an den unteren Bettpfosten heftig an<br></I>",
         "type": "scatter",
         "x": [
          9485,
          9528
         ],
         "y": [
          "Svenja_se_anno_Verwandlung_Kap_1",
          "Svenja_se_anno_Verwandlung_Kap_1"
         ]
        },
        {
         "legendgroup": "character_sound",
         "marker": {
          "color": "#A64B21"
         },
         "mode": "lines+markers",
         "name": "character_sound",
         "showlegend": false,
         "text": "<I><br>Aber als er wieder nach gleicher Mühe aufseufzend so dalag<br>wie früher<br></I>",
         "type": "scatter",
         "x": [
          10283,
          10352
         ],
         "y": [
          "Svenja_se_anno_Verwandlung_Kap_1",
          "Svenja_se_anno_Verwandlung_Kap_1"
         ]
        },
        {
         "legendgroup": "ambient_sound",
         "marker": {
          "color": "#093658"
         },
         "mode": "lines+markers",
         "name": "ambient_sound",
         "showlegend": false,
         "text": "<I><br>sagte er sich beim neuerlichen Schlagen des Weckers<br></I>",
         "type": "scatter",
         "x": [
          11099,
          11150
         ],
         "y": [
          "Svenja_se_anno_Verwandlung_Kap_1",
          "Svenja_se_anno_Verwandlung_Kap_1"
         ]
        },
        {
         "legendgroup": "character_sound",
         "marker": {
          "color": "#A64B21"
         },
         "mode": "lines+markers",
         "name": "character_sound",
         "showlegend": false,
         "text": "<I><br>Und ein Weilchen lang lag er ruhig mit schwachem Atem<br></I>",
         "type": "scatter",
         "x": [
          11209,
          11262
         ],
         "y": [
          "Svenja_se_anno_Verwandlung_Kap_1",
          "Svenja_se_anno_Verwandlung_Kap_1"
         ]
        },
        {
         "legendgroup": "ambient_sound",
         "marker": {
          "color": "#093658"
         },
         "mode": "lines+markers",
         "name": "ambient_sound",
         "showlegend": false,
         "text": "<I><br>als erwarte er vielleicht von der völligen Stille die Wiederkehr<br>der wirklichen und selbstverständlichen Verhältnisse<br></I>",
         "type": "scatter",
         "x": [
          11265,
          11382
         ],
         "y": [
          "Svenja_se_anno_Verwandlung_Kap_1",
          "Svenja_se_anno_Verwandlung_Kap_1"
         ]
        },
        {
         "legendgroup": "ambient_sound",
         "marker": {
          "color": "#093658"
         },
         "mode": "lines+markers",
         "name": "ambient_sound",
         "showlegend": false,
         "text": "<I><br>als es an der Wohnungstür läutete<br></I>",
         "type": "scatter",
         "x": [
          13166,
          13199
         ],
         "y": [
          "Svenja_se_anno_Verwandlung_Kap_1",
          "Svenja_se_anno_Verwandlung_Kap_1"
         ]
        },
        {
         "legendgroup": "ambient_sound",
         "marker": {
          "color": "#093658"
         },
         "mode": "lines+markers",
         "name": "ambient_sound",
         "showlegend": false,
         "text": "<I><br>Einen Augenblick blieb alles still<br></I>",
         "type": "scatter",
         "x": [
          13324,
          13358
         ],
         "y": [
          "Svenja_se_anno_Verwandlung_Kap_1",
          "Svenja_se_anno_Verwandlung_Kap_1"
         ]
        },
        {
         "legendgroup": "character_sound",
         "marker": {
          "color": "#A64B21"
         },
         "mode": "lines+markers",
         "name": "character_sound",
         "showlegend": false,
         "text": "<I><br>Aber dann ging natürlich wie immer das Dienstmädchen festen Schrittes<br>zur Tür<br></I>",
         "type": "scatter",
         "x": [
          13448,
          13525
         ],
         "y": [
          "Svenja_se_anno_Verwandlung_Kap_1",
          "Svenja_se_anno_Verwandlung_Kap_1"
         ]
        },
        {
         "legendgroup": "character_sound",
         "marker": {
          "color": "#A64B21"
         },
         "mode": "lines+markers",
         "name": "character_sound",
         "showlegend": false,
         "text": "<I><br>Gregor brauchte nur das erste Grußwort des Besuchers zu hören<br></I>",
         "type": "scatter",
         "x": [
          13539,
          13600
         ],
         "y": [
          "Svenja_se_anno_Verwandlung_Kap_1",
          "Svenja_se_anno_Verwandlung_Kap_1"
         ]
        },
        {
         "legendgroup": "ambient_sound",
         "marker": {
          "color": "#093658"
         },
         "mode": "lines+markers",
         "name": "ambient_sound",
         "showlegend": false,
         "text": "<I><br>Es gab einen lauten Schlag<br></I>",
         "type": "scatter",
         "x": [
          14585,
          14611
         ],
         "y": [
          "Svenja_se_anno_Verwandlung_Kap_1",
          "Svenja_se_anno_Verwandlung_Kap_1"
         ]
        },
        {
         "legendgroup": "ambient_sound",
         "marker": {
          "color": "#093658"
         },
         "mode": "lines+markers",
         "name": "ambient_sound",
         "showlegend": false,
         "text": "<I><br>daher kam der nicht gar so auffallende dumpfe Klang<br></I>",
         "type": "scatter",
         "x": [
          14772,
          14823
         ],
         "y": [
          "Svenja_se_anno_Verwandlung_Kap_1",
          "Svenja_se_anno_Verwandlung_Kap_1"
         ]
        },
        {
         "legendgroup": "character_sound",
         "marker": {
          "color": "#A64B21"
         },
         "mode": "lines+markers",
         "name": "character_sound",
         "showlegend": false,
         "text": "<I><br>sagte der Prokurist im Nebenzimmer links<br></I>",
         "type": "scatter",
         "x": [
          15000,
          15040
         ],
         "y": [
          "Svenja_se_anno_Verwandlung_Kap_1",
          "Svenja_se_anno_Verwandlung_Kap_1"
         ]
        },
        {
         "legendgroup": "character_sound",
         "marker": {
          "color": "#A64B21"
         },
         "mode": "lines+markers",
         "name": "character_sound",
         "showlegend": false,
         "text": "<I><br>Aber wie zur rohen Antwort auf diese Frage machte jetzt<br>der Prokurist im Nebenzimmer ein paar bestimmte Schritte<br></I>",
         "type": "scatter",
         "x": [
          15220,
          15332
         ],
         "y": [
          "Svenja_se_anno_Verwandlung_Kap_1",
          "Svenja_se_anno_Verwandlung_Kap_1"
         ]
        },
        {
         "legendgroup": "character_sound",
         "marker": {
          "color": "#A64B21"
         },
         "mode": "lines+markers",
         "name": "character_sound",
         "showlegend": false,
         "text": "<I><br>und ließ seine Lackstiefel knarren<br></I>",
         "type": "scatter",
         "x": [
          15333,
          15367
         ],
         "y": [
          "Svenja_se_anno_Verwandlung_Kap_1",
          "Svenja_se_anno_Verwandlung_Kap_1"
         ]
        },
        {
         "legendgroup": "character_sound",
         "marker": {
          "color": "#A64B21"
         },
         "mode": "lines+markers",
         "name": "character_sound",
         "showlegend": false,
         "text": "<I><br>Aus dem Nebenzimmer rechts flüsterte die Schweste<br></I>",
         "type": "scatter",
         "x": [
          15370,
          15419
         ],
         "y": [
          "Svenja_se_anno_Verwandlung_Kap_1",
          "Svenja_se_anno_Verwandlung_Kap_1"
         ]
        },
        {
         "legendgroup": "character_sound",
         "marker": {
          "color": "#A64B21"
         },
         "mode": "lines+markers",
         "name": "character_sound",
         "showlegend": false,
         "text": "<I><br>um Gregor zu verständigen<br></I>",
         "type": "scatter",
         "x": [
          15423,
          15448
         ],
         "y": [
          "Svenja_se_anno_Verwandlung_Kap_1",
          "Svenja_se_anno_Verwandlung_Kap_1"
         ]
        },
        {
         "legendgroup": "character_sound",
         "marker": {
          "color": "#A64B21"
         },
         "mode": "lines+markers",
         "name": "character_sound",
         "showlegend": false,
         "text": "<I><br> sagte Gregor vor sich hin<br></I>",
         "type": "scatter",
         "x": [
          15499,
          15525
         ],
         "y": [
          "Svenja_se_anno_Verwandlung_Kap_1",
          "Svenja_se_anno_Verwandlung_Kap_1"
         ]
        },
        {
         "legendgroup": "character_sound",
         "marker": {
          "color": "#A64B21"
         },
         "mode": "lines+markers",
         "name": "character_sound",
         "showlegend": false,
         "text": "<I><br>sagte nun der Vater aus dem Nebenzimmer links<br></I>",
         "type": "scatter",
         "x": [
          15633,
          15678
         ],
         "y": [
          "Svenja_se_anno_Verwandlung_Kap_1",
          "Svenja_se_anno_Verwandlung_Kap_1"
         ]
        },
        {
         "legendgroup": "character_sound",
         "marker": {
          "color": "#A64B21"
         },
         "mode": "lines+markers",
         "name": "character_sound",
         "showlegend": false,
         "text": "<I><br>und erkundigt sich<br></I>",
         "type": "scatter",
         "x": [
          15715,
          15733
         ],
         "y": [
          "Svenja_se_anno_Verwandlung_Kap_1",
          "Svenja_se_anno_Verwandlung_Kap_1"
         ]
        },
        {
         "legendgroup": "character_sound",
         "marker": {
          "color": "#A64B21"
         },
         "mode": "lines+markers",
         "name": "character_sound",
         "showlegend": false,
         "text": "<I><br>rief der Prokurist freundlich dazwischen<br></I>",
         "type": "scatter",
         "x": [
          16014,
          16054
         ],
         "y": [
          "Svenja_se_anno_Verwandlung_Kap_1",
          "Svenja_se_anno_Verwandlung_Kap_1"
         ]
        },
        {
         "legendgroup": "character_sound",
         "marker": {
          "color": "#A64B21"
         },
         "mode": "lines+markers",
         "name": "character_sound",
         "showlegend": false,
         "text": "<I><br>sagte die Mutter zum Prokuristen<br></I>",
         "type": "scatter",
         "x": [
          16082,
          16114
         ],
         "y": [
          "Svenja_se_anno_Verwandlung_Kap_1",
          "Svenja_se_anno_Verwandlung_Kap_1"
         ]
        },
        {
         "legendgroup": "character_sound",
         "marker": {
          "color": "#A64B21"
         },
         "mode": "lines+markers",
         "name": "character_sound",
         "showlegend": false,
         "text": "<I><br>während der Vater noch an der Tür redete<br></I>",
         "type": "scatter",
         "x": [
          16117,
          16157
         ],
         "y": [
          "Svenja_se_anno_Verwandlung_Kap_1",
          "Svenja_se_anno_Verwandlung_Kap_1"
         ]
        },
        {
         "legendgroup": "character_sound",
         "marker": {
          "color": "#A64B21"
         },
         "mode": "lines+markers",
         "name": "character_sound",
         "showlegend": false,
         "text": "<I><br>und liest still die Zeitung<br></I>",
         "type": "scatter",
         "x": [
          16478,
          16505
         ],
         "y": [
          "Svenja_se_anno_Verwandlung_Kap_1",
          "Svenja_se_anno_Verwandlung_Kap_1"
         ]
        },
        {
         "legendgroup": "character_sound",
         "marker": {
          "color": "#A64B21"
         },
         "mode": "lines+markers",
         "name": "character_sound",
         "showlegend": false,
         "text": "<I><br>sagte Gregor langsam und bedächtig<br></I>",
         "type": "scatter",
         "x": [
          17067,
          17101
         ],
         "y": [
          "Svenja_se_anno_Verwandlung_Kap_1",
          "Svenja_se_anno_Verwandlung_Kap_1"
         ]
        },
        {
         "legendgroup": "character_sound",
         "marker": {
          "color": "#A64B21"
         },
         "mode": "lines+markers",
         "name": "character_sound",
         "showlegend": false,
         "text": "<I><br>sagte der Prokurist<br></I>",
         "type": "scatter",
         "x": [
          17231,
          17250
         ],
         "y": [
          "Svenja_se_anno_Verwandlung_Kap_1",
          "Svenja_se_anno_Verwandlung_Kap_1"
         ]
        },
        {
         "legendgroup": "character_sound",
         "marker": {
          "color": "#A64B21"
         },
         "mode": "lines+markers",
         "name": "character_sound",
         "showlegend": false,
         "text": "<I><br>fragte der ungeduldige Vater<br></I>",
         "type": "scatter",
         "x": [
          17547,
          17575
         ],
         "y": [
          "Svenja_se_anno_Verwandlung_Kap_1",
          "Svenja_se_anno_Verwandlung_Kap_1"
         ]
        },
        {
         "legendgroup": "character_sound",
         "marker": {
          "color": "#A64B21"
         },
         "mode": "lines+markers",
         "name": "character_sound",
         "showlegend": false,
         "text": "<I><br>und klopfte wiederum an die Tür <br></I>",
         "type": "scatter",
         "x": [
          17576,
          17608
         ],
         "y": [
          "Svenja_se_anno_Verwandlung_Kap_1",
          "Svenja_se_anno_Verwandlung_Kap_1"
         ]
        },
        {
         "legendgroup": "character_sound",
         "marker": {
          "color": "#A64B21"
         },
         "mode": "lines+markers",
         "name": "character_sound",
         "showlegend": false,
         "text": "<I><br>sagte Gregor<br></I>",
         "type": "scatter",
         "x": [
          17621,
          17633
         ],
         "y": [
          "Svenja_se_anno_Verwandlung_Kap_1",
          "Svenja_se_anno_Verwandlung_Kap_1"
         ]
        },
        {
         "legendgroup": "ambient_sound",
         "marker": {
          "color": "#093658"
         },
         "mode": "lines+markers",
         "name": "ambient_sound",
         "showlegend": false,
         "text": "<I><br>Im Nebenzimmer links trat eine peinliche Stille ein<br></I>",
         "type": "scatter",
         "x": [
          17636,
          17687
         ],
         "y": [
          "Svenja_se_anno_Verwandlung_Kap_1",
          "Svenja_se_anno_Verwandlung_Kap_1"
         ]
        },
        {
         "legendgroup": "character_sound",
         "marker": {
          "color": "#A64B21"
         },
         "mode": "lines+markers",
         "name": "character_sound",
         "showlegend": false,
         "text": "<I><br>im Nebenzimmer rechts begann die Schwester zu schluchzen<br></I>",
         "type": "scatter",
         "x": [
          17690,
          17746
         ],
         "y": [
          "Svenja_se_anno_Verwandlung_Kap_1",
          "Svenja_se_anno_Verwandlung_Kap_1"
         ]
        },
        {
         "legendgroup": "character_sound",
         "marker": {
          "color": "#A64B21"
         },
         "mode": "lines+markers",
         "name": "character_sound",
         "showlegend": false,
         "text": "<I><br> rief nun der Prokurist mit erhobener Stimme<br></I>",
         "type": "scatter",
         "x": [
          18823,
          18867
         ],
         "y": [
          "Svenja_se_anno_Verwandlung_Kap_1",
          "Svenja_se_anno_Verwandlung_Kap_1"
         ]
        },
        {
         "legendgroup": "character_sound",
         "marker": {
          "color": "#A64B21"
         },
         "mode": "lines+markers",
         "name": "character_sound",
         "showlegend": false,
         "text": "<I><br> Ich spreche hier im Namen Ihrer Eltern und Ihres<br>Chefs<br></I>",
         "type": "scatter",
         "x": [
          19125,
          19180
         ],
         "y": [
          "Svenja_se_anno_Verwandlung_Kap_1",
          "Svenja_se_anno_Verwandlung_Kap_1"
         ]
        },
        {
         "legendgroup": "character_sound",
         "marker": {
          "color": "#A64B21"
         },
         "mode": "lines+markers",
         "name": "character_sound",
         "showlegend": false,
         "text": "<I><br> und bitte Sie ganz ernsthaft um eine augenblickliche, deutliche<br>Erklärung<br></I>",
         "type": "scatter",
         "x": [
          19181,
          19255
         ],
         "y": [
          "Svenja_se_anno_Verwandlung_Kap_1",
          "Svenja_se_anno_Verwandlung_Kap_1"
         ]
        },
        {
         "legendgroup": "character_sound",
         "marker": {
          "color": "#A64B21"
         },
         "mode": "lines+markers",
         "name": "character_sound",
         "showlegend": false,
         "text": "<I><br>Der Chef deutete mir zwar heute früh eine mögliche Erklärung<br>für Ihre Versäumnis an <br></I>",
         "type": "scatter",
         "x": [
          19439,
          19523
         ],
         "y": [
          "Svenja_se_anno_Verwandlung_Kap_1",
          "Svenja_se_anno_Verwandlung_Kap_1"
         ]
        },
        {
         "legendgroup": "character_sound",
         "marker": {
          "color": "#A64B21"
         },
         "mode": "lines+markers",
         "name": "character_sound",
         "showlegend": false,
         "text": "<I><br>rief Gregor außer sich<br></I>",
         "type": "scatter",
         "x": [
          20381,
          20403
         ],
         "y": [
          "Svenja_se_anno_Verwandlung_Kap_1",
          "Svenja_se_anno_Verwandlung_Kap_1"
         ]
        },
        {
         "legendgroup": "character_sound",
         "marker": {
          "color": "#A64B21"
         },
         "mode": "lines+markers",
         "name": "character_sound",
         "showlegend": false,
         "text": "<I><br>Für alle die Vorwürfe, die Sie mir jetzt machen<br></I>",
         "type": "scatter",
         "x": [
          21172,
          21219
         ],
         "y": [
          "Svenja_se_anno_Verwandlung_Kap_1",
          "Svenja_se_anno_Verwandlung_Kap_1"
         ]
        },
        {
         "legendgroup": "character_sound",
         "marker": {
          "color": "#A64B21"
         },
         "mode": "lines+markers",
         "name": "character_sound",
         "showlegend": false,
         "text": "<I><br>Und während Gregor dies alles hastig ausstieß<br></I>",
         "type": "scatter",
         "x": [
          21630,
          21675
         ],
         "y": [
          "Svenja_se_anno_Verwandlung_Kap_1",
          "Svenja_se_anno_Verwandlung_Kap_1"
         ]
        },
        {
         "legendgroup": "character_sound",
         "marker": {
          "color": "#A64B21"
         },
         "mode": "lines+markers",
         "name": "character_sound",
         "showlegend": false,
         "text": "<I><br>was er sprach<br></I>",
         "type": "scatter",
         "x": [
          21692,
          21705
         ],
         "y": [
          "Svenja_se_anno_Verwandlung_Kap_1",
          "Svenja_se_anno_Verwandlung_Kap_1"
         ]
        },
        {
         "legendgroup": "character_sound",
         "marker": {
          "color": "#A64B21"
         },
         "mode": "lines+markers",
         "name": "character_sound",
         "showlegend": false,
         "text": "<I><br>und verstummte<br></I>",
         "type": "scatter",
         "x": [
          22717,
          22731
         ],
         "y": [
          "Svenja_se_anno_Verwandlung_Kap_1",
          "Svenja_se_anno_Verwandlung_Kap_1"
         ]
        },
        {
         "legendgroup": "character_sound",
         "marker": {
          "color": "#A64B21"
         },
         "mode": "lines+markers",
         "name": "character_sound",
         "showlegend": false,
         "text": "<I><br>fragte der Prokurist die Eltern<br></I>",
         "type": "scatter",
         "x": [
          22823,
          22854
         ],
         "y": [
          "Svenja_se_anno_Verwandlung_Kap_1",
          "Svenja_se_anno_Verwandlung_Kap_1"
         ]
        },
        {
         "legendgroup": "character_sound",
         "marker": {
          "color": "#A64B21"
         },
         "mode": "lines+markers",
         "name": "character_sound",
         "showlegend": false,
         "text": "<I><br>rief die Mutter schon unter Weinen<br></I>",
         "type": "scatter",
         "x": [
          22937,
          22971
         ],
         "y": [
          "Svenja_se_anno_Verwandlung_Kap_1",
          "Svenja_se_anno_Verwandlung_Kap_1"
         ]
        },
        {
         "legendgroup": "character_sound",
         "marker": {
          "color": "#A64B21"
         },
         "mode": "lines+markers",
         "name": "character_sound",
         "showlegend": false,
         "text": "<I><br>schrie sie dann<br></I>",
         "type": "scatter",
         "x": [
          23044,
          23059
         ],
         "y": [
          "Svenja_se_anno_Verwandlung_Kap_1",
          "Svenja_se_anno_Verwandlung_Kap_1"
         ]
        },
        {
         "legendgroup": "character_sound",
         "marker": {
          "color": "#A64B21"
         },
         "mode": "lines+markers",
         "name": "character_sound",
         "showlegend": false,
         "text": "<I><br>rief die Schwester von der anderen Seite<br></I>",
         "type": "scatter",
         "x": [
          23075,
          23115
         ],
         "y": [
          "Svenja_se_anno_Verwandlung_Kap_1",
          "Svenja_se_anno_Verwandlung_Kap_1"
         ]
        },
        {
         "legendgroup": "character_sound",
         "marker": {
          "color": "#A64B21"
         },
         "mode": "lines+markers",
         "name": "character_sound",
         "showlegend": false,
         "text": "<I><br>Sie verständigten sich durch Gregors Zimmer<br></I>",
         "type": "scatter",
         "x": [
          23118,
          23161
         ],
         "y": [
          "Svenja_se_anno_Verwandlung_Kap_1",
          "Svenja_se_anno_Verwandlung_Kap_1"
         ]
        },
        {
         "legendgroup": "character_sound",
         "marker": {
          "color": "#A64B21"
         },
         "mode": "lines+markers",
         "name": "character_sound",
         "showlegend": false,
         "text": "<I><br>sagte der Prokurist, auffallend leise<br></I>",
         "type": "scatter",
         "x": [
          23303,
          23340
         ],
         "y": [
          "Svenja_se_anno_Verwandlung_Kap_1",
          "Svenja_se_anno_Verwandlung_Kap_1"
         ]
        },
        {
         "legendgroup": "character_sound",
         "marker": {
          "color": "#A64B21"
         },
         "mode": "lines+markers",
         "name": "character_sound",
         "showlegend": false,
         "text": "<I><br>gegenüber dem Schreien der Mutter <br></I>",
         "type": "scatter",
         "x": [
          23341,
          23375
         ],
         "y": [
          "Svenja_se_anno_Verwandlung_Kap_1",
          "Svenja_se_anno_Verwandlung_Kap_1"
         ]
        },
        {
         "legendgroup": "character_sound",
         "marker": {
          "color": "#A64B21"
         },
         "mode": "lines+markers",
         "name": "character_sound",
         "showlegend": false,
         "text": "<I><br>rief der Vater durch das Vorzimmer in die Küche<br></I>",
         "type": "scatter",
         "x": [
          23394,
          23441
         ],
         "y": [
          "Svenja_se_anno_Verwandlung_Kap_1",
          "Svenja_se_anno_Verwandlung_Kap_1"
         ]
        },
        {
         "legendgroup": "character_sound",
         "marker": {
          "color": "#A64B21"
         },
         "mode": "lines+markers",
         "name": "character_sound",
         "showlegend": false,
         "text": "<I><br>und klatschte in die Hände<br></I>",
         "type": "scatter",
         "x": [
          23442,
          23468
         ],
         "y": [
          "Svenja_se_anno_Verwandlung_Kap_1",
          "Svenja_se_anno_Verwandlung_Kap_1"
         ]
        },
        {
         "legendgroup": "ambient_sound",
         "marker": {
          "color": "#093658"
         },
         "mode": "lines+markers",
         "name": "ambient_sound",
         "showlegend": false,
         "text": "<I><br>Und schon liefen die zwei Mädchen mit rauschenden Röcken durch<br>das Vorzimmer<br></I>",
         "type": "scatter",
         "x": [
          23506,
          23582
         ],
         "y": [
          "Svenja_se_anno_Verwandlung_Kap_1",
          "Svenja_se_anno_Verwandlung_Kap_1"
         ]
        },
        {
         "legendgroup": "ambient_sound",
         "marker": {
          "color": "#093658"
         },
         "mode": "lines+markers",
         "name": "ambient_sound",
         "showlegend": false,
         "text": "<I><br>und rissen die Wohnungstüre auf<br></I>",
         "type": "scatter",
         "x": [
          23643,
          23674
         ],
         "y": [
          "Svenja_se_anno_Verwandlung_Kap_1",
          "Svenja_se_anno_Verwandlung_Kap_1"
         ]
        },
        {
         "legendgroup": "character_sound",
         "marker": {
          "color": "#A64B21"
         },
         "mode": "lines+markers",
         "name": "character_sound",
         "showlegend": false,
         "text": "<I><br>Gregor war aber viel ruhiger geworden<br></I>",
         "type": "scatter",
         "x": [
          23832,
          23869
         ],
         "y": [
          "Svenja_se_anno_Verwandlung_Kap_1",
          "Svenja_se_anno_Verwandlung_Kap_1"
         ]
        },
        {
         "legendgroup": "character_sound",
         "marker": {
          "color": "#A64B21"
         },
         "mode": "lines+markers",
         "name": "character_sound",
         "showlegend": false,
         "text": "<I><br>Die Zuversicht und Sicherheit, mit welchen die ersten Anordnungen getroffen<br>worden waren<br></I>",
         "type": "scatter",
         "x": [
          24146,
          24234
         ],
         "y": [
          "Svenja_se_anno_Verwandlung_Kap_1",
          "Svenja_se_anno_Verwandlung_Kap_1"
         ]
        },
        {
         "legendgroup": "character_sound",
         "marker": {
          "color": "#A64B21"
         },
         "mode": "lines+markers",
         "name": "character_sound",
         "showlegend": false,
         "text": "<I><br>hustete er ein wenig ab<br></I>",
         "type": "scatter",
         "x": [
          24540,
          24563
         ],
         "y": [
          "Svenja_se_anno_Verwandlung_Kap_1",
          "Svenja_se_anno_Verwandlung_Kap_1"
         ]
        },
        {
         "legendgroup": "ambient_sound",
         "marker": {
          "color": "#093658"
         },
         "mode": "lines+markers",
         "name": "ambient_sound",
         "showlegend": false,
         "text": "<I><br>Im Nebenzimmer war es inzwischen ganz still geworden<br></I>",
         "type": "scatter",
         "x": [
          24751,
          24803
         ],
         "y": [
          "Svenja_se_anno_Verwandlung_Kap_1",
          "Svenja_se_anno_Verwandlung_Kap_1"
         ]
        },
        {
         "legendgroup": "character_sound",
         "marker": {
          "color": "#A64B21"
         },
         "mode": "lines+markers",
         "name": "character_sound",
         "showlegend": false,
         "text": "<I><br>und tuschelten<br></I>",
         "type": "scatter",
         "x": [
          24865,
          24879
         ],
         "y": [
          "Svenja_se_anno_Verwandlung_Kap_1",
          "Svenja_se_anno_Verwandlung_Kap_1"
         ]
        },
        {
         "legendgroup": "character_sound",
         "marker": {
          "color": "#A64B21"
         },
         "mode": "lines+markers",
         "name": "character_sound",
         "showlegend": false,
         "text": "<I><br> sagte der Prokurist im Nebenzimmer<br></I>",
         "type": "scatter",
         "x": [
          25682,
          25717
         ],
         "y": [
          "Svenja_se_anno_Verwandlung_Kap_1",
          "Svenja_se_anno_Verwandlung_Kap_1"
         ]
        },
        {
         "legendgroup": "ambient_sound",
         "marker": {
          "color": "#093658"
         },
         "mode": "lines+markers",
         "name": "ambient_sound",
         "showlegend": false,
         "text": "<I><br>er dreht den Schlüssel um<br></I>",
         "type": "scatter",
         "x": [
          25722,
          25747
         ],
         "y": [
          "Svenja_se_anno_Verwandlung_Kap_1",
          "Svenja_se_anno_Verwandlung_Kap_1"
         ]
        },
        {
         "legendgroup": "ambient_sound",
         "marker": {
          "color": "#093658"
         },
         "mode": "lines+markers",
         "name": "ambient_sound",
         "showlegend": false,
         "text": "<I><br>Der hellere Klang des endlich zurückschnappenden Schlosses erweckte Gregor förmlich<br></I>",
         "type": "scatter",
         "x": [
          26372,
          26455
         ],
         "y": [
          "Svenja_se_anno_Verwandlung_Kap_1",
          "Svenja_se_anno_Verwandlung_Kap_1"
         ]
        },
        {
         "legendgroup": "character_sound",
         "marker": {
          "color": "#A64B21"
         },
         "mode": "lines+markers",
         "name": "character_sound",
         "showlegend": false,
         "text": "<I><br>Aufatmend sagte er sich<br></I>",
         "type": "scatter",
         "x": [
          26458,
          26481
         ],
         "y": [
          "Svenja_se_anno_Verwandlung_Kap_1",
          "Svenja_se_anno_Verwandlung_Kap_1"
         ]
        },
        {
         "legendgroup": "character_sound",
         "marker": {
          "color": "#A64B21"
         },
         "mode": "lines+markers",
         "name": "character_sound",
         "showlegend": false,
         "text": "<I><br>da hörte er schon den Prokuristen ein lautes » Oh!<br>« ausstoßen<br></I>",
         "type": "scatter",
         "x": [
          26999,
          27062
         ],
         "y": [
          "Svenja_se_anno_Verwandlung_Kap_1",
          "Svenja_se_anno_Verwandlung_Kap_1"
         ]
        },
        {
         "legendgroup": "ambient_sound",
         "marker": {
          "color": "#093658"
         },
         "mode": "lines+markers",
         "name": "ambient_sound",
         "showlegend": false,
         "text": "<I><br>es klang, wie wenn der Wind saust<br></I>",
         "type": "scatter",
         "x": [
          27066,
          27099
         ],
         "y": [
          "Svenja_se_anno_Verwandlung_Kap_1",
          "Svenja_se_anno_Verwandlung_Kap_1"
         ]
        },
        {
         "legendgroup": "character_sound",
         "marker": {
          "color": "#A64B21"
         },
         "mode": "lines+markers",
         "name": "character_sound",
         "showlegend": false,
         "text": "<I><br>und weinte<br></I>",
         "type": "scatter",
         "x": [
          27839,
          27849
         ],
         "y": [
          "Svenja_se_anno_Verwandlung_Kap_1",
          "Svenja_se_anno_Verwandlung_Kap_1"
         ]
        },
        {
         "legendgroup": "ambient_sound",
         "marker": {
          "color": "#093658"
         },
         "mode": "lines+markers",
         "name": "ambient_sound",
         "showlegend": false,
         "text": "<I><br>der Regen fiel noch nieder<br></I>",
         "type": "scatter",
         "x": [
          28366,
          28392
         ],
         "y": [
          "Svenja_se_anno_Verwandlung_Kap_1",
          "Svenja_se_anno_Verwandlung_Kap_1"
         ]
        },
        {
         "legendgroup": "character_sound",
         "marker": {
          "color": "#A64B21"
         },
         "mode": "lines+markers",
         "name": "character_sound",
         "showlegend": false,
         "text": "<I><br>sagte Gregor<br></I>",
         "type": "scatter",
         "x": [
          29108,
          29120
         ],
         "y": [
          "Svenja_se_anno_Verwandlung_Kap_1",
          "Svenja_se_anno_Verwandlung_Kap_1"
         ]
        },
        {
         "legendgroup": "character_sound",
         "marker": {
          "color": "#A64B21"
         },
         "mode": "lines+markers",
         "name": "character_sound",
         "showlegend": false,
         "text": "<I><br>der die Ruhe bewahrt hatte<br></I>",
         "type": "scatter",
         "x": [
          29179,
          29205
         ],
         "y": [
          "Svenja_se_anno_Verwandlung_Kap_1",
          "Svenja_se_anno_Verwandlung_Kap_1"
         ]
        },
        {
         "legendgroup": "character_sound",
         "marker": {
          "color": "#A64B21"
         },
         "mode": "lines+markers",
         "name": "character_sound",
         "showlegend": false,
         "text": "<I><br>ganz im Vertrauen gesagt<br></I>",
         "type": "scatter",
         "x": [
          30473,
          30497
         ],
         "y": [
          "Svenja_se_anno_Verwandlung_Kap_1",
          "Svenja_se_anno_Verwandlung_Kap_1"
         ]
        },
        {
         "legendgroup": "character_sound",
         "marker": {
          "color": "#A64B21"
         },
         "mode": "lines+markers",
         "name": "character_sound",
         "showlegend": false,
         "text": "<I><br>sie hatte schon geweint <br></I>",
         "type": "scatter",
         "x": [
          32687,
          32711
         ],
         "y": [
          "Svenja_se_anno_Verwandlung_Kap_1",
          "Svenja_se_anno_Verwandlung_Kap_1"
         ]
        },
        {
         "legendgroup": "character_sound",
         "marker": {
          "color": "#A64B21"
         },
         "mode": "lines+markers",
         "name": "character_sound",
         "showlegend": false,
         "text": "<I><br>als Gregor noch ruhig auf dem Rücken lag<br></I>",
         "type": "scatter",
         "x": [
          32713,
          32753
         ],
         "y": [
          "Svenja_se_anno_Verwandlung_Kap_1",
          "Svenja_se_anno_Verwandlung_Kap_1"
         ]
        },
        {
         "legendgroup": "character_sound",
         "marker": {
          "color": "#A64B21"
         },
         "mode": "lines+markers",
         "name": "character_sound",
         "showlegend": false,
         "text": "<I><br>fiel aber sofort, nach einem Halt suchend, mit einem kleinen<br>Schrei seine vielen Beinchen nieder<br></I>",
         "type": "scatter",
         "x": [
          33384,
          33480
         ],
         "y": [
          "Svenja_se_anno_Verwandlung_Kap_1",
          "Svenja_se_anno_Verwandlung_Kap_1"
         ]
        },
        {
         "legendgroup": "character_sound",
         "marker": {
          "color": "#A64B21"
         },
         "mode": "lines+markers",
         "name": "character_sound",
         "showlegend": false,
         "text": "<I><br>rief<br></I>",
         "type": "scatter",
         "x": [
          34120,
          34124
         ],
         "y": [
          "Svenja_se_anno_Verwandlung_Kap_1",
          "Svenja_se_anno_Verwandlung_Kap_1"
         ]
        },
        {
         "legendgroup": "character_sound",
         "marker": {
          "color": "#A64B21"
         },
         "mode": "lines+markers",
         "name": "character_sound",
         "showlegend": false,
         "text": "<I><br>sagte Gregor leise<br></I>",
         "type": "scatter",
         "x": [
          34569,
          34587
         ],
         "y": [
          "Svenja_se_anno_Verwandlung_Kap_1",
          "Svenja_se_anno_Verwandlung_Kap_1"
         ]
        },
        {
         "legendgroup": "character_sound",
         "marker": {
          "color": "#A64B21"
         },
         "mode": "lines+markers",
         "name": "character_sound",
         "showlegend": false,
         "text": "<I><br>Darüber schrie die Mutter neuerdings auf<br></I>",
         "type": "scatter",
         "x": [
          34805,
          34845
         ],
         "y": [
          "Svenja_se_anno_Verwandlung_Kap_1",
          "Svenja_se_anno_Verwandlung_Kap_1"
         ]
        },
        {
         "legendgroup": "character_sound",
         "marker": {
          "color": "#A64B21"
         },
         "mode": "lines+markers",
         "name": "character_sound",
         "showlegend": false,
         "text": "<I><br>aber schrie er noch<br></I>",
         "type": "scatter",
         "x": [
          35246,
          35265
         ],
         "y": [
          "Svenja_se_anno_Verwandlung_Kap_1",
          "Svenja_se_anno_Verwandlung_Kap_1"
         ]
        },
        {
         "legendgroup": "ambient_sound",
         "marker": {
          "color": "#093658"
         },
         "mode": "lines+markers",
         "name": "ambient_sound",
         "showlegend": false,
         "text": "<I><br>es klang durchs ganze Treppenhaus<br></I>",
         "type": "scatter",
         "x": [
          35268,
          35301
         ],
         "y": [
          "Svenja_se_anno_Verwandlung_Kap_1",
          "Svenja_se_anno_Verwandlung_Kap_1"
         ]
        },
        {
         "legendgroup": "character_sound",
         "marker": {
          "color": "#A64B21"
         },
         "mode": "lines+markers",
         "name": "character_sound",
         "showlegend": false,
         "text": "<I><br>und machte sich unter Füßestampfen daran<br></I>",
         "type": "scatter",
         "x": [
          35717,
          35757
         ],
         "y": [
          "Svenja_se_anno_Verwandlung_Kap_1",
          "Svenja_se_anno_Verwandlung_Kap_1"
         ]
        },
        {
         "legendgroup": "character_sound",
         "marker": {
          "color": "#A64B21"
         },
         "mode": "lines+markers",
         "name": "character_sound",
         "showlegend": false,
         "text": "<I><br>Kein Bitten Gregors half <br></I>",
         "type": "scatter",
         "x": [
          35843,
          35868
         ],
         "y": [
          "Svenja_se_anno_Verwandlung_Kap_1",
          "Svenja_se_anno_Verwandlung_Kap_1"
         ]
        },
        {
         "legendgroup": "character_sound",
         "marker": {
          "color": "#A64B21"
         },
         "mode": "lines+markers",
         "name": "character_sound",
         "showlegend": false,
         "text": "<I><br>der Vater stampfte nur stärker mit den Füßen<br></I>",
         "type": "scatter",
         "x": [
          35948,
          35992
         ],
         "y": [
          "Svenja_se_anno_Verwandlung_Kap_1",
          "Svenja_se_anno_Verwandlung_Kap_1"
         ]
        },
        {
         "legendgroup": "ambient_sound",
         "marker": {
          "color": "#093658"
         },
         "mode": "lines+markers",
         "name": "ambient_sound",
         "showlegend": false,
         "text": "<I><br>die Zeitungen auf dem Tische rauschten <br></I>",
         "type": "scatter",
         "x": [
          36247,
          36286
         ],
         "y": [
          "Svenja_se_anno_Verwandlung_Kap_1",
          "Svenja_se_anno_Verwandlung_Kap_1"
         ]
        },
        {
         "legendgroup": "ambient_sound",
         "marker": {
          "color": "#093658"
         },
         "mode": "lines+markers",
         "name": "ambient_sound",
         "showlegend": false,
         "text": "<I><br>einzelne Blätter wehten über den Boden hin<br></I>",
         "type": "scatter",
         "x": [
          36288,
          36330
         ],
         "y": [
          "Svenja_se_anno_Verwandlung_Kap_1",
          "Svenja_se_anno_Verwandlung_Kap_1"
         ]
        },
        {
         "legendgroup": "character_sound",
         "marker": {
          "color": "#A64B21"
         },
         "mode": "lines+markers",
         "name": "character_sound",
         "showlegend": false,
         "text": "<I><br>Unerbittlich drängte der Vater<br></I>",
         "type": "scatter",
         "x": [
          36332,
          36362
         ],
         "y": [
          "Svenja_se_anno_Verwandlung_Kap_1",
          "Svenja_se_anno_Verwandlung_Kap_1"
         ]
        },
        {
         "legendgroup": "character_sound",
         "marker": {
          "color": "#A64B21"
         },
         "mode": "lines+markers",
         "name": "character_sound",
         "showlegend": false,
         "text": "<I><br>und stieß Zischlaute aus<br></I>",
         "type": "scatter",
         "x": [
          36363,
          36387
         ],
         "y": [
          "Svenja_se_anno_Verwandlung_Kap_1",
          "Svenja_se_anno_Verwandlung_Kap_1"
         ]
        },
        {
         "legendgroup": "character_sound",
         "marker": {
          "color": "#A64B21"
         },
         "mode": "lines+markers",
         "name": "character_sound",
         "showlegend": false,
         "text": "<I><br>Wenn nur nicht dieses unerträgliche Zischen des Vaters gewesen wäre<br></I>",
         "type": "scatter",
         "x": [
          37300,
          37367
         ],
         "y": [
          "Svenja_se_anno_Verwandlung_Kap_1",
          "Svenja_se_anno_Verwandlung_Kap_1"
         ]
        },
        {
         "legendgroup": "character_sound",
         "marker": {
          "color": "#A64B21"
         },
         "mode": "lines+markers",
         "name": "character_sound",
         "showlegend": false,
         "text": "<I><br>immer auf dieses Zischen horchend <br></I>",
         "type": "scatter",
         "x": [
          37454,
          37488
         ],
         "y": [
          "Svenja_se_anno_Verwandlung_Kap_1",
          "Svenja_se_anno_Verwandlung_Kap_1"
         ]
        },
        {
         "legendgroup": "character_sound",
         "marker": {
          "color": "#A64B21"
         },
         "mode": "lines+markers",
         "name": "character_sound",
         "showlegend": false,
         "text": "<I><br>Vielmehr trieb er, als gäbe es kein Hindernis, Gregor jetzt<br>unter besonderem Lärm vorwärts<br></I>",
         "type": "scatter",
         "x": [
          38111,
          38201
         ],
         "y": [
          "Svenja_se_anno_Verwandlung_Kap_1",
          "Svenja_se_anno_Verwandlung_Kap_1"
         ]
        },
        {
         "legendgroup": "character_sound",
         "marker": {
          "color": "#A64B21"
         },
         "mode": "lines+markers",
         "name": "character_sound",
         "showlegend": false,
         "text": "<I><br>es klang schon hinter Gregor gar nicht mehr wie die<br>Stimme bloß eines einzigen Vaters<br></I>",
         "type": "scatter",
         "x": [
          38204,
          38289
         ],
         "y": [
          "Svenja_se_anno_Verwandlung_Kap_1",
          "Svenja_se_anno_Verwandlung_Kap_1"
         ]
        },
        {
         "legendgroup": "ambient_sound",
         "marker": {
          "color": "#093658"
         },
         "mode": "lines+markers",
         "name": "ambient_sound",
         "showlegend": false,
         "text": "<I><br>Die Tür wurde noch mit dem Stock zugeschlagen<br></I>",
         "type": "scatter",
         "x": [
          38878,
          38923
         ],
         "y": [
          "Svenja_se_anno_Verwandlung_Kap_1",
          "Svenja_se_anno_Verwandlung_Kap_1"
         ]
        },
        {
         "legendgroup": "ambient_sound",
         "marker": {
          "color": "#093658"
         },
         "mode": "lines+markers",
         "name": "ambient_sound",
         "showlegend": false,
         "text": "<I><br>dann war es endlich stil<br></I>",
         "type": "scatter",
         "x": [
          38926,
          38950
         ],
         "y": [
          "Svenja_se_anno_Verwandlung_Kap_1",
          "Svenja_se_anno_Verwandlung_Kap_1"
         ]
        }
       ],
       "layout": {
        "height": 240,
        "legend": {
         "font": {
          "color": "#5A98A1",
          "size": 10
         },
         "orientation": "h",
         "x": 1,
         "xanchor": "right",
         "y": 1.02,
         "yanchor": "bottom"
        },
        "template": {
         "data": {
          "bar": [
           {
            "error_x": {
             "color": "#2a3f5f"
            },
            "error_y": {
             "color": "#2a3f5f"
            },
            "marker": {
             "line": {
              "color": "white",
              "width": 0.5
             },
             "pattern": {
              "fillmode": "overlay",
              "size": 10,
              "solidity": 0.2
             }
            },
            "type": "bar"
           }
          ],
          "barpolar": [
           {
            "marker": {
             "line": {
              "color": "white",
              "width": 0.5
             },
             "pattern": {
              "fillmode": "overlay",
              "size": 10,
              "solidity": 0.2
             }
            },
            "type": "barpolar"
           }
          ],
          "carpet": [
           {
            "aaxis": {
             "endlinecolor": "#2a3f5f",
             "gridcolor": "#C8D4E3",
             "linecolor": "#C8D4E3",
             "minorgridcolor": "#C8D4E3",
             "startlinecolor": "#2a3f5f"
            },
            "baxis": {
             "endlinecolor": "#2a3f5f",
             "gridcolor": "#C8D4E3",
             "linecolor": "#C8D4E3",
             "minorgridcolor": "#C8D4E3",
             "startlinecolor": "#2a3f5f"
            },
            "type": "carpet"
           }
          ],
          "choropleth": [
           {
            "colorbar": {
             "outlinewidth": 0,
             "ticks": ""
            },
            "type": "choropleth"
           }
          ],
          "contour": [
           {
            "colorbar": {
             "outlinewidth": 0,
             "ticks": ""
            },
            "colorscale": [
             [
              0,
              "#0d0887"
             ],
             [
              0.1111111111111111,
              "#46039f"
             ],
             [
              0.2222222222222222,
              "#7201a8"
             ],
             [
              0.3333333333333333,
              "#9c179e"
             ],
             [
              0.4444444444444444,
              "#bd3786"
             ],
             [
              0.5555555555555556,
              "#d8576b"
             ],
             [
              0.6666666666666666,
              "#ed7953"
             ],
             [
              0.7777777777777778,
              "#fb9f3a"
             ],
             [
              0.8888888888888888,
              "#fdca26"
             ],
             [
              1,
              "#f0f921"
             ]
            ],
            "type": "contour"
           }
          ],
          "contourcarpet": [
           {
            "colorbar": {
             "outlinewidth": 0,
             "ticks": ""
            },
            "type": "contourcarpet"
           }
          ],
          "heatmap": [
           {
            "colorbar": {
             "outlinewidth": 0,
             "ticks": ""
            },
            "colorscale": [
             [
              0,
              "#0d0887"
             ],
             [
              0.1111111111111111,
              "#46039f"
             ],
             [
              0.2222222222222222,
              "#7201a8"
             ],
             [
              0.3333333333333333,
              "#9c179e"
             ],
             [
              0.4444444444444444,
              "#bd3786"
             ],
             [
              0.5555555555555556,
              "#d8576b"
             ],
             [
              0.6666666666666666,
              "#ed7953"
             ],
             [
              0.7777777777777778,
              "#fb9f3a"
             ],
             [
              0.8888888888888888,
              "#fdca26"
             ],
             [
              1,
              "#f0f921"
             ]
            ],
            "type": "heatmap"
           }
          ],
          "heatmapgl": [
           {
            "colorbar": {
             "outlinewidth": 0,
             "ticks": ""
            },
            "colorscale": [
             [
              0,
              "#0d0887"
             ],
             [
              0.1111111111111111,
              "#46039f"
             ],
             [
              0.2222222222222222,
              "#7201a8"
             ],
             [
              0.3333333333333333,
              "#9c179e"
             ],
             [
              0.4444444444444444,
              "#bd3786"
             ],
             [
              0.5555555555555556,
              "#d8576b"
             ],
             [
              0.6666666666666666,
              "#ed7953"
             ],
             [
              0.7777777777777778,
              "#fb9f3a"
             ],
             [
              0.8888888888888888,
              "#fdca26"
             ],
             [
              1,
              "#f0f921"
             ]
            ],
            "type": "heatmapgl"
           }
          ],
          "histogram": [
           {
            "marker": {
             "pattern": {
              "fillmode": "overlay",
              "size": 10,
              "solidity": 0.2
             }
            },
            "type": "histogram"
           }
          ],
          "histogram2d": [
           {
            "colorbar": {
             "outlinewidth": 0,
             "ticks": ""
            },
            "colorscale": [
             [
              0,
              "#0d0887"
             ],
             [
              0.1111111111111111,
              "#46039f"
             ],
             [
              0.2222222222222222,
              "#7201a8"
             ],
             [
              0.3333333333333333,
              "#9c179e"
             ],
             [
              0.4444444444444444,
              "#bd3786"
             ],
             [
              0.5555555555555556,
              "#d8576b"
             ],
             [
              0.6666666666666666,
              "#ed7953"
             ],
             [
              0.7777777777777778,
              "#fb9f3a"
             ],
             [
              0.8888888888888888,
              "#fdca26"
             ],
             [
              1,
              "#f0f921"
             ]
            ],
            "type": "histogram2d"
           }
          ],
          "histogram2dcontour": [
           {
            "colorbar": {
             "outlinewidth": 0,
             "ticks": ""
            },
            "colorscale": [
             [
              0,
              "#0d0887"
             ],
             [
              0.1111111111111111,
              "#46039f"
             ],
             [
              0.2222222222222222,
              "#7201a8"
             ],
             [
              0.3333333333333333,
              "#9c179e"
             ],
             [
              0.4444444444444444,
              "#bd3786"
             ],
             [
              0.5555555555555556,
              "#d8576b"
             ],
             [
              0.6666666666666666,
              "#ed7953"
             ],
             [
              0.7777777777777778,
              "#fb9f3a"
             ],
             [
              0.8888888888888888,
              "#fdca26"
             ],
             [
              1,
              "#f0f921"
             ]
            ],
            "type": "histogram2dcontour"
           }
          ],
          "mesh3d": [
           {
            "colorbar": {
             "outlinewidth": 0,
             "ticks": ""
            },
            "type": "mesh3d"
           }
          ],
          "parcoords": [
           {
            "line": {
             "colorbar": {
              "outlinewidth": 0,
              "ticks": ""
             }
            },
            "type": "parcoords"
           }
          ],
          "pie": [
           {
            "automargin": true,
            "type": "pie"
           }
          ],
          "scatter": [
           {
            "marker": {
             "colorbar": {
              "outlinewidth": 0,
              "ticks": ""
             }
            },
            "type": "scatter"
           }
          ],
          "scatter3d": [
           {
            "line": {
             "colorbar": {
              "outlinewidth": 0,
              "ticks": ""
             }
            },
            "marker": {
             "colorbar": {
              "outlinewidth": 0,
              "ticks": ""
             }
            },
            "type": "scatter3d"
           }
          ],
          "scattercarpet": [
           {
            "marker": {
             "colorbar": {
              "outlinewidth": 0,
              "ticks": ""
             }
            },
            "type": "scattercarpet"
           }
          ],
          "scattergeo": [
           {
            "marker": {
             "colorbar": {
              "outlinewidth": 0,
              "ticks": ""
             }
            },
            "type": "scattergeo"
           }
          ],
          "scattergl": [
           {
            "marker": {
             "colorbar": {
              "outlinewidth": 0,
              "ticks": ""
             }
            },
            "type": "scattergl"
           }
          ],
          "scattermapbox": [
           {
            "marker": {
             "colorbar": {
              "outlinewidth": 0,
              "ticks": ""
             }
            },
            "type": "scattermapbox"
           }
          ],
          "scatterpolar": [
           {
            "marker": {
             "colorbar": {
              "outlinewidth": 0,
              "ticks": ""
             }
            },
            "type": "scatterpolar"
           }
          ],
          "scatterpolargl": [
           {
            "marker": {
             "colorbar": {
              "outlinewidth": 0,
              "ticks": ""
             }
            },
            "type": "scatterpolargl"
           }
          ],
          "scatterternary": [
           {
            "marker": {
             "colorbar": {
              "outlinewidth": 0,
              "ticks": ""
             }
            },
            "type": "scatterternary"
           }
          ],
          "surface": [
           {
            "colorbar": {
             "outlinewidth": 0,
             "ticks": ""
            },
            "colorscale": [
             [
              0,
              "#0d0887"
             ],
             [
              0.1111111111111111,
              "#46039f"
             ],
             [
              0.2222222222222222,
              "#7201a8"
             ],
             [
              0.3333333333333333,
              "#9c179e"
             ],
             [
              0.4444444444444444,
              "#bd3786"
             ],
             [
              0.5555555555555556,
              "#d8576b"
             ],
             [
              0.6666666666666666,
              "#ed7953"
             ],
             [
              0.7777777777777778,
              "#fb9f3a"
             ],
             [
              0.8888888888888888,
              "#fdca26"
             ],
             [
              1,
              "#f0f921"
             ]
            ],
            "type": "surface"
           }
          ],
          "table": [
           {
            "cells": {
             "fill": {
              "color": "#EBF0F8"
             },
             "line": {
              "color": "white"
             }
            },
            "header": {
             "fill": {
              "color": "#C8D4E3"
             },
             "line": {
              "color": "white"
             }
            },
            "type": "table"
           }
          ]
         },
         "layout": {
          "annotationdefaults": {
           "arrowcolor": "#2a3f5f",
           "arrowhead": 0,
           "arrowwidth": 1
          },
          "autotypenumbers": "strict",
          "coloraxis": {
           "colorbar": {
            "outlinewidth": 0,
            "ticks": ""
           }
          },
          "colorscale": {
           "diverging": [
            [
             0,
             "#8e0152"
            ],
            [
             0.1,
             "#c51b7d"
            ],
            [
             0.2,
             "#de77ae"
            ],
            [
             0.3,
             "#f1b6da"
            ],
            [
             0.4,
             "#fde0ef"
            ],
            [
             0.5,
             "#f7f7f7"
            ],
            [
             0.6,
             "#e6f5d0"
            ],
            [
             0.7,
             "#b8e186"
            ],
            [
             0.8,
             "#7fbc41"
            ],
            [
             0.9,
             "#4d9221"
            ],
            [
             1,
             "#276419"
            ]
           ],
           "sequential": [
            [
             0,
             "#0d0887"
            ],
            [
             0.1111111111111111,
             "#46039f"
            ],
            [
             0.2222222222222222,
             "#7201a8"
            ],
            [
             0.3333333333333333,
             "#9c179e"
            ],
            [
             0.4444444444444444,
             "#bd3786"
            ],
            [
             0.5555555555555556,
             "#d8576b"
            ],
            [
             0.6666666666666666,
             "#ed7953"
            ],
            [
             0.7777777777777778,
             "#fb9f3a"
            ],
            [
             0.8888888888888888,
             "#fdca26"
            ],
            [
             1,
             "#f0f921"
            ]
           ],
           "sequentialminus": [
            [
             0,
             "#0d0887"
            ],
            [
             0.1111111111111111,
             "#46039f"
            ],
            [
             0.2222222222222222,
             "#7201a8"
            ],
            [
             0.3333333333333333,
             "#9c179e"
            ],
            [
             0.4444444444444444,
             "#bd3786"
            ],
            [
             0.5555555555555556,
             "#d8576b"
            ],
            [
             0.6666666666666666,
             "#ed7953"
            ],
            [
             0.7777777777777778,
             "#fb9f3a"
            ],
            [
             0.8888888888888888,
             "#fdca26"
            ],
            [
             1,
             "#f0f921"
            ]
           ]
          },
          "colorway": [
           "#636efa",
           "#EF553B",
           "#00cc96",
           "#ab63fa",
           "#FFA15A",
           "#19d3f3",
           "#FF6692",
           "#B6E880",
           "#FF97FF",
           "#FECB52"
          ],
          "font": {
           "color": "#2a3f5f"
          },
          "geo": {
           "bgcolor": "white",
           "lakecolor": "white",
           "landcolor": "white",
           "showlakes": true,
           "showland": true,
           "subunitcolor": "#C8D4E3"
          },
          "hoverlabel": {
           "align": "left"
          },
          "hovermode": "closest",
          "mapbox": {
           "style": "light"
          },
          "paper_bgcolor": "white",
          "plot_bgcolor": "white",
          "polar": {
           "angularaxis": {
            "gridcolor": "#EBF0F8",
            "linecolor": "#EBF0F8",
            "ticks": ""
           },
           "bgcolor": "white",
           "radialaxis": {
            "gridcolor": "#EBF0F8",
            "linecolor": "#EBF0F8",
            "ticks": ""
           }
          },
          "scene": {
           "xaxis": {
            "backgroundcolor": "white",
            "gridcolor": "#DFE8F3",
            "gridwidth": 2,
            "linecolor": "#EBF0F8",
            "showbackground": true,
            "ticks": "",
            "zerolinecolor": "#EBF0F8"
           },
           "yaxis": {
            "backgroundcolor": "white",
            "gridcolor": "#DFE8F3",
            "gridwidth": 2,
            "linecolor": "#EBF0F8",
            "showbackground": true,
            "ticks": "",
            "zerolinecolor": "#EBF0F8"
           },
           "zaxis": {
            "backgroundcolor": "white",
            "gridcolor": "#DFE8F3",
            "gridwidth": 2,
            "linecolor": "#EBF0F8",
            "showbackground": true,
            "ticks": "",
            "zerolinecolor": "#EBF0F8"
           }
          },
          "shapedefaults": {
           "line": {
            "color": "#2a3f5f"
           }
          },
          "ternary": {
           "aaxis": {
            "gridcolor": "#DFE8F3",
            "linecolor": "#A2B1C6",
            "ticks": ""
           },
           "baxis": {
            "gridcolor": "#DFE8F3",
            "linecolor": "#A2B1C6",
            "ticks": ""
           },
           "bgcolor": "white",
           "caxis": {
            "gridcolor": "#DFE8F3",
            "linecolor": "#A2B1C6",
            "ticks": ""
           }
          },
          "title": {
           "x": 0.05
          },
          "xaxis": {
           "automargin": true,
           "gridcolor": "#EBF0F8",
           "linecolor": "#EBF0F8",
           "ticks": "",
           "title": {
            "standoff": 15
           },
           "zerolinecolor": "#EBF0F8",
           "zerolinewidth": 2
          },
          "yaxis": {
           "automargin": true,
           "gridcolor": "#EBF0F8",
           "linecolor": "#EBF0F8",
           "ticks": "",
           "title": {
            "standoff": 15
           },
           "zerolinecolor": "#EBF0F8",
           "zerolinewidth": 2
          }
         }
        },
        "title": {
         "text": "Annotation Comparison by Text Span"
        }
       }
      },
      "text/html": [
       "<div>                            <div id=\"ddf9741f-1990-45b8-815d-3fa5d9478be3\" class=\"plotly-graph-div\" style=\"height:240px; width:100%;\"></div>            <script type=\"text/javascript\">                require([\"plotly\"], function(Plotly) {                    window.PLOTLYENV=window.PLOTLYENV || {};                                    if (document.getElementById(\"ddf9741f-1990-45b8-815d-3fa5d9478be3\")) {                    Plotly.newPlot(                        \"ddf9741f-1990-45b8-815d-3fa5d9478be3\",                        [{\"legendgroup\":\"ambient_sound\",\"marker\":{\"color\":\"#093658\"},\"mode\":\"lines+markers\",\"name\":\"ambient_sound\",\"showlegend\":true,\"text\":\"<I><br>lag ruhig zwischen den vier wohlbekannten W\\u00e4nden <br></I>\",\"x\":[679,728],\"y\":[\"Alina_se_anno_Verwandlung_Kap1\",\"Alina_se_anno_Verwandlung_Kap1\"],\"type\":\"scatter\"},{\"legendgroup\":\"ambient_sound\",\"marker\":{\"color\":\"#093658\"},\"mode\":\"lines+markers\",\"name\":\"ambient_sound\",\"showlegend\":false,\"text\":\"<I><br>gewi\\u00df hatte er auch gel\\u00e4utet <br></I>\",\"x\":[4302,4331],\"y\":[\"Alina_se_anno_Verwandlung_Kap1\",\"Alina_se_anno_Verwandlung_Kap1\"],\"type\":\"scatter\"},{\"legendgroup\":\"ambient_sound\",\"marker\":{\"color\":\"#093658\"},\"mode\":\"lines+markers\",\"name\":\"ambient_sound\",\"showlegend\":false,\"text\":\"<I><br>gerade schlug der Wecker drei Viertel sieben <br></I>\",\"x\":[5754,5799],\"y\":[\"Alina_se_anno_Verwandlung_Kap1\",\"Alina_se_anno_Verwandlung_Kap1\"],\"type\":\"scatter\"},{\"legendgroup\":\"character_sound\",\"marker\":{\"color\":\"#A64B21\"},\"mode\":\"lines+markers\",\"name\":\"character_sound\",\"showlegend\":true,\"text\":\"<I><br>klopfte es vorsichtig an die T\\u00fcr am Kopfende seines Bettes<br><br></I>\",\"x\":[5803,5862],\"y\":[\"Alina_se_anno_Verwandlung_Kap1\",\"Alina_se_anno_Verwandlung_Kap1\"],\"type\":\"scatter\"},{\"legendgroup\":\"character_sound\",\"marker\":{\"color\":\"#A64B21\"},\"mode\":\"lines+markers\",\"name\":\"character_sound\",\"showlegend\":false,\"text\":\"<I><br>rief es <br></I>\",\"x\":[5877,5886],\"y\":[\"Alina_se_anno_Verwandlung_Kap1\",\"Alina_se_anno_Verwandlung_Kap1\"],\"type\":\"scatter\"},{\"legendgroup\":\"character_sound\",\"marker\":{\"color\":\"#A64B21\"},\"mode\":\"lines+markers\",\"name\":\"character_sound\",\"showlegend\":false,\"text\":\"<I><br>als er seine antwortende Stimme h\\u00f6rte <br></I>\",\"x\":[6007,6045],\"y\":[\"Alina_se_anno_Verwandlung_Kap1\",\"Alina_se_anno_Verwandlung_Kap1\"],\"type\":\"scatter\"},{\"legendgroup\":\"character_sound\",\"marker\":{\"color\":\"#A64B21\"},\"mode\":\"lines+markers\",\"name\":\"character_sound\",\"showlegend\":false,\"text\":\"<I><br>in die sich aber, wie von unten her, ein nicht<br>zu unterdr\\u00fcckendes, schmerzliches Piepsen mischte <br></I>\",\"x\":[6088,6185],\"y\":[\"Alina_se_anno_Verwandlung_Kap1\",\"Alina_se_anno_Verwandlung_Kap1\"],\"type\":\"scatter\"},{\"legendgroup\":\"character_sound\",\"marker\":{\"color\":\"#A64B21\"},\"mode\":\"lines+markers\",\"name\":\"character_sound\",\"showlegend\":false,\"text\":\"<I><br>um sie im Nachklang derart zu zerst\\u00f6ren, da\\u00df man nicht<br>wu\\u00dfte, ob man recht geh\\u00f6rt hatte <br></I>\",\"x\":[6265,6353],\"y\":[\"Alina_se_anno_Verwandlung_Kap1\",\"Alina_se_anno_Verwandlung_Kap1\"],\"type\":\"scatter\"},{\"legendgroup\":\"character_sound\",\"marker\":{\"color\":\"#A64B21\"},\"mode\":\"lines+markers\",\"name\":\"character_sound\",\"showlegend\":false,\"text\":\"<I><br>beschr\\u00e4nkte sich aber bei diesen Umst\\u00e4nden darauf, zu sagen <br></I>\",\"x\":[6417,6477],\"y\":[\"Alina_se_anno_Verwandlung_Kap1\",\"Alina_se_anno_Verwandlung_Kap1\"],\"type\":\"scatter\"},{\"legendgroup\":\"character_sound\",\"marker\":{\"color\":\"#A64B21\"},\"mode\":\"lines+markers\",\"name\":\"character_sound\",\"showlegend\":false,\"text\":\"<I><br>und schl\\u00fcrfte davon <br></I>\",\"x\":[6668,6688],\"y\":[\"Alina_se_anno_Verwandlung_Kap1\",\"Alina_se_anno_Verwandlung_Kap1\"],\"type\":\"scatter\"},{\"legendgroup\":\"character_sound\",\"marker\":{\"color\":\"#A64B21\"},\"mode\":\"lines+markers\",\"name\":\"character_sound\",\"showlegend\":false,\"text\":\"<I><br>Aber durch das kleine Gespr\\u00e4ch waren die anderen Familienmitglieder darauf<br>aufmerksam geworden <br></I>\",\"x\":[6690,6785],\"y\":[\"Alina_se_anno_Verwandlung_Kap1\",\"Alina_se_anno_Verwandlung_Kap1\"],\"type\":\"scatter\"},{\"legendgroup\":\"character_sound\",\"marker\":{\"color\":\"#A64B21\"},\"mode\":\"lines+markers\",\"name\":\"character_sound\",\"showlegend\":false,\"text\":\"<I><br>und schon klopfte an der einen Seitent\\u00fcr der Vater, schwach,<br>aber mit der Faust <br></I>\",\"x\":[6832,6912],\"y\":[\"Alina_se_anno_Verwandlung_Kap1\",\"Alina_se_anno_Verwandlung_Kap1\"],\"type\":\"scatter\"},{\"legendgroup\":\"character_sound\",\"marker\":{\"color\":\"#A64B21\"},\"mode\":\"lines+markers\",\"name\":\"character_sound\",\"showlegend\":false,\"text\":\"<I><br>rief er <br></I>\",\"x\":[6935,6943],\"y\":[\"Alina_se_anno_Verwandlung_Kap1\",\"Alina_se_anno_Verwandlung_Kap1\"],\"type\":\"scatter\"},{\"legendgroup\":\"character_sound\",\"marker\":{\"color\":\"#A64B21\"},\"mode\":\"lines+markers\",\"name\":\"character_sound\",\"showlegend\":false,\"text\":\"<I><br>Und nach einer kleinen Weile mahnte er nochmals mit tieferer<br>Stimme <br></I>\",\"x\":[6964,7032],\"y\":[\"Alina_se_anno_Verwandlung_Kap1\",\"Alina_se_anno_Verwandlung_Kap1\"],\"type\":\"scatter\"},{\"legendgroup\":\"character_sound\",\"marker\":{\"color\":\"#A64B21\"},\"mode\":\"lines+markers\",\"name\":\"character_sound\",\"showlegend\":false,\"text\":\"<I><br>An der anderen Seitent\\u00fcr aber klagte leise die Schwester <br></I>\",\"x\":[7055,7112],\"y\":[\"Alina_se_anno_Verwandlung_Kap1\",\"Alina_se_anno_Verwandlung_Kap1\"],\"type\":\"scatter\"},{\"legendgroup\":\"character_sound\",\"marker\":{\"color\":\"#A64B21\"},\"mode\":\"lines+markers\",\"name\":\"character_sound\",\"showlegend\":false,\"text\":\"<I><br>Nach beiden Seiten hin antwortete Gregor <br></I>\",\"x\":[7166,7207],\"y\":[\"Alina_se_anno_Verwandlung_Kap1\",\"Alina_se_anno_Verwandlung_Kap1\"],\"type\":\"scatter\"},{\"legendgroup\":\"character_sound\",\"marker\":{\"color\":\"#A64B21\"},\"mode\":\"lines+markers\",\"name\":\"character_sound\",\"showlegend\":false,\"text\":\"<I><br>bem\\u00fchte sich, durch die sorgf\\u00e4ltigste Aussprache und durch Einschaltung von<br>langen Pausen zwischen den einzelnen Worten seiner Stimme alles Auffallende<br>zu nehmen <br></I>\",\"x\":[7232,7394],\"y\":[\"Alina_se_anno_Verwandlung_Kap1\",\"Alina_se_anno_Verwandlung_Kap1\"],\"type\":\"scatter\"},{\"legendgroup\":\"character_sound\",\"marker\":{\"color\":\"#A64B21\"},\"mode\":\"lines+markers\",\"name\":\"character_sound\",\"showlegend\":false,\"text\":\"<I><br>die Schwester aber fl\\u00fcsterte <br></I>\",\"x\":[7446,7475],\"y\":[\"Alina_se_anno_Verwandlung_Kap1\",\"Alina_se_anno_Verwandlung_Kap1\"],\"type\":\"scatter\"},{\"legendgroup\":\"character_sound\",\"marker\":{\"color\":\"#A64B21\"},\"mode\":\"lines+markers\",\"name\":\"character_sound\",\"showlegend\":false,\"text\":\"<I><br>schlug an den unteren Bettpfosten heftig an <br></I>\",\"x\":[9485,9529],\"y\":[\"Alina_se_anno_Verwandlung_Kap1\",\"Alina_se_anno_Verwandlung_Kap1\"],\"type\":\"scatter\"},{\"legendgroup\":\"character_sound\",\"marker\":{\"color\":\"#A64B21\"},\"mode\":\"lines+markers\",\"name\":\"character_sound\",\"showlegend\":false,\"text\":\"<I><br>Aber als er wieder nach gleicher M\\u00fche aufseufzend so dalag<br>wie fr\\u00fcher <br></I>\",\"x\":[10283,10353],\"y\":[\"Alina_se_anno_Verwandlung_Kap1\",\"Alina_se_anno_Verwandlung_Kap1\"],\"type\":\"scatter\"},{\"legendgroup\":\"ambient_sound\",\"marker\":{\"color\":\"#093658\"},\"mode\":\"lines+markers\",\"name\":\"ambient_sound\",\"showlegend\":false,\"text\":\"<I><br>beim neuerlichen Schlagen des Weckers <br></I>\",\"x\":[11113,11151],\"y\":[\"Alina_se_anno_Verwandlung_Kap1\",\"Alina_se_anno_Verwandlung_Kap1\"],\"type\":\"scatter\"},{\"legendgroup\":\"character_sound\",\"marker\":{\"color\":\"#A64B21\"},\"mode\":\"lines+markers\",\"name\":\"character_sound\",\"showlegend\":false,\"text\":\"<I><br>Und ein Weilchen lang lag er ruhig mit schwachem Atem<br><br></I>\",\"x\":[11209,11263],\"y\":[\"Alina_se_anno_Verwandlung_Kap1\",\"Alina_se_anno_Verwandlung_Kap1\"],\"type\":\"scatter\"},{\"legendgroup\":\"ambient_sound\",\"marker\":{\"color\":\"#093658\"},\"mode\":\"lines+markers\",\"name\":\"ambient_sound\",\"showlegend\":false,\"text\":\"<I><br>als erwarte er vielleicht von der v\\u00f6lligen Stille die Wiederkehr<br>der wirklichen und selbstverst\\u00e4ndlichen Verh\\u00e4ltnisse <br></I>\",\"x\":[11265,11383],\"y\":[\"Alina_se_anno_Verwandlung_Kap1\",\"Alina_se_anno_Verwandlung_Kap1\"],\"type\":\"scatter\"},{\"legendgroup\":\"ambient_sound\",\"marker\":{\"color\":\"#093658\"},\"mode\":\"lines+markers\",\"name\":\"ambient_sound\",\"showlegend\":false,\"text\":\"<I><br>als es an der Wohnungst\\u00fcr l\\u00e4utete <br></I>\",\"x\":[13166,13200],\"y\":[\"Alina_se_anno_Verwandlung_Kap1\",\"Alina_se_anno_Verwandlung_Kap1\"],\"type\":\"scatter\"},{\"legendgroup\":\"ambient_sound\",\"marker\":{\"color\":\"#093658\"},\"mode\":\"lines+markers\",\"name\":\"ambient_sound\",\"showlegend\":false,\"text\":\"<I><br>Einen Augenblick blieb alles still <br></I>\",\"x\":[13324,13359],\"y\":[\"Alina_se_anno_Verwandlung_Kap1\",\"Alina_se_anno_Verwandlung_Kap1\"],\"type\":\"scatter\"},{\"legendgroup\":\"character_sound\",\"marker\":{\"color\":\"#A64B21\"},\"mode\":\"lines+markers\",\"name\":\"character_sound\",\"showlegend\":false,\"text\":\"<I><br>Gregor brauchte nur das erste Gru\\u00dfwort des Besuchers zu h\\u00f6ren<br><br></I>\",\"x\":[13539,13601],\"y\":[\"Alina_se_anno_Verwandlung_Kap1\",\"Alina_se_anno_Verwandlung_Kap1\"],\"type\":\"scatter\"},{\"legendgroup\":\"character_sound\",\"marker\":{\"color\":\"#A64B21\"},\"mode\":\"lines+markers\",\"name\":\"character_sound\",\"showlegend\":false,\"text\":\"<I><br>Es gab einen lauten Schlag <br></I>\",\"x\":[14585,14612],\"y\":[\"Alina_se_anno_Verwandlung_Kap1\",\"Alina_se_anno_Verwandlung_Kap1\"],\"type\":\"scatter\"},{\"legendgroup\":\"character_sound\",\"marker\":{\"color\":\"#A64B21\"},\"mode\":\"lines+markers\",\"name\":\"character_sound\",\"showlegend\":false,\"text\":\"<I><br>daher kam der nicht gar so auffallende dumpfe Klang <br></I>\",\"x\":[14772,14824],\"y\":[\"Alina_se_anno_Verwandlung_Kap1\",\"Alina_se_anno_Verwandlung_Kap1\"],\"type\":\"scatter\"},{\"legendgroup\":\"character_sound\",\"marker\":{\"color\":\"#A64B21\"},\"mode\":\"lines+markers\",\"name\":\"character_sound\",\"showlegend\":false,\"text\":\"<I><br>sagte der Prokurist im Nebenzimmer links <br></I>\",\"x\":[15000,15041],\"y\":[\"Alina_se_anno_Verwandlung_Kap1\",\"Alina_se_anno_Verwandlung_Kap1\"],\"type\":\"scatter\"},{\"legendgroup\":\"character_sound\",\"marker\":{\"color\":\"#A64B21\"},\"mode\":\"lines+markers\",\"name\":\"character_sound\",\"showlegend\":false,\"text\":\"<I><br>und lie\\u00df seine Lackstiefel knarren <br></I>\",\"x\":[15333,15368],\"y\":[\"Alina_se_anno_Verwandlung_Kap1\",\"Alina_se_anno_Verwandlung_Kap1\"],\"type\":\"scatter\"},{\"legendgroup\":\"character_sound\",\"marker\":{\"color\":\"#A64B21\"},\"mode\":\"lines+markers\",\"name\":\"character_sound\",\"showlegend\":false,\"text\":\"<I><br>Aus dem Nebenzimmer rechts fl\\u00fcsterte die Schwester <br></I>\",\"x\":[15370,15421],\"y\":[\"Alina_se_anno_Verwandlung_Kap1\",\"Alina_se_anno_Verwandlung_Kap1\"],\"type\":\"scatter\"},{\"legendgroup\":\"character_sound\",\"marker\":{\"color\":\"#A64B21\"},\"mode\":\"lines+markers\",\"name\":\"character_sound\",\"showlegend\":false,\"text\":\"<I><br>sagte nun der Vater aus dem Nebenzimmer links <br></I>\",\"x\":[15633,15679],\"y\":[\"Alina_se_anno_Verwandlung_Kap1\",\"Alina_se_anno_Verwandlung_Kap1\"],\"type\":\"scatter\"},{\"legendgroup\":\"character_sound\",\"marker\":{\"color\":\"#A64B21\"},\"mode\":\"lines+markers\",\"name\":\"character_sound\",\"showlegend\":false,\"text\":\"<I><br>und erkundigt sich <br></I>\",\"x\":[15715,15734],\"y\":[\"Alina_se_anno_Verwandlung_Kap1\",\"Alina_se_anno_Verwandlung_Kap1\"],\"type\":\"scatter\"},{\"legendgroup\":\"character_sound\",\"marker\":{\"color\":\"#A64B21\"},\"mode\":\"lines+markers\",\"name\":\"character_sound\",\"showlegend\":false,\"text\":\"<I><br>rief der Prokurist freundlich dazwischen <br></I>\",\"x\":[16014,16055],\"y\":[\"Alina_se_anno_Verwandlung_Kap1\",\"Alina_se_anno_Verwandlung_Kap1\"],\"type\":\"scatter\"},{\"legendgroup\":\"character_sound\",\"marker\":{\"color\":\"#A64B21\"},\"mode\":\"lines+markers\",\"name\":\"character_sound\",\"showlegend\":false,\"text\":\"<I><br>sagte die Mutter zum Prokuristen <br></I>\",\"x\":[16082,16115],\"y\":[\"Alina_se_anno_Verwandlung_Kap1\",\"Alina_se_anno_Verwandlung_Kap1\"],\"type\":\"scatter\"},{\"legendgroup\":\"character_sound\",\"marker\":{\"color\":\"#A64B21\"},\"mode\":\"lines+markers\",\"name\":\"character_sound\",\"showlegend\":false,\"text\":\"<I><br>w\\u00e4hrend der Vater noch an der T\\u00fcr redete <br></I>\",\"x\":[16117,16158],\"y\":[\"Alina_se_anno_Verwandlung_Kap1\",\"Alina_se_anno_Verwandlung_Kap1\"],\"type\":\"scatter\"},{\"legendgroup\":\"character_sound\",\"marker\":{\"color\":\"#A64B21\"},\"mode\":\"lines+markers\",\"name\":\"character_sound\",\"showlegend\":false,\"text\":\"<I><br>und liest still die Zeitung <br></I>\",\"x\":[16478,16506],\"y\":[\"Alina_se_anno_Verwandlung_Kap1\",\"Alina_se_anno_Verwandlung_Kap1\"],\"type\":\"scatter\"},{\"legendgroup\":\"character_sound\",\"marker\":{\"color\":\"#A64B21\"},\"mode\":\"lines+markers\",\"name\":\"character_sound\",\"showlegend\":false,\"text\":\"<I><br>sagte Gregor langsam und bed\\u00e4chtig <br></I>\",\"x\":[17067,17102],\"y\":[\"Alina_se_anno_Verwandlung_Kap1\",\"Alina_se_anno_Verwandlung_Kap1\"],\"type\":\"scatter\"},{\"legendgroup\":\"character_sound\",\"marker\":{\"color\":\"#A64B21\"},\"mode\":\"lines+markers\",\"name\":\"character_sound\",\"showlegend\":false,\"text\":\"<I><br>sagte der Prokurist <br></I>\",\"x\":[17231,17251],\"y\":[\"Alina_se_anno_Verwandlung_Kap1\",\"Alina_se_anno_Verwandlung_Kap1\"],\"type\":\"scatter\"},{\"legendgroup\":\"character_sound\",\"marker\":{\"color\":\"#A64B21\"},\"mode\":\"lines+markers\",\"name\":\"character_sound\",\"showlegend\":false,\"text\":\"<I><br>fragte der ungeduldige Vater <br></I>\",\"x\":[17547,17576],\"y\":[\"Alina_se_anno_Verwandlung_Kap1\",\"Alina_se_anno_Verwandlung_Kap1\"],\"type\":\"scatter\"},{\"legendgroup\":\"character_sound\",\"marker\":{\"color\":\"#A64B21\"},\"mode\":\"lines+markers\",\"name\":\"character_sound\",\"showlegend\":false,\"text\":\"<I><br>und klopfte wiederum an die T\\u00fcr <br></I>\",\"x\":[17576,17608],\"y\":[\"Alina_se_anno_Verwandlung_Kap1\",\"Alina_se_anno_Verwandlung_Kap1\"],\"type\":\"scatter\"},{\"legendgroup\":\"character_sound\",\"marker\":{\"color\":\"#A64B21\"},\"mode\":\"lines+markers\",\"name\":\"character_sound\",\"showlegend\":false,\"text\":\"<I><br>sagte Gregor <br></I>\",\"x\":[17621,17634],\"y\":[\"Alina_se_anno_Verwandlung_Kap1\",\"Alina_se_anno_Verwandlung_Kap1\"],\"type\":\"scatter\"},{\"legendgroup\":\"ambient_sound\",\"marker\":{\"color\":\"#093658\"},\"mode\":\"lines+markers\",\"name\":\"ambient_sound\",\"showlegend\":false,\"text\":\"<I><br>Im Nebenzimmer links trat eine peinliche Stille ein <br></I>\",\"x\":[17636,17688],\"y\":[\"Alina_se_anno_Verwandlung_Kap1\",\"Alina_se_anno_Verwandlung_Kap1\"],\"type\":\"scatter\"},{\"legendgroup\":\"character_sound\",\"marker\":{\"color\":\"#A64B21\"},\"mode\":\"lines+markers\",\"name\":\"character_sound\",\"showlegend\":false,\"text\":\"<I><br>im Nebenzimmer rechts begann die Schwester zu schluchzen <br></I>\",\"x\":[17690,17747],\"y\":[\"Alina_se_anno_Verwandlung_Kap1\",\"Alina_se_anno_Verwandlung_Kap1\"],\"type\":\"scatter\"},{\"legendgroup\":\"character_sound\",\"marker\":{\"color\":\"#A64B21\"},\"mode\":\"lines+markers\",\"name\":\"character_sound\",\"showlegend\":false,\"text\":\"<I><br>Und warum weinte sie denn <br></I>\",\"x\":[17904,17930],\"y\":[\"Alina_se_anno_Verwandlung_Kap1\",\"Alina_se_anno_Verwandlung_Kap1\"],\"type\":\"scatter\"},{\"legendgroup\":\"character_sound\",\"marker\":{\"color\":\"#A64B21\"},\"mode\":\"lines+markers\",\"name\":\"character_sound\",\"showlegend\":false,\"text\":\"<I><br>rief nun der Prokurist mit erhobener Stimme <br></I>\",\"x\":[18824,18868],\"y\":[\"Alina_se_anno_Verwandlung_Kap1\",\"Alina_se_anno_Verwandlung_Kap1\"],\"type\":\"scatter\"},{\"legendgroup\":\"character_sound\",\"marker\":{\"color\":\"#A64B21\"},\"mode\":\"lines+markers\",\"name\":\"character_sound\",\"showlegend\":false,\"text\":\"<I><br>antworten blo\\u00df mit Ja und Nein <br></I>\",\"x\":[18936,18967],\"y\":[\"Alina_se_anno_Verwandlung_Kap1\",\"Alina_se_anno_Verwandlung_Kap1\"],\"type\":\"scatter\"},{\"legendgroup\":\"character_sound\",\"marker\":{\"color\":\"#A64B21\"},\"mode\":\"lines+markers\",\"name\":\"character_sound\",\"showlegend\":false,\"text\":\"<I><br>Ich spreche hier im Namen Ihrer Eltern und Ihres Chefs<br><br></I>\",\"x\":[19126,19181],\"y\":[\"Alina_se_anno_Verwandlung_Kap1\",\"Alina_se_anno_Verwandlung_Kap1\"],\"type\":\"scatter\"},{\"legendgroup\":\"character_sound\",\"marker\":{\"color\":\"#A64B21\"},\"mode\":\"lines+markers\",\"name\":\"character_sound\",\"showlegend\":false,\"text\":\"<I><br>bitte Sie ganz ernsthaft um eine augenblickliche, deutliche Erkl\\u00e4rung <br></I>\",\"x\":[19186,19256],\"y\":[\"Alina_se_anno_Verwandlung_Kap1\",\"Alina_se_anno_Verwandlung_Kap1\"],\"type\":\"scatter\"},{\"legendgroup\":\"character_sound\",\"marker\":{\"color\":\"#A64B21\"},\"mode\":\"lines+markers\",\"name\":\"character_sound\",\"showlegend\":false,\"text\":\"<I><br>Der Chef deutete mir zwar heute fr\\u00fch eine m\\u00f6gliche Erkl\\u00e4rung<br>f\\u00fcr Ihre Vers\\u00e4umnis an <br></I>\",\"x\":[19439,19523],\"y\":[\"Alina_se_anno_Verwandlung_Kap1\",\"Alina_se_anno_Verwandlung_Kap1\"],\"type\":\"scatter\"},{\"legendgroup\":\"character_sound\",\"marker\":{\"color\":\"#A64B21\"},\"mode\":\"lines+markers\",\"name\":\"character_sound\",\"showlegend\":false,\"text\":\"<I><br>aber ich legte wahrhaftig fast mein Ehrenwort daf\\u00fcr ein <br></I>\",\"x\":[19582,19638],\"y\":[\"Alina_se_anno_Verwandlung_Kap1\",\"Alina_se_anno_Verwandlung_Kap1\"],\"type\":\"scatter\"},{\"legendgroup\":\"character_sound\",\"marker\":{\"color\":\"#A64B21\"},\"mode\":\"lines+markers\",\"name\":\"character_sound\",\"showlegend\":false,\"text\":\"<I><br>rief Gregor au\\u00dfer sich <br></I>\",\"x\":[20381,20404],\"y\":[\"Alina_se_anno_Verwandlung_Kap1\",\"Alina_se_anno_Verwandlung_Kap1\"],\"type\":\"scatter\"},{\"legendgroup\":\"character_sound\",\"marker\":{\"color\":\"#A64B21\"},\"mode\":\"lines+markers\",\"name\":\"character_sound\",\"showlegend\":false,\"text\":\"<I><br>und kaum wu\\u00dfte, was er sprach <br></I>\",\"x\":[21676,21706],\"y\":[\"Alina_se_anno_Verwandlung_Kap1\",\"Alina_se_anno_Verwandlung_Kap1\"],\"type\":\"scatter\"},{\"legendgroup\":\"character_sound\",\"marker\":{\"color\":\"#A64B21\"},\"mode\":\"lines+markers\",\"name\":\"character_sound\",\"showlegend\":false,\"text\":\"<I><br>die jetzt so nach ihm verlangten <br></I>\",\"x\":[21996,22029],\"y\":[\"Alina_se_anno_Verwandlung_Kap1\",\"Alina_se_anno_Verwandlung_Kap1\"],\"type\":\"scatter\"},{\"legendgroup\":\"character_sound\",\"marker\":{\"color\":\"#A64B21\"},\"mode\":\"lines+markers\",\"name\":\"character_sound\",\"showlegend\":false,\"text\":\"<I><br>und verstummte <br></I>\",\"x\":[22717,22732],\"y\":[\"Alina_se_anno_Verwandlung_Kap1\",\"Alina_se_anno_Verwandlung_Kap1\"],\"type\":\"scatter\"},{\"legendgroup\":\"character_sound\",\"marker\":{\"color\":\"#A64B21\"},\"mode\":\"lines+markers\",\"name\":\"character_sound\",\"showlegend\":false,\"text\":\"<I><br>fragte der Prokurist die Eltern <br></I>\",\"x\":[22823,22855],\"y\":[\"Alina_se_anno_Verwandlung_Kap1\",\"Alina_se_anno_Verwandlung_Kap1\"],\"type\":\"scatter\"},{\"legendgroup\":\"character_sound\",\"marker\":{\"color\":\"#A64B21\"},\"mode\":\"lines+markers\",\"name\":\"character_sound\",\"showlegend\":false,\"text\":\"<I><br>rief die Mutter schon unter Weinen <br></I>\",\"x\":[22937,22972],\"y\":[\"Alina_se_anno_Verwandlung_Kap1\",\"Alina_se_anno_Verwandlung_Kap1\"],\"type\":\"scatter\"},{\"legendgroup\":\"character_sound\",\"marker\":{\"color\":\"#A64B21\"},\"mode\":\"lines+markers\",\"name\":\"character_sound\",\"showlegend\":false,\"text\":\"<I><br>schrie sie dann <br></I>\",\"x\":[23044,23060],\"y\":[\"Alina_se_anno_Verwandlung_Kap1\",\"Alina_se_anno_Verwandlung_Kap1\"],\"type\":\"scatter\"},{\"legendgroup\":\"character_sound\",\"marker\":{\"color\":\"#A64B21\"},\"mode\":\"lines+markers\",\"name\":\"character_sound\",\"showlegend\":false,\"text\":\"<I><br>rief die Schwester von der anderen Seite <br></I>\",\"x\":[23075,23116],\"y\":[\"Alina_se_anno_Verwandlung_Kap1\",\"Alina_se_anno_Verwandlung_Kap1\"],\"type\":\"scatter\"},{\"legendgroup\":\"character_sound\",\"marker\":{\"color\":\"#A64B21\"},\"mode\":\"lines+markers\",\"name\":\"character_sound\",\"showlegend\":false,\"text\":\"<I><br>Sie verst\\u00e4ndigten sich durch Gregors Zimmer <br></I>\",\"x\":[23118,23162],\"y\":[\"Alina_se_anno_Verwandlung_Kap1\",\"Alina_se_anno_Verwandlung_Kap1\"],\"type\":\"scatter\"},{\"legendgroup\":\"character_sound\",\"marker\":{\"color\":\"#A64B21\"},\"mode\":\"lines+markers\",\"name\":\"character_sound\",\"showlegend\":false,\"text\":\"<I><br>sagte der Prokurist, auffallend leise gegen\\u00fcber dem Schreien der Mutter<br><br></I>\",\"x\":[23303,23375],\"y\":[\"Alina_se_anno_Verwandlung_Kap1\",\"Alina_se_anno_Verwandlung_Kap1\"],\"type\":\"scatter\"},{\"legendgroup\":\"character_sound\",\"marker\":{\"color\":\"#A64B21\"},\"mode\":\"lines+markers\",\"name\":\"character_sound\",\"showlegend\":false,\"text\":\"<I><br>rief der Vater durch das Vorzimmer in die K\\u00fcche <br></I>\",\"x\":[23394,23442],\"y\":[\"Alina_se_anno_Verwandlung_Kap1\",\"Alina_se_anno_Verwandlung_Kap1\"],\"type\":\"scatter\"},{\"legendgroup\":\"character_sound\",\"marker\":{\"color\":\"#A64B21\"},\"mode\":\"lines+markers\",\"name\":\"character_sound\",\"showlegend\":false,\"text\":\"<I><br>und klatschte in die H\\u00e4nde <br></I>\",\"x\":[23442,23469],\"y\":[\"Alina_se_anno_Verwandlung_Kap1\",\"Alina_se_anno_Verwandlung_Kap1\"],\"type\":\"scatter\"},{\"legendgroup\":\"character_sound\",\"marker\":{\"color\":\"#A64B21\"},\"mode\":\"lines+markers\",\"name\":\"character_sound\",\"showlegend\":false,\"text\":\"<I><br>Gregor war aber viel ruhiger geworden <br></I>\",\"x\":[23832,23870],\"y\":[\"Alina_se_anno_Verwandlung_Kap1\",\"Alina_se_anno_Verwandlung_Kap1\"],\"type\":\"scatter\"},{\"legendgroup\":\"character_sound\",\"marker\":{\"color\":\"#A64B21\"},\"mode\":\"lines+markers\",\"name\":\"character_sound\",\"showlegend\":false,\"text\":\"<I><br>hustete er ein wenig ab, allerdings bem\\u00fcht, dies ganz ged\\u00e4mpft<br>zu tun <br></I>\",\"x\":[24540,24610],\"y\":[\"Alina_se_anno_Verwandlung_Kap1\",\"Alina_se_anno_Verwandlung_Kap1\"],\"type\":\"scatter\"},{\"legendgroup\":\"character_sound\",\"marker\":{\"color\":\"#A64B21\"},\"mode\":\"lines+markers\",\"name\":\"character_sound\",\"showlegend\":false,\"text\":\"<I><br>da m\\u00f6glicherweise auch schon dieses Ger\\u00e4usch anders als menschlicher Husten<br>klang <br></I>\",\"x\":[24612,24694],\"y\":[\"Alina_se_anno_Verwandlung_Kap1\",\"Alina_se_anno_Verwandlung_Kap1\"],\"type\":\"scatter\"},{\"legendgroup\":\"ambient_sound\",\"marker\":{\"color\":\"#093658\"},\"mode\":\"lines+markers\",\"name\":\"ambient_sound\",\"showlegend\":false,\"text\":\"<I><br>Im Nebenzimmer war es inzwischen ganz still geworden <br></I>\",\"x\":[24751,24804],\"y\":[\"Alina_se_anno_Verwandlung_Kap1\",\"Alina_se_anno_Verwandlung_Kap1\"],\"type\":\"scatter\"},{\"legendgroup\":\"character_sound\",\"marker\":{\"color\":\"#A64B21\"},\"mode\":\"lines+markers\",\"name\":\"character_sound\",\"showlegend\":false,\"text\":\"<I><br>sagte der Prokurist im Nebenzimmer <br></I>\",\"x\":[25683,25718],\"y\":[\"Alina_se_anno_Verwandlung_Kap1\",\"Alina_se_anno_Verwandlung_Kap1\"],\"type\":\"scatter\"},{\"legendgroup\":\"ambient_sound\",\"marker\":{\"color\":\"#093658\"},\"mode\":\"lines+markers\",\"name\":\"ambient_sound\",\"showlegend\":false,\"text\":\"<I><br>Der hellere Klang des endlich zur\\u00fcckschnappenden Schlosses erweckte Gregor f\\u00f6rmlich<br><br></I>\",\"x\":[26372,26456],\"y\":[\"Alina_se_anno_Verwandlung_Kap1\",\"Alina_se_anno_Verwandlung_Kap1\"],\"type\":\"scatter\"},{\"legendgroup\":\"character_sound\",\"marker\":{\"color\":\"#A64B21\"},\"mode\":\"lines+markers\",\"name\":\"character_sound\",\"showlegend\":false,\"text\":\"<I><br>da h\\u00f6rte er schon den Prokuristen ein lautes \\u00bb Oh!<br>\\u00ab aussto\\u00dfen <br></I>\",\"x\":[26999,27063],\"y\":[\"Alina_se_anno_Verwandlung_Kap1\",\"Alina_se_anno_Verwandlung_Kap1\"],\"type\":\"scatter\"},{\"legendgroup\":\"character_sound\",\"marker\":{\"color\":\"#A64B21\"},\"mode\":\"lines+markers\",\"name\":\"character_sound\",\"showlegend\":false,\"text\":\"<I><br>es klang, wie wenn der Wind saust <br></I>\",\"x\":[27066,27100],\"y\":[\"Alina_se_anno_Verwandlung_Kap1\",\"Alina_se_anno_Verwandlung_Kap1\"],\"type\":\"scatter\"},{\"legendgroup\":\"character_sound\",\"marker\":{\"color\":\"#A64B21\"},\"mode\":\"lines+markers\",\"name\":\"character_sound\",\"showlegend\":false,\"text\":\"<I><br>und weinte <br></I>\",\"x\":[27839,27850],\"y\":[\"Alina_se_anno_Verwandlung_Kap1\",\"Alina_se_anno_Verwandlung_Kap1\"],\"type\":\"scatter\"},{\"legendgroup\":\"character_sound\",\"marker\":{\"color\":\"#A64B21\"},\"mode\":\"lines+markers\",\"name\":\"character_sound\",\"showlegend\":false,\"text\":\"<I><br>sagte Gregor <br></I>\",\"x\":[29108,29121],\"y\":[\"Alina_se_anno_Verwandlung_Kap1\",\"Alina_se_anno_Verwandlung_Kap1\"],\"type\":\"scatter\"},{\"legendgroup\":\"character_sound\",\"marker\":{\"color\":\"#A64B21\"},\"mode\":\"lines+markers\",\"name\":\"character_sound\",\"showlegend\":false,\"text\":\"<I><br>sie hatte schon geweint <br></I>\",\"x\":[32687,32711],\"y\":[\"Alina_se_anno_Verwandlung_Kap1\",\"Alina_se_anno_Verwandlung_Kap1\"],\"type\":\"scatter\"},{\"legendgroup\":\"character_sound\",\"marker\":{\"color\":\"#A64B21\"},\"mode\":\"lines+markers\",\"name\":\"character_sound\",\"showlegend\":false,\"text\":\"<I><br>als Gregor noch ruhig auf dem R\\u00fccken lag <br></I>\",\"x\":[32713,32754],\"y\":[\"Alina_se_anno_Verwandlung_Kap1\",\"Alina_se_anno_Verwandlung_Kap1\"],\"type\":\"scatter\"},{\"legendgroup\":\"character_sound\",\"marker\":{\"color\":\"#A64B21\"},\"mode\":\"lines+markers\",\"name\":\"character_sound\",\"showlegend\":false,\"text\":\"<I><br>fiel aber sofort, nach einem Halt suchend, mit einem kleinen<br>Schrei seine vielen Beinchen nieder <br></I>\",\"x\":[33384,33481],\"y\":[\"Alina_se_anno_Verwandlung_Kap1\",\"Alina_se_anno_Verwandlung_Kap1\"],\"type\":\"scatter\"},{\"legendgroup\":\"character_sound\",\"marker\":{\"color\":\"#A64B21\"},\"mode\":\"lines+markers\",\"name\":\"character_sound\",\"showlegend\":false,\"text\":\"<I><br>rief <br></I>\",\"x\":[34120,34125],\"y\":[\"Alina_se_anno_Verwandlung_Kap1\",\"Alina_se_anno_Verwandlung_Kap1\"],\"type\":\"scatter\"},{\"legendgroup\":\"character_sound\",\"marker\":{\"color\":\"#A64B21\"},\"mode\":\"lines+markers\",\"name\":\"character_sound\",\"showlegend\":false,\"text\":\"<I><br>sagte Gregor leise und sah zu ihr hinauf <br></I>\",\"x\":[34569,34610],\"y\":[\"Alina_se_anno_Verwandlung_Kap1\",\"Alina_se_anno_Verwandlung_Kap1\"],\"type\":\"scatter\"},{\"legendgroup\":\"character_sound\",\"marker\":{\"color\":\"#A64B21\"},\"mode\":\"lines+markers\",\"name\":\"character_sound\",\"showlegend\":false,\"text\":\"<I><br>Dar\\u00fcber schrie die Mutter neuerdings auf <br></I>\",\"x\":[34805,34846],\"y\":[\"Alina_se_anno_Verwandlung_Kap1\",\"Alina_se_anno_Verwandlung_Kap1\"],\"type\":\"scatter\"},{\"legendgroup\":\"character_sound\",\"marker\":{\"color\":\"#A64B21\"},\"mode\":\"lines+markers\",\"name\":\"character_sound\",\"showlegend\":false,\"text\":\"<I><br>aber schrie er noch <br></I>\",\"x\":[35246,35266],\"y\":[\"Alina_se_anno_Verwandlung_Kap1\",\"Alina_se_anno_Verwandlung_Kap1\"],\"type\":\"scatter\"},{\"legendgroup\":\"character_sound\",\"marker\":{\"color\":\"#A64B21\"},\"mode\":\"lines+markers\",\"name\":\"character_sound\",\"showlegend\":false,\"text\":\"<I><br>es klang durchs ganze Treppenhaus <br></I>\",\"x\":[35268,35302],\"y\":[\"Alina_se_anno_Verwandlung_Kap1\",\"Alina_se_anno_Verwandlung_Kap1\"],\"type\":\"scatter\"},{\"legendgroup\":\"character_sound\",\"marker\":{\"color\":\"#A64B21\"},\"mode\":\"lines+markers\",\"name\":\"character_sound\",\"showlegend\":false,\"text\":\"<I><br>und machte sich unter F\\u00fc\\u00dfestampfen daran <br></I>\",\"x\":[35717,35758],\"y\":[\"Alina_se_anno_Verwandlung_Kap1\",\"Alina_se_anno_Verwandlung_Kap1\"],\"type\":\"scatter\"},{\"legendgroup\":\"character_sound\",\"marker\":{\"color\":\"#A64B21\"},\"mode\":\"lines+markers\",\"name\":\"character_sound\",\"showlegend\":false,\"text\":\"<I><br>Kein Bitten Gregors half <br></I>\",\"x\":[35843,35868],\"y\":[\"Alina_se_anno_Verwandlung_Kap1\",\"Alina_se_anno_Verwandlung_Kap1\"],\"type\":\"scatter\"},{\"legendgroup\":\"character_sound\",\"marker\":{\"color\":\"#A64B21\"},\"mode\":\"lines+markers\",\"name\":\"character_sound\",\"showlegend\":false,\"text\":\"<I><br>der Vater stampfte nur st\\u00e4rker mit den F\\u00fc\\u00dfen <br></I>\",\"x\":[35948,35993],\"y\":[\"Alina_se_anno_Verwandlung_Kap1\",\"Alina_se_anno_Verwandlung_Kap1\"],\"type\":\"scatter\"},{\"legendgroup\":\"ambient_sound\",\"marker\":{\"color\":\"#093658\"},\"mode\":\"lines+markers\",\"name\":\"ambient_sound\",\"showlegend\":false,\"text\":\"<I><br>die Zeitungen auf dem Tische rauschten <br></I>\",\"x\":[36247,36286],\"y\":[\"Alina_se_anno_Verwandlung_Kap1\",\"Alina_se_anno_Verwandlung_Kap1\"],\"type\":\"scatter\"},{\"legendgroup\":\"character_sound\",\"marker\":{\"color\":\"#A64B21\"},\"mode\":\"lines+markers\",\"name\":\"character_sound\",\"showlegend\":false,\"text\":\"<I><br>und stie\\u00df Zischlaute aus <br></I>\",\"x\":[36363,36388],\"y\":[\"Alina_se_anno_Verwandlung_Kap1\",\"Alina_se_anno_Verwandlung_Kap1\"],\"type\":\"scatter\"},{\"legendgroup\":\"character_sound\",\"marker\":{\"color\":\"#A64B21\"},\"mode\":\"lines+markers\",\"name\":\"character_sound\",\"showlegend\":false,\"text\":\"<I><br>Wenn nur nicht dieses unertr\\u00e4gliche Zischen des Vaters gewesen w\\u00e4re<br><br></I>\",\"x\":[37300,37368],\"y\":[\"Alina_se_anno_Verwandlung_Kap1\",\"Alina_se_anno_Verwandlung_Kap1\"],\"type\":\"scatter\"},{\"legendgroup\":\"character_sound\",\"marker\":{\"color\":\"#A64B21\"},\"mode\":\"lines+markers\",\"name\":\"character_sound\",\"showlegend\":false,\"text\":\"<I><br>immer auf dieses Zischen horchend <br></I>\",\"x\":[37454,37488],\"y\":[\"Alina_se_anno_Verwandlung_Kap1\",\"Alina_se_anno_Verwandlung_Kap1\"],\"type\":\"scatter\"},{\"legendgroup\":\"character_sound\",\"marker\":{\"color\":\"#A64B21\"},\"mode\":\"lines+markers\",\"name\":\"character_sound\",\"showlegend\":false,\"text\":\"<I><br>Vielmehr trieb er, als g\\u00e4be es kein Hindernis, Gregor jetzt<br>unter besonderem L\\u00e4rm vorw\\u00e4rts <br></I>\",\"x\":[38111,38202],\"y\":[\"Alina_se_anno_Verwandlung_Kap1\",\"Alina_se_anno_Verwandlung_Kap1\"],\"type\":\"scatter\"},{\"legendgroup\":\"character_sound\",\"marker\":{\"color\":\"#A64B21\"},\"mode\":\"lines+markers\",\"name\":\"character_sound\",\"showlegend\":false,\"text\":\"<I><br>es klang schon hinter Gregor gar nicht mehr wie die<br>Stimme blo\\u00df eines einzigen Vaters <br></I>\",\"x\":[38204,38290],\"y\":[\"Alina_se_anno_Verwandlung_Kap1\",\"Alina_se_anno_Verwandlung_Kap1\"],\"type\":\"scatter\"},{\"legendgroup\":\"character_sound\",\"marker\":{\"color\":\"#A64B21\"},\"mode\":\"lines+markers\",\"name\":\"character_sound\",\"showlegend\":false,\"text\":\"<I><br>Die T\\u00fcr wurde noch mit dem Stock zugeschlagen <br></I>\",\"x\":[38878,38924],\"y\":[\"Alina_se_anno_Verwandlung_Kap1\",\"Alina_se_anno_Verwandlung_Kap1\"],\"type\":\"scatter\"},{\"legendgroup\":\"ambient_sound\",\"marker\":{\"color\":\"#093658\"},\"mode\":\"lines+markers\",\"name\":\"ambient_sound\",\"showlegend\":false,\"text\":\"<I><br>dann war es endlich still <br></I>\",\"x\":[38926,38952],\"y\":[\"Alina_se_anno_Verwandlung_Kap1\",\"Alina_se_anno_Verwandlung_Kap1\"],\"type\":\"scatter\"},{\"legendgroup\":\"ambient_sound\",\"marker\":{\"color\":\"#093658\"},\"mode\":\"lines+markers\",\"name\":\"ambient_sound\",\"showlegend\":false,\"text\":\"<I><br>Sein Zimmer, ein richtiges, nur etwas zu kleines Menschenzimmer, lag<br>ruhig zwischen den vier wohlbekannten W\\u00e4nden<br></I>\",\"x\":[614,727],\"y\":[\"Svenja_se_anno_Verwandlung_Kap_1\",\"Svenja_se_anno_Verwandlung_Kap_1\"],\"type\":\"scatter\"},{\"legendgroup\":\"ambient_sound\",\"marker\":{\"color\":\"#093658\"},\"mode\":\"lines+markers\",\"name\":\"ambient_sound\",\"showlegend\":false,\"text\":\"<I><br>die auf dem Kasten tickte<br></I>\",\"x\":[4009,4034],\"y\":[\"Svenja_se_anno_Verwandlung_Kap_1\",\"Svenja_se_anno_Verwandlung_Kap_1\"],\"type\":\"scatter\"},{\"legendgroup\":\"ambient_sound\",\"marker\":{\"color\":\"#093658\"},\"mode\":\"lines+markers\",\"name\":\"ambient_sound\",\"showlegend\":false,\"text\":\"<I><br>und die Zeiger gingen ruhig vorw\\u00e4rts<br></I>\",\"x\":[4094,4130],\"y\":[\"Svenja_se_anno_Verwandlung_Kap_1\",\"Svenja_se_anno_Verwandlung_Kap_1\"],\"type\":\"scatter\"},{\"legendgroup\":\"ambient_sound\",\"marker\":{\"color\":\"#093658\"},\"mode\":\"lines+markers\",\"name\":\"ambient_sound\",\"showlegend\":false,\"text\":\"<I><br>gewi\\u00df hatte er auch gel\\u00e4utet<br></I>\",\"x\":[4302,4330],\"y\":[\"Svenja_se_anno_Verwandlung_Kap_1\",\"Svenja_se_anno_Verwandlung_Kap_1\"],\"type\":\"scatter\"},{\"legendgroup\":\"ambient_sound\",\"marker\":{\"color\":\"#093658\"},\"mode\":\"lines+markers\",\"name\":\"ambient_sound\",\"showlegend\":false,\"text\":\"<I><br>gerade schlug der Wecker drei Viertel sieben<br></I>\",\"x\":[5754,5798],\"y\":[\"Svenja_se_anno_Verwandlung_Kap_1\",\"Svenja_se_anno_Verwandlung_Kap_1\"],\"type\":\"scatter\"},{\"legendgroup\":\"ambient_sound\",\"marker\":{\"color\":\"#093658\"},\"mode\":\"lines+markers\",\"name\":\"ambient_sound\",\"showlegend\":false,\"text\":\"<I><br>klopfte es vorsichtig an die T\\u00fcr am Kopfende seines Bettes<br></I>\",\"x\":[5803,5861],\"y\":[\"Svenja_se_anno_Verwandlung_Kap_1\",\"Svenja_se_anno_Verwandlung_Kap_1\"],\"type\":\"scatter\"},{\"legendgroup\":\"character_sound\",\"marker\":{\"color\":\"#A64B21\"},\"mode\":\"lines+markers\",\"name\":\"character_sound\",\"showlegend\":false,\"text\":\"<I><br>rief es<br></I>\",\"x\":[5877,5884],\"y\":[\"Svenja_se_anno_Verwandlung_Kap_1\",\"Svenja_se_anno_Verwandlung_Kap_1\"],\"type\":\"scatter\"},{\"legendgroup\":\"character_sound\",\"marker\":{\"color\":\"#A64B21\"},\"mode\":\"lines+markers\",\"name\":\"character_sound\",\"showlegend\":false,\"text\":\"<I><br>Die sanfte Stimme<br></I>\",\"x\":[5971,5988],\"y\":[\"Svenja_se_anno_Verwandlung_Kap_1\",\"Svenja_se_anno_Verwandlung_Kap_1\"],\"type\":\"scatter\"},{\"legendgroup\":\"character_sound\",\"marker\":{\"color\":\"#A64B21\"},\"mode\":\"lines+markers\",\"name\":\"character_sound\",\"showlegend\":false,\"text\":\"<I><br>als er seine antwortende Stimme h\\u00f6rte<br></I>\",\"x\":[6007,6044],\"y\":[\"Svenja_se_anno_Verwandlung_Kap_1\",\"Svenja_se_anno_Verwandlung_Kap_1\"],\"type\":\"scatter\"},{\"legendgroup\":\"character_sound\",\"marker\":{\"color\":\"#A64B21\"},\"mode\":\"lines+markers\",\"name\":\"character_sound\",\"showlegend\":false,\"text\":\"<I><br>in die sich aber, wie von unten her, ein nicht<br>zu unterdr\\u00fcckendes, schmerzliches Piepsen mischte<br></I>\",\"x\":[6088,6184],\"y\":[\"Svenja_se_anno_Verwandlung_Kap_1\",\"Svenja_se_anno_Verwandlung_Kap_1\"],\"type\":\"scatter\"},{\"legendgroup\":\"character_sound\",\"marker\":{\"color\":\"#A64B21\"},\"mode\":\"lines+markers\",\"name\":\"character_sound\",\"showlegend\":false,\"text\":\"<I><br>beschr\\u00e4nkte sich aber bei diesen Umst\\u00e4nden darauf, zu sagen<br></I>\",\"x\":[6417,6476],\"y\":[\"Svenja_se_anno_Verwandlung_Kap_1\",\"Svenja_se_anno_Verwandlung_Kap_1\"],\"type\":\"scatter\"},{\"legendgroup\":\"character_sound\",\"marker\":{\"color\":\"#A64B21\"},\"mode\":\"lines+markers\",\"name\":\"character_sound\",\"showlegend\":false,\"text\":\"<I><br>und schl\\u00fcrfte davon<br></I>\",\"x\":[6668,6687],\"y\":[\"Svenja_se_anno_Verwandlung_Kap_1\",\"Svenja_se_anno_Verwandlung_Kap_1\"],\"type\":\"scatter\"},{\"legendgroup\":\"character_sound\",\"marker\":{\"color\":\"#A64B21\"},\"mode\":\"lines+markers\",\"name\":\"character_sound\",\"showlegend\":false,\"text\":\"<I><br>und schon klopfte an der einen Seitent\\u00fcr der Vater, schwach,<br>aber mit der Faust<br></I>\",\"x\":[6832,6911],\"y\":[\"Svenja_se_anno_Verwandlung_Kap_1\",\"Svenja_se_anno_Verwandlung_Kap_1\"],\"type\":\"scatter\"},{\"legendgroup\":\"character_sound\",\"marker\":{\"color\":\"#A64B21\"},\"mode\":\"lines+markers\",\"name\":\"character_sound\",\"showlegend\":false,\"text\":\"<I><br> rief er<br></I>\",\"x\":[6934,6942],\"y\":[\"Svenja_se_anno_Verwandlung_Kap_1\",\"Svenja_se_anno_Verwandlung_Kap_1\"],\"type\":\"scatter\"},{\"legendgroup\":\"character_sound\",\"marker\":{\"color\":\"#A64B21\"},\"mode\":\"lines+markers\",\"name\":\"character_sound\",\"showlegend\":false,\"text\":\"<I><br>Und nach einer kleinen Weile mahnte er nochmals mit tieferer<br>Stimme<br></I>\",\"x\":[6964,7031],\"y\":[\"Svenja_se_anno_Verwandlung_Kap_1\",\"Svenja_se_anno_Verwandlung_Kap_1\"],\"type\":\"scatter\"},{\"legendgroup\":\"character_sound\",\"marker\":{\"color\":\"#A64B21\"},\"mode\":\"lines+markers\",\"name\":\"character_sound\",\"showlegend\":false,\"text\":\"<I><br>An der anderen Seitent\\u00fcr aber klagte leise die Schwester <br></I>\",\"x\":[7055,7112],\"y\":[\"Svenja_se_anno_Verwandlung_Kap_1\",\"Svenja_se_anno_Verwandlung_Kap_1\"],\"type\":\"scatter\"},{\"legendgroup\":\"character_sound\",\"marker\":{\"color\":\"#A64B21\"},\"mode\":\"lines+markers\",\"name\":\"character_sound\",\"showlegend\":false,\"text\":\"<I><br>Nach beiden Seiten hin antwortete Gregor<br></I>\",\"x\":[7166,7206],\"y\":[\"Svenja_se_anno_Verwandlung_Kap_1\",\"Svenja_se_anno_Verwandlung_Kap_1\"],\"type\":\"scatter\"},{\"legendgroup\":\"character_sound\",\"marker\":{\"color\":\"#A64B21\"},\"mode\":\"lines+markers\",\"name\":\"character_sound\",\"showlegend\":false,\"text\":\"<I><br>die Schwester aber fl\\u00fcsterte<br></I>\",\"x\":[7446,7474],\"y\":[\"Svenja_se_anno_Verwandlung_Kap_1\",\"Svenja_se_anno_Verwandlung_Kap_1\"],\"type\":\"scatter\"},{\"legendgroup\":\"character_sound\",\"marker\":{\"color\":\"#A64B21\"},\"mode\":\"lines+markers\",\"name\":\"character_sound\",\"showlegend\":false,\"text\":\"<I><br>schlug an den unteren Bettpfosten heftig an<br></I>\",\"x\":[9485,9528],\"y\":[\"Svenja_se_anno_Verwandlung_Kap_1\",\"Svenja_se_anno_Verwandlung_Kap_1\"],\"type\":\"scatter\"},{\"legendgroup\":\"character_sound\",\"marker\":{\"color\":\"#A64B21\"},\"mode\":\"lines+markers\",\"name\":\"character_sound\",\"showlegend\":false,\"text\":\"<I><br>Aber als er wieder nach gleicher M\\u00fche aufseufzend so dalag<br>wie fr\\u00fcher<br></I>\",\"x\":[10283,10352],\"y\":[\"Svenja_se_anno_Verwandlung_Kap_1\",\"Svenja_se_anno_Verwandlung_Kap_1\"],\"type\":\"scatter\"},{\"legendgroup\":\"ambient_sound\",\"marker\":{\"color\":\"#093658\"},\"mode\":\"lines+markers\",\"name\":\"ambient_sound\",\"showlegend\":false,\"text\":\"<I><br>sagte er sich beim neuerlichen Schlagen des Weckers<br></I>\",\"x\":[11099,11150],\"y\":[\"Svenja_se_anno_Verwandlung_Kap_1\",\"Svenja_se_anno_Verwandlung_Kap_1\"],\"type\":\"scatter\"},{\"legendgroup\":\"character_sound\",\"marker\":{\"color\":\"#A64B21\"},\"mode\":\"lines+markers\",\"name\":\"character_sound\",\"showlegend\":false,\"text\":\"<I><br>Und ein Weilchen lang lag er ruhig mit schwachem Atem<br></I>\",\"x\":[11209,11262],\"y\":[\"Svenja_se_anno_Verwandlung_Kap_1\",\"Svenja_se_anno_Verwandlung_Kap_1\"],\"type\":\"scatter\"},{\"legendgroup\":\"ambient_sound\",\"marker\":{\"color\":\"#093658\"},\"mode\":\"lines+markers\",\"name\":\"ambient_sound\",\"showlegend\":false,\"text\":\"<I><br>als erwarte er vielleicht von der v\\u00f6lligen Stille die Wiederkehr<br>der wirklichen und selbstverst\\u00e4ndlichen Verh\\u00e4ltnisse<br></I>\",\"x\":[11265,11382],\"y\":[\"Svenja_se_anno_Verwandlung_Kap_1\",\"Svenja_se_anno_Verwandlung_Kap_1\"],\"type\":\"scatter\"},{\"legendgroup\":\"ambient_sound\",\"marker\":{\"color\":\"#093658\"},\"mode\":\"lines+markers\",\"name\":\"ambient_sound\",\"showlegend\":false,\"text\":\"<I><br>als es an der Wohnungst\\u00fcr l\\u00e4utete<br></I>\",\"x\":[13166,13199],\"y\":[\"Svenja_se_anno_Verwandlung_Kap_1\",\"Svenja_se_anno_Verwandlung_Kap_1\"],\"type\":\"scatter\"},{\"legendgroup\":\"ambient_sound\",\"marker\":{\"color\":\"#093658\"},\"mode\":\"lines+markers\",\"name\":\"ambient_sound\",\"showlegend\":false,\"text\":\"<I><br>Einen Augenblick blieb alles still<br></I>\",\"x\":[13324,13358],\"y\":[\"Svenja_se_anno_Verwandlung_Kap_1\",\"Svenja_se_anno_Verwandlung_Kap_1\"],\"type\":\"scatter\"},{\"legendgroup\":\"character_sound\",\"marker\":{\"color\":\"#A64B21\"},\"mode\":\"lines+markers\",\"name\":\"character_sound\",\"showlegend\":false,\"text\":\"<I><br>Aber dann ging nat\\u00fcrlich wie immer das Dienstm\\u00e4dchen festen Schrittes<br>zur T\\u00fcr<br></I>\",\"x\":[13448,13525],\"y\":[\"Svenja_se_anno_Verwandlung_Kap_1\",\"Svenja_se_anno_Verwandlung_Kap_1\"],\"type\":\"scatter\"},{\"legendgroup\":\"character_sound\",\"marker\":{\"color\":\"#A64B21\"},\"mode\":\"lines+markers\",\"name\":\"character_sound\",\"showlegend\":false,\"text\":\"<I><br>Gregor brauchte nur das erste Gru\\u00dfwort des Besuchers zu h\\u00f6ren<br></I>\",\"x\":[13539,13600],\"y\":[\"Svenja_se_anno_Verwandlung_Kap_1\",\"Svenja_se_anno_Verwandlung_Kap_1\"],\"type\":\"scatter\"},{\"legendgroup\":\"ambient_sound\",\"marker\":{\"color\":\"#093658\"},\"mode\":\"lines+markers\",\"name\":\"ambient_sound\",\"showlegend\":false,\"text\":\"<I><br>Es gab einen lauten Schlag<br></I>\",\"x\":[14585,14611],\"y\":[\"Svenja_se_anno_Verwandlung_Kap_1\",\"Svenja_se_anno_Verwandlung_Kap_1\"],\"type\":\"scatter\"},{\"legendgroup\":\"ambient_sound\",\"marker\":{\"color\":\"#093658\"},\"mode\":\"lines+markers\",\"name\":\"ambient_sound\",\"showlegend\":false,\"text\":\"<I><br>daher kam der nicht gar so auffallende dumpfe Klang<br></I>\",\"x\":[14772,14823],\"y\":[\"Svenja_se_anno_Verwandlung_Kap_1\",\"Svenja_se_anno_Verwandlung_Kap_1\"],\"type\":\"scatter\"},{\"legendgroup\":\"character_sound\",\"marker\":{\"color\":\"#A64B21\"},\"mode\":\"lines+markers\",\"name\":\"character_sound\",\"showlegend\":false,\"text\":\"<I><br>sagte der Prokurist im Nebenzimmer links<br></I>\",\"x\":[15000,15040],\"y\":[\"Svenja_se_anno_Verwandlung_Kap_1\",\"Svenja_se_anno_Verwandlung_Kap_1\"],\"type\":\"scatter\"},{\"legendgroup\":\"character_sound\",\"marker\":{\"color\":\"#A64B21\"},\"mode\":\"lines+markers\",\"name\":\"character_sound\",\"showlegend\":false,\"text\":\"<I><br>Aber wie zur rohen Antwort auf diese Frage machte jetzt<br>der Prokurist im Nebenzimmer ein paar bestimmte Schritte<br></I>\",\"x\":[15220,15332],\"y\":[\"Svenja_se_anno_Verwandlung_Kap_1\",\"Svenja_se_anno_Verwandlung_Kap_1\"],\"type\":\"scatter\"},{\"legendgroup\":\"character_sound\",\"marker\":{\"color\":\"#A64B21\"},\"mode\":\"lines+markers\",\"name\":\"character_sound\",\"showlegend\":false,\"text\":\"<I><br>und lie\\u00df seine Lackstiefel knarren<br></I>\",\"x\":[15333,15367],\"y\":[\"Svenja_se_anno_Verwandlung_Kap_1\",\"Svenja_se_anno_Verwandlung_Kap_1\"],\"type\":\"scatter\"},{\"legendgroup\":\"character_sound\",\"marker\":{\"color\":\"#A64B21\"},\"mode\":\"lines+markers\",\"name\":\"character_sound\",\"showlegend\":false,\"text\":\"<I><br>Aus dem Nebenzimmer rechts fl\\u00fcsterte die Schweste<br></I>\",\"x\":[15370,15419],\"y\":[\"Svenja_se_anno_Verwandlung_Kap_1\",\"Svenja_se_anno_Verwandlung_Kap_1\"],\"type\":\"scatter\"},{\"legendgroup\":\"character_sound\",\"marker\":{\"color\":\"#A64B21\"},\"mode\":\"lines+markers\",\"name\":\"character_sound\",\"showlegend\":false,\"text\":\"<I><br>um Gregor zu verst\\u00e4ndigen<br></I>\",\"x\":[15423,15448],\"y\":[\"Svenja_se_anno_Verwandlung_Kap_1\",\"Svenja_se_anno_Verwandlung_Kap_1\"],\"type\":\"scatter\"},{\"legendgroup\":\"character_sound\",\"marker\":{\"color\":\"#A64B21\"},\"mode\":\"lines+markers\",\"name\":\"character_sound\",\"showlegend\":false,\"text\":\"<I><br> sagte Gregor vor sich hin<br></I>\",\"x\":[15499,15525],\"y\":[\"Svenja_se_anno_Verwandlung_Kap_1\",\"Svenja_se_anno_Verwandlung_Kap_1\"],\"type\":\"scatter\"},{\"legendgroup\":\"character_sound\",\"marker\":{\"color\":\"#A64B21\"},\"mode\":\"lines+markers\",\"name\":\"character_sound\",\"showlegend\":false,\"text\":\"<I><br>sagte nun der Vater aus dem Nebenzimmer links<br></I>\",\"x\":[15633,15678],\"y\":[\"Svenja_se_anno_Verwandlung_Kap_1\",\"Svenja_se_anno_Verwandlung_Kap_1\"],\"type\":\"scatter\"},{\"legendgroup\":\"character_sound\",\"marker\":{\"color\":\"#A64B21\"},\"mode\":\"lines+markers\",\"name\":\"character_sound\",\"showlegend\":false,\"text\":\"<I><br>und erkundigt sich<br></I>\",\"x\":[15715,15733],\"y\":[\"Svenja_se_anno_Verwandlung_Kap_1\",\"Svenja_se_anno_Verwandlung_Kap_1\"],\"type\":\"scatter\"},{\"legendgroup\":\"character_sound\",\"marker\":{\"color\":\"#A64B21\"},\"mode\":\"lines+markers\",\"name\":\"character_sound\",\"showlegend\":false,\"text\":\"<I><br>rief der Prokurist freundlich dazwischen<br></I>\",\"x\":[16014,16054],\"y\":[\"Svenja_se_anno_Verwandlung_Kap_1\",\"Svenja_se_anno_Verwandlung_Kap_1\"],\"type\":\"scatter\"},{\"legendgroup\":\"character_sound\",\"marker\":{\"color\":\"#A64B21\"},\"mode\":\"lines+markers\",\"name\":\"character_sound\",\"showlegend\":false,\"text\":\"<I><br>sagte die Mutter zum Prokuristen<br></I>\",\"x\":[16082,16114],\"y\":[\"Svenja_se_anno_Verwandlung_Kap_1\",\"Svenja_se_anno_Verwandlung_Kap_1\"],\"type\":\"scatter\"},{\"legendgroup\":\"character_sound\",\"marker\":{\"color\":\"#A64B21\"},\"mode\":\"lines+markers\",\"name\":\"character_sound\",\"showlegend\":false,\"text\":\"<I><br>w\\u00e4hrend der Vater noch an der T\\u00fcr redete<br></I>\",\"x\":[16117,16157],\"y\":[\"Svenja_se_anno_Verwandlung_Kap_1\",\"Svenja_se_anno_Verwandlung_Kap_1\"],\"type\":\"scatter\"},{\"legendgroup\":\"character_sound\",\"marker\":{\"color\":\"#A64B21\"},\"mode\":\"lines+markers\",\"name\":\"character_sound\",\"showlegend\":false,\"text\":\"<I><br>und liest still die Zeitung<br></I>\",\"x\":[16478,16505],\"y\":[\"Svenja_se_anno_Verwandlung_Kap_1\",\"Svenja_se_anno_Verwandlung_Kap_1\"],\"type\":\"scatter\"},{\"legendgroup\":\"character_sound\",\"marker\":{\"color\":\"#A64B21\"},\"mode\":\"lines+markers\",\"name\":\"character_sound\",\"showlegend\":false,\"text\":\"<I><br>sagte Gregor langsam und bed\\u00e4chtig<br></I>\",\"x\":[17067,17101],\"y\":[\"Svenja_se_anno_Verwandlung_Kap_1\",\"Svenja_se_anno_Verwandlung_Kap_1\"],\"type\":\"scatter\"},{\"legendgroup\":\"character_sound\",\"marker\":{\"color\":\"#A64B21\"},\"mode\":\"lines+markers\",\"name\":\"character_sound\",\"showlegend\":false,\"text\":\"<I><br>sagte der Prokurist<br></I>\",\"x\":[17231,17250],\"y\":[\"Svenja_se_anno_Verwandlung_Kap_1\",\"Svenja_se_anno_Verwandlung_Kap_1\"],\"type\":\"scatter\"},{\"legendgroup\":\"character_sound\",\"marker\":{\"color\":\"#A64B21\"},\"mode\":\"lines+markers\",\"name\":\"character_sound\",\"showlegend\":false,\"text\":\"<I><br>fragte der ungeduldige Vater<br></I>\",\"x\":[17547,17575],\"y\":[\"Svenja_se_anno_Verwandlung_Kap_1\",\"Svenja_se_anno_Verwandlung_Kap_1\"],\"type\":\"scatter\"},{\"legendgroup\":\"character_sound\",\"marker\":{\"color\":\"#A64B21\"},\"mode\":\"lines+markers\",\"name\":\"character_sound\",\"showlegend\":false,\"text\":\"<I><br>und klopfte wiederum an die T\\u00fcr <br></I>\",\"x\":[17576,17608],\"y\":[\"Svenja_se_anno_Verwandlung_Kap_1\",\"Svenja_se_anno_Verwandlung_Kap_1\"],\"type\":\"scatter\"},{\"legendgroup\":\"character_sound\",\"marker\":{\"color\":\"#A64B21\"},\"mode\":\"lines+markers\",\"name\":\"character_sound\",\"showlegend\":false,\"text\":\"<I><br>sagte Gregor<br></I>\",\"x\":[17621,17633],\"y\":[\"Svenja_se_anno_Verwandlung_Kap_1\",\"Svenja_se_anno_Verwandlung_Kap_1\"],\"type\":\"scatter\"},{\"legendgroup\":\"ambient_sound\",\"marker\":{\"color\":\"#093658\"},\"mode\":\"lines+markers\",\"name\":\"ambient_sound\",\"showlegend\":false,\"text\":\"<I><br>Im Nebenzimmer links trat eine peinliche Stille ein<br></I>\",\"x\":[17636,17687],\"y\":[\"Svenja_se_anno_Verwandlung_Kap_1\",\"Svenja_se_anno_Verwandlung_Kap_1\"],\"type\":\"scatter\"},{\"legendgroup\":\"character_sound\",\"marker\":{\"color\":\"#A64B21\"},\"mode\":\"lines+markers\",\"name\":\"character_sound\",\"showlegend\":false,\"text\":\"<I><br>im Nebenzimmer rechts begann die Schwester zu schluchzen<br></I>\",\"x\":[17690,17746],\"y\":[\"Svenja_se_anno_Verwandlung_Kap_1\",\"Svenja_se_anno_Verwandlung_Kap_1\"],\"type\":\"scatter\"},{\"legendgroup\":\"character_sound\",\"marker\":{\"color\":\"#A64B21\"},\"mode\":\"lines+markers\",\"name\":\"character_sound\",\"showlegend\":false,\"text\":\"<I><br> rief nun der Prokurist mit erhobener Stimme<br></I>\",\"x\":[18823,18867],\"y\":[\"Svenja_se_anno_Verwandlung_Kap_1\",\"Svenja_se_anno_Verwandlung_Kap_1\"],\"type\":\"scatter\"},{\"legendgroup\":\"character_sound\",\"marker\":{\"color\":\"#A64B21\"},\"mode\":\"lines+markers\",\"name\":\"character_sound\",\"showlegend\":false,\"text\":\"<I><br> Ich spreche hier im Namen Ihrer Eltern und Ihres<br>Chefs<br></I>\",\"x\":[19125,19180],\"y\":[\"Svenja_se_anno_Verwandlung_Kap_1\",\"Svenja_se_anno_Verwandlung_Kap_1\"],\"type\":\"scatter\"},{\"legendgroup\":\"character_sound\",\"marker\":{\"color\":\"#A64B21\"},\"mode\":\"lines+markers\",\"name\":\"character_sound\",\"showlegend\":false,\"text\":\"<I><br> und bitte Sie ganz ernsthaft um eine augenblickliche, deutliche<br>Erkl\\u00e4rung<br></I>\",\"x\":[19181,19255],\"y\":[\"Svenja_se_anno_Verwandlung_Kap_1\",\"Svenja_se_anno_Verwandlung_Kap_1\"],\"type\":\"scatter\"},{\"legendgroup\":\"character_sound\",\"marker\":{\"color\":\"#A64B21\"},\"mode\":\"lines+markers\",\"name\":\"character_sound\",\"showlegend\":false,\"text\":\"<I><br>Der Chef deutete mir zwar heute fr\\u00fch eine m\\u00f6gliche Erkl\\u00e4rung<br>f\\u00fcr Ihre Vers\\u00e4umnis an <br></I>\",\"x\":[19439,19523],\"y\":[\"Svenja_se_anno_Verwandlung_Kap_1\",\"Svenja_se_anno_Verwandlung_Kap_1\"],\"type\":\"scatter\"},{\"legendgroup\":\"character_sound\",\"marker\":{\"color\":\"#A64B21\"},\"mode\":\"lines+markers\",\"name\":\"character_sound\",\"showlegend\":false,\"text\":\"<I><br>rief Gregor au\\u00dfer sich<br></I>\",\"x\":[20381,20403],\"y\":[\"Svenja_se_anno_Verwandlung_Kap_1\",\"Svenja_se_anno_Verwandlung_Kap_1\"],\"type\":\"scatter\"},{\"legendgroup\":\"character_sound\",\"marker\":{\"color\":\"#A64B21\"},\"mode\":\"lines+markers\",\"name\":\"character_sound\",\"showlegend\":false,\"text\":\"<I><br>F\\u00fcr alle die Vorw\\u00fcrfe, die Sie mir jetzt machen<br></I>\",\"x\":[21172,21219],\"y\":[\"Svenja_se_anno_Verwandlung_Kap_1\",\"Svenja_se_anno_Verwandlung_Kap_1\"],\"type\":\"scatter\"},{\"legendgroup\":\"character_sound\",\"marker\":{\"color\":\"#A64B21\"},\"mode\":\"lines+markers\",\"name\":\"character_sound\",\"showlegend\":false,\"text\":\"<I><br>Und w\\u00e4hrend Gregor dies alles hastig ausstie\\u00df<br></I>\",\"x\":[21630,21675],\"y\":[\"Svenja_se_anno_Verwandlung_Kap_1\",\"Svenja_se_anno_Verwandlung_Kap_1\"],\"type\":\"scatter\"},{\"legendgroup\":\"character_sound\",\"marker\":{\"color\":\"#A64B21\"},\"mode\":\"lines+markers\",\"name\":\"character_sound\",\"showlegend\":false,\"text\":\"<I><br>was er sprach<br></I>\",\"x\":[21692,21705],\"y\":[\"Svenja_se_anno_Verwandlung_Kap_1\",\"Svenja_se_anno_Verwandlung_Kap_1\"],\"type\":\"scatter\"},{\"legendgroup\":\"character_sound\",\"marker\":{\"color\":\"#A64B21\"},\"mode\":\"lines+markers\",\"name\":\"character_sound\",\"showlegend\":false,\"text\":\"<I><br>und verstummte<br></I>\",\"x\":[22717,22731],\"y\":[\"Svenja_se_anno_Verwandlung_Kap_1\",\"Svenja_se_anno_Verwandlung_Kap_1\"],\"type\":\"scatter\"},{\"legendgroup\":\"character_sound\",\"marker\":{\"color\":\"#A64B21\"},\"mode\":\"lines+markers\",\"name\":\"character_sound\",\"showlegend\":false,\"text\":\"<I><br>fragte der Prokurist die Eltern<br></I>\",\"x\":[22823,22854],\"y\":[\"Svenja_se_anno_Verwandlung_Kap_1\",\"Svenja_se_anno_Verwandlung_Kap_1\"],\"type\":\"scatter\"},{\"legendgroup\":\"character_sound\",\"marker\":{\"color\":\"#A64B21\"},\"mode\":\"lines+markers\",\"name\":\"character_sound\",\"showlegend\":false,\"text\":\"<I><br>rief die Mutter schon unter Weinen<br></I>\",\"x\":[22937,22971],\"y\":[\"Svenja_se_anno_Verwandlung_Kap_1\",\"Svenja_se_anno_Verwandlung_Kap_1\"],\"type\":\"scatter\"},{\"legendgroup\":\"character_sound\",\"marker\":{\"color\":\"#A64B21\"},\"mode\":\"lines+markers\",\"name\":\"character_sound\",\"showlegend\":false,\"text\":\"<I><br>schrie sie dann<br></I>\",\"x\":[23044,23059],\"y\":[\"Svenja_se_anno_Verwandlung_Kap_1\",\"Svenja_se_anno_Verwandlung_Kap_1\"],\"type\":\"scatter\"},{\"legendgroup\":\"character_sound\",\"marker\":{\"color\":\"#A64B21\"},\"mode\":\"lines+markers\",\"name\":\"character_sound\",\"showlegend\":false,\"text\":\"<I><br>rief die Schwester von der anderen Seite<br></I>\",\"x\":[23075,23115],\"y\":[\"Svenja_se_anno_Verwandlung_Kap_1\",\"Svenja_se_anno_Verwandlung_Kap_1\"],\"type\":\"scatter\"},{\"legendgroup\":\"character_sound\",\"marker\":{\"color\":\"#A64B21\"},\"mode\":\"lines+markers\",\"name\":\"character_sound\",\"showlegend\":false,\"text\":\"<I><br>Sie verst\\u00e4ndigten sich durch Gregors Zimmer<br></I>\",\"x\":[23118,23161],\"y\":[\"Svenja_se_anno_Verwandlung_Kap_1\",\"Svenja_se_anno_Verwandlung_Kap_1\"],\"type\":\"scatter\"},{\"legendgroup\":\"character_sound\",\"marker\":{\"color\":\"#A64B21\"},\"mode\":\"lines+markers\",\"name\":\"character_sound\",\"showlegend\":false,\"text\":\"<I><br>sagte der Prokurist, auffallend leise<br></I>\",\"x\":[23303,23340],\"y\":[\"Svenja_se_anno_Verwandlung_Kap_1\",\"Svenja_se_anno_Verwandlung_Kap_1\"],\"type\":\"scatter\"},{\"legendgroup\":\"character_sound\",\"marker\":{\"color\":\"#A64B21\"},\"mode\":\"lines+markers\",\"name\":\"character_sound\",\"showlegend\":false,\"text\":\"<I><br>gegen\\u00fcber dem Schreien der Mutter <br></I>\",\"x\":[23341,23375],\"y\":[\"Svenja_se_anno_Verwandlung_Kap_1\",\"Svenja_se_anno_Verwandlung_Kap_1\"],\"type\":\"scatter\"},{\"legendgroup\":\"character_sound\",\"marker\":{\"color\":\"#A64B21\"},\"mode\":\"lines+markers\",\"name\":\"character_sound\",\"showlegend\":false,\"text\":\"<I><br>rief der Vater durch das Vorzimmer in die K\\u00fcche<br></I>\",\"x\":[23394,23441],\"y\":[\"Svenja_se_anno_Verwandlung_Kap_1\",\"Svenja_se_anno_Verwandlung_Kap_1\"],\"type\":\"scatter\"},{\"legendgroup\":\"character_sound\",\"marker\":{\"color\":\"#A64B21\"},\"mode\":\"lines+markers\",\"name\":\"character_sound\",\"showlegend\":false,\"text\":\"<I><br>und klatschte in die H\\u00e4nde<br></I>\",\"x\":[23442,23468],\"y\":[\"Svenja_se_anno_Verwandlung_Kap_1\",\"Svenja_se_anno_Verwandlung_Kap_1\"],\"type\":\"scatter\"},{\"legendgroup\":\"ambient_sound\",\"marker\":{\"color\":\"#093658\"},\"mode\":\"lines+markers\",\"name\":\"ambient_sound\",\"showlegend\":false,\"text\":\"<I><br>Und schon liefen die zwei M\\u00e4dchen mit rauschenden R\\u00f6cken durch<br>das Vorzimmer<br></I>\",\"x\":[23506,23582],\"y\":[\"Svenja_se_anno_Verwandlung_Kap_1\",\"Svenja_se_anno_Verwandlung_Kap_1\"],\"type\":\"scatter\"},{\"legendgroup\":\"ambient_sound\",\"marker\":{\"color\":\"#093658\"},\"mode\":\"lines+markers\",\"name\":\"ambient_sound\",\"showlegend\":false,\"text\":\"<I><br>und rissen die Wohnungst\\u00fcre auf<br></I>\",\"x\":[23643,23674],\"y\":[\"Svenja_se_anno_Verwandlung_Kap_1\",\"Svenja_se_anno_Verwandlung_Kap_1\"],\"type\":\"scatter\"},{\"legendgroup\":\"character_sound\",\"marker\":{\"color\":\"#A64B21\"},\"mode\":\"lines+markers\",\"name\":\"character_sound\",\"showlegend\":false,\"text\":\"<I><br>Gregor war aber viel ruhiger geworden<br></I>\",\"x\":[23832,23869],\"y\":[\"Svenja_se_anno_Verwandlung_Kap_1\",\"Svenja_se_anno_Verwandlung_Kap_1\"],\"type\":\"scatter\"},{\"legendgroup\":\"character_sound\",\"marker\":{\"color\":\"#A64B21\"},\"mode\":\"lines+markers\",\"name\":\"character_sound\",\"showlegend\":false,\"text\":\"<I><br>Die Zuversicht und Sicherheit, mit welchen die ersten Anordnungen getroffen<br>worden waren<br></I>\",\"x\":[24146,24234],\"y\":[\"Svenja_se_anno_Verwandlung_Kap_1\",\"Svenja_se_anno_Verwandlung_Kap_1\"],\"type\":\"scatter\"},{\"legendgroup\":\"character_sound\",\"marker\":{\"color\":\"#A64B21\"},\"mode\":\"lines+markers\",\"name\":\"character_sound\",\"showlegend\":false,\"text\":\"<I><br>hustete er ein wenig ab<br></I>\",\"x\":[24540,24563],\"y\":[\"Svenja_se_anno_Verwandlung_Kap_1\",\"Svenja_se_anno_Verwandlung_Kap_1\"],\"type\":\"scatter\"},{\"legendgroup\":\"ambient_sound\",\"marker\":{\"color\":\"#093658\"},\"mode\":\"lines+markers\",\"name\":\"ambient_sound\",\"showlegend\":false,\"text\":\"<I><br>Im Nebenzimmer war es inzwischen ganz still geworden<br></I>\",\"x\":[24751,24803],\"y\":[\"Svenja_se_anno_Verwandlung_Kap_1\",\"Svenja_se_anno_Verwandlung_Kap_1\"],\"type\":\"scatter\"},{\"legendgroup\":\"character_sound\",\"marker\":{\"color\":\"#A64B21\"},\"mode\":\"lines+markers\",\"name\":\"character_sound\",\"showlegend\":false,\"text\":\"<I><br>und tuschelten<br></I>\",\"x\":[24865,24879],\"y\":[\"Svenja_se_anno_Verwandlung_Kap_1\",\"Svenja_se_anno_Verwandlung_Kap_1\"],\"type\":\"scatter\"},{\"legendgroup\":\"character_sound\",\"marker\":{\"color\":\"#A64B21\"},\"mode\":\"lines+markers\",\"name\":\"character_sound\",\"showlegend\":false,\"text\":\"<I><br> sagte der Prokurist im Nebenzimmer<br></I>\",\"x\":[25682,25717],\"y\":[\"Svenja_se_anno_Verwandlung_Kap_1\",\"Svenja_se_anno_Verwandlung_Kap_1\"],\"type\":\"scatter\"},{\"legendgroup\":\"ambient_sound\",\"marker\":{\"color\":\"#093658\"},\"mode\":\"lines+markers\",\"name\":\"ambient_sound\",\"showlegend\":false,\"text\":\"<I><br>er dreht den Schl\\u00fcssel um<br></I>\",\"x\":[25722,25747],\"y\":[\"Svenja_se_anno_Verwandlung_Kap_1\",\"Svenja_se_anno_Verwandlung_Kap_1\"],\"type\":\"scatter\"},{\"legendgroup\":\"ambient_sound\",\"marker\":{\"color\":\"#093658\"},\"mode\":\"lines+markers\",\"name\":\"ambient_sound\",\"showlegend\":false,\"text\":\"<I><br>Der hellere Klang des endlich zur\\u00fcckschnappenden Schlosses erweckte Gregor f\\u00f6rmlich<br></I>\",\"x\":[26372,26455],\"y\":[\"Svenja_se_anno_Verwandlung_Kap_1\",\"Svenja_se_anno_Verwandlung_Kap_1\"],\"type\":\"scatter\"},{\"legendgroup\":\"character_sound\",\"marker\":{\"color\":\"#A64B21\"},\"mode\":\"lines+markers\",\"name\":\"character_sound\",\"showlegend\":false,\"text\":\"<I><br>Aufatmend sagte er sich<br></I>\",\"x\":[26458,26481],\"y\":[\"Svenja_se_anno_Verwandlung_Kap_1\",\"Svenja_se_anno_Verwandlung_Kap_1\"],\"type\":\"scatter\"},{\"legendgroup\":\"character_sound\",\"marker\":{\"color\":\"#A64B21\"},\"mode\":\"lines+markers\",\"name\":\"character_sound\",\"showlegend\":false,\"text\":\"<I><br>da h\\u00f6rte er schon den Prokuristen ein lautes \\u00bb Oh!<br>\\u00ab aussto\\u00dfen<br></I>\",\"x\":[26999,27062],\"y\":[\"Svenja_se_anno_Verwandlung_Kap_1\",\"Svenja_se_anno_Verwandlung_Kap_1\"],\"type\":\"scatter\"},{\"legendgroup\":\"ambient_sound\",\"marker\":{\"color\":\"#093658\"},\"mode\":\"lines+markers\",\"name\":\"ambient_sound\",\"showlegend\":false,\"text\":\"<I><br>es klang, wie wenn der Wind saust<br></I>\",\"x\":[27066,27099],\"y\":[\"Svenja_se_anno_Verwandlung_Kap_1\",\"Svenja_se_anno_Verwandlung_Kap_1\"],\"type\":\"scatter\"},{\"legendgroup\":\"character_sound\",\"marker\":{\"color\":\"#A64B21\"},\"mode\":\"lines+markers\",\"name\":\"character_sound\",\"showlegend\":false,\"text\":\"<I><br>und weinte<br></I>\",\"x\":[27839,27849],\"y\":[\"Svenja_se_anno_Verwandlung_Kap_1\",\"Svenja_se_anno_Verwandlung_Kap_1\"],\"type\":\"scatter\"},{\"legendgroup\":\"ambient_sound\",\"marker\":{\"color\":\"#093658\"},\"mode\":\"lines+markers\",\"name\":\"ambient_sound\",\"showlegend\":false,\"text\":\"<I><br>der Regen fiel noch nieder<br></I>\",\"x\":[28366,28392],\"y\":[\"Svenja_se_anno_Verwandlung_Kap_1\",\"Svenja_se_anno_Verwandlung_Kap_1\"],\"type\":\"scatter\"},{\"legendgroup\":\"character_sound\",\"marker\":{\"color\":\"#A64B21\"},\"mode\":\"lines+markers\",\"name\":\"character_sound\",\"showlegend\":false,\"text\":\"<I><br>sagte Gregor<br></I>\",\"x\":[29108,29120],\"y\":[\"Svenja_se_anno_Verwandlung_Kap_1\",\"Svenja_se_anno_Verwandlung_Kap_1\"],\"type\":\"scatter\"},{\"legendgroup\":\"character_sound\",\"marker\":{\"color\":\"#A64B21\"},\"mode\":\"lines+markers\",\"name\":\"character_sound\",\"showlegend\":false,\"text\":\"<I><br>der die Ruhe bewahrt hatte<br></I>\",\"x\":[29179,29205],\"y\":[\"Svenja_se_anno_Verwandlung_Kap_1\",\"Svenja_se_anno_Verwandlung_Kap_1\"],\"type\":\"scatter\"},{\"legendgroup\":\"character_sound\",\"marker\":{\"color\":\"#A64B21\"},\"mode\":\"lines+markers\",\"name\":\"character_sound\",\"showlegend\":false,\"text\":\"<I><br>ganz im Vertrauen gesagt<br></I>\",\"x\":[30473,30497],\"y\":[\"Svenja_se_anno_Verwandlung_Kap_1\",\"Svenja_se_anno_Verwandlung_Kap_1\"],\"type\":\"scatter\"},{\"legendgroup\":\"character_sound\",\"marker\":{\"color\":\"#A64B21\"},\"mode\":\"lines+markers\",\"name\":\"character_sound\",\"showlegend\":false,\"text\":\"<I><br>sie hatte schon geweint <br></I>\",\"x\":[32687,32711],\"y\":[\"Svenja_se_anno_Verwandlung_Kap_1\",\"Svenja_se_anno_Verwandlung_Kap_1\"],\"type\":\"scatter\"},{\"legendgroup\":\"character_sound\",\"marker\":{\"color\":\"#A64B21\"},\"mode\":\"lines+markers\",\"name\":\"character_sound\",\"showlegend\":false,\"text\":\"<I><br>als Gregor noch ruhig auf dem R\\u00fccken lag<br></I>\",\"x\":[32713,32753],\"y\":[\"Svenja_se_anno_Verwandlung_Kap_1\",\"Svenja_se_anno_Verwandlung_Kap_1\"],\"type\":\"scatter\"},{\"legendgroup\":\"character_sound\",\"marker\":{\"color\":\"#A64B21\"},\"mode\":\"lines+markers\",\"name\":\"character_sound\",\"showlegend\":false,\"text\":\"<I><br>fiel aber sofort, nach einem Halt suchend, mit einem kleinen<br>Schrei seine vielen Beinchen nieder<br></I>\",\"x\":[33384,33480],\"y\":[\"Svenja_se_anno_Verwandlung_Kap_1\",\"Svenja_se_anno_Verwandlung_Kap_1\"],\"type\":\"scatter\"},{\"legendgroup\":\"character_sound\",\"marker\":{\"color\":\"#A64B21\"},\"mode\":\"lines+markers\",\"name\":\"character_sound\",\"showlegend\":false,\"text\":\"<I><br>rief<br></I>\",\"x\":[34120,34124],\"y\":[\"Svenja_se_anno_Verwandlung_Kap_1\",\"Svenja_se_anno_Verwandlung_Kap_1\"],\"type\":\"scatter\"},{\"legendgroup\":\"character_sound\",\"marker\":{\"color\":\"#A64B21\"},\"mode\":\"lines+markers\",\"name\":\"character_sound\",\"showlegend\":false,\"text\":\"<I><br>sagte Gregor leise<br></I>\",\"x\":[34569,34587],\"y\":[\"Svenja_se_anno_Verwandlung_Kap_1\",\"Svenja_se_anno_Verwandlung_Kap_1\"],\"type\":\"scatter\"},{\"legendgroup\":\"character_sound\",\"marker\":{\"color\":\"#A64B21\"},\"mode\":\"lines+markers\",\"name\":\"character_sound\",\"showlegend\":false,\"text\":\"<I><br>Dar\\u00fcber schrie die Mutter neuerdings auf<br></I>\",\"x\":[34805,34845],\"y\":[\"Svenja_se_anno_Verwandlung_Kap_1\",\"Svenja_se_anno_Verwandlung_Kap_1\"],\"type\":\"scatter\"},{\"legendgroup\":\"character_sound\",\"marker\":{\"color\":\"#A64B21\"},\"mode\":\"lines+markers\",\"name\":\"character_sound\",\"showlegend\":false,\"text\":\"<I><br>aber schrie er noch<br></I>\",\"x\":[35246,35265],\"y\":[\"Svenja_se_anno_Verwandlung_Kap_1\",\"Svenja_se_anno_Verwandlung_Kap_1\"],\"type\":\"scatter\"},{\"legendgroup\":\"ambient_sound\",\"marker\":{\"color\":\"#093658\"},\"mode\":\"lines+markers\",\"name\":\"ambient_sound\",\"showlegend\":false,\"text\":\"<I><br>es klang durchs ganze Treppenhaus<br></I>\",\"x\":[35268,35301],\"y\":[\"Svenja_se_anno_Verwandlung_Kap_1\",\"Svenja_se_anno_Verwandlung_Kap_1\"],\"type\":\"scatter\"},{\"legendgroup\":\"character_sound\",\"marker\":{\"color\":\"#A64B21\"},\"mode\":\"lines+markers\",\"name\":\"character_sound\",\"showlegend\":false,\"text\":\"<I><br>und machte sich unter F\\u00fc\\u00dfestampfen daran<br></I>\",\"x\":[35717,35757],\"y\":[\"Svenja_se_anno_Verwandlung_Kap_1\",\"Svenja_se_anno_Verwandlung_Kap_1\"],\"type\":\"scatter\"},{\"legendgroup\":\"character_sound\",\"marker\":{\"color\":\"#A64B21\"},\"mode\":\"lines+markers\",\"name\":\"character_sound\",\"showlegend\":false,\"text\":\"<I><br>Kein Bitten Gregors half <br></I>\",\"x\":[35843,35868],\"y\":[\"Svenja_se_anno_Verwandlung_Kap_1\",\"Svenja_se_anno_Verwandlung_Kap_1\"],\"type\":\"scatter\"},{\"legendgroup\":\"character_sound\",\"marker\":{\"color\":\"#A64B21\"},\"mode\":\"lines+markers\",\"name\":\"character_sound\",\"showlegend\":false,\"text\":\"<I><br>der Vater stampfte nur st\\u00e4rker mit den F\\u00fc\\u00dfen<br></I>\",\"x\":[35948,35992],\"y\":[\"Svenja_se_anno_Verwandlung_Kap_1\",\"Svenja_se_anno_Verwandlung_Kap_1\"],\"type\":\"scatter\"},{\"legendgroup\":\"ambient_sound\",\"marker\":{\"color\":\"#093658\"},\"mode\":\"lines+markers\",\"name\":\"ambient_sound\",\"showlegend\":false,\"text\":\"<I><br>die Zeitungen auf dem Tische rauschten <br></I>\",\"x\":[36247,36286],\"y\":[\"Svenja_se_anno_Verwandlung_Kap_1\",\"Svenja_se_anno_Verwandlung_Kap_1\"],\"type\":\"scatter\"},{\"legendgroup\":\"ambient_sound\",\"marker\":{\"color\":\"#093658\"},\"mode\":\"lines+markers\",\"name\":\"ambient_sound\",\"showlegend\":false,\"text\":\"<I><br>einzelne Bl\\u00e4tter wehten \\u00fcber den Boden hin<br></I>\",\"x\":[36288,36330],\"y\":[\"Svenja_se_anno_Verwandlung_Kap_1\",\"Svenja_se_anno_Verwandlung_Kap_1\"],\"type\":\"scatter\"},{\"legendgroup\":\"character_sound\",\"marker\":{\"color\":\"#A64B21\"},\"mode\":\"lines+markers\",\"name\":\"character_sound\",\"showlegend\":false,\"text\":\"<I><br>Unerbittlich dr\\u00e4ngte der Vater<br></I>\",\"x\":[36332,36362],\"y\":[\"Svenja_se_anno_Verwandlung_Kap_1\",\"Svenja_se_anno_Verwandlung_Kap_1\"],\"type\":\"scatter\"},{\"legendgroup\":\"character_sound\",\"marker\":{\"color\":\"#A64B21\"},\"mode\":\"lines+markers\",\"name\":\"character_sound\",\"showlegend\":false,\"text\":\"<I><br>und stie\\u00df Zischlaute aus<br></I>\",\"x\":[36363,36387],\"y\":[\"Svenja_se_anno_Verwandlung_Kap_1\",\"Svenja_se_anno_Verwandlung_Kap_1\"],\"type\":\"scatter\"},{\"legendgroup\":\"character_sound\",\"marker\":{\"color\":\"#A64B21\"},\"mode\":\"lines+markers\",\"name\":\"character_sound\",\"showlegend\":false,\"text\":\"<I><br>Wenn nur nicht dieses unertr\\u00e4gliche Zischen des Vaters gewesen w\\u00e4re<br></I>\",\"x\":[37300,37367],\"y\":[\"Svenja_se_anno_Verwandlung_Kap_1\",\"Svenja_se_anno_Verwandlung_Kap_1\"],\"type\":\"scatter\"},{\"legendgroup\":\"character_sound\",\"marker\":{\"color\":\"#A64B21\"},\"mode\":\"lines+markers\",\"name\":\"character_sound\",\"showlegend\":false,\"text\":\"<I><br>immer auf dieses Zischen horchend <br></I>\",\"x\":[37454,37488],\"y\":[\"Svenja_se_anno_Verwandlung_Kap_1\",\"Svenja_se_anno_Verwandlung_Kap_1\"],\"type\":\"scatter\"},{\"legendgroup\":\"character_sound\",\"marker\":{\"color\":\"#A64B21\"},\"mode\":\"lines+markers\",\"name\":\"character_sound\",\"showlegend\":false,\"text\":\"<I><br>Vielmehr trieb er, als g\\u00e4be es kein Hindernis, Gregor jetzt<br>unter besonderem L\\u00e4rm vorw\\u00e4rts<br></I>\",\"x\":[38111,38201],\"y\":[\"Svenja_se_anno_Verwandlung_Kap_1\",\"Svenja_se_anno_Verwandlung_Kap_1\"],\"type\":\"scatter\"},{\"legendgroup\":\"character_sound\",\"marker\":{\"color\":\"#A64B21\"},\"mode\":\"lines+markers\",\"name\":\"character_sound\",\"showlegend\":false,\"text\":\"<I><br>es klang schon hinter Gregor gar nicht mehr wie die<br>Stimme blo\\u00df eines einzigen Vaters<br></I>\",\"x\":[38204,38289],\"y\":[\"Svenja_se_anno_Verwandlung_Kap_1\",\"Svenja_se_anno_Verwandlung_Kap_1\"],\"type\":\"scatter\"},{\"legendgroup\":\"ambient_sound\",\"marker\":{\"color\":\"#093658\"},\"mode\":\"lines+markers\",\"name\":\"ambient_sound\",\"showlegend\":false,\"text\":\"<I><br>Die T\\u00fcr wurde noch mit dem Stock zugeschlagen<br></I>\",\"x\":[38878,38923],\"y\":[\"Svenja_se_anno_Verwandlung_Kap_1\",\"Svenja_se_anno_Verwandlung_Kap_1\"],\"type\":\"scatter\"},{\"legendgroup\":\"ambient_sound\",\"marker\":{\"color\":\"#093658\"},\"mode\":\"lines+markers\",\"name\":\"ambient_sound\",\"showlegend\":false,\"text\":\"<I><br>dann war es endlich stil<br></I>\",\"x\":[38926,38950],\"y\":[\"Svenja_se_anno_Verwandlung_Kap_1\",\"Svenja_se_anno_Verwandlung_Kap_1\"],\"type\":\"scatter\"}],                        {\"template\":{\"data\":{\"barpolar\":[{\"marker\":{\"line\":{\"color\":\"white\",\"width\":0.5},\"pattern\":{\"fillmode\":\"overlay\",\"size\":10,\"solidity\":0.2}},\"type\":\"barpolar\"}],\"bar\":[{\"error_x\":{\"color\":\"#2a3f5f\"},\"error_y\":{\"color\":\"#2a3f5f\"},\"marker\":{\"line\":{\"color\":\"white\",\"width\":0.5},\"pattern\":{\"fillmode\":\"overlay\",\"size\":10,\"solidity\":0.2}},\"type\":\"bar\"}],\"carpet\":[{\"aaxis\":{\"endlinecolor\":\"#2a3f5f\",\"gridcolor\":\"#C8D4E3\",\"linecolor\":\"#C8D4E3\",\"minorgridcolor\":\"#C8D4E3\",\"startlinecolor\":\"#2a3f5f\"},\"baxis\":{\"endlinecolor\":\"#2a3f5f\",\"gridcolor\":\"#C8D4E3\",\"linecolor\":\"#C8D4E3\",\"minorgridcolor\":\"#C8D4E3\",\"startlinecolor\":\"#2a3f5f\"},\"type\":\"carpet\"}],\"choropleth\":[{\"colorbar\":{\"outlinewidth\":0,\"ticks\":\"\"},\"type\":\"choropleth\"}],\"contourcarpet\":[{\"colorbar\":{\"outlinewidth\":0,\"ticks\":\"\"},\"type\":\"contourcarpet\"}],\"contour\":[{\"colorbar\":{\"outlinewidth\":0,\"ticks\":\"\"},\"colorscale\":[[0.0,\"#0d0887\"],[0.1111111111111111,\"#46039f\"],[0.2222222222222222,\"#7201a8\"],[0.3333333333333333,\"#9c179e\"],[0.4444444444444444,\"#bd3786\"],[0.5555555555555556,\"#d8576b\"],[0.6666666666666666,\"#ed7953\"],[0.7777777777777778,\"#fb9f3a\"],[0.8888888888888888,\"#fdca26\"],[1.0,\"#f0f921\"]],\"type\":\"contour\"}],\"heatmapgl\":[{\"colorbar\":{\"outlinewidth\":0,\"ticks\":\"\"},\"colorscale\":[[0.0,\"#0d0887\"],[0.1111111111111111,\"#46039f\"],[0.2222222222222222,\"#7201a8\"],[0.3333333333333333,\"#9c179e\"],[0.4444444444444444,\"#bd3786\"],[0.5555555555555556,\"#d8576b\"],[0.6666666666666666,\"#ed7953\"],[0.7777777777777778,\"#fb9f3a\"],[0.8888888888888888,\"#fdca26\"],[1.0,\"#f0f921\"]],\"type\":\"heatmapgl\"}],\"heatmap\":[{\"colorbar\":{\"outlinewidth\":0,\"ticks\":\"\"},\"colorscale\":[[0.0,\"#0d0887\"],[0.1111111111111111,\"#46039f\"],[0.2222222222222222,\"#7201a8\"],[0.3333333333333333,\"#9c179e\"],[0.4444444444444444,\"#bd3786\"],[0.5555555555555556,\"#d8576b\"],[0.6666666666666666,\"#ed7953\"],[0.7777777777777778,\"#fb9f3a\"],[0.8888888888888888,\"#fdca26\"],[1.0,\"#f0f921\"]],\"type\":\"heatmap\"}],\"histogram2dcontour\":[{\"colorbar\":{\"outlinewidth\":0,\"ticks\":\"\"},\"colorscale\":[[0.0,\"#0d0887\"],[0.1111111111111111,\"#46039f\"],[0.2222222222222222,\"#7201a8\"],[0.3333333333333333,\"#9c179e\"],[0.4444444444444444,\"#bd3786\"],[0.5555555555555556,\"#d8576b\"],[0.6666666666666666,\"#ed7953\"],[0.7777777777777778,\"#fb9f3a\"],[0.8888888888888888,\"#fdca26\"],[1.0,\"#f0f921\"]],\"type\":\"histogram2dcontour\"}],\"histogram2d\":[{\"colorbar\":{\"outlinewidth\":0,\"ticks\":\"\"},\"colorscale\":[[0.0,\"#0d0887\"],[0.1111111111111111,\"#46039f\"],[0.2222222222222222,\"#7201a8\"],[0.3333333333333333,\"#9c179e\"],[0.4444444444444444,\"#bd3786\"],[0.5555555555555556,\"#d8576b\"],[0.6666666666666666,\"#ed7953\"],[0.7777777777777778,\"#fb9f3a\"],[0.8888888888888888,\"#fdca26\"],[1.0,\"#f0f921\"]],\"type\":\"histogram2d\"}],\"histogram\":[{\"marker\":{\"pattern\":{\"fillmode\":\"overlay\",\"size\":10,\"solidity\":0.2}},\"type\":\"histogram\"}],\"mesh3d\":[{\"colorbar\":{\"outlinewidth\":0,\"ticks\":\"\"},\"type\":\"mesh3d\"}],\"parcoords\":[{\"line\":{\"colorbar\":{\"outlinewidth\":0,\"ticks\":\"\"}},\"type\":\"parcoords\"}],\"pie\":[{\"automargin\":true,\"type\":\"pie\"}],\"scatter3d\":[{\"line\":{\"colorbar\":{\"outlinewidth\":0,\"ticks\":\"\"}},\"marker\":{\"colorbar\":{\"outlinewidth\":0,\"ticks\":\"\"}},\"type\":\"scatter3d\"}],\"scattercarpet\":[{\"marker\":{\"colorbar\":{\"outlinewidth\":0,\"ticks\":\"\"}},\"type\":\"scattercarpet\"}],\"scattergeo\":[{\"marker\":{\"colorbar\":{\"outlinewidth\":0,\"ticks\":\"\"}},\"type\":\"scattergeo\"}],\"scattergl\":[{\"marker\":{\"colorbar\":{\"outlinewidth\":0,\"ticks\":\"\"}},\"type\":\"scattergl\"}],\"scattermapbox\":[{\"marker\":{\"colorbar\":{\"outlinewidth\":0,\"ticks\":\"\"}},\"type\":\"scattermapbox\"}],\"scatterpolargl\":[{\"marker\":{\"colorbar\":{\"outlinewidth\":0,\"ticks\":\"\"}},\"type\":\"scatterpolargl\"}],\"scatterpolar\":[{\"marker\":{\"colorbar\":{\"outlinewidth\":0,\"ticks\":\"\"}},\"type\":\"scatterpolar\"}],\"scatter\":[{\"marker\":{\"colorbar\":{\"outlinewidth\":0,\"ticks\":\"\"}},\"type\":\"scatter\"}],\"scatterternary\":[{\"marker\":{\"colorbar\":{\"outlinewidth\":0,\"ticks\":\"\"}},\"type\":\"scatterternary\"}],\"surface\":[{\"colorbar\":{\"outlinewidth\":0,\"ticks\":\"\"},\"colorscale\":[[0.0,\"#0d0887\"],[0.1111111111111111,\"#46039f\"],[0.2222222222222222,\"#7201a8\"],[0.3333333333333333,\"#9c179e\"],[0.4444444444444444,\"#bd3786\"],[0.5555555555555556,\"#d8576b\"],[0.6666666666666666,\"#ed7953\"],[0.7777777777777778,\"#fb9f3a\"],[0.8888888888888888,\"#fdca26\"],[1.0,\"#f0f921\"]],\"type\":\"surface\"}],\"table\":[{\"cells\":{\"fill\":{\"color\":\"#EBF0F8\"},\"line\":{\"color\":\"white\"}},\"header\":{\"fill\":{\"color\":\"#C8D4E3\"},\"line\":{\"color\":\"white\"}},\"type\":\"table\"}]},\"layout\":{\"annotationdefaults\":{\"arrowcolor\":\"#2a3f5f\",\"arrowhead\":0,\"arrowwidth\":1},\"autotypenumbers\":\"strict\",\"coloraxis\":{\"colorbar\":{\"outlinewidth\":0,\"ticks\":\"\"}},\"colorscale\":{\"diverging\":[[0,\"#8e0152\"],[0.1,\"#c51b7d\"],[0.2,\"#de77ae\"],[0.3,\"#f1b6da\"],[0.4,\"#fde0ef\"],[0.5,\"#f7f7f7\"],[0.6,\"#e6f5d0\"],[0.7,\"#b8e186\"],[0.8,\"#7fbc41\"],[0.9,\"#4d9221\"],[1,\"#276419\"]],\"sequential\":[[0.0,\"#0d0887\"],[0.1111111111111111,\"#46039f\"],[0.2222222222222222,\"#7201a8\"],[0.3333333333333333,\"#9c179e\"],[0.4444444444444444,\"#bd3786\"],[0.5555555555555556,\"#d8576b\"],[0.6666666666666666,\"#ed7953\"],[0.7777777777777778,\"#fb9f3a\"],[0.8888888888888888,\"#fdca26\"],[1.0,\"#f0f921\"]],\"sequentialminus\":[[0.0,\"#0d0887\"],[0.1111111111111111,\"#46039f\"],[0.2222222222222222,\"#7201a8\"],[0.3333333333333333,\"#9c179e\"],[0.4444444444444444,\"#bd3786\"],[0.5555555555555556,\"#d8576b\"],[0.6666666666666666,\"#ed7953\"],[0.7777777777777778,\"#fb9f3a\"],[0.8888888888888888,\"#fdca26\"],[1.0,\"#f0f921\"]]},\"colorway\":[\"#636efa\",\"#EF553B\",\"#00cc96\",\"#ab63fa\",\"#FFA15A\",\"#19d3f3\",\"#FF6692\",\"#B6E880\",\"#FF97FF\",\"#FECB52\"],\"font\":{\"color\":\"#2a3f5f\"},\"geo\":{\"bgcolor\":\"white\",\"lakecolor\":\"white\",\"landcolor\":\"white\",\"showlakes\":true,\"showland\":true,\"subunitcolor\":\"#C8D4E3\"},\"hoverlabel\":{\"align\":\"left\"},\"hovermode\":\"closest\",\"mapbox\":{\"style\":\"light\"},\"paper_bgcolor\":\"white\",\"plot_bgcolor\":\"white\",\"polar\":{\"angularaxis\":{\"gridcolor\":\"#EBF0F8\",\"linecolor\":\"#EBF0F8\",\"ticks\":\"\"},\"bgcolor\":\"white\",\"radialaxis\":{\"gridcolor\":\"#EBF0F8\",\"linecolor\":\"#EBF0F8\",\"ticks\":\"\"}},\"scene\":{\"xaxis\":{\"backgroundcolor\":\"white\",\"gridcolor\":\"#DFE8F3\",\"gridwidth\":2,\"linecolor\":\"#EBF0F8\",\"showbackground\":true,\"ticks\":\"\",\"zerolinecolor\":\"#EBF0F8\"},\"yaxis\":{\"backgroundcolor\":\"white\",\"gridcolor\":\"#DFE8F3\",\"gridwidth\":2,\"linecolor\":\"#EBF0F8\",\"showbackground\":true,\"ticks\":\"\",\"zerolinecolor\":\"#EBF0F8\"},\"zaxis\":{\"backgroundcolor\":\"white\",\"gridcolor\":\"#DFE8F3\",\"gridwidth\":2,\"linecolor\":\"#EBF0F8\",\"showbackground\":true,\"ticks\":\"\",\"zerolinecolor\":\"#EBF0F8\"}},\"shapedefaults\":{\"line\":{\"color\":\"#2a3f5f\"}},\"ternary\":{\"aaxis\":{\"gridcolor\":\"#DFE8F3\",\"linecolor\":\"#A2B1C6\",\"ticks\":\"\"},\"baxis\":{\"gridcolor\":\"#DFE8F3\",\"linecolor\":\"#A2B1C6\",\"ticks\":\"\"},\"bgcolor\":\"white\",\"caxis\":{\"gridcolor\":\"#DFE8F3\",\"linecolor\":\"#A2B1C6\",\"ticks\":\"\"}},\"title\":{\"x\":0.05},\"xaxis\":{\"automargin\":true,\"gridcolor\":\"#EBF0F8\",\"linecolor\":\"#EBF0F8\",\"ticks\":\"\",\"title\":{\"standoff\":15},\"zerolinecolor\":\"#EBF0F8\",\"zerolinewidth\":2},\"yaxis\":{\"automargin\":true,\"gridcolor\":\"#EBF0F8\",\"linecolor\":\"#EBF0F8\",\"ticks\":\"\",\"title\":{\"standoff\":15},\"zerolinecolor\":\"#EBF0F8\",\"zerolinewidth\":2}}},\"title\":{\"text\":\"Annotation Comparison by Text Span\"},\"height\":240,\"legend\":{\"font\":{\"color\":\"#5A98A1\",\"size\":10},\"orientation\":\"h\",\"yanchor\":\"bottom\",\"y\":1.02,\"xanchor\":\"right\",\"x\":1}},                        {\"responsive\": true}                    ).then(function(){\n",
       "                            \n",
       "var gd = document.getElementById('ddf9741f-1990-45b8-815d-3fa5d9478be3');\n",
       "var x = new MutationObserver(function (mutations, observer) {{\n",
       "        var display = window.getComputedStyle(gd).display;\n",
       "        if (!display || display === 'none') {{\n",
       "            console.log([gd, 'removed!']);\n",
       "            Plotly.purge(gd);\n",
       "            observer.disconnect();\n",
       "        }}\n",
       "}});\n",
       "\n",
       "// Listen for the removal of the full notebook cells\n",
       "var notebookContainer = gd.closest('#notebook-container');\n",
       "if (notebookContainer) {{\n",
       "    x.observe(notebookContainer, {childList: true});\n",
       "}}\n",
       "\n",
       "// Listen for the clearing of the current output cell\n",
       "var outputEl = gd.closest('.output');\n",
       "if (outputEl) {{\n",
       "    x.observe(outputEl, {childList: true});\n",
       "}}\n",
       "\n",
       "                        })                };                });            </script>        </div>"
      ]
     },
     "metadata": {},
     "output_type": "display_data"
    }
   ],
   "source": [
    "# compare the annotation collections by start point\n",
    "my_project.compare_annotation_collections(\n",
    "    annotation_collections=['Alina_se_anno_Verwandlung_Kap1', 'Svenja_se_anno_Verwandlung_Kap_1']\n",
    ")"
   ]
  },
  {
   "cell_type": "markdown",
   "metadata": {},
   "source": [
    "As the line plot shows, every annotation in annotation collection 'ac_1' has a matching annotation in annotation collection 'ac_2'.\n",
    "\n",
    "Now, let's compute the IAA for all matching annotations:"
   ]
  },
  {
   "cell_type": "code",
   "execution_count": 15,
   "metadata": {},
   "outputs": [
    {
     "name": "stdout",
     "output_type": "stream",
     "text": [
      "\n",
      "==============================================\n",
      "==============================================\n",
      "Finished search for overlapping annotations in:\n",
      "- Alina_se_anno_Verwandlung_Kap1\n",
      "- Svenja_se_anno_Verwandlung_Kap_1\n",
      "Could match 92 annotations.\n",
      "Average overlap is 92.92 %.\n",
      "Couldn't match 8 annotation(s) in first annotation collection.\n",
      "\n",
      "\n",
      "Results for \"tag\"\n",
      "-----------------\n",
      "Scott's Pi:          0.5549412577747063\n",
      "Cohen's Kappa:       0.5660377358490566\n",
      "Krippendorf's Alpha: 0.5573600552868003\n",
      "===============================================\n",
      "\n",
      "Confusion Matrix\n",
      "                -------\n",
      "\n"
     ]
    },
    {
     "data": {
      "text/html": [
       "<div>\n",
       "<style scoped>\n",
       "    .dataframe tbody tr th:only-of-type {\n",
       "        vertical-align: middle;\n",
       "    }\n",
       "\n",
       "    .dataframe tbody tr th {\n",
       "        vertical-align: top;\n",
       "    }\n",
       "\n",
       "    .dataframe thead th {\n",
       "        text-align: right;\n",
       "    }\n",
       "</style>\n",
       "<table border=\"1\" class=\"dataframe\">\n",
       "  <thead>\n",
       "    <tr style=\"text-align: right;\">\n",
       "      <th></th>\n",
       "      <th>#None#</th>\n",
       "      <th>character_sound</th>\n",
       "      <th>ambient_sound</th>\n",
       "    </tr>\n",
       "  </thead>\n",
       "  <tbody>\n",
       "    <tr>\n",
       "      <th>#None#</th>\n",
       "      <td>0</td>\n",
       "      <td>8</td>\n",
       "      <td>0</td>\n",
       "    </tr>\n",
       "    <tr>\n",
       "      <th>character_sound</th>\n",
       "      <td>0</td>\n",
       "      <td>66</td>\n",
       "      <td>0</td>\n",
       "    </tr>\n",
       "    <tr>\n",
       "      <th>ambient_sound</th>\n",
       "      <td>0</td>\n",
       "      <td>6</td>\n",
       "      <td>12</td>\n",
       "    </tr>\n",
       "  </tbody>\n",
       "</table>\n",
       "</div>"
      ],
      "text/plain": [
       "                 #None#  character_sound  ambient_sound\n",
       "#None#                0                8              0\n",
       "character_sound       0               66              0\n",
       "ambient_sound         0                6             12"
      ]
     },
     "execution_count": 15,
     "metadata": {},
     "output_type": "execute_result"
    }
   ],
   "source": [
    "my_project.get_iaa(\n",
    "    ac1_name='Alina_se_anno_Verwandlung_Kap1',\n",
    "    ac2_name='Svenja_se_anno_Verwandlung_Kap_1'\n",
    ")"
   ]
  },
  {
   "cell_type": "markdown",
   "metadata": {},
   "source": [
    "The `get_iaa` method not only returns 3 different agreement scores,\n",
    "but also reports the number of annotation pairs considered when computing the IAA scores\n",
    "and the average overlap of the annotation pairs.\n",
    "Additionally, the method returns a confusion matrix to give an insight into the relation between the tags.\n",
    "As you can see in the matrix, in 2 cases an annotation with the tag 'non_event' in annotation collection 1\n",
    "has a best match in annotation collection 2 with the same tag.\n",
    "Compare this with the line plot above.\n",
    "\n",
    "### Filter by tags <a class=\"anchor\" id=\"2.2\"></a>\n",
    "\n",
    "There may occur cases in which you don't want to include all annotations in the computing of\n",
    "the IAA scores.\n",
    "In those cases just use the `tag_filter` parameter, which expects a list of tag names."
   ]
  },
  {
   "cell_type": "code",
   "execution_count": 20,
   "metadata": {},
   "outputs": [
    {
     "name": "stdout",
     "output_type": "stream",
     "text": [
      "\n",
      "==============================================\n",
      "==============================================\n",
      "Finished search for overlapping annotations in:\n",
      "- Alina_se_anno_Verwandlung_Kap1\n",
      "- Svenja_se_anno_Verwandlung_Kap_1\n",
      "Could match 80 annotations.\n",
      "Average overlap is 93.29 %.\n",
      "Couldn't match 8 annotation(s) in first annotation collection.\n",
      "\n",
      "\n",
      "Results for \"tag\"\n",
      "-----------------\n",
      "Scott's Pi:          -0.07074569789674971\n",
      "Cohen's Kappa:       0.0\n",
      "Krippendorf's Alpha: -0.06405353728489493\n",
      "===============================================\n",
      "\n",
      "Confusion Matrix\n",
      "                -------\n",
      "\n"
     ]
    },
    {
     "data": {
      "text/html": [
       "<div>\n",
       "<style scoped>\n",
       "    .dataframe tbody tr th:only-of-type {\n",
       "        vertical-align: middle;\n",
       "    }\n",
       "\n",
       "    .dataframe tbody tr th {\n",
       "        vertical-align: top;\n",
       "    }\n",
       "\n",
       "    .dataframe thead th {\n",
       "        text-align: right;\n",
       "    }\n",
       "</style>\n",
       "<table border=\"1\" class=\"dataframe\">\n",
       "  <thead>\n",
       "    <tr style=\"text-align: right;\">\n",
       "      <th></th>\n",
       "      <th>#None#</th>\n",
       "      <th>character_sound</th>\n",
       "      <th>ambient_sound</th>\n",
       "    </tr>\n",
       "  </thead>\n",
       "  <tbody>\n",
       "    <tr>\n",
       "      <th>#None#</th>\n",
       "      <td>0</td>\n",
       "      <td>8</td>\n",
       "      <td>0</td>\n",
       "    </tr>\n",
       "    <tr>\n",
       "      <th>character_sound</th>\n",
       "      <td>0</td>\n",
       "      <td>66</td>\n",
       "      <td>0</td>\n",
       "    </tr>\n",
       "    <tr>\n",
       "      <th>ambient_sound</th>\n",
       "      <td>0</td>\n",
       "      <td>6</td>\n",
       "      <td>0</td>\n",
       "    </tr>\n",
       "  </tbody>\n",
       "</table>\n",
       "</div>"
      ],
      "text/plain": [
       "                 #None#  character_sound  ambient_sound\n",
       "#None#                0                8              0\n",
       "character_sound       0               66              0\n",
       "ambient_sound         0                6              0"
      ]
     },
     "execution_count": 20,
     "metadata": {},
     "output_type": "execute_result"
    }
   ],
   "source": [
    "my_project.get_iaa(\n",
    "    ac1_name='Alina_se_anno_Verwandlung_Kap1',\n",
    "    ac2_name='Svenja_se_anno_Verwandlung_Kap_1',\n",
    "    tag_filter=['character_sound']\n",
    ")"
   ]
  },
  {
   "cell_type": "markdown",
   "metadata": {},
   "source": [
    "As the confusion matrix shows, only the annotations from annotation collection 1\n",
    "with the tag 'process_event' have been taken into account.\n",
    "From annotation collection 2 there are still two annotations considered, with the tags 'stative_event' and 'change_of_state' respectively.\n",
    "But we can filter both annotation collections, too: "
   ]
  },
  {
   "cell_type": "code",
   "execution_count": 21,
   "metadata": {},
   "outputs": [
    {
     "name": "stdout",
     "output_type": "stream",
     "text": [
      "\n",
      "==============================================\n",
      "==============================================\n",
      "Finished search for overlapping annotations in:\n",
      "- Alina_se_anno_Verwandlung_Kap1\n",
      "- Svenja_se_anno_Verwandlung_Kap_1\n",
      "Could match 12 annotations.\n",
      "Average overlap is 90.69 %.\n",
      "Couldn't match 0 annotation(s) in first annotation collection.\n",
      "\n",
      "Couldn't find compute IAA for tag due to missing overlapping annotations with the given settings.\n",
      "\n",
      "Results for \"tag\"\n",
      "-----------------\n",
      "Scott's Pi:          0\n",
      "Cohen's Kappa:       0\n",
      "Krippendorf's Alpha: 0\n",
      "===============================================\n",
      "\n",
      "Confusion Matrix\n",
      "                -------\n",
      "\n"
     ]
    },
    {
     "data": {
      "text/html": [
       "<div>\n",
       "<style scoped>\n",
       "    .dataframe tbody tr th:only-of-type {\n",
       "        vertical-align: middle;\n",
       "    }\n",
       "\n",
       "    .dataframe tbody tr th {\n",
       "        vertical-align: top;\n",
       "    }\n",
       "\n",
       "    .dataframe thead th {\n",
       "        text-align: right;\n",
       "    }\n",
       "</style>\n",
       "<table border=\"1\" class=\"dataframe\">\n",
       "  <thead>\n",
       "    <tr style=\"text-align: right;\">\n",
       "      <th></th>\n",
       "      <th>ambient_sound</th>\n",
       "    </tr>\n",
       "  </thead>\n",
       "  <tbody>\n",
       "    <tr>\n",
       "      <th>ambient_sound</th>\n",
       "      <td>12</td>\n",
       "    </tr>\n",
       "  </tbody>\n",
       "</table>\n",
       "</div>"
      ],
      "text/plain": [
       "               ambient_sound\n",
       "ambient_sound             12"
      ]
     },
     "execution_count": 21,
     "metadata": {},
     "output_type": "execute_result"
    }
   ],
   "source": [
    "my_project.get_iaa(\n",
    "    ac1_name='Alina_se_anno_Verwandlung_Kap1',\n",
    "    ac2_name='Svenja_se_anno_Verwandlung_Kap_1',\n",
    "    tag_filter=['ambient_sound'],\n",
    "    filter_both_ac=True\n",
    ")"
   ]
  },
  {
   "cell_type": "markdown",
   "metadata": {},
   "source": [
    "### Compare annotation properties <a class=\"anchor\" id=\"2.3\"></a>\n",
    "\n",
    "The tag is only one level of CATMA annotations.\n",
    "If you want to compare annotations by their properties this is possible too.\n",
    "In the demo project the annotations have the property 'representation_type' to evaluate if a speech\n",
    "or mental event is referenced in the text:"
   ]
  },
  {
   "cell_type": "code",
   "execution_count": 22,
   "metadata": {},
   "outputs": [
    {
     "data": {
      "application/vnd.plotly.v1+json": {
       "config": {
        "plotlyServerURL": "https://plot.ly"
       },
       "data": [
        {
         "legendgroup": "S",
         "marker": {
          "color": "#093658"
         },
         "mode": "lines+markers",
         "name": "S",
         "showlegend": true,
         "text": "<I><br>lag ruhig zwischen den vier wohlbekannten Wänden <br></I>",
         "type": "scatter",
         "x": [
          679,
          728
         ],
         "y": [
          "Alina_se_anno_Verwandlung_Kap1",
          "Alina_se_anno_Verwandlung_Kap1"
         ]
        },
        {
         "legendgroup": "4",
         "marker": {
          "color": "#A64B21"
         },
         "mode": "lines+markers",
         "name": "4",
         "showlegend": true,
         "text": "<I><br>gewiß hatte er auch geläutet <br></I>",
         "type": "scatter",
         "x": [
          4302,
          4331
         ],
         "y": [
          "Alina_se_anno_Verwandlung_Kap1",
          "Alina_se_anno_Verwandlung_Kap1"
         ]
        },
        {
         "legendgroup": "4",
         "marker": {
          "color": "#A64B21"
         },
         "mode": "lines+markers",
         "name": "4",
         "showlegend": false,
         "text": "<I><br>gerade schlug der Wecker drei Viertel sieben <br></I>",
         "type": "scatter",
         "x": [
          5754,
          5799
         ],
         "y": [
          "Alina_se_anno_Verwandlung_Kap1",
          "Alina_se_anno_Verwandlung_Kap1"
         ]
        },
        {
         "legendgroup": "3",
         "marker": {
          "color": "#A68500"
         },
         "mode": "lines+markers",
         "name": "3",
         "showlegend": true,
         "text": "<I><br>klopfte es vorsichtig an die Tür am Kopfende seines Bettes<br><br></I>",
         "type": "scatter",
         "x": [
          5803,
          5862
         ],
         "y": [
          "Alina_se_anno_Verwandlung_Kap1",
          "Alina_se_anno_Verwandlung_Kap1"
         ]
        },
        {
         "legendgroup": "4",
         "marker": {
          "color": "#A64B21"
         },
         "mode": "lines+markers",
         "name": "4",
         "showlegend": false,
         "text": "<I><br>rief es <br></I>",
         "type": "scatter",
         "x": [
          5877,
          5886
         ],
         "y": [
          "Alina_se_anno_Verwandlung_Kap1",
          "Alina_se_anno_Verwandlung_Kap1"
         ]
        },
        {
         "legendgroup": "3",
         "marker": {
          "color": "#A68500"
         },
         "mode": "lines+markers",
         "name": "3",
         "showlegend": false,
         "text": "<I><br>als er seine antwortende Stimme hörte <br></I>",
         "type": "scatter",
         "x": [
          6007,
          6045
         ],
         "y": [
          "Alina_se_anno_Verwandlung_Kap1",
          "Alina_se_anno_Verwandlung_Kap1"
         ]
        },
        {
         "legendgroup": "3",
         "marker": {
          "color": "#A68500"
         },
         "mode": "lines+markers",
         "name": "3",
         "showlegend": false,
         "text": "<I><br>in die sich aber, wie von unten her, ein nicht<br>zu unterdrückendes, schmerzliches Piepsen mischte <br></I>",
         "type": "scatter",
         "x": [
          6088,
          6185
         ],
         "y": [
          "Alina_se_anno_Verwandlung_Kap1",
          "Alina_se_anno_Verwandlung_Kap1"
         ]
        },
        {
         "legendgroup": "3",
         "marker": {
          "color": "#A68500"
         },
         "mode": "lines+markers",
         "name": "3",
         "showlegend": false,
         "text": "<I><br>um sie im Nachklang derart zu zerstören, daß man nicht<br>wußte, ob man recht gehört hatte <br></I>",
         "type": "scatter",
         "x": [
          6265,
          6353
         ],
         "y": [
          "Alina_se_anno_Verwandlung_Kap1",
          "Alina_se_anno_Verwandlung_Kap1"
         ]
        },
        {
         "legendgroup": "3",
         "marker": {
          "color": "#A68500"
         },
         "mode": "lines+markers",
         "name": "3",
         "showlegend": false,
         "text": "<I><br>beschränkte sich aber bei diesen Umständen darauf, zu sagen <br></I>",
         "type": "scatter",
         "x": [
          6417,
          6477
         ],
         "y": [
          "Alina_se_anno_Verwandlung_Kap1",
          "Alina_se_anno_Verwandlung_Kap1"
         ]
        },
        {
         "legendgroup": "3",
         "marker": {
          "color": "#A68500"
         },
         "mode": "lines+markers",
         "name": "3",
         "showlegend": false,
         "text": "<I><br>und schlürfte davon <br></I>",
         "type": "scatter",
         "x": [
          6668,
          6688
         ],
         "y": [
          "Alina_se_anno_Verwandlung_Kap1",
          "Alina_se_anno_Verwandlung_Kap1"
         ]
        },
        {
         "legendgroup": "3",
         "marker": {
          "color": "#A68500"
         },
         "mode": "lines+markers",
         "name": "3",
         "showlegend": false,
         "text": "<I><br>Aber durch das kleine Gespräch waren die anderen Familienmitglieder darauf<br>aufmerksam geworden <br></I>",
         "type": "scatter",
         "x": [
          6690,
          6785
         ],
         "y": [
          "Alina_se_anno_Verwandlung_Kap1",
          "Alina_se_anno_Verwandlung_Kap1"
         ]
        },
        {
         "legendgroup": "3",
         "marker": {
          "color": "#A68500"
         },
         "mode": "lines+markers",
         "name": "3",
         "showlegend": false,
         "text": "<I><br>und schon klopfte an der einen Seitentür der Vater, schwach,<br>aber mit der Faust <br></I>",
         "type": "scatter",
         "x": [
          6832,
          6912
         ],
         "y": [
          "Alina_se_anno_Verwandlung_Kap1",
          "Alina_se_anno_Verwandlung_Kap1"
         ]
        },
        {
         "legendgroup": "4",
         "marker": {
          "color": "#A64B21"
         },
         "mode": "lines+markers",
         "name": "4",
         "showlegend": false,
         "text": "<I><br>rief er <br></I>",
         "type": "scatter",
         "x": [
          6935,
          6943
         ],
         "y": [
          "Alina_se_anno_Verwandlung_Kap1",
          "Alina_se_anno_Verwandlung_Kap1"
         ]
        },
        {
         "legendgroup": "3",
         "marker": {
          "color": "#A68500"
         },
         "mode": "lines+markers",
         "name": "3",
         "showlegend": false,
         "text": "<I><br>Und nach einer kleinen Weile mahnte er nochmals mit tieferer<br>Stimme <br></I>",
         "type": "scatter",
         "x": [
          6964,
          7032
         ],
         "y": [
          "Alina_se_anno_Verwandlung_Kap1",
          "Alina_se_anno_Verwandlung_Kap1"
         ]
        },
        {
         "legendgroup": "2",
         "marker": {
          "color": "#843AF2"
         },
         "mode": "lines+markers",
         "name": "2",
         "showlegend": true,
         "text": "<I><br>An der anderen Seitentür aber klagte leise die Schwester <br></I>",
         "type": "scatter",
         "x": [
          7055,
          7112
         ],
         "y": [
          "Alina_se_anno_Verwandlung_Kap1",
          "Alina_se_anno_Verwandlung_Kap1"
         ]
        },
        {
         "legendgroup": "3",
         "marker": {
          "color": "#A68500"
         },
         "mode": "lines+markers",
         "name": "3",
         "showlegend": false,
         "text": "<I><br>Nach beiden Seiten hin antwortete Gregor <br></I>",
         "type": "scatter",
         "x": [
          7166,
          7207
         ],
         "y": [
          "Alina_se_anno_Verwandlung_Kap1",
          "Alina_se_anno_Verwandlung_Kap1"
         ]
        },
        {
         "legendgroup": "3",
         "marker": {
          "color": "#A68500"
         },
         "mode": "lines+markers",
         "name": "3",
         "showlegend": false,
         "text": "<I><br>bemühte sich, durch die sorgfältigste Aussprache und durch Einschaltung von<br>langen Pausen zwischen den einzelnen Worten seiner Stimme alles Auffallende<br>zu nehmen <br></I>",
         "type": "scatter",
         "x": [
          7232,
          7394
         ],
         "y": [
          "Alina_se_anno_Verwandlung_Kap1",
          "Alina_se_anno_Verwandlung_Kap1"
         ]
        },
        {
         "legendgroup": "2",
         "marker": {
          "color": "#843AF2"
         },
         "mode": "lines+markers",
         "name": "2",
         "showlegend": false,
         "text": "<I><br>die Schwester aber flüsterte <br></I>",
         "type": "scatter",
         "x": [
          7446,
          7475
         ],
         "y": [
          "Alina_se_anno_Verwandlung_Kap1",
          "Alina_se_anno_Verwandlung_Kap1"
         ]
        },
        {
         "legendgroup": "3",
         "marker": {
          "color": "#A68500"
         },
         "mode": "lines+markers",
         "name": "3",
         "showlegend": false,
         "text": "<I><br>schlug an den unteren Bettpfosten heftig an <br></I>",
         "type": "scatter",
         "x": [
          9485,
          9529
         ],
         "y": [
          "Alina_se_anno_Verwandlung_Kap1",
          "Alina_se_anno_Verwandlung_Kap1"
         ]
        },
        {
         "legendgroup": "3",
         "marker": {
          "color": "#A68500"
         },
         "mode": "lines+markers",
         "name": "3",
         "showlegend": false,
         "text": "<I><br>Aber als er wieder nach gleicher Mühe aufseufzend so dalag<br>wie früher <br></I>",
         "type": "scatter",
         "x": [
          10283,
          10353
         ],
         "y": [
          "Alina_se_anno_Verwandlung_Kap1",
          "Alina_se_anno_Verwandlung_Kap1"
         ]
        },
        {
         "legendgroup": "4",
         "marker": {
          "color": "#A64B21"
         },
         "mode": "lines+markers",
         "name": "4",
         "showlegend": false,
         "text": "<I><br>beim neuerlichen Schlagen des Weckers <br></I>",
         "type": "scatter",
         "x": [
          11113,
          11151
         ],
         "y": [
          "Alina_se_anno_Verwandlung_Kap1",
          "Alina_se_anno_Verwandlung_Kap1"
         ]
        },
        {
         "legendgroup": "S",
         "marker": {
          "color": "#093658"
         },
         "mode": "lines+markers",
         "name": "S",
         "showlegend": false,
         "text": "<I><br>Und ein Weilchen lang lag er ruhig mit schwachem Atem<br><br></I>",
         "type": "scatter",
         "x": [
          11209,
          11263
         ],
         "y": [
          "Alina_se_anno_Verwandlung_Kap1",
          "Alina_se_anno_Verwandlung_Kap1"
         ]
        },
        {
         "legendgroup": "S",
         "marker": {
          "color": "#093658"
         },
         "mode": "lines+markers",
         "name": "S",
         "showlegend": false,
         "text": "<I><br>als erwarte er vielleicht von der völligen Stille die Wiederkehr<br>der wirklichen und selbstverständlichen Verhältnisse <br></I>",
         "type": "scatter",
         "x": [
          11265,
          11383
         ],
         "y": [
          "Alina_se_anno_Verwandlung_Kap1",
          "Alina_se_anno_Verwandlung_Kap1"
         ]
        },
        {
         "legendgroup": "4",
         "marker": {
          "color": "#A64B21"
         },
         "mode": "lines+markers",
         "name": "4",
         "showlegend": false,
         "text": "<I><br>als es an der Wohnungstür läutete <br></I>",
         "type": "scatter",
         "x": [
          13166,
          13200
         ],
         "y": [
          "Alina_se_anno_Verwandlung_Kap1",
          "Alina_se_anno_Verwandlung_Kap1"
         ]
        },
        {
         "legendgroup": "S",
         "marker": {
          "color": "#093658"
         },
         "mode": "lines+markers",
         "name": "S",
         "showlegend": false,
         "text": "<I><br>Einen Augenblick blieb alles still <br></I>",
         "type": "scatter",
         "x": [
          13324,
          13359
         ],
         "y": [
          "Alina_se_anno_Verwandlung_Kap1",
          "Alina_se_anno_Verwandlung_Kap1"
         ]
        },
        {
         "legendgroup": "3",
         "marker": {
          "color": "#A68500"
         },
         "mode": "lines+markers",
         "name": "3",
         "showlegend": false,
         "text": "<I><br>Gregor brauchte nur das erste Grußwort des Besuchers zu hören<br><br></I>",
         "type": "scatter",
         "x": [
          13539,
          13601
         ],
         "y": [
          "Alina_se_anno_Verwandlung_Kap1",
          "Alina_se_anno_Verwandlung_Kap1"
         ]
        },
        {
         "legendgroup": "4",
         "marker": {
          "color": "#A64B21"
         },
         "mode": "lines+markers",
         "name": "4",
         "showlegend": false,
         "text": "<I><br>Es gab einen lauten Schlag <br></I>",
         "type": "scatter",
         "x": [
          14585,
          14612
         ],
         "y": [
          "Alina_se_anno_Verwandlung_Kap1",
          "Alina_se_anno_Verwandlung_Kap1"
         ]
        },
        {
         "legendgroup": "3",
         "marker": {
          "color": "#A68500"
         },
         "mode": "lines+markers",
         "name": "3",
         "showlegend": false,
         "text": "<I><br>daher kam der nicht gar so auffallende dumpfe Klang <br></I>",
         "type": "scatter",
         "x": [
          14772,
          14824
         ],
         "y": [
          "Alina_se_anno_Verwandlung_Kap1",
          "Alina_se_anno_Verwandlung_Kap1"
         ]
        },
        {
         "legendgroup": "3",
         "marker": {
          "color": "#A68500"
         },
         "mode": "lines+markers",
         "name": "3",
         "showlegend": false,
         "text": "<I><br>sagte der Prokurist im Nebenzimmer links <br></I>",
         "type": "scatter",
         "x": [
          15000,
          15041
         ],
         "y": [
          "Alina_se_anno_Verwandlung_Kap1",
          "Alina_se_anno_Verwandlung_Kap1"
         ]
        },
        {
         "legendgroup": "3",
         "marker": {
          "color": "#A68500"
         },
         "mode": "lines+markers",
         "name": "3",
         "showlegend": false,
         "text": "<I><br>und ließ seine Lackstiefel knarren <br></I>",
         "type": "scatter",
         "x": [
          15333,
          15368
         ],
         "y": [
          "Alina_se_anno_Verwandlung_Kap1",
          "Alina_se_anno_Verwandlung_Kap1"
         ]
        },
        {
         "legendgroup": "2",
         "marker": {
          "color": "#843AF2"
         },
         "mode": "lines+markers",
         "name": "2",
         "showlegend": false,
         "text": "<I><br>Aus dem Nebenzimmer rechts flüsterte die Schwester <br></I>",
         "type": "scatter",
         "x": [
          15370,
          15421
         ],
         "y": [
          "Alina_se_anno_Verwandlung_Kap1",
          "Alina_se_anno_Verwandlung_Kap1"
         ]
        },
        {
         "legendgroup": "3",
         "marker": {
          "color": "#A68500"
         },
         "mode": "lines+markers",
         "name": "3",
         "showlegend": false,
         "text": "<I><br>sagte nun der Vater aus dem Nebenzimmer links <br></I>",
         "type": "scatter",
         "x": [
          15633,
          15679
         ],
         "y": [
          "Alina_se_anno_Verwandlung_Kap1",
          "Alina_se_anno_Verwandlung_Kap1"
         ]
        },
        {
         "legendgroup": "3",
         "marker": {
          "color": "#A68500"
         },
         "mode": "lines+markers",
         "name": "3",
         "showlegend": false,
         "text": "<I><br>und erkundigt sich <br></I>",
         "type": "scatter",
         "x": [
          15715,
          15734
         ],
         "y": [
          "Alina_se_anno_Verwandlung_Kap1",
          "Alina_se_anno_Verwandlung_Kap1"
         ]
        },
        {
         "legendgroup": "4",
         "marker": {
          "color": "#A64B21"
         },
         "mode": "lines+markers",
         "name": "4",
         "showlegend": false,
         "text": "<I><br>rief der Prokurist freundlich dazwischen <br></I>",
         "type": "scatter",
         "x": [
          16014,
          16055
         ],
         "y": [
          "Alina_se_anno_Verwandlung_Kap1",
          "Alina_se_anno_Verwandlung_Kap1"
         ]
        },
        {
         "legendgroup": "3",
         "marker": {
          "color": "#A68500"
         },
         "mode": "lines+markers",
         "name": "3",
         "showlegend": false,
         "text": "<I><br>sagte die Mutter zum Prokuristen <br></I>",
         "type": "scatter",
         "x": [
          16082,
          16115
         ],
         "y": [
          "Alina_se_anno_Verwandlung_Kap1",
          "Alina_se_anno_Verwandlung_Kap1"
         ]
        },
        {
         "legendgroup": "3",
         "marker": {
          "color": "#A68500"
         },
         "mode": "lines+markers",
         "name": "3",
         "showlegend": false,
         "text": "<I><br>während der Vater noch an der Tür redete <br></I>",
         "type": "scatter",
         "x": [
          16117,
          16158
         ],
         "y": [
          "Alina_se_anno_Verwandlung_Kap1",
          "Alina_se_anno_Verwandlung_Kap1"
         ]
        },
        {
         "legendgroup": "S",
         "marker": {
          "color": "#093658"
         },
         "mode": "lines+markers",
         "name": "S",
         "showlegend": false,
         "text": "<I><br>und liest still die Zeitung <br></I>",
         "type": "scatter",
         "x": [
          16478,
          16506
         ],
         "y": [
          "Alina_se_anno_Verwandlung_Kap1",
          "Alina_se_anno_Verwandlung_Kap1"
         ]
        },
        {
         "legendgroup": "3",
         "marker": {
          "color": "#A68500"
         },
         "mode": "lines+markers",
         "name": "3",
         "showlegend": false,
         "text": "<I><br>sagte Gregor langsam und bedächtig <br></I>",
         "type": "scatter",
         "x": [
          17067,
          17102
         ],
         "y": [
          "Alina_se_anno_Verwandlung_Kap1",
          "Alina_se_anno_Verwandlung_Kap1"
         ]
        },
        {
         "legendgroup": "3",
         "marker": {
          "color": "#A68500"
         },
         "mode": "lines+markers",
         "name": "3",
         "showlegend": false,
         "text": "<I><br>sagte der Prokurist <br></I>",
         "type": "scatter",
         "x": [
          17231,
          17251
         ],
         "y": [
          "Alina_se_anno_Verwandlung_Kap1",
          "Alina_se_anno_Verwandlung_Kap1"
         ]
        },
        {
         "legendgroup": "3",
         "marker": {
          "color": "#A68500"
         },
         "mode": "lines+markers",
         "name": "3",
         "showlegend": false,
         "text": "<I><br>fragte der ungeduldige Vater <br></I>",
         "type": "scatter",
         "x": [
          17547,
          17576
         ],
         "y": [
          "Alina_se_anno_Verwandlung_Kap1",
          "Alina_se_anno_Verwandlung_Kap1"
         ]
        },
        {
         "legendgroup": "3",
         "marker": {
          "color": "#A68500"
         },
         "mode": "lines+markers",
         "name": "3",
         "showlegend": false,
         "text": "<I><br>und klopfte wiederum an die Tür <br></I>",
         "type": "scatter",
         "x": [
          17576,
          17608
         ],
         "y": [
          "Alina_se_anno_Verwandlung_Kap1",
          "Alina_se_anno_Verwandlung_Kap1"
         ]
        },
        {
         "legendgroup": "3",
         "marker": {
          "color": "#A68500"
         },
         "mode": "lines+markers",
         "name": "3",
         "showlegend": false,
         "text": "<I><br>sagte Gregor <br></I>",
         "type": "scatter",
         "x": [
          17621,
          17634
         ],
         "y": [
          "Alina_se_anno_Verwandlung_Kap1",
          "Alina_se_anno_Verwandlung_Kap1"
         ]
        },
        {
         "legendgroup": "S",
         "marker": {
          "color": "#093658"
         },
         "mode": "lines+markers",
         "name": "S",
         "showlegend": false,
         "text": "<I><br>Im Nebenzimmer links trat eine peinliche Stille ein <br></I>",
         "type": "scatter",
         "x": [
          17636,
          17688
         ],
         "y": [
          "Alina_se_anno_Verwandlung_Kap1",
          "Alina_se_anno_Verwandlung_Kap1"
         ]
        },
        {
         "legendgroup": "3",
         "marker": {
          "color": "#A68500"
         },
         "mode": "lines+markers",
         "name": "3",
         "showlegend": false,
         "text": "<I><br>im Nebenzimmer rechts begann die Schwester zu schluchzen <br></I>",
         "type": "scatter",
         "x": [
          17690,
          17747
         ],
         "y": [
          "Alina_se_anno_Verwandlung_Kap1",
          "Alina_se_anno_Verwandlung_Kap1"
         ]
        },
        {
         "legendgroup": "3",
         "marker": {
          "color": "#A68500"
         },
         "mode": "lines+markers",
         "name": "3",
         "showlegend": false,
         "text": "<I><br>Und warum weinte sie denn <br></I>",
         "type": "scatter",
         "x": [
          17904,
          17930
         ],
         "y": [
          "Alina_se_anno_Verwandlung_Kap1",
          "Alina_se_anno_Verwandlung_Kap1"
         ]
        },
        {
         "legendgroup": "4",
         "marker": {
          "color": "#A64B21"
         },
         "mode": "lines+markers",
         "name": "4",
         "showlegend": false,
         "text": "<I><br>rief nun der Prokurist mit erhobener Stimme <br></I>",
         "type": "scatter",
         "x": [
          18824,
          18868
         ],
         "y": [
          "Alina_se_anno_Verwandlung_Kap1",
          "Alina_se_anno_Verwandlung_Kap1"
         ]
        },
        {
         "legendgroup": "3",
         "marker": {
          "color": "#A68500"
         },
         "mode": "lines+markers",
         "name": "3",
         "showlegend": false,
         "text": "<I><br>antworten bloß mit Ja und Nein <br></I>",
         "type": "scatter",
         "x": [
          18936,
          18967
         ],
         "y": [
          "Alina_se_anno_Verwandlung_Kap1",
          "Alina_se_anno_Verwandlung_Kap1"
         ]
        },
        {
         "legendgroup": "3",
         "marker": {
          "color": "#A68500"
         },
         "mode": "lines+markers",
         "name": "3",
         "showlegend": false,
         "text": "<I><br>Ich spreche hier im Namen Ihrer Eltern und Ihres Chefs<br><br></I>",
         "type": "scatter",
         "x": [
          19126,
          19181
         ],
         "y": [
          "Alina_se_anno_Verwandlung_Kap1",
          "Alina_se_anno_Verwandlung_Kap1"
         ]
        },
        {
         "legendgroup": "3",
         "marker": {
          "color": "#A68500"
         },
         "mode": "lines+markers",
         "name": "3",
         "showlegend": false,
         "text": "<I><br>bitte Sie ganz ernsthaft um eine augenblickliche, deutliche Erklärung <br></I>",
         "type": "scatter",
         "x": [
          19186,
          19256
         ],
         "y": [
          "Alina_se_anno_Verwandlung_Kap1",
          "Alina_se_anno_Verwandlung_Kap1"
         ]
        },
        {
         "legendgroup": "3",
         "marker": {
          "color": "#A68500"
         },
         "mode": "lines+markers",
         "name": "3",
         "showlegend": false,
         "text": "<I><br>Der Chef deutete mir zwar heute früh eine mögliche Erklärung<br>für Ihre Versäumnis an <br></I>",
         "type": "scatter",
         "x": [
          19439,
          19523
         ],
         "y": [
          "Alina_se_anno_Verwandlung_Kap1",
          "Alina_se_anno_Verwandlung_Kap1"
         ]
        },
        {
         "legendgroup": "3",
         "marker": {
          "color": "#A68500"
         },
         "mode": "lines+markers",
         "name": "3",
         "showlegend": false,
         "text": "<I><br>aber ich legte wahrhaftig fast mein Ehrenwort dafür ein <br></I>",
         "type": "scatter",
         "x": [
          19582,
          19638
         ],
         "y": [
          "Alina_se_anno_Verwandlung_Kap1",
          "Alina_se_anno_Verwandlung_Kap1"
         ]
        },
        {
         "legendgroup": "4",
         "marker": {
          "color": "#A64B21"
         },
         "mode": "lines+markers",
         "name": "4",
         "showlegend": false,
         "text": "<I><br>rief Gregor außer sich <br></I>",
         "type": "scatter",
         "x": [
          20381,
          20404
         ],
         "y": [
          "Alina_se_anno_Verwandlung_Kap1",
          "Alina_se_anno_Verwandlung_Kap1"
         ]
        },
        {
         "legendgroup": "3",
         "marker": {
          "color": "#A68500"
         },
         "mode": "lines+markers",
         "name": "3",
         "showlegend": false,
         "text": "<I><br>und kaum wußte, was er sprach <br></I>",
         "type": "scatter",
         "x": [
          21676,
          21706
         ],
         "y": [
          "Alina_se_anno_Verwandlung_Kap1",
          "Alina_se_anno_Verwandlung_Kap1"
         ]
        },
        {
         "legendgroup": "3",
         "marker": {
          "color": "#A68500"
         },
         "mode": "lines+markers",
         "name": "3",
         "showlegend": false,
         "text": "<I><br>die jetzt so nach ihm verlangten <br></I>",
         "type": "scatter",
         "x": [
          21996,
          22029
         ],
         "y": [
          "Alina_se_anno_Verwandlung_Kap1",
          "Alina_se_anno_Verwandlung_Kap1"
         ]
        },
        {
         "legendgroup": "S",
         "marker": {
          "color": "#093658"
         },
         "mode": "lines+markers",
         "name": "S",
         "showlegend": false,
         "text": "<I><br>und verstummte <br></I>",
         "type": "scatter",
         "x": [
          22717,
          22732
         ],
         "y": [
          "Alina_se_anno_Verwandlung_Kap1",
          "Alina_se_anno_Verwandlung_Kap1"
         ]
        },
        {
         "legendgroup": "3",
         "marker": {
          "color": "#A68500"
         },
         "mode": "lines+markers",
         "name": "3",
         "showlegend": false,
         "text": "<I><br>fragte der Prokurist die Eltern <br></I>",
         "type": "scatter",
         "x": [
          22823,
          22855
         ],
         "y": [
          "Alina_se_anno_Verwandlung_Kap1",
          "Alina_se_anno_Verwandlung_Kap1"
         ]
        },
        {
         "legendgroup": "4",
         "marker": {
          "color": "#A64B21"
         },
         "mode": "lines+markers",
         "name": "4",
         "showlegend": false,
         "text": "<I><br>rief die Mutter schon unter Weinen <br></I>",
         "type": "scatter",
         "x": [
          22937,
          22972
         ],
         "y": [
          "Alina_se_anno_Verwandlung_Kap1",
          "Alina_se_anno_Verwandlung_Kap1"
         ]
        },
        {
         "legendgroup": "4",
         "marker": {
          "color": "#A64B21"
         },
         "mode": "lines+markers",
         "name": "4",
         "showlegend": false,
         "text": "<I><br>schrie sie dann <br></I>",
         "type": "scatter",
         "x": [
          23044,
          23060
         ],
         "y": [
          "Alina_se_anno_Verwandlung_Kap1",
          "Alina_se_anno_Verwandlung_Kap1"
         ]
        },
        {
         "legendgroup": "4",
         "marker": {
          "color": "#A64B21"
         },
         "mode": "lines+markers",
         "name": "4",
         "showlegend": false,
         "text": "<I><br>rief die Schwester von der anderen Seite <br></I>",
         "type": "scatter",
         "x": [
          23075,
          23116
         ],
         "y": [
          "Alina_se_anno_Verwandlung_Kap1",
          "Alina_se_anno_Verwandlung_Kap1"
         ]
        },
        {
         "legendgroup": "4",
         "marker": {
          "color": "#A64B21"
         },
         "mode": "lines+markers",
         "name": "4",
         "showlegend": false,
         "text": "<I><br>Sie verständigten sich durch Gregors Zimmer <br></I>",
         "type": "scatter",
         "x": [
          23118,
          23162
         ],
         "y": [
          "Alina_se_anno_Verwandlung_Kap1",
          "Alina_se_anno_Verwandlung_Kap1"
         ]
        },
        {
         "legendgroup": "2",
         "marker": {
          "color": "#843AF2"
         },
         "mode": "lines+markers",
         "name": "2",
         "showlegend": false,
         "text": "<I><br>sagte der Prokurist, auffallend leise gegenüber dem Schreien der Mutter<br><br></I>",
         "type": "scatter",
         "x": [
          23303,
          23375
         ],
         "y": [
          "Alina_se_anno_Verwandlung_Kap1",
          "Alina_se_anno_Verwandlung_Kap1"
         ]
        },
        {
         "legendgroup": "4",
         "marker": {
          "color": "#A64B21"
         },
         "mode": "lines+markers",
         "name": "4",
         "showlegend": false,
         "text": "<I><br>rief der Vater durch das Vorzimmer in die Küche <br></I>",
         "type": "scatter",
         "x": [
          23394,
          23442
         ],
         "y": [
          "Alina_se_anno_Verwandlung_Kap1",
          "Alina_se_anno_Verwandlung_Kap1"
         ]
        },
        {
         "legendgroup": "4",
         "marker": {
          "color": "#A64B21"
         },
         "mode": "lines+markers",
         "name": "4",
         "showlegend": false,
         "text": "<I><br>und klatschte in die Hände <br></I>",
         "type": "scatter",
         "x": [
          23442,
          23469
         ],
         "y": [
          "Alina_se_anno_Verwandlung_Kap1",
          "Alina_se_anno_Verwandlung_Kap1"
         ]
        },
        {
         "legendgroup": "1",
         "marker": {
          "color": "#F92F6A"
         },
         "mode": "lines+markers",
         "name": "1",
         "showlegend": true,
         "text": "<I><br>Gregor war aber viel ruhiger geworden <br></I>",
         "type": "scatter",
         "x": [
          23832,
          23870
         ],
         "y": [
          "Alina_se_anno_Verwandlung_Kap1",
          "Alina_se_anno_Verwandlung_Kap1"
         ]
        },
        {
         "legendgroup": "3",
         "marker": {
          "color": "#A68500"
         },
         "mode": "lines+markers",
         "name": "3",
         "showlegend": false,
         "text": "<I><br>hustete er ein wenig ab, allerdings bemüht, dies ganz gedämpft<br>zu tun <br></I>",
         "type": "scatter",
         "x": [
          24540,
          24610
         ],
         "y": [
          "Alina_se_anno_Verwandlung_Kap1",
          "Alina_se_anno_Verwandlung_Kap1"
         ]
        },
        {
         "legendgroup": "3",
         "marker": {
          "color": "#A68500"
         },
         "mode": "lines+markers",
         "name": "3",
         "showlegend": false,
         "text": "<I><br>da möglicherweise auch schon dieses Geräusch anders als menschlicher Husten<br>klang <br></I>",
         "type": "scatter",
         "x": [
          24612,
          24694
         ],
         "y": [
          "Alina_se_anno_Verwandlung_Kap1",
          "Alina_se_anno_Verwandlung_Kap1"
         ]
        },
        {
         "legendgroup": "S",
         "marker": {
          "color": "#093658"
         },
         "mode": "lines+markers",
         "name": "S",
         "showlegend": false,
         "text": "<I><br>Im Nebenzimmer war es inzwischen ganz still geworden <br></I>",
         "type": "scatter",
         "x": [
          24751,
          24804
         ],
         "y": [
          "Alina_se_anno_Verwandlung_Kap1",
          "Alina_se_anno_Verwandlung_Kap1"
         ]
        },
        {
         "legendgroup": "3",
         "marker": {
          "color": "#A68500"
         },
         "mode": "lines+markers",
         "name": "3",
         "showlegend": false,
         "text": "<I><br>sagte der Prokurist im Nebenzimmer <br></I>",
         "type": "scatter",
         "x": [
          25683,
          25718
         ],
         "y": [
          "Alina_se_anno_Verwandlung_Kap1",
          "Alina_se_anno_Verwandlung_Kap1"
         ]
        },
        {
         "legendgroup": "2",
         "marker": {
          "color": "#843AF2"
         },
         "mode": "lines+markers",
         "name": "2",
         "showlegend": false,
         "text": "<I><br>Der hellere Klang des endlich zurückschnappenden Schlosses erweckte Gregor förmlich<br><br></I>",
         "type": "scatter",
         "x": [
          26372,
          26456
         ],
         "y": [
          "Alina_se_anno_Verwandlung_Kap1",
          "Alina_se_anno_Verwandlung_Kap1"
         ]
        },
        {
         "legendgroup": "4",
         "marker": {
          "color": "#A64B21"
         },
         "mode": "lines+markers",
         "name": "4",
         "showlegend": false,
         "text": "<I><br>da hörte er schon den Prokuristen ein lautes » Oh!<br>« ausstoßen <br></I>",
         "type": "scatter",
         "x": [
          26999,
          27063
         ],
         "y": [
          "Alina_se_anno_Verwandlung_Kap1",
          "Alina_se_anno_Verwandlung_Kap1"
         ]
        },
        {
         "legendgroup": "4",
         "marker": {
          "color": "#A64B21"
         },
         "mode": "lines+markers",
         "name": "4",
         "showlegend": false,
         "text": "<I><br>es klang, wie wenn der Wind saust <br></I>",
         "type": "scatter",
         "x": [
          27066,
          27100
         ],
         "y": [
          "Alina_se_anno_Verwandlung_Kap1",
          "Alina_se_anno_Verwandlung_Kap1"
         ]
        },
        {
         "legendgroup": "3",
         "marker": {
          "color": "#A68500"
         },
         "mode": "lines+markers",
         "name": "3",
         "showlegend": false,
         "text": "<I><br>und weinte <br></I>",
         "type": "scatter",
         "x": [
          27839,
          27850
         ],
         "y": [
          "Alina_se_anno_Verwandlung_Kap1",
          "Alina_se_anno_Verwandlung_Kap1"
         ]
        },
        {
         "legendgroup": "3",
         "marker": {
          "color": "#A68500"
         },
         "mode": "lines+markers",
         "name": "3",
         "showlegend": false,
         "text": "<I><br>sagte Gregor <br></I>",
         "type": "scatter",
         "x": [
          29108,
          29121
         ],
         "y": [
          "Alina_se_anno_Verwandlung_Kap1",
          "Alina_se_anno_Verwandlung_Kap1"
         ]
        },
        {
         "legendgroup": "3",
         "marker": {
          "color": "#A68500"
         },
         "mode": "lines+markers",
         "name": "3",
         "showlegend": false,
         "text": "<I><br>sie hatte schon geweint <br></I>",
         "type": "scatter",
         "x": [
          32687,
          32711
         ],
         "y": [
          "Alina_se_anno_Verwandlung_Kap1",
          "Alina_se_anno_Verwandlung_Kap1"
         ]
        },
        {
         "legendgroup": "S",
         "marker": {
          "color": "#093658"
         },
         "mode": "lines+markers",
         "name": "S",
         "showlegend": false,
         "text": "<I><br>als Gregor noch ruhig auf dem Rücken lag <br></I>",
         "type": "scatter",
         "x": [
          32713,
          32754
         ],
         "y": [
          "Alina_se_anno_Verwandlung_Kap1",
          "Alina_se_anno_Verwandlung_Kap1"
         ]
        },
        {
         "legendgroup": "4",
         "marker": {
          "color": "#A64B21"
         },
         "mode": "lines+markers",
         "name": "4",
         "showlegend": false,
         "text": "<I><br>fiel aber sofort, nach einem Halt suchend, mit einem kleinen<br>Schrei seine vielen Beinchen nieder <br></I>",
         "type": "scatter",
         "x": [
          33384,
          33481
         ],
         "y": [
          "Alina_se_anno_Verwandlung_Kap1",
          "Alina_se_anno_Verwandlung_Kap1"
         ]
        },
        {
         "legendgroup": "4",
         "marker": {
          "color": "#A64B21"
         },
         "mode": "lines+markers",
         "name": "4",
         "showlegend": false,
         "text": "<I><br>rief <br></I>",
         "type": "scatter",
         "x": [
          34120,
          34125
         ],
         "y": [
          "Alina_se_anno_Verwandlung_Kap1",
          "Alina_se_anno_Verwandlung_Kap1"
         ]
        },
        {
         "legendgroup": "2",
         "marker": {
          "color": "#843AF2"
         },
         "mode": "lines+markers",
         "name": "2",
         "showlegend": false,
         "text": "<I><br>sagte Gregor leise und sah zu ihr hinauf <br></I>",
         "type": "scatter",
         "x": [
          34569,
          34610
         ],
         "y": [
          "Alina_se_anno_Verwandlung_Kap1",
          "Alina_se_anno_Verwandlung_Kap1"
         ]
        },
        {
         "legendgroup": "4",
         "marker": {
          "color": "#A64B21"
         },
         "mode": "lines+markers",
         "name": "4",
         "showlegend": false,
         "text": "<I><br>Darüber schrie die Mutter neuerdings auf <br></I>",
         "type": "scatter",
         "x": [
          34805,
          34846
         ],
         "y": [
          "Alina_se_anno_Verwandlung_Kap1",
          "Alina_se_anno_Verwandlung_Kap1"
         ]
        },
        {
         "legendgroup": "4",
         "marker": {
          "color": "#A64B21"
         },
         "mode": "lines+markers",
         "name": "4",
         "showlegend": false,
         "text": "<I><br>aber schrie er noch <br></I>",
         "type": "scatter",
         "x": [
          35246,
          35266
         ],
         "y": [
          "Alina_se_anno_Verwandlung_Kap1",
          "Alina_se_anno_Verwandlung_Kap1"
         ]
        },
        {
         "legendgroup": "4",
         "marker": {
          "color": "#A64B21"
         },
         "mode": "lines+markers",
         "name": "4",
         "showlegend": false,
         "text": "<I><br>es klang durchs ganze Treppenhaus <br></I>",
         "type": "scatter",
         "x": [
          35268,
          35302
         ],
         "y": [
          "Alina_se_anno_Verwandlung_Kap1",
          "Alina_se_anno_Verwandlung_Kap1"
         ]
        },
        {
         "legendgroup": "4",
         "marker": {
          "color": "#A64B21"
         },
         "mode": "lines+markers",
         "name": "4",
         "showlegend": false,
         "text": "<I><br>und machte sich unter Füßestampfen daran <br></I>",
         "type": "scatter",
         "x": [
          35717,
          35758
         ],
         "y": [
          "Alina_se_anno_Verwandlung_Kap1",
          "Alina_se_anno_Verwandlung_Kap1"
         ]
        },
        {
         "legendgroup": "3",
         "marker": {
          "color": "#A68500"
         },
         "mode": "lines+markers",
         "name": "3",
         "showlegend": false,
         "text": "<I><br>Kein Bitten Gregors half <br></I>",
         "type": "scatter",
         "x": [
          35843,
          35868
         ],
         "y": [
          "Alina_se_anno_Verwandlung_Kap1",
          "Alina_se_anno_Verwandlung_Kap1"
         ]
        },
        {
         "legendgroup": "4",
         "marker": {
          "color": "#A64B21"
         },
         "mode": "lines+markers",
         "name": "4",
         "showlegend": false,
         "text": "<I><br>der Vater stampfte nur stärker mit den Füßen <br></I>",
         "type": "scatter",
         "x": [
          35948,
          35993
         ],
         "y": [
          "Alina_se_anno_Verwandlung_Kap1",
          "Alina_se_anno_Verwandlung_Kap1"
         ]
        },
        {
         "legendgroup": "3",
         "marker": {
          "color": "#A68500"
         },
         "mode": "lines+markers",
         "name": "3",
         "showlegend": false,
         "text": "<I><br>die Zeitungen auf dem Tische rauschten <br></I>",
         "type": "scatter",
         "x": [
          36247,
          36286
         ],
         "y": [
          "Alina_se_anno_Verwandlung_Kap1",
          "Alina_se_anno_Verwandlung_Kap1"
         ]
        },
        {
         "legendgroup": "3",
         "marker": {
          "color": "#A68500"
         },
         "mode": "lines+markers",
         "name": "3",
         "showlegend": false,
         "text": "<I><br>und stieß Zischlaute aus <br></I>",
         "type": "scatter",
         "x": [
          36363,
          36388
         ],
         "y": [
          "Alina_se_anno_Verwandlung_Kap1",
          "Alina_se_anno_Verwandlung_Kap1"
         ]
        },
        {
         "legendgroup": "4",
         "marker": {
          "color": "#A64B21"
         },
         "mode": "lines+markers",
         "name": "4",
         "showlegend": false,
         "text": "<I><br>Wenn nur nicht dieses unerträgliche Zischen des Vaters gewesen wäre<br><br></I>",
         "type": "scatter",
         "x": [
          37300,
          37368
         ],
         "y": [
          "Alina_se_anno_Verwandlung_Kap1",
          "Alina_se_anno_Verwandlung_Kap1"
         ]
        },
        {
         "legendgroup": "4",
         "marker": {
          "color": "#A64B21"
         },
         "mode": "lines+markers",
         "name": "4",
         "showlegend": false,
         "text": "<I><br>immer auf dieses Zischen horchend <br></I>",
         "type": "scatter",
         "x": [
          37454,
          37488
         ],
         "y": [
          "Alina_se_anno_Verwandlung_Kap1",
          "Alina_se_anno_Verwandlung_Kap1"
         ]
        },
        {
         "legendgroup": "4",
         "marker": {
          "color": "#A64B21"
         },
         "mode": "lines+markers",
         "name": "4",
         "showlegend": false,
         "text": "<I><br>Vielmehr trieb er, als gäbe es kein Hindernis, Gregor jetzt<br>unter besonderem Lärm vorwärts <br></I>",
         "type": "scatter",
         "x": [
          38111,
          38202
         ],
         "y": [
          "Alina_se_anno_Verwandlung_Kap1",
          "Alina_se_anno_Verwandlung_Kap1"
         ]
        },
        {
         "legendgroup": "4",
         "marker": {
          "color": "#A64B21"
         },
         "mode": "lines+markers",
         "name": "4",
         "showlegend": false,
         "text": "<I><br>es klang schon hinter Gregor gar nicht mehr wie die<br>Stimme bloß eines einzigen Vaters <br></I>",
         "type": "scatter",
         "x": [
          38204,
          38290
         ],
         "y": [
          "Alina_se_anno_Verwandlung_Kap1",
          "Alina_se_anno_Verwandlung_Kap1"
         ]
        },
        {
         "legendgroup": "4",
         "marker": {
          "color": "#A64B21"
         },
         "mode": "lines+markers",
         "name": "4",
         "showlegend": false,
         "text": "<I><br>Die Tür wurde noch mit dem Stock zugeschlagen <br></I>",
         "type": "scatter",
         "x": [
          38878,
          38924
         ],
         "y": [
          "Alina_se_anno_Verwandlung_Kap1",
          "Alina_se_anno_Verwandlung_Kap1"
         ]
        },
        {
         "legendgroup": "S",
         "marker": {
          "color": "#093658"
         },
         "mode": "lines+markers",
         "name": "S",
         "showlegend": false,
         "text": "<I><br>dann war es endlich still <br></I>",
         "type": "scatter",
         "x": [
          38926,
          38952
         ],
         "y": [
          "Alina_se_anno_Verwandlung_Kap1",
          "Alina_se_anno_Verwandlung_Kap1"
         ]
        },
        {
         "legendgroup": "1",
         "marker": {
          "color": "#F92F6A"
         },
         "mode": "lines+markers",
         "name": "1",
         "showlegend": false,
         "text": "<I><br>Sein Zimmer, ein richtiges, nur etwas zu kleines Menschenzimmer, lag<br>ruhig zwischen den vier wohlbekannten Wänden<br></I>",
         "type": "scatter",
         "x": [
          614,
          727
         ],
         "y": [
          "Svenja_se_anno_Verwandlung_Kap_1",
          "Svenja_se_anno_Verwandlung_Kap_1"
         ]
        },
        {
         "legendgroup": "2",
         "marker": {
          "color": "#843AF2"
         },
         "mode": "lines+markers",
         "name": "2",
         "showlegend": false,
         "text": "<I><br>die auf dem Kasten tickte<br></I>",
         "type": "scatter",
         "x": [
          4009,
          4034
         ],
         "y": [
          "Svenja_se_anno_Verwandlung_Kap_1",
          "Svenja_se_anno_Verwandlung_Kap_1"
         ]
        },
        {
         "legendgroup": "1",
         "marker": {
          "color": "#F92F6A"
         },
         "mode": "lines+markers",
         "name": "1",
         "showlegend": false,
         "text": "<I><br>und die Zeiger gingen ruhig vorwärts<br></I>",
         "type": "scatter",
         "x": [
          4094,
          4130
         ],
         "y": [
          "Svenja_se_anno_Verwandlung_Kap_1",
          "Svenja_se_anno_Verwandlung_Kap_1"
         ]
        },
        {
         "legendgroup": "4",
         "marker": {
          "color": "#A64B21"
         },
         "mode": "lines+markers",
         "name": "4",
         "showlegend": false,
         "text": "<I><br>gewiß hatte er auch geläutet<br></I>",
         "type": "scatter",
         "x": [
          4302,
          4330
         ],
         "y": [
          "Svenja_se_anno_Verwandlung_Kap_1",
          "Svenja_se_anno_Verwandlung_Kap_1"
         ]
        },
        {
         "legendgroup": "4",
         "marker": {
          "color": "#A64B21"
         },
         "mode": "lines+markers",
         "name": "4",
         "showlegend": false,
         "text": "<I><br>gerade schlug der Wecker drei Viertel sieben<br></I>",
         "type": "scatter",
         "x": [
          5754,
          5798
         ],
         "y": [
          "Svenja_se_anno_Verwandlung_Kap_1",
          "Svenja_se_anno_Verwandlung_Kap_1"
         ]
        },
        {
         "legendgroup": "2",
         "marker": {
          "color": "#843AF2"
         },
         "mode": "lines+markers",
         "name": "2",
         "showlegend": false,
         "text": "<I><br>klopfte es vorsichtig an die Tür am Kopfende seines Bettes<br></I>",
         "type": "scatter",
         "x": [
          5803,
          5861
         ],
         "y": [
          "Svenja_se_anno_Verwandlung_Kap_1",
          "Svenja_se_anno_Verwandlung_Kap_1"
         ]
        },
        {
         "legendgroup": "4",
         "marker": {
          "color": "#A64B21"
         },
         "mode": "lines+markers",
         "name": "4",
         "showlegend": false,
         "text": "<I><br>rief es<br></I>",
         "type": "scatter",
         "x": [
          5877,
          5884
         ],
         "y": [
          "Svenja_se_anno_Verwandlung_Kap_1",
          "Svenja_se_anno_Verwandlung_Kap_1"
         ]
        },
        {
         "legendgroup": "2",
         "marker": {
          "color": "#843AF2"
         },
         "mode": "lines+markers",
         "name": "2",
         "showlegend": false,
         "text": "<I><br>Die sanfte Stimme<br></I>",
         "type": "scatter",
         "x": [
          5971,
          5988
         ],
         "y": [
          "Svenja_se_anno_Verwandlung_Kap_1",
          "Svenja_se_anno_Verwandlung_Kap_1"
         ]
        },
        {
         "legendgroup": "3",
         "marker": {
          "color": "#A68500"
         },
         "mode": "lines+markers",
         "name": "3",
         "showlegend": false,
         "text": "<I><br>als er seine antwortende Stimme hörte<br></I>",
         "type": "scatter",
         "x": [
          6007,
          6044
         ],
         "y": [
          "Svenja_se_anno_Verwandlung_Kap_1",
          "Svenja_se_anno_Verwandlung_Kap_1"
         ]
        },
        {
         "legendgroup": "2",
         "marker": {
          "color": "#843AF2"
         },
         "mode": "lines+markers",
         "name": "2",
         "showlegend": false,
         "text": "<I><br>in die sich aber, wie von unten her, ein nicht<br>zu unterdrückendes, schmerzliches Piepsen mischte<br></I>",
         "type": "scatter",
         "x": [
          6088,
          6184
         ],
         "y": [
          "Svenja_se_anno_Verwandlung_Kap_1",
          "Svenja_se_anno_Verwandlung_Kap_1"
         ]
        },
        {
         "legendgroup": "3",
         "marker": {
          "color": "#A68500"
         },
         "mode": "lines+markers",
         "name": "3",
         "showlegend": false,
         "text": "<I><br>beschränkte sich aber bei diesen Umständen darauf, zu sagen<br></I>",
         "type": "scatter",
         "x": [
          6417,
          6476
         ],
         "y": [
          "Svenja_se_anno_Verwandlung_Kap_1",
          "Svenja_se_anno_Verwandlung_Kap_1"
         ]
        },
        {
         "legendgroup": "2",
         "marker": {
          "color": "#843AF2"
         },
         "mode": "lines+markers",
         "name": "2",
         "showlegend": false,
         "text": "<I><br>und schlürfte davon<br></I>",
         "type": "scatter",
         "x": [
          6668,
          6687
         ],
         "y": [
          "Svenja_se_anno_Verwandlung_Kap_1",
          "Svenja_se_anno_Verwandlung_Kap_1"
         ]
        },
        {
         "legendgroup": "3",
         "marker": {
          "color": "#A68500"
         },
         "mode": "lines+markers",
         "name": "3",
         "showlegend": false,
         "text": "<I><br>und schon klopfte an der einen Seitentür der Vater, schwach,<br>aber mit der Faust<br></I>",
         "type": "scatter",
         "x": [
          6832,
          6911
         ],
         "y": [
          "Svenja_se_anno_Verwandlung_Kap_1",
          "Svenja_se_anno_Verwandlung_Kap_1"
         ]
        },
        {
         "legendgroup": "4",
         "marker": {
          "color": "#A64B21"
         },
         "mode": "lines+markers",
         "name": "4",
         "showlegend": false,
         "text": "<I><br> rief er<br></I>",
         "type": "scatter",
         "x": [
          6934,
          6942
         ],
         "y": [
          "Svenja_se_anno_Verwandlung_Kap_1",
          "Svenja_se_anno_Verwandlung_Kap_1"
         ]
        },
        {
         "legendgroup": "3",
         "marker": {
          "color": "#A68500"
         },
         "mode": "lines+markers",
         "name": "3",
         "showlegend": false,
         "text": "<I><br>Und nach einer kleinen Weile mahnte er nochmals mit tieferer<br>Stimme<br></I>",
         "type": "scatter",
         "x": [
          6964,
          7031
         ],
         "y": [
          "Svenja_se_anno_Verwandlung_Kap_1",
          "Svenja_se_anno_Verwandlung_Kap_1"
         ]
        },
        {
         "legendgroup": "2",
         "marker": {
          "color": "#843AF2"
         },
         "mode": "lines+markers",
         "name": "2",
         "showlegend": false,
         "text": "<I><br>An der anderen Seitentür aber klagte leise die Schwester <br></I>",
         "type": "scatter",
         "x": [
          7055,
          7112
         ],
         "y": [
          "Svenja_se_anno_Verwandlung_Kap_1",
          "Svenja_se_anno_Verwandlung_Kap_1"
         ]
        },
        {
         "legendgroup": "3",
         "marker": {
          "color": "#A68500"
         },
         "mode": "lines+markers",
         "name": "3",
         "showlegend": false,
         "text": "<I><br>Nach beiden Seiten hin antwortete Gregor<br></I>",
         "type": "scatter",
         "x": [
          7166,
          7206
         ],
         "y": [
          "Svenja_se_anno_Verwandlung_Kap_1",
          "Svenja_se_anno_Verwandlung_Kap_1"
         ]
        },
        {
         "legendgroup": "2",
         "marker": {
          "color": "#843AF2"
         },
         "mode": "lines+markers",
         "name": "2",
         "showlegend": false,
         "text": "<I><br>die Schwester aber flüsterte<br></I>",
         "type": "scatter",
         "x": [
          7446,
          7474
         ],
         "y": [
          "Svenja_se_anno_Verwandlung_Kap_1",
          "Svenja_se_anno_Verwandlung_Kap_1"
         ]
        },
        {
         "legendgroup": "4",
         "marker": {
          "color": "#A64B21"
         },
         "mode": "lines+markers",
         "name": "4",
         "showlegend": false,
         "text": "<I><br>schlug an den unteren Bettpfosten heftig an<br></I>",
         "type": "scatter",
         "x": [
          9485,
          9528
         ],
         "y": [
          "Svenja_se_anno_Verwandlung_Kap_1",
          "Svenja_se_anno_Verwandlung_Kap_1"
         ]
        },
        {
         "legendgroup": "3",
         "marker": {
          "color": "#A68500"
         },
         "mode": "lines+markers",
         "name": "3",
         "showlegend": false,
         "text": "<I><br>Aber als er wieder nach gleicher Mühe aufseufzend so dalag<br>wie früher<br></I>",
         "type": "scatter",
         "x": [
          10283,
          10352
         ],
         "y": [
          "Svenja_se_anno_Verwandlung_Kap_1",
          "Svenja_se_anno_Verwandlung_Kap_1"
         ]
        },
        {
         "legendgroup": "4",
         "marker": {
          "color": "#A64B21"
         },
         "mode": "lines+markers",
         "name": "4",
         "showlegend": false,
         "text": "<I><br>sagte er sich beim neuerlichen Schlagen des Weckers<br></I>",
         "type": "scatter",
         "x": [
          11099,
          11150
         ],
         "y": [
          "Svenja_se_anno_Verwandlung_Kap_1",
          "Svenja_se_anno_Verwandlung_Kap_1"
         ]
        },
        {
         "legendgroup": "1",
         "marker": {
          "color": "#F92F6A"
         },
         "mode": "lines+markers",
         "name": "1",
         "showlegend": false,
         "text": "<I><br>Und ein Weilchen lang lag er ruhig mit schwachem Atem<br></I>",
         "type": "scatter",
         "x": [
          11209,
          11262
         ],
         "y": [
          "Svenja_se_anno_Verwandlung_Kap_1",
          "Svenja_se_anno_Verwandlung_Kap_1"
         ]
        },
        {
         "legendgroup": "S",
         "marker": {
          "color": "#093658"
         },
         "mode": "lines+markers",
         "name": "S",
         "showlegend": false,
         "text": "<I><br>als erwarte er vielleicht von der völligen Stille die Wiederkehr<br>der wirklichen und selbstverständlichen Verhältnisse<br></I>",
         "type": "scatter",
         "x": [
          11265,
          11382
         ],
         "y": [
          "Svenja_se_anno_Verwandlung_Kap_1",
          "Svenja_se_anno_Verwandlung_Kap_1"
         ]
        },
        {
         "legendgroup": "4",
         "marker": {
          "color": "#A64B21"
         },
         "mode": "lines+markers",
         "name": "4",
         "showlegend": false,
         "text": "<I><br>als es an der Wohnungstür läutete<br></I>",
         "type": "scatter",
         "x": [
          13166,
          13199
         ],
         "y": [
          "Svenja_se_anno_Verwandlung_Kap_1",
          "Svenja_se_anno_Verwandlung_Kap_1"
         ]
        },
        {
         "legendgroup": "S",
         "marker": {
          "color": "#093658"
         },
         "mode": "lines+markers",
         "name": "S",
         "showlegend": false,
         "text": "<I><br>Einen Augenblick blieb alles still<br></I>",
         "type": "scatter",
         "x": [
          13324,
          13358
         ],
         "y": [
          "Svenja_se_anno_Verwandlung_Kap_1",
          "Svenja_se_anno_Verwandlung_Kap_1"
         ]
        },
        {
         "legendgroup": "3",
         "marker": {
          "color": "#A68500"
         },
         "mode": "lines+markers",
         "name": "3",
         "showlegend": false,
         "text": "<I><br>Aber dann ging natürlich wie immer das Dienstmädchen festen Schrittes<br>zur Tür<br></I>",
         "type": "scatter",
         "x": [
          13448,
          13525
         ],
         "y": [
          "Svenja_se_anno_Verwandlung_Kap_1",
          "Svenja_se_anno_Verwandlung_Kap_1"
         ]
        },
        {
         "legendgroup": "3",
         "marker": {
          "color": "#A68500"
         },
         "mode": "lines+markers",
         "name": "3",
         "showlegend": false,
         "text": "<I><br>Gregor brauchte nur das erste Grußwort des Besuchers zu hören<br></I>",
         "type": "scatter",
         "x": [
          13539,
          13600
         ],
         "y": [
          "Svenja_se_anno_Verwandlung_Kap_1",
          "Svenja_se_anno_Verwandlung_Kap_1"
         ]
        },
        {
         "legendgroup": "4",
         "marker": {
          "color": "#A64B21"
         },
         "mode": "lines+markers",
         "name": "4",
         "showlegend": false,
         "text": "<I><br>Es gab einen lauten Schlag<br></I>",
         "type": "scatter",
         "x": [
          14585,
          14611
         ],
         "y": [
          "Svenja_se_anno_Verwandlung_Kap_1",
          "Svenja_se_anno_Verwandlung_Kap_1"
         ]
        },
        {
         "legendgroup": "3",
         "marker": {
          "color": "#A68500"
         },
         "mode": "lines+markers",
         "name": "3",
         "showlegend": false,
         "text": "<I><br>daher kam der nicht gar so auffallende dumpfe Klang<br></I>",
         "type": "scatter",
         "x": [
          14772,
          14823
         ],
         "y": [
          "Svenja_se_anno_Verwandlung_Kap_1",
          "Svenja_se_anno_Verwandlung_Kap_1"
         ]
        },
        {
         "legendgroup": "3",
         "marker": {
          "color": "#A68500"
         },
         "mode": "lines+markers",
         "name": "3",
         "showlegend": false,
         "text": "<I><br>sagte der Prokurist im Nebenzimmer links<br></I>",
         "type": "scatter",
         "x": [
          15000,
          15040
         ],
         "y": [
          "Svenja_se_anno_Verwandlung_Kap_1",
          "Svenja_se_anno_Verwandlung_Kap_1"
         ]
        },
        {
         "legendgroup": "2",
         "marker": {
          "color": "#843AF2"
         },
         "mode": "lines+markers",
         "name": "2",
         "showlegend": false,
         "text": "<I><br>Aber wie zur rohen Antwort auf diese Frage machte jetzt<br>der Prokurist im Nebenzimmer ein paar bestimmte Schritte<br></I>",
         "type": "scatter",
         "x": [
          15220,
          15332
         ],
         "y": [
          "Svenja_se_anno_Verwandlung_Kap_1",
          "Svenja_se_anno_Verwandlung_Kap_1"
         ]
        },
        {
         "legendgroup": "3",
         "marker": {
          "color": "#A68500"
         },
         "mode": "lines+markers",
         "name": "3",
         "showlegend": false,
         "text": "<I><br>und ließ seine Lackstiefel knarren<br></I>",
         "type": "scatter",
         "x": [
          15333,
          15367
         ],
         "y": [
          "Svenja_se_anno_Verwandlung_Kap_1",
          "Svenja_se_anno_Verwandlung_Kap_1"
         ]
        },
        {
         "legendgroup": "S",
         "marker": {
          "color": "#093658"
         },
         "mode": "lines+markers",
         "name": "S",
         "showlegend": false,
         "text": "<I><br>Aus dem Nebenzimmer rechts flüsterte die Schweste<br></I>",
         "type": "scatter",
         "x": [
          15370,
          15419
         ],
         "y": [
          "Svenja_se_anno_Verwandlung_Kap_1",
          "Svenja_se_anno_Verwandlung_Kap_1"
         ]
        },
        {
         "legendgroup": "2",
         "marker": {
          "color": "#843AF2"
         },
         "mode": "lines+markers",
         "name": "2",
         "showlegend": false,
         "text": "<I><br>um Gregor zu verständigen<br></I>",
         "type": "scatter",
         "x": [
          15423,
          15448
         ],
         "y": [
          "Svenja_se_anno_Verwandlung_Kap_1",
          "Svenja_se_anno_Verwandlung_Kap_1"
         ]
        },
        {
         "legendgroup": "S",
         "marker": {
          "color": "#093658"
         },
         "mode": "lines+markers",
         "name": "S",
         "showlegend": false,
         "text": "<I><br> sagte Gregor vor sich hin<br></I>",
         "type": "scatter",
         "x": [
          15499,
          15525
         ],
         "y": [
          "Svenja_se_anno_Verwandlung_Kap_1",
          "Svenja_se_anno_Verwandlung_Kap_1"
         ]
        },
        {
         "legendgroup": "3",
         "marker": {
          "color": "#A68500"
         },
         "mode": "lines+markers",
         "name": "3",
         "showlegend": false,
         "text": "<I><br>sagte nun der Vater aus dem Nebenzimmer links<br></I>",
         "type": "scatter",
         "x": [
          15633,
          15678
         ],
         "y": [
          "Svenja_se_anno_Verwandlung_Kap_1",
          "Svenja_se_anno_Verwandlung_Kap_1"
         ]
        },
        {
         "legendgroup": "3",
         "marker": {
          "color": "#A68500"
         },
         "mode": "lines+markers",
         "name": "3",
         "showlegend": false,
         "text": "<I><br>und erkundigt sich<br></I>",
         "type": "scatter",
         "x": [
          15715,
          15733
         ],
         "y": [
          "Svenja_se_anno_Verwandlung_Kap_1",
          "Svenja_se_anno_Verwandlung_Kap_1"
         ]
        },
        {
         "legendgroup": "4",
         "marker": {
          "color": "#A64B21"
         },
         "mode": "lines+markers",
         "name": "4",
         "showlegend": false,
         "text": "<I><br>rief der Prokurist freundlich dazwischen<br></I>",
         "type": "scatter",
         "x": [
          16014,
          16054
         ],
         "y": [
          "Svenja_se_anno_Verwandlung_Kap_1",
          "Svenja_se_anno_Verwandlung_Kap_1"
         ]
        },
        {
         "legendgroup": "3",
         "marker": {
          "color": "#A68500"
         },
         "mode": "lines+markers",
         "name": "3",
         "showlegend": false,
         "text": "<I><br>sagte die Mutter zum Prokuristen<br></I>",
         "type": "scatter",
         "x": [
          16082,
          16114
         ],
         "y": [
          "Svenja_se_anno_Verwandlung_Kap_1",
          "Svenja_se_anno_Verwandlung_Kap_1"
         ]
        },
        {
         "legendgroup": "3",
         "marker": {
          "color": "#A68500"
         },
         "mode": "lines+markers",
         "name": "3",
         "showlegend": false,
         "text": "<I><br>während der Vater noch an der Tür redete<br></I>",
         "type": "scatter",
         "x": [
          16117,
          16157
         ],
         "y": [
          "Svenja_se_anno_Verwandlung_Kap_1",
          "Svenja_se_anno_Verwandlung_Kap_1"
         ]
        },
        {
         "legendgroup": "S",
         "marker": {
          "color": "#093658"
         },
         "mode": "lines+markers",
         "name": "S",
         "showlegend": false,
         "text": "<I><br>und liest still die Zeitung<br></I>",
         "type": "scatter",
         "x": [
          16478,
          16505
         ],
         "y": [
          "Svenja_se_anno_Verwandlung_Kap_1",
          "Svenja_se_anno_Verwandlung_Kap_1"
         ]
        },
        {
         "legendgroup": "3",
         "marker": {
          "color": "#A68500"
         },
         "mode": "lines+markers",
         "name": "3",
         "showlegend": false,
         "text": "<I><br>sagte Gregor langsam und bedächtig<br></I>",
         "type": "scatter",
         "x": [
          17067,
          17101
         ],
         "y": [
          "Svenja_se_anno_Verwandlung_Kap_1",
          "Svenja_se_anno_Verwandlung_Kap_1"
         ]
        },
        {
         "legendgroup": "3",
         "marker": {
          "color": "#A68500"
         },
         "mode": "lines+markers",
         "name": "3",
         "showlegend": false,
         "text": "<I><br>sagte der Prokurist<br></I>",
         "type": "scatter",
         "x": [
          17231,
          17250
         ],
         "y": [
          "Svenja_se_anno_Verwandlung_Kap_1",
          "Svenja_se_anno_Verwandlung_Kap_1"
         ]
        },
        {
         "legendgroup": "3",
         "marker": {
          "color": "#A68500"
         },
         "mode": "lines+markers",
         "name": "3",
         "showlegend": false,
         "text": "<I><br>fragte der ungeduldige Vater<br></I>",
         "type": "scatter",
         "x": [
          17547,
          17575
         ],
         "y": [
          "Svenja_se_anno_Verwandlung_Kap_1",
          "Svenja_se_anno_Verwandlung_Kap_1"
         ]
        },
        {
         "legendgroup": "4",
         "marker": {
          "color": "#A64B21"
         },
         "mode": "lines+markers",
         "name": "4",
         "showlegend": false,
         "text": "<I><br>und klopfte wiederum an die Tür <br></I>",
         "type": "scatter",
         "x": [
          17576,
          17608
         ],
         "y": [
          "Svenja_se_anno_Verwandlung_Kap_1",
          "Svenja_se_anno_Verwandlung_Kap_1"
         ]
        },
        {
         "legendgroup": "3",
         "marker": {
          "color": "#A68500"
         },
         "mode": "lines+markers",
         "name": "3",
         "showlegend": false,
         "text": "<I><br>sagte Gregor<br></I>",
         "type": "scatter",
         "x": [
          17621,
          17633
         ],
         "y": [
          "Svenja_se_anno_Verwandlung_Kap_1",
          "Svenja_se_anno_Verwandlung_Kap_1"
         ]
        },
        {
         "legendgroup": "S",
         "marker": {
          "color": "#093658"
         },
         "mode": "lines+markers",
         "name": "S",
         "showlegend": false,
         "text": "<I><br>Im Nebenzimmer links trat eine peinliche Stille ein<br></I>",
         "type": "scatter",
         "x": [
          17636,
          17687
         ],
         "y": [
          "Svenja_se_anno_Verwandlung_Kap_1",
          "Svenja_se_anno_Verwandlung_Kap_1"
         ]
        },
        {
         "legendgroup": "2",
         "marker": {
          "color": "#843AF2"
         },
         "mode": "lines+markers",
         "name": "2",
         "showlegend": false,
         "text": "<I><br>im Nebenzimmer rechts begann die Schwester zu schluchzen<br></I>",
         "type": "scatter",
         "x": [
          17690,
          17746
         ],
         "y": [
          "Svenja_se_anno_Verwandlung_Kap_1",
          "Svenja_se_anno_Verwandlung_Kap_1"
         ]
        },
        {
         "legendgroup": "4",
         "marker": {
          "color": "#A64B21"
         },
         "mode": "lines+markers",
         "name": "4",
         "showlegend": false,
         "text": "<I><br> rief nun der Prokurist mit erhobener Stimme<br></I>",
         "type": "scatter",
         "x": [
          18823,
          18867
         ],
         "y": [
          "Svenja_se_anno_Verwandlung_Kap_1",
          "Svenja_se_anno_Verwandlung_Kap_1"
         ]
        },
        {
         "legendgroup": "3",
         "marker": {
          "color": "#A68500"
         },
         "mode": "lines+markers",
         "name": "3",
         "showlegend": false,
         "text": "<I><br> Ich spreche hier im Namen Ihrer Eltern und Ihres<br>Chefs<br></I>",
         "type": "scatter",
         "x": [
          19125,
          19180
         ],
         "y": [
          "Svenja_se_anno_Verwandlung_Kap_1",
          "Svenja_se_anno_Verwandlung_Kap_1"
         ]
        },
        {
         "legendgroup": "3",
         "marker": {
          "color": "#A68500"
         },
         "mode": "lines+markers",
         "name": "3",
         "showlegend": false,
         "text": "<I><br> und bitte Sie ganz ernsthaft um eine augenblickliche, deutliche<br>Erklärung<br></I>",
         "type": "scatter",
         "x": [
          19181,
          19255
         ],
         "y": [
          "Svenja_se_anno_Verwandlung_Kap_1",
          "Svenja_se_anno_Verwandlung_Kap_1"
         ]
        },
        {
         "legendgroup": "3",
         "marker": {
          "color": "#A68500"
         },
         "mode": "lines+markers",
         "name": "3",
         "showlegend": false,
         "text": "<I><br>Der Chef deutete mir zwar heute früh eine mögliche Erklärung<br>für Ihre Versäumnis an <br></I>",
         "type": "scatter",
         "x": [
          19439,
          19523
         ],
         "y": [
          "Svenja_se_anno_Verwandlung_Kap_1",
          "Svenja_se_anno_Verwandlung_Kap_1"
         ]
        },
        {
         "legendgroup": "4",
         "marker": {
          "color": "#A64B21"
         },
         "mode": "lines+markers",
         "name": "4",
         "showlegend": false,
         "text": "<I><br>rief Gregor außer sich<br></I>",
         "type": "scatter",
         "x": [
          20381,
          20403
         ],
         "y": [
          "Svenja_se_anno_Verwandlung_Kap_1",
          "Svenja_se_anno_Verwandlung_Kap_1"
         ]
        },
        {
         "legendgroup": "3",
         "marker": {
          "color": "#A68500"
         },
         "mode": "lines+markers",
         "name": "3",
         "showlegend": false,
         "text": "<I><br>Für alle die Vorwürfe, die Sie mir jetzt machen<br></I>",
         "type": "scatter",
         "x": [
          21172,
          21219
         ],
         "y": [
          "Svenja_se_anno_Verwandlung_Kap_1",
          "Svenja_se_anno_Verwandlung_Kap_1"
         ]
        },
        {
         "legendgroup": "3",
         "marker": {
          "color": "#A68500"
         },
         "mode": "lines+markers",
         "name": "3",
         "showlegend": false,
         "text": "<I><br>Und während Gregor dies alles hastig ausstieß<br></I>",
         "type": "scatter",
         "x": [
          21630,
          21675
         ],
         "y": [
          "Svenja_se_anno_Verwandlung_Kap_1",
          "Svenja_se_anno_Verwandlung_Kap_1"
         ]
        },
        {
         "legendgroup": "3",
         "marker": {
          "color": "#A68500"
         },
         "mode": "lines+markers",
         "name": "3",
         "showlegend": false,
         "text": "<I><br>was er sprach<br></I>",
         "type": "scatter",
         "x": [
          21692,
          21705
         ],
         "y": [
          "Svenja_se_anno_Verwandlung_Kap_1",
          "Svenja_se_anno_Verwandlung_Kap_1"
         ]
        },
        {
         "legendgroup": "S",
         "marker": {
          "color": "#093658"
         },
         "mode": "lines+markers",
         "name": "S",
         "showlegend": false,
         "text": "<I><br>und verstummte<br></I>",
         "type": "scatter",
         "x": [
          22717,
          22731
         ],
         "y": [
          "Svenja_se_anno_Verwandlung_Kap_1",
          "Svenja_se_anno_Verwandlung_Kap_1"
         ]
        },
        {
         "legendgroup": "3",
         "marker": {
          "color": "#A68500"
         },
         "mode": "lines+markers",
         "name": "3",
         "showlegend": false,
         "text": "<I><br>fragte der Prokurist die Eltern<br></I>",
         "type": "scatter",
         "x": [
          22823,
          22854
         ],
         "y": [
          "Svenja_se_anno_Verwandlung_Kap_1",
          "Svenja_se_anno_Verwandlung_Kap_1"
         ]
        },
        {
         "legendgroup": "4",
         "marker": {
          "color": "#A64B21"
         },
         "mode": "lines+markers",
         "name": "4",
         "showlegend": false,
         "text": "<I><br>rief die Mutter schon unter Weinen<br></I>",
         "type": "scatter",
         "x": [
          22937,
          22971
         ],
         "y": [
          "Svenja_se_anno_Verwandlung_Kap_1",
          "Svenja_se_anno_Verwandlung_Kap_1"
         ]
        },
        {
         "legendgroup": "4",
         "marker": {
          "color": "#A64B21"
         },
         "mode": "lines+markers",
         "name": "4",
         "showlegend": false,
         "text": "<I><br>schrie sie dann<br></I>",
         "type": "scatter",
         "x": [
          23044,
          23059
         ],
         "y": [
          "Svenja_se_anno_Verwandlung_Kap_1",
          "Svenja_se_anno_Verwandlung_Kap_1"
         ]
        },
        {
         "legendgroup": "4",
         "marker": {
          "color": "#A64B21"
         },
         "mode": "lines+markers",
         "name": "4",
         "showlegend": false,
         "text": "<I><br>rief die Schwester von der anderen Seite<br></I>",
         "type": "scatter",
         "x": [
          23075,
          23115
         ],
         "y": [
          "Svenja_se_anno_Verwandlung_Kap_1",
          "Svenja_se_anno_Verwandlung_Kap_1"
         ]
        },
        {
         "legendgroup": "4",
         "marker": {
          "color": "#A64B21"
         },
         "mode": "lines+markers",
         "name": "4",
         "showlegend": false,
         "text": "<I><br>Sie verständigten sich durch Gregors Zimmer<br></I>",
         "type": "scatter",
         "x": [
          23118,
          23161
         ],
         "y": [
          "Svenja_se_anno_Verwandlung_Kap_1",
          "Svenja_se_anno_Verwandlung_Kap_1"
         ]
        },
        {
         "legendgroup": "2",
         "marker": {
          "color": "#843AF2"
         },
         "mode": "lines+markers",
         "name": "2",
         "showlegend": false,
         "text": "<I><br>sagte der Prokurist, auffallend leise<br></I>",
         "type": "scatter",
         "x": [
          23303,
          23340
         ],
         "y": [
          "Svenja_se_anno_Verwandlung_Kap_1",
          "Svenja_se_anno_Verwandlung_Kap_1"
         ]
        },
        {
         "legendgroup": "4",
         "marker": {
          "color": "#A64B21"
         },
         "mode": "lines+markers",
         "name": "4",
         "showlegend": false,
         "text": "<I><br>gegenüber dem Schreien der Mutter <br></I>",
         "type": "scatter",
         "x": [
          23341,
          23375
         ],
         "y": [
          "Svenja_se_anno_Verwandlung_Kap_1",
          "Svenja_se_anno_Verwandlung_Kap_1"
         ]
        },
        {
         "legendgroup": "4",
         "marker": {
          "color": "#A64B21"
         },
         "mode": "lines+markers",
         "name": "4",
         "showlegend": false,
         "text": "<I><br>rief der Vater durch das Vorzimmer in die Küche<br></I>",
         "type": "scatter",
         "x": [
          23394,
          23441
         ],
         "y": [
          "Svenja_se_anno_Verwandlung_Kap_1",
          "Svenja_se_anno_Verwandlung_Kap_1"
         ]
        },
        {
         "legendgroup": "4",
         "marker": {
          "color": "#A64B21"
         },
         "mode": "lines+markers",
         "name": "4",
         "showlegend": false,
         "text": "<I><br>und klatschte in die Hände<br></I>",
         "type": "scatter",
         "x": [
          23442,
          23468
         ],
         "y": [
          "Svenja_se_anno_Verwandlung_Kap_1",
          "Svenja_se_anno_Verwandlung_Kap_1"
         ]
        },
        {
         "legendgroup": "3",
         "marker": {
          "color": "#A68500"
         },
         "mode": "lines+markers",
         "name": "3",
         "showlegend": false,
         "text": "<I><br>Und schon liefen die zwei Mädchen mit rauschenden Röcken durch<br>das Vorzimmer<br></I>",
         "type": "scatter",
         "x": [
          23506,
          23582
         ],
         "y": [
          "Svenja_se_anno_Verwandlung_Kap_1",
          "Svenja_se_anno_Verwandlung_Kap_1"
         ]
        },
        {
         "legendgroup": "3",
         "marker": {
          "color": "#A68500"
         },
         "mode": "lines+markers",
         "name": "3",
         "showlegend": false,
         "text": "<I><br>und rissen die Wohnungstüre auf<br></I>",
         "type": "scatter",
         "x": [
          23643,
          23674
         ],
         "y": [
          "Svenja_se_anno_Verwandlung_Kap_1",
          "Svenja_se_anno_Verwandlung_Kap_1"
         ]
        },
        {
         "legendgroup": "1",
         "marker": {
          "color": "#F92F6A"
         },
         "mode": "lines+markers",
         "name": "1",
         "showlegend": false,
         "text": "<I><br>Gregor war aber viel ruhiger geworden<br></I>",
         "type": "scatter",
         "x": [
          23832,
          23869
         ],
         "y": [
          "Svenja_se_anno_Verwandlung_Kap_1",
          "Svenja_se_anno_Verwandlung_Kap_1"
         ]
        },
        {
         "legendgroup": "3",
         "marker": {
          "color": "#A68500"
         },
         "mode": "lines+markers",
         "name": "3",
         "showlegend": false,
         "text": "<I><br>Die Zuversicht und Sicherheit, mit welchen die ersten Anordnungen getroffen<br>worden waren<br></I>",
         "type": "scatter",
         "x": [
          24146,
          24234
         ],
         "y": [
          "Svenja_se_anno_Verwandlung_Kap_1",
          "Svenja_se_anno_Verwandlung_Kap_1"
         ]
        },
        {
         "legendgroup": "3",
         "marker": {
          "color": "#A68500"
         },
         "mode": "lines+markers",
         "name": "3",
         "showlegend": false,
         "text": "<I><br>hustete er ein wenig ab<br></I>",
         "type": "scatter",
         "x": [
          24540,
          24563
         ],
         "y": [
          "Svenja_se_anno_Verwandlung_Kap_1",
          "Svenja_se_anno_Verwandlung_Kap_1"
         ]
        },
        {
         "legendgroup": "S",
         "marker": {
          "color": "#093658"
         },
         "mode": "lines+markers",
         "name": "S",
         "showlegend": false,
         "text": "<I><br>Im Nebenzimmer war es inzwischen ganz still geworden<br></I>",
         "type": "scatter",
         "x": [
          24751,
          24803
         ],
         "y": [
          "Svenja_se_anno_Verwandlung_Kap_1",
          "Svenja_se_anno_Verwandlung_Kap_1"
         ]
        },
        {
         "legendgroup": "2",
         "marker": {
          "color": "#843AF2"
         },
         "mode": "lines+markers",
         "name": "2",
         "showlegend": false,
         "text": "<I><br>und tuschelten<br></I>",
         "type": "scatter",
         "x": [
          24865,
          24879
         ],
         "y": [
          "Svenja_se_anno_Verwandlung_Kap_1",
          "Svenja_se_anno_Verwandlung_Kap_1"
         ]
        },
        {
         "legendgroup": "3",
         "marker": {
          "color": "#A68500"
         },
         "mode": "lines+markers",
         "name": "3",
         "showlegend": false,
         "text": "<I><br> sagte der Prokurist im Nebenzimmer<br></I>",
         "type": "scatter",
         "x": [
          25682,
          25717
         ],
         "y": [
          "Svenja_se_anno_Verwandlung_Kap_1",
          "Svenja_se_anno_Verwandlung_Kap_1"
         ]
        },
        {
         "legendgroup": "2",
         "marker": {
          "color": "#843AF2"
         },
         "mode": "lines+markers",
         "name": "2",
         "showlegend": false,
         "text": "<I><br>er dreht den Schlüssel um<br></I>",
         "type": "scatter",
         "x": [
          25722,
          25747
         ],
         "y": [
          "Svenja_se_anno_Verwandlung_Kap_1",
          "Svenja_se_anno_Verwandlung_Kap_1"
         ]
        },
        {
         "legendgroup": "2",
         "marker": {
          "color": "#843AF2"
         },
         "mode": "lines+markers",
         "name": "2",
         "showlegend": false,
         "text": "<I><br>Der hellere Klang des endlich zurückschnappenden Schlosses erweckte Gregor förmlich<br></I>",
         "type": "scatter",
         "x": [
          26372,
          26455
         ],
         "y": [
          "Svenja_se_anno_Verwandlung_Kap_1",
          "Svenja_se_anno_Verwandlung_Kap_1"
         ]
        },
        {
         "legendgroup": "1",
         "marker": {
          "color": "#F92F6A"
         },
         "mode": "lines+markers",
         "name": "1",
         "showlegend": false,
         "text": "<I><br>Aufatmend sagte er sich<br></I>",
         "type": "scatter",
         "x": [
          26458,
          26481
         ],
         "y": [
          "Svenja_se_anno_Verwandlung_Kap_1",
          "Svenja_se_anno_Verwandlung_Kap_1"
         ]
        },
        {
         "legendgroup": "4",
         "marker": {
          "color": "#A64B21"
         },
         "mode": "lines+markers",
         "name": "4",
         "showlegend": false,
         "text": "<I><br>da hörte er schon den Prokuristen ein lautes » Oh!<br>« ausstoßen<br></I>",
         "type": "scatter",
         "x": [
          26999,
          27062
         ],
         "y": [
          "Svenja_se_anno_Verwandlung_Kap_1",
          "Svenja_se_anno_Verwandlung_Kap_1"
         ]
        },
        {
         "legendgroup": "3",
         "marker": {
          "color": "#A68500"
         },
         "mode": "lines+markers",
         "name": "3",
         "showlegend": false,
         "text": "<I><br>es klang, wie wenn der Wind saust<br></I>",
         "type": "scatter",
         "x": [
          27066,
          27099
         ],
         "y": [
          "Svenja_se_anno_Verwandlung_Kap_1",
          "Svenja_se_anno_Verwandlung_Kap_1"
         ]
        },
        {
         "legendgroup": "3",
         "marker": {
          "color": "#A68500"
         },
         "mode": "lines+markers",
         "name": "3",
         "showlegend": false,
         "text": "<I><br>und weinte<br></I>",
         "type": "scatter",
         "x": [
          27839,
          27849
         ],
         "y": [
          "Svenja_se_anno_Verwandlung_Kap_1",
          "Svenja_se_anno_Verwandlung_Kap_1"
         ]
        },
        {
         "legendgroup": "2",
         "marker": {
          "color": "#843AF2"
         },
         "mode": "lines+markers",
         "name": "2",
         "showlegend": false,
         "text": "<I><br>der Regen fiel noch nieder<br></I>",
         "type": "scatter",
         "x": [
          28366,
          28392
         ],
         "y": [
          "Svenja_se_anno_Verwandlung_Kap_1",
          "Svenja_se_anno_Verwandlung_Kap_1"
         ]
        },
        {
         "legendgroup": "3",
         "marker": {
          "color": "#A68500"
         },
         "mode": "lines+markers",
         "name": "3",
         "showlegend": false,
         "text": "<I><br>sagte Gregor<br></I>",
         "type": "scatter",
         "x": [
          29108,
          29120
         ],
         "y": [
          "Svenja_se_anno_Verwandlung_Kap_1",
          "Svenja_se_anno_Verwandlung_Kap_1"
         ]
        },
        {
         "legendgroup": "S",
         "marker": {
          "color": "#093658"
         },
         "mode": "lines+markers",
         "name": "S",
         "showlegend": false,
         "text": "<I><br>der die Ruhe bewahrt hatte<br></I>",
         "type": "scatter",
         "x": [
          29179,
          29205
         ],
         "y": [
          "Svenja_se_anno_Verwandlung_Kap_1",
          "Svenja_se_anno_Verwandlung_Kap_1"
         ]
        },
        {
         "legendgroup": "3",
         "marker": {
          "color": "#A68500"
         },
         "mode": "lines+markers",
         "name": "3",
         "showlegend": false,
         "text": "<I><br>ganz im Vertrauen gesagt<br></I>",
         "type": "scatter",
         "x": [
          30473,
          30497
         ],
         "y": [
          "Svenja_se_anno_Verwandlung_Kap_1",
          "Svenja_se_anno_Verwandlung_Kap_1"
         ]
        },
        {
         "legendgroup": "2",
         "marker": {
          "color": "#843AF2"
         },
         "mode": "lines+markers",
         "name": "2",
         "showlegend": false,
         "text": "<I><br>sie hatte schon geweint <br></I>",
         "type": "scatter",
         "x": [
          32687,
          32711
         ],
         "y": [
          "Svenja_se_anno_Verwandlung_Kap_1",
          "Svenja_se_anno_Verwandlung_Kap_1"
         ]
        },
        {
         "legendgroup": "1",
         "marker": {
          "color": "#F92F6A"
         },
         "mode": "lines+markers",
         "name": "1",
         "showlegend": false,
         "text": "<I><br>als Gregor noch ruhig auf dem Rücken lag<br></I>",
         "type": "scatter",
         "x": [
          32713,
          32753
         ],
         "y": [
          "Svenja_se_anno_Verwandlung_Kap_1",
          "Svenja_se_anno_Verwandlung_Kap_1"
         ]
        },
        {
         "legendgroup": "4",
         "marker": {
          "color": "#A64B21"
         },
         "mode": "lines+markers",
         "name": "4",
         "showlegend": false,
         "text": "<I><br>fiel aber sofort, nach einem Halt suchend, mit einem kleinen<br>Schrei seine vielen Beinchen nieder<br></I>",
         "type": "scatter",
         "x": [
          33384,
          33480
         ],
         "y": [
          "Svenja_se_anno_Verwandlung_Kap_1",
          "Svenja_se_anno_Verwandlung_Kap_1"
         ]
        },
        {
         "legendgroup": "4",
         "marker": {
          "color": "#A64B21"
         },
         "mode": "lines+markers",
         "name": "4",
         "showlegend": false,
         "text": "<I><br>rief<br></I>",
         "type": "scatter",
         "x": [
          34120,
          34124
         ],
         "y": [
          "Svenja_se_anno_Verwandlung_Kap_1",
          "Svenja_se_anno_Verwandlung_Kap_1"
         ]
        },
        {
         "legendgroup": "2",
         "marker": {
          "color": "#843AF2"
         },
         "mode": "lines+markers",
         "name": "2",
         "showlegend": false,
         "text": "<I><br>sagte Gregor leise<br></I>",
         "type": "scatter",
         "x": [
          34569,
          34587
         ],
         "y": [
          "Svenja_se_anno_Verwandlung_Kap_1",
          "Svenja_se_anno_Verwandlung_Kap_1"
         ]
        },
        {
         "legendgroup": "4",
         "marker": {
          "color": "#A64B21"
         },
         "mode": "lines+markers",
         "name": "4",
         "showlegend": false,
         "text": "<I><br>Darüber schrie die Mutter neuerdings auf<br></I>",
         "type": "scatter",
         "x": [
          34805,
          34845
         ],
         "y": [
          "Svenja_se_anno_Verwandlung_Kap_1",
          "Svenja_se_anno_Verwandlung_Kap_1"
         ]
        },
        {
         "legendgroup": "4",
         "marker": {
          "color": "#A64B21"
         },
         "mode": "lines+markers",
         "name": "4",
         "showlegend": false,
         "text": "<I><br>aber schrie er noch<br></I>",
         "type": "scatter",
         "x": [
          35246,
          35265
         ],
         "y": [
          "Svenja_se_anno_Verwandlung_Kap_1",
          "Svenja_se_anno_Verwandlung_Kap_1"
         ]
        },
        {
         "legendgroup": "4",
         "marker": {
          "color": "#A64B21"
         },
         "mode": "lines+markers",
         "name": "4",
         "showlegend": false,
         "text": "<I><br>es klang durchs ganze Treppenhaus<br></I>",
         "type": "scatter",
         "x": [
          35268,
          35301
         ],
         "y": [
          "Svenja_se_anno_Verwandlung_Kap_1",
          "Svenja_se_anno_Verwandlung_Kap_1"
         ]
        },
        {
         "legendgroup": "4",
         "marker": {
          "color": "#A64B21"
         },
         "mode": "lines+markers",
         "name": "4",
         "showlegend": false,
         "text": "<I><br>und machte sich unter Füßestampfen daran<br></I>",
         "type": "scatter",
         "x": [
          35717,
          35757
         ],
         "y": [
          "Svenja_se_anno_Verwandlung_Kap_1",
          "Svenja_se_anno_Verwandlung_Kap_1"
         ]
        },
        {
         "legendgroup": "3",
         "marker": {
          "color": "#A68500"
         },
         "mode": "lines+markers",
         "name": "3",
         "showlegend": false,
         "text": "<I><br>Kein Bitten Gregors half <br></I>",
         "type": "scatter",
         "x": [
          35843,
          35868
         ],
         "y": [
          "Svenja_se_anno_Verwandlung_Kap_1",
          "Svenja_se_anno_Verwandlung_Kap_1"
         ]
        },
        {
         "legendgroup": "4",
         "marker": {
          "color": "#A64B21"
         },
         "mode": "lines+markers",
         "name": "4",
         "showlegend": false,
         "text": "<I><br>der Vater stampfte nur stärker mit den Füßen<br></I>",
         "type": "scatter",
         "x": [
          35948,
          35992
         ],
         "y": [
          "Svenja_se_anno_Verwandlung_Kap_1",
          "Svenja_se_anno_Verwandlung_Kap_1"
         ]
        },
        {
         "legendgroup": "2",
         "marker": {
          "color": "#843AF2"
         },
         "mode": "lines+markers",
         "name": "2",
         "showlegend": false,
         "text": "<I><br>die Zeitungen auf dem Tische rauschten <br></I>",
         "type": "scatter",
         "x": [
          36247,
          36286
         ],
         "y": [
          "Svenja_se_anno_Verwandlung_Kap_1",
          "Svenja_se_anno_Verwandlung_Kap_1"
         ]
        },
        {
         "legendgroup": "2",
         "marker": {
          "color": "#843AF2"
         },
         "mode": "lines+markers",
         "name": "2",
         "showlegend": false,
         "text": "<I><br>einzelne Blätter wehten über den Boden hin<br></I>",
         "type": "scatter",
         "x": [
          36288,
          36330
         ],
         "y": [
          "Svenja_se_anno_Verwandlung_Kap_1",
          "Svenja_se_anno_Verwandlung_Kap_1"
         ]
        },
        {
         "legendgroup": "4",
         "marker": {
          "color": "#A64B21"
         },
         "mode": "lines+markers",
         "name": "4",
         "showlegend": false,
         "text": "<I><br>Unerbittlich drängte der Vater<br></I>",
         "type": "scatter",
         "x": [
          36332,
          36362
         ],
         "y": [
          "Svenja_se_anno_Verwandlung_Kap_1",
          "Svenja_se_anno_Verwandlung_Kap_1"
         ]
        },
        {
         "legendgroup": "3",
         "marker": {
          "color": "#A68500"
         },
         "mode": "lines+markers",
         "name": "3",
         "showlegend": false,
         "text": "<I><br>und stieß Zischlaute aus<br></I>",
         "type": "scatter",
         "x": [
          36363,
          36387
         ],
         "y": [
          "Svenja_se_anno_Verwandlung_Kap_1",
          "Svenja_se_anno_Verwandlung_Kap_1"
         ]
        },
        {
         "legendgroup": "3",
         "marker": {
          "color": "#A68500"
         },
         "mode": "lines+markers",
         "name": "3",
         "showlegend": false,
         "text": "<I><br>Wenn nur nicht dieses unerträgliche Zischen des Vaters gewesen wäre<br></I>",
         "type": "scatter",
         "x": [
          37300,
          37367
         ],
         "y": [
          "Svenja_se_anno_Verwandlung_Kap_1",
          "Svenja_se_anno_Verwandlung_Kap_1"
         ]
        },
        {
         "legendgroup": "3",
         "marker": {
          "color": "#A68500"
         },
         "mode": "lines+markers",
         "name": "3",
         "showlegend": false,
         "text": "<I><br>immer auf dieses Zischen horchend <br></I>",
         "type": "scatter",
         "x": [
          37454,
          37488
         ],
         "y": [
          "Svenja_se_anno_Verwandlung_Kap_1",
          "Svenja_se_anno_Verwandlung_Kap_1"
         ]
        },
        {
         "legendgroup": "4",
         "marker": {
          "color": "#A64B21"
         },
         "mode": "lines+markers",
         "name": "4",
         "showlegend": false,
         "text": "<I><br>Vielmehr trieb er, als gäbe es kein Hindernis, Gregor jetzt<br>unter besonderem Lärm vorwärts<br></I>",
         "type": "scatter",
         "x": [
          38111,
          38201
         ],
         "y": [
          "Svenja_se_anno_Verwandlung_Kap_1",
          "Svenja_se_anno_Verwandlung_Kap_1"
         ]
        },
        {
         "legendgroup": "4",
         "marker": {
          "color": "#A64B21"
         },
         "mode": "lines+markers",
         "name": "4",
         "showlegend": false,
         "text": "<I><br>es klang schon hinter Gregor gar nicht mehr wie die<br>Stimme bloß eines einzigen Vaters<br></I>",
         "type": "scatter",
         "x": [
          38204,
          38289
         ],
         "y": [
          "Svenja_se_anno_Verwandlung_Kap_1",
          "Svenja_se_anno_Verwandlung_Kap_1"
         ]
        },
        {
         "legendgroup": "4",
         "marker": {
          "color": "#A64B21"
         },
         "mode": "lines+markers",
         "name": "4",
         "showlegend": false,
         "text": "<I><br>Die Tür wurde noch mit dem Stock zugeschlagen<br></I>",
         "type": "scatter",
         "x": [
          38878,
          38923
         ],
         "y": [
          "Svenja_se_anno_Verwandlung_Kap_1",
          "Svenja_se_anno_Verwandlung_Kap_1"
         ]
        },
        {
         "legendgroup": "S",
         "marker": {
          "color": "#093658"
         },
         "mode": "lines+markers",
         "name": "S",
         "showlegend": false,
         "text": "<I><br>dann war es endlich stil<br></I>",
         "type": "scatter",
         "x": [
          38926,
          38950
         ],
         "y": [
          "Svenja_se_anno_Verwandlung_Kap_1",
          "Svenja_se_anno_Verwandlung_Kap_1"
         ]
        }
       ],
       "layout": {
        "height": 240,
        "legend": {
         "font": {
          "color": "#5A98A1",
          "size": 10
         },
         "orientation": "h",
         "x": 1,
         "xanchor": "right",
         "y": 1.02,
         "yanchor": "bottom"
        },
        "template": {
         "data": {
          "bar": [
           {
            "error_x": {
             "color": "#2a3f5f"
            },
            "error_y": {
             "color": "#2a3f5f"
            },
            "marker": {
             "line": {
              "color": "white",
              "width": 0.5
             },
             "pattern": {
              "fillmode": "overlay",
              "size": 10,
              "solidity": 0.2
             }
            },
            "type": "bar"
           }
          ],
          "barpolar": [
           {
            "marker": {
             "line": {
              "color": "white",
              "width": 0.5
             },
             "pattern": {
              "fillmode": "overlay",
              "size": 10,
              "solidity": 0.2
             }
            },
            "type": "barpolar"
           }
          ],
          "carpet": [
           {
            "aaxis": {
             "endlinecolor": "#2a3f5f",
             "gridcolor": "#C8D4E3",
             "linecolor": "#C8D4E3",
             "minorgridcolor": "#C8D4E3",
             "startlinecolor": "#2a3f5f"
            },
            "baxis": {
             "endlinecolor": "#2a3f5f",
             "gridcolor": "#C8D4E3",
             "linecolor": "#C8D4E3",
             "minorgridcolor": "#C8D4E3",
             "startlinecolor": "#2a3f5f"
            },
            "type": "carpet"
           }
          ],
          "choropleth": [
           {
            "colorbar": {
             "outlinewidth": 0,
             "ticks": ""
            },
            "type": "choropleth"
           }
          ],
          "contour": [
           {
            "colorbar": {
             "outlinewidth": 0,
             "ticks": ""
            },
            "colorscale": [
             [
              0,
              "#0d0887"
             ],
             [
              0.1111111111111111,
              "#46039f"
             ],
             [
              0.2222222222222222,
              "#7201a8"
             ],
             [
              0.3333333333333333,
              "#9c179e"
             ],
             [
              0.4444444444444444,
              "#bd3786"
             ],
             [
              0.5555555555555556,
              "#d8576b"
             ],
             [
              0.6666666666666666,
              "#ed7953"
             ],
             [
              0.7777777777777778,
              "#fb9f3a"
             ],
             [
              0.8888888888888888,
              "#fdca26"
             ],
             [
              1,
              "#f0f921"
             ]
            ],
            "type": "contour"
           }
          ],
          "contourcarpet": [
           {
            "colorbar": {
             "outlinewidth": 0,
             "ticks": ""
            },
            "type": "contourcarpet"
           }
          ],
          "heatmap": [
           {
            "colorbar": {
             "outlinewidth": 0,
             "ticks": ""
            },
            "colorscale": [
             [
              0,
              "#0d0887"
             ],
             [
              0.1111111111111111,
              "#46039f"
             ],
             [
              0.2222222222222222,
              "#7201a8"
             ],
             [
              0.3333333333333333,
              "#9c179e"
             ],
             [
              0.4444444444444444,
              "#bd3786"
             ],
             [
              0.5555555555555556,
              "#d8576b"
             ],
             [
              0.6666666666666666,
              "#ed7953"
             ],
             [
              0.7777777777777778,
              "#fb9f3a"
             ],
             [
              0.8888888888888888,
              "#fdca26"
             ],
             [
              1,
              "#f0f921"
             ]
            ],
            "type": "heatmap"
           }
          ],
          "heatmapgl": [
           {
            "colorbar": {
             "outlinewidth": 0,
             "ticks": ""
            },
            "colorscale": [
             [
              0,
              "#0d0887"
             ],
             [
              0.1111111111111111,
              "#46039f"
             ],
             [
              0.2222222222222222,
              "#7201a8"
             ],
             [
              0.3333333333333333,
              "#9c179e"
             ],
             [
              0.4444444444444444,
              "#bd3786"
             ],
             [
              0.5555555555555556,
              "#d8576b"
             ],
             [
              0.6666666666666666,
              "#ed7953"
             ],
             [
              0.7777777777777778,
              "#fb9f3a"
             ],
             [
              0.8888888888888888,
              "#fdca26"
             ],
             [
              1,
              "#f0f921"
             ]
            ],
            "type": "heatmapgl"
           }
          ],
          "histogram": [
           {
            "marker": {
             "pattern": {
              "fillmode": "overlay",
              "size": 10,
              "solidity": 0.2
             }
            },
            "type": "histogram"
           }
          ],
          "histogram2d": [
           {
            "colorbar": {
             "outlinewidth": 0,
             "ticks": ""
            },
            "colorscale": [
             [
              0,
              "#0d0887"
             ],
             [
              0.1111111111111111,
              "#46039f"
             ],
             [
              0.2222222222222222,
              "#7201a8"
             ],
             [
              0.3333333333333333,
              "#9c179e"
             ],
             [
              0.4444444444444444,
              "#bd3786"
             ],
             [
              0.5555555555555556,
              "#d8576b"
             ],
             [
              0.6666666666666666,
              "#ed7953"
             ],
             [
              0.7777777777777778,
              "#fb9f3a"
             ],
             [
              0.8888888888888888,
              "#fdca26"
             ],
             [
              1,
              "#f0f921"
             ]
            ],
            "type": "histogram2d"
           }
          ],
          "histogram2dcontour": [
           {
            "colorbar": {
             "outlinewidth": 0,
             "ticks": ""
            },
            "colorscale": [
             [
              0,
              "#0d0887"
             ],
             [
              0.1111111111111111,
              "#46039f"
             ],
             [
              0.2222222222222222,
              "#7201a8"
             ],
             [
              0.3333333333333333,
              "#9c179e"
             ],
             [
              0.4444444444444444,
              "#bd3786"
             ],
             [
              0.5555555555555556,
              "#d8576b"
             ],
             [
              0.6666666666666666,
              "#ed7953"
             ],
             [
              0.7777777777777778,
              "#fb9f3a"
             ],
             [
              0.8888888888888888,
              "#fdca26"
             ],
             [
              1,
              "#f0f921"
             ]
            ],
            "type": "histogram2dcontour"
           }
          ],
          "mesh3d": [
           {
            "colorbar": {
             "outlinewidth": 0,
             "ticks": ""
            },
            "type": "mesh3d"
           }
          ],
          "parcoords": [
           {
            "line": {
             "colorbar": {
              "outlinewidth": 0,
              "ticks": ""
             }
            },
            "type": "parcoords"
           }
          ],
          "pie": [
           {
            "automargin": true,
            "type": "pie"
           }
          ],
          "scatter": [
           {
            "marker": {
             "colorbar": {
              "outlinewidth": 0,
              "ticks": ""
             }
            },
            "type": "scatter"
           }
          ],
          "scatter3d": [
           {
            "line": {
             "colorbar": {
              "outlinewidth": 0,
              "ticks": ""
             }
            },
            "marker": {
             "colorbar": {
              "outlinewidth": 0,
              "ticks": ""
             }
            },
            "type": "scatter3d"
           }
          ],
          "scattercarpet": [
           {
            "marker": {
             "colorbar": {
              "outlinewidth": 0,
              "ticks": ""
             }
            },
            "type": "scattercarpet"
           }
          ],
          "scattergeo": [
           {
            "marker": {
             "colorbar": {
              "outlinewidth": 0,
              "ticks": ""
             }
            },
            "type": "scattergeo"
           }
          ],
          "scattergl": [
           {
            "marker": {
             "colorbar": {
              "outlinewidth": 0,
              "ticks": ""
             }
            },
            "type": "scattergl"
           }
          ],
          "scattermapbox": [
           {
            "marker": {
             "colorbar": {
              "outlinewidth": 0,
              "ticks": ""
             }
            },
            "type": "scattermapbox"
           }
          ],
          "scatterpolar": [
           {
            "marker": {
             "colorbar": {
              "outlinewidth": 0,
              "ticks": ""
             }
            },
            "type": "scatterpolar"
           }
          ],
          "scatterpolargl": [
           {
            "marker": {
             "colorbar": {
              "outlinewidth": 0,
              "ticks": ""
             }
            },
            "type": "scatterpolargl"
           }
          ],
          "scatterternary": [
           {
            "marker": {
             "colorbar": {
              "outlinewidth": 0,
              "ticks": ""
             }
            },
            "type": "scatterternary"
           }
          ],
          "surface": [
           {
            "colorbar": {
             "outlinewidth": 0,
             "ticks": ""
            },
            "colorscale": [
             [
              0,
              "#0d0887"
             ],
             [
              0.1111111111111111,
              "#46039f"
             ],
             [
              0.2222222222222222,
              "#7201a8"
             ],
             [
              0.3333333333333333,
              "#9c179e"
             ],
             [
              0.4444444444444444,
              "#bd3786"
             ],
             [
              0.5555555555555556,
              "#d8576b"
             ],
             [
              0.6666666666666666,
              "#ed7953"
             ],
             [
              0.7777777777777778,
              "#fb9f3a"
             ],
             [
              0.8888888888888888,
              "#fdca26"
             ],
             [
              1,
              "#f0f921"
             ]
            ],
            "type": "surface"
           }
          ],
          "table": [
           {
            "cells": {
             "fill": {
              "color": "#EBF0F8"
             },
             "line": {
              "color": "white"
             }
            },
            "header": {
             "fill": {
              "color": "#C8D4E3"
             },
             "line": {
              "color": "white"
             }
            },
            "type": "table"
           }
          ]
         },
         "layout": {
          "annotationdefaults": {
           "arrowcolor": "#2a3f5f",
           "arrowhead": 0,
           "arrowwidth": 1
          },
          "autotypenumbers": "strict",
          "coloraxis": {
           "colorbar": {
            "outlinewidth": 0,
            "ticks": ""
           }
          },
          "colorscale": {
           "diverging": [
            [
             0,
             "#8e0152"
            ],
            [
             0.1,
             "#c51b7d"
            ],
            [
             0.2,
             "#de77ae"
            ],
            [
             0.3,
             "#f1b6da"
            ],
            [
             0.4,
             "#fde0ef"
            ],
            [
             0.5,
             "#f7f7f7"
            ],
            [
             0.6,
             "#e6f5d0"
            ],
            [
             0.7,
             "#b8e186"
            ],
            [
             0.8,
             "#7fbc41"
            ],
            [
             0.9,
             "#4d9221"
            ],
            [
             1,
             "#276419"
            ]
           ],
           "sequential": [
            [
             0,
             "#0d0887"
            ],
            [
             0.1111111111111111,
             "#46039f"
            ],
            [
             0.2222222222222222,
             "#7201a8"
            ],
            [
             0.3333333333333333,
             "#9c179e"
            ],
            [
             0.4444444444444444,
             "#bd3786"
            ],
            [
             0.5555555555555556,
             "#d8576b"
            ],
            [
             0.6666666666666666,
             "#ed7953"
            ],
            [
             0.7777777777777778,
             "#fb9f3a"
            ],
            [
             0.8888888888888888,
             "#fdca26"
            ],
            [
             1,
             "#f0f921"
            ]
           ],
           "sequentialminus": [
            [
             0,
             "#0d0887"
            ],
            [
             0.1111111111111111,
             "#46039f"
            ],
            [
             0.2222222222222222,
             "#7201a8"
            ],
            [
             0.3333333333333333,
             "#9c179e"
            ],
            [
             0.4444444444444444,
             "#bd3786"
            ],
            [
             0.5555555555555556,
             "#d8576b"
            ],
            [
             0.6666666666666666,
             "#ed7953"
            ],
            [
             0.7777777777777778,
             "#fb9f3a"
            ],
            [
             0.8888888888888888,
             "#fdca26"
            ],
            [
             1,
             "#f0f921"
            ]
           ]
          },
          "colorway": [
           "#636efa",
           "#EF553B",
           "#00cc96",
           "#ab63fa",
           "#FFA15A",
           "#19d3f3",
           "#FF6692",
           "#B6E880",
           "#FF97FF",
           "#FECB52"
          ],
          "font": {
           "color": "#2a3f5f"
          },
          "geo": {
           "bgcolor": "white",
           "lakecolor": "white",
           "landcolor": "white",
           "showlakes": true,
           "showland": true,
           "subunitcolor": "#C8D4E3"
          },
          "hoverlabel": {
           "align": "left"
          },
          "hovermode": "closest",
          "mapbox": {
           "style": "light"
          },
          "paper_bgcolor": "white",
          "plot_bgcolor": "white",
          "polar": {
           "angularaxis": {
            "gridcolor": "#EBF0F8",
            "linecolor": "#EBF0F8",
            "ticks": ""
           },
           "bgcolor": "white",
           "radialaxis": {
            "gridcolor": "#EBF0F8",
            "linecolor": "#EBF0F8",
            "ticks": ""
           }
          },
          "scene": {
           "xaxis": {
            "backgroundcolor": "white",
            "gridcolor": "#DFE8F3",
            "gridwidth": 2,
            "linecolor": "#EBF0F8",
            "showbackground": true,
            "ticks": "",
            "zerolinecolor": "#EBF0F8"
           },
           "yaxis": {
            "backgroundcolor": "white",
            "gridcolor": "#DFE8F3",
            "gridwidth": 2,
            "linecolor": "#EBF0F8",
            "showbackground": true,
            "ticks": "",
            "zerolinecolor": "#EBF0F8"
           },
           "zaxis": {
            "backgroundcolor": "white",
            "gridcolor": "#DFE8F3",
            "gridwidth": 2,
            "linecolor": "#EBF0F8",
            "showbackground": true,
            "ticks": "",
            "zerolinecolor": "#EBF0F8"
           }
          },
          "shapedefaults": {
           "line": {
            "color": "#2a3f5f"
           }
          },
          "ternary": {
           "aaxis": {
            "gridcolor": "#DFE8F3",
            "linecolor": "#A2B1C6",
            "ticks": ""
           },
           "baxis": {
            "gridcolor": "#DFE8F3",
            "linecolor": "#A2B1C6",
            "ticks": ""
           },
           "bgcolor": "white",
           "caxis": {
            "gridcolor": "#DFE8F3",
            "linecolor": "#A2B1C6",
            "ticks": ""
           }
          },
          "title": {
           "x": 0.05
          },
          "xaxis": {
           "automargin": true,
           "gridcolor": "#EBF0F8",
           "linecolor": "#EBF0F8",
           "ticks": "",
           "title": {
            "standoff": 15
           },
           "zerolinecolor": "#EBF0F8",
           "zerolinewidth": 2
          },
          "yaxis": {
           "automargin": true,
           "gridcolor": "#EBF0F8",
           "linecolor": "#EBF0F8",
           "ticks": "",
           "title": {
            "standoff": 15
           },
           "zerolinecolor": "#EBF0F8",
           "zerolinewidth": 2
          }
         }
        },
        "title": {
         "text": "Annotation Comparison by Text Span"
        }
       }
      },
      "text/html": [
       "<div>                            <div id=\"00d4521a-b891-40c9-8d16-b5647eeb16f5\" class=\"plotly-graph-div\" style=\"height:240px; width:100%;\"></div>            <script type=\"text/javascript\">                require([\"plotly\"], function(Plotly) {                    window.PLOTLYENV=window.PLOTLYENV || {};                                    if (document.getElementById(\"00d4521a-b891-40c9-8d16-b5647eeb16f5\")) {                    Plotly.newPlot(                        \"00d4521a-b891-40c9-8d16-b5647eeb16f5\",                        [{\"legendgroup\":\"S\",\"marker\":{\"color\":\"#093658\"},\"mode\":\"lines+markers\",\"name\":\"S\",\"showlegend\":true,\"text\":\"<I><br>lag ruhig zwischen den vier wohlbekannten W\\u00e4nden <br></I>\",\"x\":[679,728],\"y\":[\"Alina_se_anno_Verwandlung_Kap1\",\"Alina_se_anno_Verwandlung_Kap1\"],\"type\":\"scatter\"},{\"legendgroup\":\"4\",\"marker\":{\"color\":\"#A64B21\"},\"mode\":\"lines+markers\",\"name\":\"4\",\"showlegend\":true,\"text\":\"<I><br>gewi\\u00df hatte er auch gel\\u00e4utet <br></I>\",\"x\":[4302,4331],\"y\":[\"Alina_se_anno_Verwandlung_Kap1\",\"Alina_se_anno_Verwandlung_Kap1\"],\"type\":\"scatter\"},{\"legendgroup\":\"4\",\"marker\":{\"color\":\"#A64B21\"},\"mode\":\"lines+markers\",\"name\":\"4\",\"showlegend\":false,\"text\":\"<I><br>gerade schlug der Wecker drei Viertel sieben <br></I>\",\"x\":[5754,5799],\"y\":[\"Alina_se_anno_Verwandlung_Kap1\",\"Alina_se_anno_Verwandlung_Kap1\"],\"type\":\"scatter\"},{\"legendgroup\":\"3\",\"marker\":{\"color\":\"#A68500\"},\"mode\":\"lines+markers\",\"name\":\"3\",\"showlegend\":true,\"text\":\"<I><br>klopfte es vorsichtig an die T\\u00fcr am Kopfende seines Bettes<br><br></I>\",\"x\":[5803,5862],\"y\":[\"Alina_se_anno_Verwandlung_Kap1\",\"Alina_se_anno_Verwandlung_Kap1\"],\"type\":\"scatter\"},{\"legendgroup\":\"4\",\"marker\":{\"color\":\"#A64B21\"},\"mode\":\"lines+markers\",\"name\":\"4\",\"showlegend\":false,\"text\":\"<I><br>rief es <br></I>\",\"x\":[5877,5886],\"y\":[\"Alina_se_anno_Verwandlung_Kap1\",\"Alina_se_anno_Verwandlung_Kap1\"],\"type\":\"scatter\"},{\"legendgroup\":\"3\",\"marker\":{\"color\":\"#A68500\"},\"mode\":\"lines+markers\",\"name\":\"3\",\"showlegend\":false,\"text\":\"<I><br>als er seine antwortende Stimme h\\u00f6rte <br></I>\",\"x\":[6007,6045],\"y\":[\"Alina_se_anno_Verwandlung_Kap1\",\"Alina_se_anno_Verwandlung_Kap1\"],\"type\":\"scatter\"},{\"legendgroup\":\"3\",\"marker\":{\"color\":\"#A68500\"},\"mode\":\"lines+markers\",\"name\":\"3\",\"showlegend\":false,\"text\":\"<I><br>in die sich aber, wie von unten her, ein nicht<br>zu unterdr\\u00fcckendes, schmerzliches Piepsen mischte <br></I>\",\"x\":[6088,6185],\"y\":[\"Alina_se_anno_Verwandlung_Kap1\",\"Alina_se_anno_Verwandlung_Kap1\"],\"type\":\"scatter\"},{\"legendgroup\":\"3\",\"marker\":{\"color\":\"#A68500\"},\"mode\":\"lines+markers\",\"name\":\"3\",\"showlegend\":false,\"text\":\"<I><br>um sie im Nachklang derart zu zerst\\u00f6ren, da\\u00df man nicht<br>wu\\u00dfte, ob man recht geh\\u00f6rt hatte <br></I>\",\"x\":[6265,6353],\"y\":[\"Alina_se_anno_Verwandlung_Kap1\",\"Alina_se_anno_Verwandlung_Kap1\"],\"type\":\"scatter\"},{\"legendgroup\":\"3\",\"marker\":{\"color\":\"#A68500\"},\"mode\":\"lines+markers\",\"name\":\"3\",\"showlegend\":false,\"text\":\"<I><br>beschr\\u00e4nkte sich aber bei diesen Umst\\u00e4nden darauf, zu sagen <br></I>\",\"x\":[6417,6477],\"y\":[\"Alina_se_anno_Verwandlung_Kap1\",\"Alina_se_anno_Verwandlung_Kap1\"],\"type\":\"scatter\"},{\"legendgroup\":\"3\",\"marker\":{\"color\":\"#A68500\"},\"mode\":\"lines+markers\",\"name\":\"3\",\"showlegend\":false,\"text\":\"<I><br>und schl\\u00fcrfte davon <br></I>\",\"x\":[6668,6688],\"y\":[\"Alina_se_anno_Verwandlung_Kap1\",\"Alina_se_anno_Verwandlung_Kap1\"],\"type\":\"scatter\"},{\"legendgroup\":\"3\",\"marker\":{\"color\":\"#A68500\"},\"mode\":\"lines+markers\",\"name\":\"3\",\"showlegend\":false,\"text\":\"<I><br>Aber durch das kleine Gespr\\u00e4ch waren die anderen Familienmitglieder darauf<br>aufmerksam geworden <br></I>\",\"x\":[6690,6785],\"y\":[\"Alina_se_anno_Verwandlung_Kap1\",\"Alina_se_anno_Verwandlung_Kap1\"],\"type\":\"scatter\"},{\"legendgroup\":\"3\",\"marker\":{\"color\":\"#A68500\"},\"mode\":\"lines+markers\",\"name\":\"3\",\"showlegend\":false,\"text\":\"<I><br>und schon klopfte an der einen Seitent\\u00fcr der Vater, schwach,<br>aber mit der Faust <br></I>\",\"x\":[6832,6912],\"y\":[\"Alina_se_anno_Verwandlung_Kap1\",\"Alina_se_anno_Verwandlung_Kap1\"],\"type\":\"scatter\"},{\"legendgroup\":\"4\",\"marker\":{\"color\":\"#A64B21\"},\"mode\":\"lines+markers\",\"name\":\"4\",\"showlegend\":false,\"text\":\"<I><br>rief er <br></I>\",\"x\":[6935,6943],\"y\":[\"Alina_se_anno_Verwandlung_Kap1\",\"Alina_se_anno_Verwandlung_Kap1\"],\"type\":\"scatter\"},{\"legendgroup\":\"3\",\"marker\":{\"color\":\"#A68500\"},\"mode\":\"lines+markers\",\"name\":\"3\",\"showlegend\":false,\"text\":\"<I><br>Und nach einer kleinen Weile mahnte er nochmals mit tieferer<br>Stimme <br></I>\",\"x\":[6964,7032],\"y\":[\"Alina_se_anno_Verwandlung_Kap1\",\"Alina_se_anno_Verwandlung_Kap1\"],\"type\":\"scatter\"},{\"legendgroup\":\"2\",\"marker\":{\"color\":\"#843AF2\"},\"mode\":\"lines+markers\",\"name\":\"2\",\"showlegend\":true,\"text\":\"<I><br>An der anderen Seitent\\u00fcr aber klagte leise die Schwester <br></I>\",\"x\":[7055,7112],\"y\":[\"Alina_se_anno_Verwandlung_Kap1\",\"Alina_se_anno_Verwandlung_Kap1\"],\"type\":\"scatter\"},{\"legendgroup\":\"3\",\"marker\":{\"color\":\"#A68500\"},\"mode\":\"lines+markers\",\"name\":\"3\",\"showlegend\":false,\"text\":\"<I><br>Nach beiden Seiten hin antwortete Gregor <br></I>\",\"x\":[7166,7207],\"y\":[\"Alina_se_anno_Verwandlung_Kap1\",\"Alina_se_anno_Verwandlung_Kap1\"],\"type\":\"scatter\"},{\"legendgroup\":\"3\",\"marker\":{\"color\":\"#A68500\"},\"mode\":\"lines+markers\",\"name\":\"3\",\"showlegend\":false,\"text\":\"<I><br>bem\\u00fchte sich, durch die sorgf\\u00e4ltigste Aussprache und durch Einschaltung von<br>langen Pausen zwischen den einzelnen Worten seiner Stimme alles Auffallende<br>zu nehmen <br></I>\",\"x\":[7232,7394],\"y\":[\"Alina_se_anno_Verwandlung_Kap1\",\"Alina_se_anno_Verwandlung_Kap1\"],\"type\":\"scatter\"},{\"legendgroup\":\"2\",\"marker\":{\"color\":\"#843AF2\"},\"mode\":\"lines+markers\",\"name\":\"2\",\"showlegend\":false,\"text\":\"<I><br>die Schwester aber fl\\u00fcsterte <br></I>\",\"x\":[7446,7475],\"y\":[\"Alina_se_anno_Verwandlung_Kap1\",\"Alina_se_anno_Verwandlung_Kap1\"],\"type\":\"scatter\"},{\"legendgroup\":\"3\",\"marker\":{\"color\":\"#A68500\"},\"mode\":\"lines+markers\",\"name\":\"3\",\"showlegend\":false,\"text\":\"<I><br>schlug an den unteren Bettpfosten heftig an <br></I>\",\"x\":[9485,9529],\"y\":[\"Alina_se_anno_Verwandlung_Kap1\",\"Alina_se_anno_Verwandlung_Kap1\"],\"type\":\"scatter\"},{\"legendgroup\":\"3\",\"marker\":{\"color\":\"#A68500\"},\"mode\":\"lines+markers\",\"name\":\"3\",\"showlegend\":false,\"text\":\"<I><br>Aber als er wieder nach gleicher M\\u00fche aufseufzend so dalag<br>wie fr\\u00fcher <br></I>\",\"x\":[10283,10353],\"y\":[\"Alina_se_anno_Verwandlung_Kap1\",\"Alina_se_anno_Verwandlung_Kap1\"],\"type\":\"scatter\"},{\"legendgroup\":\"4\",\"marker\":{\"color\":\"#A64B21\"},\"mode\":\"lines+markers\",\"name\":\"4\",\"showlegend\":false,\"text\":\"<I><br>beim neuerlichen Schlagen des Weckers <br></I>\",\"x\":[11113,11151],\"y\":[\"Alina_se_anno_Verwandlung_Kap1\",\"Alina_se_anno_Verwandlung_Kap1\"],\"type\":\"scatter\"},{\"legendgroup\":\"S\",\"marker\":{\"color\":\"#093658\"},\"mode\":\"lines+markers\",\"name\":\"S\",\"showlegend\":false,\"text\":\"<I><br>Und ein Weilchen lang lag er ruhig mit schwachem Atem<br><br></I>\",\"x\":[11209,11263],\"y\":[\"Alina_se_anno_Verwandlung_Kap1\",\"Alina_se_anno_Verwandlung_Kap1\"],\"type\":\"scatter\"},{\"legendgroup\":\"S\",\"marker\":{\"color\":\"#093658\"},\"mode\":\"lines+markers\",\"name\":\"S\",\"showlegend\":false,\"text\":\"<I><br>als erwarte er vielleicht von der v\\u00f6lligen Stille die Wiederkehr<br>der wirklichen und selbstverst\\u00e4ndlichen Verh\\u00e4ltnisse <br></I>\",\"x\":[11265,11383],\"y\":[\"Alina_se_anno_Verwandlung_Kap1\",\"Alina_se_anno_Verwandlung_Kap1\"],\"type\":\"scatter\"},{\"legendgroup\":\"4\",\"marker\":{\"color\":\"#A64B21\"},\"mode\":\"lines+markers\",\"name\":\"4\",\"showlegend\":false,\"text\":\"<I><br>als es an der Wohnungst\\u00fcr l\\u00e4utete <br></I>\",\"x\":[13166,13200],\"y\":[\"Alina_se_anno_Verwandlung_Kap1\",\"Alina_se_anno_Verwandlung_Kap1\"],\"type\":\"scatter\"},{\"legendgroup\":\"S\",\"marker\":{\"color\":\"#093658\"},\"mode\":\"lines+markers\",\"name\":\"S\",\"showlegend\":false,\"text\":\"<I><br>Einen Augenblick blieb alles still <br></I>\",\"x\":[13324,13359],\"y\":[\"Alina_se_anno_Verwandlung_Kap1\",\"Alina_se_anno_Verwandlung_Kap1\"],\"type\":\"scatter\"},{\"legendgroup\":\"3\",\"marker\":{\"color\":\"#A68500\"},\"mode\":\"lines+markers\",\"name\":\"3\",\"showlegend\":false,\"text\":\"<I><br>Gregor brauchte nur das erste Gru\\u00dfwort des Besuchers zu h\\u00f6ren<br><br></I>\",\"x\":[13539,13601],\"y\":[\"Alina_se_anno_Verwandlung_Kap1\",\"Alina_se_anno_Verwandlung_Kap1\"],\"type\":\"scatter\"},{\"legendgroup\":\"4\",\"marker\":{\"color\":\"#A64B21\"},\"mode\":\"lines+markers\",\"name\":\"4\",\"showlegend\":false,\"text\":\"<I><br>Es gab einen lauten Schlag <br></I>\",\"x\":[14585,14612],\"y\":[\"Alina_se_anno_Verwandlung_Kap1\",\"Alina_se_anno_Verwandlung_Kap1\"],\"type\":\"scatter\"},{\"legendgroup\":\"3\",\"marker\":{\"color\":\"#A68500\"},\"mode\":\"lines+markers\",\"name\":\"3\",\"showlegend\":false,\"text\":\"<I><br>daher kam der nicht gar so auffallende dumpfe Klang <br></I>\",\"x\":[14772,14824],\"y\":[\"Alina_se_anno_Verwandlung_Kap1\",\"Alina_se_anno_Verwandlung_Kap1\"],\"type\":\"scatter\"},{\"legendgroup\":\"3\",\"marker\":{\"color\":\"#A68500\"},\"mode\":\"lines+markers\",\"name\":\"3\",\"showlegend\":false,\"text\":\"<I><br>sagte der Prokurist im Nebenzimmer links <br></I>\",\"x\":[15000,15041],\"y\":[\"Alina_se_anno_Verwandlung_Kap1\",\"Alina_se_anno_Verwandlung_Kap1\"],\"type\":\"scatter\"},{\"legendgroup\":\"3\",\"marker\":{\"color\":\"#A68500\"},\"mode\":\"lines+markers\",\"name\":\"3\",\"showlegend\":false,\"text\":\"<I><br>und lie\\u00df seine Lackstiefel knarren <br></I>\",\"x\":[15333,15368],\"y\":[\"Alina_se_anno_Verwandlung_Kap1\",\"Alina_se_anno_Verwandlung_Kap1\"],\"type\":\"scatter\"},{\"legendgroup\":\"2\",\"marker\":{\"color\":\"#843AF2\"},\"mode\":\"lines+markers\",\"name\":\"2\",\"showlegend\":false,\"text\":\"<I><br>Aus dem Nebenzimmer rechts fl\\u00fcsterte die Schwester <br></I>\",\"x\":[15370,15421],\"y\":[\"Alina_se_anno_Verwandlung_Kap1\",\"Alina_se_anno_Verwandlung_Kap1\"],\"type\":\"scatter\"},{\"legendgroup\":\"3\",\"marker\":{\"color\":\"#A68500\"},\"mode\":\"lines+markers\",\"name\":\"3\",\"showlegend\":false,\"text\":\"<I><br>sagte nun der Vater aus dem Nebenzimmer links <br></I>\",\"x\":[15633,15679],\"y\":[\"Alina_se_anno_Verwandlung_Kap1\",\"Alina_se_anno_Verwandlung_Kap1\"],\"type\":\"scatter\"},{\"legendgroup\":\"3\",\"marker\":{\"color\":\"#A68500\"},\"mode\":\"lines+markers\",\"name\":\"3\",\"showlegend\":false,\"text\":\"<I><br>und erkundigt sich <br></I>\",\"x\":[15715,15734],\"y\":[\"Alina_se_anno_Verwandlung_Kap1\",\"Alina_se_anno_Verwandlung_Kap1\"],\"type\":\"scatter\"},{\"legendgroup\":\"4\",\"marker\":{\"color\":\"#A64B21\"},\"mode\":\"lines+markers\",\"name\":\"4\",\"showlegend\":false,\"text\":\"<I><br>rief der Prokurist freundlich dazwischen <br></I>\",\"x\":[16014,16055],\"y\":[\"Alina_se_anno_Verwandlung_Kap1\",\"Alina_se_anno_Verwandlung_Kap1\"],\"type\":\"scatter\"},{\"legendgroup\":\"3\",\"marker\":{\"color\":\"#A68500\"},\"mode\":\"lines+markers\",\"name\":\"3\",\"showlegend\":false,\"text\":\"<I><br>sagte die Mutter zum Prokuristen <br></I>\",\"x\":[16082,16115],\"y\":[\"Alina_se_anno_Verwandlung_Kap1\",\"Alina_se_anno_Verwandlung_Kap1\"],\"type\":\"scatter\"},{\"legendgroup\":\"3\",\"marker\":{\"color\":\"#A68500\"},\"mode\":\"lines+markers\",\"name\":\"3\",\"showlegend\":false,\"text\":\"<I><br>w\\u00e4hrend der Vater noch an der T\\u00fcr redete <br></I>\",\"x\":[16117,16158],\"y\":[\"Alina_se_anno_Verwandlung_Kap1\",\"Alina_se_anno_Verwandlung_Kap1\"],\"type\":\"scatter\"},{\"legendgroup\":\"S\",\"marker\":{\"color\":\"#093658\"},\"mode\":\"lines+markers\",\"name\":\"S\",\"showlegend\":false,\"text\":\"<I><br>und liest still die Zeitung <br></I>\",\"x\":[16478,16506],\"y\":[\"Alina_se_anno_Verwandlung_Kap1\",\"Alina_se_anno_Verwandlung_Kap1\"],\"type\":\"scatter\"},{\"legendgroup\":\"3\",\"marker\":{\"color\":\"#A68500\"},\"mode\":\"lines+markers\",\"name\":\"3\",\"showlegend\":false,\"text\":\"<I><br>sagte Gregor langsam und bed\\u00e4chtig <br></I>\",\"x\":[17067,17102],\"y\":[\"Alina_se_anno_Verwandlung_Kap1\",\"Alina_se_anno_Verwandlung_Kap1\"],\"type\":\"scatter\"},{\"legendgroup\":\"3\",\"marker\":{\"color\":\"#A68500\"},\"mode\":\"lines+markers\",\"name\":\"3\",\"showlegend\":false,\"text\":\"<I><br>sagte der Prokurist <br></I>\",\"x\":[17231,17251],\"y\":[\"Alina_se_anno_Verwandlung_Kap1\",\"Alina_se_anno_Verwandlung_Kap1\"],\"type\":\"scatter\"},{\"legendgroup\":\"3\",\"marker\":{\"color\":\"#A68500\"},\"mode\":\"lines+markers\",\"name\":\"3\",\"showlegend\":false,\"text\":\"<I><br>fragte der ungeduldige Vater <br></I>\",\"x\":[17547,17576],\"y\":[\"Alina_se_anno_Verwandlung_Kap1\",\"Alina_se_anno_Verwandlung_Kap1\"],\"type\":\"scatter\"},{\"legendgroup\":\"3\",\"marker\":{\"color\":\"#A68500\"},\"mode\":\"lines+markers\",\"name\":\"3\",\"showlegend\":false,\"text\":\"<I><br>und klopfte wiederum an die T\\u00fcr <br></I>\",\"x\":[17576,17608],\"y\":[\"Alina_se_anno_Verwandlung_Kap1\",\"Alina_se_anno_Verwandlung_Kap1\"],\"type\":\"scatter\"},{\"legendgroup\":\"3\",\"marker\":{\"color\":\"#A68500\"},\"mode\":\"lines+markers\",\"name\":\"3\",\"showlegend\":false,\"text\":\"<I><br>sagte Gregor <br></I>\",\"x\":[17621,17634],\"y\":[\"Alina_se_anno_Verwandlung_Kap1\",\"Alina_se_anno_Verwandlung_Kap1\"],\"type\":\"scatter\"},{\"legendgroup\":\"S\",\"marker\":{\"color\":\"#093658\"},\"mode\":\"lines+markers\",\"name\":\"S\",\"showlegend\":false,\"text\":\"<I><br>Im Nebenzimmer links trat eine peinliche Stille ein <br></I>\",\"x\":[17636,17688],\"y\":[\"Alina_se_anno_Verwandlung_Kap1\",\"Alina_se_anno_Verwandlung_Kap1\"],\"type\":\"scatter\"},{\"legendgroup\":\"3\",\"marker\":{\"color\":\"#A68500\"},\"mode\":\"lines+markers\",\"name\":\"3\",\"showlegend\":false,\"text\":\"<I><br>im Nebenzimmer rechts begann die Schwester zu schluchzen <br></I>\",\"x\":[17690,17747],\"y\":[\"Alina_se_anno_Verwandlung_Kap1\",\"Alina_se_anno_Verwandlung_Kap1\"],\"type\":\"scatter\"},{\"legendgroup\":\"3\",\"marker\":{\"color\":\"#A68500\"},\"mode\":\"lines+markers\",\"name\":\"3\",\"showlegend\":false,\"text\":\"<I><br>Und warum weinte sie denn <br></I>\",\"x\":[17904,17930],\"y\":[\"Alina_se_anno_Verwandlung_Kap1\",\"Alina_se_anno_Verwandlung_Kap1\"],\"type\":\"scatter\"},{\"legendgroup\":\"4\",\"marker\":{\"color\":\"#A64B21\"},\"mode\":\"lines+markers\",\"name\":\"4\",\"showlegend\":false,\"text\":\"<I><br>rief nun der Prokurist mit erhobener Stimme <br></I>\",\"x\":[18824,18868],\"y\":[\"Alina_se_anno_Verwandlung_Kap1\",\"Alina_se_anno_Verwandlung_Kap1\"],\"type\":\"scatter\"},{\"legendgroup\":\"3\",\"marker\":{\"color\":\"#A68500\"},\"mode\":\"lines+markers\",\"name\":\"3\",\"showlegend\":false,\"text\":\"<I><br>antworten blo\\u00df mit Ja und Nein <br></I>\",\"x\":[18936,18967],\"y\":[\"Alina_se_anno_Verwandlung_Kap1\",\"Alina_se_anno_Verwandlung_Kap1\"],\"type\":\"scatter\"},{\"legendgroup\":\"3\",\"marker\":{\"color\":\"#A68500\"},\"mode\":\"lines+markers\",\"name\":\"3\",\"showlegend\":false,\"text\":\"<I><br>Ich spreche hier im Namen Ihrer Eltern und Ihres Chefs<br><br></I>\",\"x\":[19126,19181],\"y\":[\"Alina_se_anno_Verwandlung_Kap1\",\"Alina_se_anno_Verwandlung_Kap1\"],\"type\":\"scatter\"},{\"legendgroup\":\"3\",\"marker\":{\"color\":\"#A68500\"},\"mode\":\"lines+markers\",\"name\":\"3\",\"showlegend\":false,\"text\":\"<I><br>bitte Sie ganz ernsthaft um eine augenblickliche, deutliche Erkl\\u00e4rung <br></I>\",\"x\":[19186,19256],\"y\":[\"Alina_se_anno_Verwandlung_Kap1\",\"Alina_se_anno_Verwandlung_Kap1\"],\"type\":\"scatter\"},{\"legendgroup\":\"3\",\"marker\":{\"color\":\"#A68500\"},\"mode\":\"lines+markers\",\"name\":\"3\",\"showlegend\":false,\"text\":\"<I><br>Der Chef deutete mir zwar heute fr\\u00fch eine m\\u00f6gliche Erkl\\u00e4rung<br>f\\u00fcr Ihre Vers\\u00e4umnis an <br></I>\",\"x\":[19439,19523],\"y\":[\"Alina_se_anno_Verwandlung_Kap1\",\"Alina_se_anno_Verwandlung_Kap1\"],\"type\":\"scatter\"},{\"legendgroup\":\"3\",\"marker\":{\"color\":\"#A68500\"},\"mode\":\"lines+markers\",\"name\":\"3\",\"showlegend\":false,\"text\":\"<I><br>aber ich legte wahrhaftig fast mein Ehrenwort daf\\u00fcr ein <br></I>\",\"x\":[19582,19638],\"y\":[\"Alina_se_anno_Verwandlung_Kap1\",\"Alina_se_anno_Verwandlung_Kap1\"],\"type\":\"scatter\"},{\"legendgroup\":\"4\",\"marker\":{\"color\":\"#A64B21\"},\"mode\":\"lines+markers\",\"name\":\"4\",\"showlegend\":false,\"text\":\"<I><br>rief Gregor au\\u00dfer sich <br></I>\",\"x\":[20381,20404],\"y\":[\"Alina_se_anno_Verwandlung_Kap1\",\"Alina_se_anno_Verwandlung_Kap1\"],\"type\":\"scatter\"},{\"legendgroup\":\"3\",\"marker\":{\"color\":\"#A68500\"},\"mode\":\"lines+markers\",\"name\":\"3\",\"showlegend\":false,\"text\":\"<I><br>und kaum wu\\u00dfte, was er sprach <br></I>\",\"x\":[21676,21706],\"y\":[\"Alina_se_anno_Verwandlung_Kap1\",\"Alina_se_anno_Verwandlung_Kap1\"],\"type\":\"scatter\"},{\"legendgroup\":\"3\",\"marker\":{\"color\":\"#A68500\"},\"mode\":\"lines+markers\",\"name\":\"3\",\"showlegend\":false,\"text\":\"<I><br>die jetzt so nach ihm verlangten <br></I>\",\"x\":[21996,22029],\"y\":[\"Alina_se_anno_Verwandlung_Kap1\",\"Alina_se_anno_Verwandlung_Kap1\"],\"type\":\"scatter\"},{\"legendgroup\":\"S\",\"marker\":{\"color\":\"#093658\"},\"mode\":\"lines+markers\",\"name\":\"S\",\"showlegend\":false,\"text\":\"<I><br>und verstummte <br></I>\",\"x\":[22717,22732],\"y\":[\"Alina_se_anno_Verwandlung_Kap1\",\"Alina_se_anno_Verwandlung_Kap1\"],\"type\":\"scatter\"},{\"legendgroup\":\"3\",\"marker\":{\"color\":\"#A68500\"},\"mode\":\"lines+markers\",\"name\":\"3\",\"showlegend\":false,\"text\":\"<I><br>fragte der Prokurist die Eltern <br></I>\",\"x\":[22823,22855],\"y\":[\"Alina_se_anno_Verwandlung_Kap1\",\"Alina_se_anno_Verwandlung_Kap1\"],\"type\":\"scatter\"},{\"legendgroup\":\"4\",\"marker\":{\"color\":\"#A64B21\"},\"mode\":\"lines+markers\",\"name\":\"4\",\"showlegend\":false,\"text\":\"<I><br>rief die Mutter schon unter Weinen <br></I>\",\"x\":[22937,22972],\"y\":[\"Alina_se_anno_Verwandlung_Kap1\",\"Alina_se_anno_Verwandlung_Kap1\"],\"type\":\"scatter\"},{\"legendgroup\":\"4\",\"marker\":{\"color\":\"#A64B21\"},\"mode\":\"lines+markers\",\"name\":\"4\",\"showlegend\":false,\"text\":\"<I><br>schrie sie dann <br></I>\",\"x\":[23044,23060],\"y\":[\"Alina_se_anno_Verwandlung_Kap1\",\"Alina_se_anno_Verwandlung_Kap1\"],\"type\":\"scatter\"},{\"legendgroup\":\"4\",\"marker\":{\"color\":\"#A64B21\"},\"mode\":\"lines+markers\",\"name\":\"4\",\"showlegend\":false,\"text\":\"<I><br>rief die Schwester von der anderen Seite <br></I>\",\"x\":[23075,23116],\"y\":[\"Alina_se_anno_Verwandlung_Kap1\",\"Alina_se_anno_Verwandlung_Kap1\"],\"type\":\"scatter\"},{\"legendgroup\":\"4\",\"marker\":{\"color\":\"#A64B21\"},\"mode\":\"lines+markers\",\"name\":\"4\",\"showlegend\":false,\"text\":\"<I><br>Sie verst\\u00e4ndigten sich durch Gregors Zimmer <br></I>\",\"x\":[23118,23162],\"y\":[\"Alina_se_anno_Verwandlung_Kap1\",\"Alina_se_anno_Verwandlung_Kap1\"],\"type\":\"scatter\"},{\"legendgroup\":\"2\",\"marker\":{\"color\":\"#843AF2\"},\"mode\":\"lines+markers\",\"name\":\"2\",\"showlegend\":false,\"text\":\"<I><br>sagte der Prokurist, auffallend leise gegen\\u00fcber dem Schreien der Mutter<br><br></I>\",\"x\":[23303,23375],\"y\":[\"Alina_se_anno_Verwandlung_Kap1\",\"Alina_se_anno_Verwandlung_Kap1\"],\"type\":\"scatter\"},{\"legendgroup\":\"4\",\"marker\":{\"color\":\"#A64B21\"},\"mode\":\"lines+markers\",\"name\":\"4\",\"showlegend\":false,\"text\":\"<I><br>rief der Vater durch das Vorzimmer in die K\\u00fcche <br></I>\",\"x\":[23394,23442],\"y\":[\"Alina_se_anno_Verwandlung_Kap1\",\"Alina_se_anno_Verwandlung_Kap1\"],\"type\":\"scatter\"},{\"legendgroup\":\"4\",\"marker\":{\"color\":\"#A64B21\"},\"mode\":\"lines+markers\",\"name\":\"4\",\"showlegend\":false,\"text\":\"<I><br>und klatschte in die H\\u00e4nde <br></I>\",\"x\":[23442,23469],\"y\":[\"Alina_se_anno_Verwandlung_Kap1\",\"Alina_se_anno_Verwandlung_Kap1\"],\"type\":\"scatter\"},{\"legendgroup\":\"1\",\"marker\":{\"color\":\"#F92F6A\"},\"mode\":\"lines+markers\",\"name\":\"1\",\"showlegend\":true,\"text\":\"<I><br>Gregor war aber viel ruhiger geworden <br></I>\",\"x\":[23832,23870],\"y\":[\"Alina_se_anno_Verwandlung_Kap1\",\"Alina_se_anno_Verwandlung_Kap1\"],\"type\":\"scatter\"},{\"legendgroup\":\"3\",\"marker\":{\"color\":\"#A68500\"},\"mode\":\"lines+markers\",\"name\":\"3\",\"showlegend\":false,\"text\":\"<I><br>hustete er ein wenig ab, allerdings bem\\u00fcht, dies ganz ged\\u00e4mpft<br>zu tun <br></I>\",\"x\":[24540,24610],\"y\":[\"Alina_se_anno_Verwandlung_Kap1\",\"Alina_se_anno_Verwandlung_Kap1\"],\"type\":\"scatter\"},{\"legendgroup\":\"3\",\"marker\":{\"color\":\"#A68500\"},\"mode\":\"lines+markers\",\"name\":\"3\",\"showlegend\":false,\"text\":\"<I><br>da m\\u00f6glicherweise auch schon dieses Ger\\u00e4usch anders als menschlicher Husten<br>klang <br></I>\",\"x\":[24612,24694],\"y\":[\"Alina_se_anno_Verwandlung_Kap1\",\"Alina_se_anno_Verwandlung_Kap1\"],\"type\":\"scatter\"},{\"legendgroup\":\"S\",\"marker\":{\"color\":\"#093658\"},\"mode\":\"lines+markers\",\"name\":\"S\",\"showlegend\":false,\"text\":\"<I><br>Im Nebenzimmer war es inzwischen ganz still geworden <br></I>\",\"x\":[24751,24804],\"y\":[\"Alina_se_anno_Verwandlung_Kap1\",\"Alina_se_anno_Verwandlung_Kap1\"],\"type\":\"scatter\"},{\"legendgroup\":\"3\",\"marker\":{\"color\":\"#A68500\"},\"mode\":\"lines+markers\",\"name\":\"3\",\"showlegend\":false,\"text\":\"<I><br>sagte der Prokurist im Nebenzimmer <br></I>\",\"x\":[25683,25718],\"y\":[\"Alina_se_anno_Verwandlung_Kap1\",\"Alina_se_anno_Verwandlung_Kap1\"],\"type\":\"scatter\"},{\"legendgroup\":\"2\",\"marker\":{\"color\":\"#843AF2\"},\"mode\":\"lines+markers\",\"name\":\"2\",\"showlegend\":false,\"text\":\"<I><br>Der hellere Klang des endlich zur\\u00fcckschnappenden Schlosses erweckte Gregor f\\u00f6rmlich<br><br></I>\",\"x\":[26372,26456],\"y\":[\"Alina_se_anno_Verwandlung_Kap1\",\"Alina_se_anno_Verwandlung_Kap1\"],\"type\":\"scatter\"},{\"legendgroup\":\"4\",\"marker\":{\"color\":\"#A64B21\"},\"mode\":\"lines+markers\",\"name\":\"4\",\"showlegend\":false,\"text\":\"<I><br>da h\\u00f6rte er schon den Prokuristen ein lautes \\u00bb Oh!<br>\\u00ab aussto\\u00dfen <br></I>\",\"x\":[26999,27063],\"y\":[\"Alina_se_anno_Verwandlung_Kap1\",\"Alina_se_anno_Verwandlung_Kap1\"],\"type\":\"scatter\"},{\"legendgroup\":\"4\",\"marker\":{\"color\":\"#A64B21\"},\"mode\":\"lines+markers\",\"name\":\"4\",\"showlegend\":false,\"text\":\"<I><br>es klang, wie wenn der Wind saust <br></I>\",\"x\":[27066,27100],\"y\":[\"Alina_se_anno_Verwandlung_Kap1\",\"Alina_se_anno_Verwandlung_Kap1\"],\"type\":\"scatter\"},{\"legendgroup\":\"3\",\"marker\":{\"color\":\"#A68500\"},\"mode\":\"lines+markers\",\"name\":\"3\",\"showlegend\":false,\"text\":\"<I><br>und weinte <br></I>\",\"x\":[27839,27850],\"y\":[\"Alina_se_anno_Verwandlung_Kap1\",\"Alina_se_anno_Verwandlung_Kap1\"],\"type\":\"scatter\"},{\"legendgroup\":\"3\",\"marker\":{\"color\":\"#A68500\"},\"mode\":\"lines+markers\",\"name\":\"3\",\"showlegend\":false,\"text\":\"<I><br>sagte Gregor <br></I>\",\"x\":[29108,29121],\"y\":[\"Alina_se_anno_Verwandlung_Kap1\",\"Alina_se_anno_Verwandlung_Kap1\"],\"type\":\"scatter\"},{\"legendgroup\":\"3\",\"marker\":{\"color\":\"#A68500\"},\"mode\":\"lines+markers\",\"name\":\"3\",\"showlegend\":false,\"text\":\"<I><br>sie hatte schon geweint <br></I>\",\"x\":[32687,32711],\"y\":[\"Alina_se_anno_Verwandlung_Kap1\",\"Alina_se_anno_Verwandlung_Kap1\"],\"type\":\"scatter\"},{\"legendgroup\":\"S\",\"marker\":{\"color\":\"#093658\"},\"mode\":\"lines+markers\",\"name\":\"S\",\"showlegend\":false,\"text\":\"<I><br>als Gregor noch ruhig auf dem R\\u00fccken lag <br></I>\",\"x\":[32713,32754],\"y\":[\"Alina_se_anno_Verwandlung_Kap1\",\"Alina_se_anno_Verwandlung_Kap1\"],\"type\":\"scatter\"},{\"legendgroup\":\"4\",\"marker\":{\"color\":\"#A64B21\"},\"mode\":\"lines+markers\",\"name\":\"4\",\"showlegend\":false,\"text\":\"<I><br>fiel aber sofort, nach einem Halt suchend, mit einem kleinen<br>Schrei seine vielen Beinchen nieder <br></I>\",\"x\":[33384,33481],\"y\":[\"Alina_se_anno_Verwandlung_Kap1\",\"Alina_se_anno_Verwandlung_Kap1\"],\"type\":\"scatter\"},{\"legendgroup\":\"4\",\"marker\":{\"color\":\"#A64B21\"},\"mode\":\"lines+markers\",\"name\":\"4\",\"showlegend\":false,\"text\":\"<I><br>rief <br></I>\",\"x\":[34120,34125],\"y\":[\"Alina_se_anno_Verwandlung_Kap1\",\"Alina_se_anno_Verwandlung_Kap1\"],\"type\":\"scatter\"},{\"legendgroup\":\"2\",\"marker\":{\"color\":\"#843AF2\"},\"mode\":\"lines+markers\",\"name\":\"2\",\"showlegend\":false,\"text\":\"<I><br>sagte Gregor leise und sah zu ihr hinauf <br></I>\",\"x\":[34569,34610],\"y\":[\"Alina_se_anno_Verwandlung_Kap1\",\"Alina_se_anno_Verwandlung_Kap1\"],\"type\":\"scatter\"},{\"legendgroup\":\"4\",\"marker\":{\"color\":\"#A64B21\"},\"mode\":\"lines+markers\",\"name\":\"4\",\"showlegend\":false,\"text\":\"<I><br>Dar\\u00fcber schrie die Mutter neuerdings auf <br></I>\",\"x\":[34805,34846],\"y\":[\"Alina_se_anno_Verwandlung_Kap1\",\"Alina_se_anno_Verwandlung_Kap1\"],\"type\":\"scatter\"},{\"legendgroup\":\"4\",\"marker\":{\"color\":\"#A64B21\"},\"mode\":\"lines+markers\",\"name\":\"4\",\"showlegend\":false,\"text\":\"<I><br>aber schrie er noch <br></I>\",\"x\":[35246,35266],\"y\":[\"Alina_se_anno_Verwandlung_Kap1\",\"Alina_se_anno_Verwandlung_Kap1\"],\"type\":\"scatter\"},{\"legendgroup\":\"4\",\"marker\":{\"color\":\"#A64B21\"},\"mode\":\"lines+markers\",\"name\":\"4\",\"showlegend\":false,\"text\":\"<I><br>es klang durchs ganze Treppenhaus <br></I>\",\"x\":[35268,35302],\"y\":[\"Alina_se_anno_Verwandlung_Kap1\",\"Alina_se_anno_Verwandlung_Kap1\"],\"type\":\"scatter\"},{\"legendgroup\":\"4\",\"marker\":{\"color\":\"#A64B21\"},\"mode\":\"lines+markers\",\"name\":\"4\",\"showlegend\":false,\"text\":\"<I><br>und machte sich unter F\\u00fc\\u00dfestampfen daran <br></I>\",\"x\":[35717,35758],\"y\":[\"Alina_se_anno_Verwandlung_Kap1\",\"Alina_se_anno_Verwandlung_Kap1\"],\"type\":\"scatter\"},{\"legendgroup\":\"3\",\"marker\":{\"color\":\"#A68500\"},\"mode\":\"lines+markers\",\"name\":\"3\",\"showlegend\":false,\"text\":\"<I><br>Kein Bitten Gregors half <br></I>\",\"x\":[35843,35868],\"y\":[\"Alina_se_anno_Verwandlung_Kap1\",\"Alina_se_anno_Verwandlung_Kap1\"],\"type\":\"scatter\"},{\"legendgroup\":\"4\",\"marker\":{\"color\":\"#A64B21\"},\"mode\":\"lines+markers\",\"name\":\"4\",\"showlegend\":false,\"text\":\"<I><br>der Vater stampfte nur st\\u00e4rker mit den F\\u00fc\\u00dfen <br></I>\",\"x\":[35948,35993],\"y\":[\"Alina_se_anno_Verwandlung_Kap1\",\"Alina_se_anno_Verwandlung_Kap1\"],\"type\":\"scatter\"},{\"legendgroup\":\"3\",\"marker\":{\"color\":\"#A68500\"},\"mode\":\"lines+markers\",\"name\":\"3\",\"showlegend\":false,\"text\":\"<I><br>die Zeitungen auf dem Tische rauschten <br></I>\",\"x\":[36247,36286],\"y\":[\"Alina_se_anno_Verwandlung_Kap1\",\"Alina_se_anno_Verwandlung_Kap1\"],\"type\":\"scatter\"},{\"legendgroup\":\"3\",\"marker\":{\"color\":\"#A68500\"},\"mode\":\"lines+markers\",\"name\":\"3\",\"showlegend\":false,\"text\":\"<I><br>und stie\\u00df Zischlaute aus <br></I>\",\"x\":[36363,36388],\"y\":[\"Alina_se_anno_Verwandlung_Kap1\",\"Alina_se_anno_Verwandlung_Kap1\"],\"type\":\"scatter\"},{\"legendgroup\":\"4\",\"marker\":{\"color\":\"#A64B21\"},\"mode\":\"lines+markers\",\"name\":\"4\",\"showlegend\":false,\"text\":\"<I><br>Wenn nur nicht dieses unertr\\u00e4gliche Zischen des Vaters gewesen w\\u00e4re<br><br></I>\",\"x\":[37300,37368],\"y\":[\"Alina_se_anno_Verwandlung_Kap1\",\"Alina_se_anno_Verwandlung_Kap1\"],\"type\":\"scatter\"},{\"legendgroup\":\"4\",\"marker\":{\"color\":\"#A64B21\"},\"mode\":\"lines+markers\",\"name\":\"4\",\"showlegend\":false,\"text\":\"<I><br>immer auf dieses Zischen horchend <br></I>\",\"x\":[37454,37488],\"y\":[\"Alina_se_anno_Verwandlung_Kap1\",\"Alina_se_anno_Verwandlung_Kap1\"],\"type\":\"scatter\"},{\"legendgroup\":\"4\",\"marker\":{\"color\":\"#A64B21\"},\"mode\":\"lines+markers\",\"name\":\"4\",\"showlegend\":false,\"text\":\"<I><br>Vielmehr trieb er, als g\\u00e4be es kein Hindernis, Gregor jetzt<br>unter besonderem L\\u00e4rm vorw\\u00e4rts <br></I>\",\"x\":[38111,38202],\"y\":[\"Alina_se_anno_Verwandlung_Kap1\",\"Alina_se_anno_Verwandlung_Kap1\"],\"type\":\"scatter\"},{\"legendgroup\":\"4\",\"marker\":{\"color\":\"#A64B21\"},\"mode\":\"lines+markers\",\"name\":\"4\",\"showlegend\":false,\"text\":\"<I><br>es klang schon hinter Gregor gar nicht mehr wie die<br>Stimme blo\\u00df eines einzigen Vaters <br></I>\",\"x\":[38204,38290],\"y\":[\"Alina_se_anno_Verwandlung_Kap1\",\"Alina_se_anno_Verwandlung_Kap1\"],\"type\":\"scatter\"},{\"legendgroup\":\"4\",\"marker\":{\"color\":\"#A64B21\"},\"mode\":\"lines+markers\",\"name\":\"4\",\"showlegend\":false,\"text\":\"<I><br>Die T\\u00fcr wurde noch mit dem Stock zugeschlagen <br></I>\",\"x\":[38878,38924],\"y\":[\"Alina_se_anno_Verwandlung_Kap1\",\"Alina_se_anno_Verwandlung_Kap1\"],\"type\":\"scatter\"},{\"legendgroup\":\"S\",\"marker\":{\"color\":\"#093658\"},\"mode\":\"lines+markers\",\"name\":\"S\",\"showlegend\":false,\"text\":\"<I><br>dann war es endlich still <br></I>\",\"x\":[38926,38952],\"y\":[\"Alina_se_anno_Verwandlung_Kap1\",\"Alina_se_anno_Verwandlung_Kap1\"],\"type\":\"scatter\"},{\"legendgroup\":\"1\",\"marker\":{\"color\":\"#F92F6A\"},\"mode\":\"lines+markers\",\"name\":\"1\",\"showlegend\":false,\"text\":\"<I><br>Sein Zimmer, ein richtiges, nur etwas zu kleines Menschenzimmer, lag<br>ruhig zwischen den vier wohlbekannten W\\u00e4nden<br></I>\",\"x\":[614,727],\"y\":[\"Svenja_se_anno_Verwandlung_Kap_1\",\"Svenja_se_anno_Verwandlung_Kap_1\"],\"type\":\"scatter\"},{\"legendgroup\":\"2\",\"marker\":{\"color\":\"#843AF2\"},\"mode\":\"lines+markers\",\"name\":\"2\",\"showlegend\":false,\"text\":\"<I><br>die auf dem Kasten tickte<br></I>\",\"x\":[4009,4034],\"y\":[\"Svenja_se_anno_Verwandlung_Kap_1\",\"Svenja_se_anno_Verwandlung_Kap_1\"],\"type\":\"scatter\"},{\"legendgroup\":\"1\",\"marker\":{\"color\":\"#F92F6A\"},\"mode\":\"lines+markers\",\"name\":\"1\",\"showlegend\":false,\"text\":\"<I><br>und die Zeiger gingen ruhig vorw\\u00e4rts<br></I>\",\"x\":[4094,4130],\"y\":[\"Svenja_se_anno_Verwandlung_Kap_1\",\"Svenja_se_anno_Verwandlung_Kap_1\"],\"type\":\"scatter\"},{\"legendgroup\":\"4\",\"marker\":{\"color\":\"#A64B21\"},\"mode\":\"lines+markers\",\"name\":\"4\",\"showlegend\":false,\"text\":\"<I><br>gewi\\u00df hatte er auch gel\\u00e4utet<br></I>\",\"x\":[4302,4330],\"y\":[\"Svenja_se_anno_Verwandlung_Kap_1\",\"Svenja_se_anno_Verwandlung_Kap_1\"],\"type\":\"scatter\"},{\"legendgroup\":\"4\",\"marker\":{\"color\":\"#A64B21\"},\"mode\":\"lines+markers\",\"name\":\"4\",\"showlegend\":false,\"text\":\"<I><br>gerade schlug der Wecker drei Viertel sieben<br></I>\",\"x\":[5754,5798],\"y\":[\"Svenja_se_anno_Verwandlung_Kap_1\",\"Svenja_se_anno_Verwandlung_Kap_1\"],\"type\":\"scatter\"},{\"legendgroup\":\"2\",\"marker\":{\"color\":\"#843AF2\"},\"mode\":\"lines+markers\",\"name\":\"2\",\"showlegend\":false,\"text\":\"<I><br>klopfte es vorsichtig an die T\\u00fcr am Kopfende seines Bettes<br></I>\",\"x\":[5803,5861],\"y\":[\"Svenja_se_anno_Verwandlung_Kap_1\",\"Svenja_se_anno_Verwandlung_Kap_1\"],\"type\":\"scatter\"},{\"legendgroup\":\"4\",\"marker\":{\"color\":\"#A64B21\"},\"mode\":\"lines+markers\",\"name\":\"4\",\"showlegend\":false,\"text\":\"<I><br>rief es<br></I>\",\"x\":[5877,5884],\"y\":[\"Svenja_se_anno_Verwandlung_Kap_1\",\"Svenja_se_anno_Verwandlung_Kap_1\"],\"type\":\"scatter\"},{\"legendgroup\":\"2\",\"marker\":{\"color\":\"#843AF2\"},\"mode\":\"lines+markers\",\"name\":\"2\",\"showlegend\":false,\"text\":\"<I><br>Die sanfte Stimme<br></I>\",\"x\":[5971,5988],\"y\":[\"Svenja_se_anno_Verwandlung_Kap_1\",\"Svenja_se_anno_Verwandlung_Kap_1\"],\"type\":\"scatter\"},{\"legendgroup\":\"3\",\"marker\":{\"color\":\"#A68500\"},\"mode\":\"lines+markers\",\"name\":\"3\",\"showlegend\":false,\"text\":\"<I><br>als er seine antwortende Stimme h\\u00f6rte<br></I>\",\"x\":[6007,6044],\"y\":[\"Svenja_se_anno_Verwandlung_Kap_1\",\"Svenja_se_anno_Verwandlung_Kap_1\"],\"type\":\"scatter\"},{\"legendgroup\":\"2\",\"marker\":{\"color\":\"#843AF2\"},\"mode\":\"lines+markers\",\"name\":\"2\",\"showlegend\":false,\"text\":\"<I><br>in die sich aber, wie von unten her, ein nicht<br>zu unterdr\\u00fcckendes, schmerzliches Piepsen mischte<br></I>\",\"x\":[6088,6184],\"y\":[\"Svenja_se_anno_Verwandlung_Kap_1\",\"Svenja_se_anno_Verwandlung_Kap_1\"],\"type\":\"scatter\"},{\"legendgroup\":\"3\",\"marker\":{\"color\":\"#A68500\"},\"mode\":\"lines+markers\",\"name\":\"3\",\"showlegend\":false,\"text\":\"<I><br>beschr\\u00e4nkte sich aber bei diesen Umst\\u00e4nden darauf, zu sagen<br></I>\",\"x\":[6417,6476],\"y\":[\"Svenja_se_anno_Verwandlung_Kap_1\",\"Svenja_se_anno_Verwandlung_Kap_1\"],\"type\":\"scatter\"},{\"legendgroup\":\"2\",\"marker\":{\"color\":\"#843AF2\"},\"mode\":\"lines+markers\",\"name\":\"2\",\"showlegend\":false,\"text\":\"<I><br>und schl\\u00fcrfte davon<br></I>\",\"x\":[6668,6687],\"y\":[\"Svenja_se_anno_Verwandlung_Kap_1\",\"Svenja_se_anno_Verwandlung_Kap_1\"],\"type\":\"scatter\"},{\"legendgroup\":\"3\",\"marker\":{\"color\":\"#A68500\"},\"mode\":\"lines+markers\",\"name\":\"3\",\"showlegend\":false,\"text\":\"<I><br>und schon klopfte an der einen Seitent\\u00fcr der Vater, schwach,<br>aber mit der Faust<br></I>\",\"x\":[6832,6911],\"y\":[\"Svenja_se_anno_Verwandlung_Kap_1\",\"Svenja_se_anno_Verwandlung_Kap_1\"],\"type\":\"scatter\"},{\"legendgroup\":\"4\",\"marker\":{\"color\":\"#A64B21\"},\"mode\":\"lines+markers\",\"name\":\"4\",\"showlegend\":false,\"text\":\"<I><br> rief er<br></I>\",\"x\":[6934,6942],\"y\":[\"Svenja_se_anno_Verwandlung_Kap_1\",\"Svenja_se_anno_Verwandlung_Kap_1\"],\"type\":\"scatter\"},{\"legendgroup\":\"3\",\"marker\":{\"color\":\"#A68500\"},\"mode\":\"lines+markers\",\"name\":\"3\",\"showlegend\":false,\"text\":\"<I><br>Und nach einer kleinen Weile mahnte er nochmals mit tieferer<br>Stimme<br></I>\",\"x\":[6964,7031],\"y\":[\"Svenja_se_anno_Verwandlung_Kap_1\",\"Svenja_se_anno_Verwandlung_Kap_1\"],\"type\":\"scatter\"},{\"legendgroup\":\"2\",\"marker\":{\"color\":\"#843AF2\"},\"mode\":\"lines+markers\",\"name\":\"2\",\"showlegend\":false,\"text\":\"<I><br>An der anderen Seitent\\u00fcr aber klagte leise die Schwester <br></I>\",\"x\":[7055,7112],\"y\":[\"Svenja_se_anno_Verwandlung_Kap_1\",\"Svenja_se_anno_Verwandlung_Kap_1\"],\"type\":\"scatter\"},{\"legendgroup\":\"3\",\"marker\":{\"color\":\"#A68500\"},\"mode\":\"lines+markers\",\"name\":\"3\",\"showlegend\":false,\"text\":\"<I><br>Nach beiden Seiten hin antwortete Gregor<br></I>\",\"x\":[7166,7206],\"y\":[\"Svenja_se_anno_Verwandlung_Kap_1\",\"Svenja_se_anno_Verwandlung_Kap_1\"],\"type\":\"scatter\"},{\"legendgroup\":\"2\",\"marker\":{\"color\":\"#843AF2\"},\"mode\":\"lines+markers\",\"name\":\"2\",\"showlegend\":false,\"text\":\"<I><br>die Schwester aber fl\\u00fcsterte<br></I>\",\"x\":[7446,7474],\"y\":[\"Svenja_se_anno_Verwandlung_Kap_1\",\"Svenja_se_anno_Verwandlung_Kap_1\"],\"type\":\"scatter\"},{\"legendgroup\":\"4\",\"marker\":{\"color\":\"#A64B21\"},\"mode\":\"lines+markers\",\"name\":\"4\",\"showlegend\":false,\"text\":\"<I><br>schlug an den unteren Bettpfosten heftig an<br></I>\",\"x\":[9485,9528],\"y\":[\"Svenja_se_anno_Verwandlung_Kap_1\",\"Svenja_se_anno_Verwandlung_Kap_1\"],\"type\":\"scatter\"},{\"legendgroup\":\"3\",\"marker\":{\"color\":\"#A68500\"},\"mode\":\"lines+markers\",\"name\":\"3\",\"showlegend\":false,\"text\":\"<I><br>Aber als er wieder nach gleicher M\\u00fche aufseufzend so dalag<br>wie fr\\u00fcher<br></I>\",\"x\":[10283,10352],\"y\":[\"Svenja_se_anno_Verwandlung_Kap_1\",\"Svenja_se_anno_Verwandlung_Kap_1\"],\"type\":\"scatter\"},{\"legendgroup\":\"4\",\"marker\":{\"color\":\"#A64B21\"},\"mode\":\"lines+markers\",\"name\":\"4\",\"showlegend\":false,\"text\":\"<I><br>sagte er sich beim neuerlichen Schlagen des Weckers<br></I>\",\"x\":[11099,11150],\"y\":[\"Svenja_se_anno_Verwandlung_Kap_1\",\"Svenja_se_anno_Verwandlung_Kap_1\"],\"type\":\"scatter\"},{\"legendgroup\":\"1\",\"marker\":{\"color\":\"#F92F6A\"},\"mode\":\"lines+markers\",\"name\":\"1\",\"showlegend\":false,\"text\":\"<I><br>Und ein Weilchen lang lag er ruhig mit schwachem Atem<br></I>\",\"x\":[11209,11262],\"y\":[\"Svenja_se_anno_Verwandlung_Kap_1\",\"Svenja_se_anno_Verwandlung_Kap_1\"],\"type\":\"scatter\"},{\"legendgroup\":\"S\",\"marker\":{\"color\":\"#093658\"},\"mode\":\"lines+markers\",\"name\":\"S\",\"showlegend\":false,\"text\":\"<I><br>als erwarte er vielleicht von der v\\u00f6lligen Stille die Wiederkehr<br>der wirklichen und selbstverst\\u00e4ndlichen Verh\\u00e4ltnisse<br></I>\",\"x\":[11265,11382],\"y\":[\"Svenja_se_anno_Verwandlung_Kap_1\",\"Svenja_se_anno_Verwandlung_Kap_1\"],\"type\":\"scatter\"},{\"legendgroup\":\"4\",\"marker\":{\"color\":\"#A64B21\"},\"mode\":\"lines+markers\",\"name\":\"4\",\"showlegend\":false,\"text\":\"<I><br>als es an der Wohnungst\\u00fcr l\\u00e4utete<br></I>\",\"x\":[13166,13199],\"y\":[\"Svenja_se_anno_Verwandlung_Kap_1\",\"Svenja_se_anno_Verwandlung_Kap_1\"],\"type\":\"scatter\"},{\"legendgroup\":\"S\",\"marker\":{\"color\":\"#093658\"},\"mode\":\"lines+markers\",\"name\":\"S\",\"showlegend\":false,\"text\":\"<I><br>Einen Augenblick blieb alles still<br></I>\",\"x\":[13324,13358],\"y\":[\"Svenja_se_anno_Verwandlung_Kap_1\",\"Svenja_se_anno_Verwandlung_Kap_1\"],\"type\":\"scatter\"},{\"legendgroup\":\"3\",\"marker\":{\"color\":\"#A68500\"},\"mode\":\"lines+markers\",\"name\":\"3\",\"showlegend\":false,\"text\":\"<I><br>Aber dann ging nat\\u00fcrlich wie immer das Dienstm\\u00e4dchen festen Schrittes<br>zur T\\u00fcr<br></I>\",\"x\":[13448,13525],\"y\":[\"Svenja_se_anno_Verwandlung_Kap_1\",\"Svenja_se_anno_Verwandlung_Kap_1\"],\"type\":\"scatter\"},{\"legendgroup\":\"3\",\"marker\":{\"color\":\"#A68500\"},\"mode\":\"lines+markers\",\"name\":\"3\",\"showlegend\":false,\"text\":\"<I><br>Gregor brauchte nur das erste Gru\\u00dfwort des Besuchers zu h\\u00f6ren<br></I>\",\"x\":[13539,13600],\"y\":[\"Svenja_se_anno_Verwandlung_Kap_1\",\"Svenja_se_anno_Verwandlung_Kap_1\"],\"type\":\"scatter\"},{\"legendgroup\":\"4\",\"marker\":{\"color\":\"#A64B21\"},\"mode\":\"lines+markers\",\"name\":\"4\",\"showlegend\":false,\"text\":\"<I><br>Es gab einen lauten Schlag<br></I>\",\"x\":[14585,14611],\"y\":[\"Svenja_se_anno_Verwandlung_Kap_1\",\"Svenja_se_anno_Verwandlung_Kap_1\"],\"type\":\"scatter\"},{\"legendgroup\":\"3\",\"marker\":{\"color\":\"#A68500\"},\"mode\":\"lines+markers\",\"name\":\"3\",\"showlegend\":false,\"text\":\"<I><br>daher kam der nicht gar so auffallende dumpfe Klang<br></I>\",\"x\":[14772,14823],\"y\":[\"Svenja_se_anno_Verwandlung_Kap_1\",\"Svenja_se_anno_Verwandlung_Kap_1\"],\"type\":\"scatter\"},{\"legendgroup\":\"3\",\"marker\":{\"color\":\"#A68500\"},\"mode\":\"lines+markers\",\"name\":\"3\",\"showlegend\":false,\"text\":\"<I><br>sagte der Prokurist im Nebenzimmer links<br></I>\",\"x\":[15000,15040],\"y\":[\"Svenja_se_anno_Verwandlung_Kap_1\",\"Svenja_se_anno_Verwandlung_Kap_1\"],\"type\":\"scatter\"},{\"legendgroup\":\"2\",\"marker\":{\"color\":\"#843AF2\"},\"mode\":\"lines+markers\",\"name\":\"2\",\"showlegend\":false,\"text\":\"<I><br>Aber wie zur rohen Antwort auf diese Frage machte jetzt<br>der Prokurist im Nebenzimmer ein paar bestimmte Schritte<br></I>\",\"x\":[15220,15332],\"y\":[\"Svenja_se_anno_Verwandlung_Kap_1\",\"Svenja_se_anno_Verwandlung_Kap_1\"],\"type\":\"scatter\"},{\"legendgroup\":\"3\",\"marker\":{\"color\":\"#A68500\"},\"mode\":\"lines+markers\",\"name\":\"3\",\"showlegend\":false,\"text\":\"<I><br>und lie\\u00df seine Lackstiefel knarren<br></I>\",\"x\":[15333,15367],\"y\":[\"Svenja_se_anno_Verwandlung_Kap_1\",\"Svenja_se_anno_Verwandlung_Kap_1\"],\"type\":\"scatter\"},{\"legendgroup\":\"S\",\"marker\":{\"color\":\"#093658\"},\"mode\":\"lines+markers\",\"name\":\"S\",\"showlegend\":false,\"text\":\"<I><br>Aus dem Nebenzimmer rechts fl\\u00fcsterte die Schweste<br></I>\",\"x\":[15370,15419],\"y\":[\"Svenja_se_anno_Verwandlung_Kap_1\",\"Svenja_se_anno_Verwandlung_Kap_1\"],\"type\":\"scatter\"},{\"legendgroup\":\"2\",\"marker\":{\"color\":\"#843AF2\"},\"mode\":\"lines+markers\",\"name\":\"2\",\"showlegend\":false,\"text\":\"<I><br>um Gregor zu verst\\u00e4ndigen<br></I>\",\"x\":[15423,15448],\"y\":[\"Svenja_se_anno_Verwandlung_Kap_1\",\"Svenja_se_anno_Verwandlung_Kap_1\"],\"type\":\"scatter\"},{\"legendgroup\":\"S\",\"marker\":{\"color\":\"#093658\"},\"mode\":\"lines+markers\",\"name\":\"S\",\"showlegend\":false,\"text\":\"<I><br> sagte Gregor vor sich hin<br></I>\",\"x\":[15499,15525],\"y\":[\"Svenja_se_anno_Verwandlung_Kap_1\",\"Svenja_se_anno_Verwandlung_Kap_1\"],\"type\":\"scatter\"},{\"legendgroup\":\"3\",\"marker\":{\"color\":\"#A68500\"},\"mode\":\"lines+markers\",\"name\":\"3\",\"showlegend\":false,\"text\":\"<I><br>sagte nun der Vater aus dem Nebenzimmer links<br></I>\",\"x\":[15633,15678],\"y\":[\"Svenja_se_anno_Verwandlung_Kap_1\",\"Svenja_se_anno_Verwandlung_Kap_1\"],\"type\":\"scatter\"},{\"legendgroup\":\"3\",\"marker\":{\"color\":\"#A68500\"},\"mode\":\"lines+markers\",\"name\":\"3\",\"showlegend\":false,\"text\":\"<I><br>und erkundigt sich<br></I>\",\"x\":[15715,15733],\"y\":[\"Svenja_se_anno_Verwandlung_Kap_1\",\"Svenja_se_anno_Verwandlung_Kap_1\"],\"type\":\"scatter\"},{\"legendgroup\":\"4\",\"marker\":{\"color\":\"#A64B21\"},\"mode\":\"lines+markers\",\"name\":\"4\",\"showlegend\":false,\"text\":\"<I><br>rief der Prokurist freundlich dazwischen<br></I>\",\"x\":[16014,16054],\"y\":[\"Svenja_se_anno_Verwandlung_Kap_1\",\"Svenja_se_anno_Verwandlung_Kap_1\"],\"type\":\"scatter\"},{\"legendgroup\":\"3\",\"marker\":{\"color\":\"#A68500\"},\"mode\":\"lines+markers\",\"name\":\"3\",\"showlegend\":false,\"text\":\"<I><br>sagte die Mutter zum Prokuristen<br></I>\",\"x\":[16082,16114],\"y\":[\"Svenja_se_anno_Verwandlung_Kap_1\",\"Svenja_se_anno_Verwandlung_Kap_1\"],\"type\":\"scatter\"},{\"legendgroup\":\"3\",\"marker\":{\"color\":\"#A68500\"},\"mode\":\"lines+markers\",\"name\":\"3\",\"showlegend\":false,\"text\":\"<I><br>w\\u00e4hrend der Vater noch an der T\\u00fcr redete<br></I>\",\"x\":[16117,16157],\"y\":[\"Svenja_se_anno_Verwandlung_Kap_1\",\"Svenja_se_anno_Verwandlung_Kap_1\"],\"type\":\"scatter\"},{\"legendgroup\":\"S\",\"marker\":{\"color\":\"#093658\"},\"mode\":\"lines+markers\",\"name\":\"S\",\"showlegend\":false,\"text\":\"<I><br>und liest still die Zeitung<br></I>\",\"x\":[16478,16505],\"y\":[\"Svenja_se_anno_Verwandlung_Kap_1\",\"Svenja_se_anno_Verwandlung_Kap_1\"],\"type\":\"scatter\"},{\"legendgroup\":\"3\",\"marker\":{\"color\":\"#A68500\"},\"mode\":\"lines+markers\",\"name\":\"3\",\"showlegend\":false,\"text\":\"<I><br>sagte Gregor langsam und bed\\u00e4chtig<br></I>\",\"x\":[17067,17101],\"y\":[\"Svenja_se_anno_Verwandlung_Kap_1\",\"Svenja_se_anno_Verwandlung_Kap_1\"],\"type\":\"scatter\"},{\"legendgroup\":\"3\",\"marker\":{\"color\":\"#A68500\"},\"mode\":\"lines+markers\",\"name\":\"3\",\"showlegend\":false,\"text\":\"<I><br>sagte der Prokurist<br></I>\",\"x\":[17231,17250],\"y\":[\"Svenja_se_anno_Verwandlung_Kap_1\",\"Svenja_se_anno_Verwandlung_Kap_1\"],\"type\":\"scatter\"},{\"legendgroup\":\"3\",\"marker\":{\"color\":\"#A68500\"},\"mode\":\"lines+markers\",\"name\":\"3\",\"showlegend\":false,\"text\":\"<I><br>fragte der ungeduldige Vater<br></I>\",\"x\":[17547,17575],\"y\":[\"Svenja_se_anno_Verwandlung_Kap_1\",\"Svenja_se_anno_Verwandlung_Kap_1\"],\"type\":\"scatter\"},{\"legendgroup\":\"4\",\"marker\":{\"color\":\"#A64B21\"},\"mode\":\"lines+markers\",\"name\":\"4\",\"showlegend\":false,\"text\":\"<I><br>und klopfte wiederum an die T\\u00fcr <br></I>\",\"x\":[17576,17608],\"y\":[\"Svenja_se_anno_Verwandlung_Kap_1\",\"Svenja_se_anno_Verwandlung_Kap_1\"],\"type\":\"scatter\"},{\"legendgroup\":\"3\",\"marker\":{\"color\":\"#A68500\"},\"mode\":\"lines+markers\",\"name\":\"3\",\"showlegend\":false,\"text\":\"<I><br>sagte Gregor<br></I>\",\"x\":[17621,17633],\"y\":[\"Svenja_se_anno_Verwandlung_Kap_1\",\"Svenja_se_anno_Verwandlung_Kap_1\"],\"type\":\"scatter\"},{\"legendgroup\":\"S\",\"marker\":{\"color\":\"#093658\"},\"mode\":\"lines+markers\",\"name\":\"S\",\"showlegend\":false,\"text\":\"<I><br>Im Nebenzimmer links trat eine peinliche Stille ein<br></I>\",\"x\":[17636,17687],\"y\":[\"Svenja_se_anno_Verwandlung_Kap_1\",\"Svenja_se_anno_Verwandlung_Kap_1\"],\"type\":\"scatter\"},{\"legendgroup\":\"2\",\"marker\":{\"color\":\"#843AF2\"},\"mode\":\"lines+markers\",\"name\":\"2\",\"showlegend\":false,\"text\":\"<I><br>im Nebenzimmer rechts begann die Schwester zu schluchzen<br></I>\",\"x\":[17690,17746],\"y\":[\"Svenja_se_anno_Verwandlung_Kap_1\",\"Svenja_se_anno_Verwandlung_Kap_1\"],\"type\":\"scatter\"},{\"legendgroup\":\"4\",\"marker\":{\"color\":\"#A64B21\"},\"mode\":\"lines+markers\",\"name\":\"4\",\"showlegend\":false,\"text\":\"<I><br> rief nun der Prokurist mit erhobener Stimme<br></I>\",\"x\":[18823,18867],\"y\":[\"Svenja_se_anno_Verwandlung_Kap_1\",\"Svenja_se_anno_Verwandlung_Kap_1\"],\"type\":\"scatter\"},{\"legendgroup\":\"3\",\"marker\":{\"color\":\"#A68500\"},\"mode\":\"lines+markers\",\"name\":\"3\",\"showlegend\":false,\"text\":\"<I><br> Ich spreche hier im Namen Ihrer Eltern und Ihres<br>Chefs<br></I>\",\"x\":[19125,19180],\"y\":[\"Svenja_se_anno_Verwandlung_Kap_1\",\"Svenja_se_anno_Verwandlung_Kap_1\"],\"type\":\"scatter\"},{\"legendgroup\":\"3\",\"marker\":{\"color\":\"#A68500\"},\"mode\":\"lines+markers\",\"name\":\"3\",\"showlegend\":false,\"text\":\"<I><br> und bitte Sie ganz ernsthaft um eine augenblickliche, deutliche<br>Erkl\\u00e4rung<br></I>\",\"x\":[19181,19255],\"y\":[\"Svenja_se_anno_Verwandlung_Kap_1\",\"Svenja_se_anno_Verwandlung_Kap_1\"],\"type\":\"scatter\"},{\"legendgroup\":\"3\",\"marker\":{\"color\":\"#A68500\"},\"mode\":\"lines+markers\",\"name\":\"3\",\"showlegend\":false,\"text\":\"<I><br>Der Chef deutete mir zwar heute fr\\u00fch eine m\\u00f6gliche Erkl\\u00e4rung<br>f\\u00fcr Ihre Vers\\u00e4umnis an <br></I>\",\"x\":[19439,19523],\"y\":[\"Svenja_se_anno_Verwandlung_Kap_1\",\"Svenja_se_anno_Verwandlung_Kap_1\"],\"type\":\"scatter\"},{\"legendgroup\":\"4\",\"marker\":{\"color\":\"#A64B21\"},\"mode\":\"lines+markers\",\"name\":\"4\",\"showlegend\":false,\"text\":\"<I><br>rief Gregor au\\u00dfer sich<br></I>\",\"x\":[20381,20403],\"y\":[\"Svenja_se_anno_Verwandlung_Kap_1\",\"Svenja_se_anno_Verwandlung_Kap_1\"],\"type\":\"scatter\"},{\"legendgroup\":\"3\",\"marker\":{\"color\":\"#A68500\"},\"mode\":\"lines+markers\",\"name\":\"3\",\"showlegend\":false,\"text\":\"<I><br>F\\u00fcr alle die Vorw\\u00fcrfe, die Sie mir jetzt machen<br></I>\",\"x\":[21172,21219],\"y\":[\"Svenja_se_anno_Verwandlung_Kap_1\",\"Svenja_se_anno_Verwandlung_Kap_1\"],\"type\":\"scatter\"},{\"legendgroup\":\"3\",\"marker\":{\"color\":\"#A68500\"},\"mode\":\"lines+markers\",\"name\":\"3\",\"showlegend\":false,\"text\":\"<I><br>Und w\\u00e4hrend Gregor dies alles hastig ausstie\\u00df<br></I>\",\"x\":[21630,21675],\"y\":[\"Svenja_se_anno_Verwandlung_Kap_1\",\"Svenja_se_anno_Verwandlung_Kap_1\"],\"type\":\"scatter\"},{\"legendgroup\":\"3\",\"marker\":{\"color\":\"#A68500\"},\"mode\":\"lines+markers\",\"name\":\"3\",\"showlegend\":false,\"text\":\"<I><br>was er sprach<br></I>\",\"x\":[21692,21705],\"y\":[\"Svenja_se_anno_Verwandlung_Kap_1\",\"Svenja_se_anno_Verwandlung_Kap_1\"],\"type\":\"scatter\"},{\"legendgroup\":\"S\",\"marker\":{\"color\":\"#093658\"},\"mode\":\"lines+markers\",\"name\":\"S\",\"showlegend\":false,\"text\":\"<I><br>und verstummte<br></I>\",\"x\":[22717,22731],\"y\":[\"Svenja_se_anno_Verwandlung_Kap_1\",\"Svenja_se_anno_Verwandlung_Kap_1\"],\"type\":\"scatter\"},{\"legendgroup\":\"3\",\"marker\":{\"color\":\"#A68500\"},\"mode\":\"lines+markers\",\"name\":\"3\",\"showlegend\":false,\"text\":\"<I><br>fragte der Prokurist die Eltern<br></I>\",\"x\":[22823,22854],\"y\":[\"Svenja_se_anno_Verwandlung_Kap_1\",\"Svenja_se_anno_Verwandlung_Kap_1\"],\"type\":\"scatter\"},{\"legendgroup\":\"4\",\"marker\":{\"color\":\"#A64B21\"},\"mode\":\"lines+markers\",\"name\":\"4\",\"showlegend\":false,\"text\":\"<I><br>rief die Mutter schon unter Weinen<br></I>\",\"x\":[22937,22971],\"y\":[\"Svenja_se_anno_Verwandlung_Kap_1\",\"Svenja_se_anno_Verwandlung_Kap_1\"],\"type\":\"scatter\"},{\"legendgroup\":\"4\",\"marker\":{\"color\":\"#A64B21\"},\"mode\":\"lines+markers\",\"name\":\"4\",\"showlegend\":false,\"text\":\"<I><br>schrie sie dann<br></I>\",\"x\":[23044,23059],\"y\":[\"Svenja_se_anno_Verwandlung_Kap_1\",\"Svenja_se_anno_Verwandlung_Kap_1\"],\"type\":\"scatter\"},{\"legendgroup\":\"4\",\"marker\":{\"color\":\"#A64B21\"},\"mode\":\"lines+markers\",\"name\":\"4\",\"showlegend\":false,\"text\":\"<I><br>rief die Schwester von der anderen Seite<br></I>\",\"x\":[23075,23115],\"y\":[\"Svenja_se_anno_Verwandlung_Kap_1\",\"Svenja_se_anno_Verwandlung_Kap_1\"],\"type\":\"scatter\"},{\"legendgroup\":\"4\",\"marker\":{\"color\":\"#A64B21\"},\"mode\":\"lines+markers\",\"name\":\"4\",\"showlegend\":false,\"text\":\"<I><br>Sie verst\\u00e4ndigten sich durch Gregors Zimmer<br></I>\",\"x\":[23118,23161],\"y\":[\"Svenja_se_anno_Verwandlung_Kap_1\",\"Svenja_se_anno_Verwandlung_Kap_1\"],\"type\":\"scatter\"},{\"legendgroup\":\"2\",\"marker\":{\"color\":\"#843AF2\"},\"mode\":\"lines+markers\",\"name\":\"2\",\"showlegend\":false,\"text\":\"<I><br>sagte der Prokurist, auffallend leise<br></I>\",\"x\":[23303,23340],\"y\":[\"Svenja_se_anno_Verwandlung_Kap_1\",\"Svenja_se_anno_Verwandlung_Kap_1\"],\"type\":\"scatter\"},{\"legendgroup\":\"4\",\"marker\":{\"color\":\"#A64B21\"},\"mode\":\"lines+markers\",\"name\":\"4\",\"showlegend\":false,\"text\":\"<I><br>gegen\\u00fcber dem Schreien der Mutter <br></I>\",\"x\":[23341,23375],\"y\":[\"Svenja_se_anno_Verwandlung_Kap_1\",\"Svenja_se_anno_Verwandlung_Kap_1\"],\"type\":\"scatter\"},{\"legendgroup\":\"4\",\"marker\":{\"color\":\"#A64B21\"},\"mode\":\"lines+markers\",\"name\":\"4\",\"showlegend\":false,\"text\":\"<I><br>rief der Vater durch das Vorzimmer in die K\\u00fcche<br></I>\",\"x\":[23394,23441],\"y\":[\"Svenja_se_anno_Verwandlung_Kap_1\",\"Svenja_se_anno_Verwandlung_Kap_1\"],\"type\":\"scatter\"},{\"legendgroup\":\"4\",\"marker\":{\"color\":\"#A64B21\"},\"mode\":\"lines+markers\",\"name\":\"4\",\"showlegend\":false,\"text\":\"<I><br>und klatschte in die H\\u00e4nde<br></I>\",\"x\":[23442,23468],\"y\":[\"Svenja_se_anno_Verwandlung_Kap_1\",\"Svenja_se_anno_Verwandlung_Kap_1\"],\"type\":\"scatter\"},{\"legendgroup\":\"3\",\"marker\":{\"color\":\"#A68500\"},\"mode\":\"lines+markers\",\"name\":\"3\",\"showlegend\":false,\"text\":\"<I><br>Und schon liefen die zwei M\\u00e4dchen mit rauschenden R\\u00f6cken durch<br>das Vorzimmer<br></I>\",\"x\":[23506,23582],\"y\":[\"Svenja_se_anno_Verwandlung_Kap_1\",\"Svenja_se_anno_Verwandlung_Kap_1\"],\"type\":\"scatter\"},{\"legendgroup\":\"3\",\"marker\":{\"color\":\"#A68500\"},\"mode\":\"lines+markers\",\"name\":\"3\",\"showlegend\":false,\"text\":\"<I><br>und rissen die Wohnungst\\u00fcre auf<br></I>\",\"x\":[23643,23674],\"y\":[\"Svenja_se_anno_Verwandlung_Kap_1\",\"Svenja_se_anno_Verwandlung_Kap_1\"],\"type\":\"scatter\"},{\"legendgroup\":\"1\",\"marker\":{\"color\":\"#F92F6A\"},\"mode\":\"lines+markers\",\"name\":\"1\",\"showlegend\":false,\"text\":\"<I><br>Gregor war aber viel ruhiger geworden<br></I>\",\"x\":[23832,23869],\"y\":[\"Svenja_se_anno_Verwandlung_Kap_1\",\"Svenja_se_anno_Verwandlung_Kap_1\"],\"type\":\"scatter\"},{\"legendgroup\":\"3\",\"marker\":{\"color\":\"#A68500\"},\"mode\":\"lines+markers\",\"name\":\"3\",\"showlegend\":false,\"text\":\"<I><br>Die Zuversicht und Sicherheit, mit welchen die ersten Anordnungen getroffen<br>worden waren<br></I>\",\"x\":[24146,24234],\"y\":[\"Svenja_se_anno_Verwandlung_Kap_1\",\"Svenja_se_anno_Verwandlung_Kap_1\"],\"type\":\"scatter\"},{\"legendgroup\":\"3\",\"marker\":{\"color\":\"#A68500\"},\"mode\":\"lines+markers\",\"name\":\"3\",\"showlegend\":false,\"text\":\"<I><br>hustete er ein wenig ab<br></I>\",\"x\":[24540,24563],\"y\":[\"Svenja_se_anno_Verwandlung_Kap_1\",\"Svenja_se_anno_Verwandlung_Kap_1\"],\"type\":\"scatter\"},{\"legendgroup\":\"S\",\"marker\":{\"color\":\"#093658\"},\"mode\":\"lines+markers\",\"name\":\"S\",\"showlegend\":false,\"text\":\"<I><br>Im Nebenzimmer war es inzwischen ganz still geworden<br></I>\",\"x\":[24751,24803],\"y\":[\"Svenja_se_anno_Verwandlung_Kap_1\",\"Svenja_se_anno_Verwandlung_Kap_1\"],\"type\":\"scatter\"},{\"legendgroup\":\"2\",\"marker\":{\"color\":\"#843AF2\"},\"mode\":\"lines+markers\",\"name\":\"2\",\"showlegend\":false,\"text\":\"<I><br>und tuschelten<br></I>\",\"x\":[24865,24879],\"y\":[\"Svenja_se_anno_Verwandlung_Kap_1\",\"Svenja_se_anno_Verwandlung_Kap_1\"],\"type\":\"scatter\"},{\"legendgroup\":\"3\",\"marker\":{\"color\":\"#A68500\"},\"mode\":\"lines+markers\",\"name\":\"3\",\"showlegend\":false,\"text\":\"<I><br> sagte der Prokurist im Nebenzimmer<br></I>\",\"x\":[25682,25717],\"y\":[\"Svenja_se_anno_Verwandlung_Kap_1\",\"Svenja_se_anno_Verwandlung_Kap_1\"],\"type\":\"scatter\"},{\"legendgroup\":\"2\",\"marker\":{\"color\":\"#843AF2\"},\"mode\":\"lines+markers\",\"name\":\"2\",\"showlegend\":false,\"text\":\"<I><br>er dreht den Schl\\u00fcssel um<br></I>\",\"x\":[25722,25747],\"y\":[\"Svenja_se_anno_Verwandlung_Kap_1\",\"Svenja_se_anno_Verwandlung_Kap_1\"],\"type\":\"scatter\"},{\"legendgroup\":\"2\",\"marker\":{\"color\":\"#843AF2\"},\"mode\":\"lines+markers\",\"name\":\"2\",\"showlegend\":false,\"text\":\"<I><br>Der hellere Klang des endlich zur\\u00fcckschnappenden Schlosses erweckte Gregor f\\u00f6rmlich<br></I>\",\"x\":[26372,26455],\"y\":[\"Svenja_se_anno_Verwandlung_Kap_1\",\"Svenja_se_anno_Verwandlung_Kap_1\"],\"type\":\"scatter\"},{\"legendgroup\":\"1\",\"marker\":{\"color\":\"#F92F6A\"},\"mode\":\"lines+markers\",\"name\":\"1\",\"showlegend\":false,\"text\":\"<I><br>Aufatmend sagte er sich<br></I>\",\"x\":[26458,26481],\"y\":[\"Svenja_se_anno_Verwandlung_Kap_1\",\"Svenja_se_anno_Verwandlung_Kap_1\"],\"type\":\"scatter\"},{\"legendgroup\":\"4\",\"marker\":{\"color\":\"#A64B21\"},\"mode\":\"lines+markers\",\"name\":\"4\",\"showlegend\":false,\"text\":\"<I><br>da h\\u00f6rte er schon den Prokuristen ein lautes \\u00bb Oh!<br>\\u00ab aussto\\u00dfen<br></I>\",\"x\":[26999,27062],\"y\":[\"Svenja_se_anno_Verwandlung_Kap_1\",\"Svenja_se_anno_Verwandlung_Kap_1\"],\"type\":\"scatter\"},{\"legendgroup\":\"3\",\"marker\":{\"color\":\"#A68500\"},\"mode\":\"lines+markers\",\"name\":\"3\",\"showlegend\":false,\"text\":\"<I><br>es klang, wie wenn der Wind saust<br></I>\",\"x\":[27066,27099],\"y\":[\"Svenja_se_anno_Verwandlung_Kap_1\",\"Svenja_se_anno_Verwandlung_Kap_1\"],\"type\":\"scatter\"},{\"legendgroup\":\"3\",\"marker\":{\"color\":\"#A68500\"},\"mode\":\"lines+markers\",\"name\":\"3\",\"showlegend\":false,\"text\":\"<I><br>und weinte<br></I>\",\"x\":[27839,27849],\"y\":[\"Svenja_se_anno_Verwandlung_Kap_1\",\"Svenja_se_anno_Verwandlung_Kap_1\"],\"type\":\"scatter\"},{\"legendgroup\":\"2\",\"marker\":{\"color\":\"#843AF2\"},\"mode\":\"lines+markers\",\"name\":\"2\",\"showlegend\":false,\"text\":\"<I><br>der Regen fiel noch nieder<br></I>\",\"x\":[28366,28392],\"y\":[\"Svenja_se_anno_Verwandlung_Kap_1\",\"Svenja_se_anno_Verwandlung_Kap_1\"],\"type\":\"scatter\"},{\"legendgroup\":\"3\",\"marker\":{\"color\":\"#A68500\"},\"mode\":\"lines+markers\",\"name\":\"3\",\"showlegend\":false,\"text\":\"<I><br>sagte Gregor<br></I>\",\"x\":[29108,29120],\"y\":[\"Svenja_se_anno_Verwandlung_Kap_1\",\"Svenja_se_anno_Verwandlung_Kap_1\"],\"type\":\"scatter\"},{\"legendgroup\":\"S\",\"marker\":{\"color\":\"#093658\"},\"mode\":\"lines+markers\",\"name\":\"S\",\"showlegend\":false,\"text\":\"<I><br>der die Ruhe bewahrt hatte<br></I>\",\"x\":[29179,29205],\"y\":[\"Svenja_se_anno_Verwandlung_Kap_1\",\"Svenja_se_anno_Verwandlung_Kap_1\"],\"type\":\"scatter\"},{\"legendgroup\":\"3\",\"marker\":{\"color\":\"#A68500\"},\"mode\":\"lines+markers\",\"name\":\"3\",\"showlegend\":false,\"text\":\"<I><br>ganz im Vertrauen gesagt<br></I>\",\"x\":[30473,30497],\"y\":[\"Svenja_se_anno_Verwandlung_Kap_1\",\"Svenja_se_anno_Verwandlung_Kap_1\"],\"type\":\"scatter\"},{\"legendgroup\":\"2\",\"marker\":{\"color\":\"#843AF2\"},\"mode\":\"lines+markers\",\"name\":\"2\",\"showlegend\":false,\"text\":\"<I><br>sie hatte schon geweint <br></I>\",\"x\":[32687,32711],\"y\":[\"Svenja_se_anno_Verwandlung_Kap_1\",\"Svenja_se_anno_Verwandlung_Kap_1\"],\"type\":\"scatter\"},{\"legendgroup\":\"1\",\"marker\":{\"color\":\"#F92F6A\"},\"mode\":\"lines+markers\",\"name\":\"1\",\"showlegend\":false,\"text\":\"<I><br>als Gregor noch ruhig auf dem R\\u00fccken lag<br></I>\",\"x\":[32713,32753],\"y\":[\"Svenja_se_anno_Verwandlung_Kap_1\",\"Svenja_se_anno_Verwandlung_Kap_1\"],\"type\":\"scatter\"},{\"legendgroup\":\"4\",\"marker\":{\"color\":\"#A64B21\"},\"mode\":\"lines+markers\",\"name\":\"4\",\"showlegend\":false,\"text\":\"<I><br>fiel aber sofort, nach einem Halt suchend, mit einem kleinen<br>Schrei seine vielen Beinchen nieder<br></I>\",\"x\":[33384,33480],\"y\":[\"Svenja_se_anno_Verwandlung_Kap_1\",\"Svenja_se_anno_Verwandlung_Kap_1\"],\"type\":\"scatter\"},{\"legendgroup\":\"4\",\"marker\":{\"color\":\"#A64B21\"},\"mode\":\"lines+markers\",\"name\":\"4\",\"showlegend\":false,\"text\":\"<I><br>rief<br></I>\",\"x\":[34120,34124],\"y\":[\"Svenja_se_anno_Verwandlung_Kap_1\",\"Svenja_se_anno_Verwandlung_Kap_1\"],\"type\":\"scatter\"},{\"legendgroup\":\"2\",\"marker\":{\"color\":\"#843AF2\"},\"mode\":\"lines+markers\",\"name\":\"2\",\"showlegend\":false,\"text\":\"<I><br>sagte Gregor leise<br></I>\",\"x\":[34569,34587],\"y\":[\"Svenja_se_anno_Verwandlung_Kap_1\",\"Svenja_se_anno_Verwandlung_Kap_1\"],\"type\":\"scatter\"},{\"legendgroup\":\"4\",\"marker\":{\"color\":\"#A64B21\"},\"mode\":\"lines+markers\",\"name\":\"4\",\"showlegend\":false,\"text\":\"<I><br>Dar\\u00fcber schrie die Mutter neuerdings auf<br></I>\",\"x\":[34805,34845],\"y\":[\"Svenja_se_anno_Verwandlung_Kap_1\",\"Svenja_se_anno_Verwandlung_Kap_1\"],\"type\":\"scatter\"},{\"legendgroup\":\"4\",\"marker\":{\"color\":\"#A64B21\"},\"mode\":\"lines+markers\",\"name\":\"4\",\"showlegend\":false,\"text\":\"<I><br>aber schrie er noch<br></I>\",\"x\":[35246,35265],\"y\":[\"Svenja_se_anno_Verwandlung_Kap_1\",\"Svenja_se_anno_Verwandlung_Kap_1\"],\"type\":\"scatter\"},{\"legendgroup\":\"4\",\"marker\":{\"color\":\"#A64B21\"},\"mode\":\"lines+markers\",\"name\":\"4\",\"showlegend\":false,\"text\":\"<I><br>es klang durchs ganze Treppenhaus<br></I>\",\"x\":[35268,35301],\"y\":[\"Svenja_se_anno_Verwandlung_Kap_1\",\"Svenja_se_anno_Verwandlung_Kap_1\"],\"type\":\"scatter\"},{\"legendgroup\":\"4\",\"marker\":{\"color\":\"#A64B21\"},\"mode\":\"lines+markers\",\"name\":\"4\",\"showlegend\":false,\"text\":\"<I><br>und machte sich unter F\\u00fc\\u00dfestampfen daran<br></I>\",\"x\":[35717,35757],\"y\":[\"Svenja_se_anno_Verwandlung_Kap_1\",\"Svenja_se_anno_Verwandlung_Kap_1\"],\"type\":\"scatter\"},{\"legendgroup\":\"3\",\"marker\":{\"color\":\"#A68500\"},\"mode\":\"lines+markers\",\"name\":\"3\",\"showlegend\":false,\"text\":\"<I><br>Kein Bitten Gregors half <br></I>\",\"x\":[35843,35868],\"y\":[\"Svenja_se_anno_Verwandlung_Kap_1\",\"Svenja_se_anno_Verwandlung_Kap_1\"],\"type\":\"scatter\"},{\"legendgroup\":\"4\",\"marker\":{\"color\":\"#A64B21\"},\"mode\":\"lines+markers\",\"name\":\"4\",\"showlegend\":false,\"text\":\"<I><br>der Vater stampfte nur st\\u00e4rker mit den F\\u00fc\\u00dfen<br></I>\",\"x\":[35948,35992],\"y\":[\"Svenja_se_anno_Verwandlung_Kap_1\",\"Svenja_se_anno_Verwandlung_Kap_1\"],\"type\":\"scatter\"},{\"legendgroup\":\"2\",\"marker\":{\"color\":\"#843AF2\"},\"mode\":\"lines+markers\",\"name\":\"2\",\"showlegend\":false,\"text\":\"<I><br>die Zeitungen auf dem Tische rauschten <br></I>\",\"x\":[36247,36286],\"y\":[\"Svenja_se_anno_Verwandlung_Kap_1\",\"Svenja_se_anno_Verwandlung_Kap_1\"],\"type\":\"scatter\"},{\"legendgroup\":\"2\",\"marker\":{\"color\":\"#843AF2\"},\"mode\":\"lines+markers\",\"name\":\"2\",\"showlegend\":false,\"text\":\"<I><br>einzelne Bl\\u00e4tter wehten \\u00fcber den Boden hin<br></I>\",\"x\":[36288,36330],\"y\":[\"Svenja_se_anno_Verwandlung_Kap_1\",\"Svenja_se_anno_Verwandlung_Kap_1\"],\"type\":\"scatter\"},{\"legendgroup\":\"4\",\"marker\":{\"color\":\"#A64B21\"},\"mode\":\"lines+markers\",\"name\":\"4\",\"showlegend\":false,\"text\":\"<I><br>Unerbittlich dr\\u00e4ngte der Vater<br></I>\",\"x\":[36332,36362],\"y\":[\"Svenja_se_anno_Verwandlung_Kap_1\",\"Svenja_se_anno_Verwandlung_Kap_1\"],\"type\":\"scatter\"},{\"legendgroup\":\"3\",\"marker\":{\"color\":\"#A68500\"},\"mode\":\"lines+markers\",\"name\":\"3\",\"showlegend\":false,\"text\":\"<I><br>und stie\\u00df Zischlaute aus<br></I>\",\"x\":[36363,36387],\"y\":[\"Svenja_se_anno_Verwandlung_Kap_1\",\"Svenja_se_anno_Verwandlung_Kap_1\"],\"type\":\"scatter\"},{\"legendgroup\":\"3\",\"marker\":{\"color\":\"#A68500\"},\"mode\":\"lines+markers\",\"name\":\"3\",\"showlegend\":false,\"text\":\"<I><br>Wenn nur nicht dieses unertr\\u00e4gliche Zischen des Vaters gewesen w\\u00e4re<br></I>\",\"x\":[37300,37367],\"y\":[\"Svenja_se_anno_Verwandlung_Kap_1\",\"Svenja_se_anno_Verwandlung_Kap_1\"],\"type\":\"scatter\"},{\"legendgroup\":\"3\",\"marker\":{\"color\":\"#A68500\"},\"mode\":\"lines+markers\",\"name\":\"3\",\"showlegend\":false,\"text\":\"<I><br>immer auf dieses Zischen horchend <br></I>\",\"x\":[37454,37488],\"y\":[\"Svenja_se_anno_Verwandlung_Kap_1\",\"Svenja_se_anno_Verwandlung_Kap_1\"],\"type\":\"scatter\"},{\"legendgroup\":\"4\",\"marker\":{\"color\":\"#A64B21\"},\"mode\":\"lines+markers\",\"name\":\"4\",\"showlegend\":false,\"text\":\"<I><br>Vielmehr trieb er, als g\\u00e4be es kein Hindernis, Gregor jetzt<br>unter besonderem L\\u00e4rm vorw\\u00e4rts<br></I>\",\"x\":[38111,38201],\"y\":[\"Svenja_se_anno_Verwandlung_Kap_1\",\"Svenja_se_anno_Verwandlung_Kap_1\"],\"type\":\"scatter\"},{\"legendgroup\":\"4\",\"marker\":{\"color\":\"#A64B21\"},\"mode\":\"lines+markers\",\"name\":\"4\",\"showlegend\":false,\"text\":\"<I><br>es klang schon hinter Gregor gar nicht mehr wie die<br>Stimme blo\\u00df eines einzigen Vaters<br></I>\",\"x\":[38204,38289],\"y\":[\"Svenja_se_anno_Verwandlung_Kap_1\",\"Svenja_se_anno_Verwandlung_Kap_1\"],\"type\":\"scatter\"},{\"legendgroup\":\"4\",\"marker\":{\"color\":\"#A64B21\"},\"mode\":\"lines+markers\",\"name\":\"4\",\"showlegend\":false,\"text\":\"<I><br>Die T\\u00fcr wurde noch mit dem Stock zugeschlagen<br></I>\",\"x\":[38878,38923],\"y\":[\"Svenja_se_anno_Verwandlung_Kap_1\",\"Svenja_se_anno_Verwandlung_Kap_1\"],\"type\":\"scatter\"},{\"legendgroup\":\"S\",\"marker\":{\"color\":\"#093658\"},\"mode\":\"lines+markers\",\"name\":\"S\",\"showlegend\":false,\"text\":\"<I><br>dann war es endlich stil<br></I>\",\"x\":[38926,38950],\"y\":[\"Svenja_se_anno_Verwandlung_Kap_1\",\"Svenja_se_anno_Verwandlung_Kap_1\"],\"type\":\"scatter\"}],                        {\"template\":{\"data\":{\"barpolar\":[{\"marker\":{\"line\":{\"color\":\"white\",\"width\":0.5},\"pattern\":{\"fillmode\":\"overlay\",\"size\":10,\"solidity\":0.2}},\"type\":\"barpolar\"}],\"bar\":[{\"error_x\":{\"color\":\"#2a3f5f\"},\"error_y\":{\"color\":\"#2a3f5f\"},\"marker\":{\"line\":{\"color\":\"white\",\"width\":0.5},\"pattern\":{\"fillmode\":\"overlay\",\"size\":10,\"solidity\":0.2}},\"type\":\"bar\"}],\"carpet\":[{\"aaxis\":{\"endlinecolor\":\"#2a3f5f\",\"gridcolor\":\"#C8D4E3\",\"linecolor\":\"#C8D4E3\",\"minorgridcolor\":\"#C8D4E3\",\"startlinecolor\":\"#2a3f5f\"},\"baxis\":{\"endlinecolor\":\"#2a3f5f\",\"gridcolor\":\"#C8D4E3\",\"linecolor\":\"#C8D4E3\",\"minorgridcolor\":\"#C8D4E3\",\"startlinecolor\":\"#2a3f5f\"},\"type\":\"carpet\"}],\"choropleth\":[{\"colorbar\":{\"outlinewidth\":0,\"ticks\":\"\"},\"type\":\"choropleth\"}],\"contourcarpet\":[{\"colorbar\":{\"outlinewidth\":0,\"ticks\":\"\"},\"type\":\"contourcarpet\"}],\"contour\":[{\"colorbar\":{\"outlinewidth\":0,\"ticks\":\"\"},\"colorscale\":[[0.0,\"#0d0887\"],[0.1111111111111111,\"#46039f\"],[0.2222222222222222,\"#7201a8\"],[0.3333333333333333,\"#9c179e\"],[0.4444444444444444,\"#bd3786\"],[0.5555555555555556,\"#d8576b\"],[0.6666666666666666,\"#ed7953\"],[0.7777777777777778,\"#fb9f3a\"],[0.8888888888888888,\"#fdca26\"],[1.0,\"#f0f921\"]],\"type\":\"contour\"}],\"heatmapgl\":[{\"colorbar\":{\"outlinewidth\":0,\"ticks\":\"\"},\"colorscale\":[[0.0,\"#0d0887\"],[0.1111111111111111,\"#46039f\"],[0.2222222222222222,\"#7201a8\"],[0.3333333333333333,\"#9c179e\"],[0.4444444444444444,\"#bd3786\"],[0.5555555555555556,\"#d8576b\"],[0.6666666666666666,\"#ed7953\"],[0.7777777777777778,\"#fb9f3a\"],[0.8888888888888888,\"#fdca26\"],[1.0,\"#f0f921\"]],\"type\":\"heatmapgl\"}],\"heatmap\":[{\"colorbar\":{\"outlinewidth\":0,\"ticks\":\"\"},\"colorscale\":[[0.0,\"#0d0887\"],[0.1111111111111111,\"#46039f\"],[0.2222222222222222,\"#7201a8\"],[0.3333333333333333,\"#9c179e\"],[0.4444444444444444,\"#bd3786\"],[0.5555555555555556,\"#d8576b\"],[0.6666666666666666,\"#ed7953\"],[0.7777777777777778,\"#fb9f3a\"],[0.8888888888888888,\"#fdca26\"],[1.0,\"#f0f921\"]],\"type\":\"heatmap\"}],\"histogram2dcontour\":[{\"colorbar\":{\"outlinewidth\":0,\"ticks\":\"\"},\"colorscale\":[[0.0,\"#0d0887\"],[0.1111111111111111,\"#46039f\"],[0.2222222222222222,\"#7201a8\"],[0.3333333333333333,\"#9c179e\"],[0.4444444444444444,\"#bd3786\"],[0.5555555555555556,\"#d8576b\"],[0.6666666666666666,\"#ed7953\"],[0.7777777777777778,\"#fb9f3a\"],[0.8888888888888888,\"#fdca26\"],[1.0,\"#f0f921\"]],\"type\":\"histogram2dcontour\"}],\"histogram2d\":[{\"colorbar\":{\"outlinewidth\":0,\"ticks\":\"\"},\"colorscale\":[[0.0,\"#0d0887\"],[0.1111111111111111,\"#46039f\"],[0.2222222222222222,\"#7201a8\"],[0.3333333333333333,\"#9c179e\"],[0.4444444444444444,\"#bd3786\"],[0.5555555555555556,\"#d8576b\"],[0.6666666666666666,\"#ed7953\"],[0.7777777777777778,\"#fb9f3a\"],[0.8888888888888888,\"#fdca26\"],[1.0,\"#f0f921\"]],\"type\":\"histogram2d\"}],\"histogram\":[{\"marker\":{\"pattern\":{\"fillmode\":\"overlay\",\"size\":10,\"solidity\":0.2}},\"type\":\"histogram\"}],\"mesh3d\":[{\"colorbar\":{\"outlinewidth\":0,\"ticks\":\"\"},\"type\":\"mesh3d\"}],\"parcoords\":[{\"line\":{\"colorbar\":{\"outlinewidth\":0,\"ticks\":\"\"}},\"type\":\"parcoords\"}],\"pie\":[{\"automargin\":true,\"type\":\"pie\"}],\"scatter3d\":[{\"line\":{\"colorbar\":{\"outlinewidth\":0,\"ticks\":\"\"}},\"marker\":{\"colorbar\":{\"outlinewidth\":0,\"ticks\":\"\"}},\"type\":\"scatter3d\"}],\"scattercarpet\":[{\"marker\":{\"colorbar\":{\"outlinewidth\":0,\"ticks\":\"\"}},\"type\":\"scattercarpet\"}],\"scattergeo\":[{\"marker\":{\"colorbar\":{\"outlinewidth\":0,\"ticks\":\"\"}},\"type\":\"scattergeo\"}],\"scattergl\":[{\"marker\":{\"colorbar\":{\"outlinewidth\":0,\"ticks\":\"\"}},\"type\":\"scattergl\"}],\"scattermapbox\":[{\"marker\":{\"colorbar\":{\"outlinewidth\":0,\"ticks\":\"\"}},\"type\":\"scattermapbox\"}],\"scatterpolargl\":[{\"marker\":{\"colorbar\":{\"outlinewidth\":0,\"ticks\":\"\"}},\"type\":\"scatterpolargl\"}],\"scatterpolar\":[{\"marker\":{\"colorbar\":{\"outlinewidth\":0,\"ticks\":\"\"}},\"type\":\"scatterpolar\"}],\"scatter\":[{\"marker\":{\"colorbar\":{\"outlinewidth\":0,\"ticks\":\"\"}},\"type\":\"scatter\"}],\"scatterternary\":[{\"marker\":{\"colorbar\":{\"outlinewidth\":0,\"ticks\":\"\"}},\"type\":\"scatterternary\"}],\"surface\":[{\"colorbar\":{\"outlinewidth\":0,\"ticks\":\"\"},\"colorscale\":[[0.0,\"#0d0887\"],[0.1111111111111111,\"#46039f\"],[0.2222222222222222,\"#7201a8\"],[0.3333333333333333,\"#9c179e\"],[0.4444444444444444,\"#bd3786\"],[0.5555555555555556,\"#d8576b\"],[0.6666666666666666,\"#ed7953\"],[0.7777777777777778,\"#fb9f3a\"],[0.8888888888888888,\"#fdca26\"],[1.0,\"#f0f921\"]],\"type\":\"surface\"}],\"table\":[{\"cells\":{\"fill\":{\"color\":\"#EBF0F8\"},\"line\":{\"color\":\"white\"}},\"header\":{\"fill\":{\"color\":\"#C8D4E3\"},\"line\":{\"color\":\"white\"}},\"type\":\"table\"}]},\"layout\":{\"annotationdefaults\":{\"arrowcolor\":\"#2a3f5f\",\"arrowhead\":0,\"arrowwidth\":1},\"autotypenumbers\":\"strict\",\"coloraxis\":{\"colorbar\":{\"outlinewidth\":0,\"ticks\":\"\"}},\"colorscale\":{\"diverging\":[[0,\"#8e0152\"],[0.1,\"#c51b7d\"],[0.2,\"#de77ae\"],[0.3,\"#f1b6da\"],[0.4,\"#fde0ef\"],[0.5,\"#f7f7f7\"],[0.6,\"#e6f5d0\"],[0.7,\"#b8e186\"],[0.8,\"#7fbc41\"],[0.9,\"#4d9221\"],[1,\"#276419\"]],\"sequential\":[[0.0,\"#0d0887\"],[0.1111111111111111,\"#46039f\"],[0.2222222222222222,\"#7201a8\"],[0.3333333333333333,\"#9c179e\"],[0.4444444444444444,\"#bd3786\"],[0.5555555555555556,\"#d8576b\"],[0.6666666666666666,\"#ed7953\"],[0.7777777777777778,\"#fb9f3a\"],[0.8888888888888888,\"#fdca26\"],[1.0,\"#f0f921\"]],\"sequentialminus\":[[0.0,\"#0d0887\"],[0.1111111111111111,\"#46039f\"],[0.2222222222222222,\"#7201a8\"],[0.3333333333333333,\"#9c179e\"],[0.4444444444444444,\"#bd3786\"],[0.5555555555555556,\"#d8576b\"],[0.6666666666666666,\"#ed7953\"],[0.7777777777777778,\"#fb9f3a\"],[0.8888888888888888,\"#fdca26\"],[1.0,\"#f0f921\"]]},\"colorway\":[\"#636efa\",\"#EF553B\",\"#00cc96\",\"#ab63fa\",\"#FFA15A\",\"#19d3f3\",\"#FF6692\",\"#B6E880\",\"#FF97FF\",\"#FECB52\"],\"font\":{\"color\":\"#2a3f5f\"},\"geo\":{\"bgcolor\":\"white\",\"lakecolor\":\"white\",\"landcolor\":\"white\",\"showlakes\":true,\"showland\":true,\"subunitcolor\":\"#C8D4E3\"},\"hoverlabel\":{\"align\":\"left\"},\"hovermode\":\"closest\",\"mapbox\":{\"style\":\"light\"},\"paper_bgcolor\":\"white\",\"plot_bgcolor\":\"white\",\"polar\":{\"angularaxis\":{\"gridcolor\":\"#EBF0F8\",\"linecolor\":\"#EBF0F8\",\"ticks\":\"\"},\"bgcolor\":\"white\",\"radialaxis\":{\"gridcolor\":\"#EBF0F8\",\"linecolor\":\"#EBF0F8\",\"ticks\":\"\"}},\"scene\":{\"xaxis\":{\"backgroundcolor\":\"white\",\"gridcolor\":\"#DFE8F3\",\"gridwidth\":2,\"linecolor\":\"#EBF0F8\",\"showbackground\":true,\"ticks\":\"\",\"zerolinecolor\":\"#EBF0F8\"},\"yaxis\":{\"backgroundcolor\":\"white\",\"gridcolor\":\"#DFE8F3\",\"gridwidth\":2,\"linecolor\":\"#EBF0F8\",\"showbackground\":true,\"ticks\":\"\",\"zerolinecolor\":\"#EBF0F8\"},\"zaxis\":{\"backgroundcolor\":\"white\",\"gridcolor\":\"#DFE8F3\",\"gridwidth\":2,\"linecolor\":\"#EBF0F8\",\"showbackground\":true,\"ticks\":\"\",\"zerolinecolor\":\"#EBF0F8\"}},\"shapedefaults\":{\"line\":{\"color\":\"#2a3f5f\"}},\"ternary\":{\"aaxis\":{\"gridcolor\":\"#DFE8F3\",\"linecolor\":\"#A2B1C6\",\"ticks\":\"\"},\"baxis\":{\"gridcolor\":\"#DFE8F3\",\"linecolor\":\"#A2B1C6\",\"ticks\":\"\"},\"bgcolor\":\"white\",\"caxis\":{\"gridcolor\":\"#DFE8F3\",\"linecolor\":\"#A2B1C6\",\"ticks\":\"\"}},\"title\":{\"x\":0.05},\"xaxis\":{\"automargin\":true,\"gridcolor\":\"#EBF0F8\",\"linecolor\":\"#EBF0F8\",\"ticks\":\"\",\"title\":{\"standoff\":15},\"zerolinecolor\":\"#EBF0F8\",\"zerolinewidth\":2},\"yaxis\":{\"automargin\":true,\"gridcolor\":\"#EBF0F8\",\"linecolor\":\"#EBF0F8\",\"ticks\":\"\",\"title\":{\"standoff\":15},\"zerolinecolor\":\"#EBF0F8\",\"zerolinewidth\":2}}},\"title\":{\"text\":\"Annotation Comparison by Text Span\"},\"height\":240,\"legend\":{\"font\":{\"color\":\"#5A98A1\",\"size\":10},\"orientation\":\"h\",\"yanchor\":\"bottom\",\"y\":1.02,\"xanchor\":\"right\",\"x\":1}},                        {\"responsive\": true}                    ).then(function(){\n",
       "                            \n",
       "var gd = document.getElementById('00d4521a-b891-40c9-8d16-b5647eeb16f5');\n",
       "var x = new MutationObserver(function (mutations, observer) {{\n",
       "        var display = window.getComputedStyle(gd).display;\n",
       "        if (!display || display === 'none') {{\n",
       "            console.log([gd, 'removed!']);\n",
       "            Plotly.purge(gd);\n",
       "            observer.disconnect();\n",
       "        }}\n",
       "}});\n",
       "\n",
       "// Listen for the removal of the full notebook cells\n",
       "var notebookContainer = gd.closest('#notebook-container');\n",
       "if (notebookContainer) {{\n",
       "    x.observe(notebookContainer, {childList: true});\n",
       "}}\n",
       "\n",
       "// Listen for the clearing of the current output cell\n",
       "var outputEl = gd.closest('.output');\n",
       "if (outputEl) {{\n",
       "    x.observe(outputEl, {childList: true});\n",
       "}}\n",
       "\n",
       "                        })                };                });            </script>        </div>"
      ]
     },
     "metadata": {},
     "output_type": "display_data"
    }
   ],
   "source": [
    "my_project.compare_annotation_collections(\n",
    "    annotation_collections=['Alina_se_anno_Verwandlung_Kap1', 'Svenja_se_anno_Verwandlung_Kap_1'],\n",
    "    color_col='prop:loudness'\n",
    ")"
   ]
  },
  {
   "cell_type": "markdown",
   "metadata": {},
   "source": [
    "To compute the agreement of annotation properties you just need to use the `level` parameter:"
   ]
  },
  {
   "cell_type": "code",
   "execution_count": null,
   "metadata": {},
   "outputs": [],
   "source": [
    "my_project.get_iaa(\n",
    "    ac1_name='ac_1',\n",
    "    ac2_name='ac_2',\n",
    "    level='prop:representation_type'\n",
    ")"
   ]
  },
  {
   "cell_type": "markdown",
   "metadata": {},
   "source": [
    "## `gamma_agreement()` <a class=\"anchor\" id=\"3-bullet\"></a>\n",
    "\n",
    "To compute the gamma agreement, in addition to the annotation collections, 5 further parameters\n",
    "have to be defined.\n",
    "The `alpha`, `beta` and `delta_empty` parameters are necessary to compute the\n",
    "[`CombinedCategoricalDissimilarity`](https://github.com/bootphon/pygamma-agreement/blob/master/pygamma_agreement/dissimilarity.py#L467).\n",
    "The `n_samples` and the `precision_level` values are used in the \n",
    "[`compute_gamma()` method](https://github.com/bootphon/pygamma-agreement/blob/master/pygamma_agreement/continuum.py#L805).\n",
    "See the documentation for pygamma-agreement and\n",
    "[Mathet et al. 2015](https://aclanthology.org/J15-3003.pdf)\n",
    "for further information about these parameters."
   ]
  },
  {
   "cell_type": "code",
   "execution_count": 27,
   "metadata": {},
   "outputs": [
    {
     "name": "stdout",
     "output_type": "stream",
     "text": [
      "Requirement already satisfied: pygamma-agreement in /Users/guhr/opt/anaconda3/lib/python3.9/site-packages (0.5.6)\n",
      "Requirement already satisfied: sortedcontainers>=2.0.4 in /Users/guhr/opt/anaconda3/lib/python3.9/site-packages (from pygamma-agreement) (2.4.0)\n",
      "Requirement already satisfied: numpy>=1.10.4 in /Users/guhr/opt/anaconda3/lib/python3.9/site-packages (from pygamma-agreement) (1.20.3)\n",
      "Requirement already satisfied: pyannote.core>=4.1 in /Users/guhr/opt/anaconda3/lib/python3.9/site-packages (from pygamma-agreement) (4.3)\n",
      "Requirement already satisfied: cvxpy>=1.0.25 in /Users/guhr/opt/anaconda3/lib/python3.9/site-packages (from pygamma-agreement) (1.1.18)\n",
      "Requirement already satisfied: cvxopt==1.2.7 in /Users/guhr/opt/anaconda3/lib/python3.9/site-packages (from pygamma-agreement) (1.2.7)\n",
      "Requirement already satisfied: tqdm>=4.46.0 in /Users/guhr/opt/anaconda3/lib/python3.9/site-packages (from pygamma-agreement) (4.62.3)\n",
      "Requirement already satisfied: numba>=0.54.0 in /Users/guhr/opt/anaconda3/lib/python3.9/site-packages (from pygamma-agreement) (0.54.1)\n",
      "Requirement already satisfied: typing-extensions>=3.7.4.3 in /Users/guhr/opt/anaconda3/lib/python3.9/site-packages (from pygamma-agreement) (3.10.0.2)\n",
      "Requirement already satisfied: TextGrid>=1.5 in /Users/guhr/opt/anaconda3/lib/python3.9/site-packages (from pygamma-agreement) (1.5)\n",
      "Requirement already satisfied: pympi-ling>=1.69 in /Users/guhr/opt/anaconda3/lib/python3.9/site-packages (from pygamma-agreement) (1.70.2)\n",
      "Requirement already satisfied: pyannote.database>=4.1 in /Users/guhr/opt/anaconda3/lib/python3.9/site-packages (from pygamma-agreement) (4.1.3)\n",
      "Requirement already satisfied: osqp>=0.4.1 in /Users/guhr/opt/anaconda3/lib/python3.9/site-packages (from cvxpy>=1.0.25->pygamma-agreement) (0.6.2.post5)\n",
      "Requirement already satisfied: ecos>=2 in /Users/guhr/opt/anaconda3/lib/python3.9/site-packages (from cvxpy>=1.0.25->pygamma-agreement) (2.0.10)\n",
      "Requirement already satisfied: scs>=1.1.6 in /Users/guhr/opt/anaconda3/lib/python3.9/site-packages (from cvxpy>=1.0.25->pygamma-agreement) (3.2.0)\n",
      "Requirement already satisfied: scipy>=1.1.0 in /Users/guhr/opt/anaconda3/lib/python3.9/site-packages (from cvxpy>=1.0.25->pygamma-agreement) (1.7.1)\n",
      "Requirement already satisfied: llvmlite<0.38,>=0.37.0rc1 in /Users/guhr/opt/anaconda3/lib/python3.9/site-packages (from numba>=0.54.0->pygamma-agreement) (0.37.0)\n",
      "Requirement already satisfied: setuptools in /Users/guhr/opt/anaconda3/lib/python3.9/site-packages (from numba>=0.54.0->pygamma-agreement) (66.0.0)\n",
      "Requirement already satisfied: simplejson>=3.8.1 in /Users/guhr/opt/anaconda3/lib/python3.9/site-packages (from pyannote.core>=4.1->pygamma-agreement) (3.17.6)\n",
      "Requirement already satisfied: pyYAML>=3.12 in /Users/guhr/opt/anaconda3/lib/python3.9/site-packages (from pyannote.database>=4.1->pygamma-agreement) (5.4.1)\n",
      "Requirement already satisfied: pandas>=0.19 in /Users/guhr/opt/anaconda3/lib/python3.9/site-packages (from pyannote.database>=4.1->pygamma-agreement) (1.3.5)\n",
      "Requirement already satisfied: typer>=0.2.1 in /Users/guhr/opt/anaconda3/lib/python3.9/site-packages (from typer[all]>=0.2.1->pyannote.database>=4.1->pygamma-agreement) (0.4.0)\n",
      "Requirement already satisfied: qdldl in /Users/guhr/opt/anaconda3/lib/python3.9/site-packages (from osqp>=0.4.1->cvxpy>=1.0.25->pygamma-agreement) (0.1.5.post0)\n",
      "Requirement already satisfied: python-dateutil>=2.7.3 in /Users/guhr/opt/anaconda3/lib/python3.9/site-packages (from pandas>=0.19->pyannote.database>=4.1->pygamma-agreement) (2.8.2)\n",
      "Requirement already satisfied: pytz>=2017.3 in /Users/guhr/opt/anaconda3/lib/python3.9/site-packages (from pandas>=0.19->pyannote.database>=4.1->pygamma-agreement) (2021.3)\n",
      "Requirement already satisfied: click<9.0.0,>=7.1.1 in /Users/guhr/opt/anaconda3/lib/python3.9/site-packages (from typer>=0.2.1->typer[all]>=0.2.1->pyannote.database>=4.1->pygamma-agreement) (7.1.2)\n",
      "Requirement already satisfied: colorama<0.5.0,>=0.4.3 in /Users/guhr/opt/anaconda3/lib/python3.9/site-packages (from typer[all]>=0.2.1->pyannote.database>=4.1->pygamma-agreement) (0.4.4)\n",
      "Requirement already satisfied: shellingham<2.0.0,>=1.3.0 in /Users/guhr/opt/anaconda3/lib/python3.9/site-packages (from typer[all]>=0.2.1->pyannote.database>=4.1->pygamma-agreement) (1.5.3)\n",
      "Requirement already satisfied: six>=1.5 in /Users/guhr/opt/anaconda3/lib/python3.9/site-packages (from python-dateutil>=2.7.3->pandas>=0.19->pyannote.database>=4.1->pygamma-agreement) (1.15.0)\n",
      "\u001b[33mDEPRECATION: pyodbc 4.0.0-unsupported has a non-standard version number. pip 24.1 will enforce this behaviour change. A possible replacement is to upgrade to a newer version of pyodbc or contact the author to suggest that they release a version with a conforming version number. Discussion can be found at https://github.com/pypa/pip/issues/12063\u001b[0m\u001b[33m\n",
      "\u001b[0m"
     ]
    }
   ],
   "source": [
    "!pip install pygamma-agreement"
   ]
  },
  {
   "cell_type": "code",
   "execution_count": 58,
   "metadata": {},
   "outputs": [
    {
     "ename": "AssertionError",
     "evalue": "Disorder cannot be computed with less than two annotators, or without annotations.",
     "output_type": "error",
     "traceback": [
      "\u001b[0;31m---------------------------------------------------------------------------\u001b[0m",
      "\u001b[0;31mAssertionError\u001b[0m                            Traceback (most recent call last)",
      "\u001b[0;32m/var/folders/qf/cmgr81q1733_dshx90_j6r9c0000gp/T/ipykernel_2784/2817185578.py\u001b[0m in \u001b[0;36m<module>\u001b[0;34m\u001b[0m\n\u001b[1;32m      1\u001b[0m \u001b[0;31m# gamma agreement with default settings\u001b[0m\u001b[0;34m\u001b[0m\u001b[0;34m\u001b[0m\u001b[0m\n\u001b[0;32m----> 2\u001b[0;31m my_project.gamma_agreement(\n\u001b[0m\u001b[1;32m      3\u001b[0m     \u001b[0mannotation_collections\u001b[0m\u001b[0;34m=\u001b[0m\u001b[0;34m[\u001b[0m\u001b[0;34m'Alina_se_anno_Verwandlung_Kap1'\u001b[0m\u001b[0;34m,\u001b[0m \u001b[0;34m'Svenja_se_anno_Verwandlung_Kap_1'\u001b[0m\u001b[0;34m]\u001b[0m\u001b[0;34m,\u001b[0m\u001b[0;34m\u001b[0m\u001b[0;34m\u001b[0m\u001b[0m\n\u001b[1;32m      4\u001b[0m     \u001b[0malpha\u001b[0m\u001b[0;34m=\u001b[0m\u001b[0;36m3\u001b[0m\u001b[0;34m,\u001b[0m\u001b[0;34m\u001b[0m\u001b[0;34m\u001b[0m\u001b[0m\n\u001b[1;32m      5\u001b[0m     \u001b[0mbeta\u001b[0m\u001b[0;34m=\u001b[0m\u001b[0;36m1\u001b[0m\u001b[0;34m,\u001b[0m\u001b[0;34m\u001b[0m\u001b[0;34m\u001b[0m\u001b[0m\n",
      "\u001b[0;32m~/opt/anaconda3/lib/python3.9/site-packages/gitma/project.py\u001b[0m in \u001b[0;36mgamma_agreement\u001b[0;34m(self, annotation_collections, alpha, beta, delta_empty, n_samples, precision_level)\u001b[0m\n\u001b[1;32m    801\u001b[0m         \u001b[0mn_samples\u001b[0m\u001b[0;34m:\u001b[0m \u001b[0mint\u001b[0m \u001b[0;34m=\u001b[0m \u001b[0;36m30\u001b[0m\u001b[0;34m,\u001b[0m\u001b[0;34m\u001b[0m\u001b[0;34m\u001b[0m\u001b[0m\n\u001b[1;32m    802\u001b[0m         precision_level: int = 0.01):\n\u001b[0;32m--> 803\u001b[0;31m         gamma_agreement(\n\u001b[0m\u001b[1;32m    804\u001b[0m             \u001b[0mproject\u001b[0m\u001b[0;34m=\u001b[0m\u001b[0mself\u001b[0m\u001b[0;34m,\u001b[0m\u001b[0;34m\u001b[0m\u001b[0;34m\u001b[0m\u001b[0m\n\u001b[1;32m    805\u001b[0m             \u001b[0mannotation_collections\u001b[0m\u001b[0;34m=\u001b[0m\u001b[0mannotation_collections\u001b[0m\u001b[0;34m,\u001b[0m\u001b[0;34m\u001b[0m\u001b[0;34m\u001b[0m\u001b[0m\n",
      "\u001b[0;32m~/opt/anaconda3/lib/python3.9/site-packages/gitma/_metrics.py\u001b[0m in \u001b[0;36mgamma_agreement\u001b[0;34m(project, annotation_collections, alpha, beta, delta_empty, n_samples, precision_level)\u001b[0m\n\u001b[1;32m    395\u001b[0m     )\n\u001b[1;32m    396\u001b[0m \u001b[0;34m\u001b[0m\u001b[0m\n\u001b[0;32m--> 397\u001b[0;31m     gamma_results = continuum.compute_gamma(\n\u001b[0m\u001b[1;32m    398\u001b[0m         \u001b[0mdissimilarity\u001b[0m\u001b[0;34m,\u001b[0m\u001b[0;34m\u001b[0m\u001b[0;34m\u001b[0m\u001b[0m\n\u001b[1;32m    399\u001b[0m         \u001b[0mn_samples\u001b[0m\u001b[0;34m=\u001b[0m\u001b[0mn_samples\u001b[0m\u001b[0;34m,\u001b[0m\u001b[0;34m\u001b[0m\u001b[0;34m\u001b[0m\u001b[0m\n",
      "\u001b[0;32m~/opt/anaconda3/lib/python3.9/site-packages/pygamma_agreement/continuum.py\u001b[0m in \u001b[0;36mcompute_gamma\u001b[0;34m(self, dissimilarity, n_samples, precision_level, ground_truth_annotators, sampler, fast, soft)\u001b[0m\n\u001b[1;32m    877\u001b[0m \u001b[0;34m\u001b[0m\u001b[0m\n\u001b[1;32m    878\u001b[0m             \u001b[0;31m# Obtaining results\u001b[0m\u001b[0;34m\u001b[0m\u001b[0;34m\u001b[0m\u001b[0m\n\u001b[0;32m--> 879\u001b[0;31m             \u001b[0mbest_alignment\u001b[0m \u001b[0;34m=\u001b[0m \u001b[0mbest_alignment_task\u001b[0m\u001b[0;34m.\u001b[0m\u001b[0mresult\u001b[0m\u001b[0;34m(\u001b[0m\u001b[0;34m)\u001b[0m\u001b[0;34m\u001b[0m\u001b[0;34m\u001b[0m\u001b[0m\n\u001b[0m\u001b[1;32m    880\u001b[0m             \u001b[0mlogging\u001b[0m\u001b[0;34m.\u001b[0m\u001b[0minfo\u001b[0m\u001b[0;34m(\u001b[0m\u001b[0;34m\"Best alignment obtained\"\u001b[0m\u001b[0;34m)\u001b[0m\u001b[0;34m\u001b[0m\u001b[0;34m\u001b[0m\u001b[0m\n\u001b[1;32m    881\u001b[0m             \u001b[0;32mfor\u001b[0m \u001b[0mi\u001b[0m\u001b[0;34m,\u001b[0m \u001b[0mresult\u001b[0m \u001b[0;32min\u001b[0m \u001b[0menumerate\u001b[0m\u001b[0;34m(\u001b[0m\u001b[0mresult_pool\u001b[0m\u001b[0;34m)\u001b[0m\u001b[0;34m:\u001b[0m\u001b[0;34m\u001b[0m\u001b[0;34m\u001b[0m\u001b[0m\n",
      "\u001b[0;32m~/opt/anaconda3/lib/python3.9/concurrent/futures/_base.py\u001b[0m in \u001b[0;36mresult\u001b[0;34m(self, timeout)\u001b[0m\n\u001b[1;32m    436\u001b[0m                     \u001b[0;32mraise\u001b[0m \u001b[0mCancelledError\u001b[0m\u001b[0;34m(\u001b[0m\u001b[0;34m)\u001b[0m\u001b[0;34m\u001b[0m\u001b[0;34m\u001b[0m\u001b[0m\n\u001b[1;32m    437\u001b[0m                 \u001b[0;32melif\u001b[0m \u001b[0mself\u001b[0m\u001b[0;34m.\u001b[0m\u001b[0m_state\u001b[0m \u001b[0;34m==\u001b[0m \u001b[0mFINISHED\u001b[0m\u001b[0;34m:\u001b[0m\u001b[0;34m\u001b[0m\u001b[0;34m\u001b[0m\u001b[0m\n\u001b[0;32m--> 438\u001b[0;31m                     \u001b[0;32mreturn\u001b[0m \u001b[0mself\u001b[0m\u001b[0;34m.\u001b[0m\u001b[0m__get_result\u001b[0m\u001b[0;34m(\u001b[0m\u001b[0;34m)\u001b[0m\u001b[0;34m\u001b[0m\u001b[0;34m\u001b[0m\u001b[0m\n\u001b[0m\u001b[1;32m    439\u001b[0m \u001b[0;34m\u001b[0m\u001b[0m\n\u001b[1;32m    440\u001b[0m                 \u001b[0mself\u001b[0m\u001b[0;34m.\u001b[0m\u001b[0m_condition\u001b[0m\u001b[0;34m.\u001b[0m\u001b[0mwait\u001b[0m\u001b[0;34m(\u001b[0m\u001b[0mtimeout\u001b[0m\u001b[0;34m)\u001b[0m\u001b[0;34m\u001b[0m\u001b[0;34m\u001b[0m\u001b[0m\n",
      "\u001b[0;32m~/opt/anaconda3/lib/python3.9/concurrent/futures/_base.py\u001b[0m in \u001b[0;36m__get_result\u001b[0;34m(self)\u001b[0m\n\u001b[1;32m    388\u001b[0m         \u001b[0;32mif\u001b[0m \u001b[0mself\u001b[0m\u001b[0;34m.\u001b[0m\u001b[0m_exception\u001b[0m\u001b[0;34m:\u001b[0m\u001b[0;34m\u001b[0m\u001b[0;34m\u001b[0m\u001b[0m\n\u001b[1;32m    389\u001b[0m             \u001b[0;32mtry\u001b[0m\u001b[0;34m:\u001b[0m\u001b[0;34m\u001b[0m\u001b[0;34m\u001b[0m\u001b[0m\n\u001b[0;32m--> 390\u001b[0;31m                 \u001b[0;32mraise\u001b[0m \u001b[0mself\u001b[0m\u001b[0;34m.\u001b[0m\u001b[0m_exception\u001b[0m\u001b[0;34m\u001b[0m\u001b[0;34m\u001b[0m\u001b[0m\n\u001b[0m\u001b[1;32m    391\u001b[0m             \u001b[0;32mfinally\u001b[0m\u001b[0;34m:\u001b[0m\u001b[0;34m\u001b[0m\u001b[0;34m\u001b[0m\u001b[0m\n\u001b[1;32m    392\u001b[0m                 \u001b[0;31m# Break a reference cycle with the exception in self._exception\u001b[0m\u001b[0;34m\u001b[0m\u001b[0;34m\u001b[0m\u001b[0m\n",
      "\u001b[0;32m~/opt/anaconda3/lib/python3.9/concurrent/futures/thread.py\u001b[0m in \u001b[0;36mrun\u001b[0;34m(self)\u001b[0m\n\u001b[1;32m     50\u001b[0m \u001b[0;34m\u001b[0m\u001b[0m\n\u001b[1;32m     51\u001b[0m         \u001b[0;32mtry\u001b[0m\u001b[0;34m:\u001b[0m\u001b[0;34m\u001b[0m\u001b[0;34m\u001b[0m\u001b[0m\n\u001b[0;32m---> 52\u001b[0;31m             \u001b[0mresult\u001b[0m \u001b[0;34m=\u001b[0m \u001b[0mself\u001b[0m\u001b[0;34m.\u001b[0m\u001b[0mfn\u001b[0m\u001b[0;34m(\u001b[0m\u001b[0;34m*\u001b[0m\u001b[0mself\u001b[0m\u001b[0;34m.\u001b[0m\u001b[0margs\u001b[0m\u001b[0;34m,\u001b[0m \u001b[0;34m**\u001b[0m\u001b[0mself\u001b[0m\u001b[0;34m.\u001b[0m\u001b[0mkwargs\u001b[0m\u001b[0;34m)\u001b[0m\u001b[0;34m\u001b[0m\u001b[0;34m\u001b[0m\u001b[0m\n\u001b[0m\u001b[1;32m     53\u001b[0m         \u001b[0;32mexcept\u001b[0m \u001b[0mBaseException\u001b[0m \u001b[0;32mas\u001b[0m \u001b[0mexc\u001b[0m\u001b[0;34m:\u001b[0m\u001b[0;34m\u001b[0m\u001b[0;34m\u001b[0m\u001b[0m\n\u001b[1;32m     54\u001b[0m             \u001b[0mself\u001b[0m\u001b[0;34m.\u001b[0m\u001b[0mfuture\u001b[0m\u001b[0;34m.\u001b[0m\u001b[0mset_exception\u001b[0m\u001b[0;34m(\u001b[0m\u001b[0mexc\u001b[0m\u001b[0;34m)\u001b[0m\u001b[0;34m\u001b[0m\u001b[0;34m\u001b[0m\u001b[0m\n",
      "\u001b[0;32m~/opt/anaconda3/lib/python3.9/site-packages/pygamma_agreement/continuum.py\u001b[0m in \u001b[0;36m_compute_best_alignment_job\u001b[0;34m(dissimilarity, continuum)\u001b[0m\n\u001b[1;32m   1037\u001b[0m     \u001b[0musing\u001b[0m \u001b[0mthe\u001b[0m \u001b[0mgiven\u001b[0m \u001b[0mdissimilarity\u001b[0m\u001b[0;34m.\u001b[0m\u001b[0;34m\u001b[0m\u001b[0;34m\u001b[0m\u001b[0m\n\u001b[1;32m   1038\u001b[0m     \"\"\"\n\u001b[0;32m-> 1039\u001b[0;31m     \u001b[0;32mreturn\u001b[0m \u001b[0mcontinuum\u001b[0m\u001b[0;34m.\u001b[0m\u001b[0mget_best_alignment\u001b[0m\u001b[0;34m(\u001b[0m\u001b[0mdissimilarity\u001b[0m\u001b[0;34m)\u001b[0m\u001b[0;34m\u001b[0m\u001b[0;34m\u001b[0m\u001b[0m\n\u001b[0m\u001b[1;32m   1040\u001b[0m \u001b[0;34m\u001b[0m\u001b[0m\n\u001b[1;32m   1041\u001b[0m \u001b[0;34m\u001b[0m\u001b[0m\n",
      "\u001b[0;32m~/opt/anaconda3/lib/python3.9/site-packages/pygamma_agreement/continuum.py\u001b[0m in \u001b[0;36mget_best_alignment\u001b[0;34m(self, dissimilarity)\u001b[0m\n\u001b[1;32m    753\u001b[0m             \u001b[0mthe\u001b[0m \u001b[0mdissimilarity\u001b[0m \u001b[0mthat\u001b[0m \u001b[0mwill\u001b[0m \u001b[0mbe\u001b[0m \u001b[0mused\u001b[0m \u001b[0mto\u001b[0m \u001b[0mcompute\u001b[0m \u001b[0munit\u001b[0m\u001b[0;34m-\u001b[0m\u001b[0mto\u001b[0m\u001b[0;34m-\u001b[0m\u001b[0munit\u001b[0m \u001b[0mdisorder\u001b[0m\u001b[0;34m.\u001b[0m\u001b[0;34m\u001b[0m\u001b[0;34m\u001b[0m\u001b[0m\n\u001b[1;32m    754\u001b[0m         \"\"\"\n\u001b[0;32m--> 755\u001b[0;31m         \u001b[0;32massert\u001b[0m \u001b[0mlen\u001b[0m\u001b[0;34m(\u001b[0m\u001b[0mself\u001b[0m\u001b[0;34m.\u001b[0m\u001b[0mannotators\u001b[0m\u001b[0;34m)\u001b[0m \u001b[0;34m>=\u001b[0m \u001b[0;36m2\u001b[0m \u001b[0;32mand\u001b[0m \u001b[0mself\u001b[0m\u001b[0;34m,\u001b[0m \u001b[0;34m\"Disorder cannot be computed with less than two annotators, or \"\u001b[0m\u001b[0;31m \u001b[0m\u001b[0;31m\\\u001b[0m\u001b[0;34m\u001b[0m\u001b[0;34m\u001b[0m\u001b[0m\n\u001b[0m\u001b[1;32m    756\u001b[0m                                                    \u001b[0;34m\"without annotations.\"\u001b[0m\u001b[0;34m\u001b[0m\u001b[0;34m\u001b[0m\u001b[0m\n\u001b[1;32m    757\u001b[0m \u001b[0;34m\u001b[0m\u001b[0m\n",
      "\u001b[0;31mAssertionError\u001b[0m: Disorder cannot be computed with less than two annotators, or without annotations."
     ]
    }
   ],
   "source": [
    "# gamma agreement with default settings\n",
    "my_project.gamma_agreement(\n",
    "    annotation_collections=['Alina_se_anno_Verwandlung_Kap1', 'Svenja_se_anno_Verwandlung_Kap_1'],\n",
    "    alpha=3,\n",
    "    beta=1,\n",
    "    delta_empty=0.01,\n",
    "    n_samples=30,\n",
    "    precision_level=0.01\n",
    ")"
   ]
  },
  {
   "cell_type": "markdown",
   "metadata": {},
   "source": [
    "If you want to work with a different dissimillarity algorithm,\n",
    "consider using pygamma-agreement directly.\n",
    "For this purpose you can save all annotations in a project as a CSV file\n",
    "in the format pygamma-agreement takes as input:"
   ]
  },
  {
   "cell_type": "code",
   "execution_count": 26,
   "metadata": {},
   "outputs": [
    {
     "data": {
      "text/html": [
       "<div>\n",
       "<style scoped>\n",
       "    .dataframe tbody tr th:only-of-type {\n",
       "        vertical-align: middle;\n",
       "    }\n",
       "\n",
       "    .dataframe tbody tr th {\n",
       "        vertical-align: top;\n",
       "    }\n",
       "\n",
       "    .dataframe thead th {\n",
       "        text-align: right;\n",
       "    }\n",
       "</style>\n",
       "<table border=\"1\" class=\"dataframe\">\n",
       "  <thead>\n",
       "    <tr style=\"text-align: right;\">\n",
       "      <th></th>\n",
       "      <th>annotator</th>\n",
       "      <th>tag</th>\n",
       "      <th>start_point</th>\n",
       "      <th>end_point</th>\n",
       "    </tr>\n",
       "  </thead>\n",
       "  <tbody>\n",
       "    <tr>\n",
       "      <th>0</th>\n",
       "      <td>102354118766956405180google_com</td>\n",
       "      <td>ambient_sound</td>\n",
       "      <td>679</td>\n",
       "      <td>728</td>\n",
       "    </tr>\n",
       "    <tr>\n",
       "      <th>1</th>\n",
       "      <td>102354118766956405180google_com</td>\n",
       "      <td>ambient_sound</td>\n",
       "      <td>4302</td>\n",
       "      <td>4331</td>\n",
       "    </tr>\n",
       "    <tr>\n",
       "      <th>2</th>\n",
       "      <td>102354118766956405180google_com</td>\n",
       "      <td>ambient_sound</td>\n",
       "      <td>5754</td>\n",
       "      <td>5799</td>\n",
       "    </tr>\n",
       "    <tr>\n",
       "      <th>3</th>\n",
       "      <td>102354118766956405180google_com</td>\n",
       "      <td>character_sound</td>\n",
       "      <td>5803</td>\n",
       "      <td>5862</td>\n",
       "    </tr>\n",
       "    <tr>\n",
       "      <th>4</th>\n",
       "      <td>102354118766956405180google_com</td>\n",
       "      <td>character_sound</td>\n",
       "      <td>5877</td>\n",
       "      <td>5886</td>\n",
       "    </tr>\n",
       "  </tbody>\n",
       "</table>\n",
       "</div>"
      ],
      "text/plain": [
       "                         annotator              tag  start_point  end_point\n",
       "0  102354118766956405180google_com    ambient_sound          679        728\n",
       "1  102354118766956405180google_com    ambient_sound         4302       4331\n",
       "2  102354118766956405180google_com    ambient_sound         5754       5799\n",
       "3  102354118766956405180google_com  character_sound         5803       5862\n",
       "4  102354118766956405180google_com  character_sound         5877       5886"
      ]
     },
     "execution_count": 26,
     "metadata": {},
     "output_type": "execute_result"
    }
   ],
   "source": [
    "pygamma_df = my_project.pygamma_table(\n",
    "    annotation_collections=['Alina_se_anno_Verwandlung_Kap1', 'Svenja_se_anno_Verwandlung_Kap_1']\n",
    ")\n",
    "\n",
    "# save\n",
    "pygamma_df.to_csv('../downloads/CATMA_E55331DD-BC9F-4D67-AC46-B9C03535440B_Evaluation_Sound_Annotation/pygamma_table.csv', index=False, header=False)\n",
    "\n",
    "# show example\n",
    "pygamma_df.head(5)"
   ]
  },
  {
   "cell_type": "markdown",
   "metadata": {},
   "source": [
    "The following is Svenja's own extension of the GitMA notebook to try the pygamma agreement with the code taken from the documentation (https://pygamma-agreement.readthedocs.io/en/latest/quickstart.html)."
   ]
  },
  {
   "cell_type": "code",
   "execution_count": 32,
   "metadata": {},
   "outputs": [],
   "source": [
    "#Sample Data from pygamma example to try the code\n",
    "\n",
    "from pygamma_agreement import Continuum\n",
    "from pyannote.core import Segment\n",
    "\n",
    "continuum = Continuum()\n",
    "continuum.add(\"Annotator1\", Segment(2.5, 4.3), \"Maureen\")\n",
    "continuum.add(\"Annotator1\", Segment(4.6, 7.4), \"Marvin\")\n",
    "continuum.add(\"Annotator1\", Segment(8.2, 11.4), \"Marvin\")\n",
    "continuum.add(\"Annotator1\", Segment(13.5, 16.0), \"Robin\")\n",
    "\n",
    "continuum.add(\"Annotator2\", Segment(2.3, 4.5), \"Maureen\")\n",
    "continuum.add(\"Annotator2\", Segment(4.3, 7.2), \"Marvin\")\n",
    "continuum.add(\"Annotator2\", Segment(7.9, 11.2), \"Robin\")\n",
    "continuum.add(\"Annotator2\", Segment(13.0, 16.1), \"Maureen\")\n",
    "\n",
    "continuum.add(\"Annotator3\", Segment(2.5, 4.3), \"Maureen\")\n",
    "continuum.add(\"Annotator3\", Segment(4.6, 11.5), \"Marvin\")\n",
    "continuum.add(\"Annotator3\", Segment(13.1, 17.1), \"Robin\")"
   ]
  },
  {
   "cell_type": "code",
   "execution_count": 33,
   "metadata": {},
   "outputs": [
    {
     "name": "stderr",
     "output_type": "stream",
     "text": [
      "/Users/guhr/opt/anaconda3/lib/python3.9/site-packages/pygamma_agreement/notebook.py:358: UserWarning:\n",
      "\n",
      "Matplotlib is currently using module://matplotlib_inline.backend_inline, which is a non-GUI backend, so cannot show the figure.\n",
      "\n"
     ]
    },
    {
     "data": {
      "image/png": "[encoded data removed]",
      "text/plain": [
       "<Figure size 1440x144 with 1 Axes>"
      ]
     },
     "metadata": {
      "needs_background": "light"
     },
     "output_type": "display_data"
    }
   ],
   "source": [
    "from pygamma_agreement import show_continuum\n",
    "show_continuum(continuum, labelled=True)"
   ]
  },
  {
   "cell_type": "code",
   "execution_count": 52,
   "metadata": {},
   "outputs": [
    {
     "data": {
      "image/png": "[encoded data removed]",
      "text/plain": [
       "<pygamma_agreement.continuum.Continuum at 0x7fae5ae313d0>"
      ]
     },
     "execution_count": 52,
     "metadata": {},
     "output_type": "execute_result"
    }
   ],
   "source": [
    "\n",
    "continuum = Continuum.from_csv('/Users/guhr/Downloads/CATMA_E55331DD-BC9F-4D67-AC46-B9C03535440B_Evaluation_Sound_Annotation/pygamma_table_Verwandlung.csv')\n",
    "\n",
    "continuum\n",
    "\n",
    "\n",
    "\n",
    "\n"
   ]
  },
  {
   "cell_type": "code",
   "execution_count": 57,
   "metadata": {},
   "outputs": [
    {
     "data": {
      "image/png": "[encoded data removed]",
      "text/plain": [
       "<Figure size 1440x144 with 1 Axes>"
      ]
     },
     "metadata": {
      "needs_background": "light"
     },
     "output_type": "display_data"
    }
   ],
   "source": [
    "from pygamma_agreement import show_continuum\n",
    "show_continuum(continuum, labelled=False)"
   ]
  },
  {
   "cell_type": "code",
   "execution_count": 59,
   "metadata": {},
   "outputs": [],
   "source": [
    "from pygamma_agreement import CombinedCategoricalDissimilarity\n",
    "\n",
    "dissim = CombinedCategoricalDissimilarity(alpha=1, beta=2)"
   ]
  },
  {
   "cell_type": "code",
   "execution_count": 60,
   "metadata": {},
   "outputs": [
    {
     "name": "stderr",
     "output_type": "stream",
     "text": [
      "WARNING:root:CBC solver not installed. Using GLPK.\n",
      "WARNING:root:CBC solver not installed. Using GLPK.\n",
      "WARNING:root:CBC solver not installed. Using GLPK.\n",
      "WARNING:root:CBC solver not installed. Using GLPK.\n",
      "WARNING:root:CBC solver not installed. Using GLPK.\n",
      "WARNING:root:CBC solver not installed. Using GLPK.\n",
      "WARNING:root:CBC solver not installed. Using GLPK.\n"
     ]
    },
    {
     "name": "stdout",
     "output_type": "stream",
     "text": [
      "Long-step dual simplex will be used\n",
      "Long-step dual simplex will be used\n",
      "Long-step dual simplex will be used\n",
      "Long-step dual simplex will be used\n",
      "Long-step dual simplex will be used\n",
      "Long-step dual simplex will be used\n"
     ]
    },
    {
     "name": "stderr",
     "output_type": "stream",
     "text": [
      "WARNING:root:CBC solver not installed. Using GLPK.\n",
      "WARNING:root:CBC solver not installed. Using GLPK.\n",
      "WARNING:root:CBC solver not installed. Using GLPK.\n",
      "WARNING:root:CBC solver not installed. Using GLPK.\n",
      "WARNING:root:CBC solver not installed. Using GLPK.\n",
      "WARNING:root:CBC solver not installed. Using GLPK.\n"
     ]
    },
    {
     "name": "stdout",
     "output_type": "stream",
     "text": [
      "Long-step dual simplex will be used\n",
      "Long-step dual simplex will be used\n",
      "Long-step dual simplex will be used\n",
      "Long-step dual simplex will be used\n",
      "Long-step dual simplex will be used\n"
     ]
    },
    {
     "name": "stderr",
     "output_type": "stream",
     "text": [
      "WARNING:root:CBC solver not installed. Using GLPK.\n",
      "WARNING:root:CBC solver not installed. Using GLPK.\n",
      "WARNING:root:CBC solver not installed. Using GLPK.\n",
      "WARNING:root:CBC solver not installed. Using GLPK.\n",
      "WARNING:root:CBC solver not installed. Using GLPK.\n",
      "WARNING:root:CBC solver not installed. Using GLPK.\n",
      "WARNING:root:CBC solver not installed. Using GLPK.\n"
     ]
    },
    {
     "name": "stdout",
     "output_type": "stream",
     "text": [
      "Long-step dual simplex will be used\n",
      "Long-step dual simplex will be used\n",
      "Long-step dual simplex will be used\n",
      "Long-step dual simplex will be used\n",
      "Long-step dual simplex will be used\n",
      "Long-step dual simplex will be used\n"
     ]
    },
    {
     "name": "stderr",
     "output_type": "stream",
     "text": [
      "WARNING:root:CBC solver not installed. Using GLPK.\n",
      "WARNING:root:CBC solver not installed. Using GLPK.\n",
      "WARNING:root:CBC solver not installed. Using GLPK.\n",
      "WARNING:root:CBC solver not installed. Using GLPK.\n",
      "WARNING:root:CBC solver not installed. Using GLPK.\n",
      "WARNING:root:CBC solver not installed. Using GLPK.\n"
     ]
    },
    {
     "name": "stdout",
     "output_type": "stream",
     "text": [
      "Long-step dual simplex will be used\n",
      "Long-step dual simplex will be used\n",
      "Long-step dual simplex will be used\n",
      "Long-step dual simplex will be used\n",
      "Long-step dual simplex will be used\n",
      "Long-step dual simplex will be used\n",
      "Long-step dual simplex will be used\n"
     ]
    },
    {
     "name": "stderr",
     "output_type": "stream",
     "text": [
      "WARNING:root:CBC solver not installed. Using GLPK.\n",
      "WARNING:root:CBC solver not installed. Using GLPK.\n",
      "WARNING:root:CBC solver not installed. Using GLPK.\n",
      "WARNING:root:CBC solver not installed. Using GLPK.\n",
      "WARNING:root:CBC solver not installed. Using GLPK.\n"
     ]
    },
    {
     "name": "stdout",
     "output_type": "stream",
     "text": [
      "Long-step dual simplex will be used\n",
      "Long-step dual simplex will be used\n",
      "Long-step dual simplex will be used\n",
      "Long-step dual simplex will be used\n",
      "Long-step dual simplex will be used\n",
      "Long-step dual simplex will be used\n",
      "Long-step dual simplex will be used\n",
      "The gamma for that annotation is f0.8217608008927961\n"
     ]
    }
   ],
   "source": [
    "gamma_results = continuum.compute_gamma(dissim)\n",
    "print(f\"The gamma for that annotation is f{gamma_results.gamma}\")"
   ]
  },
  {
   "cell_type": "code",
   "execution_count": 44,
   "metadata": {},
   "outputs": [
    {
     "name": "stderr",
     "output_type": "stream",
     "text": [
      "/Users/guhr/opt/anaconda3/lib/python3.9/site-packages/pygamma_agreement/notebook.py:368: UserWarning:\n",
      "\n",
      "Matplotlib is currently using module://matplotlib_inline.backend_inline, which is a non-GUI backend, so cannot show the figure.\n",
      "\n"
     ]
    },
    {
     "data": {
      "image/png": "[encoded data removed]",
      "text/plain": [
       "<Figure size 1440x144 with 1 Axes>"
      ]
     },
     "metadata": {
      "needs_background": "light"
     },
     "output_type": "display_data"
    }
   ],
   "source": [
    "from pygamma_agreement import show_alignment\n",
    "show_alignment(gamma_results.best_alignment, labelled=False)"
   ]
  },
  {
   "cell_type": "code",
   "execution_count": null,
   "metadata": {},
   "outputs": [],
   "source": []
  }
 ],
 "metadata": {
  "interpreter": {
   "hash": "0aeb839bc1fa9071e2c89c506d6a5f005efc3f16a8f217a2b2b732963ddcf6b9"
  },
  "kernelspec": {
   "display_name": "Python 3 (ipykernel)",
   "language": "python",
   "name": "python3"
  },
  "language_info": {
   "codemirror_mode": {
    "name": "ipython",
    "version": 3
   },
   "file_extension": ".py",
   "mimetype": "text/x-python",
   "name": "python",
   "nbconvert_exporter": "python",
   "pygments_lexer": "ipython3",
   "version": "3.9.7"
  }
 },
 "nbformat": 4,
 "nbformat_minor": 2
}
